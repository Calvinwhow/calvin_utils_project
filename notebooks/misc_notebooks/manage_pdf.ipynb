{
 "cells": [
  {
   "cell_type": "code",
   "execution_count": 1,
   "metadata": {},
   "outputs": [],
   "source": [
    "import PyPDF2\n",
    "\n",
    "# Open the original PDF\n",
    "with open('/Users/cu135/Library/CloudStorage/OneDrive-Personal/OneDrive_Documents/Grants/2024/CIHR_Fellowship/Sex_and_Gender_in_the_Analysis_of_Secondary_Data_from_Human_Participants-Certificate_of_Completion_43170.pdf', 'rb') as pdf_file:\n",
    "    reader = PyPDF2.PdfReader(pdf_file)\n",
    "    \n",
    "    # Create a new PDF writer object\n",
    "    writer = PyPDF2.PdfWriter()\n",
    "    \n",
    "    # Add the page you want (e.g., the first page, index 0)\n",
    "    writer.add_page(reader.pages[0])\n",
    "    \n",
    "    # Save it to a new PDF\n",
    "    with open('/Users/cu135/Library/CloudStorage/OneDrive-Personal/OneDrive_Documents/Grants/2024/CIHR_Fellowship/sgba_cert.pdf', 'wb') as output_pdf:\n",
    "        writer.write(output_pdf)\n"
   ]
  },
  {
   "cell_type": "code",
   "execution_count": 7,
   "metadata": {},
   "outputs": [],
   "source": [
    "import os\n",
    "from PyPDF2 import PdfReader, PdfWriter\n",
    "\n",
    "def clean_pdf(input_pdf_path):\n",
    "    # Ensure the input file exists\n",
    "    if not os.path.exists(input_pdf_path):\n",
    "        raise FileNotFoundError(f\"File not found: {input_pdf_path}\")\n",
    "\n",
    "    # Create output file path by adding '_clean' to the original filename\n",
    "    base_name, ext = os.path.splitext(input_pdf_path)\n",
    "    output_pdf_path = f\"{base_name}_clean.pdf\"\n",
    "\n",
    "    # Read the original PDF and write its contents to a new file\n",
    "    reader = PdfReader(input_pdf_path)\n",
    "    writer = PdfWriter()\n",
    "\n",
    "    # Copy pages directly without modification\n",
    "    for page_num in range(len(reader.pages)):\n",
    "        writer.add_page(reader.pages[page_num])\n",
    "\n",
    "    # Write the new PDF file\n",
    "    with open(output_pdf_path, 'wb') as output_pdf:\n",
    "        writer.write(output_pdf)\n",
    "\n",
    "    return output_pdf_path"
   ]
  },
  {
   "cell_type": "code",
   "execution_count": 8,
   "metadata": {},
   "outputs": [
    {
     "name": "stdout",
     "output_type": "stream",
     "text": [
      "Clean PDF created: /Users/cu135/Library/CloudStorage/OneDrive-Personal/OneDrive_Documents/Work/CiP/CBME/assessment_4/committee_report_24mo_clean.pdf\n"
     ]
    }
   ],
   "source": [
    "# Example usage\n",
    "input_pdf = '/Users/cu135/Library/CloudStorage/OneDrive-Personal/OneDrive_Documents/Work/CiP/CBME/assessment_4/committee_report_24mo.pdf'\n",
    "cleaned_pdf = clean_pdf(input_pdf)\n",
    "print(f\"Clean PDF created: {cleaned_pdf}\")"
   ]
  },
  {
   "cell_type": "code",
   "execution_count": null,
   "metadata": {},
   "outputs": [],
   "source": []
  }
 ],
 "metadata": {
  "kernelspec": {
   "display_name": "nimlab_py310",
   "language": "python",
   "name": "python3"
  },
  "language_info": {
   "codemirror_mode": {
    "name": "ipython",
    "version": 3
   },
   "file_extension": ".py",
   "mimetype": "text/x-python",
   "name": "python",
   "nbconvert_exporter": "python",
   "pygments_lexer": "ipython3",
   "version": "3.10.8"
  }
 },
 "nbformat": 4,
 "nbformat_minor": 2
}
