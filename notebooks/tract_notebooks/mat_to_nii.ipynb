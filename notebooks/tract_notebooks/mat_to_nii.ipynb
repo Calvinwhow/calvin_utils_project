{
 "cells": [
  {
   "cell_type": "code",
   "execution_count": 3,
   "metadata": {},
   "outputs": [
    {
     "data": {
      "text/plain": [
       "<nibabel.nifti1.Nifti1Image at 0x10f5e6650>"
      ]
     },
     "execution_count": 3,
     "metadata": {},
     "output_type": "execute_result"
    }
   ],
   "source": [
    "import h5py\n",
    "import nibabel as nib\n",
    "import numpy as np\n",
    "\n",
    "def fibers_to_nifti(fibers, voxel_size=1.0, output_path='DRTT.nii.gz'):\n",
    "    x_coords, y_coords, z_coords = fibers[0], fibers[1], fibers[2]\n",
    "    x_min, x_max = np.floor(x_coords.min()), np.ceil(x_coords.max())\n",
    "    y_min, y_max = np.floor(y_coords.min()), np.ceil(y_coords.max())\n",
    "    z_min, z_max = np.floor(z_coords.min()), np.ceil(z_coords.max())\n",
    "    grid_shape = (\n",
    "        int((x_max - x_min) / voxel_size) + 1,\n",
    "        int((y_max - y_min) / voxel_size) + 1,\n",
    "        int((z_max - z_min) / voxel_size) + 1,\n",
    "    )\n",
    "    voxel_grid = np.zeros(grid_shape, dtype=np.uint8)\n",
    "    voxel_indices = np.vstack([\n",
    "        ((x_coords - x_min) / voxel_size).astype(int),\n",
    "        ((y_coords - y_min) / voxel_size).astype(int),\n",
    "        ((z_coords - z_min) / voxel_size).astype(int),\n",
    "    ]).T\n",
    "    for idx in voxel_indices:\n",
    "        voxel_grid[tuple(idx)] = 1\n",
    "    affine = np.eye(4)\n",
    "    affine[:3, :3] *= voxel_size\n",
    "    affine[:3, 3] = [x_min, y_min, z_min]\n",
    "    nifti_img = nib.Nifti1Image(voxel_grid, affine)\n",
    "    nib.save(nifti_img, output_path)\n",
    "    return nifti_img"
   ]
  },
  {
   "cell_type": "code",
   "execution_count": null,
   "metadata": {},
   "outputs": [],
   "source": [
    "# Load the fibers data\n",
    "with h5py.File('/Users/cu135/Library/CloudStorage/OneDrive-Personal/OneDrive_Documents/MATLAB/leaddbs/templates/space/MNI_ICBM_2009b_NLIN_ASYM/atlases/Brainstem Connectome (Meola 2016)/rh/DRTT.mat', 'r') as mat_file:\n",
    "    fibers_data = mat_file['fibers'][...]\n",
    "\n",
    "# Convert fibers to NIfTI\n",
    "fibers_to_nifti(fibers_data, voxel_size=1.0, output_path='/Users/cu135/Partners HealthCare Dropbox/Calvin Howard/resources/atlases/tracts/dbs/rh_DRTT.nii.gz')"
   ]
  },
  {
   "cell_type": "markdown",
   "metadata": {},
   "source": [
    "If You Made Individual LH and RH files, combine them"
   ]
  },
  {
   "cell_type": "code",
   "execution_count": 5,
   "metadata": {},
   "outputs": [
    {
     "name": "stdout",
     "output_type": "stream",
     "text": [
      "(41, 65, 44) (42, 68, 49)\n"
     ]
    },
    {
     "ename": "ValueError",
     "evalue": "Left and right DRTT tracts have different dimensions and cannot be added directly.",
     "output_type": "error",
     "traceback": [
      "\u001b[0;31m---------------------------------------------------------------------------\u001b[0m",
      "\u001b[0;31mValueError\u001b[0m                                Traceback (most recent call last)",
      "Cell \u001b[0;32mIn[5], line 23\u001b[0m\n\u001b[1;32m     21\u001b[0m \u001b[38;5;28;01mif\u001b[39;00m lh_data\u001b[38;5;241m.\u001b[39mshape \u001b[38;5;241m!=\u001b[39m rh_data\u001b[38;5;241m.\u001b[39mshape:\n\u001b[1;32m     22\u001b[0m     \u001b[38;5;28mprint\u001b[39m(lh_data\u001b[38;5;241m.\u001b[39mshape, rh_data\u001b[38;5;241m.\u001b[39mshape)\n\u001b[0;32m---> 23\u001b[0m     \u001b[38;5;28;01mraise\u001b[39;00m \u001b[38;5;167;01mValueError\u001b[39;00m(\u001b[38;5;124m\"\u001b[39m\u001b[38;5;124mLeft and right DRTT tracts have different dimensions and cannot be added directly.\u001b[39m\u001b[38;5;124m\"\u001b[39m)\n\u001b[1;32m     25\u001b[0m \u001b[38;5;66;03m# Combine the two tracts by adding their data\u001b[39;00m\n\u001b[1;32m     26\u001b[0m combined_data \u001b[38;5;241m=\u001b[39m lh_data \u001b[38;5;241m+\u001b[39m rh_data\n",
      "\u001b[0;31mValueError\u001b[0m: Left and right DRTT tracts have different dimensions and cannot be added directly."
     ]
    }
   ],
   "source": [
    "import nibabel as nib\n",
    "import numpy as np\n",
    "import os\n",
    "\n",
    "# Paths to the left and right DRTT NIfTI files\n",
    "lh_path = \"/Users/cu135/Partners HealthCare Dropbox/Calvin Howard/resources/atlases/tracts/dbs/lh_DRTT.nii.gz\"\n",
    "rh_path = \"/Users/cu135/Partners HealthCare Dropbox/Calvin Howard/resources/atlases/tracts/dbs/rh_DRTT.nii.gz\"\n",
    "\n",
    "# Output path for the combined file\n",
    "output_path = \"/Users/cu135/Partners HealthCare Dropbox/Calvin Howard/resources/atlases/tracts/dbs/combined_DRTT.nii.gz\"\n",
    "\n",
    "# Load the left and right NIfTI images\n",
    "lh_img = nib.load(lh_path)\n",
    "rh_img = nib.load(rh_path)\n",
    "\n",
    "# Extract the data arrays\n",
    "lh_data = lh_img.get_fdata()\n",
    "rh_data = rh_img.get_fdata()\n",
    "\n",
    "# Check that the dimensions match\n",
    "if lh_data.shape != rh_data.shape:\n",
    "    print(lh_data.shape, rh_data.shape)\n",
    "    raise ValueError(\"Left and right DRTT tracts have different dimensions and cannot be added directly.\")\n",
    "\n",
    "# Combine the two tracts by adding their data\n",
    "combined_data = lh_data + rh_data\n",
    "\n",
    "# Use the affine from one of the inputs (assuming they are in the same space)\n",
    "combined_affine = lh_img.affine\n",
    "\n",
    "# Create a new NIfTI image\n",
    "combined_img = nib.Nifti1Image(combined_data, combined_affine)\n",
    "\n",
    "# Save the combined image\n",
    "nib.save(combined_img, output_path)\n",
    "\n",
    "print(f\"Combined DRTT tract saved to: {output_path}\")\n"
   ]
  },
  {
   "cell_type": "code",
   "execution_count": null,
   "metadata": {},
   "outputs": [],
   "source": []
  },
  {
   "cell_type": "code",
   "execution_count": null,
   "metadata": {},
   "outputs": [],
   "source": []
  }
 ],
 "metadata": {
  "kernelspec": {
   "display_name": "Python3.10 (nimlab)",
   "language": "python",
   "name": "nimlab_py310"
  },
  "language_info": {
   "codemirror_mode": {
    "name": "ipython",
    "version": 3
   },
   "file_extension": ".py",
   "mimetype": "text/x-python",
   "name": "python",
   "nbconvert_exporter": "python",
   "pygments_lexer": "ipython3",
   "version": "3.10.8"
  }
 },
 "nbformat": 4,
 "nbformat_minor": 2
}
