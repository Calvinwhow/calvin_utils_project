{
 "cells": [
  {
   "cell_type": "code",
   "execution_count": 1,
   "id": "76275f48",
   "metadata": {},
   "outputs": [
    {
     "name": "stdout",
     "output_type": "stream",
     "text": [
      "-------- freesurfer-darwin-macOS-dev-20221215-995cb7d --------\n",
      "Setting up environment for FreeSurfer/FS-FAST (and FSL)\n",
      "FREESURFER_HOME   /Applications/freesurfer\n",
      "FSFAST_HOME       /Applications/freesurfer/fsfast\n",
      "FSF_OUTPUT_FORMAT nii.gz\n",
      "SUBJECTS_DIR      /Applications/freesurfer/subjects\n",
      "MNI_DIR           /Applications/freesurfer/mni\n",
      "Collecting vedo\n",
      "  Downloading vedo-2025.5.3-py3-none-any.whl (2.8 MB)\n",
      "\u001b[2K     \u001b[90m━━━━━━━━━━━━━━━━━━━━━━━━━━━━━━━━━━━━━━━━\u001b[0m \u001b[32m2.8/2.8 MB\u001b[0m \u001b[31m5.4 MB/s\u001b[0m eta \u001b[36m0:00:00\u001b[0m00:01\u001b[0m00:01\u001b[0m\n",
      "\u001b[?25hCollecting vtk\n",
      "  Downloading vtk-9.4.2-cp311-cp311-macosx_11_0_arm64.whl (76.5 MB)\n",
      "\u001b[2K     \u001b[90m━━━━━━━━━━━━━━━━━━━━━━━━━━━━━━━━━━━━━━━━\u001b[0m \u001b[32m76.5/76.5 MB\u001b[0m \u001b[31m6.7 MB/s\u001b[0m eta \u001b[36m0:00:00\u001b[0m00:01\u001b[0m00:01\u001b[0mm\n",
      "\u001b[?25hRequirement already satisfied: numpy in /Users/cu135/.virtualenvs/Python_3.7.7_nimlab/lib/python3.11/site-packages (from vedo) (1.25.2)\n",
      "Requirement already satisfied: typing-extensions in /Users/cu135/.virtualenvs/Python_3.7.7_nimlab/lib/python3.11/site-packages (from vedo) (4.12.2)\n",
      "Requirement already satisfied: Pygments in /Users/cu135/.virtualenvs/Python_3.7.7_nimlab/lib/python3.11/site-packages (from vedo) (2.13.0)\n",
      "Requirement already satisfied: matplotlib>=2.0.0 in /Users/cu135/.virtualenvs/Python_3.7.7_nimlab/lib/python3.11/site-packages (from vtk->vedo) (3.6.2)\n",
      "Requirement already satisfied: contourpy>=1.0.1 in /Users/cu135/.virtualenvs/Python_3.7.7_nimlab/lib/python3.11/site-packages (from matplotlib>=2.0.0->vtk->vedo) (1.0.6)\n",
      "Requirement already satisfied: cycler>=0.10 in /Users/cu135/.virtualenvs/Python_3.7.7_nimlab/lib/python3.11/site-packages (from matplotlib>=2.0.0->vtk->vedo) (0.11.0)\n",
      "Requirement already satisfied: fonttools>=4.22.0 in /Users/cu135/.virtualenvs/Python_3.7.7_nimlab/lib/python3.11/site-packages (from matplotlib>=2.0.0->vtk->vedo) (4.38.0)\n",
      "Requirement already satisfied: kiwisolver>=1.0.1 in /Users/cu135/.virtualenvs/Python_3.7.7_nimlab/lib/python3.11/site-packages (from matplotlib>=2.0.0->vtk->vedo) (1.4.4)\n",
      "Requirement already satisfied: packaging>=20.0 in /Users/cu135/.virtualenvs/Python_3.7.7_nimlab/lib/python3.11/site-packages (from matplotlib>=2.0.0->vtk->vedo) (22.0)\n",
      "Requirement already satisfied: pillow>=6.2.0 in /Users/cu135/.virtualenvs/Python_3.7.7_nimlab/lib/python3.11/site-packages (from matplotlib>=2.0.0->vtk->vedo) (9.3.0)\n",
      "Requirement already satisfied: pyparsing>=2.2.1 in /Users/cu135/.virtualenvs/Python_3.7.7_nimlab/lib/python3.11/site-packages (from matplotlib>=2.0.0->vtk->vedo) (3.0.9)\n",
      "Requirement already satisfied: python-dateutil>=2.7 in /Users/cu135/.virtualenvs/Python_3.7.7_nimlab/lib/python3.11/site-packages (from matplotlib>=2.0.0->vtk->vedo) (2.8.2)\n",
      "Requirement already satisfied: six>=1.5 in /Users/cu135/.virtualenvs/Python_3.7.7_nimlab/lib/python3.11/site-packages (from python-dateutil>=2.7->matplotlib>=2.0.0->vtk->vedo) (1.16.0)\n",
      "Installing collected packages: vtk, vedo\n",
      "Successfully installed vedo-2025.5.3 vtk-9.4.2\n",
      "\n",
      "\u001b[1m[\u001b[0m\u001b[34;49mnotice\u001b[0m\u001b[1;39;49m]\u001b[0m\u001b[39;49m A new release of pip available: \u001b[0m\u001b[31;49m22.3.1\u001b[0m\u001b[39;49m -> \u001b[0m\u001b[32;49m25.1.1\u001b[0m\n",
      "\u001b[1m[\u001b[0m\u001b[34;49mnotice\u001b[0m\u001b[1;39;49m]\u001b[0m\u001b[39;49m To update, run: \u001b[0m\u001b[32;49mpip3.11 install --upgrade pip\u001b[0m\n",
      "Note: you may need to restart the kernel to use updated packages.\n"
     ]
    }
   ],
   "source": [
    "%pip install vedo"
   ]
  },
  {
   "cell_type": "code",
   "execution_count": 2,
   "id": "a64ce88a",
   "metadata": {},
   "outputs": [
    {
     "name": "stderr",
     "output_type": "stream",
     "text": [
      "2025-05-30 10:15:57.148 Python[23607:125611] ApplePersistenceIgnoreState: Existing state will not be touched. New state will be written to /var/folders/82/946tskyj68b6htgvndtppmz80000gp/T/org.python.python.savedState\n"
     ]
    }
   ],
   "source": [
    "import numpy as np\n",
    "from vedo import Plotter, Line\n",
    "\n",
    "class FiberSelectionGUI:\n",
    "    def __init__(self, streamlines):\n",
    "        self.streamlines = streamlines\n",
    "        self.selected_fibers = []\n",
    "        self.lines = []\n",
    "        self.plotter = Plotter(title=\"Fiber Tracts Selector\", axes=1, interactive=True)\n",
    "        self._build_scene()\n",
    "    \n",
    "    def _build_scene(self):\n",
    "        for i, streamline in enumerate(self.streamlines):\n",
    "            line = Line(streamline, c=\"blue\")\n",
    "            line.name = str(i)\n",
    "            self.lines.append(line)\n",
    "            self.plotter += line\n",
    "        self.plotter.add_callback(\"mouse click\", self._on_click)\n",
    "        self.plotter.show(interactive=True)\n",
    "\n",
    "    def _on_click(self, evt):\n",
    "        picked = self.plotter.picked3d\n",
    "        if picked is None:\n",
    "            return\n",
    "        closest_idx = self._find_closest_line(picked)\n",
    "        if closest_idx is not None:\n",
    "            line = self.lines[closest_idx]\n",
    "            if closest_idx in self.selected_fibers:\n",
    "                self.selected_fibers.remove(closest_idx)\n",
    "                line.color(\"blue\")\n",
    "            else:\n",
    "                self.selected_fibers.append(closest_idx)\n",
    "                line.color(\"red\")\n",
    "            self.plotter.render()\n",
    "\n",
    "    def _find_closest_line(self, point):\n",
    "        min_dist = float(\"inf\")\n",
    "        closest_idx = None\n",
    "        for idx, line in enumerate(self.lines):\n",
    "            dist = np.linalg.norm(line.closest_point(point) - point)\n",
    "            if dist < min_dist:\n",
    "                min_dist = dist\n",
    "                closest_idx = idx\n",
    "        return closest_idx\n",
    "\n",
    "\n",
    "# Example usage with dummy data\n",
    "streamlines = [\n",
    "    np.cumsum(np.random.randn(20, 3), axis=0) * 2,  # Simulated streamline 1\n",
    "    np.cumsum(np.random.randn(25, 3), axis=0) * 2,  # Simulated streamline 2\n",
    "    np.cumsum(np.random.randn(30, 3), axis=0) * 2   # Simulated streamline 3\n",
    "]\n",
    "\n",
    "# Launch GUI\n",
    "gui = FiberSelectionGUI(streamlines)\n"
   ]
  },
  {
   "cell_type": "code",
   "execution_count": 3,
   "id": "0360c966",
   "metadata": {},
   "outputs": [
    {
     "data": {
      "text/plain": [
       "<__main__.FiberSelectionGUI at 0x1045617d0>"
      ]
     },
     "execution_count": 3,
     "metadata": {},
     "output_type": "execute_result"
    }
   ],
   "source": [
    "gui"
   ]
  },
  {
   "cell_type": "code",
   "execution_count": null,
   "id": "53a88ca3",
   "metadata": {},
   "outputs": [],
   "source": [
    "from pathlib import Path\n",
    "import numpy as np\n",
    "\n",
    "# Example: simulate three random fibers\n",
    "fibers = [np.cumsum(np.random.randn(n, 3), 0) for n in (20, 25, 30)]\n",
    "\n",
    "gui = FiberSelectionGUI(fibers, merge_handler=MergeHandler())\n",
    "gui.show()\n"
   ]
  }
 ],
 "metadata": {
  "kernelspec": {
   "display_name": "Python_3.7.7_nimlab",
   "language": "python",
   "name": "python3"
  },
  "language_info": {
   "codemirror_mode": {
    "name": "ipython",
    "version": 3
   },
   "file_extension": ".py",
   "mimetype": "text/x-python",
   "name": "python",
   "nbconvert_exporter": "python",
   "pygments_lexer": "ipython3",
   "version": "3.11.12"
  }
 },
 "nbformat": 4,
 "nbformat_minor": 5
}
