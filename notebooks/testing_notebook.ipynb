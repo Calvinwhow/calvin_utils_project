{
 "cells": [
  {
   "cell_type": "code",
   "execution_count": 1,
   "metadata": {},
   "outputs": [],
   "source": [
    "from calvin_utils.ccm_utils.bounding_box import NiftiBoundingBox\n",
    "# Example list of NIfTI file paths\n",
    "nifti_paths = [\n",
    "    \"/Users/cu135/hires_backdrops/test/l_vta_0.nii\",\n",
    "    \"/Users/cu135/hires_backdrops/test/l_vta_1.nii\",\n",
    "    \"/Users/cu135/hires_backdrops/test/l_vta_2.nii\",\n",
    "    \"/Users/cu135/hires_backdrops/test/l_vta_3.nii\",\n",
    "    \"/Users/cu135/hires_backdrops/test/l_vta_4.nii\",\n",
    "    \"/Users/cu135/hires_backdrops/test/l_vta_5.nii\",\n",
    "    \"/Users/cu135/hires_backdrops/test/l_vta_6.nii\",\n",
    "    \"/Users/cu135/hires_backdrops/test/l_vta_7.nii\"\n",
    "]\n",
    "\n",
    "# Create a BoundingBox instance\n",
    "bbox = NiftiBoundingBox(nifti_paths)\n",
    "bbox.run('/Users/cu135/hires_backdrops/test')"
   ]
  },
  {
   "cell_type": "code",
   "execution_count": null,
   "metadata": {},
   "outputs": [
    {
     "data": {
      "text/plain": [
       "0"
      ]
     },
     "execution_count": 9,
     "metadata": {},
     "output_type": "execute_result"
    }
   ],
   "source": [
    "import os\n",
    "os.system('say \"time\"')"
   ]
  },
  {
   "cell_type": "code",
   "execution_count": 13,
   "metadata": {},
   "outputs": [
    {
     "data": {
      "text/plain": [
       "1753844744.151735"
      ]
     },
     "execution_count": 13,
     "metadata": {},
     "output_type": "execute_result"
    }
   ],
   "source": [
    "from time import time\n",
    "time()"
   ]
  },
  {
   "cell_type": "code",
   "execution_count": null,
   "metadata": {},
   "outputs": [],
   "source": []
  }
 ],
 "metadata": {
  "kernelspec": {
   "display_name": ".venv_calvin (3.10.18)",
   "language": "python",
   "name": "python3"
  },
  "language_info": {
   "codemirror_mode": {
    "name": "ipython",
    "version": 3
   },
   "file_extension": ".py",
   "mimetype": "text/x-python",
   "name": "python",
   "nbconvert_exporter": "python",
   "pygments_lexer": "ipython3",
   "version": "3.10.18"
  },
  "orig_nbformat": 4
 },
 "nbformat": 4,
 "nbformat_minor": 2
}
