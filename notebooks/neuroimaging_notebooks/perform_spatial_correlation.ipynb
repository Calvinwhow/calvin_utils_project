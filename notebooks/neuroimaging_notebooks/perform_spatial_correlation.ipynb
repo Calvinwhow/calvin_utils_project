{
 "cells": [
  {
   "cell_type": "markdown",
   "metadata": {},
   "source": [
    "# 00 - Preparation"
   ]
  },
  {
   "cell_type": "code",
   "execution_count": 1,
   "metadata": {},
   "outputs": [],
   "source": [
    "import warnings\n",
    "warnings.filterwarnings('ignore')"
   ]
  },
  {
   "cell_type": "markdown",
   "metadata": {},
   "source": [
    "Define Output Directory"
   ]
  },
  {
   "cell_type": "code",
   "execution_count": 2,
   "metadata": {},
   "outputs": [],
   "source": [
    "out_dir = '/Users/cu135/Partners HealthCare Dropbox/Calvin Howard/studies/arc/analyses/arc_atrophy_spcorr'"
   ]
  },
  {
   "cell_type": "markdown",
   "metadata": {},
   "source": [
    "# 01 - Imports"
   ]
  },
  {
   "cell_type": "markdown",
   "metadata": {},
   "source": [
    "**A) Import Niftis from Folders**"
   ]
  },
  {
   "cell_type": "markdown",
   "metadata": {},
   "source": [
    "**Import The First Matrix**"
   ]
  },
  {
   "cell_type": "markdown",
   "metadata": {},
   "source": [
    "Enter Folder or CSV Containing Files"
   ]
  },
  {
   "cell_type": "code",
   "execution_count": 3,
   "metadata": {},
   "outputs": [],
   "source": [
    "# Path to folder or CSV with files. \n",
    "import_path = r'/Users/cu135/Partners HealthCare Dropbox/Calvin Howard/studies/ccm_memory/results/testing'\n",
    "# Ff Importing a CSV\n",
    "file_pattern = r'maastricth_improve_q15.nii'\n",
    "# If Importing a Folder\n",
    "file_column = ''"
   ]
  },
  {
   "cell_type": "markdown",
   "metadata": {},
   "source": [
    "Run Import"
   ]
  },
  {
   "cell_type": "code",
   "execution_count": 4,
   "metadata": {},
   "outputs": [
    {
     "name": "stderr",
     "output_type": "stream",
     "text": [
      "\n",
      "A module that was compiled using NumPy 1.x cannot be run in\n",
      "NumPy 2.0.2 as it may crash. To support both 1.x and 2.x\n",
      "versions of NumPy, modules must be compiled with NumPy 2.0.\n",
      "Some module may need to rebuild instead e.g. with 'pybind11>=2.12'.\n",
      "\n",
      "If you are a user of the module, the easiest solution will be to\n",
      "downgrade to 'numpy<2' or try to upgrade the affected module.\n",
      "We expect that some modules will need time to support NumPy 2.\n",
      "\n",
      "Traceback (most recent call last):  File \"/usr/local/Caskroom/mambaforge/base/envs/nimlab_py310/lib/python3.10/runpy.py\", line 196, in _run_module_as_main\n",
      "    return _run_code(code, main_globals, None,\n",
      "  File \"/usr/local/Caskroom/mambaforge/base/envs/nimlab_py310/lib/python3.10/runpy.py\", line 86, in _run_code\n",
      "    exec(code, run_globals)\n",
      "  File \"/usr/local/Caskroom/mambaforge/base/envs/nimlab_py310/lib/python3.10/site-packages/ipykernel_launcher.py\", line 18, in <module>\n",
      "    app.launch_new_instance()\n",
      "  File \"/usr/local/Caskroom/mambaforge/base/envs/nimlab_py310/lib/python3.10/site-packages/traitlets/config/application.py\", line 1075, in launch_instance\n",
      "    app.start()\n",
      "  File \"/usr/local/Caskroom/mambaforge/base/envs/nimlab_py310/lib/python3.10/site-packages/ipykernel/kernelapp.py\", line 739, in start\n",
      "    self.io_loop.start()\n",
      "  File \"/usr/local/Caskroom/mambaforge/base/envs/nimlab_py310/lib/python3.10/site-packages/tornado/platform/asyncio.py\", line 205, in start\n",
      "    self.asyncio_loop.run_forever()\n",
      "  File \"/usr/local/Caskroom/mambaforge/base/envs/nimlab_py310/lib/python3.10/asyncio/base_events.py\", line 603, in run_forever\n",
      "    self._run_once()\n",
      "  File \"/usr/local/Caskroom/mambaforge/base/envs/nimlab_py310/lib/python3.10/asyncio/base_events.py\", line 1909, in _run_once\n",
      "    handle._run()\n",
      "  File \"/usr/local/Caskroom/mambaforge/base/envs/nimlab_py310/lib/python3.10/asyncio/events.py\", line 80, in _run\n",
      "    self._context.run(self._callback, *self._args)\n",
      "  File \"/usr/local/Caskroom/mambaforge/base/envs/nimlab_py310/lib/python3.10/site-packages/ipykernel/kernelbase.py\", line 545, in dispatch_queue\n",
      "    await self.process_one()\n",
      "  File \"/usr/local/Caskroom/mambaforge/base/envs/nimlab_py310/lib/python3.10/site-packages/ipykernel/kernelbase.py\", line 534, in process_one\n",
      "    await dispatch(*args)\n",
      "  File \"/usr/local/Caskroom/mambaforge/base/envs/nimlab_py310/lib/python3.10/site-packages/ipykernel/kernelbase.py\", line 437, in dispatch_shell\n",
      "    await result\n",
      "  File \"/usr/local/Caskroom/mambaforge/base/envs/nimlab_py310/lib/python3.10/site-packages/ipykernel/ipkernel.py\", line 362, in execute_request\n",
      "    await super().execute_request(stream, ident, parent)\n",
      "  File \"/usr/local/Caskroom/mambaforge/base/envs/nimlab_py310/lib/python3.10/site-packages/ipykernel/kernelbase.py\", line 778, in execute_request\n",
      "    reply_content = await reply_content\n",
      "  File \"/usr/local/Caskroom/mambaforge/base/envs/nimlab_py310/lib/python3.10/site-packages/ipykernel/ipkernel.py\", line 449, in do_execute\n",
      "    res = shell.run_cell(\n",
      "  File \"/usr/local/Caskroom/mambaforge/base/envs/nimlab_py310/lib/python3.10/site-packages/ipykernel/zmqshell.py\", line 549, in run_cell\n",
      "    return super().run_cell(*args, **kwargs)\n",
      "  File \"/usr/local/Caskroom/mambaforge/base/envs/nimlab_py310/lib/python3.10/site-packages/IPython/core/interactiveshell.py\", line 3075, in run_cell\n",
      "    result = self._run_cell(\n",
      "  File \"/usr/local/Caskroom/mambaforge/base/envs/nimlab_py310/lib/python3.10/site-packages/IPython/core/interactiveshell.py\", line 3130, in _run_cell\n",
      "    result = runner(coro)\n",
      "  File \"/usr/local/Caskroom/mambaforge/base/envs/nimlab_py310/lib/python3.10/site-packages/IPython/core/async_helpers.py\", line 128, in _pseudo_sync_runner\n",
      "    coro.send(None)\n",
      "  File \"/usr/local/Caskroom/mambaforge/base/envs/nimlab_py310/lib/python3.10/site-packages/IPython/core/interactiveshell.py\", line 3334, in run_cell_async\n",
      "    has_raised = await self.run_ast_nodes(code_ast.body, cell_name,\n",
      "  File \"/usr/local/Caskroom/mambaforge/base/envs/nimlab_py310/lib/python3.10/site-packages/IPython/core/interactiveshell.py\", line 3517, in run_ast_nodes\n",
      "    if await self.run_code(code, result, async_=asy):\n",
      "  File \"/usr/local/Caskroom/mambaforge/base/envs/nimlab_py310/lib/python3.10/site-packages/IPython/core/interactiveshell.py\", line 3577, in run_code\n",
      "    exec(code_obj, self.user_global_ns, self.user_ns)\n",
      "  File \"/var/folders/82/946tskyj68b6htgvndtppmz80000gp/T/ipykernel_56860/2532683592.py\", line 1, in <module>\n",
      "    from calvin_utils.file_utils.import_functions import GiiNiiFileImport\n",
      "  File \"/Users/cu135/Library/CloudStorage/OneDrive-Personal/OneDrive_Documents/Work/Software/calvin_utils_project/calvin_utils_project/calvin_utils/file_utils/import_functions.py\", line 7, in <module>\n",
      "    import pandas as pd\n",
      "  File \"/Users/cu135/.local/lib/python3.10/site-packages/pandas/__init__.py\", line 26, in <module>\n",
      "    from pandas.compat import (\n",
      "  File \"/Users/cu135/.local/lib/python3.10/site-packages/pandas/compat/__init__.py\", line 27, in <module>\n",
      "    from pandas.compat.pyarrow import (\n",
      "  File \"/Users/cu135/.local/lib/python3.10/site-packages/pandas/compat/pyarrow.py\", line 8, in <module>\n",
      "    import pyarrow as pa\n",
      "  File \"/usr/local/Caskroom/mambaforge/base/envs/nimlab_py310/lib/python3.10/site-packages/pyarrow/__init__.py\", line 65, in <module>\n",
      "    import pyarrow.lib as _lib\n"
     ]
    },
    {
     "ename": "AttributeError",
     "evalue": "_ARRAY_API not found",
     "output_type": "error",
     "traceback": [
      "\u001b[0;31m---------------------------------------------------------------------------\u001b[0m",
      "\u001b[0;31mAttributeError\u001b[0m                            Traceback (most recent call last)",
      "\u001b[0;31mAttributeError\u001b[0m: _ARRAY_API not found"
     ]
    },
    {
     "name": "stderr",
     "output_type": "stream",
     "text": [
      "\n",
      "A module that was compiled using NumPy 1.x cannot be run in\n",
      "NumPy 2.0.2 as it may crash. To support both 1.x and 2.x\n",
      "versions of NumPy, modules must be compiled with NumPy 2.0.\n",
      "Some module may need to rebuild instead e.g. with 'pybind11>=2.12'.\n",
      "\n",
      "If you are a user of the module, the easiest solution will be to\n",
      "downgrade to 'numpy<2' or try to upgrade the affected module.\n",
      "We expect that some modules will need time to support NumPy 2.\n",
      "\n",
      "Traceback (most recent call last):  File \"/usr/local/Caskroom/mambaforge/base/envs/nimlab_py310/lib/python3.10/runpy.py\", line 196, in _run_module_as_main\n",
      "    return _run_code(code, main_globals, None,\n",
      "  File \"/usr/local/Caskroom/mambaforge/base/envs/nimlab_py310/lib/python3.10/runpy.py\", line 86, in _run_code\n",
      "    exec(code, run_globals)\n",
      "  File \"/usr/local/Caskroom/mambaforge/base/envs/nimlab_py310/lib/python3.10/site-packages/ipykernel_launcher.py\", line 18, in <module>\n",
      "    app.launch_new_instance()\n",
      "  File \"/usr/local/Caskroom/mambaforge/base/envs/nimlab_py310/lib/python3.10/site-packages/traitlets/config/application.py\", line 1075, in launch_instance\n",
      "    app.start()\n",
      "  File \"/usr/local/Caskroom/mambaforge/base/envs/nimlab_py310/lib/python3.10/site-packages/ipykernel/kernelapp.py\", line 739, in start\n",
      "    self.io_loop.start()\n",
      "  File \"/usr/local/Caskroom/mambaforge/base/envs/nimlab_py310/lib/python3.10/site-packages/tornado/platform/asyncio.py\", line 205, in start\n",
      "    self.asyncio_loop.run_forever()\n",
      "  File \"/usr/local/Caskroom/mambaforge/base/envs/nimlab_py310/lib/python3.10/asyncio/base_events.py\", line 603, in run_forever\n",
      "    self._run_once()\n",
      "  File \"/usr/local/Caskroom/mambaforge/base/envs/nimlab_py310/lib/python3.10/asyncio/base_events.py\", line 1909, in _run_once\n",
      "    handle._run()\n",
      "  File \"/usr/local/Caskroom/mambaforge/base/envs/nimlab_py310/lib/python3.10/asyncio/events.py\", line 80, in _run\n",
      "    self._context.run(self._callback, *self._args)\n",
      "  File \"/usr/local/Caskroom/mambaforge/base/envs/nimlab_py310/lib/python3.10/site-packages/ipykernel/kernelbase.py\", line 545, in dispatch_queue\n",
      "    await self.process_one()\n",
      "  File \"/usr/local/Caskroom/mambaforge/base/envs/nimlab_py310/lib/python3.10/site-packages/ipykernel/kernelbase.py\", line 534, in process_one\n",
      "    await dispatch(*args)\n",
      "  File \"/usr/local/Caskroom/mambaforge/base/envs/nimlab_py310/lib/python3.10/site-packages/ipykernel/kernelbase.py\", line 437, in dispatch_shell\n",
      "    await result\n",
      "  File \"/usr/local/Caskroom/mambaforge/base/envs/nimlab_py310/lib/python3.10/site-packages/ipykernel/ipkernel.py\", line 362, in execute_request\n",
      "    await super().execute_request(stream, ident, parent)\n",
      "  File \"/usr/local/Caskroom/mambaforge/base/envs/nimlab_py310/lib/python3.10/site-packages/ipykernel/kernelbase.py\", line 778, in execute_request\n",
      "    reply_content = await reply_content\n",
      "  File \"/usr/local/Caskroom/mambaforge/base/envs/nimlab_py310/lib/python3.10/site-packages/ipykernel/ipkernel.py\", line 449, in do_execute\n",
      "    res = shell.run_cell(\n",
      "  File \"/usr/local/Caskroom/mambaforge/base/envs/nimlab_py310/lib/python3.10/site-packages/ipykernel/zmqshell.py\", line 549, in run_cell\n",
      "    return super().run_cell(*args, **kwargs)\n",
      "  File \"/usr/local/Caskroom/mambaforge/base/envs/nimlab_py310/lib/python3.10/site-packages/IPython/core/interactiveshell.py\", line 3075, in run_cell\n",
      "    result = self._run_cell(\n",
      "  File \"/usr/local/Caskroom/mambaforge/base/envs/nimlab_py310/lib/python3.10/site-packages/IPython/core/interactiveshell.py\", line 3130, in _run_cell\n",
      "    result = runner(coro)\n",
      "  File \"/usr/local/Caskroom/mambaforge/base/envs/nimlab_py310/lib/python3.10/site-packages/IPython/core/async_helpers.py\", line 128, in _pseudo_sync_runner\n",
      "    coro.send(None)\n",
      "  File \"/usr/local/Caskroom/mambaforge/base/envs/nimlab_py310/lib/python3.10/site-packages/IPython/core/interactiveshell.py\", line 3334, in run_cell_async\n",
      "    has_raised = await self.run_ast_nodes(code_ast.body, cell_name,\n",
      "  File \"/usr/local/Caskroom/mambaforge/base/envs/nimlab_py310/lib/python3.10/site-packages/IPython/core/interactiveshell.py\", line 3517, in run_ast_nodes\n",
      "    if await self.run_code(code, result, async_=asy):\n",
      "  File \"/usr/local/Caskroom/mambaforge/base/envs/nimlab_py310/lib/python3.10/site-packages/IPython/core/interactiveshell.py\", line 3577, in run_code\n",
      "    exec(code_obj, self.user_global_ns, self.user_ns)\n",
      "  File \"/var/folders/82/946tskyj68b6htgvndtppmz80000gp/T/ipykernel_56860/2532683592.py\", line 1, in <module>\n",
      "    from calvin_utils.file_utils.import_functions import GiiNiiFileImport\n",
      "  File \"/Users/cu135/Library/CloudStorage/OneDrive-Personal/OneDrive_Documents/Work/Software/calvin_utils_project/calvin_utils_project/calvin_utils/file_utils/import_functions.py\", line 7, in <module>\n",
      "    import pandas as pd\n",
      "  File \"/Users/cu135/.local/lib/python3.10/site-packages/pandas/__init__.py\", line 49, in <module>\n",
      "    from pandas.core.api import (\n",
      "  File \"/Users/cu135/.local/lib/python3.10/site-packages/pandas/core/api.py\", line 9, in <module>\n",
      "    from pandas.core.dtypes.dtypes import (\n",
      "  File \"/Users/cu135/.local/lib/python3.10/site-packages/pandas/core/dtypes/dtypes.py\", line 24, in <module>\n",
      "    from pandas._libs import (\n",
      "  File \"/usr/local/Caskroom/mambaforge/base/envs/nimlab_py310/lib/python3.10/site-packages/pyarrow/__init__.py\", line 65, in <module>\n",
      "    import pyarrow.lib as _lib\n"
     ]
    },
    {
     "ename": "AttributeError",
     "evalue": "_ARRAY_API not found",
     "output_type": "error",
     "traceback": [
      "\u001b[0;31m---------------------------------------------------------------------------\u001b[0m",
      "\u001b[0;31mAttributeError\u001b[0m                            Traceback (most recent call last)",
      "\u001b[0;31mAttributeError\u001b[0m: _ARRAY_API not found"
     ]
    },
    {
     "name": "stderr",
     "output_type": "stream",
     "text": [
      "\n",
      "A module that was compiled using NumPy 1.x cannot be run in\n",
      "NumPy 2.0.2 as it may crash. To support both 1.x and 2.x\n",
      "versions of NumPy, modules must be compiled with NumPy 2.0.\n",
      "Some module may need to rebuild instead e.g. with 'pybind11>=2.12'.\n",
      "\n",
      "If you are a user of the module, the easiest solution will be to\n",
      "downgrade to 'numpy<2' or try to upgrade the affected module.\n",
      "We expect that some modules will need time to support NumPy 2.\n",
      "\n",
      "Traceback (most recent call last):  File \"/usr/local/Caskroom/mambaforge/base/envs/nimlab_py310/lib/python3.10/runpy.py\", line 196, in _run_module_as_main\n",
      "    return _run_code(code, main_globals, None,\n",
      "  File \"/usr/local/Caskroom/mambaforge/base/envs/nimlab_py310/lib/python3.10/runpy.py\", line 86, in _run_code\n",
      "    exec(code, run_globals)\n",
      "  File \"/usr/local/Caskroom/mambaforge/base/envs/nimlab_py310/lib/python3.10/site-packages/ipykernel_launcher.py\", line 18, in <module>\n",
      "    app.launch_new_instance()\n",
      "  File \"/usr/local/Caskroom/mambaforge/base/envs/nimlab_py310/lib/python3.10/site-packages/traitlets/config/application.py\", line 1075, in launch_instance\n",
      "    app.start()\n",
      "  File \"/usr/local/Caskroom/mambaforge/base/envs/nimlab_py310/lib/python3.10/site-packages/ipykernel/kernelapp.py\", line 739, in start\n",
      "    self.io_loop.start()\n",
      "  File \"/usr/local/Caskroom/mambaforge/base/envs/nimlab_py310/lib/python3.10/site-packages/tornado/platform/asyncio.py\", line 205, in start\n",
      "    self.asyncio_loop.run_forever()\n",
      "  File \"/usr/local/Caskroom/mambaforge/base/envs/nimlab_py310/lib/python3.10/asyncio/base_events.py\", line 603, in run_forever\n",
      "    self._run_once()\n",
      "  File \"/usr/local/Caskroom/mambaforge/base/envs/nimlab_py310/lib/python3.10/asyncio/base_events.py\", line 1909, in _run_once\n",
      "    handle._run()\n",
      "  File \"/usr/local/Caskroom/mambaforge/base/envs/nimlab_py310/lib/python3.10/asyncio/events.py\", line 80, in _run\n",
      "    self._context.run(self._callback, *self._args)\n",
      "  File \"/usr/local/Caskroom/mambaforge/base/envs/nimlab_py310/lib/python3.10/site-packages/ipykernel/kernelbase.py\", line 545, in dispatch_queue\n",
      "    await self.process_one()\n",
      "  File \"/usr/local/Caskroom/mambaforge/base/envs/nimlab_py310/lib/python3.10/site-packages/ipykernel/kernelbase.py\", line 534, in process_one\n",
      "    await dispatch(*args)\n",
      "  File \"/usr/local/Caskroom/mambaforge/base/envs/nimlab_py310/lib/python3.10/site-packages/ipykernel/kernelbase.py\", line 437, in dispatch_shell\n",
      "    await result\n",
      "  File \"/usr/local/Caskroom/mambaforge/base/envs/nimlab_py310/lib/python3.10/site-packages/ipykernel/ipkernel.py\", line 362, in execute_request\n",
      "    await super().execute_request(stream, ident, parent)\n",
      "  File \"/usr/local/Caskroom/mambaforge/base/envs/nimlab_py310/lib/python3.10/site-packages/ipykernel/kernelbase.py\", line 778, in execute_request\n",
      "    reply_content = await reply_content\n",
      "  File \"/usr/local/Caskroom/mambaforge/base/envs/nimlab_py310/lib/python3.10/site-packages/ipykernel/ipkernel.py\", line 449, in do_execute\n",
      "    res = shell.run_cell(\n",
      "  File \"/usr/local/Caskroom/mambaforge/base/envs/nimlab_py310/lib/python3.10/site-packages/ipykernel/zmqshell.py\", line 549, in run_cell\n",
      "    return super().run_cell(*args, **kwargs)\n",
      "  File \"/usr/local/Caskroom/mambaforge/base/envs/nimlab_py310/lib/python3.10/site-packages/IPython/core/interactiveshell.py\", line 3075, in run_cell\n",
      "    result = self._run_cell(\n",
      "  File \"/usr/local/Caskroom/mambaforge/base/envs/nimlab_py310/lib/python3.10/site-packages/IPython/core/interactiveshell.py\", line 3130, in _run_cell\n",
      "    result = runner(coro)\n",
      "  File \"/usr/local/Caskroom/mambaforge/base/envs/nimlab_py310/lib/python3.10/site-packages/IPython/core/async_helpers.py\", line 128, in _pseudo_sync_runner\n",
      "    coro.send(None)\n",
      "  File \"/usr/local/Caskroom/mambaforge/base/envs/nimlab_py310/lib/python3.10/site-packages/IPython/core/interactiveshell.py\", line 3334, in run_cell_async\n",
      "    has_raised = await self.run_ast_nodes(code_ast.body, cell_name,\n",
      "  File \"/usr/local/Caskroom/mambaforge/base/envs/nimlab_py310/lib/python3.10/site-packages/IPython/core/interactiveshell.py\", line 3517, in run_ast_nodes\n",
      "    if await self.run_code(code, result, async_=asy):\n",
      "  File \"/usr/local/Caskroom/mambaforge/base/envs/nimlab_py310/lib/python3.10/site-packages/IPython/core/interactiveshell.py\", line 3577, in run_code\n",
      "    exec(code_obj, self.user_global_ns, self.user_ns)\n",
      "  File \"/var/folders/82/946tskyj68b6htgvndtppmz80000gp/T/ipykernel_56860/2532683592.py\", line 1, in <module>\n",
      "    from calvin_utils.file_utils.import_functions import GiiNiiFileImport\n",
      "  File \"/Users/cu135/Library/CloudStorage/OneDrive-Personal/OneDrive_Documents/Work/Software/calvin_utils_project/calvin_utils_project/calvin_utils/file_utils/import_functions.py\", line 7, in <module>\n",
      "    import pandas as pd\n",
      "  File \"/Users/cu135/.local/lib/python3.10/site-packages/pandas/__init__.py\", line 49, in <module>\n",
      "    from pandas.core.api import (\n",
      "  File \"/Users/cu135/.local/lib/python3.10/site-packages/pandas/core/api.py\", line 28, in <module>\n",
      "    from pandas.core.arrays import Categorical\n",
      "  File \"/Users/cu135/.local/lib/python3.10/site-packages/pandas/core/arrays/__init__.py\", line 1, in <module>\n",
      "    from pandas.core.arrays.arrow import ArrowExtensionArray\n",
      "  File \"/Users/cu135/.local/lib/python3.10/site-packages/pandas/core/arrays/arrow/__init__.py\", line 5, in <module>\n",
      "    from pandas.core.arrays.arrow.array import ArrowExtensionArray\n",
      "  File \"/Users/cu135/.local/lib/python3.10/site-packages/pandas/core/arrays/arrow/array.py\", line 50, in <module>\n",
      "    from pandas.core import (\n",
      "  File \"/Users/cu135/.local/lib/python3.10/site-packages/pandas/core/ops/__init__.py\", line 8, in <module>\n",
      "    from pandas.core.ops.array_ops import (\n",
      "  File \"/Users/cu135/.local/lib/python3.10/site-packages/pandas/core/ops/array_ops.py\", line 56, in <module>\n",
      "    from pandas.core.computation import expressions\n",
      "  File \"/Users/cu135/.local/lib/python3.10/site-packages/pandas/core/computation/expressions.py\", line 21, in <module>\n",
      "    from pandas.core.computation.check import NUMEXPR_INSTALLED\n",
      "  File \"/Users/cu135/.local/lib/python3.10/site-packages/pandas/core/computation/check.py\", line 5, in <module>\n",
      "    ne = import_optional_dependency(\"numexpr\", errors=\"warn\")\n",
      "  File \"/Users/cu135/.local/lib/python3.10/site-packages/pandas/compat/_optional.py\", line 135, in import_optional_dependency\n",
      "    module = importlib.import_module(name)\n",
      "  File \"/usr/local/Caskroom/mambaforge/base/envs/nimlab_py310/lib/python3.10/importlib/__init__.py\", line 126, in import_module\n",
      "    return _bootstrap._gcd_import(name[level:], package, level)\n",
      "  File \"/usr/local/Caskroom/mambaforge/base/envs/nimlab_py310/lib/python3.10/site-packages/numexpr/__init__.py\", line 24, in <module>\n",
      "    from numexpr.interpreter import MAX_THREADS, use_vml, __BLOCK_SIZE1__\n"
     ]
    },
    {
     "ename": "AttributeError",
     "evalue": "_ARRAY_API not found",
     "output_type": "error",
     "traceback": [
      "\u001b[0;31m---------------------------------------------------------------------------\u001b[0m",
      "\u001b[0;31mAttributeError\u001b[0m                            Traceback (most recent call last)",
      "\u001b[0;31mAttributeError\u001b[0m: _ARRAY_API not found"
     ]
    },
    {
     "name": "stdout",
     "output_type": "stream",
     "text": [
      "Attempting to import from: /Users/cu135/Partners HealthCare Dropbox/Calvin Howard/studies/ccm_memory/results/testing/maastricth_improve_q15.nii\n"
     ]
    },
    {
     "data": {
      "text/html": [
       "<div>\n",
       "<style scoped>\n",
       "    .dataframe tbody tr th:only-of-type {\n",
       "        vertical-align: middle;\n",
       "    }\n",
       "\n",
       "    .dataframe tbody tr th {\n",
       "        vertical-align: top;\n",
       "    }\n",
       "\n",
       "    .dataframe thead th {\n",
       "        text-align: right;\n",
       "    }\n",
       "</style>\n",
       "<table border=\"1\" class=\"dataframe\">\n",
       "  <thead>\n",
       "    <tr style=\"text-align: right;\">\n",
       "      <th></th>\n",
       "      <th>/Users/cu135/Partners HealthCare Dropbox/Calvin Howard/studies/ccm_memory/results/testing/maastricth_improve_q15.nii</th>\n",
       "    </tr>\n",
       "  </thead>\n",
       "  <tbody>\n",
       "    <tr>\n",
       "      <th>0</th>\n",
       "      <td>0.0</td>\n",
       "    </tr>\n",
       "    <tr>\n",
       "      <th>1</th>\n",
       "      <td>0.0</td>\n",
       "    </tr>\n",
       "    <tr>\n",
       "      <th>2</th>\n",
       "      <td>0.0</td>\n",
       "    </tr>\n",
       "    <tr>\n",
       "      <th>3</th>\n",
       "      <td>0.0</td>\n",
       "    </tr>\n",
       "    <tr>\n",
       "      <th>4</th>\n",
       "      <td>0.0</td>\n",
       "    </tr>\n",
       "    <tr>\n",
       "      <th>...</th>\n",
       "      <td>...</td>\n",
       "    </tr>\n",
       "    <tr>\n",
       "      <th>902624</th>\n",
       "      <td>0.0</td>\n",
       "    </tr>\n",
       "    <tr>\n",
       "      <th>902625</th>\n",
       "      <td>0.0</td>\n",
       "    </tr>\n",
       "    <tr>\n",
       "      <th>902626</th>\n",
       "      <td>0.0</td>\n",
       "    </tr>\n",
       "    <tr>\n",
       "      <th>902627</th>\n",
       "      <td>0.0</td>\n",
       "    </tr>\n",
       "    <tr>\n",
       "      <th>902628</th>\n",
       "      <td>0.0</td>\n",
       "    </tr>\n",
       "  </tbody>\n",
       "</table>\n",
       "<p>902629 rows × 1 columns</p>\n",
       "</div>"
      ],
      "text/plain": [
       "        /Users/cu135/Partners HealthCare Dropbox/Calvin Howard/studies/ccm_memory/results/testing/maastricth_improve_q15.nii\n",
       "0                                                     0.0                                                                   \n",
       "1                                                     0.0                                                                   \n",
       "2                                                     0.0                                                                   \n",
       "3                                                     0.0                                                                   \n",
       "4                                                     0.0                                                                   \n",
       "...                                                   ...                                                                   \n",
       "902624                                                0.0                                                                   \n",
       "902625                                                0.0                                                                   \n",
       "902626                                                0.0                                                                   \n",
       "902627                                                0.0                                                                   \n",
       "902628                                                0.0                                                                   \n",
       "\n",
       "[902629 rows x 1 columns]"
      ]
     },
     "execution_count": 4,
     "metadata": {},
     "output_type": "execute_result"
    }
   ],
   "source": [
    "from calvin_utils.file_utils.import_functions import GiiNiiFileImport\n",
    "matrix_df1 = GiiNiiFileImport(import_path=import_path, file_column=file_column, file_pattern=file_pattern).run()\n",
    "matrix_df1"
   ]
  },
  {
   "cell_type": "markdown",
   "metadata": {},
   "source": [
    "**Optional: Import Additional Matrices Second Matrix**"
   ]
  },
  {
   "cell_type": "markdown",
   "metadata": {},
   "source": [
    "Enter Information Relating to the Path of the First Set of Niftis"
   ]
  },
  {
   "cell_type": "code",
   "execution_count": 5,
   "metadata": {},
   "outputs": [],
   "source": [
    "# Path to folder or CSV with files. \n",
    "import_path = r'/Users/cu135/Partners HealthCare Dropbox/Calvin Howard/studies/ccm_memory/results/testing'\n",
    "# Ff Importing a CSV\n",
    "file_pattern = r'saante_improve_q15.nii'\n",
    "# If Importing a Folder\n",
    "file_column = ''"
   ]
  },
  {
   "cell_type": "markdown",
   "metadata": {},
   "source": [
    "Import"
   ]
  },
  {
   "cell_type": "code",
   "execution_count": 6,
   "metadata": {},
   "outputs": [
    {
     "name": "stdout",
     "output_type": "stream",
     "text": [
      "Attempting to import from: /Users/cu135/Partners HealthCare Dropbox/Calvin Howard/studies/ccm_memory/results/testing/saante_improve_q15.nii\n"
     ]
    },
    {
     "data": {
      "text/html": [
       "<div>\n",
       "<style scoped>\n",
       "    .dataframe tbody tr th:only-of-type {\n",
       "        vertical-align: middle;\n",
       "    }\n",
       "\n",
       "    .dataframe tbody tr th {\n",
       "        vertical-align: top;\n",
       "    }\n",
       "\n",
       "    .dataframe thead th {\n",
       "        text-align: right;\n",
       "    }\n",
       "</style>\n",
       "<table border=\"1\" class=\"dataframe\">\n",
       "  <thead>\n",
       "    <tr style=\"text-align: right;\">\n",
       "      <th></th>\n",
       "      <th>/Users/cu135/Partners HealthCare Dropbox/Calvin Howard/studies/ccm_memory/results/testing/saante_improve_q15.nii</th>\n",
       "    </tr>\n",
       "  </thead>\n",
       "  <tbody>\n",
       "    <tr>\n",
       "      <th>0</th>\n",
       "      <td>0.0</td>\n",
       "    </tr>\n",
       "    <tr>\n",
       "      <th>1</th>\n",
       "      <td>0.0</td>\n",
       "    </tr>\n",
       "    <tr>\n",
       "      <th>2</th>\n",
       "      <td>0.0</td>\n",
       "    </tr>\n",
       "    <tr>\n",
       "      <th>3</th>\n",
       "      <td>0.0</td>\n",
       "    </tr>\n",
       "    <tr>\n",
       "      <th>4</th>\n",
       "      <td>0.0</td>\n",
       "    </tr>\n",
       "    <tr>\n",
       "      <th>...</th>\n",
       "      <td>...</td>\n",
       "    </tr>\n",
       "    <tr>\n",
       "      <th>902624</th>\n",
       "      <td>0.0</td>\n",
       "    </tr>\n",
       "    <tr>\n",
       "      <th>902625</th>\n",
       "      <td>0.0</td>\n",
       "    </tr>\n",
       "    <tr>\n",
       "      <th>902626</th>\n",
       "      <td>0.0</td>\n",
       "    </tr>\n",
       "    <tr>\n",
       "      <th>902627</th>\n",
       "      <td>0.0</td>\n",
       "    </tr>\n",
       "    <tr>\n",
       "      <th>902628</th>\n",
       "      <td>0.0</td>\n",
       "    </tr>\n",
       "  </tbody>\n",
       "</table>\n",
       "<p>902629 rows × 1 columns</p>\n",
       "</div>"
      ],
      "text/plain": [
       "        /Users/cu135/Partners HealthCare Dropbox/Calvin Howard/studies/ccm_memory/results/testing/saante_improve_q15.nii\n",
       "0                                                     0.0                                                               \n",
       "1                                                     0.0                                                               \n",
       "2                                                     0.0                                                               \n",
       "3                                                     0.0                                                               \n",
       "4                                                     0.0                                                               \n",
       "...                                                   ...                                                               \n",
       "902624                                                0.0                                                               \n",
       "902625                                                0.0                                                               \n",
       "902626                                                0.0                                                               \n",
       "902627                                                0.0                                                               \n",
       "902628                                                0.0                                                               \n",
       "\n",
       "[902629 rows x 1 columns]"
      ]
     },
     "execution_count": 6,
     "metadata": {},
     "output_type": "execute_result"
    }
   ],
   "source": [
    "from calvin_utils.file_utils.import_functions import GiiNiiFileImport\n",
    "matrix_df2 = GiiNiiFileImport(import_path=import_path, file_column=file_column, file_pattern=file_pattern).run()\n",
    "matrix_df2"
   ]
  },
  {
   "cell_type": "markdown",
   "metadata": {},
   "source": [
    "Merge Dataframes"
   ]
  },
  {
   "cell_type": "code",
   "execution_count": 7,
   "metadata": {},
   "outputs": [
    {
     "name": "stdout",
     "output_type": "stream",
     "text": [
      "df1 len:  902629  matrix_df2 len:  902629\n",
      "Nonzero values in last column:  228222\n"
     ]
    },
    {
     "data": {
      "text/html": [
       "<div>\n",
       "<style scoped>\n",
       "    .dataframe tbody tr th:only-of-type {\n",
       "        vertical-align: middle;\n",
       "    }\n",
       "\n",
       "    .dataframe tbody tr th {\n",
       "        vertical-align: top;\n",
       "    }\n",
       "\n",
       "    .dataframe thead th {\n",
       "        text-align: right;\n",
       "    }\n",
       "</style>\n",
       "<table border=\"1\" class=\"dataframe\">\n",
       "  <thead>\n",
       "    <tr style=\"text-align: right;\">\n",
       "      <th></th>\n",
       "      <th>/Users/cu135/Partners HealthCare Dropbox/Calvin Howard/studies/ccm_memory/results/testing/maastricth_improve_q15.nii</th>\n",
       "      <th>/Users/cu135/Partners HealthCare Dropbox/Calvin Howard/studies/ccm_memory/results/testing/saante_improve_q15.nii</th>\n",
       "    </tr>\n",
       "  </thead>\n",
       "  <tbody>\n",
       "    <tr>\n",
       "      <th>0</th>\n",
       "      <td>0.0</td>\n",
       "      <td>0.0</td>\n",
       "    </tr>\n",
       "    <tr>\n",
       "      <th>1</th>\n",
       "      <td>0.0</td>\n",
       "      <td>0.0</td>\n",
       "    </tr>\n",
       "    <tr>\n",
       "      <th>2</th>\n",
       "      <td>0.0</td>\n",
       "      <td>0.0</td>\n",
       "    </tr>\n",
       "    <tr>\n",
       "      <th>3</th>\n",
       "      <td>0.0</td>\n",
       "      <td>0.0</td>\n",
       "    </tr>\n",
       "    <tr>\n",
       "      <th>4</th>\n",
       "      <td>0.0</td>\n",
       "      <td>0.0</td>\n",
       "    </tr>\n",
       "    <tr>\n",
       "      <th>...</th>\n",
       "      <td>...</td>\n",
       "      <td>...</td>\n",
       "    </tr>\n",
       "    <tr>\n",
       "      <th>902624</th>\n",
       "      <td>0.0</td>\n",
       "      <td>0.0</td>\n",
       "    </tr>\n",
       "    <tr>\n",
       "      <th>902625</th>\n",
       "      <td>0.0</td>\n",
       "      <td>0.0</td>\n",
       "    </tr>\n",
       "    <tr>\n",
       "      <th>902626</th>\n",
       "      <td>0.0</td>\n",
       "      <td>0.0</td>\n",
       "    </tr>\n",
       "    <tr>\n",
       "      <th>902627</th>\n",
       "      <td>0.0</td>\n",
       "      <td>0.0</td>\n",
       "    </tr>\n",
       "    <tr>\n",
       "      <th>902628</th>\n",
       "      <td>0.0</td>\n",
       "      <td>0.0</td>\n",
       "    </tr>\n",
       "  </tbody>\n",
       "</table>\n",
       "<p>902629 rows × 2 columns</p>\n",
       "</div>"
      ],
      "text/plain": [
       "        /Users/cu135/Partners HealthCare Dropbox/Calvin Howard/studies/ccm_memory/results/testing/maastricth_improve_q15.nii  \\\n",
       "0                                                     0.0                                                                      \n",
       "1                                                     0.0                                                                      \n",
       "2                                                     0.0                                                                      \n",
       "3                                                     0.0                                                                      \n",
       "4                                                     0.0                                                                      \n",
       "...                                                   ...                                                                      \n",
       "902624                                                0.0                                                                      \n",
       "902625                                                0.0                                                                      \n",
       "902626                                                0.0                                                                      \n",
       "902627                                                0.0                                                                      \n",
       "902628                                                0.0                                                                      \n",
       "\n",
       "        /Users/cu135/Partners HealthCare Dropbox/Calvin Howard/studies/ccm_memory/results/testing/saante_improve_q15.nii  \n",
       "0                                                     0.0                                                                 \n",
       "1                                                     0.0                                                                 \n",
       "2                                                     0.0                                                                 \n",
       "3                                                     0.0                                                                 \n",
       "4                                                     0.0                                                                 \n",
       "...                                                   ...                                                                 \n",
       "902624                                                0.0                                                                 \n",
       "902625                                                0.0                                                                 \n",
       "902626                                                0.0                                                                 \n",
       "902627                                                0.0                                                                 \n",
       "902628                                                0.0                                                                 \n",
       "\n",
       "[902629 rows x 2 columns]"
      ]
     },
     "execution_count": 7,
     "metadata": {},
     "output_type": "execute_result"
    }
   ],
   "source": [
    "from calvin_utils.nifti_utils.matrix_utilities import join_dataframes\n",
    "try:\n",
    "    merged_df = join_dataframes(matrix_df1, matrix_df2)\n",
    "except:\n",
    "    print('Matrix DF2 does not exist. Just using DF1')\n",
    "    merged_df = matrix_df1\n",
    "merged_df"
   ]
  },
  {
   "cell_type": "markdown",
   "metadata": {},
   "source": [
    "# 02 - Masking"
   ]
  },
  {
   "cell_type": "code",
   "execution_count": 8,
   "metadata": {},
   "outputs": [],
   "source": [
    "import numpy as np\n",
    "from nimlab import datasets as nimds\n",
    "from nilearn import image\n",
    "\n",
    "def apply_mask_to_dataframe(merged_df, mask_path=None):\n",
    "    \"\"\"\n",
    "    Apply a mask to a dataframe using either a provided mask or the default MNI ICBM152 mask.\n",
    "    \n",
    "    Parameters:\n",
    "    - merged_df (DataFrame): The dataframe to which the mask should be applied.\n",
    "    - mask_path (str, optional): The path to the mask image. If not provided, the MNI ICBM152 mask will be used.\n",
    "    \n",
    "    Returns:\n",
    "    - DataFrame: The masked dataframe containing only the rows specified by the mask.\n",
    "    \n",
    "    Example usage:\n",
    "    >>> masked_df = apply_mask_to_dataframe(merged_df, mask_path=None)\n",
    "    \"\"\"\n",
    "    \n",
    "    # Load the mask data based on the provided mask_path or use default mask\n",
    "    if mask_path is not None:\n",
    "        brain_indices = np.where(image.load_img(mask_path).get_fdata().flatten() > 0)[0]\n",
    "    else:\n",
    "        mni_mask = nimds.get_img(\"mni_icbm152\")\n",
    "        mask_data = mni_mask.get_fdata().flatten()\n",
    "        brain_indices = np.where(mask_data > 0)[0]\n",
    "    \n",
    "    # Apply the mask to the dataframe\n",
    "    masked_df = merged_df.iloc[brain_indices]\n",
    "    \n",
    "    return masked_df\n",
    "\n",
    "\n"
   ]
  },
  {
   "cell_type": "code",
   "execution_count": 9,
   "metadata": {},
   "outputs": [
    {
     "data": {
      "text/html": [
       "<div>\n",
       "<style scoped>\n",
       "    .dataframe tbody tr th:only-of-type {\n",
       "        vertical-align: middle;\n",
       "    }\n",
       "\n",
       "    .dataframe tbody tr th {\n",
       "        vertical-align: top;\n",
       "    }\n",
       "\n",
       "    .dataframe thead th {\n",
       "        text-align: right;\n",
       "    }\n",
       "</style>\n",
       "<table border=\"1\" class=\"dataframe\">\n",
       "  <thead>\n",
       "    <tr style=\"text-align: right;\">\n",
       "      <th></th>\n",
       "      <th>/Users/cu135/Partners HealthCare Dropbox/Calvin Howard/studies/ccm_memory/results/testing/maastricth_improve_q15.nii</th>\n",
       "      <th>/Users/cu135/Partners HealthCare Dropbox/Calvin Howard/studies/ccm_memory/results/testing/saante_improve_q15.nii</th>\n",
       "    </tr>\n",
       "  </thead>\n",
       "  <tbody>\n",
       "    <tr>\n",
       "      <th>93491</th>\n",
       "      <td>0.273947</td>\n",
       "      <td>0.052484</td>\n",
       "    </tr>\n",
       "    <tr>\n",
       "      <th>93492</th>\n",
       "      <td>0.256425</td>\n",
       "      <td>0.055271</td>\n",
       "    </tr>\n",
       "    <tr>\n",
       "      <th>93493</th>\n",
       "      <td>0.226449</td>\n",
       "      <td>0.053728</td>\n",
       "    </tr>\n",
       "    <tr>\n",
       "      <th>93582</th>\n",
       "      <td>0.267614</td>\n",
       "      <td>0.056558</td>\n",
       "    </tr>\n",
       "    <tr>\n",
       "      <th>93583</th>\n",
       "      <td>0.257575</td>\n",
       "      <td>0.059253</td>\n",
       "    </tr>\n",
       "    <tr>\n",
       "      <th>...</th>\n",
       "      <td>...</td>\n",
       "      <td>...</td>\n",
       "    </tr>\n",
       "    <tr>\n",
       "      <th>798193</th>\n",
       "      <td>0.142798</td>\n",
       "      <td>0.020690</td>\n",
       "    </tr>\n",
       "    <tr>\n",
       "      <th>798281</th>\n",
       "      <td>0.144073</td>\n",
       "      <td>0.030711</td>\n",
       "    </tr>\n",
       "    <tr>\n",
       "      <th>798282</th>\n",
       "      <td>0.153753</td>\n",
       "      <td>0.037188</td>\n",
       "    </tr>\n",
       "    <tr>\n",
       "      <th>798283</th>\n",
       "      <td>0.160223</td>\n",
       "      <td>0.039115</td>\n",
       "    </tr>\n",
       "    <tr>\n",
       "      <th>798373</th>\n",
       "      <td>0.156824</td>\n",
       "      <td>0.046629</td>\n",
       "    </tr>\n",
       "  </tbody>\n",
       "</table>\n",
       "<p>228483 rows × 2 columns</p>\n",
       "</div>"
      ],
      "text/plain": [
       "        /Users/cu135/Partners HealthCare Dropbox/Calvin Howard/studies/ccm_memory/results/testing/maastricth_improve_q15.nii  \\\n",
       "93491                                            0.273947                                                                      \n",
       "93492                                            0.256425                                                                      \n",
       "93493                                            0.226449                                                                      \n",
       "93582                                            0.267614                                                                      \n",
       "93583                                            0.257575                                                                      \n",
       "...                                                   ...                                                                      \n",
       "798193                                           0.142798                                                                      \n",
       "798281                                           0.144073                                                                      \n",
       "798282                                           0.153753                                                                      \n",
       "798283                                           0.160223                                                                      \n",
       "798373                                           0.156824                                                                      \n",
       "\n",
       "        /Users/cu135/Partners HealthCare Dropbox/Calvin Howard/studies/ccm_memory/results/testing/saante_improve_q15.nii  \n",
       "93491                                            0.052484                                                                 \n",
       "93492                                            0.055271                                                                 \n",
       "93493                                            0.053728                                                                 \n",
       "93582                                            0.056558                                                                 \n",
       "93583                                            0.059253                                                                 \n",
       "...                                                   ...                                                                 \n",
       "798193                                           0.020690                                                                 \n",
       "798281                                           0.030711                                                                 \n",
       "798282                                           0.037188                                                                 \n",
       "798283                                           0.039115                                                                 \n",
       "798373                                           0.046629                                                                 \n",
       "\n",
       "[228483 rows x 2 columns]"
      ]
     },
     "execution_count": 9,
     "metadata": {},
     "output_type": "execute_result"
    }
   ],
   "source": [
    "masked_df = apply_mask_to_dataframe(merged_df, mask_path='/Users/cu135/hires_backdrops/MNI/MNI152_T1_2mm_brain_mask.nii')\n",
    "masked_df\n"
   ]
  },
  {
   "cell_type": "markdown",
   "metadata": {},
   "source": [
    "Transform the Data"
   ]
  },
  {
   "cell_type": "code",
   "execution_count": 10,
   "metadata": {},
   "outputs": [],
   "source": [
    "# masked_df = masked_df.abs()\n",
    "# masked_df[masked_df < 3] = 0 \n",
    "# masked_df.max()\n",
    "\n"
   ]
  },
  {
   "cell_type": "markdown",
   "metadata": {},
   "source": [
    "Sort The Dataframe"
   ]
  },
  {
   "cell_type": "code",
   "execution_count": 11,
   "metadata": {},
   "outputs": [],
   "source": [
    "from natsort import natsorted\n",
    "masked_df = masked_df.reindex(columns=natsorted(masked_df.columns))"
   ]
  },
  {
   "cell_type": "markdown",
   "metadata": {},
   "source": [
    "# 03 - Spatial Correlation"
   ]
  },
  {
   "cell_type": "markdown",
   "metadata": {},
   "source": [
    "**Perform Correlation**\n",
    "\n",
    "method_choices:\n",
    "- 0 = pearson\n",
    "- 1 = spearman\n",
    "- 2 = kendall\n",
    "\n",
    "Only_compare_nonzero_voxels:\n",
    "- We have already removed brain-external values by masking\n",
    "- This will simply prevent comparison of voxels that are not present in both maps."
   ]
  },
  {
   "cell_type": "code",
   "execution_count": 12,
   "metadata": {},
   "outputs": [],
   "source": [
    "method_choice = 1\n",
    "only_compare_nonzero_voxels=True"
   ]
  },
  {
   "cell_type": "code",
   "execution_count": 13,
   "metadata": {},
   "outputs": [],
   "source": [
    "import pandas as pd\n",
    "from tqdm import tqdm\n",
    "from natsort import natsorted\n",
    "\n",
    "def compute_correlation(df, method_choice=0, only_compare_nonzero_voxels=False):\n",
    "    \"\"\"\n",
    "    Compute correlations among columns of a DataFrame using a specified method.\n",
    "    When only_compare_nonzero_voxels is True, only pairs of non-zero voxels are used for the computation.\n",
    "    \n",
    "    Parameters:\n",
    "    - df (DataFrame): The dataframe for which correlations should be computed.\n",
    "    - method_choice (int, optional): An integer indicating the correlation method to be used. \n",
    "                                     0: Pearson (default), 1: Spearman, 2: Kendall.\n",
    "    - only_compare_nonzero_voxels (bool, optional): Flag to determine whether to compute correlations \n",
    "                                                    considering only non-zero voxels. Default is False.\n",
    "    \n",
    "    Returns:\n",
    "    - DataFrame: The correlation matrix.\n",
    "    \n",
    "    Example usage:\n",
    "    >>> corr_matrix = compute_correlation(df, method_choice=0, only_compare_nonzero_voxels=True)\n",
    "    \"\"\"\n",
    "    \n",
    "    methods = ['pearson', 'spearman', 'kendall']\n",
    "    method = methods[method_choice]\n",
    "    \n",
    "    # If only_compare_nonzero_voxels is False, compute the correlation in the usual manner\n",
    "    if not only_compare_nonzero_voxels:\n",
    "        return df.corr(method=method), method\n",
    "    else:\n",
    "        columns = df.columns\n",
    "        n = len(columns)\n",
    "        \n",
    "        # Initialize a dataframe to store the results\n",
    "        corr_df = pd.DataFrame(index=columns, columns=columns, dtype='float64')\n",
    "        \n",
    "        # Iterate over each pair of columns\n",
    "        for i in tqdm(range(n)):\n",
    "            for j in range(i, n):\n",
    "                # Filter rows where both columns have non-zero values\n",
    "                temp_df = df[(df[columns[i]] != 0) & (df[columns[j]] != 0)]\n",
    "                \n",
    "                # Compute correlation for the filtered rows\n",
    "                corr_value = temp_df[[columns[i], columns[j]]].corr(method=method).iloc[0, 1]\n",
    "                \n",
    "                # Assign the computed value to the result dataframe\n",
    "                corr_df.iloc[i, j] = corr_value\n",
    "                corr_df.iloc[j, i] = corr_value\n",
    "                \n",
    "    #Sort the Dataframe            \n",
    "    corr_df = corr_df.reindex(index=natsorted(corr_df.index))\n",
    "    corr_df = corr_df.reindex(columns=natsorted(corr_df.columns))\n",
    "    return corr_df, method\n",
    "\n",
    "import os\n",
    "\n",
    "def save_correlation_results(corr_df, fig, out_dir, save=False, method_choice=0):\n",
    "    \"\"\"\n",
    "    Save the correlation dataframe and figure to specified output directory.\n",
    "    \n",
    "    Parameters:\n",
    "    - out_dir (str): The base directory where the results should be saved.\n",
    "    - comparison (str): The specific comparison or sub-directory under out_dir.\n",
    "    - save (bool, optional): Flag to determine whether to save results. Default is False.\n",
    "    - method_choice (int, optional): An integer indicating the correlation method used. \n",
    "                                     0: Pearson (default), 1: Spearman, 2: Kendall.\n",
    "    \n",
    "    Example usage:\n",
    "    >>> save_correlation_results('/path/to/output', 'specific_comparison', save=True, method_choice=1)\n",
    "    \"\"\"\n",
    "    methods = ['spatial_pearson', 'spatial_spearman', 'spatial_kendall']\n",
    "    method_choice = methods[method_choice]\n",
    "    if save:\n",
    "        out_dir = os.path.join(out_dir, 'spatial_correlation')\n",
    "        os.makedirs(out_dir, exist_ok=True)\n",
    "\n",
    "        corr_df.to_csv(os.path.join(out_dir, f'{method_choice}_correlation_df.csv'))\n",
    "        fig.savefig(os.path.join(out_dir, f'{method_choice}_correlation_matrix.png'))\n",
    "        print('saved to ' + os.path.join(out_dir, f'{method_choice}_correlation_matrix.png'))"
   ]
  },
  {
   "cell_type": "code",
   "execution_count": 14,
   "metadata": {},
   "outputs": [
    {
     "name": "stderr",
     "output_type": "stream",
     "text": [
      "100%|██████████| 2/2 [00:00<00:00, 10.82it/s]\n"
     ]
    },
    {
     "data": {
      "text/html": [
       "<div>\n",
       "<style scoped>\n",
       "    .dataframe tbody tr th:only-of-type {\n",
       "        vertical-align: middle;\n",
       "    }\n",
       "\n",
       "    .dataframe tbody tr th {\n",
       "        vertical-align: top;\n",
       "    }\n",
       "\n",
       "    .dataframe thead th {\n",
       "        text-align: right;\n",
       "    }\n",
       "</style>\n",
       "<table border=\"1\" class=\"dataframe\">\n",
       "  <thead>\n",
       "    <tr style=\"text-align: right;\">\n",
       "      <th></th>\n",
       "      <th>/Users/cu135/Partners HealthCare Dropbox/Calvin Howard/studies/ccm_memory/results/testing/maastricth_improve_q15.nii</th>\n",
       "      <th>/Users/cu135/Partners HealthCare Dropbox/Calvin Howard/studies/ccm_memory/results/testing/saante_improve_q15.nii</th>\n",
       "    </tr>\n",
       "  </thead>\n",
       "  <tbody>\n",
       "    <tr>\n",
       "      <th>/Users/cu135/Partners HealthCare Dropbox/Calvin Howard/studies/ccm_memory/results/testing/maastricth_improve_q15.nii</th>\n",
       "      <td>1.000000</td>\n",
       "      <td>0.626207</td>\n",
       "    </tr>\n",
       "    <tr>\n",
       "      <th>/Users/cu135/Partners HealthCare Dropbox/Calvin Howard/studies/ccm_memory/results/testing/saante_improve_q15.nii</th>\n",
       "      <td>0.626207</td>\n",
       "      <td>1.000000</td>\n",
       "    </tr>\n",
       "  </tbody>\n",
       "</table>\n",
       "</div>"
      ],
      "text/plain": [
       "                                                    /Users/cu135/Partners HealthCare Dropbox/Calvin Howard/studies/ccm_memory/results/testing/maastricth_improve_q15.nii  \\\n",
       "/Users/cu135/Partners HealthCare Dropbox/Calvin...                                           1.000000                                                                      \n",
       "/Users/cu135/Partners HealthCare Dropbox/Calvin...                                           0.626207                                                                      \n",
       "\n",
       "                                                    /Users/cu135/Partners HealthCare Dropbox/Calvin Howard/studies/ccm_memory/results/testing/saante_improve_q15.nii  \n",
       "/Users/cu135/Partners HealthCare Dropbox/Calvin...                                           0.626207                                                                 \n",
       "/Users/cu135/Partners HealthCare Dropbox/Calvin...                                           1.000000                                                                 "
      ]
     },
     "execution_count": 14,
     "metadata": {},
     "output_type": "execute_result"
    }
   ],
   "source": [
    "corr_df, method = compute_correlation(masked_df, method_choice=method_choice, \n",
    "                                      only_compare_nonzero_voxels=only_compare_nonzero_voxels)\n",
    "corr_df"
   ]
  },
  {
   "cell_type": "markdown",
   "metadata": {},
   "source": [
    "**Visualize the Correlation Matrix**"
   ]
  },
  {
   "cell_type": "code",
   "execution_count": 15,
   "metadata": {},
   "outputs": [
    {
     "name": "stdout",
     "output_type": "stream",
     "text": [
      "saved to /Users/cu135/Partners HealthCare Dropbox/Calvin Howard/studies/arc/analyses/arc_atrophy_spcorr/spatial_correlation/spatial_spearman_correlation_matrix.png\n"
     ]
    },
    {
     "data": {
      "image/png": "[encoded data removed]",
      "text/plain": [
       "<Figure size 1500x1300 with 2 Axes>"
      ]
     },
     "metadata": {},
     "output_type": "display_data"
    }
   ],
   "source": [
    "#Create heatmap of correlation matrix\n",
    "import seaborn as sns\n",
    "import matplotlib.pyplot as plt\n",
    "\n",
    "fig = plt.figure(figsize=(15, 13))\n",
    "sns.heatmap(corr_df, cmap='ocean_hot',square=True, linewidths=.5, cbar_kws={\"shrink\": .5}, vmin=-0.5, vmax=0.5)       \n",
    "save_correlation_results(corr_df=corr_df, fig=fig, out_dir=out_dir, save=True, method_choice=method_choice)   "
   ]
  },
  {
   "cell_type": "markdown",
   "metadata": {},
   "source": [
    "**Show Specific Heatmap**"
   ]
  },
  {
   "cell_type": "code",
   "execution_count": 16,
   "metadata": {},
   "outputs": [
    {
     "name": "stdout",
     "output_type": "stream",
     "text": [
      "Index(['/Users/cu135/Partners HealthCare Dropbox/Calvin Howard/studies/ccm_memory/results/testing/maastricth_improve_q15.nii', '/Users/cu135/Partners HealthCare Dropbox/Calvin Howard/studies/ccm_memory/results/testing/saante_improve_q15.nii'], dtype='object')\n"
     ]
    }
   ],
   "source": [
    "print(corr_df.columns)"
   ]
  },
  {
   "cell_type": "code",
   "execution_count": 17,
   "metadata": {},
   "outputs": [
    {
     "ename": "KeyError",
     "evalue": "'150_vat_seed_compound_fMRI_efield_func_seed_T.nii'",
     "output_type": "error",
     "traceback": [
      "\u001b[0;31m---------------------------------------------------------------------------\u001b[0m",
      "\u001b[0;31mKeyError\u001b[0m                                  Traceback (most recent call last)",
      "File \u001b[0;32m~/.local/lib/python3.10/site-packages/pandas/core/indexes/base.py:3805\u001b[0m, in \u001b[0;36mIndex.get_loc\u001b[0;34m(self, key)\u001b[0m\n\u001b[1;32m   3804\u001b[0m \u001b[38;5;28;01mtry\u001b[39;00m:\n\u001b[0;32m-> 3805\u001b[0m     \u001b[38;5;28;01mreturn\u001b[39;00m \u001b[38;5;28;43mself\u001b[39;49m\u001b[38;5;241;43m.\u001b[39;49m\u001b[43m_engine\u001b[49m\u001b[38;5;241;43m.\u001b[39;49m\u001b[43mget_loc\u001b[49m\u001b[43m(\u001b[49m\u001b[43mcasted_key\u001b[49m\u001b[43m)\u001b[49m\n\u001b[1;32m   3806\u001b[0m \u001b[38;5;28;01mexcept\u001b[39;00m \u001b[38;5;167;01mKeyError\u001b[39;00m \u001b[38;5;28;01mas\u001b[39;00m err:\n",
      "File \u001b[0;32mindex.pyx:167\u001b[0m, in \u001b[0;36mpandas._libs.index.IndexEngine.get_loc\u001b[0;34m()\u001b[0m\n",
      "File \u001b[0;32mindex.pyx:196\u001b[0m, in \u001b[0;36mpandas._libs.index.IndexEngine.get_loc\u001b[0;34m()\u001b[0m\n",
      "File \u001b[0;32mpandas/_libs/hashtable_class_helper.pxi:7081\u001b[0m, in \u001b[0;36mpandas._libs.hashtable.PyObjectHashTable.get_item\u001b[0;34m()\u001b[0m\n",
      "File \u001b[0;32mpandas/_libs/hashtable_class_helper.pxi:7089\u001b[0m, in \u001b[0;36mpandas._libs.hashtable.PyObjectHashTable.get_item\u001b[0;34m()\u001b[0m\n",
      "\u001b[0;31mKeyError\u001b[0m: '150_vat_seed_compound_fMRI_efield_func_seed_T.nii'",
      "\nThe above exception was the direct cause of the following exception:\n",
      "\u001b[0;31mKeyError\u001b[0m                                  Traceback (most recent call last)",
      "Cell \u001b[0;32mIn[17], line 9\u001b[0m\n\u001b[1;32m      7\u001b[0m \u001b[38;5;66;03m#---isolate network of interest and remove those not of interest\u001b[39;00m\n\u001b[1;32m      8\u001b[0m corr_df_2 \u001b[38;5;241m=\u001b[39m corr_df\u001b[38;5;241m.\u001b[39mcopy()\n\u001b[0;32m----> 9\u001b[0m corr_df_2 \u001b[38;5;241m=\u001b[39m pd\u001b[38;5;241m.\u001b[39mDataFrame(\u001b[43mcorr_df_2\u001b[49m\u001b[38;5;241;43m.\u001b[39;49m\u001b[43mloc\u001b[49m\u001b[43m[\u001b[49m\u001b[43m:\u001b[49m\u001b[43m,\u001b[49m\u001b[43m \u001b[49m\u001b[43mnetwork_of_interest\u001b[49m\u001b[43m]\u001b[49m)\n\u001b[1;32m     10\u001b[0m \u001b[38;5;28;01mif\u001b[39;00m networks_of_disinterest[\u001b[38;5;241m0\u001b[39m] \u001b[38;5;129;01mis\u001b[39;00m \u001b[38;5;129;01mnot\u001b[39;00m \u001b[38;5;28;01mNone\u001b[39;00m:\n\u001b[1;32m     11\u001b[0m     \u001b[38;5;28;01mfor\u001b[39;00m network \u001b[38;5;129;01min\u001b[39;00m networks_of_disinterest:\n",
      "File \u001b[0;32m~/.local/lib/python3.10/site-packages/pandas/core/indexing.py:1184\u001b[0m, in \u001b[0;36m_LocationIndexer.__getitem__\u001b[0;34m(self, key)\u001b[0m\n\u001b[1;32m   1182\u001b[0m     \u001b[38;5;28;01mif\u001b[39;00m \u001b[38;5;28mself\u001b[39m\u001b[38;5;241m.\u001b[39m_is_scalar_access(key):\n\u001b[1;32m   1183\u001b[0m         \u001b[38;5;28;01mreturn\u001b[39;00m \u001b[38;5;28mself\u001b[39m\u001b[38;5;241m.\u001b[39mobj\u001b[38;5;241m.\u001b[39m_get_value(\u001b[38;5;241m*\u001b[39mkey, takeable\u001b[38;5;241m=\u001b[39m\u001b[38;5;28mself\u001b[39m\u001b[38;5;241m.\u001b[39m_takeable)\n\u001b[0;32m-> 1184\u001b[0m     \u001b[38;5;28;01mreturn\u001b[39;00m \u001b[38;5;28;43mself\u001b[39;49m\u001b[38;5;241;43m.\u001b[39;49m\u001b[43m_getitem_tuple\u001b[49m\u001b[43m(\u001b[49m\u001b[43mkey\u001b[49m\u001b[43m)\u001b[49m\n\u001b[1;32m   1185\u001b[0m \u001b[38;5;28;01melse\u001b[39;00m:\n\u001b[1;32m   1186\u001b[0m     \u001b[38;5;66;03m# we by definition only have the 0th axis\u001b[39;00m\n\u001b[1;32m   1187\u001b[0m     axis \u001b[38;5;241m=\u001b[39m \u001b[38;5;28mself\u001b[39m\u001b[38;5;241m.\u001b[39maxis \u001b[38;5;129;01mor\u001b[39;00m \u001b[38;5;241m0\u001b[39m\n",
      "File \u001b[0;32m~/.local/lib/python3.10/site-packages/pandas/core/indexing.py:1368\u001b[0m, in \u001b[0;36m_LocIndexer._getitem_tuple\u001b[0;34m(self, tup)\u001b[0m\n\u001b[1;32m   1366\u001b[0m \u001b[38;5;28;01mwith\u001b[39;00m suppress(IndexingError):\n\u001b[1;32m   1367\u001b[0m     tup \u001b[38;5;241m=\u001b[39m \u001b[38;5;28mself\u001b[39m\u001b[38;5;241m.\u001b[39m_expand_ellipsis(tup)\n\u001b[0;32m-> 1368\u001b[0m     \u001b[38;5;28;01mreturn\u001b[39;00m \u001b[38;5;28;43mself\u001b[39;49m\u001b[38;5;241;43m.\u001b[39;49m\u001b[43m_getitem_lowerdim\u001b[49m\u001b[43m(\u001b[49m\u001b[43mtup\u001b[49m\u001b[43m)\u001b[49m\n\u001b[1;32m   1370\u001b[0m \u001b[38;5;66;03m# no multi-index, so validate all of the indexers\u001b[39;00m\n\u001b[1;32m   1371\u001b[0m tup \u001b[38;5;241m=\u001b[39m \u001b[38;5;28mself\u001b[39m\u001b[38;5;241m.\u001b[39m_validate_tuple_indexer(tup)\n",
      "File \u001b[0;32m~/.local/lib/python3.10/site-packages/pandas/core/indexing.py:1065\u001b[0m, in \u001b[0;36m_LocationIndexer._getitem_lowerdim\u001b[0;34m(self, tup)\u001b[0m\n\u001b[1;32m   1061\u001b[0m \u001b[38;5;28;01mfor\u001b[39;00m i, key \u001b[38;5;129;01min\u001b[39;00m \u001b[38;5;28menumerate\u001b[39m(tup):\n\u001b[1;32m   1062\u001b[0m     \u001b[38;5;28;01mif\u001b[39;00m is_label_like(key):\n\u001b[1;32m   1063\u001b[0m         \u001b[38;5;66;03m# We don't need to check for tuples here because those are\u001b[39;00m\n\u001b[1;32m   1064\u001b[0m         \u001b[38;5;66;03m#  caught by the _is_nested_tuple_indexer check above.\u001b[39;00m\n\u001b[0;32m-> 1065\u001b[0m         section \u001b[38;5;241m=\u001b[39m \u001b[38;5;28;43mself\u001b[39;49m\u001b[38;5;241;43m.\u001b[39;49m\u001b[43m_getitem_axis\u001b[49m\u001b[43m(\u001b[49m\u001b[43mkey\u001b[49m\u001b[43m,\u001b[49m\u001b[43m \u001b[49m\u001b[43maxis\u001b[49m\u001b[38;5;241;43m=\u001b[39;49m\u001b[43mi\u001b[49m\u001b[43m)\u001b[49m\n\u001b[1;32m   1067\u001b[0m         \u001b[38;5;66;03m# We should never have a scalar section here, because\u001b[39;00m\n\u001b[1;32m   1068\u001b[0m         \u001b[38;5;66;03m#  _getitem_lowerdim is only called after a check for\u001b[39;00m\n\u001b[1;32m   1069\u001b[0m         \u001b[38;5;66;03m#  is_scalar_access, which that would be.\u001b[39;00m\n\u001b[1;32m   1070\u001b[0m         \u001b[38;5;28;01mif\u001b[39;00m section\u001b[38;5;241m.\u001b[39mndim \u001b[38;5;241m==\u001b[39m \u001b[38;5;28mself\u001b[39m\u001b[38;5;241m.\u001b[39mndim:\n\u001b[1;32m   1071\u001b[0m             \u001b[38;5;66;03m# we're in the middle of slicing through a MultiIndex\u001b[39;00m\n\u001b[1;32m   1072\u001b[0m             \u001b[38;5;66;03m# revise the key wrt to `section` by inserting an _NS\u001b[39;00m\n",
      "File \u001b[0;32m~/.local/lib/python3.10/site-packages/pandas/core/indexing.py:1431\u001b[0m, in \u001b[0;36m_LocIndexer._getitem_axis\u001b[0;34m(self, key, axis)\u001b[0m\n\u001b[1;32m   1429\u001b[0m \u001b[38;5;66;03m# fall thru to straight lookup\u001b[39;00m\n\u001b[1;32m   1430\u001b[0m \u001b[38;5;28mself\u001b[39m\u001b[38;5;241m.\u001b[39m_validate_key(key, axis)\n\u001b[0;32m-> 1431\u001b[0m \u001b[38;5;28;01mreturn\u001b[39;00m \u001b[38;5;28;43mself\u001b[39;49m\u001b[38;5;241;43m.\u001b[39;49m\u001b[43m_get_label\u001b[49m\u001b[43m(\u001b[49m\u001b[43mkey\u001b[49m\u001b[43m,\u001b[49m\u001b[43m \u001b[49m\u001b[43maxis\u001b[49m\u001b[38;5;241;43m=\u001b[39;49m\u001b[43maxis\u001b[49m\u001b[43m)\u001b[49m\n",
      "File \u001b[0;32m~/.local/lib/python3.10/site-packages/pandas/core/indexing.py:1381\u001b[0m, in \u001b[0;36m_LocIndexer._get_label\u001b[0;34m(self, label, axis)\u001b[0m\n\u001b[1;32m   1379\u001b[0m \u001b[38;5;28;01mdef\u001b[39;00m\u001b[38;5;250m \u001b[39m\u001b[38;5;21m_get_label\u001b[39m(\u001b[38;5;28mself\u001b[39m, label, axis: AxisInt):\n\u001b[1;32m   1380\u001b[0m     \u001b[38;5;66;03m# GH#5567 this will fail if the label is not present in the axis.\u001b[39;00m\n\u001b[0;32m-> 1381\u001b[0m     \u001b[38;5;28;01mreturn\u001b[39;00m \u001b[38;5;28;43mself\u001b[39;49m\u001b[38;5;241;43m.\u001b[39;49m\u001b[43mobj\u001b[49m\u001b[38;5;241;43m.\u001b[39;49m\u001b[43mxs\u001b[49m\u001b[43m(\u001b[49m\u001b[43mlabel\u001b[49m\u001b[43m,\u001b[49m\u001b[43m \u001b[49m\u001b[43maxis\u001b[49m\u001b[38;5;241;43m=\u001b[39;49m\u001b[43maxis\u001b[49m\u001b[43m)\u001b[49m\n",
      "File \u001b[0;32m~/.local/lib/python3.10/site-packages/pandas/core/generic.py:4287\u001b[0m, in \u001b[0;36mNDFrame.xs\u001b[0;34m(self, key, axis, level, drop_level)\u001b[0m\n\u001b[1;32m   4285\u001b[0m \u001b[38;5;28;01mif\u001b[39;00m axis \u001b[38;5;241m==\u001b[39m \u001b[38;5;241m1\u001b[39m:\n\u001b[1;32m   4286\u001b[0m     \u001b[38;5;28;01mif\u001b[39;00m drop_level:\n\u001b[0;32m-> 4287\u001b[0m         \u001b[38;5;28;01mreturn\u001b[39;00m \u001b[38;5;28;43mself\u001b[39;49m\u001b[43m[\u001b[49m\u001b[43mkey\u001b[49m\u001b[43m]\u001b[49m\n\u001b[1;32m   4288\u001b[0m     index \u001b[38;5;241m=\u001b[39m \u001b[38;5;28mself\u001b[39m\u001b[38;5;241m.\u001b[39mcolumns\n\u001b[1;32m   4289\u001b[0m \u001b[38;5;28;01melse\u001b[39;00m:\n",
      "File \u001b[0;32m~/.local/lib/python3.10/site-packages/pandas/core/frame.py:4102\u001b[0m, in \u001b[0;36mDataFrame.__getitem__\u001b[0;34m(self, key)\u001b[0m\n\u001b[1;32m   4100\u001b[0m \u001b[38;5;28;01mif\u001b[39;00m \u001b[38;5;28mself\u001b[39m\u001b[38;5;241m.\u001b[39mcolumns\u001b[38;5;241m.\u001b[39mnlevels \u001b[38;5;241m>\u001b[39m \u001b[38;5;241m1\u001b[39m:\n\u001b[1;32m   4101\u001b[0m     \u001b[38;5;28;01mreturn\u001b[39;00m \u001b[38;5;28mself\u001b[39m\u001b[38;5;241m.\u001b[39m_getitem_multilevel(key)\n\u001b[0;32m-> 4102\u001b[0m indexer \u001b[38;5;241m=\u001b[39m \u001b[38;5;28;43mself\u001b[39;49m\u001b[38;5;241;43m.\u001b[39;49m\u001b[43mcolumns\u001b[49m\u001b[38;5;241;43m.\u001b[39;49m\u001b[43mget_loc\u001b[49m\u001b[43m(\u001b[49m\u001b[43mkey\u001b[49m\u001b[43m)\u001b[49m\n\u001b[1;32m   4103\u001b[0m \u001b[38;5;28;01mif\u001b[39;00m is_integer(indexer):\n\u001b[1;32m   4104\u001b[0m     indexer \u001b[38;5;241m=\u001b[39m [indexer]\n",
      "File \u001b[0;32m~/.local/lib/python3.10/site-packages/pandas/core/indexes/base.py:3812\u001b[0m, in \u001b[0;36mIndex.get_loc\u001b[0;34m(self, key)\u001b[0m\n\u001b[1;32m   3807\u001b[0m     \u001b[38;5;28;01mif\u001b[39;00m \u001b[38;5;28misinstance\u001b[39m(casted_key, \u001b[38;5;28mslice\u001b[39m) \u001b[38;5;129;01mor\u001b[39;00m (\n\u001b[1;32m   3808\u001b[0m         \u001b[38;5;28misinstance\u001b[39m(casted_key, abc\u001b[38;5;241m.\u001b[39mIterable)\n\u001b[1;32m   3809\u001b[0m         \u001b[38;5;129;01mand\u001b[39;00m \u001b[38;5;28many\u001b[39m(\u001b[38;5;28misinstance\u001b[39m(x, \u001b[38;5;28mslice\u001b[39m) \u001b[38;5;28;01mfor\u001b[39;00m x \u001b[38;5;129;01min\u001b[39;00m casted_key)\n\u001b[1;32m   3810\u001b[0m     ):\n\u001b[1;32m   3811\u001b[0m         \u001b[38;5;28;01mraise\u001b[39;00m InvalidIndexError(key)\n\u001b[0;32m-> 3812\u001b[0m     \u001b[38;5;28;01mraise\u001b[39;00m \u001b[38;5;167;01mKeyError\u001b[39;00m(key) \u001b[38;5;28;01mfrom\u001b[39;00m\u001b[38;5;250m \u001b[39m\u001b[38;5;21;01merr\u001b[39;00m\n\u001b[1;32m   3813\u001b[0m \u001b[38;5;28;01mexcept\u001b[39;00m \u001b[38;5;167;01mTypeError\u001b[39;00m:\n\u001b[1;32m   3814\u001b[0m     \u001b[38;5;66;03m# If we have a listlike key, _check_indexing_error will raise\u001b[39;00m\n\u001b[1;32m   3815\u001b[0m     \u001b[38;5;66;03m#  InvalidIndexError. Otherwise we fall through and re-raise\u001b[39;00m\n\u001b[1;32m   3816\u001b[0m     \u001b[38;5;66;03m#  the TypeError.\u001b[39;00m\n\u001b[1;32m   3817\u001b[0m     \u001b[38;5;28mself\u001b[39m\u001b[38;5;241m.\u001b[39m_check_indexing_error(key)\n",
      "\u001b[0;31mKeyError\u001b[0m: '150_vat_seed_compound_fMRI_efield_func_seed_T.nii'"
     ]
    }
   ],
   "source": [
    "#Enter networks of interest\n",
    "network_of_interest = '150_vat_seed_compound_fMRI_efield_func_seed_T.nii'\n",
    "networks_of_disinterest = [\n",
    "    None   \n",
    "]\n",
    "\n",
    "#---isolate network of interest and remove those not of interest\n",
    "corr_df_2 = corr_df.copy()\n",
    "corr_df_2 = pd.DataFrame(corr_df_2.loc[:, network_of_interest])\n",
    "if networks_of_disinterest[0] is not None:\n",
    "    for network in networks_of_disinterest:\n",
    "        corr_df_2.drop(network, inplace=True)\n",
    "#Sort the dataframe by descending order\n",
    "corr_df_2 = corr_df_2.sort_values(network_of_interest)\n",
    "#Remove .nii from file names\n",
    "for name in corr_df_2.columns.values:\n",
    "    newname = name.split('.nii')[0]\n",
    "    corr_df_2 = corr_df_2.rename({name: newname}, axis='columns')\n",
    "for name in corr_df_2.index.values:\n",
    "    newname = name.split('.nii')[0]\n",
    "    corr_df_2 = corr_df_2.rename({name: newname}, axis='index')\n",
    "\n",
    "#---Visualize the new data\n",
    "#Create heatmap of correlation matrix\n",
    "import seaborn as sns\n",
    "import matplotlib.pyplot as plt\n",
    "\n",
    "fig = plt.figure(figsize=(15, 13))\n",
    "\n",
    "sns.heatmap(corr_df_2, cmap='ocean_hot',square=True, linewidths=.5, cbar_kws={\"shrink\": .5}, vmin=-1, vmax=1)\n",
    "\n",
    "#Save results\n",
    "fig.savefig(out_dir + f'/spcorrel_{network_of_interest}.png')\n",
    "fig.savefig(out_dir + f'/spcorrel_{network_of_interest}.svg')\n",
    "corr_df_2.to_csv(out_dir + f'/spcorrel_{network_of_interest}.csv')\n",
    "display(corr_df_2)\n",
    "print(out_dir)"
   ]
  },
  {
   "cell_type": "markdown",
   "metadata": {},
   "source": [
    "**Extract the Cross-Correlation Matrix**"
   ]
  },
  {
   "cell_type": "code",
   "execution_count": null,
   "metadata": {},
   "outputs": [],
   "source": [
    "def extract_cross_correlation_diagonal(corr_df):\n",
    "    \"\"\"\n",
    "    Extracts the diagonal of the cross-correlation from the given correlation matrix.\n",
    "    \n",
    "    Parameters:\n",
    "    - corr_df (DataFrame): The correlation matrix.\n",
    "    \n",
    "    Returns:\n",
    "    - DataFrame: The diagonal of the cross-correlation with the patient identifiers as the index.\n",
    "    \n",
    "    Example usage:\n",
    "    >>> cross_corr_diag = extract_cross_correlation_diagonal(corr_df)\n",
    "    \"\"\"\n",
    "    \n",
    "    # Assuming the dataframe is square and has an even number of columns,\n",
    "    # split it into two equal parts\n",
    "    n = len(corr_df)\n",
    "    half_n = n // 2\n",
    "    \n",
    "    # Extract the values from the intersection of the rows of the first dataset \n",
    "    # and the columns of the second dataset\n",
    "    cross_corr_values = [corr_df.iloc[i, i + half_n] for i in range(half_n)]\n",
    "    \n",
    "    # Convert to DataFrame while maintaining the index from the original corr_df\n",
    "    cross_corr_df = pd.DataFrame(cross_corr_values, index=corr_df.index[:half_n], columns=[\"Cross-Correlation\"])\n",
    "    \n",
    "    return cross_corr_df\n",
    "\n"
   ]
  },
  {
   "cell_type": "code",
   "execution_count": null,
   "metadata": {},
   "outputs": [],
   "source": [
    "cross_corr_diagonal_df = extract_cross_correlation_diagonal(corr_df)\n",
    "cross_corr_diagonal_df"
   ]
  },
  {
   "cell_type": "code",
   "execution_count": null,
   "metadata": {},
   "outputs": [],
   "source": [
    "#Create heatmap of correlation matrix\n",
    "import seaborn as sns\n",
    "import matplotlib.pyplot as plt\n",
    "\n",
    "fig = plt.figure(figsize=(15, 13))\n",
    "sns.heatmap(cross_corr_diagonal_df, cmap='ocean_hot',square=True, linewidths=.5, cbar_kws={\"shrink\": .5}, vmin=-1, vmax=1)       "
   ]
  },
  {
   "cell_type": "markdown",
   "metadata": {},
   "source": [
    "Save Results"
   ]
  },
  {
   "cell_type": "code",
   "execution_count": null,
   "metadata": {},
   "outputs": [],
   "source": [
    "import os\n",
    "\n",
    "def save_cross_correlation_results(corr_df, fig, out_dir, comparison, save=False, method_choice=0):\n",
    "    \"\"\"\n",
    "    Save the correlation dataframe and figure to specified output directory.\n",
    "    \n",
    "    Parameters:\n",
    "    - out_dir (str): The base directory where the results should be saved.\n",
    "    - comparison (str): The specific comparison or sub-directory under out_dir.\n",
    "    - save (bool, optional): Flag to determine whether to save results. Default is False.\n",
    "    - method_choice (int, optional): An integer indicating the correlation method used. \n",
    "                                     0: Pearson (default), 1: Spearman, 2: Kendall.\n",
    "    \n",
    "    Example usage:\n",
    "    >>> save_correlation_results('/path/to/output', 'specific_comparison', save=True, method_choice=1)\n",
    "    \"\"\"\n",
    "    \n",
    "    if save:\n",
    "        out_dir = os.path.join(out_dir, comparison)\n",
    "        os.makedirs(out_dir, exist_ok=True)\n",
    "\n",
    "        corr_df.to_csv(os.path.join(out_dir, f'{method_choice}_cross_correlation_df.csv'))\n",
    "        fig.savefig(os.path.join(out_dir, f'{method_choice}_cross_correlation_matrix.png'))\n",
    "        print('saved to ' + os.path.join(out_dir, f'{method_choice}_cross_correlation_matrix.png'))"
   ]
  },
  {
   "cell_type": "code",
   "execution_count": null,
   "metadata": {},
   "outputs": [],
   "source": [
    "save_results = True"
   ]
  },
  {
   "cell_type": "code",
   "execution_count": null,
   "metadata": {},
   "outputs": [],
   "source": [
    "save_cross_correlation_results(corr_df=cross_corr_diagonal_df, fig=fig, out_dir=out_dir, comparison=comparison, save=save_results, method_choice=method_choice)"
   ]
  },
  {
   "cell_type": "markdown",
   "metadata": {},
   "source": [
    "# 04 - Permute Spatial Correlation"
   ]
  },
  {
   "cell_type": "code",
   "execution_count": null,
   "metadata": {},
   "outputs": [],
   "source": [
    "import pandas as pd\n",
    "from tqdm import tqdm\n",
    "from natsort import natsorted\n",
    "import numpy as np\n",
    "\n",
    "class PermutedSpatialCorrelation:\n",
    "    def __init__(self, dataframe, n_permutations=1000):\n",
    "        self.dataframe = dataframe\n",
    "        self.n_permutations = n_permutations\n",
    "        self.permuted_correlations = []\n",
    "        self.observed_correlation = None\n",
    "\n",
    "    def compute_correlation(self, df, method_choice=0, only_compare_nonzero_voxels=False):\n",
    "        \"\"\"\n",
    "        Compute correlations among columns of a DataFrame using a specified method.\n",
    "        When only_compare_nonzero_voxels is True, only pairs of non-zero voxels are used for the computation.\n",
    "        \n",
    "        Parameters:\n",
    "        - df (DataFrame): The dataframe for which correlations should be computed.\n",
    "        - method_choice (int, optional): An integer indicating the correlation method to be used. \n",
    "                                        0: Pearson (default), 1: Spearman, 2: Kendall.\n",
    "        - only_compare_nonzero_voxels (bool, optional): Flag to determine whether to compute correlations \n",
    "                                                        considering only non-zero voxels. Default is False.\n",
    "        \n",
    "        Returns:\n",
    "        - DataFrame: The correlation matrix.\n",
    "        \n",
    "        Example usage:\n",
    "        >>> corr_matrix = compute_correlation(df, method_choice=0, only_compare_nonzero_voxels=True)\n",
    "        \"\"\"\n",
    "        \n",
    "        methods = ['pearson', 'spearman', 'kendall']\n",
    "        method = methods[method_choice]\n",
    "        \n",
    "        # If only_compare_nonzero_voxels is False, compute the correlation in the usual manner\n",
    "        if not only_compare_nonzero_voxels:\n",
    "            return df.corr(method=method), method\n",
    "        else:\n",
    "            columns = df.columns\n",
    "            n = len(columns)\n",
    "            \n",
    "            # Initialize a dataframe to store the results\n",
    "            corr_df = pd.DataFrame(index=columns, columns=columns, dtype='float64')\n",
    "            \n",
    "            # Iterate over each pair of columns\n",
    "            for i in tqdm(range(n)):\n",
    "                for j in range(i, n):\n",
    "                    # Filter rows where both columns have non-zero values\n",
    "                    temp_df = df[(df[columns[i]] != 0) & (df[columns[j]] != 0)]\n",
    "                    \n",
    "                    # Compute correlation for the filtered rows\n",
    "                    corr_value = temp_df[[columns[i], columns[j]]].corr(method=method).iloc[0, 1]\n",
    "                    \n",
    "                    # Assign the computed value to the result dataframe\n",
    "                    corr_df.iloc[i, j] = corr_value\n",
    "                    corr_df.iloc[j, i] = corr_value\n",
    "                    \n",
    "        #Sort the Dataframe            \n",
    "        corr_df = corr_df.reindex(index=natsorted(corr_df.index))\n",
    "        corr_df = corr_df.reindex(columns=natsorted(corr_df.columns))\n",
    "        return corr_df, method\n",
    "\n",
    "\n",
    "    def permute_column(self, column):\n",
    "        return np.random.permutation(column)\n",
    "\n",
    "    def permute_and_correlate(self):\n",
    "        permuted_df = self.dataframe.copy()\n",
    "        for col in permuted_df.columns:\n",
    "            permuted_df[col] = self.permute_column(permuted_df[col])\n",
    "        permuted_corr, _ = self.compute_correlation(permuted_df)\n",
    "        return permuted_corr\n",
    "\n",
    "    def run_permutations(self):\n",
    "        self.observed_correlation, _ = self.compute_correlation(self.dataframe)\n",
    "        for _ in tqdm(range(self.n_permutations)):\n",
    "            permuted_corr = self.permute_and_correlate()\n",
    "            self.permuted_correlations.append(permuted_corr)\n",
    "\n",
    "    def compute_p_value(self):\n",
    "        if self.observed_correlation is None:\n",
    "            raise ValueError(\"Run permutations first to compute observed correlation.\")\n",
    "        p_values = pd.DataFrame(index=self.dataframe.columns, columns=self.dataframe.columns)\n",
    "        for i, col_i in enumerate(self.dataframe.columns):\n",
    "            for j, col_j in enumerate(self.dataframe.columns):\n",
    "                bool_array = [permuted_corr.iloc[i, j] > self.observed_correlation.iloc[i, j]\n",
    "                              for permuted_corr in self.permuted_correlations]\n",
    "                p_values.iloc[i, j] = np.mean(bool_array)\n",
    "        return p_values\n",
    "\n",
    "    def run(self):\n",
    "        self.run_permutations()\n",
    "        p_values = self.compute_p_value()\n",
    "        return p_values, self.observed_correlation\n",
    "\n",
    "# Usage:\n",
    "# Create an instance of the class\n",
    "# psc = PermutedSpatialCorrelation(dataframe, n_permutations=1000)\n",
    "# p_values, observed_corr = psc.run()"
   ]
  },
  {
   "cell_type": "code",
   "execution_count": null,
   "metadata": {},
   "outputs": [],
   "source": [
    "psc = PermutedSpatialCorrelation(masked_df, n_permutations=10000)\n",
    "p_values, observed_corr = psc.run()\n",
    "p_values"
   ]
  },
  {
   "cell_type": "markdown",
   "metadata": {},
   "source": [
    "# Compute Agreement"
   ]
  },
  {
   "cell_type": "code",
   "execution_count": null,
   "metadata": {},
   "outputs": [],
   "source": [
    "def compute_agreement(df, method_choice='dice'):\n",
    "    \"\"\"\n",
    "    Compute agreement among columns of a DataFrame using a specified method.\n",
    "    \n",
    "    Parameters:\n",
    "    - df (DataFrame): The dataframe for which agreement should be computed.\n",
    "    - method_choice (str, optional): A string indicating the agreement method to be used. \n",
    "                                     'dice': Dice Coefficient, 'jaccard': Jaccard Index, 'percent': % Agreement\n",
    "    \n",
    "    Returns:\n",
    "    - Tuple(DataFrame, DataFrame, DataFrame): Positive agreement matrix, Negative agreement matrix, Overall agreement matrix.\n",
    "    \"\"\"\n",
    "    \n",
    "    columns = df.columns\n",
    "    n = len(columns)\n",
    "    \n",
    "    # Initialize dataframes to store the results\n",
    "    pos_corr_df = pd.DataFrame(index=columns, columns=columns, dtype='float64') if method_choice != 'percent' else None\n",
    "    neg_corr_df = pd.DataFrame(index=columns, columns=columns, dtype='float64') if method_choice != 'percent' else None\n",
    "    overall_corr_df = pd.DataFrame(index=columns, columns=columns, dtype='float64')\n",
    "    \n",
    "    # Binarize the DataFrame\n",
    "    bin_df = df.applymap(lambda x: 1 if x > 0 else (-1 if x < 0 else 0))\n",
    "    \n",
    "    # Iterate over each pair of columns\n",
    "    for i in range(n):\n",
    "        for j in range(i, n):\n",
    "            \n",
    "            col1, col2 = columns[i], columns[j]\n",
    "            \n",
    "            # Indices where both columns have the same sign (either both positive or both negative)\n",
    "            same_sign = (bin_df[col1] == bin_df[col2]) & (bin_df[col1] != 0)\n",
    "            \n",
    "            # Indices where both columns are positive, negative, or any\n",
    "            both_pos = (bin_df[col1] == 1) & (bin_df[col2] == 1)\n",
    "            both_neg = (bin_df[col1] == -1) & (bin_df[col2] == -1)\n",
    "            \n",
    "            if method_choice == 'dice':\n",
    "                # Dice Coefficient\n",
    "                pos_value = 2 * both_pos.sum() / (bin_df[col1].eq(1).sum() + bin_df[col2].eq(1).sum())\n",
    "                neg_value = 2 * both_neg.sum() / (bin_df[col1].eq(-1).sum() + bin_df[col2].eq(-1).sum())\n",
    "                \n",
    "            elif method_choice == 'jaccard':\n",
    "                # Jaccard Index\n",
    "                pos_value = both_pos.sum() / ((bin_df[col1] == 1) | (bin_df[col2] == 1)).sum()\n",
    "                neg_value = both_neg.sum() / ((bin_df[col1] == -1) | (bin_df[col2] == -1)).sum()\n",
    "                \n",
    "            elif method_choice == 'percent':\n",
    "                # % Agreement of voxels sharing the same sign\n",
    "                overall_value = same_sign.sum() / len(bin_df)\n",
    "                overall_corr_df.loc[col1, col2] = overall_value\n",
    "                overall_corr_df.loc[col2, col1] = overall_value\n",
    "                continue\n",
    "            \n",
    "            overall_value = (pos_value + neg_value) / 2\n",
    "            \n",
    "            # Update DataFrames\n",
    "            if pos_corr_df is not None:\n",
    "                pos_corr_df.loc[col1, col2] = pos_value\n",
    "                pos_corr_df.loc[col2, col1] = pos_value\n",
    "            if neg_corr_df is not None:\n",
    "                neg_corr_df.loc[col1, col2] = neg_value\n",
    "                neg_corr_df.loc[col2, col1] = neg_value\n",
    "            overall_corr_df.loc[col1, col2] = overall_value\n",
    "            overall_corr_df.loc[col2, col1] = overall_value\n",
    "    \n",
    "    return pos_corr_df, neg_corr_df, overall_corr_df\n"
   ]
  },
  {
   "cell_type": "markdown",
   "metadata": {},
   "source": [
    "Agreement Methods\n",
    "method  = 'jaccard', 'dice', or 'percent'"
   ]
  },
  {
   "cell_type": "code",
   "execution_count": null,
   "metadata": {},
   "outputs": [],
   "source": [
    "pos_corr_df, neg_corr_df, overall_corr_df = compute_agreement(masked_df, 'dice')"
   ]
  },
  {
   "cell_type": "markdown",
   "metadata": {},
   "source": [
    "Positive Agreement"
   ]
  },
  {
   "cell_type": "code",
   "execution_count": null,
   "metadata": {},
   "outputs": [],
   "source": [
    "display(pos_corr_df)"
   ]
  },
  {
   "cell_type": "code",
   "execution_count": null,
   "metadata": {},
   "outputs": [],
   "source": [
    "#Create heatmap of correlation matrix\n",
    "import seaborn as sns\n",
    "import matplotlib.pyplot as plt\n",
    "\n",
    "fig = plt.figure(figsize=(15, 13))\n",
    "sns.heatmap(pos_corr_df, cmap='ocean_hot',square=True, linewidths=.5, cbar_kws={\"shrink\": .5}, vmin=-1, vmax=1)    "
   ]
  },
  {
   "cell_type": "markdown",
   "metadata": {},
   "source": [
    "Negative Agreement"
   ]
  },
  {
   "cell_type": "code",
   "execution_count": null,
   "metadata": {},
   "outputs": [],
   "source": [
    "display(neg_corr_df)"
   ]
  },
  {
   "cell_type": "code",
   "execution_count": null,
   "metadata": {},
   "outputs": [],
   "source": [
    "#Create heatmap of correlation matrix\n",
    "import seaborn as sns\n",
    "import matplotlib.pyplot as plt\n",
    "\n",
    "fig = plt.figure(figsize=(15, 13))\n",
    "sns.heatmap(neg_corr_df, cmap='ocean_hot',square=True, linewidths=.5, cbar_kws={\"shrink\": .5}, vmin=-1, vmax=1)    "
   ]
  },
  {
   "cell_type": "markdown",
   "metadata": {},
   "source": [
    "Overall Agreement"
   ]
  },
  {
   "cell_type": "code",
   "execution_count": null,
   "metadata": {},
   "outputs": [],
   "source": [
    "display(overall_corr_df)"
   ]
  },
  {
   "cell_type": "code",
   "execution_count": null,
   "metadata": {},
   "outputs": [],
   "source": [
    "#Create heatmap of correlation matrix\n",
    "import seaborn as sns\n",
    "import matplotlib.pyplot as plt\n",
    "\n",
    "fig = plt.figure(figsize=(15, 13))\n",
    "sns.heatmap(overall_corr_df, cmap='ocean_hot',square=True, linewidths=.5, cbar_kws={\"shrink\": .5}, vmin=-1, vmax=1)    "
   ]
  },
  {
   "cell_type": "markdown",
   "metadata": {},
   "source": [
    "# Specific Sub-Analyses"
   ]
  },
  {
   "cell_type": "code",
   "execution_count": null,
   "metadata": {},
   "outputs": [],
   "source": [
    "merged_df.columns"
   ]
  },
  {
   "cell_type": "code",
   "execution_count": null,
   "metadata": {},
   "outputs": [],
   "source": [
    "from scipy.stats import pearsonr, spearmanr\n",
    "r, p = spearmanr(masked_df['Memory Network.nii'], masked_df['R-Map.nii'])\n",
    "# Format p-value to display more decimal places\n",
    "formatted_p = \"{:.10f}\".format(p)\n",
    "\n",
    "print(\"Correlation coefficient (r):\", r)\n",
    "print(\"Formatted p-value:\", formatted_p)"
   ]
  },
  {
   "cell_type": "markdown",
   "metadata": {},
   "source": [
    "Run Mantel Test\n",
    "- Struggles on vectors >15 000 length. "
   ]
  },
  {
   "cell_type": "code",
   "execution_count": null,
   "metadata": {},
   "outputs": [],
   "source": [
    "vec_1 = 'Cognitive Decline Network.nii'\n",
    "vec_2 = 'R-Map.nii'"
   ]
  },
  {
   "cell_type": "code",
   "execution_count": null,
   "metadata": {},
   "outputs": [],
   "source": [
    "import numpy as np\n",
    "from skbio.stats.distance import mantel\n",
    "from scipy.spatial.distance import pdist, squareform\n",
    "\n",
    "# Assuming masked_df is your DataFrame and vec_1, vec_2 are column names\n",
    "vector1 = masked_df[vec_1].to_numpy()\n",
    "# vector2 = masked_df[vec_2].to_numpy()\n",
    "\n",
    "# # Convert vectors to distance matrices\n",
    "distance_matrix_1 = squareform(pdist(vector1.reshape(-1, 1), 'euclidean'))\n",
    "# distance_matrix_2 = squareform(pdist(vector2.reshape(-1, 1), 'euclidean'))\n",
    "\n",
    "# # Perform the Mantel test on the distance matrices\n",
    "# correlation, p_value, _ = mantel(distance_matrix_1, distance_matrix_2, method='pearson', permutations=999)\n",
    "\n",
    "# print(\"Correlation:\", correlation)\n",
    "# print(\"P-value:\", p_value)"
   ]
  },
  {
   "cell_type": "code",
   "execution_count": null,
   "metadata": {},
   "outputs": [],
   "source": [
    "vector1"
   ]
  },
  {
   "cell_type": "code",
   "execution_count": null,
   "metadata": {},
   "outputs": [],
   "source": []
  }
 ],
 "metadata": {
  "kernelspec": {
   "display_name": "nimlab_py310",
   "language": "python",
   "name": "python3"
  },
  "language_info": {
   "codemirror_mode": {
    "name": "ipython",
    "version": 3
   },
   "file_extension": ".py",
   "mimetype": "text/x-python",
   "name": "python",
   "nbconvert_exporter": "python",
   "pygments_lexer": "ipython3",
   "version": "3.10.16"
  },
  "orig_nbformat": 4,
  "vscode": {
   "interpreter": {
    "hash": "62880161f19d28ddb8a8f59c63374d84ace356c39e36cc839cb3fb3bb03fb010"
   }
  }
 },
 "nbformat": 4,
 "nbformat_minor": 2
}
