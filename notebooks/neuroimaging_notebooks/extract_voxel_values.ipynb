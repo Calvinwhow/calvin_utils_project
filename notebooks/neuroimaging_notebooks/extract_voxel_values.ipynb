{
 "cells": [
  {
   "cell_type": "code",
   "execution_count": 11,
   "metadata": {},
   "outputs": [],
   "source": [
    "import nibabel as nib\n",
    "import pandas as pd\n",
    "import numpy as np\n",
    "\n",
    "def extract_values_from_coordinates(file_paths, coordinates, example_img_path):\n",
    "    \"\"\"\n",
    "    Extract values from NIfTI files based on MNI coordinates and store them in a Pandas DataFrame.\n",
    "    \n",
    "    Parameters:\n",
    "        file_paths (list): List of paths to the NIfTI files.\n",
    "        coordinates (list): List of dictionaries containing MNI coordinates in the form {'x': x_val, 'y': y_val, 'z': z_val}.\n",
    "        example_img_path (str): Path to an example NIfTI image to get the affine matrix from.\n",
    "        \n",
    "    Returns:\n",
    "        pd.DataFrame: DataFrame with NIfTI file paths as rows and coordinates as columns.\n",
    "    \"\"\"\n",
    "    from nimlab import datasets as nimds\n",
    "    # Load the example NIfTI file to get the affine matrix\n",
    "    if example_img_path is None:\n",
    "        example_img = nimds.get_img(\"mni_icbm152\")\n",
    "    else:\n",
    "        example_img = nib.load(example_img_path)\n",
    "    affine = example_img.affine\n",
    "    inv_affine = np.linalg.inv(affine)\n",
    "    \n",
    "    # Initialize an empty DataFrame\n",
    "    df = pd.DataFrame(index=file_paths)\n",
    "    \n",
    "    for coord in coordinates:\n",
    "        col_name = f\"x{coord['x']}_y{coord['y']}_z{coord['z']}\"\n",
    "        values = []\n",
    "        \n",
    "        for file_path in file_paths:\n",
    "            try:\n",
    "                img = nib.load(file_path)\n",
    "            except FileNotFoundError:\n",
    "                print(f\"File not found: {file_path}\")\n",
    "                continue\n",
    "            \n",
    "            data = img.get_fdata()\n",
    "            \n",
    "            mni_coord = np.array([coord['x'], coord['y'], coord['z'], 1])\n",
    "            voxel_coord = np.dot(inv_affine, mni_coord)\n",
    "            i, j, k, _ = np.round(voxel_coord).astype(int)\n",
    "            \n",
    "            try:\n",
    "                value = data[i, j, k]\n",
    "            except IndexError:\n",
    "                print(f\"Invalid coordinate {coord} for file {file_path}\")\n",
    "                value = np.nan\n",
    "            \n",
    "            values.append(value)\n",
    "        \n",
    "        df[col_name] = values\n",
    "    \n",
    "    return df\n"
   ]
  },
  {
   "cell_type": "markdown",
   "metadata": {},
   "source": [
    "file_paths = List of paths to the NIfTI files.\n",
    "\n",
    "coordinates = List of dictionaries containing MNI coordinates in the form {'x': x_val, 'y': y_val, 'z': z_val}.\n",
    "\n",
    "example_img_path = Path to an example NIfTI image to get the affine matrix from."
   ]
  },
  {
   "cell_type": "code",
   "execution_count": 12,
   "metadata": {},
   "outputs": [],
   "source": [
    "shared_root = '/Users/cu135/Partners HealthCare Dropbox/Calvin Howard/studies/collaborations/hart_epilepsy_meta_analysis/SeedsYeo'\n",
    "file_pattern = '*'\n",
    "coordinates_list = [\n",
    "    {'x': -26,'y': 40, 'z': -10}\n",
    "]"
   ]
  },
  {
   "cell_type": "code",
   "execution_count": 13,
   "metadata": {},
   "outputs": [
    {
     "name": "stdout",
     "output_type": "stream",
     "text": [
      "I will search:  /Users/cu135/Partners HealthCare Dropbox/Calvin Howard/studies/collaborations/hart_epilepsy_meta_analysis/SeedsYeo/*\n"
     ]
    },
    {
     "data": {
      "text/html": [
       "<div>\n",
       "<style scoped>\n",
       "    .dataframe tbody tr th:only-of-type {\n",
       "        vertical-align: middle;\n",
       "    }\n",
       "\n",
       "    .dataframe tbody tr th {\n",
       "        vertical-align: top;\n",
       "    }\n",
       "\n",
       "    .dataframe thead th {\n",
       "        text-align: right;\n",
       "    }\n",
       "</style>\n",
       "<table border=\"1\" class=\"dataframe\">\n",
       "  <thead>\n",
       "    <tr style=\"text-align: right;\">\n",
       "      <th></th>\n",
       "      <th>x-26_y40_z-10</th>\n",
       "    </tr>\n",
       "  </thead>\n",
       "  <tbody>\n",
       "    <tr>\n",
       "      <th>/Users/cu135/Partners HealthCare Dropbox/Calvin Howard/studies/collaborations/hart_epilepsy_meta_analysis/SeedsYeo/Jin2016Hippocampus_combined_func_seed_AvgR_Fz.nii</th>\n",
       "      <td>-0.080263</td>\n",
       "    </tr>\n",
       "    <tr>\n",
       "      <th>/Users/cu135/Partners HealthCare Dropbox/Calvin Howard/studies/collaborations/hart_epilepsy_meta_analysis/SeedsYeo/Velasco1987Cm_combined_func_seed_AvgR_Fz.nii</th>\n",
       "      <td>-0.017942</td>\n",
       "    </tr>\n",
       "    <tr>\n",
       "      <th>/Users/cu135/Partners HealthCare Dropbox/Calvin Howard/studies/collaborations/hart_epilepsy_meta_analysis/SeedsYeo/Hodaie2002Ant_combined_func_seed_AvgR_Fz.nii</th>\n",
       "      <td>0.051250</td>\n",
       "    </tr>\n",
       "    <tr>\n",
       "      <th>/Users/cu135/Partners HealthCare Dropbox/Calvin Howard/studies/collaborations/hart_epilepsy_meta_analysis/SeedsYeo/Curkiet2020Hippocampus_combined_func_seed_AvgR_Fz.nii</th>\n",
       "      <td>-0.063084</td>\n",
       "    </tr>\n",
       "    <tr>\n",
       "      <th>/Users/cu135/Partners HealthCare Dropbox/Calvin Howard/studies/collaborations/hart_epilepsy_meta_analysis/SeedsYeo/Herrman2018Ant_combined_func_seed_AvgR_Fz.nii</th>\n",
       "      <td>0.051353</td>\n",
       "    </tr>\n",
       "    <tr>\n",
       "      <th>...</th>\n",
       "      <td>...</td>\n",
       "    </tr>\n",
       "    <tr>\n",
       "      <th>/Users/cu135/Partners HealthCare Dropbox/Calvin Howard/studies/collaborations/hart_epilepsy_meta_analysis/SeedsYeo/JinLee2012Ant_combined_func_seed_AvgR_Fz.nii</th>\n",
       "      <td>0.045160</td>\n",
       "    </tr>\n",
       "    <tr>\n",
       "      <th>/Users/cu135/Partners HealthCare Dropbox/Calvin Howard/studies/collaborations/hart_epilepsy_meta_analysis/SeedsYeo/Agashe2022Cm_combined_func_seed_AvgR_Fz.nii</th>\n",
       "      <td>0.001948</td>\n",
       "    </tr>\n",
       "    <tr>\n",
       "      <th>/Users/cu135/Partners HealthCare Dropbox/Calvin Howard/studies/collaborations/hart_epilepsy_meta_analysis/SeedsYeo/Cui2023Stn_combined_func_seed_AvgR_Fz.nii</th>\n",
       "      <td>0.006759</td>\n",
       "    </tr>\n",
       "    <tr>\n",
       "      <th>/Users/cu135/Partners HealthCare Dropbox/Calvin Howard/studies/collaborations/hart_epilepsy_meta_analysis/SeedsYeo/Warren2022Cm_combined_func_seed_AvgR_Fz.nii</th>\n",
       "      <td>0.024121</td>\n",
       "    </tr>\n",
       "    <tr>\n",
       "      <th>/Users/cu135/Partners HealthCare Dropbox/Calvin Howard/studies/collaborations/hart_epilepsy_meta_analysis/SeedsYeo/Tassigny2020Ant_combined_func_seed_AvgR_Fz.nii</th>\n",
       "      <td>0.051951</td>\n",
       "    </tr>\n",
       "  </tbody>\n",
       "</table>\n",
       "<p>66 rows × 1 columns</p>\n",
       "</div>"
      ],
      "text/plain": [
       "                                                    x-26_y40_z-10\n",
       "/Users/cu135/Partners HealthCare Dropbox/Calvin...      -0.080263\n",
       "/Users/cu135/Partners HealthCare Dropbox/Calvin...      -0.017942\n",
       "/Users/cu135/Partners HealthCare Dropbox/Calvin...       0.051250\n",
       "/Users/cu135/Partners HealthCare Dropbox/Calvin...      -0.063084\n",
       "/Users/cu135/Partners HealthCare Dropbox/Calvin...       0.051353\n",
       "...                                                           ...\n",
       "/Users/cu135/Partners HealthCare Dropbox/Calvin...       0.045160\n",
       "/Users/cu135/Partners HealthCare Dropbox/Calvin...       0.001948\n",
       "/Users/cu135/Partners HealthCare Dropbox/Calvin...       0.006759\n",
       "/Users/cu135/Partners HealthCare Dropbox/Calvin...       0.024121\n",
       "/Users/cu135/Partners HealthCare Dropbox/Calvin...       0.051951\n",
       "\n",
       "[66 rows x 1 columns]"
      ]
     },
     "execution_count": 13,
     "metadata": {},
     "output_type": "execute_result"
    }
   ],
   "source": [
    "from calvin_utils.file_utils.file_path_collector import glob_file_paths\n",
    "unsorted_df = extract_values_from_coordinates(file_paths=glob_file_paths(shared_root, file_pattern)['paths'].to_list(),\n",
    "                                coordinates = coordinates_list,\n",
    "                                example_img_path=None\n",
    "                                )\n",
    "unsorted_df"
   ]
  },
  {
   "cell_type": "code",
   "execution_count": 14,
   "metadata": {},
   "outputs": [],
   "source": [
    "out_dir = '/Users/cu135/Partners HealthCare Dropbox/Calvin Howard/studies/collaborations/hart_epilepsy_meta_analysis'"
   ]
  },
  {
   "cell_type": "code",
   "execution_count": 15,
   "metadata": {},
   "outputs": [],
   "source": [
    "import os\n",
    "unsorted_df.to_csv(os.path.join(out_dir, 'voxel_values3.csv'))"
   ]
  },
  {
   "cell_type": "code",
   "execution_count": null,
   "metadata": {},
   "outputs": [],
   "source": []
  }
 ],
 "metadata": {
  "kernelspec": {
   "display_name": "nimlab_py310",
   "language": "python",
   "name": "python3"
  },
  "language_info": {
   "codemirror_mode": {
    "name": "ipython",
    "version": 3
   },
   "file_extension": ".py",
   "mimetype": "text/x-python",
   "name": "python",
   "nbconvert_exporter": "python",
   "pygments_lexer": "ipython3",
   "version": "3.10.8"
  },
  "orig_nbformat": 4
 },
 "nbformat": 4,
 "nbformat_minor": 2
}
