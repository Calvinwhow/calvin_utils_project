{
 "cells": [
  {
   "cell_type": "code",
   "execution_count": 3,
   "metadata": {},
   "outputs": [],
   "source": [
    "nifti = r'/Users/cu135/Partners HealthCare Dropbox/Calvin Howard/studies/collaborations/fox_fluency/corbetta/fwe_corrected_results.nii'"
   ]
  },
  {
   "cell_type": "code",
   "execution_count": 4,
   "metadata": {},
   "outputs": [
    {
     "name": "stdout",
     "output_type": "stream",
     "text": [
      "Number clusters:  8\n",
      "Cluster 1 is size: 69\n",
      "(91, 109, 91)\n",
      "File: cluster_1\n",
      "saved to:  /Users/cu135/Partners HealthCare Dropbox/Calvin Howard/studies/collaborations/fox_fluency/corbetta/fwe_corrected_results_clustered_rois\n",
      "Cluster 2 is size: 91\n",
      "(91, 109, 91)\n",
      "File: cluster_2\n",
      "saved to:  /Users/cu135/Partners HealthCare Dropbox/Calvin Howard/studies/collaborations/fox_fluency/corbetta/fwe_corrected_results_clustered_rois\n",
      "Cluster 3 is size: 27\n",
      "(91, 109, 91)\n",
      "File: cluster_3\n",
      "saved to:  /Users/cu135/Partners HealthCare Dropbox/Calvin Howard/studies/collaborations/fox_fluency/corbetta/fwe_corrected_results_clustered_rois\n",
      "Cluster 4 is size: 600\n",
      "(91, 109, 91)\n",
      "File: cluster_4\n",
      "saved to:  /Users/cu135/Partners HealthCare Dropbox/Calvin Howard/studies/collaborations/fox_fluency/corbetta/fwe_corrected_results_clustered_rois\n",
      "Cluster 5 is size: 192\n",
      "(91, 109, 91)\n",
      "File: cluster_5\n",
      "saved to:  /Users/cu135/Partners HealthCare Dropbox/Calvin Howard/studies/collaborations/fox_fluency/corbetta/fwe_corrected_results_clustered_rois\n",
      "Cluster 6 is size: 112\n",
      "(91, 109, 91)\n",
      "File: cluster_6\n",
      "saved to:  /Users/cu135/Partners HealthCare Dropbox/Calvin Howard/studies/collaborations/fox_fluency/corbetta/fwe_corrected_results_clustered_rois\n",
      "Cluster 7 is size: 109\n",
      "(91, 109, 91)\n",
      "File: cluster_7\n",
      "saved to:  /Users/cu135/Partners HealthCare Dropbox/Calvin Howard/studies/collaborations/fox_fluency/corbetta/fwe_corrected_results_clustered_rois\n",
      "Cluster 8 is size: 27\n",
      "(91, 109, 91)\n",
      "File: cluster_8\n",
      "saved to:  /Users/cu135/Partners HealthCare Dropbox/Calvin Howard/studies/collaborations/fox_fluency/corbetta/fwe_corrected_results_clustered_rois\n"
     ]
    }
   ],
   "source": [
    "from calvin_utils.nifti_utils.convolve_extract_clusters import convolve_extract_clusters\n",
    "dict_out = convolve_extract_clusters(nifti_file=nifti)"
   ]
  },
  {
   "cell_type": "code",
   "execution_count": null,
   "metadata": {},
   "outputs": [],
   "source": []
  }
 ],
 "metadata": {
  "kernelspec": {
   "display_name": "nimlab_py310",
   "language": "python",
   "name": "python3"
  },
  "language_info": {
   "codemirror_mode": {
    "name": "ipython",
    "version": 3
   },
   "file_extension": ".py",
   "mimetype": "text/x-python",
   "name": "python",
   "nbconvert_exporter": "python",
   "pygments_lexer": "ipython3",
   "version": "3.10.8"
  },
  "orig_nbformat": 4
 },
 "nbformat": 4,
 "nbformat_minor": 2
}
