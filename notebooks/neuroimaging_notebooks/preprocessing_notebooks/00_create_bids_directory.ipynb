{
 "cells": [
  {
   "cell_type": "code",
   "execution_count": null,
   "metadata": {},
   "outputs": [],
   "source": [
    "import os\n",
    "import re\n",
    "\n",
    "def create_bids_directories(input_dir, output_dir, predigit_match='sub-'):\n",
    "    # Define the pattern to match 'sub-' followed by digits\n",
    "    pattern = re.compile(rf'{predigit_match}(\\d+)')\n",
    "\n",
    "    # Search the directory for matching strings\n",
    "    for item in os.listdir(input_dir):\n",
    "        match = pattern.match(item)\n",
    "        if match:\n",
    "            # Extract the subject ID\n",
    "            subject_id = match.group(1)\n",
    "            \n",
    "            # Construct the BIDS directory path\n",
    "            bids_path = os.path.join(output_dir, f'sub-{subject_id}', 'stimulation')\n",
    "            \n",
    "            # Create the directory structure\n",
    "            os.makedirs(bids_path, exist_ok=True)\n",
    "            print(f\"Created BIDS directory: {bids_path}\")\n",
    "\n",
    "# Example usage:\n",
    "# create_bids_directories('/path/to/input_dir', '/path/to/output_dir')\n"
   ]
  },
  {
   "cell_type": "code",
   "execution_count": null,
   "metadata": {},
   "outputs": [],
   "source": [
    "create_bids_directories(input_dir='/Volumes/PdBwh/AllParkinsonsVTAs', output_dir='/Volumes/One Touch/BWH_PD_DBS_MixedTarget/vtas', predigit_match='sub-CbctDbs')"
   ]
  },
  {
   "cell_type": "markdown",
   "metadata": {},
   "source": [
    "# 02 - Copy Imaging Files to the BIDS Directory"
   ]
  },
  {
   "cell_type": "code",
   "execution_count": null,
   "metadata": {},
   "outputs": [],
   "source": [
    "import os\n",
    "import re\n",
    "import shutil\n",
    "from glob import glob\n",
    "from tqdm import tqdm\n",
    "\n",
    "def copy_subject_files_to_bids(input_dir, bids_dir, predigit_match='sub-', dry_run=True):\n",
    "    # Define the pattern to match 'sub-' folders\n",
    "    subject_dirs = glob(os.path.join(bids_dir, 'sub-*'))\n",
    "    pattern = re.compile(r'sub-(\\d+)')\n",
    "\n",
    "    # For each subject directory in BIDS directory\n",
    "    for subject_dir in tqdm(subject_dirs):\n",
    "        match = pattern.search(subject_dir)\n",
    "        if match:\n",
    "            subject_id = match.group(1)\n",
    "            stimulation_dir = os.path.join(subject_dir, 'stimulation')\n",
    "\n",
    "            # Find files in the input directory that match the subject ID\n",
    "            subject_files = glob(os.path.join(input_dir, f'{predigit_match}{subject_id}*'))\n",
    "            if dry_run:\n",
    "                print('Looking for: ', subject_id)\n",
    "                print('Identified: ', subject_files)\n",
    "                print('Will move to: ', stimulation_dir)\n",
    "            else:\n",
    "                # Copy each file to the corresponding BIDS stimulation directory\n",
    "                for file_path in subject_files:\n",
    "                    shutil.copy(file_path, stimulation_dir)\n",
    "                    print(f\"Copied {file_path} to {stimulation_dir}\")"
   ]
  },
  {
   "cell_type": "code",
   "execution_count": null,
   "metadata": {},
   "outputs": [],
   "source": [
    "copy_subject_files_to_bids(input_dir='/Volumes/PdBwh/AllParkinsonsVTAs', bids_dir='/Volumes/One Touch/BWH_PD_DBS_MixedTarget/vtas', predigit_match='sub-CbctDbs', dry_run=False)"
   ]
  },
  {
   "cell_type": "markdown",
   "metadata": {},
   "source": [
    "Should be done. \n",
    "- Calvin"
   ]
  }
 ],
 "metadata": {
  "kernelspec": {
   "display_name": "nimlab_py310",
   "language": "python",
   "name": "python3"
  },
  "language_info": {
   "codemirror_mode": {
    "name": "ipython",
    "version": 3
   },
   "file_extension": ".py",
   "mimetype": "text/x-python",
   "name": "python",
   "nbconvert_exporter": "python",
   "pygments_lexer": "ipython3",
   "version": "3.10.8"
  }
 },
 "nbformat": 4,
 "nbformat_minor": 2
}
