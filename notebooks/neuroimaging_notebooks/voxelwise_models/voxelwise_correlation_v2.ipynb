{
 "cells": [
  {
   "cell_type": "code",
   "execution_count": null,
   "metadata": {},
   "outputs": [],
   "source": [
    "# Specify where you want to save your results to\n",
    "out_dir = '/Users/cu135/Partners HealthCare Dropbox/Calvin Howard/resources/published_networks/AD_DBS_ADAS_Cog_Submaps'"
   ]
  },
  {
   "cell_type": "markdown",
   "metadata": {},
   "source": [
    "# Generate FWE Corrected R-Squared Map \n",
    "- Using maximum statistic correction\n",
    "- Notes on controlling a regression:\n",
    "    - Adding covariates to a regression will 'control' for them, but will almost always increase the R-squared. \n",
    "    - To 'remove' a covariate from the regression, you will want to regress a nuisance covariate OUT of the covariate of interest. \n",
    "        - This means your regressor will become the residuals from the regression of cov_1 ~ nuisance_cov1"
   ]
  },
  {
   "cell_type": "markdown",
   "metadata": {},
   "source": [
    "Import Niftis\n",
    "- These are EXPECTED to have subject IDs which are IDENTICAL to the subject IDs that go in the covarite DF column names below\n",
    "- Column labels are subject IDs. \n",
    "- This is expected to ultimately have the form:\n",
    "\n",
    "|        |  1 |  2 |  3 |  4 |  5 |  6 |  7 |  8 |  9 |  10 | ... |  40 |  41 |  42 |  43 |  45 |  46 |  47 |  48 |  49 |  50 |\n",
    "|----------|------------|-----------|-----------|-----------|-----------|-----------|-----------|-----------|-----------|------------|-----|-------------|-------------|-------------|-------------|-------------|-------------|-------------|-------------|-------------|-------------|\n",
    "| Voxel 1     | 3          | 4         | 7         | 2         | 2         | 2         | 9         | 4         | 7         | 5          | ... | 5           | 2           | 7           | 7           | 3           | 8           | 8           | 1           | 1           | 3           |\n",
    "| . . .      | ...         | ...        | ...         | ...         | ...         | ...         | ...         | ...         | ...         | ...          | ... | ...           | ...           | ...           | ...           | ...           | ...           | 7           | ...           | ...           | ...           |\n",
    "| Voxel N     | 2          | 1         | 0         | 1         | 3         | 4         | 9         | 5         | 8         | 6          | ... | 6           | 3           | 8           | 8           | 4           | 9           | 9           | 2           | 2           | 4           |"
   ]
  },
  {
   "cell_type": "code",
   "execution_count": null,
   "metadata": {},
   "outputs": [],
   "source": [
    "import_path = '/Users/cu135/Partners HealthCare Dropbox/Calvin Howard/resources/datasets/BIDS_AD_DBS_FORNIX/connectivity_data/vta_published_t_connectivity'\n",
    "file_target= '*T.nii'"
   ]
  },
  {
   "cell_type": "code",
   "execution_count": null,
   "metadata": {},
   "outputs": [],
   "source": [
    "from calvin_utils.file_utils.import_functions import GiiNiiFileImport\n",
    "giinii = GiiNiiFileImport(import_path=import_path, file_column=None, file_pattern=file_target)\n",
    "nimg_df = giinii.run()\n",
    "nimg_df"
   ]
  },
  {
   "cell_type": "markdown",
   "metadata": {},
   "source": [
    "Fix names"
   ]
  },
  {
   "cell_type": "code",
   "execution_count": null,
   "metadata": {},
   "outputs": [],
   "source": [
    "pre = 'vta_published_t_connectivity/'\n",
    "post = '_vat'"
   ]
  },
  {
   "cell_type": "code",
   "execution_count": null,
   "metadata": {},
   "outputs": [],
   "source": [
    "nimg_df = GiiNiiFileImport.splice_colnames(nimg_df, pre, post)\n",
    "nimg_df"
   ]
  },
  {
   "cell_type": "markdown",
   "metadata": {},
   "source": [
    "Import Covariates\n",
    "\n",
    "**The CSV is expected to be in this format**\n",
    "- sub column contents MUST match the names of the neuroimaging files above. \n",
    "    - ID column \n",
    "```\n",
    "+-----+----------------------------+--------------+--------------+--------------+\n",
    "| sub | Nifti_File_Path            | Covariate_1  | Covariate_2  | Covariate_3  |\n",
    "+-----+----------------------------+--------------+--------------+--------------+\n",
    "| 1   | /path/to/file1.nii.gz      | 0.5          | 1.2          | 3.4          |\n",
    "| 2   | /path/to/file2.nii.gz      | 0.7          | 1.4          | 3.1          |\n",
    "| 3   | /path/to/file3.nii.gz      | 0.6          | 1.5          | 3.5          |\n",
    "| 4   | /path/to/file4.nii.gz      | 0.9          | 1.1          | 3.2          |\n",
    "| ... | ...                        | ...          | ...          | ...          |\n",
    "+-----+----------------------------+--------------+--------------+--------------+\n",
    "```"
   ]
  },
  {
   "cell_type": "code",
   "execution_count": null,
   "metadata": {},
   "outputs": [],
   "source": [
    "# Specify the path to your CSV file containing NIFTI paths\n",
    "input_csv_path = '/Users/cu135/Partners HealthCare Dropbox/Calvin Howard/resources/datasets/BIDS_AD_DBS_FORNIX/study_metadata/study_metadata/BaselineMinusMonth12_full.csv'\n",
    "sheet= None #'master_list_proper_subjects'"
   ]
  },
  {
   "cell_type": "code",
   "execution_count": null,
   "metadata": {},
   "outputs": [],
   "source": [
    "from calvin_utils.permutation_analysis_utils.statsmodels_palm import CalvinStatsmodelsPalm\n",
    "# Instantiate the PalmPrepararation class\n",
    "cal_palm = CalvinStatsmodelsPalm(input_csv_path=input_csv_path, output_dir=out_dir, sheet=sheet)\n",
    "# Call the process_nifti_paths method\n",
    "data_df = cal_palm.read_and_display_data()\n",
    "data_df"
   ]
  },
  {
   "cell_type": "markdown",
   "metadata": {},
   "source": [
    "**Preprocess Your Data**"
   ]
  },
  {
   "cell_type": "markdown",
   "metadata": {},
   "source": [
    "**Handle NANs**\n",
    "- Set drop_nans=True is you would like to remove NaNs from data\n",
    "- Provide a column name or a list of column names to remove NaNs from"
   ]
  },
  {
   "cell_type": "code",
   "execution_count": null,
   "metadata": {},
   "outputs": [],
   "source": [
    "data_df.columns"
   ]
  },
  {
   "cell_type": "code",
   "execution_count": null,
   "metadata": {},
   "outputs": [],
   "source": [
    "drop_list = ['subject', 'ADAS11Score', 'ADAS13Score',\n",
    "       'ADASCancellationTotalScore',\n",
    "       'ADASCircleCorrect',\n",
    "       'ADASCommandTotalScore', 'ADASConstPraxisTotalScore', 'ADASCubeCorrect',\n",
    "       'ADASDelayedRecallTotalScore', 'ADASDiamondCorrect',\n",
    "       'ADASIdeationPraxisTotalScore', 'ADASInstructionsScore',\n",
    "       'ADASLanguageCompScore', 'ADASLanguageScore', 'ADASNamingCorrectScore',\n",
    "       'ADASNamingTaskTotalScore', 'ADASOrinetationTotalScore',\n",
    "       'ADASRecognitionTable1Score', 'ADASRectanglesCorrect',\n",
    "       'ADASWordFindingScore', 'ADASWordRecallTotalScore']"
   ]
  },
  {
   "cell_type": "code",
   "execution_count": null,
   "metadata": {},
   "outputs": [],
   "source": [
    "data_df = cal_palm.drop_nans_from_columns(columns_to_drop_from=drop_list)\n",
    "display(data_df)"
   ]
  },
  {
   "cell_type": "markdown",
   "metadata": {},
   "source": [
    "**Drop Row Based on Value of Column**\n",
    "\n",
    "Define the column, condition, and value for dropping rows\n",
    "- column = 'your_column_name'\n",
    "- condition = 'above'  # Options: 'equal', 'above', 'below'"
   ]
  },
  {
   "cell_type": "markdown",
   "metadata": {},
   "source": [
    "Set the parameters for dropping rows"
   ]
  },
  {
   "cell_type": "code",
   "execution_count": null,
   "metadata": {},
   "outputs": [],
   "source": [
    "# column = 'City'  # The column you'd like to evaluate\n",
    "# condition = 'not'  # Thecondition to check ('equal', 'above', 'below', 'not')\n",
    "# value = 'Toronto' # The value to compare against"
   ]
  },
  {
   "cell_type": "code",
   "execution_count": null,
   "metadata": {},
   "outputs": [],
   "source": [
    "# data_df, other_df = cal_palm.drop_rows_based_on_value(column, condition, value)\n",
    "# data_df"
   ]
  },
  {
   "cell_type": "code",
   "execution_count": null,
   "metadata": {},
   "outputs": [],
   "source": [
    "# data_df['subject'] = data_df['subject'].apply(lambda x: x.split('_S_')[1])\n",
    "data_df\n"
   ]
  },
  {
   "cell_type": "markdown",
   "metadata": {},
   "source": [
    "Regress out a Covariate"
   ]
  },
  {
   "cell_type": "code",
   "execution_count": null,
   "metadata": {},
   "outputs": [],
   "source": [
    "nimg_df.columns"
   ]
  },
  {
   "cell_type": "markdown",
   "metadata": {},
   "source": [
    "Regress values out of a Clinical Variable"
   ]
  },
  {
   "cell_type": "code",
   "execution_count": null,
   "metadata": {},
   "outputs": [],
   "source": [
    "# from calvin_utils.statistical_utils.regression_utils import RegressOutCovariates\n",
    "# # use this code block to regress out covariates. Generally better to just include as covariates in a model..\n",
    "# dependent_variable_list = ['Age']\n",
    "# regressors = ['DIAGNOSIS_CURRENT']\n",
    "\n",
    "# data_df, adjusted_dep_vars_list = RegressOutCovariates.run(df=data_df, dependent_variable_list=dependent_variable_list, covariates_list=regressors)\n",
    "# print(adjusted_dep_vars_list)"
   ]
  },
  {
   "cell_type": "markdown",
   "metadata": {},
   "source": [
    "Regress Values of out the Neuroimaging Variable"
   ]
  },
  {
   "cell_type": "code",
   "execution_count": null,
   "metadata": {},
   "outputs": [],
   "source": [
    "# pending"
   ]
  },
  {
   "cell_type": "markdown",
   "metadata": {},
   "source": [
    "**Standardize Data**\n",
    "- Enter Columns you Don't want to standardize into a list"
   ]
  },
  {
   "cell_type": "code",
   "execution_count": null,
   "metadata": {},
   "outputs": [],
   "source": [
    "# # Remove anything you don't want to standardize\n",
    "# cols_not_to_standardize = ['Age',  'Subiculum_Connectivity_T']"
   ]
  },
  {
   "cell_type": "code",
   "execution_count": null,
   "metadata": {},
   "outputs": [],
   "source": [
    "# data_df = cal_palm.standardize_columns(cols_not_to_standardize)\n",
    "# data_df"
   ]
  },
  {
   "cell_type": "markdown",
   "metadata": {},
   "source": [
    "Choose Rows to Keep"
   ]
  },
  {
   "cell_type": "code",
   "execution_count": null,
   "metadata": {},
   "outputs": [],
   "source": [
    "print(data_df.columns)"
   ]
  },
  {
   "cell_type": "code",
   "execution_count": 19,
   "metadata": {},
   "outputs": [],
   "source": [
    "subcol = 'subject'"
   ]
  },
  {
   "cell_type": "code",
   "execution_count": 20,
   "metadata": {},
   "outputs": [],
   "source": [
    "col_to_keep_list = [subcol, 'ADAS11Score', 'ADAS13Score',\n",
    "       'ADASCancellationTotalScore',\n",
    "       'ADASCircleCorrect',\n",
    "       'ADASCommandTotalScore', 'ADASConstPraxisTotalScore', 'ADASCubeCorrect',\n",
    "       'ADASDelayedRecallTotalScore', 'ADASDiamondCorrect',\n",
    "       'ADASIdeationPraxisTotalScore', 'ADASInstructionsScore',\n",
    "       'ADASLanguageCompScore', 'ADASLanguageScore', 'ADASNamingCorrectScore',\n",
    "       'ADASNamingTaskTotalScore', 'ADASOrinetationTotalScore',\n",
    "       'ADASRecognitionTable1Score', 'ADASRectanglesCorrect',\n",
    "       'ADASWordFindingScore', 'ADASWordRecallTotalScore']"
   ]
  },
  {
   "cell_type": "markdown",
   "metadata": {},
   "source": [
    "- The final DF is EXPECTED to have subject IDs which are IDENTICAL to the subject IDs that go in the neuroimaging DF column names above\n",
    "- There should only be 1 variable  the row\n",
    "\n",
    "|        |  1 |  2 |  3 |  4 |  5 |  6 |  7 |  8 |  9 |  10 | ... |  40 |  41 |  42 |  43 |  45 |  46 |  47 |  48 |  49 |  50 |\n",
    "|----------|------------|-----------|-----------|-----------|-----------|-----------|-----------|-----------|-----------|------------|-----|-------------|-------------|-------------|-------------|-------------|-------------|-------------|-------------|-------------|-------------|\n",
    "| Indep. Var.    | 3          | 4         | 7         | 2         | 2         | 2         | 9         | 4         | 7         | 5          | ... | 5           | 2           | 7           | 7           | 3           | 8           | 8           | 1           | 1           | 3           |"
   ]
  },
  {
   "cell_type": "code",
   "execution_count": 21,
   "metadata": {},
   "outputs": [
    {
     "data": {
      "text/html": [
       "<div>\n",
       "<style scoped>\n",
       "    .dataframe tbody tr th:only-of-type {\n",
       "        vertical-align: middle;\n",
       "    }\n",
       "\n",
       "    .dataframe tbody tr th {\n",
       "        vertical-align: top;\n",
       "    }\n",
       "\n",
       "    .dataframe thead th {\n",
       "        text-align: right;\n",
       "    }\n",
       "</style>\n",
       "<table border=\"1\" class=\"dataframe\">\n",
       "  <thead>\n",
       "    <tr style=\"text-align: right;\">\n",
       "      <th>subject</th>\n",
       "      <th>114.0</th>\n",
       "      <th>116.0</th>\n",
       "      <th>106.0</th>\n",
       "      <th>101.0</th>\n",
       "      <th>110.0</th>\n",
       "      <th>104.0</th>\n",
       "      <th>102.0</th>\n",
       "      <th>118.0</th>\n",
       "      <th>109.0</th>\n",
       "      <th>113.0</th>\n",
       "      <th>...</th>\n",
       "      <th>125.0</th>\n",
       "      <th>127.0</th>\n",
       "      <th>128.0</th>\n",
       "      <th>126.0</th>\n",
       "      <th>129.0</th>\n",
       "      <th>130.0</th>\n",
       "      <th>131.0</th>\n",
       "      <th>139.0</th>\n",
       "      <th>140.0</th>\n",
       "      <th>147.0</th>\n",
       "    </tr>\n",
       "  </thead>\n",
       "  <tbody>\n",
       "    <tr>\n",
       "      <th>ADAS11Score</th>\n",
       "      <td>-14.0</td>\n",
       "      <td>-8.0</td>\n",
       "      <td>-5.0</td>\n",
       "      <td>-11.0</td>\n",
       "      <td>-1.0</td>\n",
       "      <td>-22.0</td>\n",
       "      <td>-8.0</td>\n",
       "      <td>-16.0</td>\n",
       "      <td>-6.0</td>\n",
       "      <td>-9.0</td>\n",
       "      <td>...</td>\n",
       "      <td>1.0</td>\n",
       "      <td>0.0</td>\n",
       "      <td>-8.0</td>\n",
       "      <td>-21.0</td>\n",
       "      <td>-9.0</td>\n",
       "      <td>-1.0</td>\n",
       "      <td>-8.0</td>\n",
       "      <td>-4.0</td>\n",
       "      <td>4.0</td>\n",
       "      <td>-1.0</td>\n",
       "    </tr>\n",
       "    <tr>\n",
       "      <th>ADAS13Score</th>\n",
       "      <td>-14.0</td>\n",
       "      <td>-6.0</td>\n",
       "      <td>-5.0</td>\n",
       "      <td>-12.0</td>\n",
       "      <td>3.0</td>\n",
       "      <td>-24.0</td>\n",
       "      <td>-9.0</td>\n",
       "      <td>-20.0</td>\n",
       "      <td>-8.0</td>\n",
       "      <td>-14.0</td>\n",
       "      <td>...</td>\n",
       "      <td>0.0</td>\n",
       "      <td>0.0</td>\n",
       "      <td>-13.0</td>\n",
       "      <td>-26.0</td>\n",
       "      <td>-9.0</td>\n",
       "      <td>-7.0</td>\n",
       "      <td>-6.0</td>\n",
       "      <td>-7.0</td>\n",
       "      <td>2.0</td>\n",
       "      <td>-8.0</td>\n",
       "    </tr>\n",
       "    <tr>\n",
       "      <th>ADASCancellationTotalScore</th>\n",
       "      <td>0.0</td>\n",
       "      <td>2.0</td>\n",
       "      <td>1.0</td>\n",
       "      <td>-2.0</td>\n",
       "      <td>1.0</td>\n",
       "      <td>-2.0</td>\n",
       "      <td>-1.0</td>\n",
       "      <td>-2.0</td>\n",
       "      <td>0.0</td>\n",
       "      <td>-1.0</td>\n",
       "      <td>...</td>\n",
       "      <td>-2.0</td>\n",
       "      <td>0.0</td>\n",
       "      <td>-1.0</td>\n",
       "      <td>-2.0</td>\n",
       "      <td>0.0</td>\n",
       "      <td>0.0</td>\n",
       "      <td>2.0</td>\n",
       "      <td>-1.0</td>\n",
       "      <td>0.0</td>\n",
       "      <td>-2.0</td>\n",
       "    </tr>\n",
       "    <tr>\n",
       "      <th>ADASCircleCorrect</th>\n",
       "      <td>0.0</td>\n",
       "      <td>0.0</td>\n",
       "      <td>0.0</td>\n",
       "      <td>0.0</td>\n",
       "      <td>0.0</td>\n",
       "      <td>-1.0</td>\n",
       "      <td>0.0</td>\n",
       "      <td>0.0</td>\n",
       "      <td>1.0</td>\n",
       "      <td>0.0</td>\n",
       "      <td>...</td>\n",
       "      <td>0.0</td>\n",
       "      <td>0.0</td>\n",
       "      <td>0.0</td>\n",
       "      <td>-1.0</td>\n",
       "      <td>0.0</td>\n",
       "      <td>1.0</td>\n",
       "      <td>0.0</td>\n",
       "      <td>0.0</td>\n",
       "      <td>0.0</td>\n",
       "      <td>0.0</td>\n",
       "    </tr>\n",
       "    <tr>\n",
       "      <th>ADASCommandTotalScore</th>\n",
       "      <td>0.0</td>\n",
       "      <td>0.0</td>\n",
       "      <td>0.0</td>\n",
       "      <td>0.0</td>\n",
       "      <td>-1.0</td>\n",
       "      <td>-3.0</td>\n",
       "      <td>0.0</td>\n",
       "      <td>0.0</td>\n",
       "      <td>-1.0</td>\n",
       "      <td>0.0</td>\n",
       "      <td>...</td>\n",
       "      <td>0.0</td>\n",
       "      <td>0.0</td>\n",
       "      <td>-1.0</td>\n",
       "      <td>-2.0</td>\n",
       "      <td>0.0</td>\n",
       "      <td>0.0</td>\n",
       "      <td>0.0</td>\n",
       "      <td>-1.0</td>\n",
       "      <td>-1.0</td>\n",
       "      <td>0.0</td>\n",
       "    </tr>\n",
       "    <tr>\n",
       "      <th>ADASConstPraxisTotalScore</th>\n",
       "      <td>0.0</td>\n",
       "      <td>-1.0</td>\n",
       "      <td>-1.0</td>\n",
       "      <td>-1.0</td>\n",
       "      <td>0.0</td>\n",
       "      <td>-2.0</td>\n",
       "      <td>0.0</td>\n",
       "      <td>-1.0</td>\n",
       "      <td>0.0</td>\n",
       "      <td>-1.0</td>\n",
       "      <td>...</td>\n",
       "      <td>0.0</td>\n",
       "      <td>0.0</td>\n",
       "      <td>-1.0</td>\n",
       "      <td>-2.0</td>\n",
       "      <td>0.0</td>\n",
       "      <td>-1.0</td>\n",
       "      <td>0.0</td>\n",
       "      <td>0.0</td>\n",
       "      <td>0.0</td>\n",
       "      <td>1.0</td>\n",
       "    </tr>\n",
       "    <tr>\n",
       "      <th>ADASCubeCorrect</th>\n",
       "      <td>0.0</td>\n",
       "      <td>0.0</td>\n",
       "      <td>-1.0</td>\n",
       "      <td>-1.0</td>\n",
       "      <td>0.0</td>\n",
       "      <td>-1.0</td>\n",
       "      <td>0.0</td>\n",
       "      <td>0.0</td>\n",
       "      <td>-1.0</td>\n",
       "      <td>0.0</td>\n",
       "      <td>...</td>\n",
       "      <td>0.0</td>\n",
       "      <td>0.0</td>\n",
       "      <td>0.0</td>\n",
       "      <td>0.0</td>\n",
       "      <td>0.0</td>\n",
       "      <td>0.0</td>\n",
       "      <td>0.0</td>\n",
       "      <td>0.0</td>\n",
       "      <td>0.0</td>\n",
       "      <td>0.0</td>\n",
       "    </tr>\n",
       "    <tr>\n",
       "      <th>ADASDelayedRecallTotalScore</th>\n",
       "      <td>0.0</td>\n",
       "      <td>0.0</td>\n",
       "      <td>-1.0</td>\n",
       "      <td>1.0</td>\n",
       "      <td>3.0</td>\n",
       "      <td>0.0</td>\n",
       "      <td>0.0</td>\n",
       "      <td>-2.0</td>\n",
       "      <td>-2.0</td>\n",
       "      <td>-4.0</td>\n",
       "      <td>...</td>\n",
       "      <td>1.0</td>\n",
       "      <td>0.0</td>\n",
       "      <td>-4.0</td>\n",
       "      <td>-3.0</td>\n",
       "      <td>0.0</td>\n",
       "      <td>-6.0</td>\n",
       "      <td>0.0</td>\n",
       "      <td>-2.0</td>\n",
       "      <td>-2.0</td>\n",
       "      <td>-5.0</td>\n",
       "    </tr>\n",
       "    <tr>\n",
       "      <th>ADASDiamondCorrect</th>\n",
       "      <td>0.0</td>\n",
       "      <td>-1.0</td>\n",
       "      <td>0.0</td>\n",
       "      <td>0.0</td>\n",
       "      <td>0.0</td>\n",
       "      <td>0.0</td>\n",
       "      <td>0.0</td>\n",
       "      <td>-1.0</td>\n",
       "      <td>0.0</td>\n",
       "      <td>0.0</td>\n",
       "      <td>...</td>\n",
       "      <td>0.0</td>\n",
       "      <td>0.0</td>\n",
       "      <td>-1.0</td>\n",
       "      <td>0.0</td>\n",
       "      <td>0.0</td>\n",
       "      <td>-1.0</td>\n",
       "      <td>0.0</td>\n",
       "      <td>0.0</td>\n",
       "      <td>0.0</td>\n",
       "      <td>0.0</td>\n",
       "    </tr>\n",
       "    <tr>\n",
       "      <th>ADASIdeationPraxisTotalScore</th>\n",
       "      <td>0.0</td>\n",
       "      <td>0.0</td>\n",
       "      <td>0.0</td>\n",
       "      <td>-1.0</td>\n",
       "      <td>0.0</td>\n",
       "      <td>-3.0</td>\n",
       "      <td>-1.0</td>\n",
       "      <td>-2.0</td>\n",
       "      <td>0.0</td>\n",
       "      <td>0.0</td>\n",
       "      <td>...</td>\n",
       "      <td>0.0</td>\n",
       "      <td>-1.0</td>\n",
       "      <td>-1.0</td>\n",
       "      <td>-3.0</td>\n",
       "      <td>-1.0</td>\n",
       "      <td>0.0</td>\n",
       "      <td>-1.0</td>\n",
       "      <td>-1.0</td>\n",
       "      <td>-1.0</td>\n",
       "      <td>1.0</td>\n",
       "    </tr>\n",
       "    <tr>\n",
       "      <th>ADASInstructionsScore</th>\n",
       "      <td>-2.0</td>\n",
       "      <td>0.0</td>\n",
       "      <td>1.0</td>\n",
       "      <td>-1.0</td>\n",
       "      <td>1.0</td>\n",
       "      <td>0.0</td>\n",
       "      <td>0.0</td>\n",
       "      <td>-3.0</td>\n",
       "      <td>-2.0</td>\n",
       "      <td>0.0</td>\n",
       "      <td>...</td>\n",
       "      <td>0.0</td>\n",
       "      <td>0.0</td>\n",
       "      <td>0.0</td>\n",
       "      <td>-3.0</td>\n",
       "      <td>0.0</td>\n",
       "      <td>0.0</td>\n",
       "      <td>0.0</td>\n",
       "      <td>0.0</td>\n",
       "      <td>0.0</td>\n",
       "      <td>0.0</td>\n",
       "    </tr>\n",
       "    <tr>\n",
       "      <th>ADASLanguageCompScore</th>\n",
       "      <td>-1.0</td>\n",
       "      <td>0.0</td>\n",
       "      <td>0.0</td>\n",
       "      <td>0.0</td>\n",
       "      <td>1.0</td>\n",
       "      <td>-2.0</td>\n",
       "      <td>-1.0</td>\n",
       "      <td>-1.0</td>\n",
       "      <td>0.0</td>\n",
       "      <td>0.0</td>\n",
       "      <td>...</td>\n",
       "      <td>0.0</td>\n",
       "      <td>0.0</td>\n",
       "      <td>0.0</td>\n",
       "      <td>-2.0</td>\n",
       "      <td>-1.0</td>\n",
       "      <td>0.0</td>\n",
       "      <td>0.0</td>\n",
       "      <td>-1.0</td>\n",
       "      <td>0.0</td>\n",
       "      <td>0.0</td>\n",
       "    </tr>\n",
       "    <tr>\n",
       "      <th>ADASLanguageScore</th>\n",
       "      <td>0.0</td>\n",
       "      <td>0.0</td>\n",
       "      <td>0.0</td>\n",
       "      <td>1.0</td>\n",
       "      <td>0.0</td>\n",
       "      <td>1.0</td>\n",
       "      <td>0.0</td>\n",
       "      <td>0.0</td>\n",
       "      <td>0.0</td>\n",
       "      <td>0.0</td>\n",
       "      <td>...</td>\n",
       "      <td>0.0</td>\n",
       "      <td>0.0</td>\n",
       "      <td>0.0</td>\n",
       "      <td>-2.0</td>\n",
       "      <td>0.0</td>\n",
       "      <td>0.0</td>\n",
       "      <td>0.0</td>\n",
       "      <td>-1.0</td>\n",
       "      <td>0.0</td>\n",
       "      <td>0.0</td>\n",
       "    </tr>\n",
       "    <tr>\n",
       "      <th>ADASNamingCorrectScore</th>\n",
       "      <td>4.0</td>\n",
       "      <td>5.0</td>\n",
       "      <td>2.0</td>\n",
       "      <td>0.0</td>\n",
       "      <td>0.0</td>\n",
       "      <td>11.0</td>\n",
       "      <td>1.0</td>\n",
       "      <td>2.0</td>\n",
       "      <td>3.0</td>\n",
       "      <td>2.0</td>\n",
       "      <td>...</td>\n",
       "      <td>1.0</td>\n",
       "      <td>1.0</td>\n",
       "      <td>0.0</td>\n",
       "      <td>-1.0</td>\n",
       "      <td>1.0</td>\n",
       "      <td>0.0</td>\n",
       "      <td>0.0</td>\n",
       "      <td>-1.0</td>\n",
       "      <td>1.0</td>\n",
       "      <td>5.0</td>\n",
       "    </tr>\n",
       "    <tr>\n",
       "      <th>ADASNamingTaskTotalScore</th>\n",
       "      <td>-2.0</td>\n",
       "      <td>-2.0</td>\n",
       "      <td>0.0</td>\n",
       "      <td>0.0</td>\n",
       "      <td>0.0</td>\n",
       "      <td>-3.0</td>\n",
       "      <td>0.0</td>\n",
       "      <td>-1.0</td>\n",
       "      <td>-1.0</td>\n",
       "      <td>-1.0</td>\n",
       "      <td>...</td>\n",
       "      <td>0.0</td>\n",
       "      <td>0.0</td>\n",
       "      <td>0.0</td>\n",
       "      <td>0.0</td>\n",
       "      <td>0.0</td>\n",
       "      <td>0.0</td>\n",
       "      <td>0.0</td>\n",
       "      <td>0.0</td>\n",
       "      <td>0.0</td>\n",
       "      <td>-2.0</td>\n",
       "    </tr>\n",
       "    <tr>\n",
       "      <th>ADASOrinetationTotalScore</th>\n",
       "      <td>-3.0</td>\n",
       "      <td>0.0</td>\n",
       "      <td>-1.0</td>\n",
       "      <td>-5.0</td>\n",
       "      <td>-2.0</td>\n",
       "      <td>-2.0</td>\n",
       "      <td>0.0</td>\n",
       "      <td>-3.0</td>\n",
       "      <td>-1.0</td>\n",
       "      <td>0.0</td>\n",
       "      <td>...</td>\n",
       "      <td>0.0</td>\n",
       "      <td>-1.0</td>\n",
       "      <td>-3.0</td>\n",
       "      <td>-5.0</td>\n",
       "      <td>-3.0</td>\n",
       "      <td>0.0</td>\n",
       "      <td>-1.0</td>\n",
       "      <td>0.0</td>\n",
       "      <td>3.0</td>\n",
       "      <td>0.0</td>\n",
       "    </tr>\n",
       "    <tr>\n",
       "      <th>ADASRecognitionTable1Score</th>\n",
       "      <td>-5.0</td>\n",
       "      <td>-5.0</td>\n",
       "      <td>-4.0</td>\n",
       "      <td>-2.0</td>\n",
       "      <td>2.0</td>\n",
       "      <td>-7.0</td>\n",
       "      <td>-5.0</td>\n",
       "      <td>-5.0</td>\n",
       "      <td>0.0</td>\n",
       "      <td>-6.0</td>\n",
       "      <td>...</td>\n",
       "      <td>0.0</td>\n",
       "      <td>1.0</td>\n",
       "      <td>-4.0</td>\n",
       "      <td>-1.0</td>\n",
       "      <td>-3.0</td>\n",
       "      <td>1.0</td>\n",
       "      <td>-4.0</td>\n",
       "      <td>2.0</td>\n",
       "      <td>3.0</td>\n",
       "      <td>0.0</td>\n",
       "    </tr>\n",
       "    <tr>\n",
       "      <th>ADASRectanglesCorrect</th>\n",
       "      <td>0.0</td>\n",
       "      <td>0.0</td>\n",
       "      <td>0.0</td>\n",
       "      <td>0.0</td>\n",
       "      <td>0.0</td>\n",
       "      <td>0.0</td>\n",
       "      <td>0.0</td>\n",
       "      <td>0.0</td>\n",
       "      <td>0.0</td>\n",
       "      <td>-1.0</td>\n",
       "      <td>...</td>\n",
       "      <td>0.0</td>\n",
       "      <td>0.0</td>\n",
       "      <td>0.0</td>\n",
       "      <td>-1.0</td>\n",
       "      <td>0.0</td>\n",
       "      <td>-1.0</td>\n",
       "      <td>0.0</td>\n",
       "      <td>0.0</td>\n",
       "      <td>0.0</td>\n",
       "      <td>1.0</td>\n",
       "    </tr>\n",
       "    <tr>\n",
       "      <th>ADASWordFindingScore</th>\n",
       "      <td>0.0</td>\n",
       "      <td>0.0</td>\n",
       "      <td>0.0</td>\n",
       "      <td>-1.0</td>\n",
       "      <td>-1.0</td>\n",
       "      <td>0.0</td>\n",
       "      <td>0.0</td>\n",
       "      <td>0.0</td>\n",
       "      <td>0.0</td>\n",
       "      <td>0.0</td>\n",
       "      <td>...</td>\n",
       "      <td>1.0</td>\n",
       "      <td>1.0</td>\n",
       "      <td>1.0</td>\n",
       "      <td>0.0</td>\n",
       "      <td>-1.0</td>\n",
       "      <td>1.0</td>\n",
       "      <td>-3.0</td>\n",
       "      <td>-1.0</td>\n",
       "      <td>0.0</td>\n",
       "      <td>-1.0</td>\n",
       "    </tr>\n",
       "    <tr>\n",
       "      <th>ADASWordRecallTotalScore</th>\n",
       "      <td>-1.0</td>\n",
       "      <td>0.0</td>\n",
       "      <td>0.0</td>\n",
       "      <td>-1.0</td>\n",
       "      <td>-1.0</td>\n",
       "      <td>-1.0</td>\n",
       "      <td>-1.0</td>\n",
       "      <td>0.0</td>\n",
       "      <td>-1.0</td>\n",
       "      <td>-1.0</td>\n",
       "      <td>...</td>\n",
       "      <td>0.0</td>\n",
       "      <td>0.0</td>\n",
       "      <td>1.0</td>\n",
       "      <td>-1.0</td>\n",
       "      <td>0.0</td>\n",
       "      <td>-2.0</td>\n",
       "      <td>1.0</td>\n",
       "      <td>-1.0</td>\n",
       "      <td>0.0</td>\n",
       "      <td>0.0</td>\n",
       "    </tr>\n",
       "  </tbody>\n",
       "</table>\n",
       "<p>20 rows × 23 columns</p>\n",
       "</div>"
      ],
      "text/plain": [
       "subject                       114.0  116.0  106.0  101.0  110.0  104.0  102.0  \\\n",
       "ADAS11Score                   -14.0   -8.0   -5.0  -11.0   -1.0  -22.0   -8.0   \n",
       "ADAS13Score                   -14.0   -6.0   -5.0  -12.0    3.0  -24.0   -9.0   \n",
       "ADASCancellationTotalScore      0.0    2.0    1.0   -2.0    1.0   -2.0   -1.0   \n",
       "ADASCircleCorrect               0.0    0.0    0.0    0.0    0.0   -1.0    0.0   \n",
       "ADASCommandTotalScore           0.0    0.0    0.0    0.0   -1.0   -3.0    0.0   \n",
       "ADASConstPraxisTotalScore       0.0   -1.0   -1.0   -1.0    0.0   -2.0    0.0   \n",
       "ADASCubeCorrect                 0.0    0.0   -1.0   -1.0    0.0   -1.0    0.0   \n",
       "ADASDelayedRecallTotalScore     0.0    0.0   -1.0    1.0    3.0    0.0    0.0   \n",
       "ADASDiamondCorrect              0.0   -1.0    0.0    0.0    0.0    0.0    0.0   \n",
       "ADASIdeationPraxisTotalScore    0.0    0.0    0.0   -1.0    0.0   -3.0   -1.0   \n",
       "ADASInstructionsScore          -2.0    0.0    1.0   -1.0    1.0    0.0    0.0   \n",
       "ADASLanguageCompScore          -1.0    0.0    0.0    0.0    1.0   -2.0   -1.0   \n",
       "ADASLanguageScore               0.0    0.0    0.0    1.0    0.0    1.0    0.0   \n",
       "ADASNamingCorrectScore          4.0    5.0    2.0    0.0    0.0   11.0    1.0   \n",
       "ADASNamingTaskTotalScore       -2.0   -2.0    0.0    0.0    0.0   -3.0    0.0   \n",
       "ADASOrinetationTotalScore      -3.0    0.0   -1.0   -5.0   -2.0   -2.0    0.0   \n",
       "ADASRecognitionTable1Score     -5.0   -5.0   -4.0   -2.0    2.0   -7.0   -5.0   \n",
       "ADASRectanglesCorrect           0.0    0.0    0.0    0.0    0.0    0.0    0.0   \n",
       "ADASWordFindingScore            0.0    0.0    0.0   -1.0   -1.0    0.0    0.0   \n",
       "ADASWordRecallTotalScore       -1.0    0.0    0.0   -1.0   -1.0   -1.0   -1.0   \n",
       "\n",
       "subject                       118.0  109.0  113.0  ...  125.0  127.0  128.0  \\\n",
       "ADAS11Score                   -16.0   -6.0   -9.0  ...    1.0    0.0   -8.0   \n",
       "ADAS13Score                   -20.0   -8.0  -14.0  ...    0.0    0.0  -13.0   \n",
       "ADASCancellationTotalScore     -2.0    0.0   -1.0  ...   -2.0    0.0   -1.0   \n",
       "ADASCircleCorrect               0.0    1.0    0.0  ...    0.0    0.0    0.0   \n",
       "ADASCommandTotalScore           0.0   -1.0    0.0  ...    0.0    0.0   -1.0   \n",
       "ADASConstPraxisTotalScore      -1.0    0.0   -1.0  ...    0.0    0.0   -1.0   \n",
       "ADASCubeCorrect                 0.0   -1.0    0.0  ...    0.0    0.0    0.0   \n",
       "ADASDelayedRecallTotalScore    -2.0   -2.0   -4.0  ...    1.0    0.0   -4.0   \n",
       "ADASDiamondCorrect             -1.0    0.0    0.0  ...    0.0    0.0   -1.0   \n",
       "ADASIdeationPraxisTotalScore   -2.0    0.0    0.0  ...    0.0   -1.0   -1.0   \n",
       "ADASInstructionsScore          -3.0   -2.0    0.0  ...    0.0    0.0    0.0   \n",
       "ADASLanguageCompScore          -1.0    0.0    0.0  ...    0.0    0.0    0.0   \n",
       "ADASLanguageScore               0.0    0.0    0.0  ...    0.0    0.0    0.0   \n",
       "ADASNamingCorrectScore          2.0    3.0    2.0  ...    1.0    1.0    0.0   \n",
       "ADASNamingTaskTotalScore       -1.0   -1.0   -1.0  ...    0.0    0.0    0.0   \n",
       "ADASOrinetationTotalScore      -3.0   -1.0    0.0  ...    0.0   -1.0   -3.0   \n",
       "ADASRecognitionTable1Score     -5.0    0.0   -6.0  ...    0.0    1.0   -4.0   \n",
       "ADASRectanglesCorrect           0.0    0.0   -1.0  ...    0.0    0.0    0.0   \n",
       "ADASWordFindingScore            0.0    0.0    0.0  ...    1.0    1.0    1.0   \n",
       "ADASWordRecallTotalScore        0.0   -1.0   -1.0  ...    0.0    0.0    1.0   \n",
       "\n",
       "subject                       126.0  129.0  130.0  131.0  139.0  140.0  147.0  \n",
       "ADAS11Score                   -21.0   -9.0   -1.0   -8.0   -4.0    4.0   -1.0  \n",
       "ADAS13Score                   -26.0   -9.0   -7.0   -6.0   -7.0    2.0   -8.0  \n",
       "ADASCancellationTotalScore     -2.0    0.0    0.0    2.0   -1.0    0.0   -2.0  \n",
       "ADASCircleCorrect              -1.0    0.0    1.0    0.0    0.0    0.0    0.0  \n",
       "ADASCommandTotalScore          -2.0    0.0    0.0    0.0   -1.0   -1.0    0.0  \n",
       "ADASConstPraxisTotalScore      -2.0    0.0   -1.0    0.0    0.0    0.0    1.0  \n",
       "ADASCubeCorrect                 0.0    0.0    0.0    0.0    0.0    0.0    0.0  \n",
       "ADASDelayedRecallTotalScore    -3.0    0.0   -6.0    0.0   -2.0   -2.0   -5.0  \n",
       "ADASDiamondCorrect              0.0    0.0   -1.0    0.0    0.0    0.0    0.0  \n",
       "ADASIdeationPraxisTotalScore   -3.0   -1.0    0.0   -1.0   -1.0   -1.0    1.0  \n",
       "ADASInstructionsScore          -3.0    0.0    0.0    0.0    0.0    0.0    0.0  \n",
       "ADASLanguageCompScore          -2.0   -1.0    0.0    0.0   -1.0    0.0    0.0  \n",
       "ADASLanguageScore              -2.0    0.0    0.0    0.0   -1.0    0.0    0.0  \n",
       "ADASNamingCorrectScore         -1.0    1.0    0.0    0.0   -1.0    1.0    5.0  \n",
       "ADASNamingTaskTotalScore        0.0    0.0    0.0    0.0    0.0    0.0   -2.0  \n",
       "ADASOrinetationTotalScore      -5.0   -3.0    0.0   -1.0    0.0    3.0    0.0  \n",
       "ADASRecognitionTable1Score     -1.0   -3.0    1.0   -4.0    2.0    3.0    0.0  \n",
       "ADASRectanglesCorrect          -1.0    0.0   -1.0    0.0    0.0    0.0    1.0  \n",
       "ADASWordFindingScore            0.0   -1.0    1.0   -3.0   -1.0    0.0   -1.0  \n",
       "ADASWordRecallTotalScore       -1.0    0.0   -2.0    1.0   -1.0    0.0    0.0  \n",
       "\n",
       "[20 rows x 23 columns]"
      ]
     },
     "execution_count": 21,
     "metadata": {},
     "output_type": "execute_result"
    }
   ],
   "source": [
    "data_df=data_df.loc[:, col_to_keep_list]\n",
    "data_df = data_df.T\n",
    "data_df.columns = data_df.loc[subcol]\n",
    "data_df = data_df.drop(subcol)\n",
    "data_df.dropna(inplace=True, axis=1)\n",
    "data_df"
   ]
  },
  {
   "cell_type": "markdown",
   "metadata": {},
   "source": [
    "Is there a particular mask you want to use?\n",
    "- MUST match the resolution of voxelwise data being analyzed. \n",
    "- If you set None, the voxelwise data will be used for thresholding. \n",
    "    - Values below mask_threshold (float) will be set to 0. \n",
    "- Warning: bad masking may result in failed experiments. Erroneous voxels outside the brain will influence the correction. "
   ]
  },
  {
   "cell_type": "code",
   "execution_count": 22,
   "metadata": {},
   "outputs": [],
   "source": [
    "mask_path = '/Users/cu135/hires_backdrops/MNI/MNI152_T1_2mm_brain_mask.nii'\n",
    "mask_threshold = 0"
   ]
  },
  {
   "cell_type": "markdown",
   "metadata": {},
   "source": [
    "Correlation method\n",
    "- spearman or pearson"
   ]
  },
  {
   "cell_type": "code",
   "execution_count": 23,
   "metadata": {},
   "outputs": [],
   "source": [
    "method = 'spearman'"
   ]
  },
  {
   "cell_type": "markdown",
   "metadata": {},
   "source": [
    "Choose Max Stat Correction Method\n",
    "- None | pseudo_var_smooth | var_smooth"
   ]
  },
  {
   "cell_type": "code",
   "execution_count": 24,
   "metadata": {},
   "outputs": [],
   "source": [
    "max_stat_method = 'pseudo_var_smooth'"
   ]
  },
  {
   "cell_type": "code",
   "execution_count": 25,
   "metadata": {},
   "outputs": [
    {
     "name": "stdout",
     "output_type": "stream",
     "text": [
      "Evalauting 23 patients\n",
      "Spearman vectorization state: False\n"
     ]
    },
    {
     "name": "stderr",
     "output_type": "stream",
     "text": [
      "Permuting:   0%|          | 0/1 [00:00<?, ?it/s]"
     ]
    },
    {
     "name": "stdout",
     "output_type": "stream",
     "text": [
      "Evalauting 23 patients\n",
      "Spearman vectorization state: False\n"
     ]
    },
    {
     "name": "stderr",
     "output_type": "stream",
     "text": [
      "Permuting: 100%|██████████| 1/1 [00:28<00:00, 28.11s/it]\n"
     ]
    },
    {
     "name": "stdout",
     "output_type": "stream",
     "text": [
      "95th percentile of permuted statistic:  0.5473485539547781\n",
      "Image saved to: \n",
      " /Users/cu135/Partners HealthCare Dropbox/Calvin Howard/resources/published_networks/AD_DBS_ADAS_Cog_Submaps\n",
      "Image saved to: \n",
      " /Users/cu135/Partners HealthCare Dropbox/Calvin Howard/resources/published_networks/AD_DBS_ADAS_Cog_Submaps\n",
      "Image saved to: \n",
      " /Users/cu135/Partners HealthCare Dropbox/Calvin Howard/resources/published_networks/AD_DBS_ADAS_Cog_Submaps\n",
      "Evalauting 23 patients\n",
      "Spearman vectorization state: False\n"
     ]
    },
    {
     "name": "stderr",
     "output_type": "stream",
     "text": [
      "Permuting:   0%|          | 0/1 [00:00<?, ?it/s]"
     ]
    },
    {
     "name": "stdout",
     "output_type": "stream",
     "text": [
      "Evalauting 23 patients\n",
      "Spearman vectorization state: False\n"
     ]
    },
    {
     "name": "stderr",
     "output_type": "stream",
     "text": [
      "Permuting: 100%|██████████| 1/1 [00:28<00:00, 28.46s/it]\n"
     ]
    },
    {
     "name": "stdout",
     "output_type": "stream",
     "text": [
      "95th percentile of permuted statistic:  0.7161983328986044\n",
      "Image saved to: \n",
      " /Users/cu135/Partners HealthCare Dropbox/Calvin Howard/resources/published_networks/AD_DBS_ADAS_Cog_Submaps\n",
      "Image saved to: \n",
      " /Users/cu135/Partners HealthCare Dropbox/Calvin Howard/resources/published_networks/AD_DBS_ADAS_Cog_Submaps\n",
      "Image saved to: \n",
      " /Users/cu135/Partners HealthCare Dropbox/Calvin Howard/resources/published_networks/AD_DBS_ADAS_Cog_Submaps\n",
      "Evalauting 23 patients\n",
      "Spearman vectorization state: False\n"
     ]
    },
    {
     "name": "stderr",
     "output_type": "stream",
     "text": [
      "Permuting:   0%|          | 0/1 [00:00<?, ?it/s]"
     ]
    },
    {
     "name": "stdout",
     "output_type": "stream",
     "text": [
      "Evalauting 23 patients\n",
      "Spearman vectorization state: False\n"
     ]
    },
    {
     "name": "stderr",
     "output_type": "stream",
     "text": [
      "Permuting: 100%|██████████| 1/1 [00:28<00:00, 28.01s/it]\n"
     ]
    },
    {
     "name": "stdout",
     "output_type": "stream",
     "text": [
      "95th percentile of permuted statistic:  0.5761807197058125\n",
      "Image saved to: \n",
      " /Users/cu135/Partners HealthCare Dropbox/Calvin Howard/resources/published_networks/AD_DBS_ADAS_Cog_Submaps\n",
      "Image saved to: \n",
      " /Users/cu135/Partners HealthCare Dropbox/Calvin Howard/resources/published_networks/AD_DBS_ADAS_Cog_Submaps\n",
      "Image saved to: \n",
      " /Users/cu135/Partners HealthCare Dropbox/Calvin Howard/resources/published_networks/AD_DBS_ADAS_Cog_Submaps\n",
      "Evalauting 23 patients\n",
      "Spearman vectorization state: False\n"
     ]
    },
    {
     "name": "stderr",
     "output_type": "stream",
     "text": [
      "Permuting:   0%|          | 0/1 [00:00<?, ?it/s]"
     ]
    },
    {
     "name": "stdout",
     "output_type": "stream",
     "text": [
      "Evalauting 23 patients\n",
      "Spearman vectorization state: False\n"
     ]
    },
    {
     "name": "stderr",
     "output_type": "stream",
     "text": [
      "Permuting: 100%|██████████| 1/1 [00:28<00:00, 28.10s/it]\n"
     ]
    },
    {
     "name": "stdout",
     "output_type": "stream",
     "text": [
      "95th percentile of permuted statistic:  0.5029556907695453\n",
      "Image saved to: \n",
      " /Users/cu135/Partners HealthCare Dropbox/Calvin Howard/resources/published_networks/AD_DBS_ADAS_Cog_Submaps\n",
      "Image saved to: \n",
      " /Users/cu135/Partners HealthCare Dropbox/Calvin Howard/resources/published_networks/AD_DBS_ADAS_Cog_Submaps\n",
      "Image saved to: \n",
      " /Users/cu135/Partners HealthCare Dropbox/Calvin Howard/resources/published_networks/AD_DBS_ADAS_Cog_Submaps\n",
      "Evalauting 23 patients\n",
      "Spearman vectorization state: False\n"
     ]
    },
    {
     "name": "stderr",
     "output_type": "stream",
     "text": [
      "Permuting:   0%|          | 0/1 [00:00<?, ?it/s]"
     ]
    },
    {
     "name": "stdout",
     "output_type": "stream",
     "text": [
      "Evalauting 23 patients\n",
      "Spearman vectorization state: False\n"
     ]
    },
    {
     "name": "stderr",
     "output_type": "stream",
     "text": [
      "Permuting: 100%|██████████| 1/1 [00:28<00:00, 28.16s/it]\n"
     ]
    },
    {
     "name": "stdout",
     "output_type": "stream",
     "text": [
      "95th percentile of permuted statistic:  0.3739587052262183\n",
      "Image saved to: \n",
      " /Users/cu135/Partners HealthCare Dropbox/Calvin Howard/resources/published_networks/AD_DBS_ADAS_Cog_Submaps\n",
      "Image saved to: \n",
      " /Users/cu135/Partners HealthCare Dropbox/Calvin Howard/resources/published_networks/AD_DBS_ADAS_Cog_Submaps\n",
      "Image saved to: \n",
      " /Users/cu135/Partners HealthCare Dropbox/Calvin Howard/resources/published_networks/AD_DBS_ADAS_Cog_Submaps\n",
      "Evalauting 23 patients\n",
      "Spearman vectorization state: False\n"
     ]
    },
    {
     "name": "stderr",
     "output_type": "stream",
     "text": [
      "Permuting:   0%|          | 0/1 [00:00<?, ?it/s]"
     ]
    },
    {
     "name": "stdout",
     "output_type": "stream",
     "text": [
      "Evalauting 23 patients\n",
      "Spearman vectorization state: False\n"
     ]
    },
    {
     "name": "stderr",
     "output_type": "stream",
     "text": [
      "Permuting: 100%|██████████| 1/1 [00:28<00:00, 28.82s/it]\n"
     ]
    },
    {
     "name": "stdout",
     "output_type": "stream",
     "text": [
      "95th percentile of permuted statistic:  0.34848113872344216\n",
      "Image saved to: \n",
      " /Users/cu135/Partners HealthCare Dropbox/Calvin Howard/resources/published_networks/AD_DBS_ADAS_Cog_Submaps\n",
      "Image saved to: \n",
      " /Users/cu135/Partners HealthCare Dropbox/Calvin Howard/resources/published_networks/AD_DBS_ADAS_Cog_Submaps\n",
      "Image saved to: \n",
      " /Users/cu135/Partners HealthCare Dropbox/Calvin Howard/resources/published_networks/AD_DBS_ADAS_Cog_Submaps\n",
      "Evalauting 23 patients\n",
      "Spearman vectorization state: False\n"
     ]
    },
    {
     "name": "stderr",
     "output_type": "stream",
     "text": [
      "Permuting:   0%|          | 0/1 [00:00<?, ?it/s]"
     ]
    },
    {
     "name": "stdout",
     "output_type": "stream",
     "text": [
      "Evalauting 23 patients\n",
      "Spearman vectorization state: False\n"
     ]
    },
    {
     "name": "stderr",
     "output_type": "stream",
     "text": [
      "Permuting: 100%|██████████| 1/1 [00:28<00:00, 28.27s/it]\n"
     ]
    },
    {
     "name": "stdout",
     "output_type": "stream",
     "text": [
      "95th percentile of permuted statistic:  0.641862541578522\n",
      "Image saved to: \n",
      " /Users/cu135/Partners HealthCare Dropbox/Calvin Howard/resources/published_networks/AD_DBS_ADAS_Cog_Submaps\n",
      "Image saved to: \n",
      " /Users/cu135/Partners HealthCare Dropbox/Calvin Howard/resources/published_networks/AD_DBS_ADAS_Cog_Submaps\n",
      "Image saved to: \n",
      " /Users/cu135/Partners HealthCare Dropbox/Calvin Howard/resources/published_networks/AD_DBS_ADAS_Cog_Submaps\n",
      "Evalauting 23 patients\n",
      "Spearman vectorization state: False\n"
     ]
    },
    {
     "name": "stderr",
     "output_type": "stream",
     "text": [
      "Permuting:   0%|          | 0/1 [00:00<?, ?it/s]"
     ]
    },
    {
     "name": "stdout",
     "output_type": "stream",
     "text": [
      "Evalauting 23 patients\n",
      "Spearman vectorization state: False\n"
     ]
    },
    {
     "name": "stderr",
     "output_type": "stream",
     "text": [
      "Permuting: 100%|██████████| 1/1 [00:28<00:00, 28.39s/it]\n"
     ]
    },
    {
     "name": "stdout",
     "output_type": "stream",
     "text": [
      "95th percentile of permuted statistic:  0.6128390223248218\n",
      "Image saved to: \n",
      " /Users/cu135/Partners HealthCare Dropbox/Calvin Howard/resources/published_networks/AD_DBS_ADAS_Cog_Submaps\n",
      "Image saved to: \n",
      " /Users/cu135/Partners HealthCare Dropbox/Calvin Howard/resources/published_networks/AD_DBS_ADAS_Cog_Submaps\n",
      "Image saved to: \n",
      " /Users/cu135/Partners HealthCare Dropbox/Calvin Howard/resources/published_networks/AD_DBS_ADAS_Cog_Submaps\n",
      "Evalauting 23 patients\n",
      "Spearman vectorization state: False\n"
     ]
    },
    {
     "name": "stderr",
     "output_type": "stream",
     "text": [
      "Permuting:   0%|          | 0/1 [00:00<?, ?it/s]"
     ]
    },
    {
     "name": "stdout",
     "output_type": "stream",
     "text": [
      "Evalauting 23 patients\n",
      "Spearman vectorization state: False\n"
     ]
    },
    {
     "name": "stderr",
     "output_type": "stream",
     "text": [
      "Permuting: 100%|██████████| 1/1 [00:28<00:00, 28.24s/it]\n"
     ]
    },
    {
     "name": "stdout",
     "output_type": "stream",
     "text": [
      "95th percentile of permuted statistic:  0.5533715710928597\n",
      "Image saved to: \n",
      " /Users/cu135/Partners HealthCare Dropbox/Calvin Howard/resources/published_networks/AD_DBS_ADAS_Cog_Submaps\n",
      "Image saved to: \n",
      " /Users/cu135/Partners HealthCare Dropbox/Calvin Howard/resources/published_networks/AD_DBS_ADAS_Cog_Submaps\n",
      "Image saved to: \n",
      " /Users/cu135/Partners HealthCare Dropbox/Calvin Howard/resources/published_networks/AD_DBS_ADAS_Cog_Submaps\n",
      "Evalauting 23 patients\n",
      "Spearman vectorization state: False\n"
     ]
    },
    {
     "name": "stderr",
     "output_type": "stream",
     "text": [
      "Permuting:   0%|          | 0/1 [00:00<?, ?it/s]"
     ]
    },
    {
     "name": "stdout",
     "output_type": "stream",
     "text": [
      "Evalauting 23 patients\n",
      "Spearman vectorization state: False\n"
     ]
    },
    {
     "name": "stderr",
     "output_type": "stream",
     "text": [
      "Permuting: 100%|██████████| 1/1 [00:28<00:00, 28.09s/it]\n"
     ]
    },
    {
     "name": "stdout",
     "output_type": "stream",
     "text": [
      "95th percentile of permuted statistic:  0.5680196282807964\n",
      "Image saved to: \n",
      " /Users/cu135/Partners HealthCare Dropbox/Calvin Howard/resources/published_networks/AD_DBS_ADAS_Cog_Submaps\n",
      "Image saved to: \n",
      " /Users/cu135/Partners HealthCare Dropbox/Calvin Howard/resources/published_networks/AD_DBS_ADAS_Cog_Submaps\n",
      "Image saved to: \n",
      " /Users/cu135/Partners HealthCare Dropbox/Calvin Howard/resources/published_networks/AD_DBS_ADAS_Cog_Submaps\n",
      "Evalauting 23 patients\n",
      "Spearman vectorization state: False\n"
     ]
    },
    {
     "name": "stderr",
     "output_type": "stream",
     "text": [
      "Permuting:   0%|          | 0/1 [00:00<?, ?it/s]"
     ]
    },
    {
     "name": "stdout",
     "output_type": "stream",
     "text": [
      "Evalauting 23 patients\n",
      "Spearman vectorization state: False\n"
     ]
    },
    {
     "name": "stderr",
     "output_type": "stream",
     "text": [
      "Permuting: 100%|██████████| 1/1 [00:28<00:00, 28.19s/it]\n"
     ]
    },
    {
     "name": "stdout",
     "output_type": "stream",
     "text": [
      "95th percentile of permuted statistic:  0.6185153491203816\n",
      "Image saved to: \n",
      " /Users/cu135/Partners HealthCare Dropbox/Calvin Howard/resources/published_networks/AD_DBS_ADAS_Cog_Submaps\n",
      "Image saved to: \n",
      " /Users/cu135/Partners HealthCare Dropbox/Calvin Howard/resources/published_networks/AD_DBS_ADAS_Cog_Submaps\n",
      "Image saved to: \n",
      " /Users/cu135/Partners HealthCare Dropbox/Calvin Howard/resources/published_networks/AD_DBS_ADAS_Cog_Submaps\n",
      "Evalauting 23 patients\n",
      "Spearman vectorization state: False\n"
     ]
    },
    {
     "name": "stderr",
     "output_type": "stream",
     "text": [
      "Permuting:   0%|          | 0/1 [00:00<?, ?it/s]"
     ]
    },
    {
     "name": "stdout",
     "output_type": "stream",
     "text": [
      "Evalauting 23 patients\n",
      "Spearman vectorization state: False\n"
     ]
    },
    {
     "name": "stderr",
     "output_type": "stream",
     "text": [
      "Permuting: 100%|██████████| 1/1 [00:28<00:00, 28.15s/it]\n"
     ]
    },
    {
     "name": "stdout",
     "output_type": "stream",
     "text": [
      "95th percentile of permuted statistic:  0.5783210595492377\n",
      "Image saved to: \n",
      " /Users/cu135/Partners HealthCare Dropbox/Calvin Howard/resources/published_networks/AD_DBS_ADAS_Cog_Submaps\n",
      "Image saved to: \n",
      " /Users/cu135/Partners HealthCare Dropbox/Calvin Howard/resources/published_networks/AD_DBS_ADAS_Cog_Submaps\n",
      "Image saved to: \n",
      " /Users/cu135/Partners HealthCare Dropbox/Calvin Howard/resources/published_networks/AD_DBS_ADAS_Cog_Submaps\n",
      "Evalauting 23 patients\n",
      "Spearman vectorization state: False\n"
     ]
    },
    {
     "name": "stderr",
     "output_type": "stream",
     "text": [
      "Permuting:   0%|          | 0/1 [00:00<?, ?it/s]"
     ]
    },
    {
     "name": "stdout",
     "output_type": "stream",
     "text": [
      "Evalauting 23 patients\n",
      "Spearman vectorization state: False\n"
     ]
    },
    {
     "name": "stderr",
     "output_type": "stream",
     "text": [
      "Permuting: 100%|██████████| 1/1 [00:28<00:00, 28.11s/it]\n"
     ]
    },
    {
     "name": "stdout",
     "output_type": "stream",
     "text": [
      "95th percentile of permuted statistic:  0.6455430203118695\n",
      "Image saved to: \n",
      " /Users/cu135/Partners HealthCare Dropbox/Calvin Howard/resources/published_networks/AD_DBS_ADAS_Cog_Submaps\n",
      "Image saved to: \n",
      " /Users/cu135/Partners HealthCare Dropbox/Calvin Howard/resources/published_networks/AD_DBS_ADAS_Cog_Submaps\n",
      "Image saved to: \n",
      " /Users/cu135/Partners HealthCare Dropbox/Calvin Howard/resources/published_networks/AD_DBS_ADAS_Cog_Submaps\n",
      "Evalauting 23 patients\n",
      "Spearman vectorization state: False\n"
     ]
    },
    {
     "name": "stderr",
     "output_type": "stream",
     "text": [
      "Permuting:   0%|          | 0/1 [00:00<?, ?it/s]"
     ]
    },
    {
     "name": "stdout",
     "output_type": "stream",
     "text": [
      "Evalauting 23 patients\n",
      "Spearman vectorization state: False\n"
     ]
    },
    {
     "name": "stderr",
     "output_type": "stream",
     "text": [
      "Permuting: 100%|██████████| 1/1 [00:28<00:00, 28.34s/it]\n"
     ]
    },
    {
     "name": "stdout",
     "output_type": "stream",
     "text": [
      "95th percentile of permuted statistic:  0.510779966506816\n",
      "Image saved to: \n",
      " /Users/cu135/Partners HealthCare Dropbox/Calvin Howard/resources/published_networks/AD_DBS_ADAS_Cog_Submaps\n",
      "Image saved to: \n",
      " /Users/cu135/Partners HealthCare Dropbox/Calvin Howard/resources/published_networks/AD_DBS_ADAS_Cog_Submaps\n",
      "Image saved to: \n",
      " /Users/cu135/Partners HealthCare Dropbox/Calvin Howard/resources/published_networks/AD_DBS_ADAS_Cog_Submaps\n",
      "Evalauting 23 patients\n",
      "Spearman vectorization state: False\n"
     ]
    },
    {
     "name": "stderr",
     "output_type": "stream",
     "text": [
      "Permuting:   0%|          | 0/1 [00:00<?, ?it/s]"
     ]
    },
    {
     "name": "stdout",
     "output_type": "stream",
     "text": [
      "Evalauting 23 patients\n",
      "Spearman vectorization state: False\n"
     ]
    },
    {
     "name": "stderr",
     "output_type": "stream",
     "text": [
      "Permuting: 100%|██████████| 1/1 [00:28<00:00, 28.10s/it]\n"
     ]
    },
    {
     "name": "stdout",
     "output_type": "stream",
     "text": [
      "95th percentile of permuted statistic:  0.6221359692439244\n",
      "Image saved to: \n",
      " /Users/cu135/Partners HealthCare Dropbox/Calvin Howard/resources/published_networks/AD_DBS_ADAS_Cog_Submaps\n",
      "Image saved to: \n",
      " /Users/cu135/Partners HealthCare Dropbox/Calvin Howard/resources/published_networks/AD_DBS_ADAS_Cog_Submaps\n",
      "Image saved to: \n",
      " /Users/cu135/Partners HealthCare Dropbox/Calvin Howard/resources/published_networks/AD_DBS_ADAS_Cog_Submaps\n",
      "Evalauting 23 patients\n",
      "Spearman vectorization state: False\n"
     ]
    },
    {
     "name": "stderr",
     "output_type": "stream",
     "text": [
      "Permuting:   0%|          | 0/1 [00:00<?, ?it/s]"
     ]
    },
    {
     "name": "stdout",
     "output_type": "stream",
     "text": [
      "Evalauting 23 patients\n",
      "Spearman vectorization state: False\n"
     ]
    },
    {
     "name": "stderr",
     "output_type": "stream",
     "text": [
      "Permuting: 100%|██████████| 1/1 [00:28<00:00, 28.15s/it]\n"
     ]
    },
    {
     "name": "stdout",
     "output_type": "stream",
     "text": [
      "95th percentile of permuted statistic:  0.5698635032513247\n",
      "Image saved to: \n",
      " /Users/cu135/Partners HealthCare Dropbox/Calvin Howard/resources/published_networks/AD_DBS_ADAS_Cog_Submaps\n",
      "Image saved to: \n",
      " /Users/cu135/Partners HealthCare Dropbox/Calvin Howard/resources/published_networks/AD_DBS_ADAS_Cog_Submaps\n",
      "Image saved to: \n",
      " /Users/cu135/Partners HealthCare Dropbox/Calvin Howard/resources/published_networks/AD_DBS_ADAS_Cog_Submaps\n",
      "Evalauting 23 patients\n",
      "Spearman vectorization state: False\n"
     ]
    },
    {
     "name": "stderr",
     "output_type": "stream",
     "text": [
      "Permuting:   0%|          | 0/1 [00:00<?, ?it/s]"
     ]
    },
    {
     "name": "stdout",
     "output_type": "stream",
     "text": [
      "Evalauting 23 patients\n",
      "Spearman vectorization state: False\n"
     ]
    },
    {
     "name": "stderr",
     "output_type": "stream",
     "text": [
      "Permuting: 100%|██████████| 1/1 [00:28<00:00, 28.04s/it]\n"
     ]
    },
    {
     "name": "stdout",
     "output_type": "stream",
     "text": [
      "95th percentile of permuted statistic:  0.5893263919202592\n",
      "Image saved to: \n",
      " /Users/cu135/Partners HealthCare Dropbox/Calvin Howard/resources/published_networks/AD_DBS_ADAS_Cog_Submaps\n",
      "Image saved to: \n",
      " /Users/cu135/Partners HealthCare Dropbox/Calvin Howard/resources/published_networks/AD_DBS_ADAS_Cog_Submaps\n",
      "Image saved to: \n",
      " /Users/cu135/Partners HealthCare Dropbox/Calvin Howard/resources/published_networks/AD_DBS_ADAS_Cog_Submaps\n",
      "Evalauting 23 patients\n",
      "Spearman vectorization state: False\n"
     ]
    },
    {
     "name": "stderr",
     "output_type": "stream",
     "text": [
      "Permuting:   0%|          | 0/1 [00:00<?, ?it/s]"
     ]
    },
    {
     "name": "stdout",
     "output_type": "stream",
     "text": [
      "Evalauting 23 patients\n",
      "Spearman vectorization state: False\n"
     ]
    },
    {
     "name": "stderr",
     "output_type": "stream",
     "text": [
      "Permuting: 100%|██████████| 1/1 [00:28<00:00, 28.34s/it]\n"
     ]
    },
    {
     "name": "stdout",
     "output_type": "stream",
     "text": [
      "95th percentile of permuted statistic:  0.5799550981912944\n",
      "Image saved to: \n",
      " /Users/cu135/Partners HealthCare Dropbox/Calvin Howard/resources/published_networks/AD_DBS_ADAS_Cog_Submaps\n",
      "Image saved to: \n",
      " /Users/cu135/Partners HealthCare Dropbox/Calvin Howard/resources/published_networks/AD_DBS_ADAS_Cog_Submaps\n",
      "Image saved to: \n",
      " /Users/cu135/Partners HealthCare Dropbox/Calvin Howard/resources/published_networks/AD_DBS_ADAS_Cog_Submaps\n",
      "Evalauting 23 patients\n",
      "Spearman vectorization state: False\n"
     ]
    },
    {
     "name": "stderr",
     "output_type": "stream",
     "text": [
      "Permuting:   0%|          | 0/1 [00:00<?, ?it/s]"
     ]
    },
    {
     "name": "stdout",
     "output_type": "stream",
     "text": [
      "Evalauting 23 patients\n",
      "Spearman vectorization state: False\n"
     ]
    },
    {
     "name": "stderr",
     "output_type": "stream",
     "text": [
      "Permuting: 100%|██████████| 1/1 [00:28<00:00, 28.06s/it]\n"
     ]
    },
    {
     "name": "stdout",
     "output_type": "stream",
     "text": [
      "95th percentile of permuted statistic:  0.679682372474577\n",
      "Image saved to: \n",
      " /Users/cu135/Partners HealthCare Dropbox/Calvin Howard/resources/published_networks/AD_DBS_ADAS_Cog_Submaps\n",
      "Image saved to: \n",
      " /Users/cu135/Partners HealthCare Dropbox/Calvin Howard/resources/published_networks/AD_DBS_ADAS_Cog_Submaps\n",
      "Image saved to: \n",
      " /Users/cu135/Partners HealthCare Dropbox/Calvin Howard/resources/published_networks/AD_DBS_ADAS_Cog_Submaps\n",
      "Evalauting 23 patients\n",
      "Spearman vectorization state: False\n"
     ]
    },
    {
     "name": "stderr",
     "output_type": "stream",
     "text": [
      "Permuting:   0%|          | 0/1 [00:00<?, ?it/s]"
     ]
    },
    {
     "name": "stdout",
     "output_type": "stream",
     "text": [
      "Evalauting 23 patients\n",
      "Spearman vectorization state: False\n"
     ]
    },
    {
     "name": "stderr",
     "output_type": "stream",
     "text": [
      "Permuting: 100%|██████████| 1/1 [00:28<00:00, 28.29s/it]\n"
     ]
    },
    {
     "name": "stdout",
     "output_type": "stream",
     "text": [
      "95th percentile of permuted statistic:  0.5087118183814802\n",
      "Image saved to: \n",
      " /Users/cu135/Partners HealthCare Dropbox/Calvin Howard/resources/published_networks/AD_DBS_ADAS_Cog_Submaps\n",
      "Image saved to: \n",
      " /Users/cu135/Partners HealthCare Dropbox/Calvin Howard/resources/published_networks/AD_DBS_ADAS_Cog_Submaps\n",
      "Image saved to: \n",
      " /Users/cu135/Partners HealthCare Dropbox/Calvin Howard/resources/published_networks/AD_DBS_ADAS_Cog_Submaps\n"
     ]
    }
   ],
   "source": [
    "from calvin_utils.permutation_analysis_utils.correlation_fwe import CalvinFWEMap\n",
    "for index, row in data_df.iterrows():\n",
    "    calvin_fwe = CalvinFWEMap(neuroimaging_dataframe=nimg_df, \n",
    "                            variable_dataframe=data_df.loc[[index], :], \n",
    "                            mask_threshold=mask_threshold, \n",
    "                            mask_path=mask_path, out_dir=out_dir, \n",
    "                            method=method, max_stat_method=max_stat_method, vectorize=False)\n",
    "    calvin_fwe.permutation_test_r_map(n_permutations=1, debug=False)"
   ]
  },
  {
   "cell_type": "markdown",
   "metadata": {},
   "source": [
    "Visualize the FWE Corrected Image"
   ]
  },
  {
   "cell_type": "code",
   "execution_count": null,
   "metadata": {},
   "outputs": [],
   "source": [
    "calvin_fwe.corrected_img"
   ]
  },
  {
   "cell_type": "markdown",
   "metadata": {},
   "source": [
    "Visualize the P-Values (FWE Corrected) Used to Correct the Above"
   ]
  },
  {
   "cell_type": "code",
   "execution_count": null,
   "metadata": {},
   "outputs": [],
   "source": [
    "calvin_fwe.p_img"
   ]
  },
  {
   "cell_type": "markdown",
   "metadata": {},
   "source": [
    "Visualize the Uncorrected Image"
   ]
  },
  {
   "cell_type": "code",
   "execution_count": null,
   "metadata": {},
   "outputs": [],
   "source": [
    "calvin_fwe.uncorrected_img"
   ]
  }
 ],
 "metadata": {
  "kernelspec": {
   "display_name": "Python_3.7.7_nimlab",
   "language": "python",
   "name": "python3"
  },
  "language_info": {
   "codemirror_mode": {
    "name": "ipython",
    "version": 3
   },
   "file_extension": ".py",
   "mimetype": "text/x-python",
   "name": "python",
   "nbconvert_exporter": "python",
   "pygments_lexer": "ipython3",
   "version": "3.11.10"
  }
 },
 "nbformat": 4,
 "nbformat_minor": 2
}
