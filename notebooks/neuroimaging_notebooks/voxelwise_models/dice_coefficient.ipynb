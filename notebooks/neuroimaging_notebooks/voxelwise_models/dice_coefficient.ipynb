{
 "cells": [
  {
   "cell_type": "code",
   "execution_count": 3,
   "metadata": {},
   "outputs": [],
   "source": [
    "import pandas as pd\n",
    "import numpy as np\n",
    "\n",
    "def dice_coefficient(df1: pd.DataFrame, df2: pd.DataFrame) -> float:\n",
    "    '''\n",
    "    Calculates the Dice Coefficient between two dataframes containing binary lesion masks.\n",
    "    \n",
    "    Parameters:\n",
    "    -----------\n",
    "    df1 : pd.DataFrame\n",
    "        The first dataframe, where columns represent flattened nifti files and rows represent voxels.\n",
    "        All values are zero, except for lesions which are binarized at 1.\n",
    "        \n",
    "    df2 : pd.DataFrame\n",
    "        The second dataframe, where columns represent flattened nifti files and rows represent voxels.\n",
    "        All values are zero, except for lesions which are binarized at 1.\n",
    "    \n",
    "    Returns:\n",
    "    --------\n",
    "    float\n",
    "        The Dice Coefficient, a value between 0 and 1, where 1 represents a perfect overlap.\n",
    "        \n",
    "    '''\n",
    "    # Check if in numpy array, and convert the dataframes to numpy arrays if required\n",
    "    if isinstance(df1, np.ndarray):\n",
    "        array1 = df1\n",
    "    else:\n",
    "        array1 = df1.to_numpy()\n",
    "    if isinstance(df2, np.ndarray):\n",
    "        array2 = df2\n",
    "    else:\n",
    "        array2 = df2.to_numpy()\n",
    "    \n",
    "    # Calculate the intersection of non-zero elements\n",
    "    intersection = np.sum(np.logical_and(array1, array2))\n",
    "    \n",
    "    # Calculate the number of non-zero elements in each array\n",
    "    num_elements_array1 = np.sum(np.count_nonzero(array1))\n",
    "    num_elements_array2 = np.sum(np.count_nonzero(array2))\n",
    "    \n",
    "    # Calculate the Dice Coefficient\n",
    "    dice_coefficient = (2 * intersection) / (num_elements_array1 + num_elements_array2)\n",
    "    \n",
    "    return dice_coefficient"
   ]
  },
  {
   "cell_type": "markdown",
   "metadata": {},
   "source": [
    "Import"
   ]
  },
  {
   "cell_type": "code",
   "execution_count": 4,
   "metadata": {},
   "outputs": [
    {
     "name": "stdout",
     "output_type": "stream",
     "text": [
      "I will search:  /Users/cu135/Partners HealthCare Dropbox/Calvin Howard/Optimizer_VTAs/Clinician/*.nii\n",
      "I will search:  /Users/cu135/Partners HealthCare Dropbox/Calvin Howard/Optimizer_VTAs/Optimizer/*.nii\n"
     ]
    }
   ],
   "source": []
  },
  {
   "cell_type": "markdown",
   "metadata": {},
   "source": [
    "Get Dice of 2 Dataframes"
   ]
  },
  {
   "cell_type": "code",
   "execution_count": 5,
   "metadata": {},
   "outputs": [
    {
     "ename": "ValueError",
     "evalue": "operands could not be broadcast together with shapes (1000000,40) (357911,40) ",
     "output_type": "error",
     "traceback": [
      "\u001b[0;31m---------------------------------------------------------------------------\u001b[0m",
      "\u001b[0;31mValueError\u001b[0m                                Traceback (most recent call last)",
      "Cell \u001b[0;32mIn[5], line 1\u001b[0m\n\u001b[0;32m----> 1\u001b[0m observed_dice_coefficient \u001b[38;5;241m=\u001b[39m \u001b[43mdice_coefficient\u001b[49m\u001b[43m(\u001b[49m\u001b[43mdf1\u001b[49m\u001b[43m,\u001b[49m\u001b[43m \u001b[49m\u001b[43mdf2\u001b[49m\u001b[43m)\u001b[49m\n\u001b[1;32m      2\u001b[0m \u001b[38;5;28mprint\u001b[39m(\u001b[38;5;124m'\u001b[39m\u001b[38;5;124mDice coefficient:\u001b[39m\u001b[38;5;124m'\u001b[39m, observed_dice_coefficient)\n",
      "Cell \u001b[0;32mIn[3], line 35\u001b[0m, in \u001b[0;36mdice_coefficient\u001b[0;34m(df1, df2)\u001b[0m\n\u001b[1;32m     32\u001b[0m     array2 \u001b[38;5;241m=\u001b[39m df2\u001b[38;5;241m.\u001b[39mto_numpy()\n\u001b[1;32m     34\u001b[0m \u001b[38;5;66;03m# Calculate the intersection of non-zero elements\u001b[39;00m\n\u001b[0;32m---> 35\u001b[0m intersection \u001b[38;5;241m=\u001b[39m np\u001b[38;5;241m.\u001b[39msum(\u001b[43mnp\u001b[49m\u001b[38;5;241;43m.\u001b[39;49m\u001b[43mlogical_and\u001b[49m\u001b[43m(\u001b[49m\u001b[43marray1\u001b[49m\u001b[43m,\u001b[49m\u001b[43m \u001b[49m\u001b[43marray2\u001b[49m\u001b[43m)\u001b[49m)\n\u001b[1;32m     37\u001b[0m \u001b[38;5;66;03m# Calculate the number of non-zero elements in each array\u001b[39;00m\n\u001b[1;32m     38\u001b[0m num_elements_array1 \u001b[38;5;241m=\u001b[39m np\u001b[38;5;241m.\u001b[39msum(np\u001b[38;5;241m.\u001b[39mcount_nonzero(array1))\n",
      "\u001b[0;31mValueError\u001b[0m: operands could not be broadcast together with shapes (1000000,40) (357911,40) "
     ]
    }
   ],
   "source": [
    "observed_dice_coefficient = dice_coefficient(df1, df2)\n",
    "print('Dice coefficient:', observed_dice_coefficient)"
   ]
  },
  {
   "cell_type": "markdown",
   "metadata": {},
   "source": [
    "Get Dice of Each Column Pair in 2 Dataframes, Assuming Equal Ordering"
   ]
  },
  {
   "cell_type": "code",
   "execution_count": 14,
   "metadata": {},
   "outputs": [
    {
     "ename": "ValueError",
     "evalue": "operands could not be broadcast together with shapes (1000000,) (357911,) ",
     "output_type": "error",
     "traceback": [
      "\u001b[0;31m---------------------------------------------------------------------------\u001b[0m",
      "\u001b[0;31mValueError\u001b[0m                                Traceback (most recent call last)",
      "Cell \u001b[0;32mIn[14], line 6\u001b[0m\n\u001b[1;32m      4\u001b[0m \u001b[38;5;28;01mfor\u001b[39;00m col1, col2 \u001b[38;5;129;01min\u001b[39;00m \u001b[38;5;28mzip\u001b[39m(df1\u001b[38;5;241m.\u001b[39mcolumns, df2\u001b[38;5;241m.\u001b[39mcolumns):\n\u001b[1;32m      5\u001b[0m     \u001b[38;5;28;01mif\u001b[39;00m \u001b[38;5;28mstr\u001b[39m(subject) \u001b[38;5;129;01min\u001b[39;00m \u001b[38;5;28mstr\u001b[39m(col1) \u001b[38;5;129;01mand\u001b[39;00m \u001b[38;5;28mstr\u001b[39m(col2): \n\u001b[0;32m----> 6\u001b[0m         \u001b[38;5;28mprint\u001b[39m(\u001b[43mdice_coefficient\u001b[49m\u001b[43m(\u001b[49m\u001b[43mdf1\u001b[49m\u001b[38;5;241;43m.\u001b[39;49m\u001b[43mloc\u001b[49m\u001b[43m[\u001b[49m\u001b[43m:\u001b[49m\u001b[43m,\u001b[49m\u001b[43mcol1\u001b[49m\u001b[43m]\u001b[49m\u001b[43m,\u001b[49m\u001b[43m \u001b[49m\u001b[43mdf2\u001b[49m\u001b[38;5;241;43m.\u001b[39;49m\u001b[43mloc\u001b[49m\u001b[43m[\u001b[49m\u001b[43m:\u001b[49m\u001b[43m,\u001b[49m\u001b[43m \u001b[49m\u001b[43mcol2\u001b[49m\u001b[43m]\u001b[49m\u001b[43m)\u001b[49m)\n",
      "Cell \u001b[0;32mIn[3], line 35\u001b[0m, in \u001b[0;36mdice_coefficient\u001b[0;34m(df1, df2)\u001b[0m\n\u001b[1;32m     32\u001b[0m     array2 \u001b[38;5;241m=\u001b[39m df2\u001b[38;5;241m.\u001b[39mto_numpy()\n\u001b[1;32m     34\u001b[0m \u001b[38;5;66;03m# Calculate the intersection of non-zero elements\u001b[39;00m\n\u001b[0;32m---> 35\u001b[0m intersection \u001b[38;5;241m=\u001b[39m np\u001b[38;5;241m.\u001b[39msum(\u001b[43mnp\u001b[49m\u001b[38;5;241;43m.\u001b[39;49m\u001b[43mlogical_and\u001b[49m\u001b[43m(\u001b[49m\u001b[43marray1\u001b[49m\u001b[43m,\u001b[49m\u001b[43m \u001b[49m\u001b[43marray2\u001b[49m\u001b[43m)\u001b[49m)\n\u001b[1;32m     37\u001b[0m \u001b[38;5;66;03m# Calculate the number of non-zero elements in each array\u001b[39;00m\n\u001b[1;32m     38\u001b[0m num_elements_array1 \u001b[38;5;241m=\u001b[39m np\u001b[38;5;241m.\u001b[39msum(np\u001b[38;5;241m.\u001b[39mcount_nonzero(array1))\n",
      "\u001b[0;31mValueError\u001b[0m: operands could not be broadcast together with shapes (1000000,) (357911,) "
     ]
    }
   ],
   "source": []
  },
  {
   "cell_type": "markdown",
   "metadata": {},
   "source": [
    "Save Dice Coefficients to a CSV"
   ]
  },
  {
   "cell_type": "code",
   "execution_count": null,
   "metadata": {},
   "outputs": [],
   "source": []
  },
  {
   "cell_type": "markdown",
   "metadata": {},
   "source": [
    "Permute Dice Coefficiencts"
   ]
  },
  {
   "cell_type": "code",
   "execution_count": null,
   "metadata": {},
   "outputs": [],
   "source": [
    "#Same, but with multiprocessing\n",
    "import concurrent.futures\n",
    "from calvin_utils.matrix_utilities import dice_coefficient\n",
    "\n",
    "n_permutations = 1000\n",
    "dice_coefficients = []\n",
    "voxel_index = 0\n",
    "\n",
    "with concurrent.futures.ProcessPoolExecutor(max_workers=8) as executor:\n",
    "    #Begin submitting the masked data to the permutor\n",
    "    results = []\n",
    "    for i in tqdm(range(n_permutations), desc=\"Jobs Launched\"):\n",
    "        permuted_df_1 = brain_permutation(df1.copy().to_numpy().reshape(1,-1), looped_permutation=True)\n",
    "        permuted_df_2 = brain_permutation(df2.copy().to_numpy().reshape(1,-1), looped_permutation=True)\n",
    "        \n",
    "        result = executor.submit(dice_coefficient, permuted_df_1, permuted_df_2)\n",
    "        results.append(result)\n",
    "        \n",
    "    progress_bar = tqdm(total=n_permutations, desc=\"Jobs Finalized\")\n",
    "    for result in concurrent.futures.as_completed(results):\n",
    "        \n",
    "        #Input the permuted data into the array\n",
    "        permuted_dice_coefficient = result.result()\n",
    "        dice_coefficients.append(permuted_dice_coefficient)\n",
    "        \n",
    "        #Update visualization\n",
    "        progress_bar.update()\n",
    "    progress_bar.close()\n",
    "    \n",
    "    # Permute the Dice Coefficient\n",
    "from calvin_utils.permutation_analysis_utils.permutation_utils.palm import brain_permutation\n",
    "from tqdm import tqdm \n",
    "\n",
    "# Assuming df_1 and df_2 are your original dataframes\n",
    "n_permutations = 1000\n",
    "dice_coefficients = []\n",
    "voxel_index = 0\n",
    "for i in tqdm(range(n_permutations)):\n",
    "    # Permute dataframes\n",
    "    permuted_df_1 = brain_permutation(df1.copy().to_numpy().reshape(1,-1), looped_permutation=True)\n",
    "    permuted_df_2 = brain_permutation(df2.copy().to_numpy().reshape(1,-1), looped_permutation=True)\n",
    "\n",
    "    # Threshold and calculate the Dice coefficient for the permuted dataframes\n",
    "    permuted_dice_coefficient = dice_coefficient(permuted_df_1, permuted_df_2)\n",
    "\n",
    "    # Store the Dice coefficient\n",
    "    dice_coefficients.append(permuted_dice_coefficient)\n",
    "\n",
    "# Convert the list to a numpy array\n",
    "dice_coefficients = np.array(dice_coefficients)"
   ]
  },
  {
   "cell_type": "code",
   "execution_count": null,
   "metadata": {},
   "outputs": [],
   "source": [
    "print('empiric p: ', np.count_nonzero(dice_coefficients>observed_dice_coefficient))"
   ]
  }
 ],
 "metadata": {
  "kernelspec": {
   "display_name": "Python3.10 (nimlab)",
   "language": "python",
   "name": "nimlab_py310"
  },
  "language_info": {
   "codemirror_mode": {
    "name": "ipython",
    "version": 3
   },
   "file_extension": ".py",
   "mimetype": "text/x-python",
   "name": "python",
   "nbconvert_exporter": "python",
   "pygments_lexer": "ipython3",
   "version": "3.10.8"
  }
 },
 "nbformat": 4,
 "nbformat_minor": 2
}
