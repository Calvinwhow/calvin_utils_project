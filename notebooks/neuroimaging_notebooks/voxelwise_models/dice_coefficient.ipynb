{
 "cells": [
  {
   "cell_type": "code",
   "execution_count": 3,
   "metadata": {},
   "outputs": [],
   "source": [
    "import pandas as pd\n",
    "import numpy as np\n",
    "\n",
    "def dice_coefficient(df1: pd.DataFrame, df2: pd.DataFrame) -> float:\n",
    "    '''\n",
    "    Calculates the Dice Coefficient between two dataframes containing binary lesion masks.\n",
    "    \n",
    "    Parameters:\n",
    "    -----------\n",
    "    df1 : pd.DataFrame\n",
    "        The first dataframe, where columns represent flattened nifti files and rows represent voxels.\n",
    "        All values are zero, except for lesions which are binarized at 1.\n",
    "        \n",
    "    df2 : pd.DataFrame\n",
    "        The second dataframe, where columns represent flattened nifti files and rows represent voxels.\n",
    "        All values are zero, except for lesions which are binarized at 1.\n",
    "    \n",
    "    Returns:\n",
    "    --------\n",
    "    float\n",
    "        The Dice Coefficient, a value between 0 and 1, where 1 represents a perfect overlap.\n",
    "        \n",
    "    '''\n",
    "    # Check if in numpy array, and convert the dataframes to numpy arrays if required\n",
    "    if isinstance(df1, np.ndarray):\n",
    "        array1 = df1\n",
    "    else:\n",
    "        array1 = df1.to_numpy()\n",
    "    if isinstance(df2, np.ndarray):\n",
    "        array2 = df2\n",
    "    else:\n",
    "        array2 = df2.to_numpy()\n",
    "    \n",
    "    # Calculate the intersection of non-zero elements\n",
    "    intersection = np.sum(np.logical_and(array1, array2))\n",
    "    \n",
    "    # Calculate the number of non-zero elements in each array\n",
    "    num_elements_array1 = np.sum(np.count_nonzero(array1))\n",
    "    num_elements_array2 = np.sum(np.count_nonzero(array2))\n",
    "    \n",
    "    # Calculate the Dice Coefficient\n",
    "    dice_coefficient = (2 * intersection) / (num_elements_array1 + num_elements_array2)\n",
    "    \n",
    "    return dice_coefficient"
   ]
  },
  {
   "cell_type": "markdown",
   "metadata": {},
   "source": [
    "Import Niftis to be Diced\n",
    "- Make sure they have equivalent basenames, as these will be used to compare them. "
   ]
  },
  {
   "cell_type": "code",
   "execution_count": null,
   "metadata": {},
   "outputs": [],
   "source": [
    "import_path_1 = 'data/path/root'\n",
    "file_target_1 = '*target.nii'\n",
    "\n",
    "import_path_2 = 'data/path/root'\n",
    "file_target_2 = '*target.nii'"
   ]
  },
  {
   "cell_type": "code",
   "execution_count": null,
   "metadata": {},
   "outputs": [],
   "source": [
    "from calvin_utils.file_utils.import_functions import GiiNiiFileImport\n",
    "giinii = GiiNiiFileImport(import_path=import_path_1, file_column=None, file_pattern=file_target_1)\n",
    "df1 = giinii.run()\n",
    "\n",
    "giinii2 = GiiNiiFileImport(import_path=import_path_2, file_column=None, file_pattern=file_target_2)\n",
    "df2 = giinii.run()"
   ]
  },
  {
   "cell_type": "markdown",
   "metadata": {},
   "source": [
    "Get Dice of Each Column Pair in 2 Dataframes, Assuming Equal Ordering"
   ]
  },
  {
   "cell_type": "code",
   "execution_count": null,
   "metadata": {},
   "outputs": [],
   "source": [
    "dice_coefficients_per_column = []\n",
    "\n",
    "for col in df1.columns:\n",
    "    dice_coeff = dice_coefficient(df1[col], df2[col])\n",
    "    dice_coefficients_per_column.append(dice_coeff)\n",
    "\n",
    "print('Dice coefficients per column:', dice_coefficients_per_column)"
   ]
  },
  {
   "cell_type": "markdown",
   "metadata": {},
   "source": [
    "Save Dice Coefficients to a CSV"
   ]
  },
  {
   "cell_type": "code",
   "execution_count": null,
   "metadata": {},
   "outputs": [],
   "source": [
    "# Assuming df1 and df2 have the same columns and order\n",
    "subject_ids = df1.columns\n",
    "\n",
    "# Create a DataFrame to store the results\n",
    "dice_coefficients_df = pd.DataFrame({\n",
    "    'Subject_ID': subject_ids,\n",
    "    'Dice_Coefficient': dice_coefficients_per_column\n",
    "})\n",
    "\n",
    "# Save the DataFrame to a CSV file\n",
    "dice_coefficients_df.to_csv('dice_coefficients.csv', index=False)"
   ]
  },
  {
   "cell_type": "markdown",
   "metadata": {},
   "source": [
    "# Permute Dice Coefficiencts"
   ]
  },
  {
   "cell_type": "code",
   "execution_count": null,
   "metadata": {},
   "outputs": [],
   "source": [
    "#Same, but with multiprocessing\n",
    "import concurrent.futures\n",
    "from calvin_utils.matrix_utilities import dice_coefficient\n",
    "\n",
    "n_permutations = 1000\n",
    "dice_coefficients = []\n",
    "voxel_index = 0\n",
    "\n",
    "with concurrent.futures.ProcessPoolExecutor(max_workers=8) as executor:\n",
    "    #Begin submitting the masked data to the permutor\n",
    "    results = []\n",
    "    for i in tqdm(range(n_permutations), desc=\"Jobs Launched\"):\n",
    "        permuted_df_1 = brain_permutation(df1.copy().to_numpy().reshape(1,-1), looped_permutation=True)\n",
    "        permuted_df_2 = brain_permutation(df2.copy().to_numpy().reshape(1,-1), looped_permutation=True)\n",
    "        \n",
    "        result = executor.submit(dice_coefficient, permuted_df_1, permuted_df_2)\n",
    "        results.append(result)\n",
    "        \n",
    "    progress_bar = tqdm(total=n_permutations, desc=\"Jobs Finalized\")\n",
    "    for result in concurrent.futures.as_completed(results):\n",
    "        \n",
    "        #Input the permuted data into the array\n",
    "        permuted_dice_coefficient = result.result()\n",
    "        dice_coefficients.append(permuted_dice_coefficient)\n",
    "        \n",
    "        #Update visualization\n",
    "        progress_bar.update()\n",
    "    progress_bar.close()\n",
    "    \n",
    "    # Permute the Dice Coefficient\n",
    "from calvin_utils.permutation_analysis_utils.permutation_utils.palm import brain_permutation\n",
    "from tqdm import tqdm \n",
    "\n",
    "# Assuming df_1 and df_2 are your original dataframes\n",
    "n_permutations = 1000\n",
    "dice_coefficients = []\n",
    "voxel_index = 0\n",
    "for i in tqdm(range(n_permutations)):\n",
    "    # Permute dataframes\n",
    "    permuted_df_1 = brain_permutation(df1.copy().to_numpy().reshape(1,-1), looped_permutation=True)\n",
    "    permuted_df_2 = brain_permutation(df2.copy().to_numpy().reshape(1,-1), looped_permutation=True)\n",
    "\n",
    "    # Threshold and calculate the Dice coefficient for the permuted dataframes\n",
    "    permuted_dice_coefficient = dice_coefficient(permuted_df_1, permuted_df_2)\n",
    "\n",
    "    # Store the Dice coefficient\n",
    "    dice_coefficients.append(permuted_dice_coefficient)\n",
    "\n",
    "# Convert the list to a numpy array\n",
    "dice_coefficients = np.array(dice_coefficients)"
   ]
  },
  {
   "cell_type": "code",
   "execution_count": null,
   "metadata": {},
   "outputs": [],
   "source": [
    "print('empiric p: ', np.count_nonzero(dice_coefficients>observed_dice_coefficient))"
   ]
  }
 ],
 "metadata": {
  "kernelspec": {
   "display_name": "Python3.10 (nimlab)",
   "language": "python",
   "name": "nimlab_py310"
  },
  "language_info": {
   "codemirror_mode": {
    "name": "ipython",
    "version": 3
   },
   "file_extension": ".py",
   "mimetype": "text/x-python",
   "name": "python",
   "nbconvert_exporter": "python",
   "pygments_lexer": "ipython3",
   "version": "3.10.8"
  }
 },
 "nbformat": 4,
 "nbformat_minor": 2
}
