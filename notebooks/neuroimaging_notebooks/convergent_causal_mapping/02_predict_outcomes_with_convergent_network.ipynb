{
 "cells": [
  {
   "cell_type": "code",
   "execution_count": 17,
   "metadata": {},
   "outputs": [],
   "source": [
    "out_dir = '/Volumes/Expansion/datasets/Manitoba_PET/PET_R_Maps/autonocog_memory/similarity_to_lesion_memory_net'"
   ]
  },
  {
   "cell_type": "markdown",
   "metadata": {},
   "source": [
    "# 01 - Get Datasets"
   ]
  },
  {
   "cell_type": "markdown",
   "metadata": {},
   "source": [
    "\n",
    "**Data will be Imported from a CSV which is expected to be in this format**\n",
    "- sub column contents MUST match the names of the neuroimaging files above. \n",
    "    - ID column \n",
    "```\n",
    "+-----+----------------------------+--------------+--------------+--------------+\n",
    "| sub | Nifti_File_Path            | Indep. Var.  | Covariate_N  | Dataset      |\n",
    "+-----+----------------------------+--------------+--------------+--------------+\n",
    "| 1   | /path/to/file1.nii.gz      | 0.5          | 1.2          | 1            |\n",
    "| 2   | /path/to/file2.nii.gz      | 0.7          | 1.4          | 1            |\n",
    "| 3   | /path/to/file3.nii.gz      | 0.6          | 1.5          | 2            |\n",
    "| 4   | /path/to/file4.nii.gz      | 0.9          | 1.1          | 3            |\n",
    "| ... | ...                        | ...          | ...          | ...          |\n",
    "+-----+----------------------------+--------------+--------------+--------------+\n",
    "```"
   ]
  },
  {
   "cell_type": "code",
   "execution_count": 18,
   "metadata": {},
   "outputs": [],
   "source": [
    "input_csv_path = 'path/to/your/csv_file.csv'\n",
    "sheet = None # Set to None if CSV"
   ]
  },
  {
   "cell_type": "code",
   "execution_count": null,
   "metadata": {},
   "outputs": [],
   "source": [
    "from calvin_utils.permutation_analysis_utils.statsmodels_palm import CalvinStatsmodelsPalm\n",
    "# Instantiate the PalmPrepararation class\n",
    "cal_palm = CalvinStatsmodelsPalm(input_csv_path=input_csv_path, output_dir=out_dir, sheet=sheet)\n",
    "# Call the process_nifti_paths method\n",
    "data_df = cal_palm.read_and_display_data()"
   ]
  },
  {
   "cell_type": "markdown",
   "metadata": {},
   "source": [
    "**Handle NANs**\n",
    "- Set drop_nans=True is you would like to remove NaNs from data\n",
    "- Provide a column name or a list of column names to remove NaNs from"
   ]
  },
  {
   "cell_type": "code",
   "execution_count": 22,
   "metadata": {},
   "outputs": [],
   "source": [
    "drop_list = ['variable_of_interest']"
   ]
  },
  {
   "cell_type": "code",
   "execution_count": null,
   "metadata": {},
   "outputs": [],
   "source": [
    "data_df = cal_palm.drop_nans_from_columns(columns_to_drop_from=drop_list)\n",
    "display(data_df)"
   ]
  },
  {
   "cell_type": "markdown",
   "metadata": {},
   "source": [
    "**Drop Row Based on Value of Column**\n",
    "\n",
    "Define the column, condition, and value for dropping rows\n",
    "- column = 'your_column_name'\n",
    "- condition = 'above'  # Options: 'equal', 'above', 'below'"
   ]
  },
  {
   "cell_type": "code",
   "execution_count": 26,
   "metadata": {},
   "outputs": [],
   "source": [
    "column = ''\n",
    "condition = ''\n",
    "value = ''"
   ]
  },
  {
   "cell_type": "code",
   "execution_count": null,
   "metadata": {},
   "outputs": [],
   "source": [
    "data_df, other_df = cal_palm.drop_rows_based_on_value(column, condition, value)\n",
    "data_df"
   ]
  },
  {
   "cell_type": "markdown",
   "metadata": {},
   "source": [
    "**Standardize Data**\n",
    "- Enter Columns you Don't want to standardize into a list"
   ]
  },
  {
   "cell_type": "code",
   "execution_count": 28,
   "metadata": {},
   "outputs": [],
   "source": [
    "# Remove anything you don't want to standardize\n",
    "cols_not_to_standardize = ['DX', 'SUBID'] # ['Z_Scored_Percent_Cognitive_Improvement_By_Origin_Group', 'Z_Scored_Subiculum_T_By_Origin_Group_'] #['Age']\n",
    "group_col = '' #Set to none if there are no specific groups"
   ]
  },
  {
   "cell_type": "code",
   "execution_count": null,
   "metadata": {},
   "outputs": [],
   "source": [
    "data_df = cal_palm.standardize_columns(cols_not_to_standardize, group_col)\n",
    "data_df"
   ]
  },
  {
   "cell_type": "markdown",
   "metadata": {},
   "source": [
    "# 02 - Import the Data into DataFrames"
   ]
  },
  {
   "cell_type": "code",
   "execution_count": 31,
   "metadata": {},
   "outputs": [],
   "source": [
    "dataset_col = 'Ds'\n",
    "nifti_path_col = 'path'\n",
    "indep_var_col = 'variable_of_interest'\n",
    "covariate_cols = ['Age', 'sex']"
   ]
  },
  {
   "cell_type": "code",
   "execution_count": null,
   "metadata": {},
   "outputs": [],
   "source": [
    "import os\n",
    "import shutil\n",
    "import numpy as np\n",
    "import pandas as pd\n",
    "from tempfile import mkdtemp\n",
    "from calvin_utils.nifti_utils.matrix_utilities import mask_dataframe\n",
    "from calvin_utils.statistical_utils.regression_utils import RegressOutCovariates\n",
    "import tensorly as tl\n",
    "from tensorly.regression import CPRegressor\n",
    "import statsmodels.api as sm\n",
    "\n",
    "class DatasetNiftiImporter(GiiNiiFileImport):\n",
    "    def __init__(self, df, dataset_col, nifti_col, indep_var_col, covariate_cols, out_dir, mask_path, regression_method='tensor'):\n",
    "        self.df = df\n",
    "        self.dataset_col = dataset_col\n",
    "        self.nifti_col = nifti_col\n",
    "        self.indep_var_col = indep_var_col\n",
    "        self.covariate_cols = covariate_cols\n",
    "        self.out_dir = out_dir\n",
    "        self.mask_path = mask_path\n",
    "        self.tmp_dir = mkdtemp()\n",
    "        self.data_dict = {}\n",
    "        self.regression_method = regression_method\n",
    "        self._prepare_data_dict()\n",
    "\n",
    "    def _prepare_data_dict(self):\n",
    "        for dataset in self.df[self.dataset_col].unique():\n",
    "            print(\"Importing dataset: \", dataset)\n",
    "            dataset_df = self.df[self.df[self.dataset_col] == dataset]\n",
    "            dataset_df.columns = self.df.columns\n",
    "\n",
    "            dataset_dir = os.path.join(self.tmp_dir, dataset)\n",
    "            os.makedirs(dataset_dir, exist_ok=True)\n",
    "\n",
    "            self.data_dict[dataset] = {\n",
    "                'niftis': pd.DataFrame(),\n",
    "                'indep_var': pd.DataFrame(),\n",
    "                'covariates': pd.DataFrame()\n",
    "            }\n",
    "\n",
    "            nifti_paths = dataset_df[self.nifti_col].tolist()\n",
    "            nifti_importer = GiiNiiFileImport(import_path=None, file_column=None, file_pattern=None)\n",
    "            self.data_dict[dataset]['niftis'] = nifti_importer.import_matrices(nifti_paths)\n",
    "\n",
    "            self.data_dict[dataset]['indep_var'] = dataset_df.loc[:, [self.indep_var_col]]\n",
    "            self.data_dict[dataset]['covariates'] = dataset_df.loc[:, self.covariate_cols]\n",
    "\n",
    "            self._process_dataset(dataset, dataset_dir)\n",
    "\n",
    "    def _process_dataset(self, dataset, dataset_dir):\n",
    "        niftis = self.data_dict[dataset]['niftis']\n",
    "        indep_var = self.data_dict[dataset]['indep_var']\n",
    "        covariates = self.data_dict[dataset]['covariates']\n",
    "\n",
    "        # Mask the NIFTI files\n",
    "        masked_niftis = mask_dataframe(niftis, mask_path=self.mask_path)\n",
    "\n",
    "        if self.regression_method == 'tensor':\n",
    "            # Perform tensor regression\n",
    "            nifti_residuals = self.tensor_regression(masked_niftis.values, covariates.values)\n",
    "            indep_residuals = self.tensor_regression(indep_var.values, covariates.values)\n",
    "        elif self.regression_method == 'ols':\n",
    "            # Perform OLS regression\n",
    "            nifti_residuals = self.ols_regression(masked_niftis.values, covariates.values)\n",
    "            indep_residuals = self.ols_regression(indep_var.values, covariates.values)\n",
    "        else:\n",
    "            raise ValueError(\"Invalid regression method. Choose 'tensor' or 'ols'.\")\n",
    "\n",
    "        # Save the residuals, independent variables, and covariates\n",
    "        np.save(os.path.join(dataset_dir, 'niftis.npy'), nifti_residuals)\n",
    "        np.save(os.path.join(dataset_dir, 'indep_var.npy'), indep_residuals)\n",
    "        np.save(os.path.join(dataset_dir, 'covariates.npy'), covariates.values)\n",
    "\n",
    "    def tensor_regression(self, endog, exog):\n",
    "        # Ensure endog and exog are tensors\n",
    "        endog = tl.tensor(endog)\n",
    "        exog = tl.tensor(exog)\n",
    "\n",
    "        # Perform tensor regression using CP decomposition\n",
    "        model = CPRegressor(weight_ranks=1)\n",
    "        model.fit(exog, endog)\n",
    "        residuals = endog - model.predict(exog)\n",
    "        \n",
    "        return residuals\n",
    "\n",
    "    def ols_regression(self, endog, exog):\n",
    "        residuals = np.zeros_like(endog)\n",
    "        for i in range(endog.shape[1]):\n",
    "            model = sm.OLS(endog[:, i], exog).fit()\n",
    "            residuals[:, i] = model.resid\n",
    "        return residuals\n",
    "\n",
    "    def cleanup(self):\n",
    "        shutil.rmtree(self.tmp_dir)\n",
    "\n",
    "# Example usage:\n",
    "df = pd.read_csv('path/to/csv_file.csv')\n",
    "dataset_col = 'Dataset'\n",
    "nifti_col = 'Nifti_File_Path'\n",
    "indep_var_col = 'Indep. Var.'\n",
    "covariate_cols = ['Covariate_1', 'Covariate_2', 'Covariate_3']\n",
    "out_dir = 'path/to/output_directory'\n",
    "mask_path = 'path/to/generic_mask.nii'\n",
    "\n",
    "# Using tensor regression\n",
    "importer_tensor = DatasetNiftiImporter(df, dataset_col, nifti_col, indep_var_col, covariate_cols, out_dir, mask_path, regression_method='tensor')\n",
    "importer_tensor.cleanup()\n",
    "\n",
    "# Using OLS regression\n",
    "importer_ols = DatasetNiftiImporter(df, dataset_col, nifti_col, indep_var_col, covariate_cols, out_dir, mask_path, regression_method='ols')\n",
    "importer_ols.cleanup()"
   ]
  },
  {
   "cell_type": "code",
   "execution_count": 52,
   "metadata": {},
   "outputs": [],
   "source": [
    "from calvin_utils.file_utils.import_functions import DatasetNiftiImporter\n",
    "data_importer = DatasetNiftiImporter(df=data_df, dataset_col=dataset_col, nifti_col=nifti_path_col, indep_var_col=indep_var_col, covariate_cols=covariate_cols)\n",
    "data_dict = data_importer.data_dict"
   ]
  },
  {
   "cell_type": "markdown",
   "metadata": {},
   "source": [
    "# 03 - Contorl for Covariates"
   ]
  },
  {
   "cell_type": "markdown",
   "metadata": {},
   "source": [
    "Regress out a Covariate\n",
    "- This will control for a covariate by regressing it out of BOTH the independent variable and the niftis. \n",
    "- This will leave the residuals as the resulting data\n",
    "- Make sure to standardize the niftis (if needed) and definitiely the indep var and covariates before running this. "
   ]
  },
  {
   "cell_type": "code",
   "execution_count": null,
   "metadata": {},
   "outputs": [],
   "source": [
    "from calvin_utils.statistical_utils.regression_utils import RegressOutCovariates\n",
    "for dataset in data_dict.keys():\n",
    "    data_dict[dataset]['niftis'] = RegressOutCovariates.regress_out_covariates_using_endog_exog(data_dict[dataset]['niftis'], data_dict[dataset]['covariates'])\n",
    "    data_dict[dataset]['indep_var'] = RegressOutCovariates.regress_out_covariates_using_endog_exog(data_dict[dataset]['indep_var'], data_dict[dataset]['covariates'])"
   ]
  },
  {
   "cell_type": "markdown",
   "metadata": {},
   "source": [
    "# 04 - Begin Analysis"
   ]
  }
 ],
 "metadata": {
  "kernelspec": {
   "display_name": "Python3.10 (nimlab)",
   "language": "python",
   "name": "nimlab_py310"
  },
  "language_info": {
   "codemirror_mode": {
    "name": "ipython",
    "version": 3
   },
   "file_extension": ".py",
   "mimetype": "text/x-python",
   "name": "python",
   "nbconvert_exporter": "python",
   "pygments_lexer": "ipython3",
   "version": "3.10.8"
  }
 },
 "nbformat": 4,
 "nbformat_minor": 2
}
