{
 "cells": [
  {
   "cell_type": "markdown",
   "metadata": {},
   "source": [
    "# Run Any Kind of OLS Regression (ANOVA, GLM, Logit, etc.)\n",
    "\n",
    "### Authors: Calvin Howard.\n",
    "\n",
    "#### Last updated: May 5, 2024\n",
    "\n",
    "Use this to run/test a statistical model (e.g., regression or T-tests) on a spreadsheet containing covariates and brain image (nii/gii) paths. \n",
    "\n",
    "Notes:\n",
    "- For this to work, it must be installed onto wherever you want to run it. You must run:\n",
    "```\n",
    "> git clone https://github.com/Calvinwhow/Research.git\n",
    "> cd into wherever you installed it. \n",
    "> pip install -e .\n",
    "```\n",
    "- To best use this notebook, you should be familar with GLM design and Contrast Matrix design. See this webpage to get started:\n",
    "[FSL's GLM page](https://fsl.fmrib.ox.ac.uk/fsl/fslwiki/GLM)"
   ]
  },
  {
   "cell_type": "markdown",
   "metadata": {},
   "source": [
    "# 00 - Import CSV with All Data\n",
    "**The CSV is expected to be in this format**\n",
    "- ID and absolute paths to niftis are critical\n",
    "```\n",
    "+-----+----------------------------+--------------+--------------+--------------+\n",
    "| ID  | Nifti_File_Path            | Covariate_1  | Covariate_2  | Covariate_3  |\n",
    "+-----+----------------------------+--------------+--------------+--------------+\n",
    "| 1   | /path/to/file1.nii.gz      | 0.5          | 1.2          | 3.4          |\n",
    "| 2   | /path/to/file2.nii.gz      | 0.7          | 1.4          | 3.1          |\n",
    "| 3   | /path/to/file3.nii.gz      | 0.6          | 1.5          | 3.5          |\n",
    "| 4   | /path/to/file4.nii.gz      | 0.9          | 1.1          | 3.2          |\n",
    "| ... | ...                        | ...          | ...          | ...          |\n",
    "+-----+----------------------------+--------------+--------------+--------------+\n",
    "```"
   ]
  },
  {
   "cell_type": "markdown",
   "metadata": {},
   "source": [
    "Prep Output Direction"
   ]
  },
  {
   "cell_type": "code",
   "execution_count": 1,
   "metadata": {},
   "outputs": [],
   "source": [
    "# Specify where you want to save your results to\n",
    "out_dir = '/Users/cu135/Partners HealthCare Dropbox/Calvin Howard/studies/raynor_network_mapping/results/corbetta_cluster/umapsV2/cluster_unique'"
   ]
  },
  {
   "cell_type": "markdown",
   "metadata": {},
   "source": [
    "Import Data"
   ]
  },
  {
   "cell_type": "code",
   "execution_count": 2,
   "metadata": {},
   "outputs": [],
   "source": [
    "# Specify the path to your CSV file containing NIFTI paths\n",
    "input_csv_path = '/Users/cu135/Partners HealthCare Dropbox/Calvin Howard/studies/raynor_network_mapping/results/corbetta_cluster/umapsV2/cluster_results.csv'\n",
    "sheet = None"
   ]
  },
  {
   "cell_type": "code",
   "execution_count": 3,
   "metadata": {},
   "outputs": [
    {
     "data": {
      "text/html": [
       "<div>\n",
       "<style scoped>\n",
       "    .dataframe tbody tr th:only-of-type {\n",
       "        vertical-align: middle;\n",
       "    }\n",
       "\n",
       "    .dataframe tbody tr th {\n",
       "        vertical-align: top;\n",
       "    }\n",
       "\n",
       "    .dataframe thead th {\n",
       "        text-align: right;\n",
       "    }\n",
       "</style>\n",
       "<table border=\"1\" class=\"dataframe\">\n",
       "  <thead>\n",
       "    <tr style=\"text-align: right;\">\n",
       "      <th></th>\n",
       "      <th>sample_id</th>\n",
       "      <th>umap_x</th>\n",
       "      <th>umap_y</th>\n",
       "      <th>umap_z</th>\n",
       "      <th>cluster_label</th>\n",
       "      <th>cluster_probability</th>\n",
       "      <th>cluster_persistence</th>\n",
       "      <th>image_path</th>\n",
       "    </tr>\n",
       "  </thead>\n",
       "  <tbody>\n",
       "    <tr>\n",
       "      <th>0</th>\n",
       "      <td>0</td>\n",
       "      <td>35.304853</td>\n",
       "      <td>59.070787</td>\n",
       "      <td>23.843061</td>\n",
       "      <td>0</td>\n",
       "      <td>0.740418</td>\n",
       "      <td>0.249057</td>\n",
       "      <td>/Users/cu135/Partners HealthCare Dropbox/Calvi...</td>\n",
       "    </tr>\n",
       "    <tr>\n",
       "      <th>1</th>\n",
       "      <td>1</td>\n",
       "      <td>34.301865</td>\n",
       "      <td>58.634522</td>\n",
       "      <td>23.944913</td>\n",
       "      <td>0</td>\n",
       "      <td>0.411194</td>\n",
       "      <td>0.249057</td>\n",
       "      <td>/Users/cu135/Partners HealthCare Dropbox/Calvi...</td>\n",
       "    </tr>\n",
       "    <tr>\n",
       "      <th>2</th>\n",
       "      <td>2</td>\n",
       "      <td>35.772652</td>\n",
       "      <td>59.575699</td>\n",
       "      <td>24.296762</td>\n",
       "      <td>0</td>\n",
       "      <td>1.000000</td>\n",
       "      <td>0.249057</td>\n",
       "      <td>/Users/cu135/Partners HealthCare Dropbox/Calvi...</td>\n",
       "    </tr>\n",
       "    <tr>\n",
       "      <th>3</th>\n",
       "      <td>3</td>\n",
       "      <td>37.576479</td>\n",
       "      <td>58.326148</td>\n",
       "      <td>22.506427</td>\n",
       "      <td>4</td>\n",
       "      <td>0.627109</td>\n",
       "      <td>0.140770</td>\n",
       "      <td>/Users/cu135/Partners HealthCare Dropbox/Calvi...</td>\n",
       "    </tr>\n",
       "    <tr>\n",
       "      <th>4</th>\n",
       "      <td>4</td>\n",
       "      <td>35.005843</td>\n",
       "      <td>59.303814</td>\n",
       "      <td>23.623545</td>\n",
       "      <td>0</td>\n",
       "      <td>0.460981</td>\n",
       "      <td>0.249057</td>\n",
       "      <td>/Users/cu135/Partners HealthCare Dropbox/Calvi...</td>\n",
       "    </tr>\n",
       "    <tr>\n",
       "      <th>...</th>\n",
       "      <td>...</td>\n",
       "      <td>...</td>\n",
       "      <td>...</td>\n",
       "      <td>...</td>\n",
       "      <td>...</td>\n",
       "      <td>...</td>\n",
       "      <td>...</td>\n",
       "      <td>...</td>\n",
       "    </tr>\n",
       "    <tr>\n",
       "      <th>188</th>\n",
       "      <td>188</td>\n",
       "      <td>35.048752</td>\n",
       "      <td>58.821596</td>\n",
       "      <td>23.787037</td>\n",
       "      <td>0</td>\n",
       "      <td>0.738952</td>\n",
       "      <td>0.249057</td>\n",
       "      <td>/Users/cu135/Partners HealthCare Dropbox/Calvi...</td>\n",
       "    </tr>\n",
       "    <tr>\n",
       "      <th>189</th>\n",
       "      <td>189</td>\n",
       "      <td>34.560762</td>\n",
       "      <td>59.517573</td>\n",
       "      <td>24.814817</td>\n",
       "      <td>-1</td>\n",
       "      <td>0.000000</td>\n",
       "      <td>NaN</td>\n",
       "      <td>/Users/cu135/Partners HealthCare Dropbox/Calvi...</td>\n",
       "    </tr>\n",
       "    <tr>\n",
       "      <th>190</th>\n",
       "      <td>190</td>\n",
       "      <td>34.284403</td>\n",
       "      <td>58.669877</td>\n",
       "      <td>23.963222</td>\n",
       "      <td>0</td>\n",
       "      <td>0.443376</td>\n",
       "      <td>0.249057</td>\n",
       "      <td>/Users/cu135/Partners HealthCare Dropbox/Calvi...</td>\n",
       "    </tr>\n",
       "    <tr>\n",
       "      <th>191</th>\n",
       "      <td>191</td>\n",
       "      <td>34.291782</td>\n",
       "      <td>59.447372</td>\n",
       "      <td>24.133870</td>\n",
       "      <td>0</td>\n",
       "      <td>0.392583</td>\n",
       "      <td>0.249057</td>\n",
       "      <td>/Users/cu135/Partners HealthCare Dropbox/Calvi...</td>\n",
       "    </tr>\n",
       "    <tr>\n",
       "      <th>192</th>\n",
       "      <td>192</td>\n",
       "      <td>35.770282</td>\n",
       "      <td>59.728278</td>\n",
       "      <td>23.428653</td>\n",
       "      <td>-1</td>\n",
       "      <td>0.000000</td>\n",
       "      <td>NaN</td>\n",
       "      <td>/Users/cu135/Partners HealthCare Dropbox/Calvi...</td>\n",
       "    </tr>\n",
       "  </tbody>\n",
       "</table>\n",
       "<p>193 rows × 8 columns</p>\n",
       "</div>"
      ],
      "text/plain": [
       "     sample_id     umap_x     umap_y     umap_z  cluster_label  \\\n",
       "0            0  35.304853  59.070787  23.843061              0   \n",
       "1            1  34.301865  58.634522  23.944913              0   \n",
       "2            2  35.772652  59.575699  24.296762              0   \n",
       "3            3  37.576479  58.326148  22.506427              4   \n",
       "4            4  35.005843  59.303814  23.623545              0   \n",
       "..         ...        ...        ...        ...            ...   \n",
       "188        188  35.048752  58.821596  23.787037              0   \n",
       "189        189  34.560762  59.517573  24.814817             -1   \n",
       "190        190  34.284403  58.669877  23.963222              0   \n",
       "191        191  34.291782  59.447372  24.133870              0   \n",
       "192        192  35.770282  59.728278  23.428653             -1   \n",
       "\n",
       "     cluster_probability  cluster_persistence  \\\n",
       "0               0.740418             0.249057   \n",
       "1               0.411194             0.249057   \n",
       "2               1.000000             0.249057   \n",
       "3               0.627109             0.140770   \n",
       "4               0.460981             0.249057   \n",
       "..                   ...                  ...   \n",
       "188             0.738952             0.249057   \n",
       "189             0.000000                  NaN   \n",
       "190             0.443376             0.249057   \n",
       "191             0.392583             0.249057   \n",
       "192             0.000000                  NaN   \n",
       "\n",
       "                                            image_path  \n",
       "0    /Users/cu135/Partners HealthCare Dropbox/Calvi...  \n",
       "1    /Users/cu135/Partners HealthCare Dropbox/Calvi...  \n",
       "2    /Users/cu135/Partners HealthCare Dropbox/Calvi...  \n",
       "3    /Users/cu135/Partners HealthCare Dropbox/Calvi...  \n",
       "4    /Users/cu135/Partners HealthCare Dropbox/Calvi...  \n",
       "..                                                 ...  \n",
       "188  /Users/cu135/Partners HealthCare Dropbox/Calvi...  \n",
       "189  /Users/cu135/Partners HealthCare Dropbox/Calvi...  \n",
       "190  /Users/cu135/Partners HealthCare Dropbox/Calvi...  \n",
       "191  /Users/cu135/Partners HealthCare Dropbox/Calvi...  \n",
       "192  /Users/cu135/Partners HealthCare Dropbox/Calvi...  \n",
       "\n",
       "[193 rows x 8 columns]"
      ]
     },
     "execution_count": 3,
     "metadata": {},
     "output_type": "execute_result"
    }
   ],
   "source": [
    "from calvin_utils.permutation_analysis_utils.statsmodels_palm import CalvinStatsmodelsPalm\n",
    "# Instantiate the PalmPrepararation class\n",
    "cal_palm = CalvinStatsmodelsPalm(input_csv_path=input_csv_path, output_dir=out_dir, sheet=sheet)\n",
    "# Call the process_nifti_paths method\n",
    "data_df = cal_palm.read_and_display_data()\n",
    "data_df"
   ]
  },
  {
   "cell_type": "markdown",
   "metadata": {},
   "source": [
    "\n",
    "# 01 - Preprocess Your Data"
   ]
  },
  {
   "cell_type": "markdown",
   "metadata": {},
   "source": [
    "**Handle NANs**\n",
    "- Set drop_nans=True is you would like to remove NaNs from data\n",
    "- Provide a column name or a list of column names to remove NaNs from"
   ]
  },
  {
   "cell_type": "code",
   "execution_count": 4,
   "metadata": {},
   "outputs": [
    {
     "data": {
      "text/plain": [
       "Index(['sample_id', 'umap_x', 'umap_y', 'umap_z', 'cluster_label',\n",
       "       'cluster_probability', 'cluster_persistence', 'image_path'],\n",
       "      dtype='object')"
      ]
     },
     "execution_count": 4,
     "metadata": {},
     "output_type": "execute_result"
    }
   ],
   "source": [
    "data_df.columns"
   ]
  },
  {
   "cell_type": "code",
   "execution_count": 5,
   "metadata": {},
   "outputs": [],
   "source": [
    "drop_list = ['cluster_label', 'image_path']"
   ]
  },
  {
   "cell_type": "code",
   "execution_count": 6,
   "metadata": {},
   "outputs": [
    {
     "data": {
      "text/html": [
       "<div>\n",
       "<style scoped>\n",
       "    .dataframe tbody tr th:only-of-type {\n",
       "        vertical-align: middle;\n",
       "    }\n",
       "\n",
       "    .dataframe tbody tr th {\n",
       "        vertical-align: top;\n",
       "    }\n",
       "\n",
       "    .dataframe thead th {\n",
       "        text-align: right;\n",
       "    }\n",
       "</style>\n",
       "<table border=\"1\" class=\"dataframe\">\n",
       "  <thead>\n",
       "    <tr style=\"text-align: right;\">\n",
       "      <th></th>\n",
       "      <th>sample_id</th>\n",
       "      <th>umap_x</th>\n",
       "      <th>umap_y</th>\n",
       "      <th>umap_z</th>\n",
       "      <th>cluster_label</th>\n",
       "      <th>cluster_probability</th>\n",
       "      <th>cluster_persistence</th>\n",
       "      <th>image_path</th>\n",
       "    </tr>\n",
       "  </thead>\n",
       "  <tbody>\n",
       "    <tr>\n",
       "      <th>0</th>\n",
       "      <td>0</td>\n",
       "      <td>35.304853</td>\n",
       "      <td>59.070787</td>\n",
       "      <td>23.843061</td>\n",
       "      <td>0</td>\n",
       "      <td>0.740418</td>\n",
       "      <td>0.249057</td>\n",
       "      <td>/Users/cu135/Partners HealthCare Dropbox/Calvi...</td>\n",
       "    </tr>\n",
       "    <tr>\n",
       "      <th>1</th>\n",
       "      <td>1</td>\n",
       "      <td>34.301865</td>\n",
       "      <td>58.634522</td>\n",
       "      <td>23.944913</td>\n",
       "      <td>0</td>\n",
       "      <td>0.411194</td>\n",
       "      <td>0.249057</td>\n",
       "      <td>/Users/cu135/Partners HealthCare Dropbox/Calvi...</td>\n",
       "    </tr>\n",
       "    <tr>\n",
       "      <th>2</th>\n",
       "      <td>2</td>\n",
       "      <td>35.772652</td>\n",
       "      <td>59.575699</td>\n",
       "      <td>24.296762</td>\n",
       "      <td>0</td>\n",
       "      <td>1.000000</td>\n",
       "      <td>0.249057</td>\n",
       "      <td>/Users/cu135/Partners HealthCare Dropbox/Calvi...</td>\n",
       "    </tr>\n",
       "    <tr>\n",
       "      <th>3</th>\n",
       "      <td>3</td>\n",
       "      <td>37.576479</td>\n",
       "      <td>58.326148</td>\n",
       "      <td>22.506427</td>\n",
       "      <td>4</td>\n",
       "      <td>0.627109</td>\n",
       "      <td>0.140770</td>\n",
       "      <td>/Users/cu135/Partners HealthCare Dropbox/Calvi...</td>\n",
       "    </tr>\n",
       "    <tr>\n",
       "      <th>4</th>\n",
       "      <td>4</td>\n",
       "      <td>35.005843</td>\n",
       "      <td>59.303814</td>\n",
       "      <td>23.623545</td>\n",
       "      <td>0</td>\n",
       "      <td>0.460981</td>\n",
       "      <td>0.249057</td>\n",
       "      <td>/Users/cu135/Partners HealthCare Dropbox/Calvi...</td>\n",
       "    </tr>\n",
       "    <tr>\n",
       "      <th>...</th>\n",
       "      <td>...</td>\n",
       "      <td>...</td>\n",
       "      <td>...</td>\n",
       "      <td>...</td>\n",
       "      <td>...</td>\n",
       "      <td>...</td>\n",
       "      <td>...</td>\n",
       "      <td>...</td>\n",
       "    </tr>\n",
       "    <tr>\n",
       "      <th>188</th>\n",
       "      <td>188</td>\n",
       "      <td>35.048752</td>\n",
       "      <td>58.821596</td>\n",
       "      <td>23.787037</td>\n",
       "      <td>0</td>\n",
       "      <td>0.738952</td>\n",
       "      <td>0.249057</td>\n",
       "      <td>/Users/cu135/Partners HealthCare Dropbox/Calvi...</td>\n",
       "    </tr>\n",
       "    <tr>\n",
       "      <th>189</th>\n",
       "      <td>189</td>\n",
       "      <td>34.560762</td>\n",
       "      <td>59.517573</td>\n",
       "      <td>24.814817</td>\n",
       "      <td>-1</td>\n",
       "      <td>0.000000</td>\n",
       "      <td>NaN</td>\n",
       "      <td>/Users/cu135/Partners HealthCare Dropbox/Calvi...</td>\n",
       "    </tr>\n",
       "    <tr>\n",
       "      <th>190</th>\n",
       "      <td>190</td>\n",
       "      <td>34.284403</td>\n",
       "      <td>58.669877</td>\n",
       "      <td>23.963222</td>\n",
       "      <td>0</td>\n",
       "      <td>0.443376</td>\n",
       "      <td>0.249057</td>\n",
       "      <td>/Users/cu135/Partners HealthCare Dropbox/Calvi...</td>\n",
       "    </tr>\n",
       "    <tr>\n",
       "      <th>191</th>\n",
       "      <td>191</td>\n",
       "      <td>34.291782</td>\n",
       "      <td>59.447372</td>\n",
       "      <td>24.133870</td>\n",
       "      <td>0</td>\n",
       "      <td>0.392583</td>\n",
       "      <td>0.249057</td>\n",
       "      <td>/Users/cu135/Partners HealthCare Dropbox/Calvi...</td>\n",
       "    </tr>\n",
       "    <tr>\n",
       "      <th>192</th>\n",
       "      <td>192</td>\n",
       "      <td>35.770282</td>\n",
       "      <td>59.728278</td>\n",
       "      <td>23.428653</td>\n",
       "      <td>-1</td>\n",
       "      <td>0.000000</td>\n",
       "      <td>NaN</td>\n",
       "      <td>/Users/cu135/Partners HealthCare Dropbox/Calvi...</td>\n",
       "    </tr>\n",
       "  </tbody>\n",
       "</table>\n",
       "<p>193 rows × 8 columns</p>\n",
       "</div>"
      ],
      "text/plain": [
       "     sample_id     umap_x     umap_y     umap_z  cluster_label  \\\n",
       "0            0  35.304853  59.070787  23.843061              0   \n",
       "1            1  34.301865  58.634522  23.944913              0   \n",
       "2            2  35.772652  59.575699  24.296762              0   \n",
       "3            3  37.576479  58.326148  22.506427              4   \n",
       "4            4  35.005843  59.303814  23.623545              0   \n",
       "..         ...        ...        ...        ...            ...   \n",
       "188        188  35.048752  58.821596  23.787037              0   \n",
       "189        189  34.560762  59.517573  24.814817             -1   \n",
       "190        190  34.284403  58.669877  23.963222              0   \n",
       "191        191  34.291782  59.447372  24.133870              0   \n",
       "192        192  35.770282  59.728278  23.428653             -1   \n",
       "\n",
       "     cluster_probability  cluster_persistence  \\\n",
       "0               0.740418             0.249057   \n",
       "1               0.411194             0.249057   \n",
       "2               1.000000             0.249057   \n",
       "3               0.627109             0.140770   \n",
       "4               0.460981             0.249057   \n",
       "..                   ...                  ...   \n",
       "188             0.738952             0.249057   \n",
       "189             0.000000                  NaN   \n",
       "190             0.443376             0.249057   \n",
       "191             0.392583             0.249057   \n",
       "192             0.000000                  NaN   \n",
       "\n",
       "                                            image_path  \n",
       "0    /Users/cu135/Partners HealthCare Dropbox/Calvi...  \n",
       "1    /Users/cu135/Partners HealthCare Dropbox/Calvi...  \n",
       "2    /Users/cu135/Partners HealthCare Dropbox/Calvi...  \n",
       "3    /Users/cu135/Partners HealthCare Dropbox/Calvi...  \n",
       "4    /Users/cu135/Partners HealthCare Dropbox/Calvi...  \n",
       "..                                                 ...  \n",
       "188  /Users/cu135/Partners HealthCare Dropbox/Calvi...  \n",
       "189  /Users/cu135/Partners HealthCare Dropbox/Calvi...  \n",
       "190  /Users/cu135/Partners HealthCare Dropbox/Calvi...  \n",
       "191  /Users/cu135/Partners HealthCare Dropbox/Calvi...  \n",
       "192  /Users/cu135/Partners HealthCare Dropbox/Calvi...  \n",
       "\n",
       "[193 rows x 8 columns]"
      ]
     },
     "execution_count": 6,
     "metadata": {},
     "output_type": "execute_result"
    }
   ],
   "source": [
    "data_df = cal_palm.drop_nans_from_columns(columns_to_drop_from=drop_list)\n",
    "data_df"
   ]
  },
  {
   "cell_type": "markdown",
   "metadata": {},
   "source": [
    "**Drop Row Based on Value of Column**\n",
    "\n",
    "Define the column, condition, and value for dropping rows\n",
    "- column = 'your_column_name'\n",
    "- condition = 'above'  # Options: 'equal', 'above', 'below'"
   ]
  },
  {
   "cell_type": "code",
   "execution_count": 7,
   "metadata": {},
   "outputs": [
    {
     "data": {
      "text/plain": [
       "Index(['sample_id', 'umap_x', 'umap_y', 'umap_z', 'cluster_label',\n",
       "       'cluster_probability', 'cluster_persistence', 'image_path'],\n",
       "      dtype='object')"
      ]
     },
     "execution_count": 7,
     "metadata": {},
     "output_type": "execute_result"
    }
   ],
   "source": [
    "data_df.columns"
   ]
  },
  {
   "cell_type": "markdown",
   "metadata": {},
   "source": [
    "Set the parameters for dropping rows"
   ]
  },
  {
   "cell_type": "code",
   "execution_count": 8,
   "metadata": {},
   "outputs": [],
   "source": [
    "# column = 'memory'  # The column you'd like to evaluate\n",
    "# condition = 'not'  # The condition to check ('equal', 'above', 'below', 'not')\n",
    "# value = 1 # The value to drop if found"
   ]
  },
  {
   "cell_type": "code",
   "execution_count": 9,
   "metadata": {},
   "outputs": [],
   "source": [
    "# data_df, other_df = cal_palm.drop_rows_based_on_value(column, condition, value)\n",
    "# display(data_df)"
   ]
  },
  {
   "cell_type": "markdown",
   "metadata": {},
   "source": [
    "# 02 - Define Your Formula\n",
    "\n",
    "This is the formula relating outcome to predictors, and takes the form:\n",
    "- y = B0 + B1 + B2 + B3 + . . . BN\n",
    "\n",
    "It is defined using the columns of your dataframe instead of the variables above:\n",
    "- 'Apples_Picked ~ hours_worked + owns_apple_picking_machine'\n",
    "\n",
    "____\n",
    "**ANOVA**\n",
    "- Tests differences in means for one categorical variable.\n",
    "- formula = 'Outcome ~ C(Group1)'\n",
    "\n",
    "**2-Way ANOVA**\n",
    "- Tests differences in means for two categorical variables without interaction.\n",
    "- formula = 'Outcome ~ C(Group1) + C(Group2)'\n",
    "\n",
    "**2-Way ANOVA with Interaction**\n",
    "- Tests for interaction effects between two categorical variables.\n",
    "- formula = 'Outcome ~ C(Group1) * C(Group2)'\n",
    "\n",
    "**ANCOVA**\n",
    "- Similar to ANOVA, but includes a covariate to control for its effect.\n",
    "- formula = 'Outcome ~ C(Group1) + Covariate'\n",
    "\n",
    "**2-Way ANCOVA**\n",
    "- Extends ANCOVA with two categorical variables and their interaction, controlling for a covariate.\n",
    "- formula = 'Outcome ~ C(Group1) * C(Group2) + Covariate'\n",
    "\n",
    "**Multiple Regression**\n",
    "- Assesses the impact of multiple predictors on an outcome.\n",
    "- formula = 'Outcome ~ Predictor1 + Predictor2'\n",
    "\n",
    "**Simple Linear Regression**\n",
    "- Assesses the impact of a single predictor on an outcome.\n",
    "- formula = 'Outcome ~ Predictor'\n",
    "\n",
    "**MANOVA**\n",
    "- Assesses multiple dependent variables across groups.\n",
    "- Note: Not typically set up with a formula in statsmodels. Requires specialized functions.\n",
    "\n",
    "____\n",
    "Use the printout below to design your formula. \n",
    "- Left of the \"~\" symbol is the thing to be predicted. \n",
    "- Right of the \"~\" symbol are the predictors. \n",
    "- \":\" indicates an interaction between two things. \n",
    "- \"*\" indicates and interactions AND it accounts for the simple effects too. \n",
    "- \"+\" indicates that you want to add another predictor. "
   ]
  },
  {
   "cell_type": "code",
   "execution_count": 10,
   "metadata": {},
   "outputs": [
    {
     "data": {
      "text/plain": [
       "Index(['sample_id', 'umap_x', 'umap_y', 'umap_z', 'cluster_label',\n",
       "       'cluster_probability', 'cluster_persistence', 'image_path'],\n",
       "      dtype='object')"
      ]
     },
     "execution_count": 10,
     "metadata": {},
     "output_type": "execute_result"
    }
   ],
   "source": [
    "data_df.columns"
   ]
  },
  {
   "cell_type": "code",
   "execution_count": 16,
   "metadata": {},
   "outputs": [],
   "source": [
    "formula = \"cluster_persistence ~ image_path\""
   ]
  },
  {
   "cell_type": "markdown",
   "metadata": {},
   "source": [
    "# 02 - Visualize Your Design Matrix\n",
    "\n",
    "This is the explanatory variable half of your regression formula\n",
    "_______________________________________________________\n",
    "Create Design Matrix: Use the create_design_matrix method. You can provide a list of formula variables which correspond to column names in your dataframe.\n",
    "\n",
    "- voxelwise_variable_list = A list containing the names of each variable that has voxelwise variables. Plainly, the variables that represent niftis. \n",
    "- By default, an intercept will be added unless you set intercept=False\n",
    "- **don't explicitly add the 'intercept' column. I'll do it for you.**"
   ]
  },
  {
   "cell_type": "code",
   "execution_count": 17,
   "metadata": {},
   "outputs": [],
   "source": [
    "voxelwise_variable_list=['image_path']"
   ]
  },
  {
   "cell_type": "markdown",
   "metadata": {},
   "source": [
    "If you want to run voxelwise INTERACTIONS, then you should specify the exact terms, exactly as specified in your above formula, here. \n",
    "- For example, if Formula is outcome ~ voxelwise_var1 * age + dog_number, then voxelwise_interaction_terms are ['voxelwise_var1 * age]\n",
    "- Set voxelwise_interaction_terms = [] (left as an empty list) if you have no interactions with voxelwise variables"
   ]
  },
  {
   "cell_type": "code",
   "execution_count": 18,
   "metadata": {},
   "outputs": [],
   "source": [
    "voxelwise_interaction_terms = []"
   ]
  },
  {
   "cell_type": "markdown",
   "metadata": {},
   "source": [
    "Make sure ANY voxelwise variables are in formula. "
   ]
  },
  {
   "cell_type": "code",
   "execution_count": 19,
   "metadata": {},
   "outputs": [
    {
     "data": {
      "text/html": [
       "<div>\n",
       "<style scoped>\n",
       "    .dataframe tbody tr th:only-of-type {\n",
       "        vertical-align: middle;\n",
       "    }\n",
       "\n",
       "    .dataframe tbody tr th {\n",
       "        vertical-align: top;\n",
       "    }\n",
       "\n",
       "    .dataframe thead th {\n",
       "        text-align: right;\n",
       "    }\n",
       "</style>\n",
       "<table border=\"1\" class=\"dataframe\">\n",
       "  <thead>\n",
       "    <tr style=\"text-align: right;\">\n",
       "      <th></th>\n",
       "      <th>Intercept</th>\n",
       "      <th>image_path</th>\n",
       "    </tr>\n",
       "  </thead>\n",
       "  <tbody>\n",
       "    <tr>\n",
       "      <th>0</th>\n",
       "      <td>1.0</td>\n",
       "      <td>/Users/cu135/Partners HealthCare Dropbox/Calvi...</td>\n",
       "    </tr>\n",
       "    <tr>\n",
       "      <th>1</th>\n",
       "      <td>1.0</td>\n",
       "      <td>/Users/cu135/Partners HealthCare Dropbox/Calvi...</td>\n",
       "    </tr>\n",
       "    <tr>\n",
       "      <th>2</th>\n",
       "      <td>1.0</td>\n",
       "      <td>/Users/cu135/Partners HealthCare Dropbox/Calvi...</td>\n",
       "    </tr>\n",
       "    <tr>\n",
       "      <th>3</th>\n",
       "      <td>1.0</td>\n",
       "      <td>/Users/cu135/Partners HealthCare Dropbox/Calvi...</td>\n",
       "    </tr>\n",
       "    <tr>\n",
       "      <th>4</th>\n",
       "      <td>1.0</td>\n",
       "      <td>/Users/cu135/Partners HealthCare Dropbox/Calvi...</td>\n",
       "    </tr>\n",
       "    <tr>\n",
       "      <th>...</th>\n",
       "      <td>...</td>\n",
       "      <td>...</td>\n",
       "    </tr>\n",
       "    <tr>\n",
       "      <th>186</th>\n",
       "      <td>1.0</td>\n",
       "      <td>/Users/cu135/Partners HealthCare Dropbox/Calvi...</td>\n",
       "    </tr>\n",
       "    <tr>\n",
       "      <th>187</th>\n",
       "      <td>1.0</td>\n",
       "      <td>/Users/cu135/Partners HealthCare Dropbox/Calvi...</td>\n",
       "    </tr>\n",
       "    <tr>\n",
       "      <th>188</th>\n",
       "      <td>1.0</td>\n",
       "      <td>/Users/cu135/Partners HealthCare Dropbox/Calvi...</td>\n",
       "    </tr>\n",
       "    <tr>\n",
       "      <th>190</th>\n",
       "      <td>1.0</td>\n",
       "      <td>/Users/cu135/Partners HealthCare Dropbox/Calvi...</td>\n",
       "    </tr>\n",
       "    <tr>\n",
       "      <th>191</th>\n",
       "      <td>1.0</td>\n",
       "      <td>/Users/cu135/Partners HealthCare Dropbox/Calvi...</td>\n",
       "    </tr>\n",
       "  </tbody>\n",
       "</table>\n",
       "<p>157 rows × 2 columns</p>\n",
       "</div>"
      ],
      "text/plain": [
       "     Intercept                                         image_path\n",
       "0          1.0  /Users/cu135/Partners HealthCare Dropbox/Calvi...\n",
       "1          1.0  /Users/cu135/Partners HealthCare Dropbox/Calvi...\n",
       "2          1.0  /Users/cu135/Partners HealthCare Dropbox/Calvi...\n",
       "3          1.0  /Users/cu135/Partners HealthCare Dropbox/Calvi...\n",
       "4          1.0  /Users/cu135/Partners HealthCare Dropbox/Calvi...\n",
       "..         ...                                                ...\n",
       "186        1.0  /Users/cu135/Partners HealthCare Dropbox/Calvi...\n",
       "187        1.0  /Users/cu135/Partners HealthCare Dropbox/Calvi...\n",
       "188        1.0  /Users/cu135/Partners HealthCare Dropbox/Calvi...\n",
       "190        1.0  /Users/cu135/Partners HealthCare Dropbox/Calvi...\n",
       "191        1.0  /Users/cu135/Partners HealthCare Dropbox/Calvi...\n",
       "\n",
       "[157 rows x 2 columns]"
      ]
     },
     "execution_count": 19,
     "metadata": {},
     "output_type": "execute_result"
    }
   ],
   "source": [
    "outcome_df, design_matrix = cal_palm.define_design_matrix(formula, data_df, add_intercept=True,\n",
    "                                                          voxelwise_variable_list=voxelwise_variable_list, \n",
    "                                                          voxelwise_interaction_terms=voxelwise_interaction_terms)\n",
    "design_matrix"
   ]
  },
  {
   "cell_type": "markdown",
   "metadata": {},
   "source": [
    "# 03 - Visualize Your Dependent Variable\n",
    "\n",
    "I have generated this for you based on the formula you provided"
   ]
  },
  {
   "cell_type": "code",
   "execution_count": 20,
   "metadata": {},
   "outputs": [
    {
     "data": {
      "text/html": [
       "<div>\n",
       "<style scoped>\n",
       "    .dataframe tbody tr th:only-of-type {\n",
       "        vertical-align: middle;\n",
       "    }\n",
       "\n",
       "    .dataframe tbody tr th {\n",
       "        vertical-align: top;\n",
       "    }\n",
       "\n",
       "    .dataframe thead th {\n",
       "        text-align: right;\n",
       "    }\n",
       "</style>\n",
       "<table border=\"1\" class=\"dataframe\">\n",
       "  <thead>\n",
       "    <tr style=\"text-align: right;\">\n",
       "      <th></th>\n",
       "      <th>cluster_persistence</th>\n",
       "    </tr>\n",
       "  </thead>\n",
       "  <tbody>\n",
       "    <tr>\n",
       "      <th>0</th>\n",
       "      <td>0.249057</td>\n",
       "    </tr>\n",
       "    <tr>\n",
       "      <th>1</th>\n",
       "      <td>0.249057</td>\n",
       "    </tr>\n",
       "    <tr>\n",
       "      <th>2</th>\n",
       "      <td>0.249057</td>\n",
       "    </tr>\n",
       "    <tr>\n",
       "      <th>3</th>\n",
       "      <td>0.140770</td>\n",
       "    </tr>\n",
       "    <tr>\n",
       "      <th>4</th>\n",
       "      <td>0.249057</td>\n",
       "    </tr>\n",
       "    <tr>\n",
       "      <th>...</th>\n",
       "      <td>...</td>\n",
       "    </tr>\n",
       "    <tr>\n",
       "      <th>186</th>\n",
       "      <td>0.067357</td>\n",
       "    </tr>\n",
       "    <tr>\n",
       "      <th>187</th>\n",
       "      <td>0.249057</td>\n",
       "    </tr>\n",
       "    <tr>\n",
       "      <th>188</th>\n",
       "      <td>0.249057</td>\n",
       "    </tr>\n",
       "    <tr>\n",
       "      <th>190</th>\n",
       "      <td>0.249057</td>\n",
       "    </tr>\n",
       "    <tr>\n",
       "      <th>191</th>\n",
       "      <td>0.249057</td>\n",
       "    </tr>\n",
       "  </tbody>\n",
       "</table>\n",
       "<p>157 rows × 1 columns</p>\n",
       "</div>"
      ],
      "text/plain": [
       "     cluster_persistence\n",
       "0               0.249057\n",
       "1               0.249057\n",
       "2               0.249057\n",
       "3               0.140770\n",
       "4               0.249057\n",
       "..                   ...\n",
       "186             0.067357\n",
       "187             0.249057\n",
       "188             0.249057\n",
       "190             0.249057\n",
       "191             0.249057\n",
       "\n",
       "[157 rows x 1 columns]"
      ]
     },
     "execution_count": 20,
     "metadata": {},
     "output_type": "execute_result"
    }
   ],
   "source": [
    "outcome_df"
   ]
  },
  {
   "cell_type": "markdown",
   "metadata": {},
   "source": [
    "# 04 - Generate Contrasts"
   ]
  },
  {
   "cell_type": "markdown",
   "metadata": {},
   "source": [
    "Generate a Contrast Matrix\n",
    "- This is different from the contrast matrices used in cell-means regressions such as in PALM, but it is much more powerful. \n",
    "\n",
    "\n",
    "\n",
    "For more information on contrast matrices, please refer to this: https://cran.r-project.org/web/packages/codingMatrices/vignettes/codingMatrices.pdf\n",
    "\n",
    "Generally, these drastically effect the results of ANOVA. However, they are mereley a nuisance for a regression.\n",
    "In essence, they assess if coefficients are significantly different\n",
    "\n",
    "________________________________________________________________\n",
    "A coding matrix (a contrast matrix if it sums to zero) is simply a way of defining what coefficients to evaluate and how to evaluate them. \n",
    "If a coefficient is set to 1 and everything else is set to zero, we are taking the mean of the coefficient's means and assessing if they significantly\n",
    "deviate from zero--IE we are checking if it had a significant impact on the ability to predict the depdendent variable.\n",
    "If a coefficient is set to 1, another is -1, and others are 0, we are assessing how the means of the two coefficients deviate from eachother. \n",
    "If several coefficients are 1 and several others are -1, we are assessing how the group-level means of the two coefficients deviate from eachother.\n",
    "If a group of coefficients are 1, a group is -1, and a group is 0, we are only assessing how the groups +1 and -1 have differing means. \n",
    "\n",
    "1: This value indicates that the corresponding variable's coefficient in the model is included in the contrast. It means you are interested in estimating the effect of that variable.\n",
    "\n",
    "0: This value indicates that the corresponding variable's coefficient in the model is not included in the contrast. It means you are not interested in estimating the effect of that variable.\n",
    "\n",
    "-1: This value indicates that the corresponding variable's coefficient in the model is included in the contrast, but with an opposite sign. It means you are interested in estimating the negative effect of that variable.\n",
    "\n",
    "----------------------------------------------------------------\n",
    "The contrast matrix is typically a matrix with dimensions (number of contrasts) x (number of regression coefficients). Each row of the contrast matrix represents a contrast or comparison you want to test.\n",
    "\n",
    "For example, let's say you have the following regression coefficients in your model:\n",
    "\n",
    "Intercept, Age, connectivity, Age_interaction_connectivity\n",
    "A contrast matric has dimensions of [n_predictors, n_experiments] where each experiment is a contrast\n",
    "\n",
    "If you want to test the hypothesis that the effect of Age is significant, you can set up a contrast matrix with a row that specifies this contrast (actually an averaging vector):\n",
    "```\n",
    "[0,1,0,0]. This is an averaging vector because it sums to 1\n",
    "```\n",
    "This contrast will test the coefficient corresponding to the Age variable against zero.\n",
    "\n",
    "\n",
    "If you want to test the hypothesis that the effect of Age is different from the effect of connectivity, you can set up a contrast matrix with two rows:\n",
    "```\n",
    "[0,1,−1,0]. This is a contrast because it sums to 0\n",
    "```\n",
    "\n",
    "Thus, if you want to see if any given effect is significant compared to the intercept (average), you can use the following contrast matrix:\n",
    "```\n",
    "[1,0,0,0]\n",
    "[-1,1,0,0]\n",
    "[-1,0,1,0]\n",
    "[-1,0,0,1] actually a coding matrix of averaging vectors\n",
    "```\n",
    "\n",
    "The first row tests the coefficient for Age against zero, and the second row tests the coefficient for connectivity against zero. The difference between the two coefficients can then be assessed.\n",
    "_____\n",
    "You can define any number of contrasts in the contrast matrix to test different hypotheses or comparisons of interest in your regression analysis.\n",
    "\n",
    "It's important to note that the specific contrasts you choose depend on your research questions and hypotheses. You should carefully consider the comparisons you want to make and design the contrast matrix accordingly.\n",
    "\n",
    "- Examples:\n",
    "    - [Two Sample T-Test](https://fsl.fmrib.ox.ac.uk/fsl/fslwiki/GLM#Two-Group_Difference_.28Two-Sample_Unpaired_T-Test.29)\n",
    "    - [One Sample with Covariate](https://fsl.fmrib.ox.ac.uk/fsl/fslwiki/GLM#Single-Group_Average_with_Additional_Covariate)"
   ]
  },
  {
   "cell_type": "code",
   "execution_count": 21,
   "metadata": {},
   "outputs": [
    {
     "name": "stdout",
     "output_type": "stream",
     "text": [
      "Here is a basic contrast matrix set up to evaluate the significance of each variable.\n",
      "Here is an example of what your contrast matrix looks like as a dataframe: \n"
     ]
    },
    {
     "data": {
      "text/html": [
       "<div>\n",
       "<style scoped>\n",
       "    .dataframe tbody tr th:only-of-type {\n",
       "        vertical-align: middle;\n",
       "    }\n",
       "\n",
       "    .dataframe tbody tr th {\n",
       "        vertical-align: top;\n",
       "    }\n",
       "\n",
       "    .dataframe thead th {\n",
       "        text-align: right;\n",
       "    }\n",
       "</style>\n",
       "<table border=\"1\" class=\"dataframe\">\n",
       "  <thead>\n",
       "    <tr style=\"text-align: right;\">\n",
       "      <th></th>\n",
       "      <th>Intercept</th>\n",
       "      <th>image_path</th>\n",
       "    </tr>\n",
       "  </thead>\n",
       "  <tbody>\n",
       "    <tr>\n",
       "      <th>0</th>\n",
       "      <td>1</td>\n",
       "      <td>0</td>\n",
       "    </tr>\n",
       "    <tr>\n",
       "      <th>1</th>\n",
       "      <td>0</td>\n",
       "      <td>1</td>\n",
       "    </tr>\n",
       "  </tbody>\n",
       "</table>\n",
       "</div>"
      ],
      "text/plain": [
       "   Intercept  image_path\n",
       "0          1           0\n",
       "1          0           1"
      ]
     },
     "metadata": {},
     "output_type": "display_data"
    },
    {
     "name": "stdout",
     "output_type": "stream",
     "text": [
      "Below is the same contrast matrix, but as an array.\n",
      "Copy it into a cell below and edit it for more control over your analysis.\n",
      "[\n",
      "    [1, 0],\n",
      "    [0, 1],\n",
      "]\n"
     ]
    }
   ],
   "source": [
    "contrast_matrix = cal_palm.generate_basic_contrast_matrix(design_matrix)"
   ]
  },
  {
   "cell_type": "code",
   "execution_count": 22,
   "metadata": {},
   "outputs": [],
   "source": [
    "# contrast_matrix = [\n",
    "#     [1]\n",
    "#     ]"
   ]
  },
  {
   "cell_type": "code",
   "execution_count": 23,
   "metadata": {},
   "outputs": [
    {
     "data": {
      "text/html": [
       "<div>\n",
       "<style scoped>\n",
       "    .dataframe tbody tr th:only-of-type {\n",
       "        vertical-align: middle;\n",
       "    }\n",
       "\n",
       "    .dataframe tbody tr th {\n",
       "        vertical-align: top;\n",
       "    }\n",
       "\n",
       "    .dataframe thead th {\n",
       "        text-align: right;\n",
       "    }\n",
       "</style>\n",
       "<table border=\"1\" class=\"dataframe\">\n",
       "  <thead>\n",
       "    <tr style=\"text-align: right;\">\n",
       "      <th></th>\n",
       "      <th>Intercept</th>\n",
       "      <th>image_path</th>\n",
       "    </tr>\n",
       "  </thead>\n",
       "  <tbody>\n",
       "    <tr>\n",
       "      <th>0</th>\n",
       "      <td>1</td>\n",
       "      <td>0</td>\n",
       "    </tr>\n",
       "    <tr>\n",
       "      <th>1</th>\n",
       "      <td>0</td>\n",
       "      <td>1</td>\n",
       "    </tr>\n",
       "  </tbody>\n",
       "</table>\n",
       "</div>"
      ],
      "text/plain": [
       "   Intercept  image_path\n",
       "0          1           0\n",
       "1          0           1"
      ]
     },
     "execution_count": 23,
     "metadata": {},
     "output_type": "execute_result"
    }
   ],
   "source": [
    "contrast_matrix_df = cal_palm.finalize_contrast_matrix(design_matrix=design_matrix, \n",
    "                                                    contrast_matrix=contrast_matrix) \n",
    "contrast_matrix_df"
   ]
  },
  {
   "cell_type": "markdown",
   "metadata": {},
   "source": [
    "# 05 - Generate Files\n",
    "Standardization during regression is critical. \n",
    "- data_transform_method='standardize' will ensure the voxelwise values are standardized\n",
    "    - if you design matrix has a column called 'Dataset', the standardization will standardize values within each dataset individually, which is as should be done normally.\n",
    "    - If you call data_transform_method='standardize' without having a 'Dataset' column in your design matrix, the entire collection of images will be standardized. This is potentially dangerous and misleading. Be careful, and consider not standardizing at all, or going back and adding a 'Dataset' column. \n",
    "\n",
    "Mask Path\n",
    "- set mask_path to the path of your local brain mask which matches the resolution of the files you have collected. Typically this is an MNI 152 brain mask. \n",
    "    - download one here: https://nilearn.github.io/dev/modules/generated/nilearn.datasets.load_mni152_brain_mask.html"
   ]
  },
  {
   "cell_type": "code",
   "execution_count": 24,
   "metadata": {},
   "outputs": [],
   "source": [
    "mask_path = '/Users/cu135/hires_backdrops/MNI/MNI152_T1_2mm_brain_mask.nii'\n",
    "data_transform_method=None"
   ]
  },
  {
   "cell_type": "markdown",
   "metadata": {},
   "source": [
    "Define exchangeability block\n",
    "- Set to none if you don't know\n",
    "- If you are running multiple cohorts, set exchangeability block to be the column which has each group in it, with groups being indicated by integers. "
   ]
  },
  {
   "cell_type": "code",
   "execution_count": 25,
   "metadata": {},
   "outputs": [],
   "source": [
    "exchangeability_col = None"
   ]
  },
  {
   "cell_type": "code",
   "execution_count": 26,
   "metadata": {},
   "outputs": [
    {
     "name": "stderr",
     "output_type": "stream",
     "text": [
      "Loading & masking: 100%|██████████| 157/157 [00:02<00:00, 54.26it/s]\n"
     ]
    },
    {
     "name": "stdout",
     "output_type": "stream",
     "text": [
      "design_tensor shape: (157, 2, 228483)\n",
      "outcome_data shape: (157, 1, 1)\n"
     ]
    }
   ],
   "source": [
    "from calvin_utils.permutation_analysis_utils.voxelwise_regression_prep import RegressionPrep\n",
    "preparer = RegressionPrep(design_matrix=design_matrix, \n",
    "                          contrast_matrix=contrast_matrix_df, \n",
    "                          outcome_df=outcome_df, \n",
    "                          out_dir=out_dir,\n",
    "                          voxelwise_variables=voxelwise_variable_list, \n",
    "                          voxelwise_interactions=voxelwise_interaction_terms,\n",
    "                          mask_path=mask_path, \n",
    "                          exchangeability_block=None, \n",
    "                          data_transform_method='standardize',\n",
    "                          weights=None)\n",
    "dataset_dict, json_path = preparer.run()"
   ]
  },
  {
   "cell_type": "markdown",
   "metadata": {},
   "source": [
    "# 06 - Run the Voxelwise Regression"
   ]
  },
  {
   "cell_type": "code",
   "execution_count": null,
   "metadata": {},
   "outputs": [
    {
     "name": "stdout",
     "output_type": "stream",
     "text": [
      "Outcome is not all binary. You should ensure regression_type='linear'. Detected regression_type: logistic\n"
     ]
    },
    {
     "name": "stderr",
     "output_type": "stream",
     "text": [
      "Running voxelwise regressions:   0%|          | 0/228483 [00:00<?, ?it/s]\n"
     ]
    },
    {
     "ename": "TypeError",
     "evalue": "VoxelwiseRegression._run_regression() takes 5 positional arguments but 6 were given",
     "output_type": "error",
     "traceback": [
      "\u001b[0;31m---------------------------------------------------------------------------\u001b[0m",
      "\u001b[0;31mTypeError\u001b[0m                                 Traceback (most recent call last)",
      "Cell \u001b[0;32mIn[28], line 3\u001b[0m\n\u001b[1;32m      1\u001b[0m \u001b[38;5;28;01mfrom\u001b[39;00m\u001b[38;5;250m \u001b[39m\u001b[38;5;21;01mcalvin_utils\u001b[39;00m\u001b[38;5;21;01m.\u001b[39;00m\u001b[38;5;21;01mpermutation_analysis_utils\u001b[39;00m\u001b[38;5;21;01m.\u001b[39;00m\u001b[38;5;21;01mvoxelwise_regression\u001b[39;00m\u001b[38;5;250m \u001b[39m\u001b[38;5;28;01mimport\u001b[39;00m VoxelwiseRegression\n\u001b[1;32m      2\u001b[0m regression \u001b[38;5;241m=\u001b[39m VoxelwiseRegression(json_path, mask_path\u001b[38;5;241m=\u001b[39mmask_path, out_dir\u001b[38;5;241m=\u001b[39mout_dir, regression_type\u001b[38;5;241m=\u001b[39m\u001b[38;5;124m'\u001b[39m\u001b[38;5;124mlogistic\u001b[39m\u001b[38;5;124m'\u001b[39m, n_permutations\u001b[38;5;241m=\u001b[39m\u001b[38;5;241m1\u001b[39m)\n\u001b[0;32m----> 3\u001b[0m results \u001b[38;5;241m=\u001b[39m \u001b[43mregression\u001b[49m\u001b[38;5;241;43m.\u001b[39;49m\u001b[43mrun\u001b[49m\u001b[43m(\u001b[49m\u001b[43m)\u001b[49m\n",
      "File \u001b[0;32m~/Software_Local/calvin_utils_project/calvin_utils_project/calvin_utils/permutation_analysis_utils/voxelwise_regression.py:575\u001b[0m, in \u001b[0;36mVoxelwiseRegression.run\u001b[0;34m(self)\u001b[0m\n\u001b[1;32m    562\u001b[0m \u001b[38;5;250m\u001b[39m\u001b[38;5;124;03m\"\"\"\u001b[39;00m\n\u001b[1;32m    563\u001b[0m \u001b[38;5;124;03mExecutes the voxelwise regression analysis and optional permutation testing.\u001b[39;00m\n\u001b[1;32m    564\u001b[0m \u001b[38;5;124;03mThis method performs the following steps:\u001b[39;00m\n\u001b[0;32m   (...)\u001b[0m\n\u001b[1;32m    572\u001b[0m \u001b[38;5;124;03m        testing. Defaults to 0 (no permutation testing).\u001b[39;00m\n\u001b[1;32m    573\u001b[0m \u001b[38;5;124;03m\"\"\"\u001b[39;00m\n\u001b[1;32m    574\u001b[0m \u001b[38;5;28mself\u001b[39m\u001b[38;5;241m.\u001b[39mXTX_inv \u001b[38;5;241m=\u001b[39m np\u001b[38;5;241m.\u001b[39mzeros\n\u001b[0;32m--> 575\u001b[0m \u001b[38;5;28mself\u001b[39m\u001b[38;5;241m.\u001b[39mBETA, \u001b[38;5;28mself\u001b[39m\u001b[38;5;241m.\u001b[39mT, \u001b[38;5;28mself\u001b[39m\u001b[38;5;241m.\u001b[39mR2 \u001b[38;5;241m=\u001b[39m \u001b[38;5;28;43mself\u001b[39;49m\u001b[38;5;241;43m.\u001b[39;49m\u001b[43mvoxelwise_regression\u001b[49m\u001b[43m(\u001b[49m\u001b[43m)\u001b[49m\n\u001b[1;32m    576\u001b[0m \u001b[38;5;28mself\u001b[39m\u001b[38;5;241m.\u001b[39mrun_permutation(\u001b[38;5;28mself\u001b[39m\u001b[38;5;241m.\u001b[39mn_permutations)\n\u001b[1;32m    577\u001b[0m \u001b[38;5;28mself\u001b[39m\u001b[38;5;241m.\u001b[39m_save_nifti_maps()\n",
      "File \u001b[0;32m~/Software_Local/calvin_utils_project/calvin_utils_project/calvin_utils/permutation_analysis_utils/voxelwise_regression.py:407\u001b[0m, in \u001b[0;36mVoxelwiseRegression.voxelwise_regression\u001b[0;34m(self, permutation, regression_idx)\u001b[0m\n\u001b[1;32m    405\u001b[0m \u001b[38;5;28;01mfor\u001b[39;00m idx \u001b[38;5;129;01min\u001b[39;00m (\u001b[38;5;28mrange\u001b[39m(\u001b[38;5;28mself\u001b[39m\u001b[38;5;241m.\u001b[39mn_voxels) \u001b[38;5;28;01mif\u001b[39;00m permutation \u001b[38;5;28;01melse\u001b[39;00m tqdm(\u001b[38;5;28mrange\u001b[39m(\u001b[38;5;28mself\u001b[39m\u001b[38;5;241m.\u001b[39mn_voxels), desc\u001b[38;5;241m=\u001b[39m\u001b[38;5;124m'\u001b[39m\u001b[38;5;124mRunning voxelwise regressions\u001b[39m\u001b[38;5;124m'\u001b[39m)):\n\u001b[1;32m    406\u001b[0m     X, Y, W \u001b[38;5;241m=\u001b[39m \u001b[38;5;28mself\u001b[39m\u001b[38;5;241m.\u001b[39m_prep_targets(regressor, regressand, weights, idx, regression_idx)\n\u001b[0;32m--> 407\u001b[0m     BETA[:,idx], T[:,idx], R2[:,idx] \u001b[38;5;241m=\u001b[39m \u001b[38;5;28;43mself\u001b[39;49m\u001b[38;5;241;43m.\u001b[39;49m\u001b[43m_run_regression\u001b[49m\u001b[43m(\u001b[49m\u001b[43mX\u001b[49m\u001b[43m,\u001b[49m\u001b[43m \u001b[49m\u001b[43mY\u001b[49m\u001b[43m,\u001b[49m\u001b[43m \u001b[49m\u001b[43mW\u001b[49m\u001b[43m,\u001b[49m\u001b[43m \u001b[49m\u001b[43midx\u001b[49m\u001b[43m,\u001b[49m\u001b[43m \u001b[49m\u001b[43mpermutation\u001b[49m\u001b[43m)\u001b[49m\n\u001b[1;32m    408\u001b[0m \u001b[38;5;28;01mreturn\u001b[39;00m BETA, T, R2\n",
      "\u001b[0;31mTypeError\u001b[0m: VoxelwiseRegression._run_regression() takes 5 positional arguments but 6 were given"
     ]
    }
   ],
   "source": [
    "from calvin_utils.permutation_analysis_utils.voxelwise_regression import VoxelwiseRegression\n",
    "regression = VoxelwiseRegression(json_path, mask_path=mask_path, out_dir=out_dir, regression_type='linear', n_permutations=1)\n",
    "results = regression.run()"
   ]
  },
  {
   "cell_type": "markdown",
   "metadata": {},
   "source": [
    "That's all\n",
    "\n",
    "-Calvin"
   ]
  }
 ],
 "metadata": {
  "kernelspec": {
   "display_name": ".venv_calvin (3.10.18)",
   "language": "python",
   "name": "python3"
  },
  "language_info": {
   "codemirror_mode": {
    "name": "ipython",
    "version": 3
   },
   "file_extension": ".py",
   "mimetype": "text/x-python",
   "name": "python",
   "nbconvert_exporter": "python",
   "pygments_lexer": "ipython3",
   "version": "3.10.18"
  }
 },
 "nbformat": 4,
 "nbformat_minor": 4
}
