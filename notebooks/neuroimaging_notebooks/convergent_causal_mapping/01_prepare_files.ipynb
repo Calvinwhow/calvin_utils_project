{
 "cells": [
  {
   "cell_type": "code",
   "execution_count": 12,
   "metadata": {},
   "outputs": [],
   "source": [
    "out_dir = '/Users/cu135/Partners HealthCare Dropbox/Calvin Howard/studies/cognition_2023/revisions/notebook01'"
   ]
  },
  {
   "cell_type": "markdown",
   "metadata": {},
   "source": [
    "# 01 - Get Datasets"
   ]
  },
  {
   "cell_type": "markdown",
   "metadata": {},
   "source": [
    "\n",
    "**Data will be Imported from a CSV which is expected to be in this format**\n",
    "- sub column contents MUST match the names of the neuroimaging files above. \n",
    "    - ID column \n",
    "```\n",
    "+-----+----------------------------+--------------+--------------+--------------+\n",
    "| sub | Nifti_File_Path            | Indep. Var.  | Covariate_N  | Dataset      |\n",
    "+-----+----------------------------+--------------+--------------+--------------+\n",
    "| 1   | /path/to/file1.nii.gz      | 0.5          | 1.2          | 1            |\n",
    "| 2   | /path/to/file2.nii.gz      | 0.7          | 1.4          | 1            |\n",
    "| 3   | /path/to/file3.nii.gz      | 0.6          | 1.5          | 2            |\n",
    "| 4   | /path/to/file4.nii.gz      | 0.9          | 1.1          | 3            |\n",
    "| ... | ...                        | ...          | ...          | ...          |\n",
    "+-----+----------------------------+--------------+--------------+--------------+\n",
    "```"
   ]
  },
  {
   "cell_type": "code",
   "execution_count": 13,
   "metadata": {},
   "outputs": [],
   "source": [
    "input_csv_path = '/Users/cu135/Partners HealthCare Dropbox/Calvin Howard/studies/cognition_2023/revisions/revisionsdata.csv'\n",
    "sheet = None # Set to None if CSV"
   ]
  },
  {
   "cell_type": "code",
   "execution_count": 14,
   "metadata": {},
   "outputs": [
    {
     "data": {
      "text/html": [
       "<div>\n",
       "<style scoped>\n",
       "    .dataframe tbody tr th:only-of-type {\n",
       "        vertical-align: middle;\n",
       "    }\n",
       "\n",
       "    .dataframe tbody tr th {\n",
       "        vertical-align: top;\n",
       "    }\n",
       "\n",
       "    .dataframe thead th {\n",
       "        text-align: right;\n",
       "    }\n",
       "</style>\n",
       "<table border=\"1\" class=\"dataframe\">\n",
       "  <thead>\n",
       "    <tr style=\"text-align: right;\">\n",
       "      <th></th>\n",
       "      <th>Dataset</th>\n",
       "      <th>Subject</th>\n",
       "      <th>Nifti_File_Path</th>\n",
       "      <th>age</th>\n",
       "      <th>z_scored_improvement</th>\n",
       "      <th>sbc_conn</th>\n",
       "      <th>sex</th>\n",
       "    </tr>\n",
       "  </thead>\n",
       "  <tbody>\n",
       "    <tr>\n",
       "      <th>0</th>\n",
       "      <td>AD Fornix DBS</td>\n",
       "      <td>1203</td>\n",
       "      <td>/Users/cu135/Partners HealthCare Dropbox/Calvi...</td>\n",
       "      <td>76</td>\n",
       "      <td>-72.607386</td>\n",
       "      <td>70.124471</td>\n",
       "      <td>m</td>\n",
       "    </tr>\n",
       "    <tr>\n",
       "      <th>1</th>\n",
       "      <td>AD Fornix DBS</td>\n",
       "      <td>1202</td>\n",
       "      <td>/Users/cu135/Partners HealthCare Dropbox/Calvi...</td>\n",
       "      <td>74</td>\n",
       "      <td>-1.529691</td>\n",
       "      <td>51.103184</td>\n",
       "      <td>m</td>\n",
       "    </tr>\n",
       "    <tr>\n",
       "      <th>2</th>\n",
       "      <td>AD Fornix DBS</td>\n",
       "      <td>1201</td>\n",
       "      <td>/Users/cu135/Partners HealthCare Dropbox/Calvi...</td>\n",
       "      <td>78</td>\n",
       "      <td>-6.416910</td>\n",
       "      <td>52.243723</td>\n",
       "      <td>m</td>\n",
       "    </tr>\n",
       "    <tr>\n",
       "      <th>3</th>\n",
       "      <td>AD Fornix DBS</td>\n",
       "      <td>150</td>\n",
       "      <td>/Users/cu135/Partners HealthCare Dropbox/Calvi...</td>\n",
       "      <td>71</td>\n",
       "      <td>14.362311</td>\n",
       "      <td>73.488381</td>\n",
       "      <td>m</td>\n",
       "    </tr>\n",
       "    <tr>\n",
       "      <th>4</th>\n",
       "      <td>AD Fornix DBS</td>\n",
       "      <td>149</td>\n",
       "      <td>/Users/cu135/Partners HealthCare Dropbox/Calvi...</td>\n",
       "      <td>77</td>\n",
       "      <td>-89.274052</td>\n",
       "      <td>62.007555</td>\n",
       "      <td>m</td>\n",
       "    </tr>\n",
       "    <tr>\n",
       "      <th>...</th>\n",
       "      <td>...</td>\n",
       "      <td>...</td>\n",
       "      <td>...</td>\n",
       "      <td>...</td>\n",
       "      <td>...</td>\n",
       "      <td>...</td>\n",
       "      <td>...</td>\n",
       "    </tr>\n",
       "    <tr>\n",
       "      <th>78</th>\n",
       "      <td>PD STN DBS</td>\n",
       "      <td>MDST05</td>\n",
       "      <td>NaN</td>\n",
       "      <td>60</td>\n",
       "      <td>0.503206</td>\n",
       "      <td>NaN</td>\n",
       "      <td>m</td>\n",
       "    </tr>\n",
       "    <tr>\n",
       "      <th>79</th>\n",
       "      <td>PD STN DBS</td>\n",
       "      <td>MDST04</td>\n",
       "      <td>/Users/cu135/Partners HealthCare Dropbox/Calvi...</td>\n",
       "      <td>50</td>\n",
       "      <td>-0.282257</td>\n",
       "      <td>21.207602</td>\n",
       "      <td>m</td>\n",
       "    </tr>\n",
       "    <tr>\n",
       "      <th>80</th>\n",
       "      <td>PD STN DBS</td>\n",
       "      <td>MDST03</td>\n",
       "      <td>/Users/cu135/Partners HealthCare Dropbox/Calvi...</td>\n",
       "      <td>62</td>\n",
       "      <td>-0.005890</td>\n",
       "      <td>30.900051</td>\n",
       "      <td>f</td>\n",
       "    </tr>\n",
       "    <tr>\n",
       "      <th>81</th>\n",
       "      <td>PD STN DBS</td>\n",
       "      <td>MDST02</td>\n",
       "      <td>/Users/cu135/Partners HealthCare Dropbox/Calvi...</td>\n",
       "      <td>50</td>\n",
       "      <td>1.294321</td>\n",
       "      <td>16.295870</td>\n",
       "      <td>f</td>\n",
       "    </tr>\n",
       "    <tr>\n",
       "      <th>82</th>\n",
       "      <td>PD STN DBS</td>\n",
       "      <td>MDST01</td>\n",
       "      <td>/Users/cu135/Partners HealthCare Dropbox/Calvi...</td>\n",
       "      <td>57</td>\n",
       "      <td>-1.576508</td>\n",
       "      <td>30.376565</td>\n",
       "      <td>m</td>\n",
       "    </tr>\n",
       "  </tbody>\n",
       "</table>\n",
       "<p>83 rows × 7 columns</p>\n",
       "</div>"
      ],
      "text/plain": [
       "          Dataset Subject                                    Nifti_File_Path  \\\n",
       "0   AD Fornix DBS    1203  /Users/cu135/Partners HealthCare Dropbox/Calvi...   \n",
       "1   AD Fornix DBS    1202  /Users/cu135/Partners HealthCare Dropbox/Calvi...   \n",
       "2   AD Fornix DBS    1201  /Users/cu135/Partners HealthCare Dropbox/Calvi...   \n",
       "3   AD Fornix DBS     150  /Users/cu135/Partners HealthCare Dropbox/Calvi...   \n",
       "4   AD Fornix DBS     149  /Users/cu135/Partners HealthCare Dropbox/Calvi...   \n",
       "..            ...     ...                                                ...   \n",
       "78     PD STN DBS  MDST05                                                NaN   \n",
       "79     PD STN DBS  MDST04  /Users/cu135/Partners HealthCare Dropbox/Calvi...   \n",
       "80     PD STN DBS  MDST03  /Users/cu135/Partners HealthCare Dropbox/Calvi...   \n",
       "81     PD STN DBS  MDST02  /Users/cu135/Partners HealthCare Dropbox/Calvi...   \n",
       "82     PD STN DBS  MDST01  /Users/cu135/Partners HealthCare Dropbox/Calvi...   \n",
       "\n",
       "    age  z_scored_improvement   sbc_conn sex  \n",
       "0    76            -72.607386  70.124471   m  \n",
       "1    74             -1.529691  51.103184   m  \n",
       "2    78             -6.416910  52.243723   m  \n",
       "3    71             14.362311  73.488381   m  \n",
       "4    77            -89.274052  62.007555   m  \n",
       "..  ...                   ...        ...  ..  \n",
       "78   60              0.503206        NaN   m  \n",
       "79   50             -0.282257  21.207602   m  \n",
       "80   62             -0.005890  30.900051   f  \n",
       "81   50              1.294321  16.295870   f  \n",
       "82   57             -1.576508  30.376565   m  \n",
       "\n",
       "[83 rows x 7 columns]"
      ]
     },
     "metadata": {},
     "output_type": "display_data"
    }
   ],
   "source": [
    "from calvin_utils.permutation_analysis_utils.statsmodels_palm import CalvinStatsmodelsPalm\n",
    "# Instantiate the PalmPrepararation class\n",
    "cal_palm = CalvinStatsmodelsPalm(input_csv_path=input_csv_path, output_dir=out_dir, sheet=sheet)\n",
    "# Call the process_nifti_paths method\n",
    "data_df = cal_palm.read_and_display_data()\n",
    "display(data_df)"
   ]
  },
  {
   "cell_type": "code",
   "execution_count": 15,
   "metadata": {},
   "outputs": [
    {
     "data": {
      "text/plain": [
       "Index(['Dataset', 'Subject', 'Nifti_File_Path', 'age', 'z_scored_improvement',\n",
       "       'sbc_conn', 'sex'],\n",
       "      dtype='object')"
      ]
     },
     "execution_count": 15,
     "metadata": {},
     "output_type": "execute_result"
    }
   ],
   "source": [
    "data_df.columns"
   ]
  },
  {
   "cell_type": "markdown",
   "metadata": {},
   "source": [
    "**Handle NANs**\n",
    "- Set drop_nans=True is you would like to remove NaNs from data\n",
    "- Provide a column name or a list of column names to remove NaNs from"
   ]
  },
  {
   "cell_type": "code",
   "execution_count": 16,
   "metadata": {},
   "outputs": [],
   "source": [
    "drop_list = ['Nifti_File_Path', 'age']"
   ]
  },
  {
   "cell_type": "code",
   "execution_count": 17,
   "metadata": {},
   "outputs": [
    {
     "data": {
      "text/html": [
       "<div>\n",
       "<style scoped>\n",
       "    .dataframe tbody tr th:only-of-type {\n",
       "        vertical-align: middle;\n",
       "    }\n",
       "\n",
       "    .dataframe tbody tr th {\n",
       "        vertical-align: top;\n",
       "    }\n",
       "\n",
       "    .dataframe thead th {\n",
       "        text-align: right;\n",
       "    }\n",
       "</style>\n",
       "<table border=\"1\" class=\"dataframe\">\n",
       "  <thead>\n",
       "    <tr style=\"text-align: right;\">\n",
       "      <th></th>\n",
       "      <th>Dataset</th>\n",
       "      <th>Subject</th>\n",
       "      <th>Nifti_File_Path</th>\n",
       "      <th>age</th>\n",
       "      <th>z_scored_improvement</th>\n",
       "      <th>sbc_conn</th>\n",
       "      <th>sex</th>\n",
       "    </tr>\n",
       "  </thead>\n",
       "  <tbody>\n",
       "    <tr>\n",
       "      <th>0</th>\n",
       "      <td>AD Fornix DBS</td>\n",
       "      <td>1203</td>\n",
       "      <td>/Users/cu135/Partners HealthCare Dropbox/Calvi...</td>\n",
       "      <td>76</td>\n",
       "      <td>-72.607386</td>\n",
       "      <td>70.124471</td>\n",
       "      <td>m</td>\n",
       "    </tr>\n",
       "    <tr>\n",
       "      <th>1</th>\n",
       "      <td>AD Fornix DBS</td>\n",
       "      <td>1202</td>\n",
       "      <td>/Users/cu135/Partners HealthCare Dropbox/Calvi...</td>\n",
       "      <td>74</td>\n",
       "      <td>-1.529691</td>\n",
       "      <td>51.103184</td>\n",
       "      <td>m</td>\n",
       "    </tr>\n",
       "    <tr>\n",
       "      <th>2</th>\n",
       "      <td>AD Fornix DBS</td>\n",
       "      <td>1201</td>\n",
       "      <td>/Users/cu135/Partners HealthCare Dropbox/Calvi...</td>\n",
       "      <td>78</td>\n",
       "      <td>-6.416910</td>\n",
       "      <td>52.243723</td>\n",
       "      <td>m</td>\n",
       "    </tr>\n",
       "    <tr>\n",
       "      <th>3</th>\n",
       "      <td>AD Fornix DBS</td>\n",
       "      <td>150</td>\n",
       "      <td>/Users/cu135/Partners HealthCare Dropbox/Calvi...</td>\n",
       "      <td>71</td>\n",
       "      <td>14.362311</td>\n",
       "      <td>73.488381</td>\n",
       "      <td>m</td>\n",
       "    </tr>\n",
       "    <tr>\n",
       "      <th>4</th>\n",
       "      <td>AD Fornix DBS</td>\n",
       "      <td>149</td>\n",
       "      <td>/Users/cu135/Partners HealthCare Dropbox/Calvi...</td>\n",
       "      <td>77</td>\n",
       "      <td>-89.274052</td>\n",
       "      <td>62.007555</td>\n",
       "      <td>m</td>\n",
       "    </tr>\n",
       "    <tr>\n",
       "      <th>...</th>\n",
       "      <td>...</td>\n",
       "      <td>...</td>\n",
       "      <td>...</td>\n",
       "      <td>...</td>\n",
       "      <td>...</td>\n",
       "      <td>...</td>\n",
       "      <td>...</td>\n",
       "    </tr>\n",
       "    <tr>\n",
       "      <th>77</th>\n",
       "      <td>PD STN DBS</td>\n",
       "      <td>MDST06</td>\n",
       "      <td>/Users/cu135/Partners HealthCare Dropbox/Calvi...</td>\n",
       "      <td>60</td>\n",
       "      <td>0.245073</td>\n",
       "      <td>23.577739</td>\n",
       "      <td>m</td>\n",
       "    </tr>\n",
       "    <tr>\n",
       "      <th>79</th>\n",
       "      <td>PD STN DBS</td>\n",
       "      <td>MDST04</td>\n",
       "      <td>/Users/cu135/Partners HealthCare Dropbox/Calvi...</td>\n",
       "      <td>50</td>\n",
       "      <td>-0.282257</td>\n",
       "      <td>21.207602</td>\n",
       "      <td>m</td>\n",
       "    </tr>\n",
       "    <tr>\n",
       "      <th>80</th>\n",
       "      <td>PD STN DBS</td>\n",
       "      <td>MDST03</td>\n",
       "      <td>/Users/cu135/Partners HealthCare Dropbox/Calvi...</td>\n",
       "      <td>62</td>\n",
       "      <td>-0.005890</td>\n",
       "      <td>30.900051</td>\n",
       "      <td>f</td>\n",
       "    </tr>\n",
       "    <tr>\n",
       "      <th>81</th>\n",
       "      <td>PD STN DBS</td>\n",
       "      <td>MDST02</td>\n",
       "      <td>/Users/cu135/Partners HealthCare Dropbox/Calvi...</td>\n",
       "      <td>50</td>\n",
       "      <td>1.294321</td>\n",
       "      <td>16.295870</td>\n",
       "      <td>f</td>\n",
       "    </tr>\n",
       "    <tr>\n",
       "      <th>82</th>\n",
       "      <td>PD STN DBS</td>\n",
       "      <td>MDST01</td>\n",
       "      <td>/Users/cu135/Partners HealthCare Dropbox/Calvi...</td>\n",
       "      <td>57</td>\n",
       "      <td>-1.576508</td>\n",
       "      <td>30.376565</td>\n",
       "      <td>m</td>\n",
       "    </tr>\n",
       "  </tbody>\n",
       "</table>\n",
       "<p>75 rows × 7 columns</p>\n",
       "</div>"
      ],
      "text/plain": [
       "          Dataset Subject                                    Nifti_File_Path  \\\n",
       "0   AD Fornix DBS    1203  /Users/cu135/Partners HealthCare Dropbox/Calvi...   \n",
       "1   AD Fornix DBS    1202  /Users/cu135/Partners HealthCare Dropbox/Calvi...   \n",
       "2   AD Fornix DBS    1201  /Users/cu135/Partners HealthCare Dropbox/Calvi...   \n",
       "3   AD Fornix DBS     150  /Users/cu135/Partners HealthCare Dropbox/Calvi...   \n",
       "4   AD Fornix DBS     149  /Users/cu135/Partners HealthCare Dropbox/Calvi...   \n",
       "..            ...     ...                                                ...   \n",
       "77     PD STN DBS  MDST06  /Users/cu135/Partners HealthCare Dropbox/Calvi...   \n",
       "79     PD STN DBS  MDST04  /Users/cu135/Partners HealthCare Dropbox/Calvi...   \n",
       "80     PD STN DBS  MDST03  /Users/cu135/Partners HealthCare Dropbox/Calvi...   \n",
       "81     PD STN DBS  MDST02  /Users/cu135/Partners HealthCare Dropbox/Calvi...   \n",
       "82     PD STN DBS  MDST01  /Users/cu135/Partners HealthCare Dropbox/Calvi...   \n",
       "\n",
       "    age  z_scored_improvement   sbc_conn sex  \n",
       "0    76            -72.607386  70.124471   m  \n",
       "1    74             -1.529691  51.103184   m  \n",
       "2    78             -6.416910  52.243723   m  \n",
       "3    71             14.362311  73.488381   m  \n",
       "4    77            -89.274052  62.007555   m  \n",
       "..  ...                   ...        ...  ..  \n",
       "77   60              0.245073  23.577739   m  \n",
       "79   50             -0.282257  21.207602   m  \n",
       "80   62             -0.005890  30.900051   f  \n",
       "81   50              1.294321  16.295870   f  \n",
       "82   57             -1.576508  30.376565   m  \n",
       "\n",
       "[75 rows x 7 columns]"
      ]
     },
     "metadata": {},
     "output_type": "display_data"
    }
   ],
   "source": [
    "data_df = cal_palm.drop_nans_from_columns(columns_to_drop_from=drop_list)\n",
    "display(data_df)"
   ]
  },
  {
   "cell_type": "code",
   "execution_count": 18,
   "metadata": {},
   "outputs": [
    {
     "name": "stdout",
     "output_type": "stream",
     "text": [
      "Dataset\n",
      "AD Fornix DBS    49\n",
      "PD STN DBS       26\n",
      "Name: count, dtype: int64\n"
     ]
    }
   ],
   "source": [
    "dataset_counts = data_df['Dataset'].value_counts()\n",
    "print(dataset_counts)"
   ]
  },
  {
   "cell_type": "markdown",
   "metadata": {},
   "source": [
    "**Drop Row Based on Value of Column**\n",
    "\n",
    "Define the column, condition, and value for dropping rows\n",
    "- column = 'your_column_name'\n",
    "- condition = 'above'  # Options: 'equal', 'above', 'below'"
   ]
  },
  {
   "cell_type": "code",
   "execution_count": 19,
   "metadata": {},
   "outputs": [],
   "source": [
    "# column = 'Dataset'\n",
    "# condition = 'equal'\n",
    "# value = 'adni_Normal'"
   ]
  },
  {
   "cell_type": "code",
   "execution_count": 20,
   "metadata": {},
   "outputs": [],
   "source": [
    "# data_df, other_df = cal_palm.drop_rows_based_on_value(column, condition, value)\n",
    "# data_df"
   ]
  },
  {
   "cell_type": "markdown",
   "metadata": {},
   "source": [
    "# 02 - Import the Data into DataFrames, Control them, and Save them"
   ]
  },
  {
   "cell_type": "code",
   "execution_count": 21,
   "metadata": {},
   "outputs": [],
   "source": [
    "dataset_col = 'Dataset'\n",
    "nifti_path_col = 'Nifti_File_Path'\n",
    "indep_var_col = 'z_scored_improvement'\n",
    "covariate_cols = ['age', 'sex', 'sbc_conn']"
   ]
  },
  {
   "cell_type": "markdown",
   "metadata": {},
   "source": [
    "Prepare the data\n",
    "- save the path to the JSON file created in your out_dir. This will be the basis of your further analyses"
   ]
  },
  {
   "cell_type": "code",
   "execution_count": 22,
   "metadata": {},
   "outputs": [
    {
     "name": "stdout",
     "output_type": "stream",
     "text": [
      "Importing dataset:  AD Fornix DBS\n",
      "(49, 155745) (49, 1) (49, 4)\n",
      "Importing dataset:  PD STN DBS\n",
      "(26, 155745) (26, 1) (26, 4)\n",
      "Dataset dictionary saved to: /Users/cu135/Partners HealthCare Dropbox/Calvin Howard/studies/cognition_2023/revisions/notebook01/tmp/dataset_dict.json\n"
     ]
    }
   ],
   "source": [
    "from calvin_utils.ccm_utils.nifti_utils import DatasetNiftiImporter\n",
    "data_importer = DatasetNiftiImporter(df=data_df, dataset_col=dataset_col, nifti_col=nifti_path_col, \n",
    "                                     indep_var_col=indep_var_col, covariate_cols=covariate_cols, \n",
    "                                     out_dir=out_dir, \n",
    "                                     mask_path='/Users/cu135/hires_backdrops/MNI/mni_icbm152_t1_cortex_2mm.nii',\n",
    "                                     regression_method=None,\n",
    "                                     data_transform_method=None)\n",
    "data_importer.package_data()"
   ]
  },
  {
   "cell_type": "code",
   "execution_count": null,
   "metadata": {},
   "outputs": [],
   "source": []
  }
 ],
 "metadata": {
  "kernelspec": {
   "display_name": "Python_3.7.7_nimlab",
   "language": "python",
   "name": "python3"
  },
  "language_info": {
   "codemirror_mode": {
    "name": "ipython",
    "version": 3
   },
   "file_extension": ".py",
   "mimetype": "text/x-python",
   "name": "python",
   "nbconvert_exporter": "python",
   "pygments_lexer": "ipython3",
   "version": "3.11.10"
  }
 },
 "nbformat": 4,
 "nbformat_minor": 2
}
