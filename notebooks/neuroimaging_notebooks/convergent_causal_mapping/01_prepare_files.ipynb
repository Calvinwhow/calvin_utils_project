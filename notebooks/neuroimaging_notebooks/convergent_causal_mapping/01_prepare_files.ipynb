{
 "cells": [
  {
   "cell_type": "code",
   "execution_count": 42,
   "metadata": {},
   "outputs": [],
   "source": [
    "out_dir = '/Users/cu135/Partners HealthCare Dropbox/Calvin Howard/studies/ccm_memory/results/notebook_01'"
   ]
  },
  {
   "cell_type": "markdown",
   "metadata": {},
   "source": [
    "# 01 - Get Datasets"
   ]
  },
  {
   "cell_type": "markdown",
   "metadata": {},
   "source": [
    "\n",
    "**Data will be Imported from a CSV which is expected to be in this format**\n",
    "- sub column contents MUST match the names of the neuroimaging files above. \n",
    "    - ID column \n",
    "```\n",
    "+-----+----------------------------+--------------+--------------+--------------+\n",
    "| sub | Nifti_File_Path            | Indep. Var.  | Covariate_N  | Dataset      |\n",
    "+-----+----------------------------+--------------+--------------+--------------+\n",
    "| 1   | /path/to/file1.nii.gz      | 0.5          | 1.2          | 1            |\n",
    "| 2   | /path/to/file2.nii.gz      | 0.7          | 1.4          | 1            |\n",
    "| 3   | /path/to/file3.nii.gz      | 0.6          | 1.5          | 2            |\n",
    "| 4   | /path/to/file4.nii.gz      | 0.9          | 1.1          | 3            |\n",
    "| ... | ...                        | ...          | ...          | ...          |\n",
    "+-----+----------------------------+--------------+--------------+--------------+\n",
    "```"
   ]
  },
  {
   "cell_type": "code",
   "execution_count": 43,
   "metadata": {},
   "outputs": [],
   "source": [
    "input_csv_path = '/Users/cu135/Partners HealthCare Dropbox/Calvin Howard/studies/ccm_memory/results/notebook_00/master_list_v2.csv'\n",
    "sheet = None # Set to None if CSV"
   ]
  },
  {
   "cell_type": "code",
   "execution_count": 44,
   "metadata": {},
   "outputs": [
    {
     "data": {
      "text/html": [
       "<div>\n",
       "<style scoped>\n",
       "    .dataframe tbody tr th:only-of-type {\n",
       "        vertical-align: middle;\n",
       "    }\n",
       "\n",
       "    .dataframe tbody tr th {\n",
       "        vertical-align: top;\n",
       "    }\n",
       "\n",
       "    .dataframe thead th {\n",
       "        text-align: right;\n",
       "    }\n",
       "</style>\n",
       "<table border=\"1\" class=\"dataframe\">\n",
       "  <thead>\n",
       "    <tr style=\"text-align: right;\">\n",
       "      <th></th>\n",
       "      <th>Dataset</th>\n",
       "      <th>Subject</th>\n",
       "      <th>Nifti_File_Path</th>\n",
       "      <th>age</th>\n",
       "      <th>sex</th>\n",
       "      <th>diagnosis</th>\n",
       "      <th>overall_cognition</th>\n",
       "      <th>lesion_size</th>\n",
       "      <th>memory_target</th>\n",
       "      <th>percent_decline_memory</th>\n",
       "      <th>baseline_memory</th>\n",
       "      <th>var_1yr_memory</th>\n",
       "      <th>ses</th>\n",
       "    </tr>\n",
       "  </thead>\n",
       "  <tbody>\n",
       "    <tr>\n",
       "      <th>0</th>\n",
       "      <td>adni_memory_Alzheimer</td>\n",
       "      <td>002_S_0619</td>\n",
       "      <td>/Volumes/OneTouch/datasets/adni/neuroimaging/a...</td>\n",
       "      <td>77.51232877</td>\n",
       "      <td>NaN</td>\n",
       "      <td>Alzheimer</td>\n",
       "      <td>19.33</td>\n",
       "      <td>NaN</td>\n",
       "      <td>10</td>\n",
       "      <td>100</td>\n",
       "      <td>NaN</td>\n",
       "      <td>NaN</td>\n",
       "      <td>NaN</td>\n",
       "    </tr>\n",
       "    <tr>\n",
       "      <th>1</th>\n",
       "      <td>adni_memory_Alzheimer</td>\n",
       "      <td>002_S_0729</td>\n",
       "      <td>/Volumes/OneTouch/datasets/adni/neuroimaging/a...</td>\n",
       "      <td>65.22465753</td>\n",
       "      <td>NaN</td>\n",
       "      <td>Alzheimer</td>\n",
       "      <td>6.67</td>\n",
       "      <td>NaN</td>\n",
       "      <td>8</td>\n",
       "      <td>80</td>\n",
       "      <td>NaN</td>\n",
       "      <td>NaN</td>\n",
       "      <td>NaN</td>\n",
       "    </tr>\n",
       "    <tr>\n",
       "      <th>2</th>\n",
       "      <td>adni_memory_Alzheimer</td>\n",
       "      <td>002_S_0816</td>\n",
       "      <td>/Volumes/OneTouch/datasets/adni/neuroimaging/a...</td>\n",
       "      <td>70.83835616</td>\n",
       "      <td>F</td>\n",
       "      <td>Alzheimer</td>\n",
       "      <td>16</td>\n",
       "      <td>NaN</td>\n",
       "      <td>8</td>\n",
       "      <td>80</td>\n",
       "      <td>NaN</td>\n",
       "      <td>NaN</td>\n",
       "      <td>NaN</td>\n",
       "    </tr>\n",
       "    <tr>\n",
       "      <th>3</th>\n",
       "      <td>adni_memory_Alzheimer</td>\n",
       "      <td>002_S_0938</td>\n",
       "      <td>/Volumes/OneTouch/datasets/adni/neuroimaging/a...</td>\n",
       "      <td>82.27671233</td>\n",
       "      <td>F</td>\n",
       "      <td>Alzheimer</td>\n",
       "      <td>21.67</td>\n",
       "      <td>NaN</td>\n",
       "      <td>10</td>\n",
       "      <td>100</td>\n",
       "      <td>NaN</td>\n",
       "      <td>NaN</td>\n",
       "      <td>NaN</td>\n",
       "    </tr>\n",
       "    <tr>\n",
       "      <th>4</th>\n",
       "      <td>adni_memory_Alzheimer</td>\n",
       "      <td>002_S_0954</td>\n",
       "      <td>/Volumes/OneTouch/datasets/adni/neuroimaging/a...</td>\n",
       "      <td>69.45205479</td>\n",
       "      <td>NaN</td>\n",
       "      <td>Alzheimer</td>\n",
       "      <td>10.67</td>\n",
       "      <td>NaN</td>\n",
       "      <td>9</td>\n",
       "      <td>90</td>\n",
       "      <td>NaN</td>\n",
       "      <td>NaN</td>\n",
       "      <td>NaN</td>\n",
       "    </tr>\n",
       "    <tr>\n",
       "      <th>...</th>\n",
       "      <td>...</td>\n",
       "      <td>...</td>\n",
       "      <td>...</td>\n",
       "      <td>...</td>\n",
       "      <td>...</td>\n",
       "      <td>...</td>\n",
       "      <td>...</td>\n",
       "      <td>...</td>\n",
       "      <td>...</td>\n",
       "      <td>...</td>\n",
       "      <td>...</td>\n",
       "      <td>...</td>\n",
       "      <td>...</td>\n",
       "    </tr>\n",
       "    <tr>\n",
       "      <th>3515</th>\n",
       "      <td>wang_tms</td>\n",
       "      <td>CNDR014</td>\n",
       "      <td>/Volumes/Expansion/datasets/VOSS_STUDIES_TMS/W...</td>\n",
       "      <td>NaN</td>\n",
       "      <td>NaN</td>\n",
       "      <td>unknown</td>\n",
       "      <td>NaN</td>\n",
       "      <td>NaN</td>\n",
       "      <td>-0.142857143</td>\n",
       "      <td>NaN</td>\n",
       "      <td>NaN</td>\n",
       "      <td>NaN</td>\n",
       "      <td>NaN</td>\n",
       "    </tr>\n",
       "    <tr>\n",
       "      <th>3516</th>\n",
       "      <td>wang_tms</td>\n",
       "      <td>CNDR019</td>\n",
       "      <td>/Volumes/Expansion/datasets/VOSS_STUDIES_TMS/W...</td>\n",
       "      <td>NaN</td>\n",
       "      <td>NaN</td>\n",
       "      <td>unknown</td>\n",
       "      <td>NaN</td>\n",
       "      <td>NaN</td>\n",
       "      <td>0.2</td>\n",
       "      <td>NaN</td>\n",
       "      <td>NaN</td>\n",
       "      <td>NaN</td>\n",
       "      <td>NaN</td>\n",
       "    </tr>\n",
       "    <tr>\n",
       "      <th>3517</th>\n",
       "      <td>wang_tms</td>\n",
       "      <td>CNDR020</td>\n",
       "      <td>/Volumes/Expansion/datasets/VOSS_STUDIES_TMS/W...</td>\n",
       "      <td>NaN</td>\n",
       "      <td>NaN</td>\n",
       "      <td>unknown</td>\n",
       "      <td>NaN</td>\n",
       "      <td>NaN</td>\n",
       "      <td>0.25</td>\n",
       "      <td>NaN</td>\n",
       "      <td>NaN</td>\n",
       "      <td>NaN</td>\n",
       "      <td>NaN</td>\n",
       "    </tr>\n",
       "    <tr>\n",
       "      <th>3518</th>\n",
       "      <td>wang_tms</td>\n",
       "      <td>CNDR021</td>\n",
       "      <td>/Volumes/Expansion/datasets/VOSS_STUDIES_TMS/W...</td>\n",
       "      <td>NaN</td>\n",
       "      <td>NaN</td>\n",
       "      <td>unknown</td>\n",
       "      <td>NaN</td>\n",
       "      <td>NaN</td>\n",
       "      <td>0</td>\n",
       "      <td>NaN</td>\n",
       "      <td>NaN</td>\n",
       "      <td>NaN</td>\n",
       "      <td>NaN</td>\n",
       "    </tr>\n",
       "    <tr>\n",
       "      <th>3519</th>\n",
       "      <td>wang_tms</td>\n",
       "      <td>CNDR022</td>\n",
       "      <td>/Volumes/Expansion/datasets/VOSS_STUDIES_TMS/W...</td>\n",
       "      <td>NaN</td>\n",
       "      <td>NaN</td>\n",
       "      <td>unknown</td>\n",
       "      <td>NaN</td>\n",
       "      <td>NaN</td>\n",
       "      <td>0.333333333</td>\n",
       "      <td>NaN</td>\n",
       "      <td>NaN</td>\n",
       "      <td>NaN</td>\n",
       "      <td>NaN</td>\n",
       "    </tr>\n",
       "  </tbody>\n",
       "</table>\n",
       "<p>3520 rows × 13 columns</p>\n",
       "</div>"
      ],
      "text/plain": [
       "                    Dataset     Subject  \\\n",
       "0     adni_memory_Alzheimer  002_S_0619   \n",
       "1     adni_memory_Alzheimer  002_S_0729   \n",
       "2     adni_memory_Alzheimer  002_S_0816   \n",
       "3     adni_memory_Alzheimer  002_S_0938   \n",
       "4     adni_memory_Alzheimer  002_S_0954   \n",
       "...                     ...         ...   \n",
       "3515               wang_tms     CNDR014   \n",
       "3516               wang_tms     CNDR019   \n",
       "3517               wang_tms     CNDR020   \n",
       "3518               wang_tms     CNDR021   \n",
       "3519               wang_tms     CNDR022   \n",
       "\n",
       "                                        Nifti_File_Path          age  sex  \\\n",
       "0     /Volumes/OneTouch/datasets/adni/neuroimaging/a...  77.51232877  NaN   \n",
       "1     /Volumes/OneTouch/datasets/adni/neuroimaging/a...  65.22465753  NaN   \n",
       "2     /Volumes/OneTouch/datasets/adni/neuroimaging/a...  70.83835616    F   \n",
       "3     /Volumes/OneTouch/datasets/adni/neuroimaging/a...  82.27671233    F   \n",
       "4     /Volumes/OneTouch/datasets/adni/neuroimaging/a...  69.45205479  NaN   \n",
       "...                                                 ...          ...  ...   \n",
       "3515  /Volumes/Expansion/datasets/VOSS_STUDIES_TMS/W...          NaN  NaN   \n",
       "3516  /Volumes/Expansion/datasets/VOSS_STUDIES_TMS/W...          NaN  NaN   \n",
       "3517  /Volumes/Expansion/datasets/VOSS_STUDIES_TMS/W...          NaN  NaN   \n",
       "3518  /Volumes/Expansion/datasets/VOSS_STUDIES_TMS/W...          NaN  NaN   \n",
       "3519  /Volumes/Expansion/datasets/VOSS_STUDIES_TMS/W...          NaN  NaN   \n",
       "\n",
       "      diagnosis overall_cognition  lesion_size memory_target  \\\n",
       "0     Alzheimer             19.33          NaN            10   \n",
       "1     Alzheimer              6.67          NaN             8   \n",
       "2     Alzheimer                16          NaN             8   \n",
       "3     Alzheimer             21.67          NaN            10   \n",
       "4     Alzheimer             10.67          NaN             9   \n",
       "...         ...               ...          ...           ...   \n",
       "3515    unknown               NaN          NaN  -0.142857143   \n",
       "3516    unknown               NaN          NaN           0.2   \n",
       "3517    unknown               NaN          NaN          0.25   \n",
       "3518    unknown               NaN          NaN             0   \n",
       "3519    unknown               NaN          NaN   0.333333333   \n",
       "\n",
       "     percent_decline_memory baseline_memory var_1yr_memory  ses  \n",
       "0                       100             NaN            NaN  NaN  \n",
       "1                        80             NaN            NaN  NaN  \n",
       "2                        80             NaN            NaN  NaN  \n",
       "3                       100             NaN            NaN  NaN  \n",
       "4                        90             NaN            NaN  NaN  \n",
       "...                     ...             ...            ...  ...  \n",
       "3515                    NaN             NaN            NaN  NaN  \n",
       "3516                    NaN             NaN            NaN  NaN  \n",
       "3517                    NaN             NaN            NaN  NaN  \n",
       "3518                    NaN             NaN            NaN  NaN  \n",
       "3519                    NaN             NaN            NaN  NaN  \n",
       "\n",
       "[3520 rows x 13 columns]"
      ]
     },
     "metadata": {},
     "output_type": "display_data"
    }
   ],
   "source": [
    "from calvin_utils.permutation_analysis_utils.statsmodels_palm import CalvinStatsmodelsPalm\n",
    "# Instantiate the PalmPrepararation class\n",
    "cal_palm = CalvinStatsmodelsPalm(input_csv_path=input_csv_path, output_dir=out_dir, sheet=sheet)\n",
    "# Call the process_nifti_paths method\n",
    "data_df = cal_palm.read_and_display_data()\n",
    "display(data_df)"
   ]
  },
  {
   "cell_type": "markdown",
   "metadata": {},
   "source": [
    "**Handle NANs**\n",
    "- Set drop_nans=True is you would like to remove NaNs from data\n",
    "- Provide a column name or a list of column names to remove NaNs from"
   ]
  },
  {
   "cell_type": "code",
   "execution_count": 45,
   "metadata": {},
   "outputs": [],
   "source": [
    "drop_list = ['Nifti_File_Path', 'memory_target', 'diagnosis']"
   ]
  },
  {
   "cell_type": "code",
   "execution_count": 46,
   "metadata": {},
   "outputs": [
    {
     "data": {
      "text/html": [
       "<div>\n",
       "<style scoped>\n",
       "    .dataframe tbody tr th:only-of-type {\n",
       "        vertical-align: middle;\n",
       "    }\n",
       "\n",
       "    .dataframe tbody tr th {\n",
       "        vertical-align: top;\n",
       "    }\n",
       "\n",
       "    .dataframe thead th {\n",
       "        text-align: right;\n",
       "    }\n",
       "</style>\n",
       "<table border=\"1\" class=\"dataframe\">\n",
       "  <thead>\n",
       "    <tr style=\"text-align: right;\">\n",
       "      <th></th>\n",
       "      <th>Dataset</th>\n",
       "      <th>Subject</th>\n",
       "      <th>Nifti_File_Path</th>\n",
       "      <th>age</th>\n",
       "      <th>sex</th>\n",
       "      <th>diagnosis</th>\n",
       "      <th>overall_cognition</th>\n",
       "      <th>lesion_size</th>\n",
       "      <th>memory_target</th>\n",
       "      <th>percent_decline_memory</th>\n",
       "      <th>baseline_memory</th>\n",
       "      <th>var_1yr_memory</th>\n",
       "      <th>ses</th>\n",
       "    </tr>\n",
       "  </thead>\n",
       "  <tbody>\n",
       "    <tr>\n",
       "      <th>0</th>\n",
       "      <td>adni_memory_Alzheimer</td>\n",
       "      <td>002_S_0619</td>\n",
       "      <td>/Volumes/OneTouch/datasets/adni/neuroimaging/a...</td>\n",
       "      <td>77.51232877</td>\n",
       "      <td>NaN</td>\n",
       "      <td>Alzheimer</td>\n",
       "      <td>19.33</td>\n",
       "      <td>NaN</td>\n",
       "      <td>10</td>\n",
       "      <td>100</td>\n",
       "      <td>NaN</td>\n",
       "      <td>NaN</td>\n",
       "      <td>NaN</td>\n",
       "    </tr>\n",
       "    <tr>\n",
       "      <th>1</th>\n",
       "      <td>adni_memory_Alzheimer</td>\n",
       "      <td>002_S_0729</td>\n",
       "      <td>/Volumes/OneTouch/datasets/adni/neuroimaging/a...</td>\n",
       "      <td>65.22465753</td>\n",
       "      <td>NaN</td>\n",
       "      <td>Alzheimer</td>\n",
       "      <td>6.67</td>\n",
       "      <td>NaN</td>\n",
       "      <td>8</td>\n",
       "      <td>80</td>\n",
       "      <td>NaN</td>\n",
       "      <td>NaN</td>\n",
       "      <td>NaN</td>\n",
       "    </tr>\n",
       "    <tr>\n",
       "      <th>2</th>\n",
       "      <td>adni_memory_Alzheimer</td>\n",
       "      <td>002_S_0816</td>\n",
       "      <td>/Volumes/OneTouch/datasets/adni/neuroimaging/a...</td>\n",
       "      <td>70.83835616</td>\n",
       "      <td>F</td>\n",
       "      <td>Alzheimer</td>\n",
       "      <td>16</td>\n",
       "      <td>NaN</td>\n",
       "      <td>8</td>\n",
       "      <td>80</td>\n",
       "      <td>NaN</td>\n",
       "      <td>NaN</td>\n",
       "      <td>NaN</td>\n",
       "    </tr>\n",
       "    <tr>\n",
       "      <th>3</th>\n",
       "      <td>adni_memory_Alzheimer</td>\n",
       "      <td>002_S_0938</td>\n",
       "      <td>/Volumes/OneTouch/datasets/adni/neuroimaging/a...</td>\n",
       "      <td>82.27671233</td>\n",
       "      <td>F</td>\n",
       "      <td>Alzheimer</td>\n",
       "      <td>21.67</td>\n",
       "      <td>NaN</td>\n",
       "      <td>10</td>\n",
       "      <td>100</td>\n",
       "      <td>NaN</td>\n",
       "      <td>NaN</td>\n",
       "      <td>NaN</td>\n",
       "    </tr>\n",
       "    <tr>\n",
       "      <th>4</th>\n",
       "      <td>adni_memory_Alzheimer</td>\n",
       "      <td>002_S_0954</td>\n",
       "      <td>/Volumes/OneTouch/datasets/adni/neuroimaging/a...</td>\n",
       "      <td>69.45205479</td>\n",
       "      <td>NaN</td>\n",
       "      <td>Alzheimer</td>\n",
       "      <td>10.67</td>\n",
       "      <td>NaN</td>\n",
       "      <td>9</td>\n",
       "      <td>90</td>\n",
       "      <td>NaN</td>\n",
       "      <td>NaN</td>\n",
       "      <td>NaN</td>\n",
       "    </tr>\n",
       "    <tr>\n",
       "      <th>...</th>\n",
       "      <td>...</td>\n",
       "      <td>...</td>\n",
       "      <td>...</td>\n",
       "      <td>...</td>\n",
       "      <td>...</td>\n",
       "      <td>...</td>\n",
       "      <td>...</td>\n",
       "      <td>...</td>\n",
       "      <td>...</td>\n",
       "      <td>...</td>\n",
       "      <td>...</td>\n",
       "      <td>...</td>\n",
       "      <td>...</td>\n",
       "    </tr>\n",
       "    <tr>\n",
       "      <th>3515</th>\n",
       "      <td>wang_tms</td>\n",
       "      <td>CNDR014</td>\n",
       "      <td>/Volumes/Expansion/datasets/VOSS_STUDIES_TMS/W...</td>\n",
       "      <td>NaN</td>\n",
       "      <td>NaN</td>\n",
       "      <td>unknown</td>\n",
       "      <td>NaN</td>\n",
       "      <td>NaN</td>\n",
       "      <td>-0.142857143</td>\n",
       "      <td>NaN</td>\n",
       "      <td>NaN</td>\n",
       "      <td>NaN</td>\n",
       "      <td>NaN</td>\n",
       "    </tr>\n",
       "    <tr>\n",
       "      <th>3516</th>\n",
       "      <td>wang_tms</td>\n",
       "      <td>CNDR019</td>\n",
       "      <td>/Volumes/Expansion/datasets/VOSS_STUDIES_TMS/W...</td>\n",
       "      <td>NaN</td>\n",
       "      <td>NaN</td>\n",
       "      <td>unknown</td>\n",
       "      <td>NaN</td>\n",
       "      <td>NaN</td>\n",
       "      <td>0.2</td>\n",
       "      <td>NaN</td>\n",
       "      <td>NaN</td>\n",
       "      <td>NaN</td>\n",
       "      <td>NaN</td>\n",
       "    </tr>\n",
       "    <tr>\n",
       "      <th>3517</th>\n",
       "      <td>wang_tms</td>\n",
       "      <td>CNDR020</td>\n",
       "      <td>/Volumes/Expansion/datasets/VOSS_STUDIES_TMS/W...</td>\n",
       "      <td>NaN</td>\n",
       "      <td>NaN</td>\n",
       "      <td>unknown</td>\n",
       "      <td>NaN</td>\n",
       "      <td>NaN</td>\n",
       "      <td>0.25</td>\n",
       "      <td>NaN</td>\n",
       "      <td>NaN</td>\n",
       "      <td>NaN</td>\n",
       "      <td>NaN</td>\n",
       "    </tr>\n",
       "    <tr>\n",
       "      <th>3518</th>\n",
       "      <td>wang_tms</td>\n",
       "      <td>CNDR021</td>\n",
       "      <td>/Volumes/Expansion/datasets/VOSS_STUDIES_TMS/W...</td>\n",
       "      <td>NaN</td>\n",
       "      <td>NaN</td>\n",
       "      <td>unknown</td>\n",
       "      <td>NaN</td>\n",
       "      <td>NaN</td>\n",
       "      <td>0</td>\n",
       "      <td>NaN</td>\n",
       "      <td>NaN</td>\n",
       "      <td>NaN</td>\n",
       "      <td>NaN</td>\n",
       "    </tr>\n",
       "    <tr>\n",
       "      <th>3519</th>\n",
       "      <td>wang_tms</td>\n",
       "      <td>CNDR022</td>\n",
       "      <td>/Volumes/Expansion/datasets/VOSS_STUDIES_TMS/W...</td>\n",
       "      <td>NaN</td>\n",
       "      <td>NaN</td>\n",
       "      <td>unknown</td>\n",
       "      <td>NaN</td>\n",
       "      <td>NaN</td>\n",
       "      <td>0.333333333</td>\n",
       "      <td>NaN</td>\n",
       "      <td>NaN</td>\n",
       "      <td>NaN</td>\n",
       "      <td>NaN</td>\n",
       "    </tr>\n",
       "  </tbody>\n",
       "</table>\n",
       "<p>2075 rows × 13 columns</p>\n",
       "</div>"
      ],
      "text/plain": [
       "                    Dataset     Subject  \\\n",
       "0     adni_memory_Alzheimer  002_S_0619   \n",
       "1     adni_memory_Alzheimer  002_S_0729   \n",
       "2     adni_memory_Alzheimer  002_S_0816   \n",
       "3     adni_memory_Alzheimer  002_S_0938   \n",
       "4     adni_memory_Alzheimer  002_S_0954   \n",
       "...                     ...         ...   \n",
       "3515               wang_tms     CNDR014   \n",
       "3516               wang_tms     CNDR019   \n",
       "3517               wang_tms     CNDR020   \n",
       "3518               wang_tms     CNDR021   \n",
       "3519               wang_tms     CNDR022   \n",
       "\n",
       "                                        Nifti_File_Path          age  sex  \\\n",
       "0     /Volumes/OneTouch/datasets/adni/neuroimaging/a...  77.51232877  NaN   \n",
       "1     /Volumes/OneTouch/datasets/adni/neuroimaging/a...  65.22465753  NaN   \n",
       "2     /Volumes/OneTouch/datasets/adni/neuroimaging/a...  70.83835616    F   \n",
       "3     /Volumes/OneTouch/datasets/adni/neuroimaging/a...  82.27671233    F   \n",
       "4     /Volumes/OneTouch/datasets/adni/neuroimaging/a...  69.45205479  NaN   \n",
       "...                                                 ...          ...  ...   \n",
       "3515  /Volumes/Expansion/datasets/VOSS_STUDIES_TMS/W...          NaN  NaN   \n",
       "3516  /Volumes/Expansion/datasets/VOSS_STUDIES_TMS/W...          NaN  NaN   \n",
       "3517  /Volumes/Expansion/datasets/VOSS_STUDIES_TMS/W...          NaN  NaN   \n",
       "3518  /Volumes/Expansion/datasets/VOSS_STUDIES_TMS/W...          NaN  NaN   \n",
       "3519  /Volumes/Expansion/datasets/VOSS_STUDIES_TMS/W...          NaN  NaN   \n",
       "\n",
       "      diagnosis overall_cognition  lesion_size memory_target  \\\n",
       "0     Alzheimer             19.33          NaN            10   \n",
       "1     Alzheimer              6.67          NaN             8   \n",
       "2     Alzheimer                16          NaN             8   \n",
       "3     Alzheimer             21.67          NaN            10   \n",
       "4     Alzheimer             10.67          NaN             9   \n",
       "...         ...               ...          ...           ...   \n",
       "3515    unknown               NaN          NaN  -0.142857143   \n",
       "3516    unknown               NaN          NaN           0.2   \n",
       "3517    unknown               NaN          NaN          0.25   \n",
       "3518    unknown               NaN          NaN             0   \n",
       "3519    unknown               NaN          NaN   0.333333333   \n",
       "\n",
       "     percent_decline_memory baseline_memory var_1yr_memory  ses  \n",
       "0                       100             NaN            NaN  NaN  \n",
       "1                        80             NaN            NaN  NaN  \n",
       "2                        80             NaN            NaN  NaN  \n",
       "3                       100             NaN            NaN  NaN  \n",
       "4                        90             NaN            NaN  NaN  \n",
       "...                     ...             ...            ...  ...  \n",
       "3515                    NaN             NaN            NaN  NaN  \n",
       "3516                    NaN             NaN            NaN  NaN  \n",
       "3517                    NaN             NaN            NaN  NaN  \n",
       "3518                    NaN             NaN            NaN  NaN  \n",
       "3519                    NaN             NaN            NaN  NaN  \n",
       "\n",
       "[2075 rows x 13 columns]"
      ]
     },
     "metadata": {},
     "output_type": "display_data"
    }
   ],
   "source": [
    "data_df = cal_palm.drop_nans_from_columns(columns_to_drop_from=drop_list)\n",
    "display(data_df)"
   ]
  },
  {
   "cell_type": "code",
   "execution_count": 47,
   "metadata": {},
   "outputs": [
    {
     "name": "stdout",
     "output_type": "stream",
     "text": [
      "Dataset\n",
      "ms_memory                862\n",
      "adni_memory_Alzheimer    376\n",
      "adni_memory_MCI          182\n",
      "grafmann_memory          181\n",
      "adni_memory_Normal       160\n",
      "corbetta_memory           87\n",
      "queensland_memory         59\n",
      "kahana_memory             37\n",
      "hermiller_tms_a           32\n",
      "hebscher_tms              20\n",
      "maastricth_memory         16\n",
      "hebscher_tms_d            16\n",
      "kim_tms                   16\n",
      "wang_tms                  16\n",
      "manitoba_memory            8\n",
      "hebscher_tms_b             7\n",
      "Name: count, dtype: int64\n"
     ]
    }
   ],
   "source": [
    "dataset_counts = data_df['Dataset'].value_counts()\n",
    "print(dataset_counts)"
   ]
  },
  {
   "cell_type": "markdown",
   "metadata": {},
   "source": [
    "**Drop Row Based on Value of Column**\n",
    "\n",
    "Define the column, condition, and value for dropping rows\n",
    "- column = 'your_column_name'\n",
    "- condition = 'above'  # Options: 'equal', 'above', 'below'"
   ]
  },
  {
   "cell_type": "code",
   "execution_count": 48,
   "metadata": {},
   "outputs": [],
   "source": [
    "# column = 'diagnosis'\n",
    "# condition = 'equal'\n",
    "# value = 'Normal'"
   ]
  },
  {
   "cell_type": "code",
   "execution_count": 49,
   "metadata": {},
   "outputs": [],
   "source": [
    "# data_df, other_df = cal_palm.drop_rows_based_on_value(column, condition, value)\n",
    "# data_df"
   ]
  },
  {
   "cell_type": "code",
   "execution_count": 50,
   "metadata": {},
   "outputs": [
    {
     "data": {
      "text/plain": [
       "[1, 2, 3]"
      ]
     },
     "execution_count": 50,
     "metadata": {},
     "output_type": "execute_result"
    }
   ],
   "source": [
    "l = [1,2]\n",
    "l.append(3)\n",
    "l"
   ]
  },
  {
   "cell_type": "markdown",
   "metadata": {},
   "source": [
    "**Standardize Data**\n",
    "- Enter Columns you Don't want to standardize into a list"
   ]
  },
  {
   "cell_type": "code",
   "execution_count": 51,
   "metadata": {},
   "outputs": [],
   "source": [
    "# Remove anything you don't want to standardize\n",
    "cols_not_to_standardize = ['Dataset', 'Subject', 'Nifti_File_Path'] # ['Z_Scored_Percent_Cognitive_Improvement_By_Origin_Group', 'Z_Scored_Subiculum_T_By_Origin_Group_'] #['Age']\n",
    "group_col = 'Dataset' #Set to none if there are no specific groups"
   ]
  },
  {
   "cell_type": "code",
   "execution_count": 52,
   "metadata": {},
   "outputs": [
    {
     "name": "stdout",
     "output_type": "stream",
     "text": [
      "Unable to standardize column sex.\n",
      "Unable to standardize column diagnosis.\n",
      "Unable to standardize column sex.\n",
      "Unable to standardize column diagnosis.\n",
      "Unable to standardize column sex.\n",
      "Unable to standardize column diagnosis.\n",
      "Unable to standardize column diagnosis.\n",
      "Unable to standardize column diagnosis.\n",
      "Unable to standardize column sex.\n",
      "Unable to standardize column diagnosis.\n",
      "Unable to standardize column sex.\n",
      "Unable to standardize column diagnosis.\n",
      "Unable to standardize column diagnosis.\n",
      "Unable to standardize column diagnosis.\n",
      "Unable to standardize column diagnosis.\n",
      "Unable to standardize column diagnosis.\n",
      "Unable to standardize column diagnosis.\n",
      "Unable to standardize column diagnosis.\n",
      "Unable to standardize column diagnosis.\n",
      "Unable to standardize column diagnosis.\n",
      "Unable to standardize column diagnosis.\n"
     ]
    },
    {
     "data": {
      "text/html": [
       "<div>\n",
       "<style scoped>\n",
       "    .dataframe tbody tr th:only-of-type {\n",
       "        vertical-align: middle;\n",
       "    }\n",
       "\n",
       "    .dataframe tbody tr th {\n",
       "        vertical-align: top;\n",
       "    }\n",
       "\n",
       "    .dataframe thead th {\n",
       "        text-align: right;\n",
       "    }\n",
       "</style>\n",
       "<table border=\"1\" class=\"dataframe\">\n",
       "  <thead>\n",
       "    <tr style=\"text-align: right;\">\n",
       "      <th></th>\n",
       "      <th>Dataset</th>\n",
       "      <th>Subject</th>\n",
       "      <th>Nifti_File_Path</th>\n",
       "      <th>age</th>\n",
       "      <th>sex</th>\n",
       "      <th>diagnosis</th>\n",
       "      <th>overall_cognition</th>\n",
       "      <th>lesion_size</th>\n",
       "      <th>memory_target</th>\n",
       "      <th>percent_decline_memory</th>\n",
       "      <th>baseline_memory</th>\n",
       "      <th>var_1yr_memory</th>\n",
       "      <th>ses</th>\n",
       "    </tr>\n",
       "  </thead>\n",
       "  <tbody>\n",
       "    <tr>\n",
       "      <th>0</th>\n",
       "      <td>adni_memory_Alzheimer</td>\n",
       "      <td>002_S_0619</td>\n",
       "      <td>/Volumes/OneTouch/datasets/adni/neuroimaging/a...</td>\n",
       "      <td>0.25747</td>\n",
       "      <td>NaN</td>\n",
       "      <td>Alzheimer</td>\n",
       "      <td>0.73565</td>\n",
       "      <td>NaN</td>\n",
       "      <td>1.144848</td>\n",
       "      <td>1.144848</td>\n",
       "      <td>NaN</td>\n",
       "      <td>NaN</td>\n",
       "      <td>NaN</td>\n",
       "    </tr>\n",
       "    <tr>\n",
       "      <th>1</th>\n",
       "      <td>adni_memory_Alzheimer</td>\n",
       "      <td>002_S_0729</td>\n",
       "      <td>/Volumes/OneTouch/datasets/adni/neuroimaging/a...</td>\n",
       "      <td>-1.247968</td>\n",
       "      <td>NaN</td>\n",
       "      <td>Alzheimer</td>\n",
       "      <td>-1.275291</td>\n",
       "      <td>NaN</td>\n",
       "      <td>0.282197</td>\n",
       "      <td>0.282197</td>\n",
       "      <td>NaN</td>\n",
       "      <td>NaN</td>\n",
       "      <td>NaN</td>\n",
       "    </tr>\n",
       "    <tr>\n",
       "      <th>2</th>\n",
       "      <td>adni_memory_Alzheimer</td>\n",
       "      <td>002_S_0816</td>\n",
       "      <td>/Volumes/OneTouch/datasets/adni/neuroimaging/a...</td>\n",
       "      <td>-0.5602</td>\n",
       "      <td>F</td>\n",
       "      <td>Alzheimer</td>\n",
       "      <td>0.206706</td>\n",
       "      <td>NaN</td>\n",
       "      <td>0.282197</td>\n",
       "      <td>0.282197</td>\n",
       "      <td>NaN</td>\n",
       "      <td>NaN</td>\n",
       "      <td>NaN</td>\n",
       "    </tr>\n",
       "    <tr>\n",
       "      <th>3</th>\n",
       "      <td>adni_memory_Alzheimer</td>\n",
       "      <td>002_S_0938</td>\n",
       "      <td>/Volumes/OneTouch/datasets/adni/neuroimaging/a...</td>\n",
       "      <td>0.841183</td>\n",
       "      <td>F</td>\n",
       "      <td>Alzheimer</td>\n",
       "      <td>1.107341</td>\n",
       "      <td>NaN</td>\n",
       "      <td>1.144848</td>\n",
       "      <td>1.144848</td>\n",
       "      <td>NaN</td>\n",
       "      <td>NaN</td>\n",
       "      <td>NaN</td>\n",
       "    </tr>\n",
       "    <tr>\n",
       "      <th>4</th>\n",
       "      <td>adni_memory_Alzheimer</td>\n",
       "      <td>002_S_0954</td>\n",
       "      <td>/Volumes/OneTouch/datasets/adni/neuroimaging/a...</td>\n",
       "      <td>-0.730044</td>\n",
       "      <td>NaN</td>\n",
       "      <td>Alzheimer</td>\n",
       "      <td>-0.639923</td>\n",
       "      <td>NaN</td>\n",
       "      <td>0.713522</td>\n",
       "      <td>0.713522</td>\n",
       "      <td>NaN</td>\n",
       "      <td>NaN</td>\n",
       "      <td>NaN</td>\n",
       "    </tr>\n",
       "    <tr>\n",
       "      <th>...</th>\n",
       "      <td>...</td>\n",
       "      <td>...</td>\n",
       "      <td>...</td>\n",
       "      <td>...</td>\n",
       "      <td>...</td>\n",
       "      <td>...</td>\n",
       "      <td>...</td>\n",
       "      <td>...</td>\n",
       "      <td>...</td>\n",
       "      <td>...</td>\n",
       "      <td>...</td>\n",
       "      <td>...</td>\n",
       "      <td>...</td>\n",
       "    </tr>\n",
       "    <tr>\n",
       "      <th>3515</th>\n",
       "      <td>wang_tms</td>\n",
       "      <td>CNDR014</td>\n",
       "      <td>/Volumes/Expansion/datasets/VOSS_STUDIES_TMS/W...</td>\n",
       "      <td>NaN</td>\n",
       "      <td>NaN</td>\n",
       "      <td>unknown</td>\n",
       "      <td>NaN</td>\n",
       "      <td>NaN</td>\n",
       "      <td>-1.150827</td>\n",
       "      <td>NaN</td>\n",
       "      <td>NaN</td>\n",
       "      <td>NaN</td>\n",
       "      <td>NaN</td>\n",
       "    </tr>\n",
       "    <tr>\n",
       "      <th>3516</th>\n",
       "      <td>wang_tms</td>\n",
       "      <td>CNDR019</td>\n",
       "      <td>/Volumes/Expansion/datasets/VOSS_STUDIES_TMS/W...</td>\n",
       "      <td>NaN</td>\n",
       "      <td>NaN</td>\n",
       "      <td>unknown</td>\n",
       "      <td>NaN</td>\n",
       "      <td>NaN</td>\n",
       "      <td>-0.281491</td>\n",
       "      <td>NaN</td>\n",
       "      <td>NaN</td>\n",
       "      <td>NaN</td>\n",
       "      <td>NaN</td>\n",
       "    </tr>\n",
       "    <tr>\n",
       "      <th>3517</th>\n",
       "      <td>wang_tms</td>\n",
       "      <td>CNDR020</td>\n",
       "      <td>/Volumes/Expansion/datasets/VOSS_STUDIES_TMS/W...</td>\n",
       "      <td>NaN</td>\n",
       "      <td>NaN</td>\n",
       "      <td>unknown</td>\n",
       "      <td>NaN</td>\n",
       "      <td>NaN</td>\n",
       "      <td>-0.154713</td>\n",
       "      <td>NaN</td>\n",
       "      <td>NaN</td>\n",
       "      <td>NaN</td>\n",
       "      <td>NaN</td>\n",
       "    </tr>\n",
       "    <tr>\n",
       "      <th>3518</th>\n",
       "      <td>wang_tms</td>\n",
       "      <td>CNDR021</td>\n",
       "      <td>/Volumes/Expansion/datasets/VOSS_STUDIES_TMS/W...</td>\n",
       "      <td>NaN</td>\n",
       "      <td>NaN</td>\n",
       "      <td>unknown</td>\n",
       "      <td>NaN</td>\n",
       "      <td>NaN</td>\n",
       "      <td>-0.788604</td>\n",
       "      <td>NaN</td>\n",
       "      <td>NaN</td>\n",
       "      <td>NaN</td>\n",
       "      <td>NaN</td>\n",
       "    </tr>\n",
       "    <tr>\n",
       "      <th>3519</th>\n",
       "      <td>wang_tms</td>\n",
       "      <td>CNDR022</td>\n",
       "      <td>/Volumes/Expansion/datasets/VOSS_STUDIES_TMS/W...</td>\n",
       "      <td>NaN</td>\n",
       "      <td>NaN</td>\n",
       "      <td>unknown</td>\n",
       "      <td>NaN</td>\n",
       "      <td>NaN</td>\n",
       "      <td>0.056584</td>\n",
       "      <td>NaN</td>\n",
       "      <td>NaN</td>\n",
       "      <td>NaN</td>\n",
       "      <td>NaN</td>\n",
       "    </tr>\n",
       "  </tbody>\n",
       "</table>\n",
       "<p>2075 rows × 13 columns</p>\n",
       "</div>"
      ],
      "text/plain": [
       "                    Dataset     Subject  \\\n",
       "0     adni_memory_Alzheimer  002_S_0619   \n",
       "1     adni_memory_Alzheimer  002_S_0729   \n",
       "2     adni_memory_Alzheimer  002_S_0816   \n",
       "3     adni_memory_Alzheimer  002_S_0938   \n",
       "4     adni_memory_Alzheimer  002_S_0954   \n",
       "...                     ...         ...   \n",
       "3515               wang_tms     CNDR014   \n",
       "3516               wang_tms     CNDR019   \n",
       "3517               wang_tms     CNDR020   \n",
       "3518               wang_tms     CNDR021   \n",
       "3519               wang_tms     CNDR022   \n",
       "\n",
       "                                        Nifti_File_Path       age  sex  \\\n",
       "0     /Volumes/OneTouch/datasets/adni/neuroimaging/a...   0.25747  NaN   \n",
       "1     /Volumes/OneTouch/datasets/adni/neuroimaging/a... -1.247968  NaN   \n",
       "2     /Volumes/OneTouch/datasets/adni/neuroimaging/a...   -0.5602    F   \n",
       "3     /Volumes/OneTouch/datasets/adni/neuroimaging/a...  0.841183    F   \n",
       "4     /Volumes/OneTouch/datasets/adni/neuroimaging/a... -0.730044  NaN   \n",
       "...                                                 ...       ...  ...   \n",
       "3515  /Volumes/Expansion/datasets/VOSS_STUDIES_TMS/W...       NaN  NaN   \n",
       "3516  /Volumes/Expansion/datasets/VOSS_STUDIES_TMS/W...       NaN  NaN   \n",
       "3517  /Volumes/Expansion/datasets/VOSS_STUDIES_TMS/W...       NaN  NaN   \n",
       "3518  /Volumes/Expansion/datasets/VOSS_STUDIES_TMS/W...       NaN  NaN   \n",
       "3519  /Volumes/Expansion/datasets/VOSS_STUDIES_TMS/W...       NaN  NaN   \n",
       "\n",
       "      diagnosis overall_cognition  lesion_size memory_target  \\\n",
       "0     Alzheimer           0.73565          NaN      1.144848   \n",
       "1     Alzheimer         -1.275291          NaN      0.282197   \n",
       "2     Alzheimer          0.206706          NaN      0.282197   \n",
       "3     Alzheimer          1.107341          NaN      1.144848   \n",
       "4     Alzheimer         -0.639923          NaN      0.713522   \n",
       "...         ...               ...          ...           ...   \n",
       "3515    unknown               NaN          NaN     -1.150827   \n",
       "3516    unknown               NaN          NaN     -0.281491   \n",
       "3517    unknown               NaN          NaN     -0.154713   \n",
       "3518    unknown               NaN          NaN     -0.788604   \n",
       "3519    unknown               NaN          NaN      0.056584   \n",
       "\n",
       "     percent_decline_memory baseline_memory var_1yr_memory  ses  \n",
       "0                  1.144848             NaN            NaN  NaN  \n",
       "1                  0.282197             NaN            NaN  NaN  \n",
       "2                  0.282197             NaN            NaN  NaN  \n",
       "3                  1.144848             NaN            NaN  NaN  \n",
       "4                  0.713522             NaN            NaN  NaN  \n",
       "...                     ...             ...            ...  ...  \n",
       "3515                    NaN             NaN            NaN  NaN  \n",
       "3516                    NaN             NaN            NaN  NaN  \n",
       "3517                    NaN             NaN            NaN  NaN  \n",
       "3518                    NaN             NaN            NaN  NaN  \n",
       "3519                    NaN             NaN            NaN  NaN  \n",
       "\n",
       "[2075 rows x 13 columns]"
      ]
     },
     "execution_count": 52,
     "metadata": {},
     "output_type": "execute_result"
    }
   ],
   "source": [
    "data_df = cal_palm.standardize_columns(cols_not_to_standardize, group_col)\n",
    "data_df"
   ]
  },
  {
   "cell_type": "code",
   "execution_count": 53,
   "metadata": {},
   "outputs": [
    {
     "name": "stdout",
     "output_type": "stream",
     "text": [
      "Dataset\n",
      "ms_memory                862\n",
      "adni_memory_Alzheimer    376\n",
      "adni_memory_MCI          182\n",
      "grafmann_memory          181\n",
      "adni_memory_Normal       160\n",
      "corbetta_memory           87\n",
      "queensland_memory         59\n",
      "kahana_memory             37\n",
      "hermiller_tms_a           32\n",
      "hebscher_tms              20\n",
      "maastricth_memory         16\n",
      "hebscher_tms_d            16\n",
      "kim_tms                   16\n",
      "wang_tms                  16\n",
      "manitoba_memory            8\n",
      "hebscher_tms_b             7\n",
      "Name: count, dtype: int64\n"
     ]
    }
   ],
   "source": [
    "dataset_counts = data_df['Dataset'].value_counts()\n",
    "print(dataset_counts)"
   ]
  },
  {
   "cell_type": "markdown",
   "metadata": {},
   "source": [
    "# 02 - Import the Data into DataFrames, Control them, and Save them"
   ]
  },
  {
   "cell_type": "code",
   "execution_count": 54,
   "metadata": {},
   "outputs": [],
   "source": [
    "dataset_col = 'Dataset'\n",
    "nifti_path_col = 'Nifti_File_Path'\n",
    "indep_var_col = 'memory_target'\n",
    "covariate_cols = ['diagnosis']"
   ]
  },
  {
   "cell_type": "markdown",
   "metadata": {},
   "source": [
    "Prepare the data\n",
    "- save the path to the JSON file created in your out_dir. This will be the basis of your further analyses"
   ]
  },
  {
   "cell_type": "code",
   "execution_count": 55,
   "metadata": {},
   "outputs": [
    {
     "name": "stdout",
     "output_type": "stream",
     "text": [
      "Importing dataset:  adni_memory_Alzheimer\n",
      "(376, 225222) (376, 1) (376, 2)\n"
     ]
    },
    {
     "name": "stderr",
     "output_type": "stream",
     "text": [
      "OLS Regression: 100%|██████████| 225222/225222 [00:43<00:00, 5124.75it/s]\n",
      "OLS Regression: 100%|██████████| 1/1 [00:00<00:00, 1145.05it/s]\n"
     ]
    },
    {
     "name": "stdout",
     "output_type": "stream",
     "text": [
      "Importing dataset:  adni_memory_MCI\n",
      "(182, 225222) (182, 1) (182, 2)\n"
     ]
    },
    {
     "name": "stderr",
     "output_type": "stream",
     "text": [
      "OLS Regression: 100%|██████████| 225222/225222 [00:33<00:00, 6755.63it/s]\n",
      "OLS Regression: 100%|██████████| 1/1 [00:00<00:00, 1992.54it/s]\n"
     ]
    },
    {
     "name": "stdout",
     "output_type": "stream",
     "text": [
      "Importing dataset:  adni_memory_Normal\n",
      "(160, 225222) (160, 1) (160, 2)\n"
     ]
    },
    {
     "name": "stderr",
     "output_type": "stream",
     "text": [
      "OLS Regression: 100%|██████████| 225222/225222 [00:32<00:00, 6979.06it/s]\n",
      "OLS Regression: 100%|██████████| 1/1 [00:00<00:00, 1794.74it/s]\n"
     ]
    },
    {
     "name": "stdout",
     "output_type": "stream",
     "text": [
      "Importing dataset:  corbetta_memory\n",
      "(87, 225222) (87, 1) (87, 2)\n"
     ]
    },
    {
     "name": "stderr",
     "output_type": "stream",
     "text": [
      "OLS Regression: 100%|██████████| 225222/225222 [00:28<00:00, 8007.36it/s]\n",
      "OLS Regression: 100%|██████████| 1/1 [00:00<00:00, 1636.48it/s]\n"
     ]
    },
    {
     "name": "stdout",
     "output_type": "stream",
     "text": [
      "Importing dataset:  grafmann_memory\n",
      "(181, 225222) (181, 1) (181, 2)\n"
     ]
    },
    {
     "name": "stderr",
     "output_type": "stream",
     "text": [
      "OLS Regression: 100%|██████████| 225222/225222 [00:33<00:00, 6740.13it/s]\n",
      "OLS Regression: 100%|██████████| 1/1 [00:00<00:00, 2364.32it/s]\n"
     ]
    },
    {
     "name": "stdout",
     "output_type": "stream",
     "text": [
      "Importing dataset:  manitoba_memory\n",
      "(8, 225222) (8, 1) (8, 2)\n"
     ]
    },
    {
     "name": "stderr",
     "output_type": "stream",
     "text": [
      "OLS Regression: 100%|██████████| 225222/225222 [00:23<00:00, 9450.79it/s]\n",
      "OLS Regression: 100%|██████████| 1/1 [00:00<00:00, 3226.39it/s]\n"
     ]
    },
    {
     "name": "stdout",
     "output_type": "stream",
     "text": [
      "Importing dataset:  ms_memory\n",
      "(862, 225222) (862, 1) (862, 2)\n"
     ]
    },
    {
     "name": "stderr",
     "output_type": "stream",
     "text": [
      "OLS Regression: 100%|██████████| 225222/225222 [01:13<00:00, 3054.46it/s]\n",
      "OLS Regression: 100%|██████████| 1/1 [00:00<00:00, 1227.12it/s]\n"
     ]
    },
    {
     "name": "stdout",
     "output_type": "stream",
     "text": [
      "Importing dataset:  kahana_memory\n",
      "(37, 225222) (37, 1) (37, 2)\n"
     ]
    },
    {
     "name": "stderr",
     "output_type": "stream",
     "text": [
      "OLS Regression: 100%|██████████| 225222/225222 [00:25<00:00, 8883.06it/s]\n",
      "OLS Regression: 100%|██████████| 1/1 [00:00<00:00, 2968.37it/s]\n"
     ]
    },
    {
     "name": "stdout",
     "output_type": "stream",
     "text": [
      "Importing dataset:  queensland_memory\n",
      "(59, 225222) (59, 1) (59, 2)\n"
     ]
    },
    {
     "name": "stderr",
     "output_type": "stream",
     "text": [
      "OLS Regression: 100%|██████████| 225222/225222 [00:26<00:00, 8626.53it/s]\n",
      "OLS Regression: 100%|██████████| 1/1 [00:00<00:00, 1610.10it/s]\n"
     ]
    },
    {
     "name": "stdout",
     "output_type": "stream",
     "text": [
      "Importing dataset:  maastricth_memory\n",
      "(16, 225222) (16, 1) (16, 2)\n"
     ]
    },
    {
     "name": "stderr",
     "output_type": "stream",
     "text": [
      "OLS Regression: 100%|██████████| 225222/225222 [00:24<00:00, 9361.23it/s]\n",
      "OLS Regression: 100%|██████████| 1/1 [00:00<00:00, 3412.78it/s]\n"
     ]
    },
    {
     "name": "stdout",
     "output_type": "stream",
     "text": [
      "Importing dataset:  hebscher_tms\n",
      "(20, 225222) (20, 1) (20, 2)\n"
     ]
    },
    {
     "name": "stderr",
     "output_type": "stream",
     "text": [
      "OLS Regression: 100%|██████████| 225222/225222 [00:24<00:00, 9231.16it/s]\n",
      "OLS Regression: 100%|██████████| 1/1 [00:00<00:00, 2316.02it/s]\n"
     ]
    },
    {
     "name": "stdout",
     "output_type": "stream",
     "text": [
      "Importing dataset:  hermiller_tms_a\n",
      "(32, 225222) (32, 1) (32, 2)\n"
     ]
    },
    {
     "name": "stderr",
     "output_type": "stream",
     "text": [
      "OLS Regression: 100%|██████████| 225222/225222 [00:25<00:00, 8980.64it/s]\n",
      "OLS Regression: 100%|██████████| 1/1 [00:00<00:00, 1995.39it/s]\n"
     ]
    },
    {
     "name": "stdout",
     "output_type": "stream",
     "text": [
      "Importing dataset:  hebscher_tms_b\n",
      "(7, 225222) (7, 1) (7, 2)\n"
     ]
    },
    {
     "name": "stderr",
     "output_type": "stream",
     "text": [
      "OLS Regression: 100%|██████████| 225222/225222 [00:23<00:00, 9488.14it/s]\n",
      "OLS Regression: 100%|██████████| 1/1 [00:00<00:00, 2357.68it/s]\n"
     ]
    },
    {
     "name": "stdout",
     "output_type": "stream",
     "text": [
      "Importing dataset:  hebscher_tms_d\n",
      "(16, 225222) (16, 1) (16, 2)\n"
     ]
    },
    {
     "name": "stderr",
     "output_type": "stream",
     "text": [
      "OLS Regression: 100%|██████████| 225222/225222 [00:24<00:00, 9278.91it/s]\n",
      "OLS Regression: 100%|██████████| 1/1 [00:00<00:00, 5029.14it/s]\n"
     ]
    },
    {
     "name": "stdout",
     "output_type": "stream",
     "text": [
      "Importing dataset:  kim_tms\n",
      "(16, 225222) (16, 1) (16, 2)\n"
     ]
    },
    {
     "name": "stderr",
     "output_type": "stream",
     "text": [
      "OLS Regression: 100%|██████████| 225222/225222 [00:24<00:00, 9053.27it/s]\n",
      "OLS Regression: 100%|██████████| 1/1 [00:00<00:00, 3050.40it/s]\n"
     ]
    },
    {
     "name": "stdout",
     "output_type": "stream",
     "text": [
      "Importing dataset:  wang_tms\n",
      "(16, 225222) (16, 1) (16, 2)\n"
     ]
    },
    {
     "name": "stderr",
     "output_type": "stream",
     "text": [
      "OLS Regression: 100%|██████████| 225222/225222 [00:24<00:00, 9162.29it/s]\n",
      "OLS Regression: 100%|██████████| 1/1 [00:00<00:00, 3355.44it/s]\n"
     ]
    },
    {
     "name": "stdout",
     "output_type": "stream",
     "text": [
      "Dataset dictionary saved to: /Users/cu135/Partners HealthCare Dropbox/Calvin Howard/studies/ccm_memory/results/notebook_01/tmp/dataset_dict.json\n"
     ]
    }
   ],
   "source": [
    "from calvin_utils.ccm_utils.nifti_utils import DatasetNiftiImporter\n",
    "data_importer = DatasetNiftiImporter(df=data_df, dataset_col=dataset_col, nifti_col=nifti_path_col, indep_var_col=indep_var_col, covariate_cols=covariate_cols, out_dir=out_dir, regression_method=None)"
   ]
  },
  {
   "cell_type": "markdown",
   "metadata": {},
   "source": [
    "That's all\n",
    "- calvin"
   ]
  },
  {
   "cell_type": "markdown",
   "metadata": {},
   "source": []
  }
 ],
 "metadata": {
  "kernelspec": {
   "display_name": "nimlab_py310",
   "language": "python",
   "name": "python3"
  },
  "language_info": {
   "codemirror_mode": {
    "name": "ipython",
    "version": 3
   },
   "file_extension": ".py",
   "mimetype": "text/x-python",
   "name": "python",
   "nbconvert_exporter": "python",
   "pygments_lexer": "ipython3",
   "version": "3.10.8"
  }
 },
 "nbformat": 4,
 "nbformat_minor": 2
}
