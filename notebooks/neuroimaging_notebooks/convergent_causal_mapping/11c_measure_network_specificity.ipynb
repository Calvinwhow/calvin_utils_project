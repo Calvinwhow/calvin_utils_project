{
 "cells": [
  {
   "cell_type": "markdown",
   "metadata": {},
   "source": [
    "# 01 - Load in Patient Data"
   ]
  },
  {
   "cell_type": "markdown",
   "metadata": {},
   "source": [
    "Prep Output Direction"
   ]
  },
  {
   "cell_type": "code",
   "execution_count": null,
   "metadata": {},
   "outputs": [],
   "source": [
    "# Specify where you want to save your results to\n",
    "out_dir = '/Users/cu135/Partners HealthCare Dropbox/Calvin Howard/studies/raynor_network_mapping/results/fluency_noncerebellar/redo'"
   ]
  },
  {
   "cell_type": "markdown",
   "metadata": {},
   "source": [
    "Import Data"
   ]
  },
  {
   "cell_type": "code",
   "execution_count": null,
   "metadata": {},
   "outputs": [],
   "source": [
    "# Specify the path to your CSV file containing NIFTI paths\n",
    "input_csv_path = '/Users/cu135/Partners HealthCare Dropbox/Calvin Howard/studies/raynor_network_mapping/metadata/mergedNotCerebellumExtensive.csv'\n",
    "sheet = None"
   ]
  },
  {
   "cell_type": "code",
   "execution_count": null,
   "metadata": {},
   "outputs": [],
   "source": [
    "from calvin_utils.permutation_analysis_utils.statsmodels_palm import CalvinStatsmodelsPalm\n",
    "# Instantiate the PalmPrepararation class\n",
    "cal_palm = CalvinStatsmodelsPalm(input_csv_path=input_csv_path, output_dir=out_dir, sheet=sheet)\n",
    "# Call the process_nifti_paths method\n",
    "data_df = cal_palm.read_and_display_data()\n",
    "data_df"
   ]
  },
  {
   "cell_type": "markdown",
   "metadata": {},
   "source": [
    "**Handle NANs**\n",
    "- Set drop_nans=True is you would like to remove NaNs from data\n",
    "- Provide a column name or a list of column names to remove NaNs from"
   ]
  },
  {
   "cell_type": "code",
   "execution_count": null,
   "metadata": {},
   "outputs": [],
   "source": [
    "for c in data_df.columns:\n",
    "    print(c)"
   ]
  },
  {
   "cell_type": "code",
   "execution_count": null,
   "metadata": {},
   "outputs": [],
   "source": [
    "data_df.columns"
   ]
  },
  {
   "cell_type": "code",
   "execution_count": null,
   "metadata": {},
   "outputs": [],
   "source": [
    "drop_list = ['animal_raw_acute', 'conn_path']"
   ]
  },
  {
   "cell_type": "code",
   "execution_count": null,
   "metadata": {},
   "outputs": [],
   "source": [
    "data_df = cal_palm.drop_nans_from_columns(columns_to_drop_from=drop_list)"
   ]
  },
  {
   "cell_type": "markdown",
   "metadata": {},
   "source": [
    "**Drop Row Based on Value of Column**\n",
    "\n",
    "Define the column, condition, and value for dropping rows\n",
    "- column = 'your_column_name'\n",
    "- condition = 'above'  # Options: 'equal', 'above', 'below'"
   ]
  },
  {
   "cell_type": "code",
   "execution_count": null,
   "metadata": {},
   "outputs": [],
   "source": [
    "data_df.columns"
   ]
  },
  {
   "cell_type": "markdown",
   "metadata": {},
   "source": [
    "Set the parameters for dropping rows"
   ]
  },
  {
   "cell_type": "code",
   "execution_count": null,
   "metadata": {},
   "outputs": [],
   "source": [
    "# column = 'memory'  # The column you'd like to evaluate\n",
    "# condition = 'not'  # The condition to check ('equal', 'above', 'below', 'not')\n",
    "# value = 1 # The value to drop if found"
   ]
  },
  {
   "cell_type": "code",
   "execution_count": null,
   "metadata": {},
   "outputs": [],
   "source": [
    "# data_df, other_df = cal_palm.drop_rows_based_on_value(column, condition, value)\n",
    "# display(data_df)"
   ]
  },
  {
   "cell_type": "markdown",
   "metadata": {},
   "source": [
    "# 02 - Load in the Patient Maps"
   ]
  },
  {
   "cell_type": "markdown",
   "metadata": {},
   "source": [
    "This is the Glob-style path to the subfolder containing niftis of interest\n",
    "- For example, from the base_directory, */tissue_segment_z_scores will look for all subjects, all session folders within subjects, and then check the tissue_segment_z_scores folder. \n"
   ]
  },
  {
   "cell_type": "code",
   "execution_count": null,
   "metadata": {},
   "outputs": [],
   "source": [
    "path = '/Volumes/HowExp/datasets/02a_Corbetta_Stroke_Lesion/Study_Metadata/master_list.csv'\n",
    "file_pattern = None #'*.nii.gz'\n",
    "file_column = 'roi_path'"
   ]
  },
  {
   "cell_type": "code",
   "execution_count": null,
   "metadata": {},
   "outputs": [],
   "source": [
    "from calvin_utils.file_utils.import_functions import GiiNiiFileImport\n",
    "dv_df = GiiNiiFileImport(import_path=path, file_pattern=file_pattern, file_column=file_column, process_special_values=True).run()\n",
    "dv_df"
   ]
  },
  {
   "cell_type": "markdown",
   "metadata": {},
   "source": [
    "# 03 - Load Map to Check Damage Within"
   ]
  },
  {
   "cell_type": "markdown",
   "metadata": {},
   "source": [
    "Import Region of Interest Masks"
   ]
  },
  {
   "cell_type": "code",
   "execution_count": null,
   "metadata": {},
   "outputs": [],
   "source": [
    "base_directory = '/Volumes/HowExp/resources/atlases/atlases/MNI Lobes'\n",
    "shared_glob_pattern = 'mni_Cerebellum.nii.gz'"
   ]
  },
  {
   "cell_type": "code",
   "execution_count": null,
   "metadata": {},
   "outputs": [],
   "source": [
    "from calvin_utils.file_utils.import_functions import GiiNiiFileImport\n",
    "iv_df = GiiNiiFileImport(import_path=base_directory, file_pattern=shared_glob_pattern).run()\n",
    "iv_df"
   ]
  },
  {
   "cell_type": "markdown",
   "metadata": {},
   "source": [
    "Extract Damage Scores Per Region of Interest"
   ]
  },
  {
   "cell_type": "code",
   "execution_count": null,
   "metadata": {},
   "outputs": [],
   "source": [
    "mask_path = '/Users/cu135/hires_backdrops/MNI/MNI152_T1_2mm_brain_mask.nii'"
   ]
  },
  {
   "cell_type": "code",
   "execution_count": null,
   "metadata": {},
   "outputs": [],
   "source": [
    "from calvin_utils.nifti_utils.damage_score_utils import DamageScorer\n",
    "damage_scorer = DamageScorer(mask_path, dv_df, iv_df)\n",
    "dmg_df = damage_scorer.calculate_damage_scores('sum')\n",
    "dmg_df = damage_scorer.sort_dataframes_by_index(dmg_df)\n",
    "dmg_df"
   ]
  },
  {
   "cell_type": "markdown",
   "metadata": {},
   "source": [
    "# 04 - Label Outcome Columns by Which Cluster they Belong To\n",
    "- copy the output of the below cell and fill it out with categorical labels. "
   ]
  },
  {
   "cell_type": "code",
   "execution_count": null,
   "metadata": {},
   "outputs": [],
   "source": [
    "from calvin_utils_project.calvin_utils.ccm_utils.symptom_specificity import get_column_labels\n",
    "get_column_labels(data_df)"
   ]
  },
  {
   "cell_type": "markdown",
   "metadata": {},
   "source": [
    "Copy tge above dictionary if you want to organize your outcomes for prediction into categories. \n",
    "- Otherwise, leave label_dict = None.\n",
    "\n",
    "Example of a full label_dict: \n",
    "```\n",
    "label_dict = {\n",
    "'MotorL_acute': 'motor',\n",
    "'MotorR_acute': 'motor',\n",
    "'bvmt_bias_acute': 'cognitive',\n",
    "'bvmt_imt_acute': 'cognitive'\n",
    "}\n",
    "```"
   ]
  },
  {
   "cell_type": "code",
   "execution_count": null,
   "metadata": {},
   "outputs": [],
   "source": [
    "label_dict = {\n",
    "'study_id': '',\n",
    "'subject_x': '',\n",
    "'MotorL_acute': '',\n",
    "'MotorR_acute': '',\n",
    "'Motor_IC_acute': '',\n",
    "'MotorL_3month': '',\n",
    "'MotorR_3month': '',\n",
    "'Motor_IC_3month': '',\n",
    "'MotorL_1year': '',\n",
    "'MotorR_1year': '',\n",
    "'Motor_IC_1year': '',\n",
    "'motorl_f_acute': '',\n",
    "'motorr_f_acute': '',\n",
    "'motoric_within_acute': '',\n",
    "'motoryn_acute': '',\n",
    "'motor_note_acute': '',\n",
    "'motor_battery_complete_acute': '',\n",
    "'motoryn_3month': '',\n",
    "'motor_note_3month': '',\n",
    "'motor_battery_complete_3month': '',\n",
    "'fim_motor_3month': '',\n",
    "'motoryn_1year': '',\n",
    "'motor_note_1year': '',\n",
    "'motor_battery_complete_1year': '',\n",
    "'fim_motor_1year': '',\n",
    "'nihss_hospital_basic': '',\n",
    "'nihssyn_acute': '',\n",
    "'nih_note_acute': '',\n",
    "'nih1a_acute': '',\n",
    "'nih1b_acute': '',\n",
    "'nih1c_acute': '',\n",
    "'nih2_acute': '',\n",
    "'nih3_acute': '',\n",
    "'nih4_acute': '',\n",
    "'nih5a_acute': '',\n",
    "'nih5b_acute': '',\n",
    "'nih6a_acute': '',\n",
    "'nih6b_acute': '',\n",
    "'nih7_acute': '',\n",
    "'nih8_acute': '',\n",
    "'nih9_acute': '',\n",
    "'nih10_acute': '',\n",
    "'nih11_acute': '',\n",
    "'nih_total_acute': '',\n",
    "'nih_stroke_scale_complete_acute': '',\n",
    "'nihssyn_3month': '',\n",
    "'nih_note_3month': '',\n",
    "'nih1a_3month': '',\n",
    "'nih1b_3month': '',\n",
    "'nih1c_3month': '',\n",
    "'nih2_3month': '',\n",
    "'nih3_3month': '',\n",
    "'nih4_3month': '',\n",
    "'nih5a_3month': '',\n",
    "'nih5b_3month': '',\n",
    "'nih6a_3month': '',\n",
    "'nih6b_3month': '',\n",
    "'nih7_3month': '',\n",
    "'nih8_3month': '',\n",
    "'nih9_3month': '',\n",
    "'nih10_3month': '',\n",
    "'nih11_3month': '',\n",
    "'nih_total_3month': '',\n",
    "'nih_stroke_scale_complete_3month': '',\n",
    "'nihssyn_1year': '',\n",
    "'nih_note_1year': '',\n",
    "'nih1a_1year': '',\n",
    "'nih1b_1year': '',\n",
    "'nih1c_1year': '',\n",
    "'nih2_1year': '',\n",
    "'nih3_1year': '',\n",
    "'nih4_1year': '',\n",
    "'nih5a_1year': '',\n",
    "'nih5b_1year': '',\n",
    "'nih6a_1year': '',\n",
    "'nih6b_1year': '',\n",
    "'nih7_1year': '',\n",
    "'nih8_1year': '',\n",
    "'nih9_1year': '',\n",
    "'nih10_1year': '',\n",
    "'nih11_1year': '',\n",
    "'nih_total_1year': '',\n",
    "'nih_stroke_scale_complete_1year': '',\n",
    "'animal_raw_acute': '',\n",
    "'nonword_acute': '',\n",
    "'bvmt_im_acute': '',\n",
    "'bvmt_learn_acute': '',\n",
    "'bvmt_delay_acute': '',\n",
    "'bvmt_perc_acute': '',\n",
    "'bvmt_hit_acute': '',\n",
    "'bvmt_fa_acute': '',\n",
    "'bvmt_discrim_acute': '',\n",
    "'bvmt_bias_acute': '',\n",
    "'bvmt_imt_acute': '',\n",
    "'bvmt_delayt_acute': '',\n",
    "'bvmt_index_ile_acute': '',\n",
    "'bvmt_file_acute': '',\n",
    "'bvmt_im_3month': '',\n",
    "'bvmt_learn_3month': '',\n",
    "'bvmt_delay_3month': '',\n",
    "'bvmt_perc_3month': '',\n",
    "'bvmt_hit_3month': '',\n",
    "'bvmt_fa_3month': '',\n",
    "'bvmt_discrim_3month': '',\n",
    "'bvmt_bias_3month': '',\n",
    "'bvmt_imt_3month': '',\n",
    "'bvmt_delayt_3month': '',\n",
    "'bvmt_file_3month': '',\n",
    "'bvmt_im_1year': '',\n",
    "'bvmt_learn_1year': '',\n",
    "'bvmt_delay_1year': '',\n",
    "'bvmt_perc_1year': '',\n",
    "'bvmt_hit_1year': '',\n",
    "'bvmt_fa_1year': '',\n",
    "'bvmt_discrim_1year': '',\n",
    "'bvmt_bias_1year': '',\n",
    "'bvmt_imt_1year': '',\n",
    "'bvmt_delayt_1year': '',\n",
    "'bvmt_file_1year': '',\n",
    "'hvlt_im_acute': '',\n",
    "'hvlt_learn_acute': '',\n",
    "'hvlt_delay_acute': '',\n",
    "'hvlt_perc_acute': '',\n",
    "'hvlt_hit_acute': '',\n",
    "'hvlt_fa1_acute': '',\n",
    "'hvlt_fa2_acute': '',\n",
    "'hvlt_fa3_acute': '',\n",
    "'hvlt_discrim_acute': '',\n",
    "'hvlt_imt_acute': '',\n",
    "'hvlt_delayt_acute': '',\n",
    "'hvlt_discrimt_acute': '',\n",
    "'hvlt_im_3month': '',\n",
    "'hvlt_learn_3month': '',\n",
    "'hvlt_delay_3month': '',\n",
    "'hvlt_perc_3month': '',\n",
    "'hvlt_hit_3month': '',\n",
    "'hvlt_fa1_3month': '',\n",
    "'hvlt_fa2_3month': '',\n",
    "'hvlt_fa3_3month': '',\n",
    "'hvlt_discrim_3month': '',\n",
    "'hvlt_imt_3month': '',\n",
    "'hvlt_delayt_3month': '',\n",
    "'hvlt_discrimt_3month': '',\n",
    "'hvlt_im_1year': '',\n",
    "'hvlt_learn_1year': '',\n",
    "'hvlt_delay_1year': '',\n",
    "'hvlt_perc_1year': '',\n",
    "'hvlt_hit_1year': '',\n",
    "'hvlt_fa1_1year': '',\n",
    "'hvlt_fa2_1year': '',\n",
    "'hvlt_fa3_1year': '',\n",
    "'hvlt_discrim_1year': '',\n",
    "'hvlt_imt_1year': '',\n",
    "'hvlt_delayt_1year': '',\n",
    "'hvlt_discrimt_1year': '',\n",
    "'gds_1_acute': '',\n",
    "'gds_2_acute': '',\n",
    "'gds_3_acute': '',\n",
    "'gds_4_acute': '',\n",
    "'gds_5_acute': '',\n",
    "'gds_6_acute': '',\n",
    "'gds_7_acute': '',\n",
    "'gds_8_acute': '',\n",
    "'gds_9_acute': '',\n",
    "'gds_10_acute': '',\n",
    "'gds_11_acute': '',\n",
    "'gds_12_acute': '',\n",
    "'gds_13_acute': '',\n",
    "'gds_14_acute': '',\n",
    "'gds_15_acute': '',\n",
    "'gdss_1_3month': '',\n",
    "'gdss_2_3month': '',\n",
    "'gdss_3_3month': '',\n",
    "'gdss_4_3month': '',\n",
    "'gdss_5_3month': '',\n",
    "'gdss_6_3month': '',\n",
    "'gdss_7_3month': '',\n",
    "'gdss_8_3month': '',\n",
    "'gdss_9_3month': '',\n",
    "'gdss_10_3month': '',\n",
    "'gdss_11_3month': '',\n",
    "'gdss_12_3month': '',\n",
    "'gdss_13_3month': '',\n",
    "'gdss_14_3month': '',\n",
    "'gdss_15_3month': '',\n",
    "'gdss_score_3month': '',\n",
    "'gdss_1_1year': '',\n",
    "'gdss_2_1year': '',\n",
    "'gdss_3_1year': '',\n",
    "'gdss_4_1year': '',\n",
    "'gdss_5_1year': '',\n",
    "'gdss_6_1year': '',\n",
    "'gdss_7_1year': '',\n",
    "'gdss_8_1year': '',\n",
    "'gdss_9_1year': '',\n",
    "'gdss_10_1year': '',\n",
    "'gdss_11_1year': '',\n",
    "'gdss_12_1year': '',\n",
    "'gdss_13_1year': '',\n",
    "'gdss_14_1year': '',\n",
    "'gdss_15_1year': '',\n",
    "'gdss_score_1year': '',\n",
    "'clock_acute': '',\n",
    "'mes_tot_miss_acute': '',\n",
    "'file': '',\n",
    "'conn_path_x': '',\n",
    "'roi_path': '',\n",
    "'subject_y': '',\n",
    "'conn_path_y': '',\n",
    "'mni_Cerebellum_sum': '',\n",
    "'focal_cerebellum': '',\n",
    "}"
   ]
  },
  {
   "cell_type": "markdown",
   "metadata": {},
   "source": [
    "# 05 - Relate damage to symptom clusters"
   ]
  },
  {
   "cell_type": "code",
   "execution_count": null,
   "metadata": {},
   "outputs": [],
   "source": [
    "correlation = 'spearman'"
   ]
  },
  {
   "cell_type": "code",
   "execution_count": null,
   "metadata": {},
   "outputs": [],
   "source": [
    "from calvin_utils_project.calvin_utils.ccm_utils.symptom_specificity import SpecificityAnalyzer\n",
    "SpecificityAnalyzer(X=dmg_df, Y=data_df, y_labels=label_dict, \n",
    "                    correlation=correlation, method='bootstrap',\n",
    "                    vectorize=True, out_dir=out_dir).run(10)"
   ]
  },
  {
   "cell_type": "markdown",
   "metadata": {},
   "source": [
    "That's all\n",
    "\n",
    "-Calvin"
   ]
  },
  {
   "cell_type": "markdown",
   "metadata": {},
   "source": []
  }
 ],
 "metadata": {
  "kernelspec": {
   "display_name": ".venv_calvin (3.10.18)",
   "language": "python",
   "name": "python3"
  },
  "language_info": {
   "codemirror_mode": {
    "name": "ipython",
    "version": 3
   },
   "file_extension": ".py",
   "mimetype": "text/x-python",
   "name": "python",
   "nbconvert_exporter": "python",
   "pygments_lexer": "ipython3",
   "version": "3.10.18"
  }
 },
 "nbformat": 4,
 "nbformat_minor": 2
}
