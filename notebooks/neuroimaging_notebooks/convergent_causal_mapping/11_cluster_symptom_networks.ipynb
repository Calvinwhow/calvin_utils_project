{
 "cells": [
  {
   "cell_type": "markdown",
   "id": "2fcd3d67",
   "metadata": {},
   "source": [
    "Path to directory to save to"
   ]
  },
  {
   "cell_type": "code",
   "execution_count": 16,
   "id": "90705200",
   "metadata": {},
   "outputs": [],
   "source": [
    "# Specify where you want to save your results to\n",
    "out_dir = '/Users/cu135/Partners HealthCare Dropbox/Calvin Howard/studies/rcp/analyses/test'"
   ]
  },
  {
   "cell_type": "markdown",
   "id": "62a6b6cf",
   "metadata": {},
   "source": [
    "Import Niftis\n",
    "- These are EXPECTED to have subject IDs which are IDENTICAL to the subject IDs that go in the covarite DF column names below\n",
    "- Column labels are subject IDs. \n",
    "- This is expected to ultimately have the form:\n",
    "\n",
    "|        |  1 |  2 |  3 |  4 |  5 |  6 |  7 |  8 |  9 |  10 | ... |  40 |  41 |  42 |  43 |  45 |  46 |  47 |  48 |  49 |  50 |\n",
    "|----------|------------|-----------|-----------|-----------|-----------|-----------|-----------|-----------|-----------|------------|-----|-------------|-------------|-------------|-------------|-------------|-------------|-------------|-------------|-------------|-------------|\n",
    "| Voxel 1     | 3          | 4         | 7         | 2         | 2         | 2         | 9         | 4         | 7         | 5          | ... | 5           | 2           | 7           | 7           | 3           | 8           | 8           | 1           | 1           | 3           |\n",
    "| . . .      | ...         | ...        | ...         | ...         | ...         | ...         | ...         | ...         | ...         | ...          | ... | ...           | ...           | ...           | ...           | ...           | ...           | 7           | ...           | ...           | ...           |\n",
    "| Voxel N     | 2          | 1         | 0         | 1         | 3         | 4         | 9         | 5         | 8         | 6          | ... | 6           | 3           | 8           | 8           | 4           | 9           | 9           | 2           | 2           | 4           |"
   ]
  },
  {
   "cell_type": "code",
   "execution_count": 19,
   "id": "e755679a",
   "metadata": {},
   "outputs": [],
   "source": [
    "import_path = '/Users/cu135/Partners HealthCare Dropbox/Calvin Howard/resources/published_networks/Cognitive_Networks'\n",
    "file_target= '*/*.nii*'"
   ]
  },
  {
   "cell_type": "code",
   "execution_count": 20,
   "id": "551afc1d",
   "metadata": {},
   "outputs": [
    {
     "name": "stdout",
     "output_type": "stream",
     "text": [
      "Attempting to import from: /Users/cu135/Partners HealthCare Dropbox/Calvin Howard/resources/published_networks/Cognitive_Networks/*/*.nii*\n"
     ]
    },
    {
     "data": {
      "text/html": [
       "<div>\n",
       "<style scoped>\n",
       "    .dataframe tbody tr th:only-of-type {\n",
       "        vertical-align: middle;\n",
       "    }\n",
       "\n",
       "    .dataframe tbody tr th {\n",
       "        vertical-align: top;\n",
       "    }\n",
       "\n",
       "    .dataframe thead th {\n",
       "        text-align: right;\n",
       "    }\n",
       "</style>\n",
       "<table border=\"1\" class=\"dataframe\">\n",
       "  <thead>\n",
       "    <tr style=\"text-align: right;\">\n",
       "      <th></th>\n",
       "      <th>/Users/cu135/Partners HealthCare Dropbox/Calvin Howard/resources/published_networks/Cognitive_Networks/Queensland Cognition Maps/Executive (Orientation).nii</th>\n",
       "      <th>/Users/cu135/Partners HealthCare Dropbox/Calvin Howard/resources/published_networks/Cognitive_Networks/Queensland Cognition Maps/Executive (Attention).nii</th>\n",
       "      <th>/Users/cu135/Partners HealthCare Dropbox/Calvin Howard/resources/published_networks/Cognitive_Networks/Queensland Cognition Maps/Executive (Trails).nii</th>\n",
       "      <th>/Users/cu135/Partners HealthCare Dropbox/Calvin Howard/resources/published_networks/Cognitive_Networks/Queensland Cognition Maps/Executive (Abstraction).nii</th>\n",
       "      <th>/Users/cu135/Partners HealthCare Dropbox/Calvin Howard/resources/published_networks/Cognitive_Networks/Queensland Cognition Maps/Overall (MoCA).nii</th>\n",
       "      <th>/Users/cu135/Partners HealthCare Dropbox/Calvin Howard/resources/published_networks/Cognitive_Networks/Queensland Cognition Maps/Memory (Delayed Recall).nii</th>\n",
       "      <th>/Users/cu135/Partners HealthCare Dropbox/Calvin Howard/resources/published_networks/Cognitive_Networks/Queensland Cognition Maps/Language (Naming).nii</th>\n",
       "      <th>/Users/cu135/Partners HealthCare Dropbox/Calvin Howard/resources/published_networks/Cognitive_Networks/Queensland Cognition Maps/Language (Repetition).nii</th>\n",
       "      <th>/Users/cu135/Partners HealthCare Dropbox/Calvin Howard/resources/published_networks/Cognitive_Networks/Sante_Cognitive_Maps/Memory.nii</th>\n",
       "      <th>/Users/cu135/Partners HealthCare Dropbox/Calvin Howard/resources/published_networks/Cognitive_Networks/Sante_Cognitive_Maps/Executive.nii</th>\n",
       "      <th>...</th>\n",
       "      <th>/Users/cu135/Partners HealthCare Dropbox/Calvin Howard/resources/published_networks/Cognitive_Networks/Grafman_Cognitive_Maps/Executive (Calculation).nii</th>\n",
       "      <th>/Users/cu135/Partners HealthCare Dropbox/Calvin Howard/resources/published_networks/Cognitive_Networks/Grafman_Cognitive_Maps/Visuospatial (Copy).nii</th>\n",
       "      <th>/Users/cu135/Partners HealthCare Dropbox/Calvin Howard/resources/published_networks/Cognitive_Networks/Grafman_Cognitive_Maps/Total Cognition (MMSE).nii</th>\n",
       "      <th>/Users/cu135/Partners HealthCare Dropbox/Calvin Howard/resources/published_networks/Cognitive_Networks/Grafman_Cognitive_Maps/Language (Commands).nii</th>\n",
       "      <th>/Users/cu135/Partners HealthCare Dropbox/Calvin Howard/resources/published_networks/Cognitive_Networks/Grafman_Cognitive_Maps/Orientation (Location).nii</th>\n",
       "      <th>/Users/cu135/Partners HealthCare Dropbox/Calvin Howard/resources/published_networks/Cognitive_Networks/Grafman_Cognitive_Maps/Orientation (Time).nii</th>\n",
       "      <th>/Users/cu135/Partners HealthCare Dropbox/Calvin Howard/resources/published_networks/Cognitive_Networks/Grafman_Cognitive_Maps/Memory (Delayed Recall).nii</th>\n",
       "      <th>/Users/cu135/Partners HealthCare Dropbox/Calvin Howard/resources/published_networks/Cognitive_Networks/Grafman_Cognitive_Maps/Language (Naming).nii</th>\n",
       "      <th>/Users/cu135/Partners HealthCare Dropbox/Calvin Howard/resources/published_networks/Cognitive_Networks/Grafman_Cognitive_Maps/Language (Writing).nii</th>\n",
       "      <th>/Users/cu135/Partners HealthCare Dropbox/Calvin Howard/resources/published_networks/Cognitive_Networks/Grafman_Cognitive_Maps/Language (Repetition).nii</th>\n",
       "    </tr>\n",
       "  </thead>\n",
       "  <tbody>\n",
       "    <tr>\n",
       "      <th>0</th>\n",
       "      <td>0.0</td>\n",
       "      <td>0.0</td>\n",
       "      <td>0.0</td>\n",
       "      <td>0.0</td>\n",
       "      <td>0.0</td>\n",
       "      <td>0.0</td>\n",
       "      <td>0.0</td>\n",
       "      <td>0.0</td>\n",
       "      <td>0.0</td>\n",
       "      <td>0.0</td>\n",
       "      <td>...</td>\n",
       "      <td>0.0</td>\n",
       "      <td>0.0</td>\n",
       "      <td>0.0</td>\n",
       "      <td>0.0</td>\n",
       "      <td>0.0</td>\n",
       "      <td>0.0</td>\n",
       "      <td>0.0</td>\n",
       "      <td>0.0</td>\n",
       "      <td>0.0</td>\n",
       "      <td>0.0</td>\n",
       "    </tr>\n",
       "    <tr>\n",
       "      <th>1</th>\n",
       "      <td>0.0</td>\n",
       "      <td>0.0</td>\n",
       "      <td>0.0</td>\n",
       "      <td>0.0</td>\n",
       "      <td>0.0</td>\n",
       "      <td>0.0</td>\n",
       "      <td>0.0</td>\n",
       "      <td>0.0</td>\n",
       "      <td>0.0</td>\n",
       "      <td>0.0</td>\n",
       "      <td>...</td>\n",
       "      <td>0.0</td>\n",
       "      <td>0.0</td>\n",
       "      <td>0.0</td>\n",
       "      <td>0.0</td>\n",
       "      <td>0.0</td>\n",
       "      <td>0.0</td>\n",
       "      <td>0.0</td>\n",
       "      <td>0.0</td>\n",
       "      <td>0.0</td>\n",
       "      <td>0.0</td>\n",
       "    </tr>\n",
       "    <tr>\n",
       "      <th>2</th>\n",
       "      <td>0.0</td>\n",
       "      <td>0.0</td>\n",
       "      <td>0.0</td>\n",
       "      <td>0.0</td>\n",
       "      <td>0.0</td>\n",
       "      <td>0.0</td>\n",
       "      <td>0.0</td>\n",
       "      <td>0.0</td>\n",
       "      <td>0.0</td>\n",
       "      <td>0.0</td>\n",
       "      <td>...</td>\n",
       "      <td>0.0</td>\n",
       "      <td>0.0</td>\n",
       "      <td>0.0</td>\n",
       "      <td>0.0</td>\n",
       "      <td>0.0</td>\n",
       "      <td>0.0</td>\n",
       "      <td>0.0</td>\n",
       "      <td>0.0</td>\n",
       "      <td>0.0</td>\n",
       "      <td>0.0</td>\n",
       "    </tr>\n",
       "    <tr>\n",
       "      <th>3</th>\n",
       "      <td>0.0</td>\n",
       "      <td>0.0</td>\n",
       "      <td>0.0</td>\n",
       "      <td>0.0</td>\n",
       "      <td>0.0</td>\n",
       "      <td>0.0</td>\n",
       "      <td>0.0</td>\n",
       "      <td>0.0</td>\n",
       "      <td>0.0</td>\n",
       "      <td>0.0</td>\n",
       "      <td>...</td>\n",
       "      <td>0.0</td>\n",
       "      <td>0.0</td>\n",
       "      <td>0.0</td>\n",
       "      <td>0.0</td>\n",
       "      <td>0.0</td>\n",
       "      <td>0.0</td>\n",
       "      <td>0.0</td>\n",
       "      <td>0.0</td>\n",
       "      <td>0.0</td>\n",
       "      <td>0.0</td>\n",
       "    </tr>\n",
       "    <tr>\n",
       "      <th>4</th>\n",
       "      <td>0.0</td>\n",
       "      <td>0.0</td>\n",
       "      <td>0.0</td>\n",
       "      <td>0.0</td>\n",
       "      <td>0.0</td>\n",
       "      <td>0.0</td>\n",
       "      <td>0.0</td>\n",
       "      <td>0.0</td>\n",
       "      <td>0.0</td>\n",
       "      <td>0.0</td>\n",
       "      <td>...</td>\n",
       "      <td>0.0</td>\n",
       "      <td>0.0</td>\n",
       "      <td>0.0</td>\n",
       "      <td>0.0</td>\n",
       "      <td>0.0</td>\n",
       "      <td>0.0</td>\n",
       "      <td>0.0</td>\n",
       "      <td>0.0</td>\n",
       "      <td>0.0</td>\n",
       "      <td>0.0</td>\n",
       "    </tr>\n",
       "    <tr>\n",
       "      <th>...</th>\n",
       "      <td>...</td>\n",
       "      <td>...</td>\n",
       "      <td>...</td>\n",
       "      <td>...</td>\n",
       "      <td>...</td>\n",
       "      <td>...</td>\n",
       "      <td>...</td>\n",
       "      <td>...</td>\n",
       "      <td>...</td>\n",
       "      <td>...</td>\n",
       "      <td>...</td>\n",
       "      <td>...</td>\n",
       "      <td>...</td>\n",
       "      <td>...</td>\n",
       "      <td>...</td>\n",
       "      <td>...</td>\n",
       "      <td>...</td>\n",
       "      <td>...</td>\n",
       "      <td>...</td>\n",
       "      <td>...</td>\n",
       "      <td>...</td>\n",
       "    </tr>\n",
       "    <tr>\n",
       "      <th>902624</th>\n",
       "      <td>0.0</td>\n",
       "      <td>0.0</td>\n",
       "      <td>0.0</td>\n",
       "      <td>0.0</td>\n",
       "      <td>0.0</td>\n",
       "      <td>0.0</td>\n",
       "      <td>0.0</td>\n",
       "      <td>0.0</td>\n",
       "      <td>0.0</td>\n",
       "      <td>0.0</td>\n",
       "      <td>...</td>\n",
       "      <td>0.0</td>\n",
       "      <td>0.0</td>\n",
       "      <td>0.0</td>\n",
       "      <td>0.0</td>\n",
       "      <td>0.0</td>\n",
       "      <td>0.0</td>\n",
       "      <td>0.0</td>\n",
       "      <td>0.0</td>\n",
       "      <td>0.0</td>\n",
       "      <td>0.0</td>\n",
       "    </tr>\n",
       "    <tr>\n",
       "      <th>902625</th>\n",
       "      <td>0.0</td>\n",
       "      <td>0.0</td>\n",
       "      <td>0.0</td>\n",
       "      <td>0.0</td>\n",
       "      <td>0.0</td>\n",
       "      <td>0.0</td>\n",
       "      <td>0.0</td>\n",
       "      <td>0.0</td>\n",
       "      <td>0.0</td>\n",
       "      <td>0.0</td>\n",
       "      <td>...</td>\n",
       "      <td>0.0</td>\n",
       "      <td>0.0</td>\n",
       "      <td>0.0</td>\n",
       "      <td>0.0</td>\n",
       "      <td>0.0</td>\n",
       "      <td>0.0</td>\n",
       "      <td>0.0</td>\n",
       "      <td>0.0</td>\n",
       "      <td>0.0</td>\n",
       "      <td>0.0</td>\n",
       "    </tr>\n",
       "    <tr>\n",
       "      <th>902626</th>\n",
       "      <td>0.0</td>\n",
       "      <td>0.0</td>\n",
       "      <td>0.0</td>\n",
       "      <td>0.0</td>\n",
       "      <td>0.0</td>\n",
       "      <td>0.0</td>\n",
       "      <td>0.0</td>\n",
       "      <td>0.0</td>\n",
       "      <td>0.0</td>\n",
       "      <td>0.0</td>\n",
       "      <td>...</td>\n",
       "      <td>0.0</td>\n",
       "      <td>0.0</td>\n",
       "      <td>0.0</td>\n",
       "      <td>0.0</td>\n",
       "      <td>0.0</td>\n",
       "      <td>0.0</td>\n",
       "      <td>0.0</td>\n",
       "      <td>0.0</td>\n",
       "      <td>0.0</td>\n",
       "      <td>0.0</td>\n",
       "    </tr>\n",
       "    <tr>\n",
       "      <th>902627</th>\n",
       "      <td>0.0</td>\n",
       "      <td>0.0</td>\n",
       "      <td>0.0</td>\n",
       "      <td>0.0</td>\n",
       "      <td>0.0</td>\n",
       "      <td>0.0</td>\n",
       "      <td>0.0</td>\n",
       "      <td>0.0</td>\n",
       "      <td>0.0</td>\n",
       "      <td>0.0</td>\n",
       "      <td>...</td>\n",
       "      <td>0.0</td>\n",
       "      <td>0.0</td>\n",
       "      <td>0.0</td>\n",
       "      <td>0.0</td>\n",
       "      <td>0.0</td>\n",
       "      <td>0.0</td>\n",
       "      <td>0.0</td>\n",
       "      <td>0.0</td>\n",
       "      <td>0.0</td>\n",
       "      <td>0.0</td>\n",
       "    </tr>\n",
       "    <tr>\n",
       "      <th>902628</th>\n",
       "      <td>0.0</td>\n",
       "      <td>0.0</td>\n",
       "      <td>0.0</td>\n",
       "      <td>0.0</td>\n",
       "      <td>0.0</td>\n",
       "      <td>0.0</td>\n",
       "      <td>0.0</td>\n",
       "      <td>0.0</td>\n",
       "      <td>0.0</td>\n",
       "      <td>0.0</td>\n",
       "      <td>...</td>\n",
       "      <td>0.0</td>\n",
       "      <td>0.0</td>\n",
       "      <td>0.0</td>\n",
       "      <td>0.0</td>\n",
       "      <td>0.0</td>\n",
       "      <td>0.0</td>\n",
       "      <td>0.0</td>\n",
       "      <td>0.0</td>\n",
       "      <td>0.0</td>\n",
       "      <td>0.0</td>\n",
       "    </tr>\n",
       "  </tbody>\n",
       "</table>\n",
       "<p>902629 rows × 63 columns</p>\n",
       "</div>"
      ],
      "text/plain": [
       "        /Users/cu135/Partners HealthCare Dropbox/Calvin Howard/resources/published_networks/Cognitive_Networks/Queensland Cognition Maps/Executive (Orientation).nii  \\\n",
       "0                                                     0.0                                                                                                              \n",
       "1                                                     0.0                                                                                                              \n",
       "2                                                     0.0                                                                                                              \n",
       "3                                                     0.0                                                                                                              \n",
       "4                                                     0.0                                                                                                              \n",
       "...                                                   ...                                                                                                              \n",
       "902624                                                0.0                                                                                                              \n",
       "902625                                                0.0                                                                                                              \n",
       "902626                                                0.0                                                                                                              \n",
       "902627                                                0.0                                                                                                              \n",
       "902628                                                0.0                                                                                                              \n",
       "\n",
       "        /Users/cu135/Partners HealthCare Dropbox/Calvin Howard/resources/published_networks/Cognitive_Networks/Queensland Cognition Maps/Executive (Attention).nii  \\\n",
       "0                                                     0.0                                                                                                            \n",
       "1                                                     0.0                                                                                                            \n",
       "2                                                     0.0                                                                                                            \n",
       "3                                                     0.0                                                                                                            \n",
       "4                                                     0.0                                                                                                            \n",
       "...                                                   ...                                                                                                            \n",
       "902624                                                0.0                                                                                                            \n",
       "902625                                                0.0                                                                                                            \n",
       "902626                                                0.0                                                                                                            \n",
       "902627                                                0.0                                                                                                            \n",
       "902628                                                0.0                                                                                                            \n",
       "\n",
       "        /Users/cu135/Partners HealthCare Dropbox/Calvin Howard/resources/published_networks/Cognitive_Networks/Queensland Cognition Maps/Executive (Trails).nii  \\\n",
       "0                                                     0.0                                                                                                         \n",
       "1                                                     0.0                                                                                                         \n",
       "2                                                     0.0                                                                                                         \n",
       "3                                                     0.0                                                                                                         \n",
       "4                                                     0.0                                                                                                         \n",
       "...                                                   ...                                                                                                         \n",
       "902624                                                0.0                                                                                                         \n",
       "902625                                                0.0                                                                                                         \n",
       "902626                                                0.0                                                                                                         \n",
       "902627                                                0.0                                                                                                         \n",
       "902628                                                0.0                                                                                                         \n",
       "\n",
       "        /Users/cu135/Partners HealthCare Dropbox/Calvin Howard/resources/published_networks/Cognitive_Networks/Queensland Cognition Maps/Executive (Abstraction).nii  \\\n",
       "0                                                     0.0                                                                                                              \n",
       "1                                                     0.0                                                                                                              \n",
       "2                                                     0.0                                                                                                              \n",
       "3                                                     0.0                                                                                                              \n",
       "4                                                     0.0                                                                                                              \n",
       "...                                                   ...                                                                                                              \n",
       "902624                                                0.0                                                                                                              \n",
       "902625                                                0.0                                                                                                              \n",
       "902626                                                0.0                                                                                                              \n",
       "902627                                                0.0                                                                                                              \n",
       "902628                                                0.0                                                                                                              \n",
       "\n",
       "        /Users/cu135/Partners HealthCare Dropbox/Calvin Howard/resources/published_networks/Cognitive_Networks/Queensland Cognition Maps/Overall (MoCA).nii  \\\n",
       "0                                                     0.0                                                                                                     \n",
       "1                                                     0.0                                                                                                     \n",
       "2                                                     0.0                                                                                                     \n",
       "3                                                     0.0                                                                                                     \n",
       "4                                                     0.0                                                                                                     \n",
       "...                                                   ...                                                                                                     \n",
       "902624                                                0.0                                                                                                     \n",
       "902625                                                0.0                                                                                                     \n",
       "902626                                                0.0                                                                                                     \n",
       "902627                                                0.0                                                                                                     \n",
       "902628                                                0.0                                                                                                     \n",
       "\n",
       "        /Users/cu135/Partners HealthCare Dropbox/Calvin Howard/resources/published_networks/Cognitive_Networks/Queensland Cognition Maps/Memory (Delayed Recall).nii  \\\n",
       "0                                                     0.0                                                                                                              \n",
       "1                                                     0.0                                                                                                              \n",
       "2                                                     0.0                                                                                                              \n",
       "3                                                     0.0                                                                                                              \n",
       "4                                                     0.0                                                                                                              \n",
       "...                                                   ...                                                                                                              \n",
       "902624                                                0.0                                                                                                              \n",
       "902625                                                0.0                                                                                                              \n",
       "902626                                                0.0                                                                                                              \n",
       "902627                                                0.0                                                                                                              \n",
       "902628                                                0.0                                                                                                              \n",
       "\n",
       "        /Users/cu135/Partners HealthCare Dropbox/Calvin Howard/resources/published_networks/Cognitive_Networks/Queensland Cognition Maps/Language (Naming).nii  \\\n",
       "0                                                     0.0                                                                                                        \n",
       "1                                                     0.0                                                                                                        \n",
       "2                                                     0.0                                                                                                        \n",
       "3                                                     0.0                                                                                                        \n",
       "4                                                     0.0                                                                                                        \n",
       "...                                                   ...                                                                                                        \n",
       "902624                                                0.0                                                                                                        \n",
       "902625                                                0.0                                                                                                        \n",
       "902626                                                0.0                                                                                                        \n",
       "902627                                                0.0                                                                                                        \n",
       "902628                                                0.0                                                                                                        \n",
       "\n",
       "        /Users/cu135/Partners HealthCare Dropbox/Calvin Howard/resources/published_networks/Cognitive_Networks/Queensland Cognition Maps/Language (Repetition).nii  \\\n",
       "0                                                     0.0                                                                                                            \n",
       "1                                                     0.0                                                                                                            \n",
       "2                                                     0.0                                                                                                            \n",
       "3                                                     0.0                                                                                                            \n",
       "4                                                     0.0                                                                                                            \n",
       "...                                                   ...                                                                                                            \n",
       "902624                                                0.0                                                                                                            \n",
       "902625                                                0.0                                                                                                            \n",
       "902626                                                0.0                                                                                                            \n",
       "902627                                                0.0                                                                                                            \n",
       "902628                                                0.0                                                                                                            \n",
       "\n",
       "        /Users/cu135/Partners HealthCare Dropbox/Calvin Howard/resources/published_networks/Cognitive_Networks/Sante_Cognitive_Maps/Memory.nii  \\\n",
       "0                                                     0.0                                                                                        \n",
       "1                                                     0.0                                                                                        \n",
       "2                                                     0.0                                                                                        \n",
       "3                                                     0.0                                                                                        \n",
       "4                                                     0.0                                                                                        \n",
       "...                                                   ...                                                                                        \n",
       "902624                                                0.0                                                                                        \n",
       "902625                                                0.0                                                                                        \n",
       "902626                                                0.0                                                                                        \n",
       "902627                                                0.0                                                                                        \n",
       "902628                                                0.0                                                                                        \n",
       "\n",
       "        /Users/cu135/Partners HealthCare Dropbox/Calvin Howard/resources/published_networks/Cognitive_Networks/Sante_Cognitive_Maps/Executive.nii  \\\n",
       "0                                                     0.0                                                                                           \n",
       "1                                                     0.0                                                                                           \n",
       "2                                                     0.0                                                                                           \n",
       "3                                                     0.0                                                                                           \n",
       "4                                                     0.0                                                                                           \n",
       "...                                                   ...                                                                                           \n",
       "902624                                                0.0                                                                                           \n",
       "902625                                                0.0                                                                                           \n",
       "902626                                                0.0                                                                                           \n",
       "902627                                                0.0                                                                                           \n",
       "902628                                                0.0                                                                                           \n",
       "\n",
       "        ...  \\\n",
       "0       ...   \n",
       "1       ...   \n",
       "2       ...   \n",
       "3       ...   \n",
       "4       ...   \n",
       "...     ...   \n",
       "902624  ...   \n",
       "902625  ...   \n",
       "902626  ...   \n",
       "902627  ...   \n",
       "902628  ...   \n",
       "\n",
       "        /Users/cu135/Partners HealthCare Dropbox/Calvin Howard/resources/published_networks/Cognitive_Networks/Grafman_Cognitive_Maps/Executive (Calculation).nii  \\\n",
       "0                                                     0.0                                                                                                           \n",
       "1                                                     0.0                                                                                                           \n",
       "2                                                     0.0                                                                                                           \n",
       "3                                                     0.0                                                                                                           \n",
       "4                                                     0.0                                                                                                           \n",
       "...                                                   ...                                                                                                           \n",
       "902624                                                0.0                                                                                                           \n",
       "902625                                                0.0                                                                                                           \n",
       "902626                                                0.0                                                                                                           \n",
       "902627                                                0.0                                                                                                           \n",
       "902628                                                0.0                                                                                                           \n",
       "\n",
       "        /Users/cu135/Partners HealthCare Dropbox/Calvin Howard/resources/published_networks/Cognitive_Networks/Grafman_Cognitive_Maps/Visuospatial (Copy).nii  \\\n",
       "0                                                     0.0                                                                                                       \n",
       "1                                                     0.0                                                                                                       \n",
       "2                                                     0.0                                                                                                       \n",
       "3                                                     0.0                                                                                                       \n",
       "4                                                     0.0                                                                                                       \n",
       "...                                                   ...                                                                                                       \n",
       "902624                                                0.0                                                                                                       \n",
       "902625                                                0.0                                                                                                       \n",
       "902626                                                0.0                                                                                                       \n",
       "902627                                                0.0                                                                                                       \n",
       "902628                                                0.0                                                                                                       \n",
       "\n",
       "        /Users/cu135/Partners HealthCare Dropbox/Calvin Howard/resources/published_networks/Cognitive_Networks/Grafman_Cognitive_Maps/Total Cognition (MMSE).nii  \\\n",
       "0                                                     0.0                                                                                                          \n",
       "1                                                     0.0                                                                                                          \n",
       "2                                                     0.0                                                                                                          \n",
       "3                                                     0.0                                                                                                          \n",
       "4                                                     0.0                                                                                                          \n",
       "...                                                   ...                                                                                                          \n",
       "902624                                                0.0                                                                                                          \n",
       "902625                                                0.0                                                                                                          \n",
       "902626                                                0.0                                                                                                          \n",
       "902627                                                0.0                                                                                                          \n",
       "902628                                                0.0                                                                                                          \n",
       "\n",
       "        /Users/cu135/Partners HealthCare Dropbox/Calvin Howard/resources/published_networks/Cognitive_Networks/Grafman_Cognitive_Maps/Language (Commands).nii  \\\n",
       "0                                                     0.0                                                                                                       \n",
       "1                                                     0.0                                                                                                       \n",
       "2                                                     0.0                                                                                                       \n",
       "3                                                     0.0                                                                                                       \n",
       "4                                                     0.0                                                                                                       \n",
       "...                                                   ...                                                                                                       \n",
       "902624                                                0.0                                                                                                       \n",
       "902625                                                0.0                                                                                                       \n",
       "902626                                                0.0                                                                                                       \n",
       "902627                                                0.0                                                                                                       \n",
       "902628                                                0.0                                                                                                       \n",
       "\n",
       "        /Users/cu135/Partners HealthCare Dropbox/Calvin Howard/resources/published_networks/Cognitive_Networks/Grafman_Cognitive_Maps/Orientation (Location).nii  \\\n",
       "0                                                     0.0                                                                                                          \n",
       "1                                                     0.0                                                                                                          \n",
       "2                                                     0.0                                                                                                          \n",
       "3                                                     0.0                                                                                                          \n",
       "4                                                     0.0                                                                                                          \n",
       "...                                                   ...                                                                                                          \n",
       "902624                                                0.0                                                                                                          \n",
       "902625                                                0.0                                                                                                          \n",
       "902626                                                0.0                                                                                                          \n",
       "902627                                                0.0                                                                                                          \n",
       "902628                                                0.0                                                                                                          \n",
       "\n",
       "        /Users/cu135/Partners HealthCare Dropbox/Calvin Howard/resources/published_networks/Cognitive_Networks/Grafman_Cognitive_Maps/Orientation (Time).nii  \\\n",
       "0                                                     0.0                                                                                                      \n",
       "1                                                     0.0                                                                                                      \n",
       "2                                                     0.0                                                                                                      \n",
       "3                                                     0.0                                                                                                      \n",
       "4                                                     0.0                                                                                                      \n",
       "...                                                   ...                                                                                                      \n",
       "902624                                                0.0                                                                                                      \n",
       "902625                                                0.0                                                                                                      \n",
       "902626                                                0.0                                                                                                      \n",
       "902627                                                0.0                                                                                                      \n",
       "902628                                                0.0                                                                                                      \n",
       "\n",
       "        /Users/cu135/Partners HealthCare Dropbox/Calvin Howard/resources/published_networks/Cognitive_Networks/Grafman_Cognitive_Maps/Memory (Delayed Recall).nii  \\\n",
       "0                                                     0.0                                                                                                           \n",
       "1                                                     0.0                                                                                                           \n",
       "2                                                     0.0                                                                                                           \n",
       "3                                                     0.0                                                                                                           \n",
       "4                                                     0.0                                                                                                           \n",
       "...                                                   ...                                                                                                           \n",
       "902624                                                0.0                                                                                                           \n",
       "902625                                                0.0                                                                                                           \n",
       "902626                                                0.0                                                                                                           \n",
       "902627                                                0.0                                                                                                           \n",
       "902628                                                0.0                                                                                                           \n",
       "\n",
       "        /Users/cu135/Partners HealthCare Dropbox/Calvin Howard/resources/published_networks/Cognitive_Networks/Grafman_Cognitive_Maps/Language (Naming).nii  \\\n",
       "0                                                     0.0                                                                                                     \n",
       "1                                                     0.0                                                                                                     \n",
       "2                                                     0.0                                                                                                     \n",
       "3                                                     0.0                                                                                                     \n",
       "4                                                     0.0                                                                                                     \n",
       "...                                                   ...                                                                                                     \n",
       "902624                                                0.0                                                                                                     \n",
       "902625                                                0.0                                                                                                     \n",
       "902626                                                0.0                                                                                                     \n",
       "902627                                                0.0                                                                                                     \n",
       "902628                                                0.0                                                                                                     \n",
       "\n",
       "        /Users/cu135/Partners HealthCare Dropbox/Calvin Howard/resources/published_networks/Cognitive_Networks/Grafman_Cognitive_Maps/Language (Writing).nii  \\\n",
       "0                                                     0.0                                                                                                      \n",
       "1                                                     0.0                                                                                                      \n",
       "2                                                     0.0                                                                                                      \n",
       "3                                                     0.0                                                                                                      \n",
       "4                                                     0.0                                                                                                      \n",
       "...                                                   ...                                                                                                      \n",
       "902624                                                0.0                                                                                                      \n",
       "902625                                                0.0                                                                                                      \n",
       "902626                                                0.0                                                                                                      \n",
       "902627                                                0.0                                                                                                      \n",
       "902628                                                0.0                                                                                                      \n",
       "\n",
       "        /Users/cu135/Partners HealthCare Dropbox/Calvin Howard/resources/published_networks/Cognitive_Networks/Grafman_Cognitive_Maps/Language (Repetition).nii  \n",
       "0                                                     0.0                                                                                                        \n",
       "1                                                     0.0                                                                                                        \n",
       "2                                                     0.0                                                                                                        \n",
       "3                                                     0.0                                                                                                        \n",
       "4                                                     0.0                                                                                                        \n",
       "...                                                   ...                                                                                                        \n",
       "902624                                                0.0                                                                                                        \n",
       "902625                                                0.0                                                                                                        \n",
       "902626                                                0.0                                                                                                        \n",
       "902627                                                0.0                                                                                                        \n",
       "902628                                                0.0                                                                                                        \n",
       "\n",
       "[902629 rows x 63 columns]"
      ]
     },
     "execution_count": 20,
     "metadata": {},
     "output_type": "execute_result"
    }
   ],
   "source": [
    "from calvin_utils.file_utils.import_functions import GiiNiiFileImport\n",
    "giinii = GiiNiiFileImport(import_path=import_path, file_column=None, file_pattern=file_target)\n",
    "nimg_df = giinii.run()\n",
    "nimg_df"
   ]
  },
  {
   "cell_type": "markdown",
   "id": "c78de281",
   "metadata": {},
   "source": [
    "Select Mask"
   ]
  },
  {
   "cell_type": "code",
   "execution_count": 21,
   "id": "861ee876",
   "metadata": {},
   "outputs": [],
   "source": [
    "mask = '/Users/cu135/hires_backdrops/mni/MNI152_T1_2mm_brain_mask.nii'"
   ]
  },
  {
   "cell_type": "markdown",
   "id": "d24216e2",
   "metadata": {},
   "source": [
    "Run Umap"
   ]
  },
  {
   "cell_type": "code",
   "execution_count": null,
   "id": "7138b7b9",
   "metadata": {},
   "outputs": [
    {
     "data": {
      "application/vnd.plotly.v1+json": {
       "config": {
        "plotlyServerURL": "https://plot.ly"
       },
       "data": [
        {
         "customdata": {
          "bdata": "AAAAAAAA8L8AAAAAAAAAAAAAAAAAAPC/AAAAAAAAAAAAAAAAAAAYQE4khIXeK+g/AAAAAAAAGECO/OHN1pLvPwAAAAAAABhAAAAAAAAA8D8AAAAAAAAYQAAAAAAAAPA/AAAAAAAACEBqXAC5AtXsPwAAAAAAABhAAAAAAAAA8D8AAAAAAAAUQJKQgcGjKeY/AAAAAAAAEEAAAAAAAADwPwAAAAAAABBAzjB9cfOX5z8AAAAAAAAAQAAAAAAAAPA/AAAAAAAAGEAAAAAAAADwPwAAAAAAAABAAAAAAAAA8D8AAAAAAADwPwAAAAAAAPA/AAAAAAAAAEBmEuZ14aPqPwAAAAAAAABAM4Lh2fLT6T8AAAAAAAAAQFQl5FAZ0eE/AAAAAAAAEEAAAAAAAADwPwAAAAAAAABAAAAAAAAA8D8AAAAAAAAQQDTTXr0Bh+w/AAAAAAAAEEAAAAAAAADwPwAAAAAAAAAAAAAAAAAA8D8AAAAAAAAAAJyLf/4P7tI/AAAAAAAAAABrhC1hMUDuPwAAAAAAAAAA2WmlPaNy2D8AAAAAAAAIQAAAAAAAAPA/AAAAAAAAAAAAAAAAAADwPwAAAAAAAAhAAAAAAAAA8D8AAAAAAAAAAPF6E9xjgNA/AAAAAAAAAAAAAAAAAADwPwAAAAAAAAAABsBgEf3T5D8AAAAAAAAAAAAAAAAAAPA/AAAAAAAAAABUuI9DgzzePwAAAAAAAAAAkIseapSo7j8AAAAAAAAAAA2VYaNvY+g/AAAAAAAACEAAAAAAAADwPwAAAAAAABBAAAAAAAAA8D8AAAAAAAAAAIHdnLg4we8/AAAAAAAACEAAAAAAAADwPwAAAAAAAPC/AAAAAAAAAAAAAAAAAAAAAIoMt2A/r+I/AAAAAAAA8L8AAAAAAAAAAAAAAAAAAPC/AAAAAAAAAAAAAAAAAAAQQFZjrJH4x+4/AAAAAAAAFEAAAAAAAADwPwAAAAAAAPC/AAAAAAAAAAAAAAAAAAAUQMmAlrnDSOo/AAAAAAAAFEDJgJa5w0jqPwAAAAAAABRAAAAAAAAA8D8AAAAAAAAQQFZjrJH4x+4/AAAAAAAAFEAAAAAAAADwPwAAAAAAABBAtxOyZH6i6T8AAAAAAADwPwAAAAAAAPA/AAAAAAAA8D8ik4MMYy/hPwAAAAAAAPA/AAAAAAAA8D8AAAAAAADwP80m9nEp59s/AAAAAAAA8D9t8KU2723lPwAAAAAAAPA/uOfa48tX5T8AAAAAAAAIQGpcALkC1ew/AAAAAAAA8D+6dFXyF1LsPwAAAAAAAPA/AAAAAAAA8D8AAAAAAADwP4SCmR1ij+I/",
          "dtype": "f8",
          "shape": "63, 2"
         },
         "hovertemplate": "UMAP 1: %{x}<br>UMAP 2: %{y}<br>UMAP 3: %{z}<br>Cluster: %{customdata[0]}<br>Probability: %{customdata[1]:.2f}<br><extra></extra>",
         "marker": {
          "color": [
           "rgba(68, 1, 84, 0.5)",
           "rgba(68, 1, 84, 0.5)",
           "rgba(253, 231, 36, 0.8776775649899421)",
           "rgba(253, 231, 36, 0.9933373461316898)",
           "rgba(253, 231, 36, 1.0)",
           "rgba(253, 231, 36, 1.0)",
           "rgba(31, 161, 135, 0.9505011374143978)",
           "rgba(253, 231, 36, 1.0)",
           "rgba(159, 217, 56, 0.8462914838512542)",
           "rgba(73, 193, 109, 1.0)",
           "rgba(73, 193, 109, 0.8686493500033635)",
           "rgba(39, 126, 142, 1.0)",
           "rgba(253, 231, 36, 1.0)",
           "rgba(39, 126, 142, 1.0)",
           "rgba(54, 91, 140, 1.0)",
           "rgba(39, 126, 142, 0.9162524844507857)",
           "rgba(39, 126, 142, 0.9035613181822868)",
           "rgba(39, 126, 142, 0.7783873834565231)",
           "rgba(73, 193, 109, 1.0)",
           "rgba(39, 126, 142, 1.0)",
           "rgba(73, 193, 109, 0.9457401608772671)",
           "rgba(73, 193, 109, 1.0)",
           "rgba(70, 49, 126, 1.0)",
           "rgba(70, 49, 126, 0.6478900902430639)",
           "rgba(70, 49, 126, 0.9726680230142566)",
           "rgba(70, 49, 126, 0.6909984637266706)",
           "rgba(31, 161, 135, 1.0)",
           "rgba(70, 49, 126, 1.0)",
           "rgba(31, 161, 135, 1.0)",
           "rgba(70, 49, 126, 0.6289181542005831)",
           "rgba(70, 49, 126, 1.0)",
           "rgba(70, 49, 126, 0.8254387540537212)",
           "rgba(70, 49, 126, 1.0)",
           "rgba(70, 49, 126, 0.7362217025651626)",
           "rgba(70, 49, 126, 0.9790392910310226)",
           "rgba(70, 49, 126, 0.881069097091612)",
           "rgba(31, 161, 135, 1.0)",
           "rgba(73, 193, 109, 1.0)",
           "rgba(70, 49, 126, 0.9961683085307058)",
           "rgba(31, 161, 135, 1.0)",
           "rgba(68, 1, 84, 0.5)",
           "rgba(70, 49, 126, 0.7919462627871289)",
           "rgba(68, 1, 84, 0.5)",
           "rgba(68, 1, 84, 0.5)",
           "rgba(73, 193, 109, 0.9809552595702845)",
           "rgba(159, 217, 56, 1.0)",
           "rgba(68, 1, 84, 0.5)",
           "rgba(159, 217, 56, 0.910691195715128)",
           "rgba(159, 217, 56, 0.910691195715128)",
           "rgba(159, 217, 56, 1.0)",
           "rgba(73, 193, 109, 0.9809552595702845)",
           "rgba(159, 217, 56, 1.0)",
           "rgba(73, 193, 109, 0.9005428298335647)",
           "rgba(54, 91, 140, 1.0)",
           "rgba(54, 91, 140, 0.7685172674376181)",
           "rgba(54, 91, 140, 1.0)",
           "rgba(54, 91, 140, 0.7179920011952192)",
           "rgba(54, 91, 140, 0.8348348649667574)",
           "rgba(54, 91, 140, 0.8334836697719044)",
           "rgba(31, 161, 135, 0.9505011374143978)",
           "rgba(54, 91, 140, 0.9425105921307694)",
           "rgba(54, 91, 140, 1.0)",
           "rgba(54, 91, 140, 0.7900014199313221)"
          ],
          "size": 3
         },
         "mode": "markers",
         "type": "scatter3d",
         "x": {
          "bdata": "I5u1QBcBvUDS0K1A80KwQNIUtkADmLVA1ee5QEy5rUALrsBAbQ7XQP9a00AOJ8dAlKmzQKZnxUCjvQBB5FXOQKUXzkBpGtZABBzUQN3tzECBwcxAHyjQQL7jgECUs5pA0FZpQFgQlkAQq69ACoN5QPu6u0BlhZ1Ac8VxQBaQb0DEsXZAz3CAQA36d0DML2BAOs2zQJ9b1EBwBW1AtnWqQG+noECbq4ZAk1LIQBtzwUBlms5Ag0CzQOihwEA5nLVAnESuQCwlvEA3RMpAO3CxQOUdxUAqyPhAu4zuQCESAEHNGfNADfn1QKNQ+EBHvrVAygEBQT1yAkFc7QNB",
          "dtype": "f4"
         },
         "y": {
          "bdata": "lWkbQdqGHkHr9w1BIkoRQf87EkEWCBFBXV8cQcfcE0EeQhhBhHUcQTqkH0GIOwVBjQIUQXMTBUGMyPxA8kADQeY1B0GBlwRBrhIcQWdoBEG5VRdBdQ0dQS9/y0DLIfBAvfjJQAW86ED5LQ5BkO/EQOXYD0GmE/RAfbjGQMSn2EA/7slAYcPYQGhnx0BY5dJAS+wJQYHAFkG4l8pA1joGQfwfBEFN8dBAlDgeQeZDHUELqSFBIjgZQd2sGkHZVRtB6b8cQZBQG0H5TSJBvcwdQXA+HkGtNwBB8IX6QM+L/0DIjAdB4x0FQd/SAkFE8xVBoOv6QNFa9UBMWPFA",
          "dtype": "f4"
         },
         "z": {
          "bdata": "E5qaQNXhoUDErO4/cP3FP+f84j/8iOQ/HiOmQFNI2D/OXR1AwbeeQCsHp0CvD7pAzkHyP+kqs0BhbNNAlGK6QBaLsEDLBsRAzTCWQOk8uEDJbJ9AYR2MQHRKMEBnWhtAsO1KQBaqGUCowaRARzo8QJPio0CoHRNA4A42QJJZa0BCy09AYf13QOuxJUA69V9As+OmQCELmED2XFhA0g2kQCymnUDT5yVA2P9yQHcrT0D/Cp1ABj8XQFygY0AOPTNAltAbQACFI0Bgw49Ar2YiQJkJikDS49FAmS7VQOTZ10AXa8FAcB/HQKm9y0DT8KxAqLTeQD0P2UBsc95A",
          "dtype": "f4"
         }
        }
       ],
       "layout": {
        "scene": {
         "xaxis": {
          "title": {
           "text": "UMAP 1"
          }
         },
         "yaxis": {
          "title": {
           "text": "UMAP 2"
          }
         },
         "zaxis": {
          "title": {
           "text": "UMAP 3"
          }
         }
        },
        "template": {
         "data": {
          "bar": [
           {
            "error_x": {
             "color": "#2a3f5f"
            },
            "error_y": {
             "color": "#2a3f5f"
            },
            "marker": {
             "line": {
              "color": "white",
              "width": 0.5
             },
             "pattern": {
              "fillmode": "overlay",
              "size": 10,
              "solidity": 0.2
             }
            },
            "type": "bar"
           }
          ],
          "barpolar": [
           {
            "marker": {
             "line": {
              "color": "white",
              "width": 0.5
             },
             "pattern": {
              "fillmode": "overlay",
              "size": 10,
              "solidity": 0.2
             }
            },
            "type": "barpolar"
           }
          ],
          "carpet": [
           {
            "aaxis": {
             "endlinecolor": "#2a3f5f",
             "gridcolor": "#C8D4E3",
             "linecolor": "#C8D4E3",
             "minorgridcolor": "#C8D4E3",
             "startlinecolor": "#2a3f5f"
            },
            "baxis": {
             "endlinecolor": "#2a3f5f",
             "gridcolor": "#C8D4E3",
             "linecolor": "#C8D4E3",
             "minorgridcolor": "#C8D4E3",
             "startlinecolor": "#2a3f5f"
            },
            "type": "carpet"
           }
          ],
          "choropleth": [
           {
            "colorbar": {
             "outlinewidth": 0,
             "ticks": ""
            },
            "type": "choropleth"
           }
          ],
          "contour": [
           {
            "colorbar": {
             "outlinewidth": 0,
             "ticks": ""
            },
            "colorscale": [
             [
              0,
              "#0d0887"
             ],
             [
              0.1111111111111111,
              "#46039f"
             ],
             [
              0.2222222222222222,
              "#7201a8"
             ],
             [
              0.3333333333333333,
              "#9c179e"
             ],
             [
              0.4444444444444444,
              "#bd3786"
             ],
             [
              0.5555555555555556,
              "#d8576b"
             ],
             [
              0.6666666666666666,
              "#ed7953"
             ],
             [
              0.7777777777777778,
              "#fb9f3a"
             ],
             [
              0.8888888888888888,
              "#fdca26"
             ],
             [
              1,
              "#f0f921"
             ]
            ],
            "type": "contour"
           }
          ],
          "contourcarpet": [
           {
            "colorbar": {
             "outlinewidth": 0,
             "ticks": ""
            },
            "type": "contourcarpet"
           }
          ],
          "heatmap": [
           {
            "colorbar": {
             "outlinewidth": 0,
             "ticks": ""
            },
            "colorscale": [
             [
              0,
              "#0d0887"
             ],
             [
              0.1111111111111111,
              "#46039f"
             ],
             [
              0.2222222222222222,
              "#7201a8"
             ],
             [
              0.3333333333333333,
              "#9c179e"
             ],
             [
              0.4444444444444444,
              "#bd3786"
             ],
             [
              0.5555555555555556,
              "#d8576b"
             ],
             [
              0.6666666666666666,
              "#ed7953"
             ],
             [
              0.7777777777777778,
              "#fb9f3a"
             ],
             [
              0.8888888888888888,
              "#fdca26"
             ],
             [
              1,
              "#f0f921"
             ]
            ],
            "type": "heatmap"
           }
          ],
          "histogram": [
           {
            "marker": {
             "pattern": {
              "fillmode": "overlay",
              "size": 10,
              "solidity": 0.2
             }
            },
            "type": "histogram"
           }
          ],
          "histogram2d": [
           {
            "colorbar": {
             "outlinewidth": 0,
             "ticks": ""
            },
            "colorscale": [
             [
              0,
              "#0d0887"
             ],
             [
              0.1111111111111111,
              "#46039f"
             ],
             [
              0.2222222222222222,
              "#7201a8"
             ],
             [
              0.3333333333333333,
              "#9c179e"
             ],
             [
              0.4444444444444444,
              "#bd3786"
             ],
             [
              0.5555555555555556,
              "#d8576b"
             ],
             [
              0.6666666666666666,
              "#ed7953"
             ],
             [
              0.7777777777777778,
              "#fb9f3a"
             ],
             [
              0.8888888888888888,
              "#fdca26"
             ],
             [
              1,
              "#f0f921"
             ]
            ],
            "type": "histogram2d"
           }
          ],
          "histogram2dcontour": [
           {
            "colorbar": {
             "outlinewidth": 0,
             "ticks": ""
            },
            "colorscale": [
             [
              0,
              "#0d0887"
             ],
             [
              0.1111111111111111,
              "#46039f"
             ],
             [
              0.2222222222222222,
              "#7201a8"
             ],
             [
              0.3333333333333333,
              "#9c179e"
             ],
             [
              0.4444444444444444,
              "#bd3786"
             ],
             [
              0.5555555555555556,
              "#d8576b"
             ],
             [
              0.6666666666666666,
              "#ed7953"
             ],
             [
              0.7777777777777778,
              "#fb9f3a"
             ],
             [
              0.8888888888888888,
              "#fdca26"
             ],
             [
              1,
              "#f0f921"
             ]
            ],
            "type": "histogram2dcontour"
           }
          ],
          "mesh3d": [
           {
            "colorbar": {
             "outlinewidth": 0,
             "ticks": ""
            },
            "type": "mesh3d"
           }
          ],
          "parcoords": [
           {
            "line": {
             "colorbar": {
              "outlinewidth": 0,
              "ticks": ""
             }
            },
            "type": "parcoords"
           }
          ],
          "pie": [
           {
            "automargin": true,
            "type": "pie"
           }
          ],
          "scatter": [
           {
            "fillpattern": {
             "fillmode": "overlay",
             "size": 10,
             "solidity": 0.2
            },
            "type": "scatter"
           }
          ],
          "scatter3d": [
           {
            "line": {
             "colorbar": {
              "outlinewidth": 0,
              "ticks": ""
             }
            },
            "marker": {
             "colorbar": {
              "outlinewidth": 0,
              "ticks": ""
             }
            },
            "type": "scatter3d"
           }
          ],
          "scattercarpet": [
           {
            "marker": {
             "colorbar": {
              "outlinewidth": 0,
              "ticks": ""
             }
            },
            "type": "scattercarpet"
           }
          ],
          "scattergeo": [
           {
            "marker": {
             "colorbar": {
              "outlinewidth": 0,
              "ticks": ""
             }
            },
            "type": "scattergeo"
           }
          ],
          "scattergl": [
           {
            "marker": {
             "colorbar": {
              "outlinewidth": 0,
              "ticks": ""
             }
            },
            "type": "scattergl"
           }
          ],
          "scattermap": [
           {
            "marker": {
             "colorbar": {
              "outlinewidth": 0,
              "ticks": ""
             }
            },
            "type": "scattermap"
           }
          ],
          "scattermapbox": [
           {
            "marker": {
             "colorbar": {
              "outlinewidth": 0,
              "ticks": ""
             }
            },
            "type": "scattermapbox"
           }
          ],
          "scatterpolar": [
           {
            "marker": {
             "colorbar": {
              "outlinewidth": 0,
              "ticks": ""
             }
            },
            "type": "scatterpolar"
           }
          ],
          "scatterpolargl": [
           {
            "marker": {
             "colorbar": {
              "outlinewidth": 0,
              "ticks": ""
             }
            },
            "type": "scatterpolargl"
           }
          ],
          "scatterternary": [
           {
            "marker": {
             "colorbar": {
              "outlinewidth": 0,
              "ticks": ""
             }
            },
            "type": "scatterternary"
           }
          ],
          "surface": [
           {
            "colorbar": {
             "outlinewidth": 0,
             "ticks": ""
            },
            "colorscale": [
             [
              0,
              "#0d0887"
             ],
             [
              0.1111111111111111,
              "#46039f"
             ],
             [
              0.2222222222222222,
              "#7201a8"
             ],
             [
              0.3333333333333333,
              "#9c179e"
             ],
             [
              0.4444444444444444,
              "#bd3786"
             ],
             [
              0.5555555555555556,
              "#d8576b"
             ],
             [
              0.6666666666666666,
              "#ed7953"
             ],
             [
              0.7777777777777778,
              "#fb9f3a"
             ],
             [
              0.8888888888888888,
              "#fdca26"
             ],
             [
              1,
              "#f0f921"
             ]
            ],
            "type": "surface"
           }
          ],
          "table": [
           {
            "cells": {
             "fill": {
              "color": "#EBF0F8"
             },
             "line": {
              "color": "white"
             }
            },
            "header": {
             "fill": {
              "color": "#C8D4E3"
             },
             "line": {
              "color": "white"
             }
            },
            "type": "table"
           }
          ]
         },
         "layout": {
          "annotationdefaults": {
           "arrowcolor": "#2a3f5f",
           "arrowhead": 0,
           "arrowwidth": 1
          },
          "autotypenumbers": "strict",
          "coloraxis": {
           "colorbar": {
            "outlinewidth": 0,
            "ticks": ""
           }
          },
          "colorscale": {
           "diverging": [
            [
             0,
             "#8e0152"
            ],
            [
             0.1,
             "#c51b7d"
            ],
            [
             0.2,
             "#de77ae"
            ],
            [
             0.3,
             "#f1b6da"
            ],
            [
             0.4,
             "#fde0ef"
            ],
            [
             0.5,
             "#f7f7f7"
            ],
            [
             0.6,
             "#e6f5d0"
            ],
            [
             0.7,
             "#b8e186"
            ],
            [
             0.8,
             "#7fbc41"
            ],
            [
             0.9,
             "#4d9221"
            ],
            [
             1,
             "#276419"
            ]
           ],
           "sequential": [
            [
             0,
             "#0d0887"
            ],
            [
             0.1111111111111111,
             "#46039f"
            ],
            [
             0.2222222222222222,
             "#7201a8"
            ],
            [
             0.3333333333333333,
             "#9c179e"
            ],
            [
             0.4444444444444444,
             "#bd3786"
            ],
            [
             0.5555555555555556,
             "#d8576b"
            ],
            [
             0.6666666666666666,
             "#ed7953"
            ],
            [
             0.7777777777777778,
             "#fb9f3a"
            ],
            [
             0.8888888888888888,
             "#fdca26"
            ],
            [
             1,
             "#f0f921"
            ]
           ],
           "sequentialminus": [
            [
             0,
             "#0d0887"
            ],
            [
             0.1111111111111111,
             "#46039f"
            ],
            [
             0.2222222222222222,
             "#7201a8"
            ],
            [
             0.3333333333333333,
             "#9c179e"
            ],
            [
             0.4444444444444444,
             "#bd3786"
            ],
            [
             0.5555555555555556,
             "#d8576b"
            ],
            [
             0.6666666666666666,
             "#ed7953"
            ],
            [
             0.7777777777777778,
             "#fb9f3a"
            ],
            [
             0.8888888888888888,
             "#fdca26"
            ],
            [
             1,
             "#f0f921"
            ]
           ]
          },
          "colorway": [
           "#636efa",
           "#EF553B",
           "#00cc96",
           "#ab63fa",
           "#FFA15A",
           "#19d3f3",
           "#FF6692",
           "#B6E880",
           "#FF97FF",
           "#FECB52"
          ],
          "font": {
           "color": "#2a3f5f"
          },
          "geo": {
           "bgcolor": "white",
           "lakecolor": "white",
           "landcolor": "white",
           "showlakes": true,
           "showland": true,
           "subunitcolor": "#C8D4E3"
          },
          "hoverlabel": {
           "align": "left"
          },
          "hovermode": "closest",
          "mapbox": {
           "style": "light"
          },
          "paper_bgcolor": "white",
          "plot_bgcolor": "white",
          "polar": {
           "angularaxis": {
            "gridcolor": "#EBF0F8",
            "linecolor": "#EBF0F8",
            "ticks": ""
           },
           "bgcolor": "white",
           "radialaxis": {
            "gridcolor": "#EBF0F8",
            "linecolor": "#EBF0F8",
            "ticks": ""
           }
          },
          "scene": {
           "xaxis": {
            "backgroundcolor": "white",
            "gridcolor": "#DFE8F3",
            "gridwidth": 2,
            "linecolor": "#EBF0F8",
            "showbackground": true,
            "ticks": "",
            "zerolinecolor": "#EBF0F8"
           },
           "yaxis": {
            "backgroundcolor": "white",
            "gridcolor": "#DFE8F3",
            "gridwidth": 2,
            "linecolor": "#EBF0F8",
            "showbackground": true,
            "ticks": "",
            "zerolinecolor": "#EBF0F8"
           },
           "zaxis": {
            "backgroundcolor": "white",
            "gridcolor": "#DFE8F3",
            "gridwidth": 2,
            "linecolor": "#EBF0F8",
            "showbackground": true,
            "ticks": "",
            "zerolinecolor": "#EBF0F8"
           }
          },
          "shapedefaults": {
           "line": {
            "color": "#2a3f5f"
           }
          },
          "ternary": {
           "aaxis": {
            "gridcolor": "#DFE8F3",
            "linecolor": "#A2B1C6",
            "ticks": ""
           },
           "baxis": {
            "gridcolor": "#DFE8F3",
            "linecolor": "#A2B1C6",
            "ticks": ""
           },
           "bgcolor": "white",
           "caxis": {
            "gridcolor": "#DFE8F3",
            "linecolor": "#A2B1C6",
            "ticks": ""
           }
          },
          "title": {
           "x": 0.05
          },
          "xaxis": {
           "automargin": true,
           "gridcolor": "#EBF0F8",
           "linecolor": "#EBF0F8",
           "ticks": "",
           "title": {
            "standoff": 15
           },
           "zerolinecolor": "#EBF0F8",
           "zerolinewidth": 2
          },
          "yaxis": {
           "automargin": true,
           "gridcolor": "#EBF0F8",
           "linecolor": "#EBF0F8",
           "ticks": "",
           "title": {
            "standoff": 15
           },
           "zerolinecolor": "#EBF0F8",
           "zerolinewidth": 2
          }
         }
        },
        "title": {
         "text": "Interactive UMAP Embedding"
        }
       }
      }
     },
     "metadata": {},
     "output_type": "display_data"
    }
   ],
   "source": [
    "from calvin_utils.ml_utils.brain_umap import BrainUmap\n",
    "umapper = BrainUmap(df=nimg_df, n_components=3, n_neighbors=10, min_dist=0.05, mask=mask, min_cluster_size=3,\n",
    "                    metric='correlation', projection=None, cluster_voxels=False)\n",
    "umapper.run()"
   ]
  },
  {
   "cell_type": "code",
   "execution_count": null,
   "id": "41b1cdba",
   "metadata": {},
   "outputs": [],
   "source": []
  }
 ],
 "metadata": {
  "kernelspec": {
   "display_name": "Python_3.7.7_nimlab",
   "language": "python",
   "name": "python3"
  },
  "language_info": {
   "codemirror_mode": {
    "name": "ipython",
    "version": 3
   },
   "file_extension": ".py",
   "mimetype": "text/x-python",
   "name": "python",
   "nbconvert_exporter": "python",
   "pygments_lexer": "ipython3",
   "version": "3.11.12"
  }
 },
 "nbformat": 4,
 "nbformat_minor": 5
}
