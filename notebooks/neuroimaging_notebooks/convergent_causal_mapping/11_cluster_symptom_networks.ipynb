{
 "cells": [
  {
   "cell_type": "markdown",
   "id": "2fcd3d67",
   "metadata": {},
   "source": [
    "Path to directory to save to"
   ]
  },
  {
   "cell_type": "code",
   "execution_count": null,
   "id": "90705200",
   "metadata": {},
   "outputs": [],
   "source": [
    "# Specify where you want to save your results to\n",
    "out_dir = '/Users/cu135/Partners HealthCare Dropbox/Calvin Howard/studies/rcp/analyses/test'"
   ]
  },
  {
   "cell_type": "markdown",
   "id": "62a6b6cf",
   "metadata": {},
   "source": [
    "Import Niftis\n",
    "- These are EXPECTED to have subject IDs which are IDENTICAL to the subject IDs that go in the covarite DF column names below\n",
    "- Column labels are subject IDs. \n",
    "- This is expected to ultimately have the form:\n",
    "\n",
    "|        |  1 |  2 |  3 |  4 |  5 |  6 |  7 |  8 |  9 |  10 | ... |  40 |  41 |  42 |  43 |  45 |  46 |  47 |  48 |  49 |  50 |\n",
    "|----------|------------|-----------|-----------|-----------|-----------|-----------|-----------|-----------|-----------|------------|-----|-------------|-------------|-------------|-------------|-------------|-------------|-------------|-------------|-------------|-------------|\n",
    "| Voxel 1     | 3          | 4         | 7         | 2         | 2         | 2         | 9         | 4         | 7         | 5          | ... | 5           | 2           | 7           | 7           | 3           | 8           | 8           | 1           | 1           | 3           |\n",
    "| . . .      | ...         | ...        | ...         | ...         | ...         | ...         | ...         | ...         | ...         | ...          | ... | ...           | ...           | ...           | ...           | ...           | ...           | 7           | ...           | ...           | ...           |\n",
    "| Voxel N     | 2          | 1         | 0         | 1         | 3         | 4         | 9         | 5         | 8         | 6          | ... | 6           | 3           | 8           | 8           | 4           | 9           | 9           | 2           | 2           | 4           |"
   ]
  },
  {
   "cell_type": "code",
   "execution_count": null,
   "id": "e755679a",
   "metadata": {},
   "outputs": [],
   "source": [
    "import_path = '/Users/cu135/Partners HealthCare Dropbox/Calvin Howard/resources/published_networks/Cognitive_Networks'\n",
    "file_target= '*/*.nii*'"
   ]
  },
  {
   "cell_type": "code",
   "execution_count": null,
   "id": "551afc1d",
   "metadata": {},
   "outputs": [],
   "source": [
    "from calvin_utils.file_utils.import_functions import GiiNiiFileImport\n",
    "giinii = GiiNiiFileImport(import_path=import_path, file_column=None, file_pattern=file_target)\n",
    "nimg_df = giinii.run()\n",
    "nimg_df"
   ]
  },
  {
   "cell_type": "markdown",
   "id": "c78de281",
   "metadata": {},
   "source": [
    "Select Mask"
   ]
  },
  {
   "cell_type": "code",
   "execution_count": null,
   "id": "861ee876",
   "metadata": {},
   "outputs": [],
   "source": [
    "mask = '/Users/cu135/hires_backdrops/mni/MNI152_T1_2mm_brain_mask.nii'"
   ]
  },
  {
   "cell_type": "markdown",
   "id": "d24216e2",
   "metadata": {},
   "source": [
    "Run Umap"
   ]
  },
  {
   "cell_type": "code",
   "execution_count": null,
   "id": "7138b7b9",
   "metadata": {},
   "outputs": [],
   "source": [
    "from calvin_utils.ml_utils.brain_umap import BrainUmap\n",
    "umapper = BrainUmap(data=nimg_df, n_components=3, n_neighbors=10, min_dist=0.05, mask=mask, min_cluster_size=3,\n",
    "                    metric='euclidean', projection=None, cluster_voxels=False)\n",
    "umapper.run()"
   ]
  },
  {
   "cell_type": "code",
   "execution_count": null,
   "id": "60237e4e",
   "metadata": {},
   "outputs": [],
   "source": []
  }
 ],
 "metadata": {
  "kernelspec": {
   "display_name": "Python 3",
   "language": "python",
   "name": "python3"
  },
  "language_info": {
   "codemirror_mode": {
    "name": "ipython",
    "version": 3
   },
   "file_extension": ".py",
   "mimetype": "text/x-python",
   "name": "python",
   "nbconvert_exporter": "python",
   "pygments_lexer": "ipython3",
   "version": "3.11.12"
  }
 },
 "nbformat": 4,
 "nbformat_minor": 5
}
