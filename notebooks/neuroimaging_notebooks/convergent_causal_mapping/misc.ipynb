{
 "cells": [
  {
   "cell_type": "code",
   "execution_count": 3,
   "metadata": {},
   "outputs": [
    {
     "name": "stdout",
     "output_type": "stream",
     "text": [
      "Correlation: 0.998388485268855, p-value: 6.920430693776413e-24\n"
     ]
    }
   ],
   "source": [
    "import numpy as np\n",
    "from scipy.stats import pearsonr\n",
    "\n",
    "def correlate_npy_files(file1_path, file2_path):\n",
    "    # Load the .npy files\n",
    "    data1 = np.load(file1_path)\n",
    "    data2 = np.load(file2_path)\n",
    "\n",
    "    # Ensure the data shapes are compatible for correlation\n",
    "    if data1.shape != data2.shape:\n",
    "        raise ValueError(\"The shapes of the two datasets do not match.\")\n",
    "    \n",
    "    #nan check\n",
    "    if np.isnan(data1).any():\n",
    "        print('nan in data1')\n",
    "        raise ValueError(\"The datasets contain NaN values.\")\n",
    "    if np.isnan(data2).any():\n",
    "        print('nan in data2')\n",
    "        raise ValueError(\"The datasets contain NaN values.\")\n",
    "\n",
    "    # Flatten the data to 1D arrays\n",
    "    data1_flat = data1.flatten()\n",
    "    data2_flat = data2.flatten()\n",
    "\n",
    "    # Calculate the Pearson correlation coefficient\n",
    "    correlation, p_value = pearsonr(data1_flat, data2_flat)\n",
    "\n",
    "    return correlation, p_value\n",
    "\n",
    "# Example usage\n",
    "file1_path = '/Users/cu135/Partners HealthCare Dropbox/Calvin Howard/studies/ccm_memory/results/notebook_02/tmp/adni_memory/indep_var.npy'\n",
    "file2_path = '/Users/cu135/Partners HealthCare Dropbox/Calvin Howard/studies/ccm_memory/results/notebook_02/tmp_ols/adni_memory/indep_var.npy'\n",
    "\n",
    "correlation, p_value = correlate_npy_files(file1_path, file2_path)\n",
    "print(f\"Correlation: {correlation}, p-value: {p_value}\")"
   ]
  },
  {
   "cell_type": "code",
   "execution_count": null,
   "metadata": {},
   "outputs": [],
   "source": []
  }
 ],
 "metadata": {
  "kernelspec": {
   "display_name": "nimlab_py310",
   "language": "python",
   "name": "python3"
  },
  "language_info": {
   "codemirror_mode": {
    "name": "ipython",
    "version": 3
   },
   "file_extension": ".py",
   "mimetype": "text/x-python",
   "name": "python",
   "nbconvert_exporter": "python",
   "pygments_lexer": "ipython3",
   "version": "3.10.8"
  }
 },
 "nbformat": 4,
 "nbformat_minor": 2
}
