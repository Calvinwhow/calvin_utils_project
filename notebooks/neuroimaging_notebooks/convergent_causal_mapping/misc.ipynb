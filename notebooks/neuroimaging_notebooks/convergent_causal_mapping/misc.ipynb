{
 "cells": [
  {
   "cell_type": "code",
   "execution_count": 4,
   "metadata": {},
   "outputs": [
    {
     "name": "stdout",
     "output_type": "stream",
     "text": [
      "Correlation: 0.9707757310837901, p-value: 0.0\n"
     ]
    }
   ],
   "source": [
    "import numpy as np\n",
    "from scipy.stats import pearsonr\n",
    "\n",
    "def correlate_npy_files(file1_path, file2_path):\n",
    "    # Load the .npy files\n",
    "    data1 = np.load(file1_path)\n",
    "    data2 = np.load(file2_path)\n",
    "\n",
    "    # Ensure the data shapes are compatible for correlation\n",
    "    if data1.shape != data2.shape:\n",
    "        raise ValueError(\"The shapes of the two datasets do not match.\")\n",
    "    # \n",
    "    #nan check\n",
    "    if np.isnan(data1).any():\n",
    "        print('nan in data1')\n",
    "        data1 = np.nan_to_num(data1, nan=0, posinf=0, neginf=0)\n",
    "        print(np.max(data1), np.min(data1), np.median(data1))\n",
    "    if np.isnan(data2).any():\n",
    "        print('nan in data2')\n",
    "        data2 = np.nan_to_num(data2, nan=0, posinf=0, neginf=0)\n",
    "        print(np.max(data2), np.min(data2), np.median(data2))\n",
    "\n",
    "    # Flatten the data to 1D arrays\n",
    "    data1_flat = data1.flatten()\n",
    "    data2_flat = data2.flatten()\n",
    "\n",
    "    # Calculate the Pearson correlation coefficient\n",
    "    correlation, p_value = pearsonr(data1_flat, data2_flat)\n",
    "\n",
    "    return correlation, p_value\n",
    "\n",
    "# Example usage\n",
    "file1_path = '/Users/cu135/Partners HealthCare Dropbox/Calvin Howard/studies/ccm_memory/results/notebook_02/tmp_tnsr/sante_memory/niftis.npy'\n",
    "file2_path = '/Users/cu135/Partners HealthCare Dropbox/Calvin Howard/studies/ccm_memory/results/notebook_02/tmp_ols/sante_memory/niftis.npy'\n",
    "\n",
    "correlation, p_value = correlate_npy_files(file1_path, file2_path)\n",
    "print(f\"Correlation: {correlation}, p-value: {p_value}\")"
   ]
  },
  {
   "cell_type": "code",
   "execution_count": 2,
   "metadata": {},
   "outputs": [
    {
     "name": "stdout",
     "output_type": "stream",
     "text": [
      "Vectorized Spearman's Rho Time: 2.5860 seconds\n",
      "Looped Spearman's Rho Time: 140.3134 seconds\n",
      "Difference in Rho values: 0.000000\n",
      "Are the results close? True\n"
     ]
    }
   ],
   "source": [
    "import numpy as np\n",
    "from scipy.stats import spearmanr\n",
    "import time\n",
    "\n",
    "def vectorized_rankdata(a):\n",
    "    \"\"\"\n",
    "    Vectorized ranking function using NumPy.\n",
    "\n",
    "    Parameters:\n",
    "    -----------\n",
    "    a : np.array\n",
    "        Input array to be ranked.\n",
    "\n",
    "    Returns:\n",
    "    --------\n",
    "    ranks : np.array\n",
    "        Ranked array.\n",
    "    \"\"\"\n",
    "    ranks = np.empty_like(a, dtype=float)\n",
    "    ranks[np.argsort(a)] = np.arange(len(a)) + 1\n",
    "    return ranks\n",
    "\n",
    "def vectorized_spearmanr(niftis, indep_var):\n",
    "    \"\"\"\n",
    "    Calculate the Spearman rank-order correlation coefficient for each voxel\n",
    "    in a fully vectorized manner.\n",
    "\n",
    "    Parameters:\n",
    "    -----------\n",
    "    niftis : np.array\n",
    "        2D array where each row represents a subject and each column represents a voxel.\n",
    "    indep_var : np.array\n",
    "        1D array representing the independent variable for each subject.\n",
    "\n",
    "    Returns:\n",
    "    --------\n",
    "    rho : np.array\n",
    "        1D array of Spearman's rank correlation coefficients for each voxel.\n",
    "    \"\"\"\n",
    "    # Rank the data\n",
    "    ranked_niftis = np.apply_along_axis(vectorized_rankdata, 0, niftis)\n",
    "    ranked_indep_var = vectorized_rankdata(indep_var)\n",
    "\n",
    "    # Calculate the differences between the ranks\n",
    "    d = ranked_niftis - ranked_indep_var[:, np.newaxis]\n",
    "\n",
    "    # Square the differences\n",
    "    d_squared = d ** 2\n",
    "\n",
    "    # Sum the squared differences\n",
    "    sum_d_squared = np.sum(d_squared, axis=0)\n",
    "\n",
    "    # Number of observations\n",
    "    n = niftis.shape[0]\n",
    "\n",
    "    # Apply the Spearman's Rho formula\n",
    "    rho = 1 - (6 * sum_d_squared) / (n * (n**2 - 1))\n",
    "\n",
    "    return rho\n",
    "\n",
    "# Generate synthetic data\n",
    "np.random.seed(42)\n",
    "n_observations = 100\n",
    "n_voxels = 200000\n",
    "niftis = np.random.rand(n_observations, n_voxels)\n",
    "indep_var = np.random.rand(n_observations)\n",
    "\n",
    "# Vectorized Spearman's Rho\n",
    "start_time = time.time()\n",
    "vectorized_rho = vectorized_spearmanr(niftis, indep_var)\n",
    "vectorized_time = time.time() - start_time\n",
    "\n",
    "# Looped Spearman's Rho using scipy.stats\n",
    "start_time = time.time()\n",
    "looped_rho = np.zeros(n_voxels)\n",
    "for i in range(n_voxels):\n",
    "    looped_rho[i] = spearmanr(niftis[:, i], indep_var)[0]\n",
    "looped_time = time.time() - start_time\n",
    "\n",
    "# Compare the results\n",
    "print(f\"Vectorized Spearman's Rho Time: {vectorized_time:.4f} seconds\")\n",
    "print(f\"Looped Spearman's Rho Time: {looped_time:.4f} seconds\")\n",
    "print(f\"Difference in Rho values: {np.mean(np.abs(vectorized_rho - looped_rho)):.6f}\")\n",
    "\n",
    "# Check if the results are close\n",
    "print(f\"Are the results close? {np.allclose(vectorized_rho, looped_rho)}\")"
   ]
  },
  {
   "cell_type": "code",
   "execution_count": 9,
   "metadata": {},
   "outputs": [
    {
     "name": "stdout",
     "output_type": "stream",
     "text": [
      "Vectorized Spearman's Rho Time: 4.0655 seconds\n",
      "Looped Spearman's Rho Time: 156.7029 seconds\n",
      "Difference in Rho values: nan\n",
      "Are the results close? False\n"
     ]
    }
   ],
   "source": [
    "import json\n",
    "import numpy as np\n",
    "import time\n",
    "from scipy.stats import spearmanr\n",
    "from calvin_utils.ccm_utils.npy_utils import DataLoader\n",
    "from calvin_utils.ccm_utils.stat_utils import CorrelationCalculator\n",
    "\n",
    "\n",
    "\n",
    "def _calculate_pearson_r_map(self, niftis, indep_var):\n",
    "        X = indep_var\n",
    "        Y = niftis\n",
    "        X_BAR = X.mean(axis=0)[:, np.newaxis]\n",
    "        Y_BAR = Y.mean(axis=0)[np.newaxis, :]\n",
    "        X_C = X - X_BAR\n",
    "        Y_C = Y - Y_BAR\n",
    "        NUMERATOR = np.dot(X_C.T, Y_C)\n",
    "        SST_X = np.sum((X - X_BAR)**2, axis=0)\n",
    "        SST_Y = np.sum((Y - Y_BAR)**2, axis=0)\n",
    "        DENOMINATOR = np.sqrt(SST_X * SST_Y)\n",
    "        r = NUMERATOR / DENOMINATOR\n",
    "        \n",
    "        if self.verbose:\n",
    "            print(f\"Shape of X: {X.shape}\")\n",
    "            print(f\"Shape of Y: {Y.shape}\")\n",
    "            print(f\"Shape of X_BAR: {X_BAR.shape}\")\n",
    "            print(f\"Shape of Y_BAR: {Y_BAR.shape}\")\n",
    "            print(f\"Shape of X_C: {X_C.shape}\")\n",
    "            print(f\"Shape of Y_C: {Y_C.shape}\")\n",
    "            print(f\"Shape of NUMERATOR: {NUMERATOR.shape}\")\n",
    "            print(f\"Shape of DENOMINATOR: {DENOMINATOR.shape}\")\n",
    "        return r\n",
    "    \n",
    "def vectorized_spearmanr(niftis, indep_var):\n",
    "    \"\"\"\n",
    "    Calculate the Spearman rank-order correlation coefficient for each voxel\n",
    "    in a fully vectorized manner.\n",
    "\n",
    "    Parameters:\n",
    "    -----------\n",
    "    niftis : np.array\n",
    "        2D array where each row represents a subject and each column represents a voxel.\n",
    "    indep_var : np.array\n",
    "        1D array representing the independent variable for each subject.\n",
    "\n",
    "    Returns:\n",
    "    --------\n",
    "    rho : np.array\n",
    "        1D array of Spearman's rank correlation coefficients for each voxel.\n",
    "    \"\"\"\n",
    "    # Rank the data\n",
    "    ranked_niftis = np.apply_along_axis(vectorized_rankdata, 0, niftis)\n",
    "    ranked_indep_var = vectorized_rankdata(indep_var)\n",
    "\n",
    "    # Calculate the differences between the ranks\n",
    "    d = ranked_niftis - ranked_indep_var[:, np.newaxis]\n",
    "\n",
    "    # Square the differences\n",
    "    d_squared = d ** 2\n",
    "\n",
    "    # Sum the squared differences\n",
    "    sum_d_squared = np.sum(d_squared, axis=0)\n",
    "\n",
    "    # Number of observations\n",
    "    n = niftis.shape[0]\n",
    "\n",
    "    # Apply the Spearman's Rho formula\n",
    "    rho = 1 - (6 * sum_d_squared) / (n * (n**2 - 1))\n",
    "\n",
    "    return rho\n",
    "\n",
    "# Load the dataset\n",
    "data_dict_path = '/Users/cu135/Partners HealthCare Dropbox/Calvin Howard/studies/ccm_memory/results/notebook_02/tmp/dataset_dict.json'\n",
    "data_loader = DataLoader(data_dict_path)\n",
    "\n",
    "# Get the first dataset\n",
    "with open(data_dict_path, 'r') as f:\n",
    "    dataset_paths = json.load(f)\n",
    "first_dataset_name = list(dataset_paths.keys())[1]\n",
    "first_dataset = data_loader.load_dataset(first_dataset_name)\n",
    "\n",
    "niftis = first_dataset['niftis']\n",
    "indep_var = first_dataset['indep_var']\n",
    "\n",
    "# Vectorized Spearman's Rho\n",
    "start_time = time.time()\n",
    "vectorized_rho = vectorized_spearmanr(niftis, indep_var)\n",
    "vectorized_time = time.time() - start_time\n",
    "\n",
    "# Looped Spearman's Rho using scipy.stats\n",
    "start_time = time.time()\n",
    "looped_rho = np.zeros(niftis.shape[1])\n",
    "for i in range(niftis.shape[1]):\n",
    "    looped_rho[i] = spearmanr(niftis[:, i], indep_var)[0]\n",
    "looped_time = time.time() - start_time\n",
    "\n",
    "# Compare the results\n",
    "print(f\"Vectorized Spearman's Rho Time: {vectorized_time:.4f} seconds\")\n",
    "print(f\"Looped Spearman's Rho Time: {looped_time:.4f} seconds\")\n",
    "print(f\"Difference in Rho values: {np.mean(np.abs(vectorized_rho - looped_rho)):.6f}\")\n"
   ]
  },
  {
   "cell_type": "code",
   "execution_count": 19,
   "metadata": {},
   "outputs": [
    {
     "name": "stdout",
     "output_type": "stream",
     "text": [
      "Are the results close? False\n"
     ]
    }
   ],
   "source": [
    "# Check if the results are close\n",
    "print(f\"Are the results close? {np.allclose(np.nan_to_num(vectorized_rho), np.nan_to_num(looped_rho))}\")"
   ]
  },
  {
   "cell_type": "code",
   "execution_count": 18,
   "metadata": {},
   "outputs": [
    {
     "data": {
      "text/plain": [
       "PearsonRResult(statistic=0.890446300992941, pvalue=0.0)"
      ]
     },
     "execution_count": 18,
     "metadata": {},
     "output_type": "execute_result"
    }
   ],
   "source": [
    "import numpy as np\n",
    "from scipy.stats import pearsonr\n",
    "pearsonr(np.nan_to_num(vectorized_rho), np.nan_to_num(looped_rho))"
   ]
  },
  {
   "cell_type": "code",
   "execution_count": null,
   "metadata": {},
   "outputs": [
    {
     "name": "stdout",
     "output_type": "stream",
     "text": [
      "(196,) (196, 225222)\n",
      "Vectorized Spearman's Rho Time: 14.3019 seconds\n",
      "Looped Spearman's Rho Time: 156.7029 seconds\n",
      "Difference in Rho values: nan\n",
      "Are the results close? True\n"
     ]
    }
   ],
   "source": [
    "import json\n",
    "import numpy as np\n",
    "import time\n",
    "from calvin_utils.ccm_utils.npy_utils import DataLoader\n",
    "from calvin_utils.ccm_utils.stat_utils import CorrelationCalculator\n",
    "\n",
    "\n",
    "\n",
    "# Vectorized Spearman's Rho\n",
    "start_time2 = time.time()\n",
    "vectorized_rho2 = vectorized_spearmanr(niftis, indep_var)\n",
    "vectorized_time2 = time.time() - start_time2\n",
    "\n",
    "# # Looped Spearman's Rho using scipy.stats\n",
    "# start_time = time.time()\n",
    "# looped_rho = np.zeros(niftis.shape[1])\n",
    "# for i in range(niftis.shape[1]):\n",
    "#     looped_rho[i] = spearmanr(niftis[:, i], indep_var)[1]\n",
    "# looped_time = time.time() - start_time\n",
    "\n",
    "# Compare the results\n",
    "print(f\"Vectorized Spearman's Rho Time: {vectorized_time2:.4f} seconds\")\n",
    "print(f\"Looped Spearman's Rho Time: {looped_time:.4f} seconds\")\n",
    "print(f\"Difference in Rho values: {np.mean(np.abs(vectorized_rho2 - looped_rho)):.6f}\")\n",
    "\n",
    "# Check if the results are close\n",
    "print(f\"Are the results close? {np.allclose(np.nan_to_num(vectorized_rho2), np.nan_to_num(looped_rho))}\")"
   ]
  },
  {
   "cell_type": "code",
   "execution_count": 24,
   "metadata": {},
   "outputs": [
    {
     "data": {
      "text/plain": [
       "array([[-0.01816769, -0.00646321,  0.00698411, ...,  0.00151471,\n",
       "         0.00838818,  0.00654154]])"
      ]
     },
     "execution_count": 24,
     "metadata": {},
     "output_type": "execute_result"
    }
   ],
   "source": [
    "vectorized_rho2"
   ]
  },
  {
   "cell_type": "code",
   "execution_count": 25,
   "metadata": {},
   "outputs": [
    {
     "data": {
      "text/plain": [
       "array([-0.01816769, -0.00646321,  0.00698411, ...,  0.00151471,\n",
       "        0.00838818,  0.00654154])"
      ]
     },
     "execution_count": 25,
     "metadata": {},
     "output_type": "execute_result"
    }
   ],
   "source": [
    "looped_rho"
   ]
  },
  {
   "cell_type": "code",
   "execution_count": null,
   "metadata": {},
   "outputs": [],
   "source": []
  }
 ],
 "metadata": {
  "kernelspec": {
   "display_name": "nimlab_py310",
   "language": "python",
   "name": "python3"
  },
  "language_info": {
   "codemirror_mode": {
    "name": "ipython",
    "version": 3
   },
   "file_extension": ".py",
   "mimetype": "text/x-python",
   "name": "python",
   "nbconvert_exporter": "python",
   "pygments_lexer": "ipython3",
   "version": "3.10.16"
  }
 },
 "nbformat": 4,
 "nbformat_minor": 2
}
