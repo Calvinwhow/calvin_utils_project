{
 "cells": [
  {
   "cell_type": "markdown",
   "id": "2910eafe",
   "metadata": {},
   "source": [
    "# Get Files and Put them in a CSV\n",
    "- To prepare a master list, create a dictionary as instructed, where each dataset is a key\n",
    "    - 'nifti_path': str, a wildcarded path to NIFTI files.\n",
    "    - 'csv_path': str, the absolute path to a CSV file containing subject data.\n",
    "    - 'subj_col': str, the column name in the CSV file that contains subject IDs.\n",
    "    - 'indep_col': str, the column name in the CSV file that contains the independent variable.\n",
    "    - 'covariate_col': dict, a dictionary where keys are common covariate names and values are the corresponding column names in the CSV file.\n",
    "\n",
    "- Example:\n",
    "```\n",
    "data_dict = {\n",
    "    'Dataset1': {\n",
    "        'nifti_path': '/path/to/niftis/*.nii.gz',\n",
    "        'csv_path': '/path/to/csv1.csv',\n",
    "        'subj_col': 'sub',\n",
    "        'indep_col': 'Indep. Var.',\n",
    "        'covariate_col': {'age': 'Age', 'sex': 'Sex', 'baseline': 'ADAS-Cog11'}\n",
    "    },\n",
    "    'Dataset2': {\n",
    "        'nifti_path': '/path/to/niftis/*.nii.gz',\n",
    "        'csv_path': '/path/to/csv2.csv',\n",
    "        'subj_col': 'sub',\n",
    "        'indep_col': 'Indep. Var.',\n",
    "        'covariate_col': {'age': 'pt_Age', 'sex': 'Sex', 'baseline': 'MDRS'}\n",
    "    }\n",
    "}\n",
    "```"
   ]
  },
  {
   "cell_type": "code",
   "execution_count": 3,
   "id": "9856252d",
   "metadata": {},
   "outputs": [],
   "source": [
    "data_dict = {\n",
    "    'adni_memory': {\n",
    "        'nifti_path': '/Volumes/OneTouch/datasets/adni/neuroimaging/all_patients_atrophy_seeds/sub-*/ses*/unthresholded_tissue_segment_z_scores/*_grey_matter+cerebrospinal_fluid.nii',\n",
    "        'csv_path': '/Volumes/OneTouch/datasets/adni/metadata/updated_master_list/master_dx_updated_fix_composite.csv',\n",
    "        'subj_col': 'subid',\n",
    "        'indep_col': 'Q4',\n",
    "        'covariate_col': {'age': 'Age', 'sex': 'Sex', 'diagnosis': 'DIAGNOSIS_CURRENT_Str', 'overal_cognition': 'TOTAL11', 'lesion_size': ''}\n",
    "    },\n",
    "    'corbetta_memory': {\n",
    "        'nifti_path': '/Volumes/OneTouch/datasets/CORBETTA_STROKE_MULTIFOCAL/BIDS_Dataset/sub-*/connectivity/sub-*-yeo1k_stat-t_conn.nii.gz',\n",
    "        'csv_path': '/Volumes/OneTouch/datasets/CORBETTA_STROKE_MULTIFOCAL/Study_Metadata/3month_arm_1_with_basic_info.csv',\n",
    "        'subj_col': 'subid',\n",
    "        'indep_col': 'hvlt_perc',\n",
    "        'covariate_col': {'age': 'age', 'sex': 'gender', 'diagnosis': 'stroke', 'overal_cognition': 'nihss_hospital', 'lesion_size': ''}\n",
    "    },\n",
    "    'grafmann_memory': {\n",
    "        'nifti_path': '/Volumes/OneTouch/datasets/GRAFMAN_TBI_MULTIFOCAL/grafman_fc/sub-*/connectivity/sub-*-yeo1000udil_space-2mm_stat-t_conn.nii.gz',\n",
    "        'csv_path': '/Volumes/OneTouch/datasets/GRAFMAN_TBI_MULTIFOCAL/metadata/master_list.csv',\n",
    "        'subj_col': 'vhis_id',\n",
    "        'indep_col': 'mmse6',\n",
    "        'covariate_col': {'age': '', 'sex': '', 'diagnosis': 'diagnosis', 'tbi': 'mmse12', 'lesion_size': 'lesion_size'}\n",
    "    },\n",
    "    'manitoba_memory': {\n",
    "        'nifti_path': '/Volumes/OneTouch/datasets/Manitoba_Epilepsy_PET/PET_Conn/sub-*-2mm_lesionMask_T.nii.gz',\n",
    "        'csv_path': '/Volumes/OneTouch/datasets/Manitoba_Epilepsy_PET/metadata/master_list.csv',\n",
    "        'subj_col': 'subject',\n",
    "        'indep_col': 'Overall_Memory',\n",
    "        'covariate_col': {'age': 'Age_At_Testing', 'sex': 'Sex', 'diagnosis': 'epilepsy', 'overal_cognition': 'Total (max=100)', 'lesion_size': ''}\n",
    "    },\n",
    "    'kahana_memory': {\n",
    "        'nifti_path': '/Volumes/OneTouch/datasets/Kahana_Epilepsy_iEEG/derivatives/connectivity/sub*_T.nii.gz',\n",
    "        'csv_path': '/Volumes/OneTouch/datasets/Kahana_Epilepsy_iEEG/master_list.csv',\n",
    "        'subj_col': 'subject',\n",
    "        'indep_col': 'deltarec',\n",
    "        'covariate_col': {'age': '', 'sex': '', 'diagnosis': 'epilepsy', 'overal_cognition': '', 'lesion_size': ''}\n",
    "    },\n",
    "    'queensland_memory': {\n",
    "        'nifti_path': '/Volumes/OneTouch/datasets/Queensland_PD_DBS_STN/BIDSdata/derivatives/leaddbs/sub-*/stimulations/MNI152NLin2009bAsym/gs_20200826142724/GSP 1000 (Yeo 2011)_Full Set (Yeo 2011)/vat_seed_compound_fMRI_efield_func_seed_T.nii',\n",
    "        'csv_path': '/Volumes/OneTouch/datasets/Queensland_PD_DBS_STN/Clinical/queensland_cognition.csv',\n",
    "        'subj_col': 'Subject',\n",
    "        'indep_col': 'MOCA_Recall_change_PreToFU4_percent',\n",
    "        'covariate_col': {'age': 'age_at_surgery', 'sex': '', 'diagnosis': 'parkinson', 'overal_cognition': 'FU4_MOCA_Total', 'lesion_size': ''}\n",
    "    },\n",
    "    'sante_memory': {\n",
    "        'nifti_path': '/Volumes/OneTouch/datasets/SANTE_Epilepsy_DBS_ANT/derivatives/conn/sub-*/connectivity/sub-*-yeo1000udil_space-2mm_stat-t_conn.nii.gz',\n",
    "        'csv_path': '/Volumes/OneTouch/datasets/SANTE_Epilepsy_DBS_ANT/metadata/sante_cognitive_scores_with_percent_change_WIDE.csv',\n",
    "        'subj_col': 'subject',\n",
    "        'indep_col': 'Trouble remembering-number Percent Change Corrected V2_Month 6',\n",
    "        'covariate_col': {'age': '', 'sex': '', 'diagnosis': 'epilepsy', 'overal_cognition': 'Concentrating on reading-number Percent Change Corrected V2_Month 6', 'lesion_size': ''}\n",
    "    },\n",
    "    'fornix_memory': {\n",
    "        'nifti_path': '/Volumes/OneTouch/datasets/AD_dataset/*/stimulations/MNI_ICBM_2009b_NLIN_ASYM/gs_20180403170745/GSP 1000 (Yeo 2011)_Full Set (Yeo 2011)/vat_seed_compound_fMRI_efield_func_seed_T.nii',\n",
    "        'csv_path': '/Volumes/OneTouch/datasets/AD_dataset/ad_data.csv',\n",
    "        'subj_col': 'Patient # CDR, ADAS',\n",
    "        'indep_col': '% Change from baseline (ADAS-Cog11)',\n",
    "        'covariate_col': {'age': 'Age at DOS', 'sex': '', 'diagnosis': 'alzheimer', 'overal_cognition': 'Baseline CDR (sum of squares)', 'lesion_size': ''}\n",
    "    }\n",
    "}"
   ]
  },
  {
   "cell_type": "markdown",
   "id": "c6bdcd77",
   "metadata": {},
   "source": [
    "Generate the DataFrame"
   ]
  },
  {
   "cell_type": "code",
   "execution_count": 4,
   "id": "624112b1",
   "metadata": {},
   "outputs": [
    {
     "name": "stdout",
     "output_type": "stream",
     "text": [
      "Processing dataset: adni_memory\n"
     ]
    },
    {
     "name": "stderr",
     "output_type": "stream",
     "text": [
      "processing subjects: 100%|██████████| 1388/1388 [00:00<00:00, 1402.72it/s]\n"
     ]
    },
    {
     "name": "stdout",
     "output_type": "stream",
     "text": [
      "Processing dataset: corbetta_memory\n"
     ]
    },
    {
     "name": "stderr",
     "output_type": "stream",
     "text": [
      "processing subjects: 100%|██████████| 178/178 [00:00<00:00, 1989.79it/s]\n"
     ]
    },
    {
     "name": "stdout",
     "output_type": "stream",
     "text": [
      "Processing dataset: grafmann_memory\n"
     ]
    },
    {
     "name": "stderr",
     "output_type": "stream",
     "text": [
      "processing subjects: 100%|██████████| 647/647 [00:00<00:00, 5518.69it/s]\n"
     ]
    },
    {
     "name": "stdout",
     "output_type": "stream",
     "text": [
      "Processing dataset: manitoba_memory\n"
     ]
    },
    {
     "name": "stderr",
     "output_type": "stream",
     "text": [
      "processing subjects: 100%|██████████| 59/59 [00:00<00:00, 2342.94it/s]\n"
     ]
    },
    {
     "name": "stdout",
     "output_type": "stream",
     "text": [
      "Processing dataset: kahana_memory\n"
     ]
    },
    {
     "name": "stderr",
     "output_type": "stream",
     "text": [
      "processing subjects: 100%|██████████| 108/108 [00:00<00:00, 1850.73it/s]\n"
     ]
    },
    {
     "name": "stdout",
     "output_type": "stream",
     "text": [
      "Processing dataset: queensland_memory\n"
     ]
    },
    {
     "name": "stderr",
     "output_type": "stream",
     "text": [
      "processing subjects: 100%|██████████| 60/60 [00:00<00:00, 42309.72it/s]\n"
     ]
    },
    {
     "name": "stdout",
     "output_type": "stream",
     "text": [
      "Processing dataset: sante_memory\n"
     ]
    },
    {
     "name": "stderr",
     "output_type": "stream",
     "text": [
      "processing subjects: 100%|██████████| 74/74 [00:00<00:00, 1290.03it/s]\n"
     ]
    },
    {
     "name": "stdout",
     "output_type": "stream",
     "text": [
      "Processing dataset: fornix_memory\n"
     ]
    },
    {
     "ename": "KeyError",
     "evalue": "'subid'",
     "output_type": "error",
     "traceback": [
      "\u001b[0;31m---------------------------------------------------------------------------\u001b[0m",
      "\u001b[0;31mKeyError\u001b[0m                                  Traceback (most recent call last)",
      "File \u001b[0;32m~/.local/lib/python3.10/site-packages/pandas/core/indexes/base.py:3805\u001b[0m, in \u001b[0;36mIndex.get_loc\u001b[0;34m(self, key)\u001b[0m\n\u001b[1;32m   3804\u001b[0m \u001b[38;5;28;01mtry\u001b[39;00m:\n\u001b[0;32m-> 3805\u001b[0m     \u001b[38;5;28;01mreturn\u001b[39;00m \u001b[38;5;28;43mself\u001b[39;49m\u001b[38;5;241;43m.\u001b[39;49m\u001b[43m_engine\u001b[49m\u001b[38;5;241;43m.\u001b[39;49m\u001b[43mget_loc\u001b[49m\u001b[43m(\u001b[49m\u001b[43mcasted_key\u001b[49m\u001b[43m)\u001b[49m\n\u001b[1;32m   3806\u001b[0m \u001b[38;5;28;01mexcept\u001b[39;00m \u001b[38;5;167;01mKeyError\u001b[39;00m \u001b[38;5;28;01mas\u001b[39;00m err:\n",
      "File \u001b[0;32mindex.pyx:167\u001b[0m, in \u001b[0;36mpandas._libs.index.IndexEngine.get_loc\u001b[0;34m()\u001b[0m\n",
      "File \u001b[0;32mindex.pyx:196\u001b[0m, in \u001b[0;36mpandas._libs.index.IndexEngine.get_loc\u001b[0;34m()\u001b[0m\n",
      "File \u001b[0;32mpandas/_libs/hashtable_class_helper.pxi:7081\u001b[0m, in \u001b[0;36mpandas._libs.hashtable.PyObjectHashTable.get_item\u001b[0;34m()\u001b[0m\n",
      "File \u001b[0;32mpandas/_libs/hashtable_class_helper.pxi:7089\u001b[0m, in \u001b[0;36mpandas._libs.hashtable.PyObjectHashTable.get_item\u001b[0;34m()\u001b[0m\n",
      "\u001b[0;31mKeyError\u001b[0m: 'subid'",
      "\nThe above exception was the direct cause of the following exception:\n",
      "\u001b[0;31mKeyError\u001b[0m                                  Traceback (most recent call last)",
      "Cell \u001b[0;32mIn[4], line 3\u001b[0m\n\u001b[1;32m      1\u001b[0m \u001b[38;5;28;01mfrom\u001b[39;00m \u001b[38;5;21;01mcalvin_utils\u001b[39;00m\u001b[38;5;21;01m.\u001b[39;00m\u001b[38;5;21;01mfile_utils\u001b[39;00m\u001b[38;5;21;01m.\u001b[39;00m\u001b[38;5;21;01mcsv_prep\u001b[39;00m \u001b[38;5;28;01mimport\u001b[39;00m CSVComposer\n\u001b[1;32m      2\u001b[0m composer \u001b[38;5;241m=\u001b[39m CSVComposer(data_dict)\n\u001b[0;32m----> 3\u001b[0m \u001b[43mcomposer\u001b[49m\u001b[38;5;241;43m.\u001b[39;49m\u001b[43mcompose_df\u001b[49m\u001b[43m(\u001b[49m\u001b[43m)\u001b[49m\n\u001b[1;32m      4\u001b[0m display(composer\u001b[38;5;241m.\u001b[39mcomposed_df)\n",
      "File \u001b[0;32m~/Library/CloudStorage/OneDrive-Personal/OneDrive_Documents/Work/Software/calvin_utils_project/calvin_utils_project/calvin_utils/file_utils/csv_prep.py:46\u001b[0m, in \u001b[0;36mCSVComposer.compose_df\u001b[0;34m(self)\u001b[0m\n\u001b[1;32m     43\u001b[0m nifti_paths \u001b[38;5;241m=\u001b[39m glob(params[\u001b[38;5;124m'\u001b[39m\u001b[38;5;124mnifti_path\u001b[39m\u001b[38;5;124m'\u001b[39m])\n\u001b[1;32m     44\u001b[0m csv_data \u001b[38;5;241m=\u001b[39m pd\u001b[38;5;241m.\u001b[39mread_csv(params[\u001b[38;5;124m'\u001b[39m\u001b[38;5;124mcsv_path\u001b[39m\u001b[38;5;124m'\u001b[39m])\n\u001b[0;32m---> 46\u001b[0m \u001b[38;5;28;01mfor\u001b[39;00m subject_id \u001b[38;5;129;01min\u001b[39;00m tqdm(\u001b[43mcsv_data\u001b[49m\u001b[43m[\u001b[49m\u001b[43mparams\u001b[49m\u001b[43m[\u001b[49m\u001b[38;5;124;43m'\u001b[39;49m\u001b[38;5;124;43msubj_col\u001b[39;49m\u001b[38;5;124;43m'\u001b[39;49m\u001b[43m]\u001b[49m\u001b[43m]\u001b[49m\u001b[38;5;241m.\u001b[39munique(), desc\u001b[38;5;241m=\u001b[39m\u001b[38;5;124m'\u001b[39m\u001b[38;5;124mprocessing subjects\u001b[39m\u001b[38;5;124m'\u001b[39m):\n\u001b[1;32m     47\u001b[0m     matched_nifti_path \u001b[38;5;241m=\u001b[39m \u001b[38;5;28mself\u001b[39m\u001b[38;5;241m.\u001b[39m_find_nifti_path_for_subject(nifti_paths, subject_id)\n\u001b[1;32m     48\u001b[0m     \u001b[38;5;28;01mif\u001b[39;00m matched_nifti_path \u001b[38;5;129;01mis\u001b[39;00m \u001b[38;5;28;01mNone\u001b[39;00m:         \u001b[38;5;66;03m# Skip if no NIFTI file found for the subject\u001b[39;00m\n",
      "File \u001b[0;32m~/.local/lib/python3.10/site-packages/pandas/core/frame.py:4102\u001b[0m, in \u001b[0;36mDataFrame.__getitem__\u001b[0;34m(self, key)\u001b[0m\n\u001b[1;32m   4100\u001b[0m \u001b[38;5;28;01mif\u001b[39;00m \u001b[38;5;28mself\u001b[39m\u001b[38;5;241m.\u001b[39mcolumns\u001b[38;5;241m.\u001b[39mnlevels \u001b[38;5;241m>\u001b[39m \u001b[38;5;241m1\u001b[39m:\n\u001b[1;32m   4101\u001b[0m     \u001b[38;5;28;01mreturn\u001b[39;00m \u001b[38;5;28mself\u001b[39m\u001b[38;5;241m.\u001b[39m_getitem_multilevel(key)\n\u001b[0;32m-> 4102\u001b[0m indexer \u001b[38;5;241m=\u001b[39m \u001b[38;5;28;43mself\u001b[39;49m\u001b[38;5;241;43m.\u001b[39;49m\u001b[43mcolumns\u001b[49m\u001b[38;5;241;43m.\u001b[39;49m\u001b[43mget_loc\u001b[49m\u001b[43m(\u001b[49m\u001b[43mkey\u001b[49m\u001b[43m)\u001b[49m\n\u001b[1;32m   4103\u001b[0m \u001b[38;5;28;01mif\u001b[39;00m is_integer(indexer):\n\u001b[1;32m   4104\u001b[0m     indexer \u001b[38;5;241m=\u001b[39m [indexer]\n",
      "File \u001b[0;32m~/.local/lib/python3.10/site-packages/pandas/core/indexes/base.py:3812\u001b[0m, in \u001b[0;36mIndex.get_loc\u001b[0;34m(self, key)\u001b[0m\n\u001b[1;32m   3807\u001b[0m     \u001b[38;5;28;01mif\u001b[39;00m \u001b[38;5;28misinstance\u001b[39m(casted_key, \u001b[38;5;28mslice\u001b[39m) \u001b[38;5;129;01mor\u001b[39;00m (\n\u001b[1;32m   3808\u001b[0m         \u001b[38;5;28misinstance\u001b[39m(casted_key, abc\u001b[38;5;241m.\u001b[39mIterable)\n\u001b[1;32m   3809\u001b[0m         \u001b[38;5;129;01mand\u001b[39;00m \u001b[38;5;28many\u001b[39m(\u001b[38;5;28misinstance\u001b[39m(x, \u001b[38;5;28mslice\u001b[39m) \u001b[38;5;28;01mfor\u001b[39;00m x \u001b[38;5;129;01min\u001b[39;00m casted_key)\n\u001b[1;32m   3810\u001b[0m     ):\n\u001b[1;32m   3811\u001b[0m         \u001b[38;5;28;01mraise\u001b[39;00m InvalidIndexError(key)\n\u001b[0;32m-> 3812\u001b[0m     \u001b[38;5;28;01mraise\u001b[39;00m \u001b[38;5;167;01mKeyError\u001b[39;00m(key) \u001b[38;5;28;01mfrom\u001b[39;00m \u001b[38;5;21;01merr\u001b[39;00m\n\u001b[1;32m   3813\u001b[0m \u001b[38;5;28;01mexcept\u001b[39;00m \u001b[38;5;167;01mTypeError\u001b[39;00m:\n\u001b[1;32m   3814\u001b[0m     \u001b[38;5;66;03m# If we have a listlike key, _check_indexing_error will raise\u001b[39;00m\n\u001b[1;32m   3815\u001b[0m     \u001b[38;5;66;03m#  InvalidIndexError. Otherwise we fall through and re-raise\u001b[39;00m\n\u001b[1;32m   3816\u001b[0m     \u001b[38;5;66;03m#  the TypeError.\u001b[39;00m\n\u001b[1;32m   3817\u001b[0m     \u001b[38;5;28mself\u001b[39m\u001b[38;5;241m.\u001b[39m_check_indexing_error(key)\n",
      "\u001b[0;31mKeyError\u001b[0m: 'subid'"
     ]
    }
   ],
   "source": [
    "from calvin_utils.file_utils.csv_prep import CSVComposer\n",
    "composer = CSVComposer(data_dict)\n",
    "composer.compose_df()\n",
    "display(composer.composed_df)"
   ]
  },
  {
   "cell_type": "markdown",
   "id": "ba6ec17e",
   "metadata": {},
   "source": [
    "Save the CSV"
   ]
  },
  {
   "cell_type": "code",
   "execution_count": null,
   "id": "e6fea0a3",
   "metadata": {},
   "outputs": [],
   "source": [
    "output_csv_path = '/Users/cu135/Partners HealthCare Dropbox/Calvin Howard/studies/ccm_memory/metadata/master_list_v2.csv'"
   ]
  },
  {
   "cell_type": "code",
   "execution_count": null,
   "id": "ad429a7c",
   "metadata": {},
   "outputs": [],
   "source": [
    "composer.save_csv(output_csv_path)"
   ]
  },
  {
   "cell_type": "markdown",
   "id": "b8e28cb7",
   "metadata": {},
   "source": [
    "Save the Data Dict "
   ]
  },
  {
   "cell_type": "code",
   "execution_count": null,
   "id": "7ddd7805",
   "metadata": {},
   "outputs": [],
   "source": [
    "output_json_path = '/Users/cu135/Partners HealthCare Dropbox/Calvin Howard/studies/ccm_memory/metadata/data_dict.json'"
   ]
  },
  {
   "cell_type": "code",
   "execution_count": null,
   "id": "29a8bb44",
   "metadata": {},
   "outputs": [],
   "source": [
    "composer.save_dict_as_json(output_json_path)"
   ]
  },
  {
   "cell_type": "markdown",
   "id": "e443b291",
   "metadata": {},
   "source": [
    "Enjoy \n",
    "- Calvin"
   ]
  },
  {
   "cell_type": "markdown",
   "id": "2082bbfb",
   "metadata": {},
   "source": []
  }
 ],
 "metadata": {
  "kernelspec": {
   "display_name": "Python3.10 (nimlab)",
   "language": "python",
   "name": "nimlab_py310"
  },
  "language_info": {
   "codemirror_mode": {
    "name": "ipython",
    "version": 3
   },
   "file_extension": ".py",
   "mimetype": "text/x-python",
   "name": "python",
   "nbconvert_exporter": "python",
   "pygments_lexer": "ipython3",
   "version": "3.10.8"
  },
  "vscode": {
   "interpreter": {
    "hash": "40c01ebd234e7f6bf72e95bdb8c5fad4871868daaad76374490b1ab5db2adc6d"
   }
  }
 },
 "nbformat": 4,
 "nbformat_minor": 5
}
