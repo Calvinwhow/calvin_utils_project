{
 "cells": [
  {
   "cell_type": "markdown",
   "id": "2910eafe",
   "metadata": {},
   "source": [
    "# Get Files and Put them in a CSV\n",
    "- To prepare a master list, create a dictionary as instructed, where each dataset is a key\n",
    "    - 'nifti_path': str, a wildcarded path to NIFTI files.\n",
    "    - 'csv_path': str, the absolute path to a CSV file containing subject data.\n",
    "    - 'subj_col': str, the column name in the CSV file that contains subject IDs.\n",
    "    - 'covariate_col': dict, a dictionary where keys are common covariate names and values are the corresponding column names in the CSV file.\n",
    "\n",
    "- Example:\n",
    "```\n",
    "data_dict = {\n",
    "    'Dataset1': {\n",
    "        'nifti_path': '/path/to/niftis/*.nii.gz',\n",
    "        'csv_path': '/path/to/csv1.csv',\n",
    "        'subj_col': 'sub',\n",
    "        'covariate_col': {'age': 'Age', 'sex': 'Sex', 'baseline': 'ADAS-Cog11', 'indep_col': 'Indep. Var.',}\n",
    "    },\n",
    "    'Dataset2': {\n",
    "        'nifti_path': '/path/to/niftis/*.nii.gz',\n",
    "        'csv_path': '/path/to/csv2.csv',\n",
    "        'subj_col': 'sub',\n",
    "        'covariate_col': {'age': 'pt_Age', 'sex': 'Sex', 'baseline': 'MDRS', 'indep_col': 'Indep. Var.',}\n",
    "    }\n",
    "}\n",
    "```"
   ]
  },
  {
   "cell_type": "code",
   "execution_count": 1,
   "id": "9856252d",
   "metadata": {},
   "outputs": [],
   "source": [
    "data_dict = {\n",
    "    'AD Fornix DBS': \n",
    "        {\n",
    "            \"nifti_path\": \"/Users/cu135/Partners HealthCare Dropbox/Calvin Howard/resources/datasets/BIDS_AD_DBS_FORNIX/connectivity_data/vta_published_t_connectivity/*\",\n",
    "            \"csv_path\": \"/Users/cu135/Partners HealthCare Dropbox/Calvin Howard/resources/datasets/BIDS_AD_DBS_FORNIX/study_metadata/master_list.csv\",\n",
    "            \"subj_col\": \"subject\",\n",
    "            \"covariate_col\": {\n",
    "                \"age\": \"Age\",\n",
    "                \"z_scored_improvement\": \"Z-Scored Percent Cognitive Improvement\",\n",
    "                \"sbc_conn\": \"Subiculum Connectivity\",\n",
    "                \"sex\": \"m\"\n",
    "            }\n",
    "        },\n",
    "    'PD STN DBS':\n",
    "        {\n",
    "           \"nifti_path\": \"/Users/cu135/Partners HealthCare Dropbox/Calvin Howard/resources/datasets/BIDS_PD_DBS_STN_WURZBURG/derivatives/third_level/vta_connectivity/MDST*_seed_compound_fMRI_T.nii.gz\",\n",
    "            \"csv_path\": \"/Users/cu135/Partners HealthCare Dropbox/Calvin Howard/resources/datasets/BIDS_PD_DBS_STN_WURZBURG/metadata/subject_age_and_atrophy_index.csv\",\n",
    "            \"subj_col\": \"subject\",\n",
    "            \"covariate_col\": {\n",
    "                \"age\": \"Age\",\n",
    "                \"z_scored_improvement\": \"z_scored_percent_improvement\",\n",
    "                \"sbc_conn\": \"Subiculum Connectivity\",\n",
    "                \"sex\": \"Sex\"\n",
    "            } \n",
    "        }\n",
    "    }"
   ]
  },
  {
   "cell_type": "markdown",
   "id": "c6bdcd77",
   "metadata": {},
   "source": [
    "Generate the DataFrame"
   ]
  },
  {
   "cell_type": "code",
   "execution_count": 2,
   "id": "624112b1",
   "metadata": {},
   "outputs": [
    {
     "name": "stderr",
     "output_type": "stream",
     "text": [
      "Processing AD Fornix DBS: 100%|██████████| 50/50 [00:00<00:00, 2902.31it/s]\n",
      "Processing PD STN DBS: 100%|██████████| 33/33 [00:00<00:00, 2499.45it/s]\n"
     ]
    },
    {
     "data": {
      "text/html": [
       "<div>\n",
       "<style scoped>\n",
       "    .dataframe tbody tr th:only-of-type {\n",
       "        vertical-align: middle;\n",
       "    }\n",
       "\n",
       "    .dataframe tbody tr th {\n",
       "        vertical-align: top;\n",
       "    }\n",
       "\n",
       "    .dataframe thead th {\n",
       "        text-align: right;\n",
       "    }\n",
       "</style>\n",
       "<table border=\"1\" class=\"dataframe\">\n",
       "  <thead>\n",
       "    <tr style=\"text-align: right;\">\n",
       "      <th></th>\n",
       "      <th>Dataset</th>\n",
       "      <th>Subject</th>\n",
       "      <th>Nifti_File_Path</th>\n",
       "      <th>age</th>\n",
       "      <th>z_scored_improvement</th>\n",
       "      <th>sbc_conn</th>\n",
       "      <th>sex</th>\n",
       "    </tr>\n",
       "  </thead>\n",
       "  <tbody>\n",
       "    <tr>\n",
       "      <th>0</th>\n",
       "      <td>AD Fornix DBS</td>\n",
       "      <td>1203</td>\n",
       "      <td>/Users/cu135/Partners HealthCare Dropbox/Calvi...</td>\n",
       "      <td>76</td>\n",
       "      <td>-72.607386</td>\n",
       "      <td>70.124471</td>\n",
       "      <td>m</td>\n",
       "    </tr>\n",
       "    <tr>\n",
       "      <th>1</th>\n",
       "      <td>AD Fornix DBS</td>\n",
       "      <td>1202</td>\n",
       "      <td>/Users/cu135/Partners HealthCare Dropbox/Calvi...</td>\n",
       "      <td>74</td>\n",
       "      <td>-1.529691</td>\n",
       "      <td>51.103184</td>\n",
       "      <td>m</td>\n",
       "    </tr>\n",
       "    <tr>\n",
       "      <th>2</th>\n",
       "      <td>AD Fornix DBS</td>\n",
       "      <td>1201</td>\n",
       "      <td>/Users/cu135/Partners HealthCare Dropbox/Calvi...</td>\n",
       "      <td>78</td>\n",
       "      <td>-6.416910</td>\n",
       "      <td>52.243723</td>\n",
       "      <td>m</td>\n",
       "    </tr>\n",
       "    <tr>\n",
       "      <th>3</th>\n",
       "      <td>AD Fornix DBS</td>\n",
       "      <td>150</td>\n",
       "      <td>/Users/cu135/Partners HealthCare Dropbox/Calvi...</td>\n",
       "      <td>71</td>\n",
       "      <td>14.362311</td>\n",
       "      <td>73.488381</td>\n",
       "      <td>m</td>\n",
       "    </tr>\n",
       "    <tr>\n",
       "      <th>4</th>\n",
       "      <td>AD Fornix DBS</td>\n",
       "      <td>149</td>\n",
       "      <td>/Users/cu135/Partners HealthCare Dropbox/Calvi...</td>\n",
       "      <td>77</td>\n",
       "      <td>-89.274052</td>\n",
       "      <td>62.007555</td>\n",
       "      <td>m</td>\n",
       "    </tr>\n",
       "    <tr>\n",
       "      <th>...</th>\n",
       "      <td>...</td>\n",
       "      <td>...</td>\n",
       "      <td>...</td>\n",
       "      <td>...</td>\n",
       "      <td>...</td>\n",
       "      <td>...</td>\n",
       "      <td>...</td>\n",
       "    </tr>\n",
       "    <tr>\n",
       "      <th>78</th>\n",
       "      <td>PD STN DBS</td>\n",
       "      <td>MDST05</td>\n",
       "      <td></td>\n",
       "      <td>60</td>\n",
       "      <td>0.503206</td>\n",
       "      <td>NaN</td>\n",
       "      <td>m</td>\n",
       "    </tr>\n",
       "    <tr>\n",
       "      <th>79</th>\n",
       "      <td>PD STN DBS</td>\n",
       "      <td>MDST04</td>\n",
       "      <td>/Users/cu135/Partners HealthCare Dropbox/Calvi...</td>\n",
       "      <td>50</td>\n",
       "      <td>-0.282257</td>\n",
       "      <td>21.207602</td>\n",
       "      <td>m</td>\n",
       "    </tr>\n",
       "    <tr>\n",
       "      <th>80</th>\n",
       "      <td>PD STN DBS</td>\n",
       "      <td>MDST03</td>\n",
       "      <td>/Users/cu135/Partners HealthCare Dropbox/Calvi...</td>\n",
       "      <td>62</td>\n",
       "      <td>-0.005890</td>\n",
       "      <td>30.900051</td>\n",
       "      <td>f</td>\n",
       "    </tr>\n",
       "    <tr>\n",
       "      <th>81</th>\n",
       "      <td>PD STN DBS</td>\n",
       "      <td>MDST02</td>\n",
       "      <td>/Users/cu135/Partners HealthCare Dropbox/Calvi...</td>\n",
       "      <td>50</td>\n",
       "      <td>1.294321</td>\n",
       "      <td>16.295870</td>\n",
       "      <td>f</td>\n",
       "    </tr>\n",
       "    <tr>\n",
       "      <th>82</th>\n",
       "      <td>PD STN DBS</td>\n",
       "      <td>MDST01</td>\n",
       "      <td>/Users/cu135/Partners HealthCare Dropbox/Calvi...</td>\n",
       "      <td>57</td>\n",
       "      <td>-1.576508</td>\n",
       "      <td>30.376565</td>\n",
       "      <td>m</td>\n",
       "    </tr>\n",
       "  </tbody>\n",
       "</table>\n",
       "<p>83 rows × 7 columns</p>\n",
       "</div>"
      ],
      "text/plain": [
       "          Dataset Subject                                    Nifti_File_Path  \\\n",
       "0   AD Fornix DBS    1203  /Users/cu135/Partners HealthCare Dropbox/Calvi...   \n",
       "1   AD Fornix DBS    1202  /Users/cu135/Partners HealthCare Dropbox/Calvi...   \n",
       "2   AD Fornix DBS    1201  /Users/cu135/Partners HealthCare Dropbox/Calvi...   \n",
       "3   AD Fornix DBS     150  /Users/cu135/Partners HealthCare Dropbox/Calvi...   \n",
       "4   AD Fornix DBS     149  /Users/cu135/Partners HealthCare Dropbox/Calvi...   \n",
       "..            ...     ...                                                ...   \n",
       "78     PD STN DBS  MDST05                                                      \n",
       "79     PD STN DBS  MDST04  /Users/cu135/Partners HealthCare Dropbox/Calvi...   \n",
       "80     PD STN DBS  MDST03  /Users/cu135/Partners HealthCare Dropbox/Calvi...   \n",
       "81     PD STN DBS  MDST02  /Users/cu135/Partners HealthCare Dropbox/Calvi...   \n",
       "82     PD STN DBS  MDST01  /Users/cu135/Partners HealthCare Dropbox/Calvi...   \n",
       "\n",
       "    age  z_scored_improvement   sbc_conn sex  \n",
       "0    76            -72.607386  70.124471   m  \n",
       "1    74             -1.529691  51.103184   m  \n",
       "2    78             -6.416910  52.243723   m  \n",
       "3    71             14.362311  73.488381   m  \n",
       "4    77            -89.274052  62.007555   m  \n",
       "..  ...                   ...        ...  ..  \n",
       "78   60              0.503206        NaN   m  \n",
       "79   50             -0.282257  21.207602   m  \n",
       "80   62             -0.005890  30.900051   f  \n",
       "81   50              1.294321  16.295870   f  \n",
       "82   57             -1.576508  30.376565   m  \n",
       "\n",
       "[83 rows x 7 columns]"
      ]
     },
     "metadata": {},
     "output_type": "display_data"
    }
   ],
   "source": [
    "from calvin_utils.file_utils.csv_prep import CSVComposer\n",
    "composer = CSVComposer(data_dict)\n",
    "composer.compose_df()\n",
    "display(composer.composed_df)"
   ]
  },
  {
   "cell_type": "markdown",
   "id": "ba6ec17e",
   "metadata": {},
   "source": [
    "Save the CSV"
   ]
  },
  {
   "cell_type": "code",
   "execution_count": 3,
   "id": "e6fea0a3",
   "metadata": {},
   "outputs": [],
   "source": [
    "output_csv_path = '/Users/cu135/Partners HealthCare Dropbox/Calvin Howard/studies/cognition_2023/revisions/revisionsdata.csv'"
   ]
  },
  {
   "cell_type": "code",
   "execution_count": 4,
   "id": "ad429a7c",
   "metadata": {},
   "outputs": [],
   "source": [
    "composer.save_csv(output_csv_path)"
   ]
  },
  {
   "cell_type": "markdown",
   "id": "b8e28cb7",
   "metadata": {},
   "source": [
    "Save the Data Dict "
   ]
  },
  {
   "cell_type": "code",
   "execution_count": 5,
   "id": "7ddd7805",
   "metadata": {},
   "outputs": [],
   "source": [
    "output_json_path = '/Users/cu135/Partners HealthCare Dropbox/Calvin Howard/studies/cognition_2023/revisions/revisionsdata.json'"
   ]
  },
  {
   "cell_type": "code",
   "execution_count": 6,
   "id": "29a8bb44",
   "metadata": {},
   "outputs": [],
   "source": [
    "composer.save_dict_as_json(output_json_path)"
   ]
  },
  {
   "cell_type": "markdown",
   "id": "e443b291",
   "metadata": {},
   "source": [
    "Enjoy \n",
    "- Calvin"
   ]
  },
  {
   "cell_type": "markdown",
   "id": "945ae186",
   "metadata": {},
   "source": []
  },
  {
   "cell_type": "markdown",
   "id": "9ea2022a",
   "metadata": {},
   "source": []
  }
 ],
 "metadata": {
  "kernelspec": {
   "display_name": "Python_3.7.7_nimlab",
   "language": "python",
   "name": "python3"
  },
  "language_info": {
   "codemirror_mode": {
    "name": "ipython",
    "version": 3
   },
   "file_extension": ".py",
   "mimetype": "text/x-python",
   "name": "python",
   "nbconvert_exporter": "python",
   "pygments_lexer": "ipython3",
   "version": "3.11.10"
  }
 },
 "nbformat": 4,
 "nbformat_minor": 5
}
