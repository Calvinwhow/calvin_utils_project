{
 "cells": [
  {
   "cell_type": "markdown",
   "id": "2910eafe",
   "metadata": {},
   "source": [
    "# Get Files and Put them in a CSV\n",
    "- To prepare a master list, create a dictionary as instructed, where each dataset is a key\n",
    "    - 'nifti_path': str, a wildcarded path to NIFTI files.\n",
    "    - 'csv_path': str, the absolute path to a CSV file containing subject data.\n",
    "    - 'subj_col': str, the column name in the CSV file that contains subject IDs.\n",
    "    - 'covariate_col': dict, a dictionary where keys are common covariate names and values are the corresponding column names in the CSV file.\n",
    "\n",
    "- Example:\n",
    "```\n",
    "data_dict = {\n",
    "    'Dataset1': {\n",
    "        'nifti_path': '/path/to/niftis/*.nii.gz',\n",
    "        'csv_path': '/path/to/csv1.csv',\n",
    "        'subj_col': 'sub',\n",
    "        'covariate_col': {'age': 'Age', 'sex': 'Sex', 'baseline': 'ADAS-Cog11', 'indep_col': 'Indep. Var.',}\n",
    "    },\n",
    "    'Dataset2': {\n",
    "        'nifti_path': '/path/to/niftis/*.nii.gz',\n",
    "        'csv_path': '/path/to/csv2.csv',\n",
    "        'subj_col': 'sub',\n",
    "        'covariate_col': {'age': 'pt_Age', 'sex': 'Sex', 'baseline': 'MDRS', 'indep_col': 'Indep. Var.',}\n",
    "    }\n",
    "}\n",
    "```"
   ]
  },
  {
   "cell_type": "code",
   "execution_count": 1,
   "id": "9856252d",
   "metadata": {},
   "outputs": [],
   "source": [
    "data_dict = {\n",
    "    \"grafmann_memory\": {\n",
    "        \"nifti_path\": \"/Volumes/Expansion/datasets/GRAFMAN_TBI_MULTIFOCAL/grafman_fc/sub-*/connectivity/sub-*-yeo1000udil_space-2mm_stat-t_conn.nii.gz\",\n",
    "        \"csv_path\": \"/Users/cu135/Partners HealthCare Dropbox/Calvin Howard/resources/datasets/grafman/metadata/mmse_scores.csv\",\n",
    "        \"subj_col\": \"subject\",\n",
    "        \"covariate_col\": {\n",
    "            \"age\": \"\",\n",
    "            \"sex\": \"\",\n",
    "            \"diagnosis\": \"tbi\",\n",
    "            \"overall_cognition\": \"mmse12\",\n",
    "            \"lesion_size\": \"lesion_size\",\n",
    "            \"memory_target\": \"mmse5\",\n",
    "            \"memory_higher_better_w_stim_worse_w_lesion\": \"mmse5\",\n",
    "            \"baseline_memory\": \"\",\n",
    "            \"1yr_memory\": \"\"\n",
    "        }\n",
    "    }\n",
    "}"
   ]
  },
  {
   "cell_type": "markdown",
   "id": "c6bdcd77",
   "metadata": {},
   "source": [
    "Generate the DataFrame"
   ]
  },
  {
   "cell_type": "code",
   "execution_count": null,
   "id": "624112b1",
   "metadata": {},
   "outputs": [],
   "source": [
    "from calvin_utils.file_utils.csv_prep import CSVComposer\n",
    "composer = CSVComposer(data_dict)\n",
    "composer.compose_df()\n",
    "display(composer.composed_df)"
   ]
  },
  {
   "cell_type": "markdown",
   "id": "ba6ec17e",
   "metadata": {},
   "source": [
    "Save the CSV"
   ]
  },
  {
   "cell_type": "code",
   "execution_count": 3,
   "id": "e6fea0a3",
   "metadata": {},
   "outputs": [],
   "source": [
    "output_csv_path = '/Users/cu135/Partners HealthCare Dropbox/Calvin Howard/studies/ccm_memory/results/notebook_00/grafman_baseline.csv'"
   ]
  },
  {
   "cell_type": "code",
   "execution_count": 4,
   "id": "ad429a7c",
   "metadata": {},
   "outputs": [],
   "source": [
    "composer.save_csv(output_csv_path)"
   ]
  },
  {
   "cell_type": "markdown",
   "id": "b8e28cb7",
   "metadata": {},
   "source": [
    "Save the Data Dict "
   ]
  },
  {
   "cell_type": "code",
   "execution_count": 5,
   "id": "7ddd7805",
   "metadata": {},
   "outputs": [],
   "source": [
    "output_json_path = '/Volumes/OneTouch/studies/ccm_memory/notebook_00/grafman_baseline.json'"
   ]
  },
  {
   "cell_type": "code",
   "execution_count": null,
   "id": "29a8bb44",
   "metadata": {},
   "outputs": [],
   "source": [
    "composer.save_dict_as_json(output_json_path)"
   ]
  },
  {
   "cell_type": "markdown",
   "id": "e443b291",
   "metadata": {},
   "source": [
    "Enjoy \n",
    "- Calvin"
   ]
  },
  {
   "cell_type": "markdown",
   "id": "945ae186",
   "metadata": {},
   "source": []
  }
 ],
 "metadata": {
  "kernelspec": {
   "display_name": "Python_3.7.7_nimlab",
   "language": "python",
   "name": "python3"
  },
  "language_info": {
   "codemirror_mode": {
    "name": "ipython",
    "version": 3
   },
   "file_extension": ".py",
   "mimetype": "text/x-python",
   "name": "python",
   "nbconvert_exporter": "python",
   "pygments_lexer": "ipython3",
   "version": "3.11.10"
  }
 },
 "nbformat": 4,
 "nbformat_minor": 5
}
