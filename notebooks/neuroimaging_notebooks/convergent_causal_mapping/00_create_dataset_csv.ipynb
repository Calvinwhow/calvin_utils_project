{
 "cells": [
  {
   "cell_type": "markdown",
   "id": "2910eafe",
   "metadata": {},
   "source": [
    "# Get Files and Put them in a CSV\n",
    "- To prepare a master list, create a dictionary as instructed, where each dataset is a key\n",
    "    - 'nifti_path': str, a wildcarded path to NIFTI files.\n",
    "    - 'csv_path': str, the absolute path to a CSV file containing subject data.\n",
    "    - 'subj_col': str, the column name in the CSV file that contains subject IDs.\n",
    "    - 'covariate_col': dict, a dictionary where keys are common covariate names and values are the corresponding column names in the CSV file.\n",
    "\n",
    "- Example:\n",
    "```\n",
    "data_dict = {\n",
    "    'Dataset1': {\n",
    "        'nifti_path': '/path/to/niftis/*.nii.gz',\n",
    "        'csv_path': '/path/to/csv1.csv',\n",
    "        'subj_col': 'sub',\n",
    "        'covariate_col': {'age': 'Age', 'sex': 'Sex', 'baseline': 'ADAS-Cog11', 'indep_col': 'Indep. Var.',}\n",
    "    },\n",
    "    'Dataset2': {\n",
    "        'nifti_path': '/path/to/niftis/*.nii.gz',\n",
    "        'csv_path': '/path/to/csv2.csv',\n",
    "        'subj_col': 'sub',\n",
    "        'covariate_col': {'age': 'pt_Age', 'sex': 'Sex', 'baseline': 'MDRS', 'indep_col': 'Indep. Var.',}\n",
    "    }\n",
    "}\n",
    "```"
   ]
  },
  {
   "cell_type": "code",
   "execution_count": null,
   "id": "9856252d",
   "metadata": {},
   "outputs": [],
   "source": [
    "data_dict = {\n",
    "    'BWH R E-fields': \n",
    "        {\n",
    "            \"nifti_path\": \"/Volumes/PdBwh/CompleteParkinsons/derivatives/leaddbs/sub-*/stimulations/MNI152NLin2009bAsym/mostrecentstimulation/sub-*-efieldgauss_model-simbio_hemi-R.nii\",\n",
    "            \"csv_path\": \"/Users/cu135/Partners HealthCare Dropbox/Calvin Howard/resources/datasets/BWH_VTAs/metadata/updrs_improvement.csv\",\n",
    "            \"subj_col\": \"subject\",\n",
    "            \"covariate_col\": {\n",
    "                \"Efield\": \"Simbio\",\n",
    "                \"sex\": \"Sex\",\n",
    "                \"diagnosis\": \"Parkinsons\",\n",
    "                \"adascog\": \"TOTAL11\",\n",
    "                \"adascogq4\": \"Q4\",\n",
    "                \"conn_path\": \"conn_file_path\",\n",
    "                \"roi_path\": \"roi_file_path\",\n",
    "                \"3.1\": \"3.1: Speech\",\n",
    "                \"3.2\": \"3.2: Facial expression\",\n",
    "                \"3.3a\": \"3.3a: Rigidity- Neck\",\n",
    "                \"3.3b\": \"3.3b: Rigidity- RUE\",\n",
    "                \"3.3c\": \"3.3c: Rigidity- LUE\",\n",
    "                \"3.3d\": \"3.3d: Rigidity- RLE\",\n",
    "                \"3.3e\": \"3.3e: Rigidity- LLE\",\n",
    "                \"3.4a\": \"3.4a: Finger tapping- Right hand\",\n",
    "                \"3.4b\": \"3.4b: Finger tapping- Left hand\",\n",
    "                \"3.5a\": \"3.5ba: Hand movements- Right hand\",\n",
    "                \"3.5b\": \"3.5b: Hand movements- Left hand\",\n",
    "                \"3.6a\": \"3.6a: Pronation- supination movements- Right hand\",\n",
    "                \"3.6b\": \"3.6b: Pronation- supination movements- Left hand\",\n",
    "                \"3.7a\": \"3.7a: Toe tapping- Right foot\",\n",
    "                \"3.7b\": \"3.7b: Toe tapping- Left foot\",\n",
    "                \"3.8a\": \"3.8a: Leg agility- Right leg\",\n",
    "                \"3.8b\": \"3.8b: Leg agility- Left leg\",\n",
    "                \"3.9\": \"3.9: Arising from chair\",\n",
    "                \"3.10\": \"3.10: Gait\",\n",
    "                \"3.11\": \"3.11: Freezing of gait\",\n",
    "                \"3.12\": \"3.12: Postural stability\",\n",
    "                \"3.13\": \"3.13: Posture\",\n",
    "                \"3.14\": \"3.14: Global spontaneity of movement\",\n",
    "                \"3.15a\": \"3.15a: Postural tremor- Right hand\",\n",
    "                \"3.15b\": \"3.15b: Postural tremor- Left hand\",\n",
    "                \"3.16a\": \"3.16a: Kinetic tremor- Right hand\",\n",
    "                \"3.16b\": \"3.16b: Kinetic tremor- Left hand\",\n",
    "                \"3.17a\": \"3.17a: Rest tremor amplitude- RUE\",\n",
    "                \"3.17b\": \"3.17b: Rest tremor amplitude- LUE\",\n",
    "                \"3.17c\": \"3.17c: Rest tremor amplitude- RLE\",\n",
    "                \"3.17d\": \"3.17d: Rest tremor amplitude- LLE\",\n",
    "                \"3.17e\": \"3.17e: Rest tremor amplitude- Lip/jaw\",\n",
    "                \"3.18\": \"3.18: Constancy of rest tremor\",\n",
    "                \"Total\": \"Total\"\n",
    "            }\n",
    "        }\n",
    "    }"
   ]
  },
  {
   "cell_type": "markdown",
   "id": "c6bdcd77",
   "metadata": {},
   "source": [
    "Generate the DataFrame"
   ]
  },
  {
   "cell_type": "code",
   "execution_count": null,
   "id": "624112b1",
   "metadata": {},
   "outputs": [],
   "source": [
    "from calvin_utils.file_utils.csv_prep import CSVComposer\n",
    "composer = CSVComposer(data_dict)\n",
    "composer.compose_df()\n",
    "display(composer.composed_df)"
   ]
  },
  {
   "cell_type": "markdown",
   "id": "ba6ec17e",
   "metadata": {},
   "source": [
    "Save the CSV"
   ]
  },
  {
   "cell_type": "code",
   "execution_count": null,
   "id": "e6fea0a3",
   "metadata": {},
   "outputs": [],
   "source": [
    "output_csv_path = '/Users/cu135/Partners HealthCare Dropbox/Calvin Howard/resources/datasets/BWH_VTAs/metadata/ccm_master_list_r_efields.csv'"
   ]
  },
  {
   "cell_type": "code",
   "execution_count": null,
   "id": "ad429a7c",
   "metadata": {},
   "outputs": [],
   "source": [
    "composer.save_csv(output_csv_path)"
   ]
  },
  {
   "cell_type": "markdown",
   "id": "b8e28cb7",
   "metadata": {},
   "source": [
    "Save the Data Dict "
   ]
  },
  {
   "cell_type": "code",
   "execution_count": null,
   "id": "7ddd7805",
   "metadata": {},
   "outputs": [],
   "source": [
    "output_json_path = '/Users/cu135/Partners HealthCare Dropbox/Calvin Howard/resources/datasets/BWH_VTAs/metadata/ccm_master_list_r_efields.json'"
   ]
  },
  {
   "cell_type": "code",
   "execution_count": null,
   "id": "29a8bb44",
   "metadata": {},
   "outputs": [],
   "source": [
    "composer.save_dict_as_json(output_json_path)"
   ]
  },
  {
   "cell_type": "markdown",
   "id": "e443b291",
   "metadata": {},
   "source": [
    "Enjoy \n",
    "- Calvin"
   ]
  },
  {
   "cell_type": "markdown",
   "id": "945ae186",
   "metadata": {},
   "source": []
  },
  {
   "cell_type": "markdown",
   "id": "9ea2022a",
   "metadata": {},
   "source": []
  }
 ],
 "metadata": {
  "kernelspec": {
   "display_name": "Python_3.7.7_nimlab",
   "language": "python",
   "name": "python3"
  },
  "language_info": {
   "codemirror_mode": {
    "name": "ipython",
    "version": 3
   },
   "file_extension": ".py",
   "mimetype": "text/x-python",
   "name": "python",
   "nbconvert_exporter": "python",
   "pygments_lexer": "ipython3",
   "version": "3.11.10"
  }
 },
 "nbformat": 4,
 "nbformat_minor": 5
}
