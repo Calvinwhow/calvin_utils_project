{
 "cells": [
  {
   "cell_type": "markdown",
   "id": "2910eafe",
   "metadata": {},
   "source": [
    "# Get Files and Put them in a CSV\n",
    "- To prepare a master list, create a dictionary as instructed, where each dataset is a key\n",
    "    - 'nifti_path': str, a wildcarded path to NIFTI files.\n",
    "    - 'csv_path': str, the absolute path to a CSV file containing subject data.\n",
    "    - 'subj_col': str, the column name in the CSV file that contains subject IDs.\n",
    "    - 'covariate_col': dict, a dictionary where keys are common covariate names and values are the corresponding column names in the CSV file.\n",
    "\n",
    "- Example:\n",
    "```\n",
    "data_dict = {\n",
    "    'Dataset1': {\n",
    "        'nifti_path': '/path/to/niftis/*.nii.gz',\n",
    "        'csv_path': '/path/to/csv1.csv',\n",
    "        'subj_col': 'sub',\n",
    "        'covariate_col': {'age': 'Age', 'sex': 'Sex', 'baseline': 'ADAS-Cog11', 'indep_col': 'Indep. Var.',}\n",
    "    },\n",
    "    'Dataset2': {\n",
    "        'nifti_path': '/path/to/niftis/*.nii.gz',\n",
    "        'csv_path': '/path/to/csv2.csv',\n",
    "        'subj_col': 'sub',\n",
    "        'covariate_col': {'age': 'pt_Age', 'sex': 'Sex', 'baseline': 'MDRS', 'indep_col': 'Indep. Var.',}\n",
    "    }\n",
    "}\n",
    "```"
   ]
  },
  {
   "cell_type": "code",
   "execution_count": 9,
   "id": "9856252d",
   "metadata": {},
   "outputs": [],
   "source": [
    "data_dict = {\n",
    "    'adni_memory': {\n",
    "        'nifti_path': '/Volumes/OneTouch/datasets/adni/neuroimaging/all_patients_atrophy_seeds/sub-*/ses*/unthresholded_tissue_segment_z_scores/*_grey_matter+cerebrospinal_fluid.nii',\n",
    "        'csv_path': '/Volumes/OneTouch/datasets/adni/metadata/updated_master_list/master_dx_updated_fix_composite.csv',\n",
    "        'subj_col': 'subid',\n",
    "        'covariate_col': {'age': 'Age', 'sex': 'Sex', 'diagnosis': 'DIAGNOSIS_CURRENT_Str', 'overall_cognition': 'TOTAL11', 'lesion_size': '', 'memory_target': 'Q4', 'percent_decline_memory': 'Perc_Decline_Q4', 'baseline_memory': '', '1yr_memory': ''}\n",
    "    },\n",
    "    'corbetta_memory': {\n",
    "        'nifti_path': '/Volumes/OneTouch/datasets/CORBETTA_STROKE_MULTIFOCAL/BIDS_Dataset/sub-*/connectivity/sub-*-yeo1k_stat-t_conn.nii.gz',\n",
    "        'csv_path': '/Volumes/OneTouch/datasets/CORBETTA_STROKE_MULTIFOCAL/Study_Metadata/acute_arm_1_with_basic_info.csv',\n",
    "        'subj_col': 'subid',\n",
    "        'covariate_col': {'age': 'age', 'sex': 'gender', 'diagnosis': 'stroke', 'overall_cognition': 'nihss_hospital', 'lesion_size': '', 'memory_target': 'hvlt_delay', 'percent_decline_memory': 'hvlt_perc_decline', 'baseline_memory': '', '1yr_memory': ''}\n",
    "    },\n",
    "    'grafmann_memory': {\n",
    "        'nifti_path': '/Volumes/OneTouch/datasets/GRAFMAN_TBI_MULTIFOCAL/grafman_fc/sub-*/connectivity/sub-*-yeo1000udil_space-2mm_stat-t_conn.nii.gz',\n",
    "        'csv_path': '/Volumes/OneTouch/datasets/GRAFMAN_TBI_MULTIFOCAL/metadata/master_list.csv',\n",
    "        'subj_col': 'vhis_id',\n",
    "        'covariate_col': {'age': '', 'sex': '', 'diagnosis': 'tbi', 'overall_cognition': 'mmse12', 'lesion_size': 'lesion_size', 'memory_target': 'mmse5', 'percent_decline_memory': 'mmse5_perc_decline', 'baseline_memory': '', '1yr_memory': ''}\n",
    "    },\n",
    "    'manitoba_memory': {\n",
    "        'nifti_path': '/Volumes/OneTouch/datasets/Manitoba_Epilepsy_PET/PET_Conn/sub-*-2mm_lesionMask_T.nii.gz',\n",
    "        'csv_path': '/Volumes/OneTouch/datasets/Manitoba_Epilepsy_PET/metadata/master_list.csv',\n",
    "        'subj_col': 'subject',\n",
    "        'covariate_col': {'age': 'Age_At_Testing', 'sex': 'Sex', 'diagnosis': 'epilepsy', 'overall_cognition': 'Total (max=100)', 'lesion_size': '', 'memory_target': 'Memory (max=26)', 'percent_decline_memory': 'memory_perc_decline', 'baseline_memory': '', '1yr_memory': ''}\n",
    "    },\n",
    "    'kahana_memory': {\n",
    "        'nifti_path': '/Volumes/OneTouch/datasets/Kahana_Epilepsy_iEEG/derivatives/connectivity/sub*_T.nii.gz',\n",
    "        'csv_path': '/Volumes/OneTouch/datasets/Kahana_Epilepsy_iEEG/master_list.csv',\n",
    "        'subj_col': 'subject',\n",
    "        'covariate_col': {'age': '', 'sex': '', 'diagnosis': 'epilepsy', 'overall_cognition': '', 'lesion_size': '', 'memory_target': 'percent_improve_recall', 'percent_decline_memory': 'percent_decline_recall', 'baseline_memory': '', '1yr_memory': ''}\n",
    "    },\n",
    "    'queensland_memory': {\n",
    "        'nifti_path': '/Volumes/OneTouch/datasets/Queensland_PD_DBS_STN/BIDSdata/derivatives/leaddbs/sub-*/stimulations/MNI152NLin2009bAsym/gs_20200826142724/GSP 1000 (Yeo 2011)_Full Set (Yeo 2011)/vat_seed_compound_fMRI_efield_func_seed_T.nii',\n",
    "        'csv_path': '/Volumes/OneTouch/datasets/Queensland_PD_DBS_STN/Clinical/queensland_cognition.csv',\n",
    "        'subj_col': 'Subject',\n",
    "        'covariate_col': {'age': 'age_at_surgery', 'sex': '', 'diagnosis': 'parkinson', 'overall_cognition': 'FU4_MOCA_Total', 'lesion_size': '', 'memory_target': 'MOCA_Recall_change_PreToFU4_Percent_Improve', 'percent_decline_memory': 'MOCA_Recall_change_PreToFU4_Percent_Decline', 'baseline_memory': '', '1yr_memory': ''}\n",
    "    },\n",
    "    'sante_memory': {\n",
    "        'nifti_path': '/Volumes/OneTouch/datasets/SANTE_Epilepsy_DBS_ANT/derivatives/conn/sub-*/connectivity/sub-*-yeo1000udil_space-2mm_stat-t_conn.nii.gz',\n",
    "        'csv_path': '/Volumes/OneTouch/datasets/SANTE_Epilepsy_DBS_ANT/metadata/sante_cognitive_scores_with_percent_change_WIDE.csv',\n",
    "        'subj_col': 'subject',\n",
    "        'covariate_col': {'age': '', 'sex': '', 'diagnosis': 'epilepsy', 'overall_cognition': 'Concentrating on reading-number Percent Change Corrected V2_Month 6', 'lesion_size': '', 'memory_target': 'Trouble remembering-number_Month 12_Percent_improve', 'percent_decline_memory': 'Trouble remembering_percent_decline_Month 6', 'baseline_memory': '', '1yr_memory': ''}\n",
    "    },\n",
    "    'fornix_memory': {\n",
    "        'nifti_path': '/Volumes/OneTouch/datasets/AD_dataset/*/stimulations/MNI_ICBM_2009b_NLIN_ASYM/gs_20180403170745/GSP_1000_Yeo_2011_Full Set (Yeo 2011)/vat_seed_compound_fMRI_efield_func_seed_T.nii',\n",
    "        'csv_path': '/Volumes/OneTouch/datasets/AD_dataset/ad_data.csv',\n",
    "        'subj_col': 'subid',\n",
    "        'covariate_col': {'age': 'Age at DOS', 'sex': '', 'diagnosis': 'alzheimer', 'overall_cognition': 'Baseline CDR (sum of squares)', 'lesion_size': '', 'memory_target': 'Percent_improve_1yr_adascog11', 'percent_decline_memory': '% Change from baseline (ADAS-Cog11)', 'baseline_memory': '', '1yr_memory': ''}\n",
    "    }\n",
    "}"
   ]
  },
  {
   "cell_type": "markdown",
   "id": "c6bdcd77",
   "metadata": {},
   "source": [
    "Generate the DataFrame"
   ]
  },
  {
   "cell_type": "code",
   "execution_count": null,
   "id": "624112b1",
   "metadata": {},
   "outputs": [],
   "source": [
    "from calvin_utils.file_utils.csv_prep import CSVComposer\n",
    "composer = CSVComposer(data_dict)\n",
    "composer.compose_df()\n",
    "display(composer.composed_df)"
   ]
  },
  {
   "cell_type": "markdown",
   "id": "ba6ec17e",
   "metadata": {},
   "source": [
    "Save the CSV"
   ]
  },
  {
   "cell_type": "code",
   "execution_count": 13,
   "id": "e6fea0a3",
   "metadata": {},
   "outputs": [],
   "source": [
    "output_csv_path = '/Users/cu135/Partners HealthCare Dropbox/Calvin Howard/studies/ccm_memory/metadata/master_list_proper_outcomes.csv'"
   ]
  },
  {
   "cell_type": "code",
   "execution_count": 14,
   "id": "ad429a7c",
   "metadata": {},
   "outputs": [],
   "source": [
    "composer.save_csv(output_csv_path)"
   ]
  },
  {
   "cell_type": "markdown",
   "id": "b8e28cb7",
   "metadata": {},
   "source": [
    "Save the Data Dict "
   ]
  },
  {
   "cell_type": "code",
   "execution_count": 15,
   "id": "7ddd7805",
   "metadata": {},
   "outputs": [],
   "source": [
    "output_json_path = '/Users/cu135/Partners HealthCare Dropbox/Calvin Howard/studies/ccm_memory/results/analysis_01/notebook_00/data_dict.json'"
   ]
  },
  {
   "cell_type": "code",
   "execution_count": 16,
   "id": "29a8bb44",
   "metadata": {},
   "outputs": [],
   "source": [
    "composer.save_dict_as_json(output_json_path)"
   ]
  },
  {
   "cell_type": "markdown",
   "id": "e443b291",
   "metadata": {},
   "source": [
    "Enjoy \n",
    "- Calvin"
   ]
  }
 ],
 "metadata": {
  "kernelspec": {
   "display_name": "Python3.10 (nimlab)",
   "language": "python",
   "name": "nimlab_py310"
  },
  "language_info": {
   "codemirror_mode": {
    "name": "ipython",
    "version": 3
   },
   "file_extension": ".py",
   "mimetype": "text/x-python",
   "name": "python",
   "nbconvert_exporter": "python",
   "pygments_lexer": "ipython3",
   "version": "3.10.8"
  },
  "vscode": {
   "interpreter": {
    "hash": "40c01ebd234e7f6bf72e95bdb8c5fad4871868daaad76374490b1ab5db2adc6d"
   }
  }
 },
 "nbformat": 4,
 "nbformat_minor": 5
}
