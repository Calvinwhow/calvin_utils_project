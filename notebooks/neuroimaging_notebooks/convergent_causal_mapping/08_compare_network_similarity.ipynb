{
 "cells": [
  {
   "cell_type": "code",
   "execution_count": null,
   "metadata": {},
   "outputs": [],
   "source": [
    "out_dir = '/Users/cu135/Partners HealthCare Dropbox/Calvin Howard/studies/ccm_memory/results/notebook_08/alzheimer'"
   ]
  },
  {
   "cell_type": "markdown",
   "metadata": {},
   "source": [
    "# 01 - Get First Set of Maps \n",
    "- These are the maps you have generated yourself and want to evaluate"
   ]
  },
  {
   "cell_type": "markdown",
   "metadata": {},
   "source": [
    "**Option A - Import Files Using JSON File**"
   ]
  },
  {
   "cell_type": "code",
   "execution_count": null,
   "metadata": {},
   "outputs": [],
   "source": []
  },
  {
   "cell_type": "markdown",
   "metadata": {},
   "source": [
    "**Option B - Import Files Directly As Niftis**"
   ]
  },
  {
   "cell_type": "markdown",
   "metadata": {},
   "source": [
    "Enter the path to the nifti files\n",
    "- import_path = '/path/to/folder/holding/files'\n",
    "- file_pattern = 'the_specific_naming_pattern.nii'\n",
    "- If unfamiliar with use, read about Glob: https://www.geeksforgeeks.org/how-to-use-glob-function-to-find-files-recursively-in-python/"
   ]
  },
  {
   "cell_type": "code",
   "execution_count": null,
   "metadata": {},
   "outputs": [],
   "source": [
    "import_path = '/Users/cu135/Partners HealthCare Dropbox/Calvin Howard/studies/ccm_memory/results/notebook_03/redo2/conn/spearman/dataset_dict_pruned/group_maps'\n",
    "file_pattern = '*.nii*'"
   ]
  },
  {
   "cell_type": "code",
   "execution_count": null,
   "metadata": {},
   "outputs": [],
   "source": [
    "from calvin_utils.file_utils.import_functions import GiiNiiFileImport\n",
    "dep_var_df = GiiNiiFileImport(import_path=import_path, file_pattern=file_pattern).run()\n",
    "dep_var_df"
   ]
  },
  {
   "cell_type": "markdown",
   "metadata": {},
   "source": [
    "# 02 - Get Maps to Compare Against"
   ]
  },
  {
   "cell_type": "markdown",
   "metadata": {},
   "source": [
    "Enter the path to the nifti files\n",
    "- import_path = '/path/to/folder/holding/files'\n",
    "- file_pattern = 'the_specific_naming_pattern.nii'\n",
    "- If unfamiliar with use, read about Glob: https://www.geeksforgeeks.org/how-to-use-glob-function-to-find-files-recursively-in-python/"
   ]
  },
  {
   "cell_type": "code",
   "execution_count": null,
   "metadata": {},
   "outputs": [],
   "source": [
    "import_path2 = '/Users/cu135/Partners HealthCare Dropbox/Calvin Howard/resources/published_networks/Alzheimer Cognition Maps'\n",
    "file_pattern2 = '*.nii*'"
   ]
  },
  {
   "cell_type": "code",
   "execution_count": null,
   "metadata": {},
   "outputs": [],
   "source": [
    "from calvin_utils.file_utils.import_functions import GiiNiiFileImport\n",
    "indep_var_df = GiiNiiFileImport(import_path=import_path2, file_pattern=file_pattern2).run()\n",
    "indep_var_df"
   ]
  },
  {
   "cell_type": "markdown",
   "metadata": {},
   "source": [
    "# 03 - Measure Similarity"
   ]
  },
  {
   "cell_type": "code",
   "execution_count": null,
   "metadata": {},
   "outputs": [],
   "source": [
    "from calvin_utils.ccm_utils.similarity_utils import SimilarityTester\n",
    "simtest = SimilarityTester(dep_var_df, indep_var_df, \n",
    "                           mask_path=None, out_dir=out_dir, \n",
    "                           method_choice='pearson', \n",
    "                           align=True, reference='Alzheimer Disease_correlation_map.nii.gz',\n",
    "                           flip_list=['Memory (Q11).nii', 'Memory (Q1).nii'])\n",
    "simtest.run()\n",
    "display(simtest.statistics_results[1])"
   ]
  },
  {
   "cell_type": "code",
   "execution_count": null,
   "metadata": {},
   "outputs": [],
   "source": [
    "with pd.option_context('display.max_rows', None, 'display.max_columns', None):\n",
    "    display(simtest.statistics_results[1])"
   ]
  },
  {
   "cell_type": "markdown",
   "metadata": {},
   "source": [
    "Thats all there is to it\n",
    "\n",
    "-Calvin"
   ]
  },
  {
   "cell_type": "markdown",
   "metadata": {},
   "source": []
  }
 ],
 "metadata": {
  "kernelspec": {
   "display_name": "Python_3.7.7_nimlab",
   "language": "python",
   "name": "python3"
  },
  "language_info": {
   "codemirror_mode": {
    "name": "ipython",
    "version": 3
   },
   "file_extension": ".py",
   "mimetype": "text/x-python",
   "name": "python",
   "nbconvert_exporter": "python",
   "pygments_lexer": "ipython3",
   "version": "3.11.10"
  }
 },
 "nbformat": 4,
 "nbformat_minor": 2
}
