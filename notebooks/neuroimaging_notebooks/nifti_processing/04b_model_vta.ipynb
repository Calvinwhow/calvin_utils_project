{
 "cells": [
  {
   "cell_type": "markdown",
   "metadata": {},
   "source": [
    "Pass some hardcoded coordinates"
   ]
  },
  {
   "cell_type": "code",
   "execution_count": 8,
   "metadata": {},
   "outputs": [],
   "source": [
    "from calvin_utils.nifti_utils.model_vta import ModelVTA\n",
    "model = ModelVTA(center_coord=[59.93, -53.24, -0.508], output_path='/Users/cu135/Software_Local/DockerizedEasyReg/assets/targets')\n",
    "model.run(radius_mm=1.5, filename='Howard_Memory_sourspot_L.nii.gz')"
   ]
  },
  {
   "cell_type": "markdown",
   "metadata": {},
   "source": [
    "Get coordinates from a file"
   ]
  },
  {
   "cell_type": "code",
   "execution_count": 36,
   "metadata": {},
   "outputs": [
    {
     "name": "stdout",
     "output_type": "stream",
     "text": [
      "[[4.9571, 20.2429, 31.7286], [41.15, 5.2, -4.25], [39.54, -12.98, 1.5], [9.46, 1.9, -9.06], [12.35, 3.85, -4.55], [24.5, 13.9, 17.5], [10.7, 3.25, -6.65], [14.7154, 6.3308, 0.3308], [12.35, 3.85, -4.55], [-10.6429, 14.9286, 25.9], [-11.5, 17.6895, 28.6158], [-11.879, 18.7, 29.5], [-43.9, -17.0, 58.0], [-47.65, -22.85, 54.25], [-47.5, -17.9, 53.8], [-19.5, 41.9, 20.8333], [-17.3286, 25.5571, -6.3286], [-19.0429, -17.6429, -2.9], [-19.9, -16.1, -0.95], [-22.4714, -12.3286, 6.3571], [-20.8333, -14.3667, 2.3], [-22.4714, -12.3286, 6.3571]]\n"
     ]
    }
   ],
   "source": [
    "path = '/Users/cu135/Partners HealthCare Dropbox/Calvin Howard/resources/datasets/Khosravani_sEEG_Pain/BIDS/sub-02/ses-01/stim_coords/R02_all_sites.txt'\n",
    "with open(path, 'r') as f:\n",
    "    lines = f.readlines()\n",
    "vta_arr = []\n",
    "for line in lines:\n",
    "    coords = line.strip()\n",
    "    # Split the string by whitespace and convert to float\n",
    "    coords = [float(coord) for coord in coords.split()]\n",
    "    vta_arr.append(coords)\n",
    "    \n",
    "print(vta_arr)\n",
    "    \n",
    "# model.run(center_coord=coords, radius_mm=2, filename=f'vta_{coords[0]}_{coords[1]}_{coords[2]}.nii')"
   ]
  },
  {
   "cell_type": "code",
   "execution_count": 37,
   "metadata": {},
   "outputs": [],
   "source": [
    "from calvin_utils.nifti_utils.model_vta import ModelVTA\n",
    "for i, coord in enumerate(vta_arr):\n",
    "    model = ModelVTA(center_coord=coord, output_path='/Users/cu135/Partners HealthCare Dropbox/Calvin Howard/resources/datasets/Khosravani_sEEG_Pain/BIDS/sub-02/ses-01/roi')\n",
    "    model.run(radius_mm=1.5, filename=f'seeg_{i}.nii')\n"
   ]
  },
  {
   "cell_type": "code",
   "execution_count": null,
   "metadata": {},
   "outputs": [],
   "source": []
  }
 ],
 "metadata": {
  "kernelspec": {
   "display_name": ".calvin_utils_venv (3.13.3)",
   "language": "python",
   "name": "python3"
  },
  "language_info": {
   "codemirror_mode": {
    "name": "ipython",
    "version": 3
   },
   "file_extension": ".py",
   "mimetype": "text/x-python",
   "name": "python",
   "nbconvert_exporter": "python",
   "pygments_lexer": "ipython3",
   "version": "3.13.3"
  }
 },
 "nbformat": 4,
 "nbformat_minor": 2
}
