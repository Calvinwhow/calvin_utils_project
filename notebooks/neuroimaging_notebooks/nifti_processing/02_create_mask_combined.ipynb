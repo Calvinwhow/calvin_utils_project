{
 "cells": [
  {
   "cell_type": "code",
   "execution_count": 1,
   "id": "7ec021e4",
   "metadata": {},
   "outputs": [],
   "source": [
    "path = '/Users/cu135/Partners HealthCare Dropbox/Calvin Howard/resources/datasets/HORISAWA_DYSKINESIA_FOREL/ff_lesions_higher_res/flipped_sub-*-lesion_mask_added.nii.gz'\n",
    "out_path = '/Users/cu135/Partners HealthCare Dropbox/Calvin Howard/resources/datasets/HORISAWA_DYSKINESIA_FOREL/results'"
   ]
  },
  {
   "cell_type": "code",
   "execution_count": null,
   "id": "f1b468ab",
   "metadata": {},
   "outputs": [
    {
     "name": "stdout",
     "output_type": "stream",
     "text": [
      "All files appear to have the same voxel sizes: (0.5, 0.5, 0.5). No reslicing needed.\n"
     ]
    }
   ],
   "source": [
    "from calvin_utils.ccm_utils.bounding_box import NiftiBoundingBox\n",
    "from glob import glob\n",
    "bbox = NiftiBoundingBox(glob(path))\n",
    "bbox.gen_mask(out_path)"
   ]
  },
  {
   "cell_type": "markdown",
   "id": "a8245891",
   "metadata": {},
   "source": [
    "Enter Specific Files"
   ]
  },
  {
   "cell_type": "code",
   "execution_count": 16,
   "id": "30530753",
   "metadata": {},
   "outputs": [],
   "source": [
    "out_path='/Users/cu135/Partners HealthCare Dropbox/Calvin Howard/resources/datasets/BIDS_PD_DBS_STN_WURZBURG/raw_netstim_database/35/stimulations'\n",
    "files = [\n",
    "    '/Users/cu135/Partners HealthCare Dropbox/Calvin Howard/resources/datasets/BIDS_PD_DBS_STN_WURZBURG/raw_netstim_database/35/stimulations/sub-35MDST_sim-binary_model-simbio_hemi-L.nii',\n",
    "    '/Users/cu135/Partners HealthCare Dropbox/Calvin Howard/resources/datasets/BIDS_PD_DBS_STN_WURZBURG/raw_netstim_database/35/stimulations/sub-35MDST_sim-binary_model-simbio_hemi-R.nii'\n",
    "]"
   ]
  },
  {
   "cell_type": "code",
   "execution_count": 17,
   "id": "4529e899",
   "metadata": {},
   "outputs": [
    {
     "name": "stdout",
     "output_type": "stream",
     "text": [
      "Multiple different voxel sizes detected. Using isotropic voxel size = (0.22222221, 0.22222221, 0.22222221) (lowest resolution)\n"
     ]
    }
   ],
   "source": [
    "from calvin_utils.ccm_utils.bounding_box import NiftiBoundingBox\n",
    "bbox = NiftiBoundingBox(files)\n",
    "bbox.gen_mask(out_path)"
   ]
  },
  {
   "cell_type": "code",
   "execution_count": null,
   "id": "f7521c27",
   "metadata": {},
   "outputs": [],
   "source": []
  }
 ],
 "metadata": {
  "kernelspec": {
   "display_name": "Python_3.7.7_nimlab",
   "language": "python",
   "name": "python3"
  },
  "language_info": {
   "codemirror_mode": {
    "name": "ipython",
    "version": 3
   },
   "file_extension": ".py",
   "mimetype": "text/x-python",
   "name": "python",
   "nbconvert_exporter": "python",
   "pygments_lexer": "ipython3",
   "version": "3.11.12"
  }
 },
 "nbformat": 4,
 "nbformat_minor": 5
}
