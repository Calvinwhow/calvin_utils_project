{
 "cells": [
  {
   "cell_type": "code",
   "execution_count": 3,
   "id": "7ec021e4",
   "metadata": {},
   "outputs": [],
   "source": [
    "path = '/Volumes/HowExp/datasets/DBS_minisets/Queensland_PD_DBS/data/sub-*/ses-01/stimulations/MNI152NLin2009bAsym/gs_20200826142724/sub-*-binary_model-simbio_hemi-L.nii'\n",
    "out_dir = '/Volumes/HowExp/datasets/DBS_minisets/Queensland_PD_DBS/results/simbio_vta_masks'"
   ]
  },
  {
   "cell_type": "code",
   "execution_count": 4,
   "id": "f1b468ab",
   "metadata": {},
   "outputs": [
    {
     "name": "stdout",
     "output_type": "stream",
     "text": [
      "Multiple different voxel sizes detected. Using isotropic voxel size = (0.18181819, 0.18181819, 0.18181819) (lowest resolution)\n"
     ]
    }
   ],
   "source": [
    "from calvin_utils.ccm_utils.bounding_box import NiftiBoundingBox\n",
    "from glob import glob\n",
    "bbox = NiftiBoundingBox(glob(path))\n",
    "bbox.gen_mask(out_dir)"
   ]
  },
  {
   "cell_type": "markdown",
   "id": "a8245891",
   "metadata": {},
   "source": [
    "Enter Specific Files"
   ]
  },
  {
   "cell_type": "code",
   "execution_count": 16,
   "id": "30530753",
   "metadata": {},
   "outputs": [],
   "source": [
    "out_path='/Users/cu135/Partners HealthCare Dropbox/Calvin Howard/resources/datasets/BIDS_PD_DBS_STN_WURZBURG/raw_netstim_database/35/stimulations'\n",
    "files = [\n",
    "    '/Users/cu135/Partners HealthCare Dropbox/Calvin Howard/resources/datasets/BIDS_PD_DBS_STN_WURZBURG/raw_netstim_database/35/stimulations/sub-35MDST_sim-binary_model-simbio_hemi-L.nii',\n",
    "    '/Users/cu135/Partners HealthCare Dropbox/Calvin Howard/resources/datasets/BIDS_PD_DBS_STN_WURZBURG/raw_netstim_database/35/stimulations/sub-35MDST_sim-binary_model-simbio_hemi-R.nii'\n",
    "]"
   ]
  },
  {
   "cell_type": "code",
   "execution_count": 17,
   "id": "4529e899",
   "metadata": {},
   "outputs": [
    {
     "name": "stdout",
     "output_type": "stream",
     "text": [
      "Multiple different voxel sizes detected. Using isotropic voxel size = (0.22222221, 0.22222221, 0.22222221) (lowest resolution)\n"
     ]
    }
   ],
   "source": [
    "from calvin_utils.ccm_utils.bounding_box import NiftiBoundingBox\n",
    "bbox = NiftiBoundingBox(files)\n",
    "bbox.gen_mask(out_path)"
   ]
  },
  {
   "cell_type": "code",
   "execution_count": null,
   "id": "f7521c27",
   "metadata": {},
   "outputs": [],
   "source": []
  }
 ],
 "metadata": {
  "kernelspec": {
   "display_name": ".venv_calvin (3.10.18)",
   "language": "python",
   "name": "python3"
  },
  "language_info": {
   "codemirror_mode": {
    "name": "ipython",
    "version": 3
   },
   "file_extension": ".py",
   "mimetype": "text/x-python",
   "name": "python",
   "nbconvert_exporter": "python",
   "pygments_lexer": "ipython3",
   "version": "3.10.18"
  }
 },
 "nbformat": 4,
 "nbformat_minor": 5
}
