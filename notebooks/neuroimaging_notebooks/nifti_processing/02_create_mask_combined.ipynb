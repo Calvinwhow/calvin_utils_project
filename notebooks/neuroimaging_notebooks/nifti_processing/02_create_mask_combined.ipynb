{
 "cells": [
  {
   "cell_type": "code",
   "execution_count": 19,
   "id": "7ec021e4",
   "metadata": {},
   "outputs": [],
   "source": [
    "path = '/Users/cu135/Partners HealthCare Dropbox/Calvin Howard/resources/datasets/Khosravani_sEEG_Pain/BIDS/sub-07/ses-01/roi/*'\n",
    "out_dir = '/Users/cu135/Partners HealthCare Dropbox/Calvin Howard/resources/datasets/Khosravani_sEEG_Pain/BIDS/sub-07/ses-01/roi'"
   ]
  },
  {
   "cell_type": "code",
   "execution_count": 20,
   "id": "f1b468ab",
   "metadata": {},
   "outputs": [
    {
     "name": "stdout",
     "output_type": "stream",
     "text": [
      "All files appear to have the same voxel sizes: (np.float32(0.2), np.float32(0.2), np.float32(0.2)). No reslicing needed.\n"
     ]
    }
   ],
   "source": [
    "from calvin_utils.ccm_utils.bounding_box import NiftiBoundingBox\n",
    "from glob import glob\n",
    "bbox = NiftiBoundingBox(glob(path))\n",
    "bbox.gen_mask(out_dir)"
   ]
  },
  {
   "cell_type": "markdown",
   "id": "a8245891",
   "metadata": {},
   "source": [
    "Enter Specific Files"
   ]
  },
  {
   "cell_type": "code",
   "execution_count": 16,
   "id": "30530753",
   "metadata": {},
   "outputs": [],
   "source": [
    "out_path='/Users/cu135/Partners HealthCare Dropbox/Calvin Howard/resources/datasets/BIDS_PD_DBS_STN_WURZBURG/raw_netstim_database/35/stimulations'\n",
    "files = [\n",
    "    '/Users/cu135/Partners HealthCare Dropbox/Calvin Howard/resources/datasets/BIDS_PD_DBS_STN_WURZBURG/raw_netstim_database/35/stimulations/sub-35MDST_sim-binary_model-simbio_hemi-L.nii',\n",
    "    '/Users/cu135/Partners HealthCare Dropbox/Calvin Howard/resources/datasets/BIDS_PD_DBS_STN_WURZBURG/raw_netstim_database/35/stimulations/sub-35MDST_sim-binary_model-simbio_hemi-R.nii'\n",
    "]"
   ]
  },
  {
   "cell_type": "code",
   "execution_count": 17,
   "id": "4529e899",
   "metadata": {},
   "outputs": [
    {
     "name": "stdout",
     "output_type": "stream",
     "text": [
      "Multiple different voxel sizes detected. Using isotropic voxel size = (0.22222221, 0.22222221, 0.22222221) (lowest resolution)\n"
     ]
    }
   ],
   "source": [
    "from calvin_utils.ccm_utils.bounding_box import NiftiBoundingBox\n",
    "bbox = NiftiBoundingBox(files)\n",
    "bbox.gen_mask(out_path)"
   ]
  },
  {
   "cell_type": "code",
   "execution_count": null,
   "id": "f7521c27",
   "metadata": {},
   "outputs": [],
   "source": []
  }
 ],
 "metadata": {
  "kernelspec": {
   "display_name": ".calvin_utils_venv (3.13.3)",
   "language": "python",
   "name": "python3"
  },
  "language_info": {
   "codemirror_mode": {
    "name": "ipython",
    "version": 3
   },
   "file_extension": ".py",
   "mimetype": "text/x-python",
   "name": "python",
   "nbconvert_exporter": "python",
   "pygments_lexer": "ipython3",
   "version": "3.13.3"
  }
 },
 "nbformat": 4,
 "nbformat_minor": 5
}
