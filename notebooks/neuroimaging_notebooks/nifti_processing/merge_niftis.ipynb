{
 "cells": [
  {
   "cell_type": "code",
   "execution_count": 1,
   "id": "3ca4d2d2",
   "metadata": {},
   "outputs": [],
   "source": [
    "import os\n",
    "from pathlib import Path\n",
    "from typing import List\n",
    "\n",
    "import numpy as np\n",
    "import nibabel as nib\n",
    "from nibabel.processing import resample_from_to\n",
    "\n",
    "\n",
    "class NiftiAdder:\n",
    "    \"\"\"\n",
    "    Add two or more co-registered NIfTIs voxel-wise and save the result.\n",
    "    \"\"\"\n",
    "\n",
    "    # ------------------------------------------------------------------ #\n",
    "    # constructor                                                        #\n",
    "    # ------------------------------------------------------------------ #\n",
    "    def __init__(self, nifti_paths):\n",
    "        if isinstance(nifti_paths, str):\n",
    "            nifti_paths = [nifti_paths]\n",
    "        if len(nifti_paths) < 2:\n",
    "            raise ValueError(\"Need at least two NIfTIs to add.\")\n",
    "        self.nifti_paths = nifti_paths\n",
    "        self.pairs: List[List[str]] = []\n",
    "\n",
    "    # ------------------------------------------------------------------ #\n",
    "    # helpers                                                            #\n",
    "    # ------------------------------------------------------------------ #\n",
    "    def _load_all(self):\n",
    "        \"\"\"Load all volumes as nibabel images.\"\"\"\n",
    "        return [nib.load(p) for p in self.nifti_paths]\n",
    "\n",
    "    def _resample_to_first(self, imgs):\n",
    "        \"\"\"Resample images to the first image’s grid and sum.\"\"\"\n",
    "        ref = imgs[0]\n",
    "        data = np.zeros(ref.shape, dtype=np.float32)\n",
    "        for img in imgs:\n",
    "            if img.shape != ref.shape or not np.allclose(img.affine, ref.affine):\n",
    "                img = resample_from_to(img, (ref.shape, ref.affine), order=0)\n",
    "            data += img.get_fdata(dtype=np.float32)\n",
    "        return data, ref.affine, ref.header\n",
    "\n",
    "    # ------------------------------------------------------------------ #\n",
    "    # public API                                                         #\n",
    "    # ------------------------------------------------------------------ #\n",
    "    @staticmethod\n",
    "    def find_pairs(directory: str) -> List[List[str]]:\n",
    "        \"\"\"\n",
    "        Return [[orig, derived], …] where one file-name is a substring of the\n",
    "        other (extension ignored).\n",
    "        \"\"\"\n",
    "        paths = sorted(Path(directory).iterdir())\n",
    "        stems = [\n",
    "            p.name[:-7] if p.name.endswith(\".nii.gz\")\n",
    "            else p.name[:-4] if p.name.endswith(\".nii\")\n",
    "            else p.name\n",
    "            for p in paths\n",
    "        ]\n",
    "\n",
    "        used, pairs = set(), []\n",
    "        for i, p_i in enumerate(paths):\n",
    "            if i in used:\n",
    "                continue\n",
    "            for j in range(i + 1, len(paths)):\n",
    "                if j in used:\n",
    "                    continue\n",
    "                if stems[i] in stems[j] or stems[j] in stems[i]:\n",
    "                    pairs.append([str(p_i), str(paths[j])])\n",
    "                    used.update({i, j})\n",
    "                    break\n",
    "        return pairs\n",
    "    @staticmethod\n",
    "    def add_and_save_pairs(pairs: list, out_dir: str, suffix: str = \"_added\"):\n",
    "        \"\"\"\n",
    "        Loop through `pairs` and write summed volumes for each pair.\n",
    "        \"\"\"\n",
    "        for p1, p2 in pairs:\n",
    "            adder = NiftiAdder([p1, p2])\n",
    "            print(f\"Saved: {adder.add_and_save(out_dir, suffix)}\")\n",
    "\n",
    "    def add_and_save(self, out_dir: str, suffix: str = \"_added\") -> str:\n",
    "        \"\"\"\n",
    "        Sum `self.nifti_paths` and write one file named <first><suffix>.nii.gz.\n",
    "        \"\"\"\n",
    "        os.makedirs(out_dir, exist_ok=True)\n",
    "        summed, affine, hdr = self._resample_to_first(self._load_all())\n",
    "        base = Path(self.nifti_paths[0]).stem.replace(\".nii\", \"\")\n",
    "        out_path = Path(out_dir) / f\"{base}{suffix}.nii.gz\"\n",
    "        nib.save(nib.Nifti1Image(summed, affine, hdr), out_path)\n",
    "        return str(out_path)"
   ]
  },
  {
   "cell_type": "markdown",
   "id": "7e7145b6",
   "metadata": {},
   "source": [
    "Add and Save all Pairs in Folder"
   ]
  },
  {
   "cell_type": "code",
   "execution_count": 2,
   "id": "c0ff917c",
   "metadata": {},
   "outputs": [],
   "source": [
    "folder = '/Users/cu135/Partners HealthCare Dropbox/Calvin Howard/resources/datasets/HORISAWA_DYSKINESIA_FOREL/ff_lesions_higher_res'"
   ]
  },
  {
   "cell_type": "code",
   "execution_count": 3,
   "id": "82817160",
   "metadata": {},
   "outputs": [
    {
     "name": "stdout",
     "output_type": "stream",
     "text": [
      "Saved: /Users/cu135/Partners HealthCare Dropbox/Calvin Howard/resources/datasets/HORISAWA_DYSKINESIA_FOREL/ff_lesions_higher_res/flipped_sub-01_desc-lesion_mask_added.nii.gz\n",
      "Saved: /Users/cu135/Partners HealthCare Dropbox/Calvin Howard/resources/datasets/HORISAWA_DYSKINESIA_FOREL/ff_lesions_higher_res/flipped_sub-02_desc-lesion_mask_added.nii.gz\n",
      "Saved: /Users/cu135/Partners HealthCare Dropbox/Calvin Howard/resources/datasets/HORISAWA_DYSKINESIA_FOREL/ff_lesions_higher_res/flipped_sub-03_desc-lesion_mask_added.nii.gz\n",
      "Saved: /Users/cu135/Partners HealthCare Dropbox/Calvin Howard/resources/datasets/HORISAWA_DYSKINESIA_FOREL/ff_lesions_higher_res/flipped_sub-04_desc-lesion_mask_added.nii.gz\n",
      "Saved: /Users/cu135/Partners HealthCare Dropbox/Calvin Howard/resources/datasets/HORISAWA_DYSKINESIA_FOREL/ff_lesions_higher_res/flipped_sub-05_desc-lesion_mask_added.nii.gz\n",
      "Saved: /Users/cu135/Partners HealthCare Dropbox/Calvin Howard/resources/datasets/HORISAWA_DYSKINESIA_FOREL/ff_lesions_higher_res/flipped_sub-06_desc-lesion_mask_added.nii.gz\n",
      "Saved: /Users/cu135/Partners HealthCare Dropbox/Calvin Howard/resources/datasets/HORISAWA_DYSKINESIA_FOREL/ff_lesions_higher_res/flipped_sub-07_desc-lesion_mask_added.nii.gz\n",
      "Saved: /Users/cu135/Partners HealthCare Dropbox/Calvin Howard/resources/datasets/HORISAWA_DYSKINESIA_FOREL/ff_lesions_higher_res/flipped_sub-08_desc-lesion_mask_added.nii.gz\n",
      "Saved: /Users/cu135/Partners HealthCare Dropbox/Calvin Howard/resources/datasets/HORISAWA_DYSKINESIA_FOREL/ff_lesions_higher_res/flipped_sub-09_desc-lesion_mask_added.nii.gz\n",
      "Saved: /Users/cu135/Partners HealthCare Dropbox/Calvin Howard/resources/datasets/HORISAWA_DYSKINESIA_FOREL/ff_lesions_higher_res/flipped_sub-10_desc-lesion_mask_added.nii.gz\n",
      "Saved: /Users/cu135/Partners HealthCare Dropbox/Calvin Howard/resources/datasets/HORISAWA_DYSKINESIA_FOREL/ff_lesions_higher_res/flipped_sub-11_desc-lesion_mask_added.nii.gz\n",
      "Saved: /Users/cu135/Partners HealthCare Dropbox/Calvin Howard/resources/datasets/HORISAWA_DYSKINESIA_FOREL/ff_lesions_higher_res/flipped_sub-12_desc-lesion_mask_added.nii.gz\n",
      "Saved: /Users/cu135/Partners HealthCare Dropbox/Calvin Howard/resources/datasets/HORISAWA_DYSKINESIA_FOREL/ff_lesions_higher_res/flipped_sub-13_desc-lesion_mask_added.nii.gz\n",
      "Saved: /Users/cu135/Partners HealthCare Dropbox/Calvin Howard/resources/datasets/HORISAWA_DYSKINESIA_FOREL/ff_lesions_higher_res/flipped_sub-14_desc-lesion_mask_added.nii.gz\n",
      "Saved: /Users/cu135/Partners HealthCare Dropbox/Calvin Howard/resources/datasets/HORISAWA_DYSKINESIA_FOREL/ff_lesions_higher_res/flipped_sub-15_desc-lesion_mask_added.nii.gz\n",
      "Saved: /Users/cu135/Partners HealthCare Dropbox/Calvin Howard/resources/datasets/HORISAWA_DYSKINESIA_FOREL/ff_lesions_higher_res/flipped_sub-16_desc-lesion_mask_added.nii.gz\n",
      "Saved: /Users/cu135/Partners HealthCare Dropbox/Calvin Howard/resources/datasets/HORISAWA_DYSKINESIA_FOREL/ff_lesions_higher_res/flipped_sub-17_desc-lesion_mask_added.nii.gz\n",
      "Saved: /Users/cu135/Partners HealthCare Dropbox/Calvin Howard/resources/datasets/HORISAWA_DYSKINESIA_FOREL/ff_lesions_higher_res/flipped_sub-18_desc-lesion_mask_added.nii.gz\n",
      "Saved: /Users/cu135/Partners HealthCare Dropbox/Calvin Howard/resources/datasets/HORISAWA_DYSKINESIA_FOREL/ff_lesions_higher_res/flipped_sub-19_desc-lesion_mask_added.nii.gz\n",
      "Saved: /Users/cu135/Partners HealthCare Dropbox/Calvin Howard/resources/datasets/HORISAWA_DYSKINESIA_FOREL/ff_lesions_higher_res/flipped_sub-20_desc-lesion_mask_added.nii.gz\n",
      "Saved: /Users/cu135/Partners HealthCare Dropbox/Calvin Howard/resources/datasets/HORISAWA_DYSKINESIA_FOREL/ff_lesions_higher_res/flipped_sub-21_desc-lesion_mask_added.nii.gz\n",
      "Saved: /Users/cu135/Partners HealthCare Dropbox/Calvin Howard/resources/datasets/HORISAWA_DYSKINESIA_FOREL/ff_lesions_higher_res/flipped_sub-22_desc-lesion_mask_added.nii.gz\n",
      "Saved: /Users/cu135/Partners HealthCare Dropbox/Calvin Howard/resources/datasets/HORISAWA_DYSKINESIA_FOREL/ff_lesions_higher_res/flipped_sub-23_desc-lesion_mask_added.nii.gz\n",
      "Saved: /Users/cu135/Partners HealthCare Dropbox/Calvin Howard/resources/datasets/HORISAWA_DYSKINESIA_FOREL/ff_lesions_higher_res/flipped_sub-24_desc-lesion_mask_added.nii.gz\n",
      "Saved: /Users/cu135/Partners HealthCare Dropbox/Calvin Howard/resources/datasets/HORISAWA_DYSKINESIA_FOREL/ff_lesions_higher_res/flipped_sub-25_desc-lesion_mask_added.nii.gz\n",
      "Saved: /Users/cu135/Partners HealthCare Dropbox/Calvin Howard/resources/datasets/HORISAWA_DYSKINESIA_FOREL/ff_lesions_higher_res/flipped_sub-26_desc-lesion_mask_added.nii.gz\n"
     ]
    }
   ],
   "source": [
    "pairs = NiftiAdder.find_pairs(directory=folder)\n",
    "NiftiAdder.add_and_save_pairs(pairs=pairs, out_dir=folder, suffix='_added')"
   ]
  },
  {
   "cell_type": "markdown",
   "id": "ffe423de",
   "metadata": {},
   "source": [
    "Add and Save Predefined Pairs"
   ]
  }
 ],
 "metadata": {
  "kernelspec": {
   "display_name": "Python_3.7.7_nimlab",
   "language": "python",
   "name": "python3"
  },
  "language_info": {
   "codemirror_mode": {
    "name": "ipython",
    "version": 3
   },
   "file_extension": ".py",
   "mimetype": "text/x-python",
   "name": "python",
   "nbconvert_exporter": "python",
   "pygments_lexer": "ipython3",
   "version": "3.11.10"
  }
 },
 "nbformat": 4,
 "nbformat_minor": 5
}
