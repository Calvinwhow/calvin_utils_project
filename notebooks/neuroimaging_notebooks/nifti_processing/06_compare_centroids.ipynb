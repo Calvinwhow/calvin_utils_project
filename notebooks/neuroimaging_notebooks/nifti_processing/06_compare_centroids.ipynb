{
 "cells": [
  {
   "cell_type": "markdown",
   "id": "965525ba",
   "metadata": {},
   "source": [
    "### Analysis of NIfTI Centroid Data Using `NiftiCentroidStats`\n",
    "\n",
    "This notebook demonstrates the use of the `NiftiCentroidStats` class from the `calvin_utils.nifti_utils.compare_nifti_centroids` module to compare centroids of two groups of NIfTI files. Below is an explanation of the workflow and the results generated:\n",
    "\n",
    "#### Workflow\n",
    "\n",
    "1. **Input Paths**:\n",
    "    - `path1`: Specifies the file path pattern for the first group of NIfTI files (e.g., lesion masks).\n",
    "    - `path2`: Specifies the file path pattern for the second group of NIfTI files (e.g., fMRI compound seeds).\n",
    "\n",
    "2. **Initialization**:\n",
    "    - The `NiftiCentroidStats` object, `stats`, is initialized with the file paths for the two groups. The `multi_centroids=True` parameter indicates that multiple centroids are being analyzed.\n",
    "\n",
    "3. **Centroid Analysis**:\n",
    "    - `stats.run()`: Computes summary statistics (`xyz_summary`) and statistical tests (`xyz_tests`) for the centroids of the two groups along the x, y, and z axes.\n",
    "      - `xyz_summary`: Contains the mean, standard deviation, and sample size for each group along each axis.\n",
    "      - `xyz_tests`: Contains the t-statistic and p-value for comparing the two groups along each axis.\n",
    "\n",
    "4. **Norm Analysis**:\n",
    "    - `stats.compare_norms()`: Compares the Euclidean norms of the centroids between the two groups.\n",
    "      - `norm_summary`: Provides the mean, standard deviation, and sample size for the norms of each group.\n",
    "      - `norm_test`: Contains the t-statistic and p-value for the comparison of norms.\n",
    "\n",
    "#### Results\n",
    "\n",
    "- **Centroid Summary (`xyz_summary`)**:\n",
    "  - Provides descriptive statistics (mean and standard deviation) for the centroids of each group along the x, y, and z axes.\n",
    "  - Example:\n",
    "     ```python\n",
    "     xyz_summary = {\n",
    "          'group1': {'n': 62, 'mean': array([ -0.074, -13.402,  -4.973]), 'std': array([13.193,  2.132,  2.996])},\n",
    "          'group2': {'n': 88, 'mean': array([ -0.883, -12.705,  -6.199]), 'std': array([11.682,  2.490,  2.528])}\n",
    "     }\n",
    "     ```\n",
    "\n",
    "- **Centroid Tests (`xyz_tests`)**:\n",
    "  - Contains the results of t-tests comparing the centroids of the two groups along each axis.\n",
    "  - Example:\n",
    "     ```python\n",
    "     xyz_tests = {\n",
    "          'x': {'t': 0.387, 'p': 0.699},\n",
    "          'y': {'t': -1.839, 'p': 0.068},\n",
    "          'z': {'t': 2.628, 'p': 0.010}\n",
    "     }\n",
    "     ```\n",
    "\n",
    "- **Norm Summary (`norm_summary`)**:\n",
    "  - Provides descriptive statistics for the Euclidean norms of the centroids in each group.\n",
    "  - Example:\n",
    "     ```python\n",
    "     norm_summary = {\n",
    "          'group1': {'n': 62, 'mean': 19.677, 'std': 1.327},\n",
    "          'group2': {'n': 88, 'mean': 18.524, 'std': 2.210}\n",
    "     }\n",
    "     ```\n",
    "\n",
    "- **Norm Test (`norm_test`)**:\n",
    "  - Contains the results of a t-test comparing the norms of the centroids between the two groups.\n",
    "  - Example:\n",
    "     ```python\n",
    "     norm_test = {'norm': {'t': 3.980, 'p': 0.0001}}\n",
    "     ```\n",
    "\n",
    "#### Interpretation\n",
    "\n",
    "- The `xyz_tests` results indicate whether there are significant differences between the two groups along each axis. For example, the z-axis comparison shows a significant difference (`p = 0.010`).\n",
    "- The `norm_test` results indicate whether the overall centroid norms differ significantly between the two groups. In this case, the difference is highly significant (`p = 0.0001`).\n",
    "\n",
    "This notebook provides a structured approach to analyzing and comparing centroid data from NIfTI files, enabling researchers to identify spatial differences between groups."
   ]
  },
  {
   "cell_type": "code",
   "execution_count": 1,
   "id": "a8281d08",
   "metadata": {},
   "outputs": [],
   "source": [
    "path1 = '/Volumes/OneTouch/datasets/BIDMC_PD_DBS_STN/derivatives/sub-*/roi/sub-*-2mm_lesionMask.nii.gz'\n",
    "path2 = '/Volumes/OneTouch/datasets/WURZBURG_PD_DBS_STN/derivatives/third_level/vtasCompoundMNI152/MDST*_seed_compound_fMRI.nii'"
   ]
  },
  {
   "cell_type": "markdown",
   "id": "72eb0279",
   "metadata": {},
   "source": [
    "Setting mirror=True will flip all centroids to the right side and compare as if they were a single VTA"
   ]
  },
  {
   "cell_type": "code",
   "execution_count": 5,
   "id": "e9c70bb7",
   "metadata": {},
   "outputs": [
    {
     "name": "stdout",
     "output_type": "stream",
     "text": [
      "\n",
      "----- Each coordinate (XYZ)  (mirrored & merged) -----\n",
      "Summary:\n",
      "{'group1': {'mean': array([ 12.97491452, -13.40249286,  -4.97321918]),\n",
      "            'n': 62,\n",
      "            'std': array([1.72082442, 2.1321813 , 2.99568036])},\n",
      " 'group2': {'mean': array([ 11.50345574, -12.70533475,  -6.19851657]),\n",
      "            'n': 88,\n",
      "            'std': array([1.84858276, 2.48958925, 2.52785425])}}\n",
      "T‑tests:\n",
      "{'x': {'p': 1.7205889050502955e-06, 't': 5.000383252816806},\n",
      " 'y': {'p': 0.06804048988182389, 't': -1.8387173345361667},\n",
      " 'z': {'p': 0.009736588341800448, 't': 2.6281730750228363}}\n",
      "\n",
      "----- Euclidean norm of XYZ  (mirrored & merged) -----\n",
      "Summary:\n",
      "{'merged': {'group1': {'mean': 19.639509851774626,\n",
      "                       'n': 62,\n",
      "                       'std': 1.3826647479074277},\n",
      "            'group2': {'mean': 18.52438340516909,\n",
      "                       'n': 88,\n",
      "                       'std': 2.2100793348842713}}}\n",
      "T‑tests:\n",
      "{'norm': {'p': 0.0002156242268916329, 't': 3.795055409652397}}\n"
     ]
    }
   ],
   "source": [
    "from calvin_utils.nifti_utils.compare_nifti_centroids import NiftiCentroidStats\n",
    "stats = NiftiCentroidStats(\n",
    "        grp1_glob=path1,\n",
    "        grp2_glob=path2,\n",
    "        n_centroids=2,\n",
    "        mirror=True\n",
    "    )\n",
    "xyz_summary, xyz_tests = stats.run()\n",
    "norm_summary, norm_test = stats.compare_norms()\n"
   ]
  },
  {
   "cell_type": "code",
   "execution_count": null,
   "id": "9de5e5e0",
   "metadata": {},
   "outputs": [],
   "source": []
  }
 ],
 "metadata": {
  "kernelspec": {
   "display_name": "Python_3.7.7_nimlab",
   "language": "python",
   "name": "python3"
  },
  "language_info": {
   "codemirror_mode": {
    "name": "ipython",
    "version": 3
   },
   "file_extension": ".py",
   "mimetype": "text/x-python",
   "name": "python",
   "nbconvert_exporter": "python",
   "pygments_lexer": "ipython3",
   "version": "3.11.10"
  }
 },
 "nbformat": 4,
 "nbformat_minor": 5
}
