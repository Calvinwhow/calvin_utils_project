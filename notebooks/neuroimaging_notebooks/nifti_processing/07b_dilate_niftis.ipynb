{
 "cells": [
  {
   "cell_type": "markdown",
   "metadata": {},
   "source": [
    "use FSL"
   ]
  },
  {
   "cell_type": "markdown",
   "metadata": {},
   "source": [
    "fslmaths /path/to/padded_image.nii.gz -dilF /path/to/dilated_image.nii.gz\n",
    "\n",
    "fslmaths /Users/cu135/Partners\\ HealthCare\\ Dropbox/Calvin\\ Howard/studies/atrophy_seeds_2023/Figures/riMLF_localization/bl/rIMLF_BL_refined-from-Friedrich2022_MF-HF_075-MNI152_pad50.nii -dilF /Users/cu135/Partners\\ HealthCare\\ Dropbox/Calvin\\ Howard/studies/atrophy_seeds_2023/Figures/riMLF_localization/bl/rIMLF_BL_refined-from-Friedrich2022_MF-HF_075-MNI152_pad50_dilated.nii.gz\n",
    "\n"
   ]
  },
  {
   "cell_type": "code",
   "execution_count": null,
   "metadata": {},
   "outputs": [],
   "source": [
    "fslmaths \"/Users/cu135/Partners HealthCare Dropbox/Calvin Howard/studies/atrophy_seeds_2023/Figures/riMLF_localization/hummingbird_patient_masked_to_rimlf/outputwm.nii\" -dilF \"/Users/cu135/Partners HealthCare Dropbox/Calvin Howard/studies/atrophy_seeds_2023/Figures/riMLF_localization/hummingbird_patient_masked_to_rimlf/outputwm.nii\"\n"
   ]
  },
  {
   "cell_type": "markdown",
   "metadata": {},
   "source": [
    "Binary Dilation"
   ]
  },
  {
   "cell_type": "code",
   "execution_count": 4,
   "metadata": {},
   "outputs": [
    {
     "name": "stderr",
     "output_type": "stream",
     "text": [
      "dilating: 100%|██████████| 10/10 [08:06<00:00, 48.66s/it]\n"
     ]
    },
    {
     "name": "stdout",
     "output_type": "stream",
     "text": [
      "Manual dilation of binary parts added successfully!\n"
     ]
    }
   ],
   "source": [
    "import nibabel as nib\n",
    "import numpy as np\n",
    "from tqdm import tqdm\n",
    "\n",
    "def manual_dilation(binary_image, iterations):\n",
    "    \"\"\"\n",
    "    Manually dilate a binary image.\n",
    "    \n",
    "    Parameters:\n",
    "    - binary_image: 3D numpy array of the binary image to be dilated\n",
    "    - iterations: Number of dilation iterations\n",
    "    \n",
    "    Returns:\n",
    "    - Dilated binary image\n",
    "    \"\"\"\n",
    "    dilated_image = binary_image.copy()\n",
    "    for _ in tqdm(range(iterations), desc='dilating'):\n",
    "        new_dilated_image = dilated_image.copy()\n",
    "        for x in range(1, binary_image.shape[0] - 1):\n",
    "            for y in range(1, binary_image.shape[1] - 1):\n",
    "                for z in range(1, binary_image.shape[2] - 1):\n",
    "                    if dilated_image[x, y, z] == 1:\n",
    "                        # Check neighbors\n",
    "                        for dx in [-1, 0, 1]:\n",
    "                            for dy in [-1, 0, 1]:\n",
    "                                for dz in [-1, 0, 1]:\n",
    "                                    if (dx != 0 or dy != 0 or dz != 0):\n",
    "                                        new_dilated_image[x + dx, y + dy, z + dz] = 1\n",
    "        dilated_image = new_dilated_image\n",
    "    return dilated_image\n",
    "\n",
    "# Load the NIfTI file\n",
    "nii = nib.load('/Users/cu135/Partners HealthCare Dropbox/Calvin Howard/studies/atrophy_seeds_2023/Figures/riMLF_localization/bl/rIMLF_BL_refined-from-Friedrich2022_MF-HF_075-MNI152_pad50.nii')\n",
    "\n",
    "# Get the image data and dimensions\n",
    "image_data = nii.get_fdata()\n",
    "\n",
    "# Create a binary mask where the original image is 1\n",
    "binary_mask = (image_data == 1).astype(np.uint8)\n",
    "\n",
    "# Perform manual dilation on the binary mask\n",
    "dilation_iterations = 10  # Number of iterations to control the degree of dilation\n",
    "dilated_mask = manual_dilation(binary_mask, dilation_iterations)\n",
    "\n",
    "# Combine the dilated mask with the original image\n",
    "dilated_image = np.where(dilated_mask == 1, 1, image_data)\n",
    "\n",
    "# Save the dilated image to a new NIfTI file\n",
    "dilated_nii = nib.Nifti1Image(dilated_image, nii.affine)\n",
    "nib.save(dilated_nii, '/Users/cu135/Partners HealthCare Dropbox/Calvin Howard/studies/atrophy_seeds_2023/Figures/riMLF_localization/bl/rIMLF_BL_refined-from-Friedrich2022_MF-HF_075-MNI152_pad50_DIL.nii')\n",
    "\n",
    "print(\"Manual dilation of binary parts added successfully!\")\n"
   ]
  },
  {
   "cell_type": "markdown",
   "metadata": {},
   "source": []
  }
 ],
 "metadata": {
  "kernelspec": {
   "display_name": "nimlab_py310",
   "language": "python",
   "name": "python3"
  },
  "language_info": {
   "codemirror_mode": {
    "name": "ipython",
    "version": 3
   },
   "file_extension": ".py",
   "mimetype": "text/x-python",
   "name": "python",
   "nbconvert_exporter": "python",
   "pygments_lexer": "ipython3",
   "version": "3.10.8"
  }
 },
 "nbformat": 4,
 "nbformat_minor": 2
}
