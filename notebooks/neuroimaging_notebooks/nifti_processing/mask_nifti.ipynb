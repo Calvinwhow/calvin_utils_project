{
 "cells": [
  {
   "cell_type": "markdown",
   "metadata": {},
   "source": [
    "# Option A - use FSL if Installed"
   ]
  },
  {
   "cell_type": "code",
   "execution_count": 1,
   "metadata": {},
   "outputs": [],
   "source": [
    "import subprocess\n",
    "import os\n",
    "\n",
    "def mask_nifti(mask_path, image_path):\n",
    "    # Extract directory and filename without extension\n",
    "    image_dir, image_filename = os.path.split(image_path)\n",
    "    image_basename, image_ext = os.path.splitext(image_filename)\n",
    "    \n",
    "    # Ensure the extension is .nii or .nii.gz\n",
    "    if image_ext == '.gz':\n",
    "        image_basename, _ = os.path.splitext(image_basename)\n",
    "        image_ext = '.nii.gz'\n",
    "    \n",
    "    # Define the output path\n",
    "    output_path = os.path.join(image_dir, f\"{image_basename}_masked{image_ext}\")\n",
    "    \n",
    "    # Build the FSL command\n",
    "    fsl_command = ['fslmaths', image_path, '-mas', mask_path, output_path]\n",
    "    \n",
    "    # Execute the command\n",
    "    result = subprocess.run(fsl_command, stdout=subprocess.PIPE, stderr=subprocess.PIPE)\n",
    "    \n",
    "    # Check if the command executed successfully\n",
    "    if result.returncode != 0:\n",
    "        # An error occurred, handle it here\n",
    "        print(f\"Error running fslmaths: {result.stderr.decode('utf-8')}\")\n",
    "        return None\n",
    "    \n",
    "    # Return the path to the masked image\n",
    "    return output_path\n"
   ]
  },
  {
   "cell_type": "code",
   "execution_count": 2,
   "metadata": {},
   "outputs": [],
   "source": [
    "mask_path = '/Users/cu135/Partners HealthCare Dropbox/Calvin Howard/studies/atrophy_seeds_2023/shared_analysis/niftis_for_elmira/example_patient/derivatives/p00002_brain_mask.nii'\n",
    "image_path = '/Users/cu135/Partners HealthCare Dropbox/Calvin Howard/studies/atrophy_seeds_2023/shared_analysis/niftis_for_elmira/example_patient/0002.nii'"
   ]
  },
  {
   "cell_type": "code",
   "execution_count": null,
   "metadata": {},
   "outputs": [],
   "source": [
    "masked_image_path = mask_nifti(mask_path=mask_path, image_path=image_path)\n",
    "print(f\"Masked image saved to: {masked_image_path}\")"
   ]
  },
  {
   "cell_type": "markdown",
   "metadata": {},
   "source": [
    "# Option B - Pythonic Implementation"
   ]
  },
  {
   "cell_type": "code",
   "execution_count": 1,
   "metadata": {},
   "outputs": [],
   "source": [
    "import nibabel as nib\n",
    "# Load the input NIFTI file and the target NIFTI file\n",
    "input_nifti = nib.load('/Users/cu135/Partners HealthCare Dropbox/Calvin Howard/studies/cognition_2023/revisions/notebook06/ongoing_ungodly_amount_of_edits/contrast_0_tval.nii.gz')\n",
    "target_nifti = nib.load('/Users/cu135/Partners HealthCare Dropbox/Calvin Howard/studies/cognition_2023/revisions/notebook06/ongoing_ungodly_amount_of_edits/sub-sphere_boi/ses-01/roi/sub-sphere_boi_MNI152_T1_10.0mm_sphere_roi.nii.gz')\n",
    "mni_mask_nifti = nib.load('/Users/cu135/hires_backdrops/MNI/MNI152_T1_2mm_brain_mask.nii')"
   ]
  },
  {
   "cell_type": "markdown",
   "metadata": {},
   "source": [
    "Generate Mask"
   ]
  },
  {
   "cell_type": "code",
   "execution_count": 2,
   "metadata": {},
   "outputs": [],
   "source": [
    "import numpy as np\n",
    "# Get the data arrays\n",
    "target_data = target_nifti.get_fdata()\n",
    "\n",
    "# Define the threshold for binarization\n",
    "threshold = 0  # Replace with your desired threshold value\n",
    "\n",
    "# Binarize the target data\n",
    "binary_mask = (target_data > threshold).astype(np.float32)\n",
    "\n",
    "# Ensure the dimensions of the input data and binary mask match\n",
    "input_data = input_nifti.get_fdata()\n",
    "if input_data.shape != binary_mask.shape:\n",
    "    raise ValueError(\"The dimensions of the input NIFTI file and the target NIFTI file do not match.\")\n",
    "# Apply the binary mask to the input data\n",
    "masked_data = input_data * binary_mask\n"
   ]
  },
  {
   "cell_type": "markdown",
   "metadata": {},
   "source": []
  },
  {
   "cell_type": "markdown",
   "metadata": {},
   "source": [
    "Optionally Binarize the Masked Data"
   ]
  },
  {
   "cell_type": "code",
   "execution_count": 3,
   "metadata": {},
   "outputs": [],
   "source": [
    "# masked_data = (masked_data > 0).astype(np.float32)"
   ]
  },
  {
   "cell_type": "code",
   "execution_count": 4,
   "metadata": {},
   "outputs": [],
   "source": [
    "\n",
    "# Create a new NIFTI image with the masked data and the original affine\n",
    "masked_img = nib.Nifti1Image(masked_data, input_nifti.affine, input_nifti.header)\n",
    "\n",
    "# Save the masked image\n",
    "nib.save(masked_img, '/Users/cu135/Partners HealthCare Dropbox/Calvin Howard/studies/cognition_2023/revisions/notebook06/ongoing_ungodly_amount_of_edits/sub-sphere_boi/ses-01/roi/sub-sphere_boi_MNI152_T1_10.0mm_sphere_roiMASKEDBOI.nii.gz')\n"
   ]
  },
  {
   "cell_type": "code",
   "execution_count": null,
   "metadata": {},
   "outputs": [],
   "source": []
  }
 ],
 "metadata": {
  "kernelspec": {
   "display_name": "nimlab_py310",
   "language": "python",
   "name": "python3"
  },
  "language_info": {
   "codemirror_mode": {
    "name": "ipython",
    "version": 3
   },
   "file_extension": ".py",
   "mimetype": "text/x-python",
   "name": "python",
   "nbconvert_exporter": "python",
   "pygments_lexer": "ipython3",
   "version": "3.10.16"
  }
 },
 "nbformat": 4,
 "nbformat_minor": 2
}
