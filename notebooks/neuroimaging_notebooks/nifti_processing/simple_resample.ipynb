{
 "cells": [
  {
   "cell_type": "code",
   "execution_count": null,
   "metadata": {},
   "outputs": [],
   "source": [
    "# Resample img2 to match img1's space\n",
    "import nibabel as nib\n",
    "from nilearn.image import resample_img\n",
    "import pylab as plt\n",
    "import nibabel as nb\n",
    "import numpy as np\n",
    "\n",
    "img = nib.load('/Users/cu135/Partners HealthCare Dropbox/Calvin Howard/Optimizer_VTAs/Clinician/sub-CbctDbs0201_hemi-L.nii')\n",
    "img2 = nib.load('/Users/cu135/Partners HealthCare Dropbox/Calvin Howard/Optimizer_VTAs/Optimizer/sub-CbctDbs0201_hemi-L.nii')\n",
    "\n",
    "plt.imshow(img2.dataobj[:,:,40])\n",
    "\n",
    "resampled_img2 = resample_img(\n",
    "    img2,\n",
    "    target_affine=img.affine,\n",
    "    target_shape=img.shape,\n",
    "    interpolation='nearest',\n",
    "    force_resample=True,\n",
    "    copy_header=True\n",
    ")\n",
    "print(resampled_img2.shape)\n",
    "plt.imshow(resampled_img2.dataobj[:,:,40])"
   ]
  }
 ],
 "metadata": {
  "language_info": {
   "name": "python"
  }
 },
 "nbformat": 4,
 "nbformat_minor": 2
}
