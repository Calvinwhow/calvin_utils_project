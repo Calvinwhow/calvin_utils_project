{
 "cells": [
  {
   "cell_type": "markdown",
   "metadata": {},
   "source": [
    "# Flip and save nifit"
   ]
  },
  {
   "cell_type": "code",
   "execution_count": 3,
   "metadata": {},
   "outputs": [],
   "source": [
    "import nibabel as nib\n",
    "import numpy as np\n",
    "\n",
    "# Load the NIFTI file\n",
    "nifti_file = nib.load('/Users/cu135/Partners HealthCare Dropbox/Calvin Howard/studies/atrophy_seeds_2023/Figures/riMLF_localization/rIMLF_L_refined-from-Friedrich2022_MF-HF_075-MNI152.nii.gz')\n",
    "\n",
    "# Get the data array\n",
    "data = nifti_file.get_fdata()\n",
    "\n",
    "# Flip the data array along the left-right axis (axis=0)\n",
    "flipped_data = np.flip(data, axis=0)\n",
    "\n",
    "# Create a new NIFTI image\n",
    "flipped_img = nib.Nifti1Image(flipped_data, nifti_file.affine, nifti_file.header)\n",
    "\n",
    "# Save the flipped image\n",
    "nib.save(flipped_img, '/Users/cu135/Partners HealthCare Dropbox/Calvin Howard/studies/atrophy_seeds_2023/Figures/riMLF_localization/rIMLF_R_refined-from-Friedrich2022_MF-HF_075-MNI152.nii.gz')\n"
   ]
  },
  {
   "cell_type": "code",
   "execution_count": null,
   "metadata": {},
   "outputs": [],
   "source": []
  }
 ],
 "metadata": {
  "kernelspec": {
   "display_name": "Python 3",
   "language": "python",
   "name": "python3"
  },
  "language_info": {
   "codemirror_mode": {
    "name": "ipython",
    "version": 3
   },
   "file_extension": ".py",
   "mimetype": "text/x-python",
   "name": "python",
   "nbconvert_exporter": "python",
   "pygments_lexer": "ipython3",
   "version": "3.10.8"
  }
 },
 "nbformat": 4,
 "nbformat_minor": 2
}
