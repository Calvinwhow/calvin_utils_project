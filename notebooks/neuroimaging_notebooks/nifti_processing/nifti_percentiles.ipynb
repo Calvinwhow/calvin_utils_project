{
 "cells": [
  {
   "cell_type": "code",
   "execution_count": 4,
   "metadata": {},
   "outputs": [
    {
     "name": "stdout",
     "output_type": "stream",
     "text": [
      "{100: 1.6828603030894935, 99.9: 1.2229939133074719, 99.5: 0.9953160399048487, 99: 0.8925186672206916, 98: 0.8089857978283195, 97: 0.7630967349256932, 96: 0.7288218458580396, 95: 0.6988314217903546, 5: -1.1609391264622466, 4: -1.6971501712540662, 3: -2.0895602410238325, 2: -2.3864525281666245, 1: -2.5252174625631874, 0: -2.8039296738771715}\n"
     ]
    }
   ],
   "source": [
    "import nibabel as nib\n",
    "import numpy as np\n",
    "\n",
    "def get_nifti_percentiles(file_path):\n",
    "    # Load the NIfTI file\n",
    "    nifti_data = nib.load(file_path).get_fdata()\n",
    "\n",
    "    # Define the percentiles to calculate\n",
    "    percentiles = [100, 99.9, 99.5, 99, 98, 97, 96, 95, 5, 4, 3, 2, 1, 0]\n",
    "\n",
    "    # Calculate the values at the specified percentiles\n",
    "    percentile_values = {p: np.percentile(nifti_data, p) for p in percentiles}\n",
    "\n",
    "    return percentile_values\n",
    "\n",
    "# Example usage:\n",
    "file_path = '/Users/cu135/Partners HealthCare Dropbox/Calvin Howard/resources/atlases/allen/ARC.nii'\n",
    "percentiles_dict = get_nifti_percentiles(file_path)\n",
    "print(percentiles_dict)\n"
   ]
  },
  {
   "cell_type": "code",
   "execution_count": 20,
   "metadata": {},
   "outputs": [],
   "source": []
  },
  {
   "cell_type": "markdown",
   "metadata": {},
   "source": [
    "Use on anything thats not an R value"
   ]
  },
  {
   "cell_type": "code",
   "execution_count": 28,
   "metadata": {},
   "outputs": [
    {
     "name": "stdout",
     "output_type": "stream",
     "text": [
      "{100: 0.8113035555302102, 99: 0.7181547457838351, 98: 0.6946666490666895, 97: 0.6750135210168018, 96: 0.6569422630538422, 95: 0.6399787490865789, 90: 0.5682947053060708, 10: -0.5427709179088763, 5: -0.6259582413562493, 4: -0.6422547858801099, 3: -0.6592356419731734, 2: -0.6798953667892103, 1: -0.7084443317431612, 0: -0.8037662407123898}\n"
     ]
    }
   ],
   "source": [
    "import nibabel as nib\n",
    "import numpy as np\n",
    "\n",
    "def get_nifti_percentiles_within_mask(nifti_file_path, mask_file_path):\n",
    "    # Load the NIfTI file\n",
    "    nifti_data = nib.load(nifti_file_path).get_fdata()\n",
    "    \n",
    "    # Load the mask file\n",
    "    mask_data = nib.load(mask_file_path).get_fdata()\n",
    "\n",
    "    # Ensure the mask is binary\n",
    "    mask_data = mask_data.astype(bool)\n",
    "    \n",
    "    # Extract data within the mask\n",
    "    masked_data = nifti_data[mask_data]\n",
    "        # # Check for non-finite values\n",
    "        \n",
    "    if not np.isfinite(masked_data).all():\n",
    "        masked_data = np.nan_to_num(masked_data, nan=0.0, posinf=0.0, neginf=0.0)\n",
    "        print(\"NIfTI data contains non-finite values.\")\n",
    "        \n",
    "    \n",
    "    # Define the percentiles to calculate\n",
    "    percentiles = [100, 99, 98, 97, 96, 95,90, 10, 5, 4, 3, 2, 1, 0]\n",
    "\n",
    "    # Calculate the values at the specified percentiles\n",
    "    percentile_values = {p: np.percentile(masked_data, p) for p in percentiles}\n",
    "\n",
    "    return percentile_values\n",
    "\n",
    "# Example usage:\n",
    "file_path = '/Users/cu135/Partners HealthCare Dropbox/Calvin Howard/resources/published_networks/niftis/Cognitive Decline Network.nii'\n",
    "mask_file_path = '/Users/cu135/hires_backdrops/MNI152_T1_2mm_brain_mask.nii'\n",
    "percentiles_dict_within_mask = get_nifti_percentiles_within_mask(file_path, mask_file_path)\n",
    "print(percentiles_dict_within_mask)\n"
   ]
  },
  {
   "cell_type": "markdown",
   "metadata": {},
   "source": [
    "Use on R maps"
   ]
  },
  {
   "cell_type": "code",
   "execution_count": null,
   "metadata": {},
   "outputs": [],
   "source": []
  }
 ],
 "metadata": {
  "kernelspec": {
   "display_name": "nimlab_py310",
   "language": "python",
   "name": "python3"
  },
  "language_info": {
   "codemirror_mode": {
    "name": "ipython",
    "version": 3
   },
   "file_extension": ".py",
   "mimetype": "text/x-python",
   "name": "python",
   "nbconvert_exporter": "python",
   "pygments_lexer": "ipython3",
   "version": "3.10.8"
  }
 },
 "nbformat": 4,
 "nbformat_minor": 2
}
