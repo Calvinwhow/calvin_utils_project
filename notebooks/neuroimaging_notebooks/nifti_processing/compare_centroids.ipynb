{
 "cells": [
  {
   "cell_type": "code",
   "execution_count": null,
   "id": "a8281d08",
   "metadata": {},
   "outputs": [],
   "source": [
    "path1 = ''\n",
    "path2 = ''"
   ]
  },
  {
   "cell_type": "code",
   "execution_count": null,
   "id": "e9c70bb7",
   "metadata": {},
   "outputs": [],
   "source": [
    "from calvin_utils.nifti_utils.compare_nifti_centroids import NiftiCentroidStats\n",
    "stats = NiftiCentroidStats(\n",
    "        grp1_glob=path1,\n",
    "        grp2_glob=path2,\n",
    "        multi_centroids=False,\n",
    "    )\n",
    "summary, ttest = stats.run()\n",
    "print(summary)\n",
    "print({k: {'t': v.statistic, 'p': v.pvalue} for k, v in ttest.items()})\n"
   ]
  }
 ],
 "metadata": {
  "language_info": {
   "name": "python"
  }
 },
 "nbformat": 4,
 "nbformat_minor": 5
}
