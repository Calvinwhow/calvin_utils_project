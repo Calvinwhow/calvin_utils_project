{
 "cells": [
  {
   "cell_type": "markdown",
   "metadata": {},
   "source": [
    "# Option A - Generate Sphere Manually"
   ]
  },
  {
   "cell_type": "code",
   "execution_count": 1,
   "metadata": {},
   "outputs": [],
   "source": [
    "out_dir = '/Volumes/OneTouch/datasets/VOSS_STUDIES_TMS/HEBSCHER_TMS/derivatives'\n",
    "mask_path = '/Users/cu135/hires_backdrops/MNI/MNI152_T1_2mm_brain_mask.nii'"
   ]
  },
  {
   "cell_type": "code",
   "execution_count": 3,
   "metadata": {},
   "outputs": [],
   "source": [
    "#Enter coordinates of sphere\n",
    "x = -30\n",
    "y = -51\n",
    "z = -9\n",
    "radius=5"
   ]
  },
  {
   "cell_type": "markdown",
   "metadata": {},
   "source": [
    "Generate the Sphere at The Coordinate"
   ]
  },
  {
   "cell_type": "code",
   "execution_count": null,
   "metadata": {},
   "outputs": [],
   "source": [
    "import nibabel as nib\n",
    "import numpy as np\n",
    "brain_img = nib.load(mask_path)\n",
    "mni_arr = np.array([x,y,z])"
   ]
  },
  {
   "cell_type": "code",
   "execution_count": null,
   "metadata": {},
   "outputs": [],
   "source": [
    "from calvin_utils.nifti_utils.generate_spherical_roi import calculate_voxelwise_mni_coords, calculate_pairwise_distance, generate_sphere_mask, points_within_sphere, save_mask, mask_within_brain\n",
    "mni_coords_brain = calculate_voxelwise_mni_coords(brain_img)\n",
    "distances = calculate_pairwise_distance(mni_arr, mni_coords_brain)\n",
    "points_in_sphere = points_within_sphere(distances, radius)\n",
    "sphere_mask = generate_sphere_mask(points_in_sphere, brain_img)\n",
    "sphere_mask = mask_within_brain(sphere_mask, brain_img)\n",
    "img = save_mask(sphere_mask, brain_img, mni_arr, out_dir)\n",
    "img"
   ]
  },
  {
   "cell_type": "markdown",
   "metadata": {},
   "source": []
  },
  {
   "cell_type": "code",
   "execution_count": null,
   "metadata": {},
   "outputs": [],
   "source": [
    "import nilearn\n",
    "nilearn.datasets.fetch_atlas_talairach('ba', data_dir='/Users/cu135/Partners HealthCare Dropbox/Calvin Howard/resources/talairach_spaces', verbose=1)"
   ]
  },
  {
   "cell_type": "markdown",
   "metadata": {},
   "source": [
    "# Option B - Generate Spheres from a CSV"
   ]
  },
  {
   "cell_type": "code",
   "execution_count": 1,
   "metadata": {},
   "outputs": [],
   "source": [
    "out_dir = '/Volumes/OneTouch/datasets/Kahana_Epilepsy_iEEG/derivatives_unclassified_stim'\n",
    "mask_path = '/Users/cu135/hires_backdrops/MNI/MNI152_T1_2mm_brain_mask.nii'"
   ]
  },
  {
   "cell_type": "code",
   "execution_count": 2,
   "metadata": {},
   "outputs": [],
   "source": [
    "# Specify the path to your CSV file containing NIFTI paths\n",
    "input_csv_path = '/Volumes/OneTouch/datasets/Kahana_Epilepsy_iEEG/metadata/Stim_Effect_Data_with_Session_Column.csv'\n",
    "sheet = None #'master_list_proper_subjects'"
   ]
  },
  {
   "cell_type": "code",
   "execution_count": null,
   "metadata": {},
   "outputs": [],
   "source": [
    "from calvin_utils.permutation_analysis_utils.statsmodels_palm import CalvinStatsmodelsPalm\n",
    "# Instantiate the PalmPrepararation class\n",
    "cal_palm = CalvinStatsmodelsPalm(input_csv_path=input_csv_path, output_dir=out_dir, sheet=sheet)\n",
    "# Call the process_nifti_paths method\n",
    "data_df = cal_palm.read_and_display_data()\n",
    "data_df"
   ]
  },
  {
   "cell_type": "markdown",
   "metadata": {},
   "source": [
    "\n",
    "# Preprocess Your Data"
   ]
  },
  {
   "cell_type": "markdown",
   "metadata": {},
   "source": [
    "**Handle NANs**\n",
    "- Set drop_nans=True is you would like to remove NaNs from data\n",
    "- Provide a column name or a list of column names to remove NaNs from"
   ]
  },
  {
   "cell_type": "code",
   "execution_count": null,
   "metadata": {},
   "outputs": [],
   "source": [
    "data_df.columns"
   ]
  },
  {
   "cell_type": "code",
   "execution_count": 5,
   "metadata": {},
   "outputs": [],
   "source": [
    "drop_list = ['Subject_ID', 'Cathode']"
   ]
  },
  {
   "cell_type": "code",
   "execution_count": 6,
   "metadata": {},
   "outputs": [],
   "source": [
    "data_df = cal_palm.drop_nans_from_columns(columns_to_drop_from=drop_list)"
   ]
  },
  {
   "cell_type": "markdown",
   "metadata": {},
   "source": [
    "Create x,y,z columns if not present"
   ]
  },
  {
   "cell_type": "code",
   "execution_count": 7,
   "metadata": {},
   "outputs": [],
   "source": [
    "coord_col = 'Cathode_Coords_MNI'"
   ]
  },
  {
   "cell_type": "code",
   "execution_count": null,
   "metadata": {},
   "outputs": [],
   "source": [
    "# import numpy as np \n",
    "# import pandas as pd\n",
    "# try:\n",
    "#     data_df[coord_col] = data_df[coord_col].str.replace(',', '', regex=False)\n",
    "#     data_df[coord_col] = data_df[coord_col].apply(lambda x: np.array(x.split(), dtype=float))\n",
    "# except:\n",
    "#     print('column already prepared')\n",
    "# data_df"
   ]
  },
  {
   "cell_type": "code",
   "execution_count": null,
   "metadata": {},
   "outputs": [],
   "source": [
    "# # Specify the column containing the coordinates\n",
    "# coord_col = 'Cathode_Coords_MNI'\n",
    "\n",
    "# # Split the column into x, y, z values while skipping invalid rows\n",
    "# def extract_coords(row):\n",
    "#     try:\n",
    "#         # Attempt to split and convert to floats\n",
    "#         coords = [float(value) for value in str(row).replace(',', ' ').split()]\n",
    "#         if len(coords) == 3:  # Ensure exactly 3 values\n",
    "#             return coords\n",
    "#     except ValueError:\n",
    "#         pass\n",
    "#     # Return None for invalid rows\n",
    "#     return [None, None, None]\n",
    "\n",
    "# # Apply the function and create the new columns\n",
    "# data_df[['x_mni_cathode', 'y_mni_cathode', 'z_mni_cathode']] = pd.DataFrame(\n",
    "#     data_df[coord_col].apply(extract_coords).tolist(),\n",
    "#     index=data_df.index\n",
    "# )\n",
    "\n",
    "# data_df"
   ]
  },
  {
   "cell_type": "markdown",
   "metadata": {},
   "source": [
    "Optional - Convert Coordinates to Different Space"
   ]
  },
  {
   "cell_type": "code",
   "execution_count": 8,
   "metadata": {},
   "outputs": [],
   "source": [
    "# # Perform the conversion\n",
    "# from calvin_utils.nifti_utils.convert_coordinates import convert_coordinates_in_df\n",
    "# df_converted = convert_coordinates_in_df(data_df, 'x_tal', 'y_tal', 'z_tal', 'talairach_to_mni')\n",
    "# display(df_converted)"
   ]
  },
  {
   "cell_type": "markdown",
   "metadata": {},
   "source": [
    "Save changes to CSV if needed"
   ]
  },
  {
   "cell_type": "code",
   "execution_count": 9,
   "metadata": {},
   "outputs": [],
   "source": [
    "# data_df.to_csv(input_csv_path.split('.csv')[0] + '_updated_coords.csv')"
   ]
  },
  {
   "cell_type": "markdown",
   "metadata": {},
   "source": [
    "Generate spheres given x, y, and z columns"
   ]
  },
  {
   "cell_type": "code",
   "execution_count": null,
   "metadata": {},
   "outputs": [],
   "source": [
    "data_df"
   ]
  },
  {
   "cell_type": "code",
   "execution_count": 11,
   "metadata": {},
   "outputs": [],
   "source": [
    "radius = 2\n",
    "xcol = 'x_mni_cathode'\n",
    "ycol = 'y_mni_cathode'\n",
    "zcol = 'z_mni_cathode'\n",
    "subject_col = 'Subject_ID'\n",
    "session_col = 'session'"
   ]
  },
  {
   "cell_type": "code",
   "execution_count": null,
   "metadata": {},
   "outputs": [],
   "source": [
    "from calvin_utils.nifti_utils.generate_spherical_roi import generate_spherical_rois_from_df\n",
    "generate_spherical_rois_from_df(data_df, xcol, ycol, zcol, subject_col, radius, mask_path, out_dir, session_col=session_col, project_on_to_brain=True)"
   ]
  },
  {
   "cell_type": "markdown",
   "metadata": {},
   "source": [
    "Done\n",
    "- Calvin"
   ]
  }
 ],
 "metadata": {
  "kernelspec": {
   "display_name": "nimlab_py310",
   "language": "python",
   "name": "python3"
  },
  "language_info": {
   "codemirror_mode": {
    "name": "ipython",
    "version": 3
   },
   "file_extension": ".py",
   "mimetype": "text/x-python",
   "name": "python",
   "nbconvert_exporter": "python",
   "pygments_lexer": "ipython3",
   "version": "3.10.16"
  },
  "orig_nbformat": 4
 },
 "nbformat": 4,
 "nbformat_minor": 2
}
