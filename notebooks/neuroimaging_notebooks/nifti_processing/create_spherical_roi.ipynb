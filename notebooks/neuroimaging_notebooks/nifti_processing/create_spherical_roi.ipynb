{
 "cells": [
  {
   "cell_type": "code",
   "execution_count": 65,
   "metadata": {},
   "outputs": [],
   "source": [
    "out_dir = r'/Users/cu135/Partners HealthCare Dropbox/Calvin Howard/studies/collaborations/Aphantasia_Kutsche/resources'"
   ]
  },
  {
   "cell_type": "code",
   "execution_count": null,
   "metadata": {},
   "outputs": [],
   "source": [
    "mask_path = '/Users/cu135/hires_backdrops/MNI/MNI152_T1_2mm_brain_mask.nii'"
   ]
  },
  {
   "cell_type": "code",
   "execution_count": 1,
   "metadata": {},
   "outputs": [],
   "source": [
    "#Enter coordinates of sphere\n",
    "x = -42\n",
    "y = -54\n",
    "z = 18\n",
    "radius=5"
   ]
  },
  {
   "cell_type": "markdown",
   "metadata": {},
   "source": [
    "# Option 1 - Custom"
   ]
  },
  {
   "cell_type": "markdown",
   "metadata": {},
   "source": [
    "Generate the Sphere at The Coordinate"
   ]
  },
  {
   "cell_type": "code",
   "execution_count": 37,
   "metadata": {},
   "outputs": [],
   "source": [
    "import os\n",
    "import numpy as np\n",
    "import nibabel as nib\n",
    "from nilearn import image, plotting\n",
    "\n",
    "def convert_ijk_to_mni(ijk, affine):\n",
    "    return affine @ np.append(ijk, 1)\n",
    "\n",
    "def convert_mni_to_ijk(mni, affine):\n",
    "    inv_affine = np.linalg.pinv(affine)\n",
    "    return inv_affine @ np.append(mni, 1)\n",
    "\n",
    "def calculate_voxelwise_mni_coords(brain_img):\n",
    "    brain_mask = brain_img.get_fdata()\n",
    "    ijk_mask = np.array(np.meshgrid(\n",
    "        np.arange(brain_mask.shape[0]),\n",
    "        np.arange(brain_mask.shape[1]),\n",
    "        np.arange(brain_mask.shape[2]),\n",
    "        indexing='ij'\n",
    "    ))                                                                                  #shape (3, i, j, k). An array stacking the ijk coords into 3 tensors\n",
    "    ijk_arr = ijk_mask.reshape(3,-1).T                                                  #shape (n, 3). An array with the ijk coords in sub-arrays. \n",
    "    ijk1 = np.zeros((ijk_arr.shape[0],4))                                               #shape (n,4)\n",
    "    ijk1[:,:3] = ijk_arr                                                                #shape (n,4). An array with the ijk coords in sub-arrays\n",
    "    ijk1[:, 3] = 1                                                                      #shape (n,4). Prepared for homologous transform\n",
    "    affine = brain_img.affine                                                           #shape (4,4). The affine matrix of the brain mask\n",
    "    mni_coords = np.dot(affine, ijk1.T).T[:, :3]                                        #shape (n,3). The MNI coordinates of each voxel\n",
    "    return mni_coords\n",
    "\n",
    "def calculate_pairwise_distance(mni_coords_point, mni_coords_brain):\n",
    "    dist_from_point = np.linalg.norm(mni_coords_brain - mni_coords_point, axis=1)       #shape (n,). The euclidean distance from the point to each voxel\n",
    "    return dist_from_point\n",
    "\n",
    "def points_within_sphere(distances, radius):\n",
    "    return distances <= radius\n",
    "\n",
    "def generate_sphere_mask(points, brain_img):\n",
    "    return np.reshape(points, brain_img.get_fdata().shape)\n",
    "\n",
    "def save_mask(mask, brain_img, mni_arr, out_path):\n",
    "    affine = brain_img.affine\n",
    "    mask_img = nib.Nifti1Image(mask, affine)\n",
    "    html_img = plotting.view_img(mask_img, cut_coords=(mni_arr[0],mni_arr[1],mni_arr[2]), black_bg=False, opacity=.75, cmap='ocean_hot')\n",
    "    mask_img.to_filename(os.path.join(out_path, 'sphere_roi'))\n"
   ]
  },
  {
   "cell_type": "code",
   "execution_count": null,
   "metadata": {},
   "outputs": [],
   "source": [
    "# Load the brain mask image\n",
    "brain_img = nib.load(mask_path)\n",
    "mni_coords_brain = calculate_voxelwise_mni_coords(brain_img)\n",
    "distances = calculate_pairwise_distance(np.array[x,y,z], mni_coords_brain)\n",
    "points_in_sphere = points_within_sphere(distances, radius)\n",
    "sphere_mask = generate_sphere_mask(points_in_sphere, brain_img)\n",
    "\n",
    "# Save the generated sphere mask\n",
    "save_mask(sphere_mask, brain_img, np.array[x,y,z], out_path=out_dir)"
   ]
  },
  {
   "cell_type": "markdown",
   "metadata": {},
   "source": [
    "Use NLTools"
   ]
  },
  {
   "cell_type": "code",
   "execution_count": 1,
   "metadata": {},
   "outputs": [
    {
     "ename": "ModuleNotFoundError",
     "evalue": "No module named 'nltools'",
     "output_type": "error",
     "traceback": [
      "\u001b[0;31m---------------------------------------------------------------------------\u001b[0m",
      "\u001b[0;31mModuleNotFoundError\u001b[0m                       Traceback (most recent call last)",
      "Cell \u001b[0;32mIn[1], line 1\u001b[0m\n\u001b[0;32m----> 1\u001b[0m \u001b[38;5;28;01mfrom\u001b[39;00m \u001b[38;5;21;01mnltools\u001b[39;00m\u001b[38;5;21;01m.\u001b[39;00m\u001b[38;5;21;01mmask\u001b[39;00m \u001b[38;5;28;01mimport\u001b[39;00m create_sphere\n\u001b[1;32m      2\u001b[0m \u001b[38;5;28;01mdef\u001b[39;00m \u001b[38;5;21mgen_sphere_roi\u001b[39m(xcoord, ycoord, zcoord, mask\u001b[38;5;241m=\u001b[39m\u001b[38;5;28;01mNone\u001b[39;00m, radius\u001b[38;5;241m=\u001b[39m\u001b[38;5;241m4\u001b[39m):\n\u001b[1;32m      3\u001b[0m     sphere_mask \u001b[38;5;241m=\u001b[39m create_sphere([xcoord, ycoord, zcoord], radius\u001b[38;5;241m=\u001b[39mradius, mask\u001b[38;5;241m=\u001b[39mmask)\n",
      "\u001b[0;31mModuleNotFoundError\u001b[0m: No module named 'nltools'"
     ]
    }
   ],
   "source": [
    "from nltools.mask import create_sphere\n",
    "def gen_sphere_roi(xcoord, ycoord, zcoord, mask=None, radius=4):\n",
    "    sphere_mask = create_sphere([xcoord, ycoord, zcoord], radius=radius, mask=mask)\n",
    "    return sphere_mask.get_fdata()\n"
   ]
  },
  {
   "cell_type": "code",
   "execution_count": null,
   "metadata": {},
   "outputs": [],
   "source": [
    "#Visualize\n",
    "import nibabel as nib\n",
    "from nilearn import image, plotting, maskers\n",
    "mask = nib.load('/Users/cu135/hires_backdrops/MNI/MNI152_T1_2mm_all_ones.nii.gz')\n",
    "\n",
    "sphere_roi = gen_sphere_roi(xcoord=x, ycoord=y, zcoord=z, mask=mask, radius=radius);\n",
    "ovr_img3 = image.new_img_like(mask, sphere_roi);\n",
    "ovr_html3 = plotting.view_img(ovr_img3, cut_coords=(0,0,0), black_bg=False, opacity=.75, cmap='ocean_hot');\n",
    "ovr_html3"
   ]
  },
  {
   "cell_type": "code",
   "execution_count": null,
   "metadata": {},
   "outputs": [],
   "source": [
    "#Save\n",
    "import os\n",
    "if os.path.isdir(out_dir)==False:\n",
    "    os.mkdir(out_dir)\n",
    "\n",
    "#Save\n",
    "ovr_img3.to_filename(os.path.join(out_dir, f'{analysis}'))\n",
    "ovr_html3.save_as_html(os.path.join(out_dir, f'{analysis}.html'))\n",
    "print('saved to: ', os.path.join(out_dir, f'{analysis}'))\n"
   ]
  },
  {
   "cell_type": "code",
   "execution_count": null,
   "metadata": {},
   "outputs": [],
   "source": []
  },
  {
   "cell_type": "code",
   "execution_count": null,
   "metadata": {},
   "outputs": [],
   "source": []
  },
  {
   "cell_type": "code",
   "execution_count": null,
   "metadata": {},
   "outputs": [],
   "source": []
  }
 ],
 "metadata": {
  "kernelspec": {
   "display_name": "nimlab_py310",
   "language": "python",
   "name": "python3"
  },
  "language_info": {
   "codemirror_mode": {
    "name": "ipython",
    "version": 3
   },
   "file_extension": ".py",
   "mimetype": "text/x-python",
   "name": "python",
   "nbconvert_exporter": "python",
   "pygments_lexer": "ipython3",
   "version": "3.10.8"
  },
  "orig_nbformat": 4
 },
 "nbformat": 4,
 "nbformat_minor": 2
}
