{
 "cells": [
  {
   "cell_type": "markdown",
   "metadata": {},
   "source": [
    "# Option B - Generate Spheres from a CSV"
   ]
  },
  {
   "cell_type": "code",
   "execution_count": 7,
   "metadata": {},
   "outputs": [],
   "source": [
    "out_dir = '/Volumes/OneTouch/datasets/ADVANCE_AD_DBS_FORNIX/derivatives/stim_sites'\n",
    "mask_path = None"
   ]
  },
  {
   "cell_type": "code",
   "execution_count": 10,
   "metadata": {},
   "outputs": [],
   "source": [
    "# Specify the path to your CSV file containing NIFTI paths\n",
    "input_csv_path = '/Volumes/OneTouch/datasets/ADVANCE_AD_DBS_FORNIX/metadata/stim_centroids.csv'\n",
    "sheet = None"
   ]
  },
  {
   "cell_type": "code",
   "execution_count": 14,
   "metadata": {},
   "outputs": [
    {
     "data": {
      "text/html": [
       "<div>\n",
       "<style scoped>\n",
       "    .dataframe tbody tr th:only-of-type {\n",
       "        vertical-align: middle;\n",
       "    }\n",
       "\n",
       "    .dataframe tbody tr th {\n",
       "        vertical-align: top;\n",
       "    }\n",
       "\n",
       "    .dataframe thead th {\n",
       "        text-align: right;\n",
       "    }\n",
       "</style>\n",
       "<table border=\"1\" class=\"dataframe\">\n",
       "  <thead>\n",
       "    <tr style=\"text-align: right;\">\n",
       "      <th></th>\n",
       "      <th>subject</th>\n",
       "      <th>coordinate</th>\n",
       "      <th>Subid</th>\n",
       "      <th>Session</th>\n",
       "    </tr>\n",
       "  </thead>\n",
       "  <tbody>\n",
       "    <tr>\n",
       "      <th>0</th>\n",
       "      <td>/Volumes/OneTouch/datasets/ADVANCE_AD_DBS_FORN...</td>\n",
       "      <td>[-2.9999997317790985, 2.682209014892578e-07, -...</td>\n",
       "      <td>135</td>\n",
       "      <td>left</td>\n",
       "    </tr>\n",
       "    <tr>\n",
       "      <th>1</th>\n",
       "      <td>/Volumes/OneTouch/datasets/ADVANCE_AD_DBS_FORN...</td>\n",
       "      <td>[0.4999999403953552, -5.000000566244125, -9.50...</td>\n",
       "      <td>104</td>\n",
       "      <td>left</td>\n",
       "    </tr>\n",
       "    <tr>\n",
       "      <th>2</th>\n",
       "      <td>/Volumes/OneTouch/datasets/ADVANCE_AD_DBS_FORN...</td>\n",
       "      <td>[-3.0000007450580597, -0.5000001490116119, -7....</td>\n",
       "      <td>103</td>\n",
       "      <td>left</td>\n",
       "    </tr>\n",
       "    <tr>\n",
       "      <th>3</th>\n",
       "      <td>/Volumes/OneTouch/datasets/ADVANCE_AD_DBS_FORN...</td>\n",
       "      <td>[-9.999999642372131, -0.5000002384185791, -10....</td>\n",
       "      <td>1201</td>\n",
       "      <td>left</td>\n",
       "    </tr>\n",
       "    <tr>\n",
       "      <th>4</th>\n",
       "      <td>/Volumes/OneTouch/datasets/ADVANCE_AD_DBS_FORN...</td>\n",
       "      <td>[-4.499999225139618, 2.0000002682209015, -1.99...</td>\n",
       "      <td>150</td>\n",
       "      <td>left</td>\n",
       "    </tr>\n",
       "    <tr>\n",
       "      <th>...</th>\n",
       "      <td>...</td>\n",
       "      <td>...</td>\n",
       "      <td>...</td>\n",
       "      <td>...</td>\n",
       "    </tr>\n",
       "    <tr>\n",
       "      <th>95</th>\n",
       "      <td>/Volumes/OneTouch/datasets/ADVANCE_AD_DBS_FORN...</td>\n",
       "      <td>[1.9999993443489075, -3.4999991357326508, -9.4...</td>\n",
       "      <td>114</td>\n",
       "      <td>right</td>\n",
       "    </tr>\n",
       "    <tr>\n",
       "      <th>96</th>\n",
       "      <td>/Volumes/OneTouch/datasets/ADVANCE_AD_DBS_FORN...</td>\n",
       "      <td>[3.500000774860382, -2.9999996423721313, -8.49...</td>\n",
       "      <td>113</td>\n",
       "      <td>right</td>\n",
       "    </tr>\n",
       "    <tr>\n",
       "      <th>97</th>\n",
       "      <td>/Volumes/OneTouch/datasets/ADVANCE_AD_DBS_FORN...</td>\n",
       "      <td>[1.9999993443489075, 1.4999988377094269, -2.99...</td>\n",
       "      <td>147</td>\n",
       "      <td>right</td>\n",
       "    </tr>\n",
       "    <tr>\n",
       "      <th>98</th>\n",
       "      <td>/Volumes/OneTouch/datasets/ADVANCE_AD_DBS_FORN...</td>\n",
       "      <td>[6.0000002682209015, 1.500000774860382, -3.500...</td>\n",
       "      <td>140</td>\n",
       "      <td>right</td>\n",
       "    </tr>\n",
       "    <tr>\n",
       "      <th>99</th>\n",
       "      <td>/Volumes/OneTouch/datasets/ADVANCE_AD_DBS_FORN...</td>\n",
       "      <td>[2.499999761581421, 2.682209014892578e-07, -2....</td>\n",
       "      <td>149</td>\n",
       "      <td>right</td>\n",
       "    </tr>\n",
       "  </tbody>\n",
       "</table>\n",
       "<p>100 rows × 4 columns</p>\n",
       "</div>"
      ],
      "text/plain": [
       "                                              subject  \\\n",
       "0   /Volumes/OneTouch/datasets/ADVANCE_AD_DBS_FORN...   \n",
       "1   /Volumes/OneTouch/datasets/ADVANCE_AD_DBS_FORN...   \n",
       "2   /Volumes/OneTouch/datasets/ADVANCE_AD_DBS_FORN...   \n",
       "3   /Volumes/OneTouch/datasets/ADVANCE_AD_DBS_FORN...   \n",
       "4   /Volumes/OneTouch/datasets/ADVANCE_AD_DBS_FORN...   \n",
       "..                                                ...   \n",
       "95  /Volumes/OneTouch/datasets/ADVANCE_AD_DBS_FORN...   \n",
       "96  /Volumes/OneTouch/datasets/ADVANCE_AD_DBS_FORN...   \n",
       "97  /Volumes/OneTouch/datasets/ADVANCE_AD_DBS_FORN...   \n",
       "98  /Volumes/OneTouch/datasets/ADVANCE_AD_DBS_FORN...   \n",
       "99  /Volumes/OneTouch/datasets/ADVANCE_AD_DBS_FORN...   \n",
       "\n",
       "                                           coordinate  Subid Session  \n",
       "0   [-2.9999997317790985, 2.682209014892578e-07, -...    135    left  \n",
       "1   [0.4999999403953552, -5.000000566244125, -9.50...    104    left  \n",
       "2   [-3.0000007450580597, -0.5000001490116119, -7....    103    left  \n",
       "3   [-9.999999642372131, -0.5000002384185791, -10....   1201    left  \n",
       "4   [-4.499999225139618, 2.0000002682209015, -1.99...    150    left  \n",
       "..                                                ...    ...     ...  \n",
       "95  [1.9999993443489075, -3.4999991357326508, -9.4...    114   right  \n",
       "96  [3.500000774860382, -2.9999996423721313, -8.49...    113   right  \n",
       "97  [1.9999993443489075, 1.4999988377094269, -2.99...    147   right  \n",
       "98  [6.0000002682209015, 1.500000774860382, -3.500...    140   right  \n",
       "99  [2.499999761581421, 2.682209014892578e-07, -2....    149   right  \n",
       "\n",
       "[100 rows x 4 columns]"
      ]
     },
     "execution_count": 14,
     "metadata": {},
     "output_type": "execute_result"
    }
   ],
   "source": [
    "from calvin_utils.permutation_analysis_utils.statsmodels_palm import CalvinStatsmodelsPalm\n",
    "# Instantiate the PalmPrepararation class\n",
    "cal_palm = CalvinStatsmodelsPalm(input_csv_path=input_csv_path, output_dir=out_dir, sheet=sheet)\n",
    "# Call the process_nifti_paths method\n",
    "data_df = cal_palm.read_and_display_data()\n",
    "data_df"
   ]
  },
  {
   "cell_type": "markdown",
   "metadata": {},
   "source": [
    "\n",
    "# Preprocess Your Data"
   ]
  },
  {
   "cell_type": "markdown",
   "metadata": {},
   "source": [
    "**Handle NANs**\n",
    "- Set drop_nans=True is you would like to remove NaNs from data\n",
    "- Provide a column name or a list of column names to remove NaNs from"
   ]
  },
  {
   "cell_type": "code",
   "execution_count": 15,
   "metadata": {},
   "outputs": [
    {
     "data": {
      "text/plain": [
       "Index(['subject', 'coordinate', 'Subid', 'Session'], dtype='object')"
      ]
     },
     "execution_count": 15,
     "metadata": {},
     "output_type": "execute_result"
    }
   ],
   "source": [
    "data_df.columns"
   ]
  },
  {
   "cell_type": "code",
   "execution_count": 16,
   "metadata": {},
   "outputs": [],
   "source": [
    "coordinate_col = ['coordinate']"
   ]
  },
  {
   "cell_type": "code",
   "execution_count": 17,
   "metadata": {},
   "outputs": [],
   "source": [
    "data_df = cal_palm.drop_nans_from_columns(columns_to_drop_from=coordinate_col)"
   ]
  },
  {
   "cell_type": "markdown",
   "metadata": {},
   "source": [
    "Choose a radius (mm)"
   ]
  },
  {
   "cell_type": "code",
   "execution_count": 26,
   "metadata": {},
   "outputs": [],
   "source": [
    "radius = 1.5"
   ]
  },
  {
   "cell_type": "code",
   "execution_count": 27,
   "metadata": {},
   "outputs": [
    {
     "data": {
      "text/plain": [
       "Index(['subject', 'coordinate', 'Subid', 'Session', 'roi_path'], dtype='object')"
      ]
     },
     "execution_count": 27,
     "metadata": {},
     "output_type": "execute_result"
    }
   ],
   "source": [
    "data_df.columns"
   ]
  },
  {
   "cell_type": "code",
   "execution_count": 28,
   "metadata": {},
   "outputs": [],
   "source": [
    "# import pandas as pd\n",
    "# data_df = pd.concat([data_df.head(14), data_df.tail(14)], ignore_index=True)"
   ]
  },
  {
   "cell_type": "markdown",
   "metadata": {},
   "source": [
    "A) Generate Spheres from a column that contains coordinates in lists. Ex) coord col: [x,y,z], [x,y,z]"
   ]
  },
  {
   "cell_type": "code",
   "execution_count": 29,
   "metadata": {},
   "outputs": [
    {
     "data": {
      "text/html": [
       "<div>\n",
       "<style scoped>\n",
       "    .dataframe tbody tr th:only-of-type {\n",
       "        vertical-align: middle;\n",
       "    }\n",
       "\n",
       "    .dataframe tbody tr th {\n",
       "        vertical-align: top;\n",
       "    }\n",
       "\n",
       "    .dataframe thead th {\n",
       "        text-align: right;\n",
       "    }\n",
       "</style>\n",
       "<table border=\"1\" class=\"dataframe\">\n",
       "  <thead>\n",
       "    <tr style=\"text-align: right;\">\n",
       "      <th></th>\n",
       "      <th>subject</th>\n",
       "      <th>coordinate</th>\n",
       "      <th>Subid</th>\n",
       "      <th>Session</th>\n",
       "      <th>roi_path</th>\n",
       "    </tr>\n",
       "  </thead>\n",
       "  <tbody>\n",
       "    <tr>\n",
       "      <th>0</th>\n",
       "      <td>/Volumes/OneTouch/datasets/ADVANCE_AD_DBS_FORN...</td>\n",
       "      <td>[-2.9999997317790985, 2.682209014892578e-07, -...</td>\n",
       "      <td>135</td>\n",
       "      <td>left</td>\n",
       "      <td>/Volumes/OneTouch/datasets/ADVANCE_AD_DBS_FORN...</td>\n",
       "    </tr>\n",
       "    <tr>\n",
       "      <th>1</th>\n",
       "      <td>/Volumes/OneTouch/datasets/ADVANCE_AD_DBS_FORN...</td>\n",
       "      <td>[0.4999999403953552, -5.000000566244125, -9.50...</td>\n",
       "      <td>104</td>\n",
       "      <td>left</td>\n",
       "      <td>/Volumes/OneTouch/datasets/ADVANCE_AD_DBS_FORN...</td>\n",
       "    </tr>\n",
       "    <tr>\n",
       "      <th>2</th>\n",
       "      <td>/Volumes/OneTouch/datasets/ADVANCE_AD_DBS_FORN...</td>\n",
       "      <td>[-3.0000007450580597, -0.5000001490116119, -7....</td>\n",
       "      <td>103</td>\n",
       "      <td>left</td>\n",
       "      <td>/Volumes/OneTouch/datasets/ADVANCE_AD_DBS_FORN...</td>\n",
       "    </tr>\n",
       "    <tr>\n",
       "      <th>3</th>\n",
       "      <td>/Volumes/OneTouch/datasets/ADVANCE_AD_DBS_FORN...</td>\n",
       "      <td>[-9.999999642372131, -0.5000002384185791, -10....</td>\n",
       "      <td>1201</td>\n",
       "      <td>left</td>\n",
       "      <td>/Volumes/OneTouch/datasets/ADVANCE_AD_DBS_FORN...</td>\n",
       "    </tr>\n",
       "    <tr>\n",
       "      <th>4</th>\n",
       "      <td>/Volumes/OneTouch/datasets/ADVANCE_AD_DBS_FORN...</td>\n",
       "      <td>[-4.499999225139618, 2.0000002682209015, -1.99...</td>\n",
       "      <td>150</td>\n",
       "      <td>left</td>\n",
       "      <td>/Volumes/OneTouch/datasets/ADVANCE_AD_DBS_FORN...</td>\n",
       "    </tr>\n",
       "    <tr>\n",
       "      <th>...</th>\n",
       "      <td>...</td>\n",
       "      <td>...</td>\n",
       "      <td>...</td>\n",
       "      <td>...</td>\n",
       "      <td>...</td>\n",
       "    </tr>\n",
       "    <tr>\n",
       "      <th>95</th>\n",
       "      <td>/Volumes/OneTouch/datasets/ADVANCE_AD_DBS_FORN...</td>\n",
       "      <td>[1.9999993443489075, -3.4999991357326508, -9.4...</td>\n",
       "      <td>114</td>\n",
       "      <td>right</td>\n",
       "      <td>/Volumes/OneTouch/datasets/ADVANCE_AD_DBS_FORN...</td>\n",
       "    </tr>\n",
       "    <tr>\n",
       "      <th>96</th>\n",
       "      <td>/Volumes/OneTouch/datasets/ADVANCE_AD_DBS_FORN...</td>\n",
       "      <td>[3.500000774860382, -2.9999996423721313, -8.49...</td>\n",
       "      <td>113</td>\n",
       "      <td>right</td>\n",
       "      <td>/Volumes/OneTouch/datasets/ADVANCE_AD_DBS_FORN...</td>\n",
       "    </tr>\n",
       "    <tr>\n",
       "      <th>97</th>\n",
       "      <td>/Volumes/OneTouch/datasets/ADVANCE_AD_DBS_FORN...</td>\n",
       "      <td>[1.9999993443489075, 1.4999988377094269, -2.99...</td>\n",
       "      <td>147</td>\n",
       "      <td>right</td>\n",
       "      <td>/Volumes/OneTouch/datasets/ADVANCE_AD_DBS_FORN...</td>\n",
       "    </tr>\n",
       "    <tr>\n",
       "      <th>98</th>\n",
       "      <td>/Volumes/OneTouch/datasets/ADVANCE_AD_DBS_FORN...</td>\n",
       "      <td>[6.0000002682209015, 1.500000774860382, -3.500...</td>\n",
       "      <td>140</td>\n",
       "      <td>right</td>\n",
       "      <td>/Volumes/OneTouch/datasets/ADVANCE_AD_DBS_FORN...</td>\n",
       "    </tr>\n",
       "    <tr>\n",
       "      <th>99</th>\n",
       "      <td>/Volumes/OneTouch/datasets/ADVANCE_AD_DBS_FORN...</td>\n",
       "      <td>[2.499999761581421, 2.682209014892578e-07, -2....</td>\n",
       "      <td>149</td>\n",
       "      <td>right</td>\n",
       "      <td>/Volumes/OneTouch/datasets/ADVANCE_AD_DBS_FORN...</td>\n",
       "    </tr>\n",
       "  </tbody>\n",
       "</table>\n",
       "<p>100 rows × 5 columns</p>\n",
       "</div>"
      ],
      "text/plain": [
       "                                              subject  \\\n",
       "0   /Volumes/OneTouch/datasets/ADVANCE_AD_DBS_FORN...   \n",
       "1   /Volumes/OneTouch/datasets/ADVANCE_AD_DBS_FORN...   \n",
       "2   /Volumes/OneTouch/datasets/ADVANCE_AD_DBS_FORN...   \n",
       "3   /Volumes/OneTouch/datasets/ADVANCE_AD_DBS_FORN...   \n",
       "4   /Volumes/OneTouch/datasets/ADVANCE_AD_DBS_FORN...   \n",
       "..                                                ...   \n",
       "95  /Volumes/OneTouch/datasets/ADVANCE_AD_DBS_FORN...   \n",
       "96  /Volumes/OneTouch/datasets/ADVANCE_AD_DBS_FORN...   \n",
       "97  /Volumes/OneTouch/datasets/ADVANCE_AD_DBS_FORN...   \n",
       "98  /Volumes/OneTouch/datasets/ADVANCE_AD_DBS_FORN...   \n",
       "99  /Volumes/OneTouch/datasets/ADVANCE_AD_DBS_FORN...   \n",
       "\n",
       "                                           coordinate  Subid Session  \\\n",
       "0   [-2.9999997317790985, 2.682209014892578e-07, -...    135    left   \n",
       "1   [0.4999999403953552, -5.000000566244125, -9.50...    104    left   \n",
       "2   [-3.0000007450580597, -0.5000001490116119, -7....    103    left   \n",
       "3   [-9.999999642372131, -0.5000002384185791, -10....   1201    left   \n",
       "4   [-4.499999225139618, 2.0000002682209015, -1.99...    150    left   \n",
       "..                                                ...    ...     ...   \n",
       "95  [1.9999993443489075, -3.4999991357326508, -9.4...    114   right   \n",
       "96  [3.500000774860382, -2.9999996423721313, -8.49...    113   right   \n",
       "97  [1.9999993443489075, 1.4999988377094269, -2.99...    147   right   \n",
       "98  [6.0000002682209015, 1.500000774860382, -3.500...    140   right   \n",
       "99  [2.499999761581421, 2.682209014892578e-07, -2....    149   right   \n",
       "\n",
       "                                             roi_path  \n",
       "0   /Volumes/OneTouch/datasets/ADVANCE_AD_DBS_FORN...  \n",
       "1   /Volumes/OneTouch/datasets/ADVANCE_AD_DBS_FORN...  \n",
       "2   /Volumes/OneTouch/datasets/ADVANCE_AD_DBS_FORN...  \n",
       "3   /Volumes/OneTouch/datasets/ADVANCE_AD_DBS_FORN...  \n",
       "4   /Volumes/OneTouch/datasets/ADVANCE_AD_DBS_FORN...  \n",
       "..                                                ...  \n",
       "95  /Volumes/OneTouch/datasets/ADVANCE_AD_DBS_FORN...  \n",
       "96  /Volumes/OneTouch/datasets/ADVANCE_AD_DBS_FORN...  \n",
       "97  /Volumes/OneTouch/datasets/ADVANCE_AD_DBS_FORN...  \n",
       "98  /Volumes/OneTouch/datasets/ADVANCE_AD_DBS_FORN...  \n",
       "99  /Volumes/OneTouch/datasets/ADVANCE_AD_DBS_FORN...  \n",
       "\n",
       "[100 rows x 5 columns]"
      ]
     },
     "execution_count": 29,
     "metadata": {},
     "output_type": "execute_result"
    }
   ],
   "source": [
    "from calvin_utils.nifti_utils.generate_spherical_roi import SphereROIBuilder\n",
    "roi_builder = SphereROIBuilder(mask_path=mask_path, out_dir=out_dir, radius=radius)\n",
    "df = roi_builder.generate_from_coordlist_column(df=data_df, coord_col='coordinate', sub_col='Subid', session_col='Session', project_on_brain=True, save_individual_roi=False)\n",
    "df"
   ]
  },
  {
   "cell_type": "markdown",
   "metadata": {},
   "source": [
    "B) Generate Spheres from several columns that have X, Y, and Z in them. Ex) x_col: x | y_col: y | z_col: z"
   ]
  },
  {
   "cell_type": "code",
   "execution_count": null,
   "metadata": {},
   "outputs": [],
   "source": [
    "out_dir"
   ]
  },
  {
   "cell_type": "code",
   "execution_count": null,
   "metadata": {},
   "outputs": [],
   "source": [
    "radius = 2"
   ]
  },
  {
   "cell_type": "code",
   "execution_count": null,
   "metadata": {},
   "outputs": [],
   "source": [
    "from calvin_utils.nifti_utils.generate_spherical_roi import SphereROIBuilder\n",
    "roi_builder = SphereROIBuilder(mask_path=None, out_dir=out_dir, radius=radius)\n",
    "df = roi_builder.generate_from_separate_coord_cols(data_df, x_col='x_mni', y_col='y_mni', z_col='z_mni', sub_col='SUBJECT', session_col=None, project_on_brain=True)\n",
    "df"
   ]
  },
  {
   "cell_type": "markdown",
   "metadata": {},
   "source": [
    "Save new DF with file paths"
   ]
  },
  {
   "cell_type": "code",
   "execution_count": null,
   "metadata": {},
   "outputs": [],
   "source": [
    "df.to_csv(input_csv_path, index=False)"
   ]
  },
  {
   "cell_type": "markdown",
   "metadata": {},
   "source": [
    "# Option B - Generate Sphere Manually"
   ]
  },
  {
   "cell_type": "code",
   "execution_count": null,
   "metadata": {},
   "outputs": [],
   "source": [
    "out_dir = '/Users/cu135/Partners HealthCare Dropbox/Calvin Howard/studies/cognition_2023/revisions/notebook06/ongoing_ungodly_amount_of_edits'\n",
    "mask_path = '/Users/cu135/hires_backdrops/MNI/MNI152_T1_2mm_brain_mask.nii'"
   ]
  },
  {
   "cell_type": "markdown",
   "metadata": {},
   "source": [
    "Enter coordinates of sphere"
   ]
  },
  {
   "cell_type": "code",
   "execution_count": null,
   "metadata": {},
   "outputs": [],
   "source": [
    "x = -7\n",
    "y = -46\n",
    "z = 10\n",
    "radius=8"
   ]
  },
  {
   "cell_type": "markdown",
   "metadata": {},
   "source": [
    "Generate the Sphere at The Coordinate"
   ]
  },
  {
   "cell_type": "code",
   "execution_count": null,
   "metadata": {},
   "outputs": [],
   "source": [
    "import nibabel as nib\n",
    "import numpy as np\n",
    "brain_img = nib.load(mask_path)\n",
    "mni_arr = np.array([x,y,z])"
   ]
  },
  {
   "cell_type": "code",
   "execution_count": null,
   "metadata": {},
   "outputs": [],
   "source": [
    "from calvin_utils.nifti_utils.generate_spherical_roi import SphereROIBuilder\n",
    "\n",
    "SROI = SphereROIBuilder(mask_path=mask_path, out_dir=out_dir, radius=radius)\n",
    "img = SROI.generate_from_single_coord(centre_xyz=[x,y,z],subject='sphere_boi', session=None, project_on_brain=True, suffix='')\n",
    "img"
   ]
  },
  {
   "cell_type": "markdown",
   "metadata": {},
   "source": [
    "Done\n",
    "- Calvin"
   ]
  }
 ],
 "metadata": {
  "kernelspec": {
   "display_name": "Python_3.7.7_nimlab",
   "language": "python",
   "name": "python3"
  },
  "language_info": {
   "codemirror_mode": {
    "name": "ipython",
    "version": 3
   },
   "file_extension": ".py",
   "mimetype": "text/x-python",
   "name": "python",
   "nbconvert_exporter": "python",
   "pygments_lexer": "ipython3",
   "version": "3.11.12"
  },
  "orig_nbformat": 4
 },
 "nbformat": 4,
 "nbformat_minor": 2
}
