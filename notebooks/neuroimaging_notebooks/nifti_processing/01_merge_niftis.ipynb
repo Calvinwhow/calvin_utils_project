{
 "cells": [
  {
   "cell_type": "markdown",
   "id": "8c167826",
   "metadata": {},
   "source": [
    "Merge Identified Niftis"
   ]
  },
  {
   "cell_type": "code",
   "execution_count": null,
   "id": "39e0dd97",
   "metadata": {},
   "outputs": [],
   "source": [
    "path = '/Users/cu135/Partners HealthCare Dropbox/Calvin Howard/resources/datasets/HORISAWA_DYSKINESIA_FOREL/ff_lesions_higher_res/flipped_sub-*-lesion_mask_added.nii.gz'\n",
    "out_path = '/Users/cu135/Partners HealthCare Dropbox/Calvin Howard/resources/datasets/HORISAWA_DYSKINESIA_FOREL/results'"
   ]
  },
  {
   "cell_type": "code",
   "execution_count": null,
   "id": "3ca4d2d2",
   "metadata": {},
   "outputs": [],
   "source": [
    "from calvin_utils.ccm_utils.bounding_box import NiftiBoundingBox\n",
    "from glob import glob\n",
    "bbox = NiftiBoundingBox(glob(path))\n",
    "bbox.run(out_path)"
   ]
  },
  {
   "cell_type": "markdown",
   "id": "7e7145b6",
   "metadata": {},
   "source": [
    "Add and Save all Pairs in Folder"
   ]
  },
  {
   "cell_type": "code",
   "execution_count": 2,
   "id": "c0ff917c",
   "metadata": {},
   "outputs": [],
   "source": [
    "folder = '/Users/cu135/Partners HealthCare Dropbox/Calvin Howard/resources/datasets/HORISAWA_DYSKINESIA_FOREL/ff_lesions_higher_res'"
   ]
  },
  {
   "cell_type": "code",
   "execution_count": null,
   "id": "82817160",
   "metadata": {},
   "outputs": [
    {
     "name": "stdout",
     "output_type": "stream",
     "text": [
      "Saved: /Users/cu135/Partners HealthCare Dropbox/Calvin Howard/resources/datasets/HORISAWA_DYSKINESIA_FOREL/ff_lesions_higher_res/flipped_sub-01_desc-lesion_mask_added.nii.gz\n",
      "Saved: /Users/cu135/Partners HealthCare Dropbox/Calvin Howard/resources/datasets/HORISAWA_DYSKINESIA_FOREL/ff_lesions_higher_res/flipped_sub-02_desc-lesion_mask_added.nii.gz\n",
      "Saved: /Users/cu135/Partners HealthCare Dropbox/Calvin Howard/resources/datasets/HORISAWA_DYSKINESIA_FOREL/ff_lesions_higher_res/flipped_sub-03_desc-lesion_mask_added.nii.gz\n",
      "Saved: /Users/cu135/Partners HealthCare Dropbox/Calvin Howard/resources/datasets/HORISAWA_DYSKINESIA_FOREL/ff_lesions_higher_res/flipped_sub-04_desc-lesion_mask_added.nii.gz\n",
      "Saved: /Users/cu135/Partners HealthCare Dropbox/Calvin Howard/resources/datasets/HORISAWA_DYSKINESIA_FOREL/ff_lesions_higher_res/flipped_sub-05_desc-lesion_mask_added.nii.gz\n",
      "Saved: /Users/cu135/Partners HealthCare Dropbox/Calvin Howard/resources/datasets/HORISAWA_DYSKINESIA_FOREL/ff_lesions_higher_res/flipped_sub-06_desc-lesion_mask_added.nii.gz\n",
      "Saved: /Users/cu135/Partners HealthCare Dropbox/Calvin Howard/resources/datasets/HORISAWA_DYSKINESIA_FOREL/ff_lesions_higher_res/flipped_sub-07_desc-lesion_mask_added.nii.gz\n",
      "Saved: /Users/cu135/Partners HealthCare Dropbox/Calvin Howard/resources/datasets/HORISAWA_DYSKINESIA_FOREL/ff_lesions_higher_res/flipped_sub-08_desc-lesion_mask_added.nii.gz\n",
      "Saved: /Users/cu135/Partners HealthCare Dropbox/Calvin Howard/resources/datasets/HORISAWA_DYSKINESIA_FOREL/ff_lesions_higher_res/flipped_sub-09_desc-lesion_mask_added.nii.gz\n",
      "Saved: /Users/cu135/Partners HealthCare Dropbox/Calvin Howard/resources/datasets/HORISAWA_DYSKINESIA_FOREL/ff_lesions_higher_res/flipped_sub-10_desc-lesion_mask_added.nii.gz\n",
      "Saved: /Users/cu135/Partners HealthCare Dropbox/Calvin Howard/resources/datasets/HORISAWA_DYSKINESIA_FOREL/ff_lesions_higher_res/flipped_sub-11_desc-lesion_mask_added.nii.gz\n",
      "Saved: /Users/cu135/Partners HealthCare Dropbox/Calvin Howard/resources/datasets/HORISAWA_DYSKINESIA_FOREL/ff_lesions_higher_res/flipped_sub-12_desc-lesion_mask_added.nii.gz\n",
      "Saved: /Users/cu135/Partners HealthCare Dropbox/Calvin Howard/resources/datasets/HORISAWA_DYSKINESIA_FOREL/ff_lesions_higher_res/flipped_sub-13_desc-lesion_mask_added.nii.gz\n",
      "Saved: /Users/cu135/Partners HealthCare Dropbox/Calvin Howard/resources/datasets/HORISAWA_DYSKINESIA_FOREL/ff_lesions_higher_res/flipped_sub-14_desc-lesion_mask_added.nii.gz\n",
      "Saved: /Users/cu135/Partners HealthCare Dropbox/Calvin Howard/resources/datasets/HORISAWA_DYSKINESIA_FOREL/ff_lesions_higher_res/flipped_sub-15_desc-lesion_mask_added.nii.gz\n",
      "Saved: /Users/cu135/Partners HealthCare Dropbox/Calvin Howard/resources/datasets/HORISAWA_DYSKINESIA_FOREL/ff_lesions_higher_res/flipped_sub-16_desc-lesion_mask_added.nii.gz\n",
      "Saved: /Users/cu135/Partners HealthCare Dropbox/Calvin Howard/resources/datasets/HORISAWA_DYSKINESIA_FOREL/ff_lesions_higher_res/flipped_sub-17_desc-lesion_mask_added.nii.gz\n",
      "Saved: /Users/cu135/Partners HealthCare Dropbox/Calvin Howard/resources/datasets/HORISAWA_DYSKINESIA_FOREL/ff_lesions_higher_res/flipped_sub-18_desc-lesion_mask_added.nii.gz\n",
      "Saved: /Users/cu135/Partners HealthCare Dropbox/Calvin Howard/resources/datasets/HORISAWA_DYSKINESIA_FOREL/ff_lesions_higher_res/flipped_sub-19_desc-lesion_mask_added.nii.gz\n",
      "Saved: /Users/cu135/Partners HealthCare Dropbox/Calvin Howard/resources/datasets/HORISAWA_DYSKINESIA_FOREL/ff_lesions_higher_res/flipped_sub-20_desc-lesion_mask_added.nii.gz\n",
      "Saved: /Users/cu135/Partners HealthCare Dropbox/Calvin Howard/resources/datasets/HORISAWA_DYSKINESIA_FOREL/ff_lesions_higher_res/flipped_sub-21_desc-lesion_mask_added.nii.gz\n",
      "Saved: /Users/cu135/Partners HealthCare Dropbox/Calvin Howard/resources/datasets/HORISAWA_DYSKINESIA_FOREL/ff_lesions_higher_res/flipped_sub-22_desc-lesion_mask_added.nii.gz\n",
      "Saved: /Users/cu135/Partners HealthCare Dropbox/Calvin Howard/resources/datasets/HORISAWA_DYSKINESIA_FOREL/ff_lesions_higher_res/flipped_sub-23_desc-lesion_mask_added.nii.gz\n",
      "Saved: /Users/cu135/Partners HealthCare Dropbox/Calvin Howard/resources/datasets/HORISAWA_DYSKINESIA_FOREL/ff_lesions_higher_res/flipped_sub-24_desc-lesion_mask_added.nii.gz\n",
      "Saved: /Users/cu135/Partners HealthCare Dropbox/Calvin Howard/resources/datasets/HORISAWA_DYSKINESIA_FOREL/ff_lesions_higher_res/flipped_sub-25_desc-lesion_mask_added.nii.gz\n",
      "Saved: /Users/cu135/Partners HealthCare Dropbox/Calvin Howard/resources/datasets/HORISAWA_DYSKINESIA_FOREL/ff_lesions_higher_res/flipped_sub-26_desc-lesion_mask_added.nii.gz\n"
     ]
    }
   ],
   "source": [
    "from calvin_utils.nifti_utils.add_niftis import NiftiAdder\n",
    "pairs = NiftiAdder.find_pairs(directory=folder)\n",
    "NiftiAdder.add_and_save_pairs(pairs=pairs, out_dir=folder, suffix='_added')"
   ]
  },
  {
   "cell_type": "markdown",
   "id": "ffe423de",
   "metadata": {},
   "source": [
    "Add and Save Predefined Pairs"
   ]
  }
 ],
 "metadata": {
  "kernelspec": {
   "display_name": "Python_3.7.7_nimlab",
   "language": "python",
   "name": "python3"
  },
  "language_info": {
   "codemirror_mode": {
    "name": "ipython",
    "version": 3
   },
   "file_extension": ".py",
   "mimetype": "text/x-python",
   "name": "python",
   "nbconvert_exporter": "python",
   "pygments_lexer": "ipython3",
   "version": "3.11.10"
  }
 },
 "nbformat": 4,
 "nbformat_minor": 5
}
