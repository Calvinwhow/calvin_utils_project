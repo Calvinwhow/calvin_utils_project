{
 "cells": [
  {
   "cell_type": "markdown",
   "id": "8c167826",
   "metadata": {},
   "source": [
    "Merge Identified Niftis"
   ]
  },
  {
   "cell_type": "code",
   "execution_count": null,
   "id": "80f4d0f4",
   "metadata": {},
   "outputs": [],
   "source": [
    "out_dir = '/Volumes/Expansion/atlases/nifti_atlases/memory/circuit_of_papez'"
   ]
  },
  {
   "cell_type": "markdown",
   "id": "01deb0fd",
   "metadata": {},
   "source": [
    "Identify from CSV"
   ]
  },
  {
   "cell_type": "code",
   "execution_count": null,
   "id": "baff79d7",
   "metadata": {},
   "outputs": [],
   "source": [
    "input_csv_path = '/Users/cu135/Partners HealthCare Dropbox/Calvin Howard/resources/datasets/TMS_studies_influencing_memory/metadata/master_list.csv'\n",
    "sheet = None #'master_list_proper_subjects'"
   ]
  },
  {
   "cell_type": "code",
   "execution_count": null,
   "id": "40ed5e1f",
   "metadata": {},
   "outputs": [],
   "source": [
    "from calvin_utils.permutation_analysis_utils.statsmodels_palm import CalvinStatsmodelsPalm\n",
    "cal_palm = CalvinStatsmodelsPalm(input_csv_path=input_csv_path, output_dir=out_dir, sheet=sheet)\n",
    "data_df = cal_palm.read_and_display_data()\n",
    "data_df"
   ]
  },
  {
   "cell_type": "code",
   "execution_count": null,
   "id": "4c3983d9",
   "metadata": {},
   "outputs": [],
   "source": [
    "data_df.columns"
   ]
  },
  {
   "cell_type": "code",
   "execution_count": null,
   "id": "d061b425",
   "metadata": {},
   "outputs": [],
   "source": [
    "column = 'Pre_Post_Memory_Effect_Size__Cohen_s_D_'  # The column you'd like to evaluate\n",
    "condition = 'below'  # The condition to check ('equal', 'above', 'below', 'not')\n",
    "value = 0 # The value to drop if T"
   ]
  },
  {
   "cell_type": "code",
   "execution_count": null,
   "id": "ea8dad80",
   "metadata": {},
   "outputs": [],
   "source": [
    "data_df, other_df = cal_palm.drop_rows_based_on_value(column, condition, value)\n",
    "display(data_df)"
   ]
  },
  {
   "cell_type": "code",
   "execution_count": null,
   "id": "e1aab7a7",
   "metadata": {},
   "outputs": [],
   "source": [
    "path_col = 'path'"
   ]
  },
  {
   "cell_type": "code",
   "execution_count": null,
   "id": "e404c824",
   "metadata": {},
   "outputs": [],
   "source": [
    "from calvin_utils.ccm_utils.bounding_box import NiftiBoundingBox\n",
    "bbox = NiftiBoundingBox(data_df[path_col])\n",
    "# bbox.run(out_dir)\n",
    "bbox.gen_mask(out_dir)"
   ]
  }
 ],
 "metadata": {
  "kernelspec": {
   "display_name": "Python_3.7.7_nimlab",
   "language": "python",
   "name": "python3"
  },
  "language_info": {
   "codemirror_mode": {
    "name": "ipython",
    "version": 3
   },
   "file_extension": ".py",
   "mimetype": "text/x-python",
   "name": "python",
   "nbconvert_exporter": "python",
   "pygments_lexer": "ipython3",
   "version": "3.11.12"
  }
 },
 "nbformat": 4,
 "nbformat_minor": 5
}
