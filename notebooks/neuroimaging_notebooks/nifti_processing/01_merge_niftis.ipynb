{
 "cells": [
  {
   "cell_type": "markdown",
   "id": "8c167826",
   "metadata": {},
   "source": [
    "Merge Identified Niftis"
   ]
  },
  {
   "cell_type": "code",
   "execution_count": null,
   "id": "80f4d0f4",
   "metadata": {},
   "outputs": [],
   "source": [
    "out_dir = '/Volumes/Expansion/atlases/nifti_atlases/memory/circuit_of_papez'"
   ]
  },
  {
   "cell_type": "markdown",
   "id": "01deb0fd",
   "metadata": {},
   "source": [
    "Identify from CSV"
   ]
  },
  {
   "cell_type": "code",
   "execution_count": null,
   "id": "baff79d7",
   "metadata": {},
   "outputs": [],
   "source": [
    "input_csv_path = '/Users/cu135/Partners HealthCare Dropbox/Calvin Howard/resources/datasets/TMS_studies_influencing_memory/metadata/master_list.csv'\n",
    "sheet = None #'master_list_proper_subjects'"
   ]
  },
  {
   "cell_type": "code",
   "execution_count": null,
   "id": "40ed5e1f",
   "metadata": {},
   "outputs": [],
   "source": [
    "from calvin_utils.permutation_analysis_utils.statsmodels_palm import CalvinStatsmodelsPalm\n",
    "cal_palm = CalvinStatsmodelsPalm(input_csv_path=input_csv_path, output_dir=out_dir, sheet=sheet)\n",
    "data_df = cal_palm.read_and_display_data()\n",
    "data_df"
   ]
  },
  {
   "cell_type": "code",
   "execution_count": null,
   "id": "4c3983d9",
   "metadata": {},
   "outputs": [],
   "source": [
    "data_df.columns"
   ]
  },
  {
   "cell_type": "code",
   "execution_count": null,
   "id": "d061b425",
   "metadata": {},
   "outputs": [],
   "source": [
    "column = 'Pre_Post_Memory_Effect_Size__Cohen_s_D_'  # The column you'd like to evaluate\n",
    "condition = 'below'  # The condition to check ('equal', 'above', 'below', 'not')\n",
    "value = 0 # The value to drop if T"
   ]
  },
  {
   "cell_type": "code",
   "execution_count": null,
   "id": "ea8dad80",
   "metadata": {},
   "outputs": [],
   "source": [
    "data_df, other_df = cal_palm.drop_rows_based_on_value(column, condition, value)\n",
    "display(data_df)"
   ]
  },
  {
   "cell_type": "code",
   "execution_count": null,
   "id": "e1aab7a7",
   "metadata": {},
   "outputs": [],
   "source": [
    "path_col = 'path'"
   ]
  },
  {
   "cell_type": "code",
   "execution_count": null,
   "id": "e404c824",
   "metadata": {},
   "outputs": [],
   "source": [
    "from calvin_utils.ccm_utils.bounding_box import NiftiBoundingBox\n",
    "bbox = NiftiBoundingBox(data_df[path_col])\n",
    "# bbox.run(out_dir)\n",
    "bbox.gen_mask(out_dir)"
   ]
  },
  {
   "cell_type": "markdown",
   "id": "7fe9ac96",
   "metadata": {},
   "source": [
    "Identify from Folders"
   ]
  },
  {
   "cell_type": "code",
   "execution_count": 78,
   "id": "448f522d",
   "metadata": {},
   "outputs": [],
   "source": [
    "out_dir='/Volumes/OneTouch/datasets/ADVANCE_AD_DBS_FORNIX/derivatives/stim_sites_combined'"
   ]
  },
  {
   "cell_type": "code",
   "execution_count": 84,
   "id": "39e0dd97",
   "metadata": {},
   "outputs": [],
   "source": [
    "path = '/Volumes/OneTouch/datasets/ADVANCE_AD_DBS_FORNIX/derivatives/stim_sites/sub-*/ses-*/roi/sub-*1.5mm_sphere_roi.nii.gz'"
   ]
  },
  {
   "cell_type": "code",
   "execution_count": 85,
   "id": "c3349d66",
   "metadata": {},
   "outputs": [],
   "source": [
    "from glob import glob\n",
    "\n",
    "paths = glob(path)\n",
    "\n",
    "paths2 = paths[:14] + paths[-14:]"
   ]
  },
  {
   "cell_type": "code",
   "execution_count": 81,
   "id": "24573729",
   "metadata": {},
   "outputs": [
    {
     "data": {
      "text/plain": [
       "28"
      ]
     },
     "execution_count": 81,
     "metadata": {},
     "output_type": "execute_result"
    }
   ],
   "source": [
    "len(paths2)"
   ]
  },
  {
   "cell_type": "code",
   "execution_count": 86,
   "id": "3ca4d2d2",
   "metadata": {},
   "outputs": [
    {
     "name": "stdout",
     "output_type": "stream",
     "text": [
      "All files appear to have the same voxel sizes: (0.2, 0.2, 0.2). No reslicing needed.\n",
      "All files appear to have the same voxel sizes: (0.2, 0.2, 0.2). No reslicing needed.\n"
     ]
    }
   ],
   "source": [
    "from calvin_utils.ccm_utils.bounding_box import NiftiBoundingBox\n",
    "from glob import glob\n",
    "bbox = NiftiBoundingBox(paths2)\n",
    "bbox.run(out_dir)\n",
    "bbox.gen_mask(out_dir)"
   ]
  },
  {
   "cell_type": "markdown",
   "id": "7e7145b6",
   "metadata": {},
   "source": [
    "Merge Left and Right Halves in Folder"
   ]
  },
  {
   "cell_type": "code",
   "execution_count": null,
   "id": "c0ff917c",
   "metadata": {},
   "outputs": [],
   "source": [
    "folder = '/Users/cu135/Partners HealthCare Dropbox/Calvin Howard/resources/datasets/DBS_studies_influencing_memory/derivatives'"
   ]
  },
  {
   "cell_type": "code",
   "execution_count": null,
   "id": "82817160",
   "metadata": {},
   "outputs": [],
   "source": [
    "from calvin_utils.nifti_utils.add_niftis import NiftiAdder\n",
    "pairs = NiftiAdder.find_pairs(directory=folder)\n",
    "NiftiAdder.add_and_save_pairs(pairs=pairs, out_dir=folder, suffix='_added')"
   ]
  },
  {
   "cell_type": "markdown",
   "id": "ffe423de",
   "metadata": {},
   "source": [
    "Add and Save Predefined Pairs"
   ]
  }
 ],
 "metadata": {
  "kernelspec": {
   "display_name": "Python_3.7.7_nimlab",
   "language": "python",
   "name": "python3"
  },
  "language_info": {
   "codemirror_mode": {
    "name": "ipython",
    "version": 3
   },
   "file_extension": ".py",
   "mimetype": "text/x-python",
   "name": "python",
   "nbconvert_exporter": "python",
   "pygments_lexer": "ipython3",
   "version": "3.11.12"
  }
 },
 "nbformat": 4,
 "nbformat_minor": 5
}
