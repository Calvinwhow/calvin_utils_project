{
 "cells": [
  {
   "cell_type": "code",
   "execution_count": null,
   "id": "be5f2f0d",
   "metadata": {},
   "outputs": [
    {
     "name": "stdout",
     "output_type": "stream",
     "text": [
      "Unmatched files:  {'E15326460', '18074545', 'L1639522', 'RES0015482', '003542932', 'E17204746', 'E19752054', 'E16452805', 'L1515950', 'E13219825', 'E16876530', 'E30757577', 'E2342276', '16091851', 'L1639521'}\n"
     ]
    }
   ],
   "source": [
    "from calvin_utils.dcm_utils.dcm_to_bids import organize_dcm_to_bids\n",
    "organize_dcm_to_bids(src_root  = '/Users/cu135/Partners HealthCare Dropbox/Calvin Howard/resources/datasets/MSA_Atrophy_Kurana/DICOM_Files', \n",
    "                     bids_root = '/Users/cu135/Partners HealthCare Dropbox/Calvin Howard/resources/datasets/MSA_Atrophy_Kurana/BIDS', \n",
    "                     dcm_pattern_list=['MPR'])"
   ]
  }
 ],
 "metadata": {
  "kernelspec": {
   "display_name": "Python_3.7.7_nimlab",
   "language": "python",
   "name": "python3"
  },
  "language_info": {
   "codemirror_mode": {
    "name": "ipython",
    "version": 3
   },
   "file_extension": ".py",
   "mimetype": "text/x-python",
   "name": "python",
   "nbconvert_exporter": "python",
   "pygments_lexer": "ipython3",
   "version": "3.11.12"
  }
 },
 "nbformat": 4,
 "nbformat_minor": 5
}
