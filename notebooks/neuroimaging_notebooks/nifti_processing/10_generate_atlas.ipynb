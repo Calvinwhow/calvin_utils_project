{
 "cells": [
  {
   "cell_type": "code",
   "execution_count": null,
   "id": "b73a58b6",
   "metadata": {},
   "outputs": [],
   "source": [
    "atlas = '/Users/cu135/Partners HealthCare Dropbox/Calvin Howard/resources/atlases/AAL/aal2.nii.gz'\n",
    "lut = '/Users/cu135/Partners HealthCare Dropbox/Calvin Howard/resources/atlases/AAL/aal2.nii.txt'\n",
    "out = '/Users/cu135/Partners HealthCare Dropbox/Calvin Howard/resources/atlases/AAL/mixed'"
   ]
  },
  {
   "cell_type": "code",
   "execution_count": null,
   "id": "bdb8e508",
   "metadata": {},
   "outputs": [],
   "source": [
    "from calvin_utils.nifti_utils.generate_atlas import split_atlas\n",
    "split_atlas(atlas, lut, out)"
   ]
  }
 ],
 "metadata": {
  "kernelspec": {
   "display_name": "Python_3.7.7_nimlab",
   "language": "python",
   "name": "python3"
  },
  "language_info": {
   "codemirror_mode": {
    "name": "ipython",
    "version": 3
   },
   "file_extension": ".py",
   "mimetype": "text/x-python",
   "name": "python",
   "nbconvert_exporter": "python",
   "pygments_lexer": "ipython3",
   "version": "3.11.12"
  }
 },
 "nbformat": 4,
 "nbformat_minor": 5
}
