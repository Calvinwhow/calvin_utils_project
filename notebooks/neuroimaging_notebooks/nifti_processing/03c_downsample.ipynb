{
 "cells": [
  {
   "cell_type": "code",
   "execution_count": 1,
   "metadata": {},
   "outputs": [],
   "source": [
    "origin = '/Users/cu135/Library/CloudStorage/OneDrive-Personal/OneDrive_Documents/MATLAB/leaddbs/templates/space/MNI_ICBM_2009b_NLIN_ASYM/atlases/Memory Atlas (Ferguson 2019)/memory_roi.nii'\n",
    "target = '/Users/cu135/hires_backdrops/MNI/MNI152_T1_2mm_brain_mask.nii'\n"
   ]
  },
  {
   "cell_type": "markdown",
   "metadata": {},
   "source": [
    "need to add a function to loop over a folder with glob."
   ]
  },
  {
   "cell_type": "code",
   "execution_count": 2,
   "metadata": {},
   "outputs": [],
   "source": [
    "from calvin_utils.nifti_utils.image_resample import ImageDownSampler\n",
    "t = ImageDownSampler(origin, target)\n",
    "t.resample_img()"
   ]
  },
  {
   "cell_type": "markdown",
   "metadata": {},
   "source": [
    "Glob over files"
   ]
  },
  {
   "cell_type": "code",
   "execution_count": 5,
   "metadata": {},
   "outputs": [],
   "source": [
    "target = '/Users/cu135/hires_backdrops/mni/MNI152_T1_2mm_brain_mask.nii'\n",
    "glob_pattern = '/Users/cu135/Partners HealthCare Dropbox/Calvin Howard/resources/datasets/BIDS_PD_DBS_STN_WURZBURG/raw_netstim_database/*/stimulations/sub-*MDST_sim-binary_model-simbio_hemi-BL.nii.gz'"
   ]
  },
  {
   "cell_type": "code",
   "execution_count": 6,
   "metadata": {},
   "outputs": [
    {
     "name": "stderr",
     "output_type": "stream",
     "text": [
      "  0%|          | 0/5 [00:00<?, ?it/s]"
     ]
    },
    {
     "name": "stdout",
     "output_type": "stream",
     "text": [
      "Output path set to:  /Users/cu135/Partners HealthCare Dropbox/Calvin Howard/resources/datasets/BIDS_PD_DBS_STN_WURZBURG/raw_netstim_database/35/stimulations/sub-35MDST_sim-binary_model-simbio_hemi-BL_resampled.nii.gz\n"
     ]
    },
    {
     "name": "stderr",
     "output_type": "stream",
     "text": [
      " 20%|██        | 1/5 [00:01<00:06,  1.60s/it]"
     ]
    },
    {
     "name": "stdout",
     "output_type": "stream",
     "text": [
      "Output path set to:  /Users/cu135/Partners HealthCare Dropbox/Calvin Howard/resources/datasets/BIDS_PD_DBS_STN_WURZBURG/raw_netstim_database/05/stimulations/sub-05MDST_sim-binary_model-simbio_hemi-BL_resampled.nii.gz\n"
     ]
    },
    {
     "name": "stderr",
     "output_type": "stream",
     "text": [
      " 40%|████      | 2/5 [00:03<00:05,  1.82s/it]"
     ]
    },
    {
     "name": "stdout",
     "output_type": "stream",
     "text": [
      "Output path set to:  /Users/cu135/Partners HealthCare Dropbox/Calvin Howard/resources/datasets/BIDS_PD_DBS_STN_WURZBURG/raw_netstim_database/16/stimulations/sub-16MDST_sim-binary_model-simbio_hemi-BL_resampled.nii.gz\n"
     ]
    },
    {
     "name": "stderr",
     "output_type": "stream",
     "text": [
      " 60%|██████    | 3/5 [00:05<00:03,  1.87s/it]"
     ]
    },
    {
     "name": "stdout",
     "output_type": "stream",
     "text": [
      "Output path set to:  /Users/cu135/Partners HealthCare Dropbox/Calvin Howard/resources/datasets/BIDS_PD_DBS_STN_WURZBURG/raw_netstim_database/42/stimulations/sub-42MDST_sim-binary_model-simbio_hemi-BL_resampled.nii.gz\n"
     ]
    },
    {
     "name": "stderr",
     "output_type": "stream",
     "text": [
      " 80%|████████  | 4/5 [00:07<00:01,  1.81s/it]"
     ]
    },
    {
     "name": "stdout",
     "output_type": "stream",
     "text": [
      "Output path set to:  /Users/cu135/Partners HealthCare Dropbox/Calvin Howard/resources/datasets/BIDS_PD_DBS_STN_WURZBURG/raw_netstim_database/41/stimulations/sub-41MDST_sim-binary_model-simbio_hemi-BL_resampled.nii.gz\n"
     ]
    },
    {
     "name": "stderr",
     "output_type": "stream",
     "text": [
      "100%|██████████| 5/5 [00:09<00:00,  1.82s/it]\n"
     ]
    }
   ],
   "source": [
    "from calvin_utils.nifti_utils.image_resample import ImageDownSampler\n",
    "from tqdm import tqdm\n",
    "from glob import glob\n",
    "for origin_path in tqdm(glob(glob_pattern)):\n",
    "    ds = ImageDownSampler(origin_path, target)\n",
    "    ds.resample_img() "
   ]
  },
  {
   "cell_type": "code",
   "execution_count": null,
   "metadata": {},
   "outputs": [],
   "source": []
  }
 ],
 "metadata": {
  "kernelspec": {
   "display_name": "Python_3.7.7_nimlab",
   "language": "python",
   "name": "python3"
  },
  "language_info": {
   "codemirror_mode": {
    "name": "ipython",
    "version": 3
   },
   "file_extension": ".py",
   "mimetype": "text/x-python",
   "name": "python",
   "nbconvert_exporter": "python",
   "pygments_lexer": "ipython3",
   "version": "3.11.12"
  }
 },
 "nbformat": 4,
 "nbformat_minor": 2
}
