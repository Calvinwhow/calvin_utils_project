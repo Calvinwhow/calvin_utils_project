{
 "cells": [
  {
   "cell_type": "code",
   "execution_count": 1,
   "metadata": {},
   "outputs": [],
   "source": [
    "origin = '/Users/cu135/Library/CloudStorage/OneDrive-Personal/OneDrive_Documents/MATLAB/leaddbs/templates/space/MNI_ICBM_2009b_NLIN_ASYM/atlases/Memory Atlas (Ferguson 2019)/memory_roi.nii'\n",
    "target = '/Users/cu135/hires_backdrops/MNI/MNI152_T1_2mm_brain_mask.nii'\n"
   ]
  },
  {
   "cell_type": "markdown",
   "metadata": {},
   "source": [
    "need to add a function to loop over a folder with glob."
   ]
  },
  {
   "cell_type": "code",
   "execution_count": 2,
   "metadata": {},
   "outputs": [],
   "source": [
    "from calvin_utils.nifti_utils.image_resample import ImageDownSampler\n",
    "t = ImageDownSampler(origin, target)\n",
    "t.resample_img()"
   ]
  },
  {
   "cell_type": "markdown",
   "metadata": {},
   "source": [
    "Glob over files"
   ]
  },
  {
   "cell_type": "code",
   "execution_count": 9,
   "metadata": {},
   "outputs": [],
   "source": [
    "target = '/Users/cu135/hires_backdrops/mni/MNI152_T1_2mm_brain_mask.nii'\n",
    "glob_pattern = '/Volumes/OneTouch/datasets/adni/neuroimaging/easyreg_control_dist/*.nii'"
   ]
  },
  {
   "cell_type": "code",
   "execution_count": 10,
   "metadata": {},
   "outputs": [
    {
     "name": "stderr",
     "output_type": "stream",
     "text": [
      "  0%|          | 0/8 [00:00<?, ?it/s]"
     ]
    },
    {
     "name": "stdout",
     "output_type": "stream",
     "text": [
      "Output path set to:  /Volumes/OneTouch/datasets/adni/neuroimaging/easyreg_control_dist/cerebrospinal_fluid_std_1mm_resampled.nii\n"
     ]
    },
    {
     "name": "stderr",
     "output_type": "stream",
     "text": [
      " 12%|█▎        | 1/8 [00:11<01:18, 11.20s/it]"
     ]
    },
    {
     "name": "stdout",
     "output_type": "stream",
     "text": [
      "Output path set to:  /Volumes/OneTouch/datasets/adni/neuroimaging/easyreg_control_dist/l2_norm_mean_resampled.nii\n"
     ]
    },
    {
     "name": "stderr",
     "output_type": "stream",
     "text": [
      " 25%|██▌       | 2/8 [00:21<01:04, 10.71s/it]"
     ]
    },
    {
     "name": "stdout",
     "output_type": "stream",
     "text": [
      "Output path set to:  /Volumes/OneTouch/datasets/adni/neuroimaging/easyreg_control_dist/cerebrospinal_fluid_mean_1mm_resampled.nii\n"
     ]
    },
    {
     "name": "stderr",
     "output_type": "stream",
     "text": [
      " 38%|███▊      | 3/8 [00:32<00:52, 10.59s/it]"
     ]
    },
    {
     "name": "stdout",
     "output_type": "stream",
     "text": [
      "Output path set to:  /Volumes/OneTouch/datasets/adni/neuroimaging/easyreg_control_dist/grey_matter_std_1mm_resampled.nii\n"
     ]
    },
    {
     "name": "stderr",
     "output_type": "stream",
     "text": [
      " 50%|█████     | 4/8 [00:42<00:42, 10.63s/it]"
     ]
    },
    {
     "name": "stdout",
     "output_type": "stream",
     "text": [
      "Output path set to:  /Volumes/OneTouch/datasets/adni/neuroimaging/easyreg_control_dist/grey_matter_mean_1mm_resampled.nii\n"
     ]
    },
    {
     "name": "stderr",
     "output_type": "stream",
     "text": [
      " 62%|██████▎   | 5/8 [00:53<00:31, 10.59s/it]"
     ]
    },
    {
     "name": "stdout",
     "output_type": "stream",
     "text": [
      "Output path set to:  /Volumes/OneTouch/datasets/adni/neuroimaging/easyreg_control_dist/white_matter_mean_1mm_resampled.nii\n"
     ]
    },
    {
     "name": "stderr",
     "output_type": "stream",
     "text": [
      " 75%|███████▌  | 6/8 [01:03<00:20, 10.41s/it]"
     ]
    },
    {
     "name": "stdout",
     "output_type": "stream",
     "text": [
      "Output path set to:  /Volumes/OneTouch/datasets/adni/neuroimaging/easyreg_control_dist/l2_norm_std_resampled.nii\n"
     ]
    },
    {
     "name": "stderr",
     "output_type": "stream",
     "text": [
      " 88%|████████▊ | 7/8 [01:13<00:10, 10.44s/it]"
     ]
    },
    {
     "name": "stdout",
     "output_type": "stream",
     "text": [
      "Output path set to:  /Volumes/OneTouch/datasets/adni/neuroimaging/easyreg_control_dist/white_matter_std_1mm_resampled.nii\n"
     ]
    },
    {
     "name": "stderr",
     "output_type": "stream",
     "text": [
      "100%|██████████| 8/8 [01:24<00:00, 10.53s/it]\n"
     ]
    }
   ],
   "source": [
    "from calvin_utils.nifti_utils.image_resample import ImageDownSampler\n",
    "from tqdm import tqdm\n",
    "from glob import glob\n",
    "for origin_path in tqdm(glob(glob_pattern)):\n",
    "    ds = ImageDownSampler(origin_path, target)\n",
    "    ds.resample_img() "
   ]
  },
  {
   "cell_type": "code",
   "execution_count": null,
   "metadata": {},
   "outputs": [],
   "source": []
  }
 ],
 "metadata": {
  "kernelspec": {
   "display_name": "Python_3.7.7_nimlab",
   "language": "python",
   "name": "python3"
  },
  "language_info": {
   "codemirror_mode": {
    "name": "ipython",
    "version": 3
   },
   "file_extension": ".py",
   "mimetype": "text/x-python",
   "name": "python",
   "nbconvert_exporter": "python",
   "pygments_lexer": "ipython3",
   "version": "3.11.12"
  }
 },
 "nbformat": 4,
 "nbformat_minor": 2
}
