{
 "cells": [
  {
   "cell_type": "markdown",
   "id": "17495d9b",
   "metadata": {},
   "source": [
    "Initialize the object with the path to NIFTI files, threshold values, and a thresholding command.\n",
    "- path (str): Path to the NIFTI files.\n",
    "- t (list): List of threshold values. Minimum 1 value, max 2. \n",
    "- command (str, optional): Thresholding command ('keep_above', 'keep_below', 'keep_between', or 'exclude_between'). Default   'keep_above'."
   ]
  },
  {
   "cell_type": "code",
   "execution_count": 7,
   "id": "79d55b33",
   "metadata": {},
   "outputs": [],
   "source": [
    "path = '/Users/cu135/hires_backdrops/test/derivatives/0002_smwp3_ref.nii.gz'\n",
    "threshold_list = [0.9]\n",
    "command = 'keep_above'"
   ]
  },
  {
   "cell_type": "code",
   "execution_count": null,
   "id": "77a8bffa",
   "metadata": {},
   "outputs": [],
   "source": [
    "from calvin_utils.nifti_utils.threshold_nifti import ThresholdNifti\n",
    "ThresholdNifti(path, threshold_list, command=command).run()"
   ]
  }
 ],
 "metadata": {
  "kernelspec": {
   "display_name": "Python_3.7.7_nimlab",
   "language": "python",
   "name": "python3"
  },
  "language_info": {
   "codemirror_mode": {
    "name": "ipython",
    "version": 3
   },
   "file_extension": ".py",
   "mimetype": "text/x-python",
   "name": "python",
   "nbconvert_exporter": "python",
   "pygments_lexer": "ipython3",
   "version": "3.11.12"
  }
 },
 "nbformat": 4,
 "nbformat_minor": 5
}
