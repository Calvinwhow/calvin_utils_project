{
 "cells": [
  {
   "cell_type": "code",
   "execution_count": 1,
   "id": "7ec021e4",
   "metadata": {},
   "outputs": [],
   "source": [
    "path = '/Users/cu135/Partners HealthCare Dropbox/Calvin Howard/resources/datasets/HORISAWA_DYSKINESIA_FOREL/ff_lesions_higher_res/flipped_sub-*-lesion_mask_added.nii.gz'\n",
    "out_path = '/Users/cu135/Partners HealthCare Dropbox/Calvin Howard/resources/datasets/HORISAWA_DYSKINESIA_FOREL/results'"
   ]
  },
  {
   "cell_type": "code",
   "execution_count": null,
   "id": "f1b468ab",
   "metadata": {},
   "outputs": [
    {
     "name": "stdout",
     "output_type": "stream",
     "text": [
      "All files appear to have the same voxel sizes: (0.5, 0.5, 0.5). No reslicing needed.\n"
     ]
    }
   ],
   "source": [
    "from calvin_utils.ccm_utils.bounding_box import NiftiBoundingBox\n",
    "from glob import glob\n",
    "bbox = NiftiBoundingBox(glob(path))\n",
    "bbox.gen_mask(out_path)"
   ]
  }
 ],
 "metadata": {
  "kernelspec": {
   "display_name": "Python_3.7.7_nimlab",
   "language": "python",
   "name": "python3"
  },
  "language_info": {
   "codemirror_mode": {
    "name": "ipython",
    "version": 3
   },
   "file_extension": ".py",
   "mimetype": "text/x-python",
   "name": "python",
   "nbconvert_exporter": "python",
   "pygments_lexer": "ipython3",
   "version": "3.11.10"
  }
 },
 "nbformat": 4,
 "nbformat_minor": 5
}
