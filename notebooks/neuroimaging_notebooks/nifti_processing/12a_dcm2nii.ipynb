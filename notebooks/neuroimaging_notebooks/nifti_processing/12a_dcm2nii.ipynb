{
 "cells": [
  {
   "cell_type": "code",
   "execution_count": null,
   "id": "f69dd971",
   "metadata": {},
   "outputs": [],
   "source": [
    "from pathlib import Path\n",
    "import subprocess\n",
    "\n",
    "\n",
    "def run_dcm2nii_over_bids(\n",
    "    bids_root: str | Path,\n",
    "    dcm2nii_cmd: str = \"dcm2niix\",\n",
    "    sub_folder: str = \"sub-\",\n",
    "    ses_folder: str = \"ses-\",\n",
    "    dcm_folder: str = \"DCM\",\n",
    "    fname: str = \"T1\"\n",
    ") -> None:\n",
    "    \"\"\"\n",
    "    Convert every /DCM folder in a BIDS tree to NIfTI and drop\n",
    "    the output in the matching /ANAT folder.\n",
    "\n",
    "    Layout expected\n",
    "    ---------------\n",
    "    <bids_root>/\n",
    "        sub-XXX/\n",
    "            ses-YYY/\n",
    "                DCM/      <-- raw DICOM files (already organised)\n",
    "                ANAT/     <-- will receive the NIfTI output\n",
    "    \"\"\"\n",
    "    bids_root = Path(bids_root).expanduser().resolve()\n",
    "\n",
    "    # locate every DCM directory: sub-*/ses-*/DCM\n",
    "    for dcm_dir in bids_root.glob(f\"{sub_folder}*/{ses_folder}*/{dcm_folder}\"):\n",
    "        if not dcm_dir.is_dir():\n",
    "            continue\n",
    "\n",
    "        anat_dir = dcm_dir.parent / \"ANAT\"\n",
    "        anat_dir.mkdir(exist_ok=True)\n",
    "\n",
    "        try:\n",
    "            subprocess.run(\n",
    "                [dcm2nii_cmd, \"-b\", \"y\", \"-z\", \"y\", \"-o\", anat_dir, str(dcm_dir)],\n",
    "                check=True,\n",
    "            )\n",
    "        except subprocess.CalledProcessError as e:\n",
    "            print(f\"Error processing {dcm_dir}: {e}\")\n",
    "            continue\n",
    "\n",
    "        # OPTIONAL — rename first *.nii* to sub-XXX_T1.nii.gz\n",
    "        nifti_files = sorted(anat_dir.glob(\"*.nii*\"))\n",
    "        if len(nifti_files) == 1:\n",
    "            subj_id = dcm_dir.parents[1].name.lstrip(\"sub-\")\n",
    "            nifti_files[0].rename(anat_dir / f\"{fname}.nii.gz\")\n"
   ]
  },
  {
   "cell_type": "code",
   "execution_count": null,
   "id": "0df89e70",
   "metadata": {},
   "outputs": [],
   "source": [
    "run_dcm2nii_over_bids('/Users/cu135/Partners HealthCare Dropbox/Calvin Howard/resources/datasets/MSA_Atrophy_Kurana/BIDS', 'dcm2niix',\n",
    "                      sub_folder = '')"
   ]
  }
 ],
 "metadata": {
  "kernelspec": {
   "display_name": "Python_3.7.7_nimlab",
   "language": "python",
   "name": "python3"
  },
  "language_info": {
   "codemirror_mode": {
    "name": "ipython",
    "version": 3
   },
   "file_extension": ".py",
   "mimetype": "text/x-python",
   "name": "python",
   "nbconvert_exporter": "python",
   "pygments_lexer": "ipython3",
   "version": "3.11.12"
  }
 },
 "nbformat": 4,
 "nbformat_minor": 5
}
