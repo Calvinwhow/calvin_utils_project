{
 "cells": [
  {
   "cell_type": "code",
   "execution_count": null,
   "id": "f69dd971",
   "metadata": {},
   "outputs": [],
   "source": [
    "from pathlib import Path\n",
    "import subprocess\n",
    "\n",
    "\n",
    "def run_dcm2nii_over_bids(\n",
    "    bids_root: str | Path,\n",
    "    dcm2nii_cmd: str = \"dcm2niix\",\n",
    ") -> None:\n",
    "    \"\"\"\n",
    "    Convert every /DCM folder in a BIDS tree to NIfTI and drop\n",
    "    the output in the matching /ANAT folder.\n",
    "\n",
    "    Layout expected\n",
    "    ---------------\n",
    "    <bids_root>/\n",
    "        sub-XXX/\n",
    "            ses-YYY/\n",
    "                DCM/      ← raw DICOM files (already organised)\n",
    "                ANAT/     ← will receive the NIfTI output\n",
    "\n",
    "    Parameters\n",
    "    ----------\n",
    "    bids_root : str | Path\n",
    "        Path to the BIDS directory.\n",
    "    dcm2nii_cmd : str\n",
    "        Executable for DICOM→NIfTI conversion (dcm2niix/dcm2nii).\n",
    "    \"\"\"\n",
    "    bids_root = Path(bids_root).expanduser().resolve()\n",
    "\n",
    "    # locate every DCM directory: sub-*/ses-*/DCM\n",
    "    for dcm_dir in bids_root.glob(\"sub-*/ses-*/DCM\"):\n",
    "        if not dcm_dir.is_dir():\n",
    "            continue\n",
    "\n",
    "        anat_dir = dcm_dir.parent / \"ANAT\"\n",
    "        anat_dir.mkdir(exist_ok=True)\n",
    "\n",
    "        # run the converter; raise if it fails\n",
    "        try:\n",
    "            subprocess.run(\n",
    "                [dcm2nii_cmd, \"-b\", \"y\", \"-z\", \"y\", \"-o\", anat_dir, str(dcm_dir)],\n",
    "                check=True,\n",
    "            )\n",
    "        except subprocess.CalledProcessError as e:\n",
    "            print(f\"Error processing {dcm_dir}: {e}\")\n",
    "            continue\n",
    "\n",
    "        # OPTIONAL — rename first *.nii* to sub-XXX_T1.nii.gz\n",
    "        nifti_files = sorted(anat_dir.glob(\"*.nii*\"))\n",
    "        if len(nifti_files) == 1:\n",
    "            subj_id = dcm_dir.parents[1].name.lstrip(\"sub-\")\n",
    "            nifti_files[0].rename(anat_dir / f\"{subj_id}_T1.nii.gz\")\n"
   ]
  },
  {
   "cell_type": "code",
   "execution_count": null,
   "id": "0df89e70",
   "metadata": {},
   "outputs": [],
   "source": [
    "run_dcm2nii_over_bids('/Users/cu135/Partners HealthCare Dropbox/Calvin Howard/resources/datasets/MSA_Atrophy_Kurana/BIDS', 'dcm2niix')"
   ]
  },
  {
   "cell_type": "code",
   "execution_count": null,
   "id": "19ac3e3f",
   "metadata": {},
   "outputs": [],
   "source": []
  }
 ],
 "metadata": {
  "kernelspec": {
   "display_name": "Python_3.7.7_nimlab",
   "language": "python",
   "name": "python3"
  },
  "language_info": {
   "codemirror_mode": {
    "name": "ipython",
    "version": 3
   },
   "file_extension": ".py",
   "mimetype": "text/x-python",
   "name": "python",
   "nbconvert_exporter": "python",
   "pygments_lexer": "ipython3",
   "version": "3.11.12"
  }
 },
 "nbformat": 4,
 "nbformat_minor": 5
}
