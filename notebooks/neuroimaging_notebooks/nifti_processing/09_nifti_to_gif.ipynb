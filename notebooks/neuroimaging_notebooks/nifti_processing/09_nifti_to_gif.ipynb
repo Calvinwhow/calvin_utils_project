{
 "cells": [
  {
   "cell_type": "code",
   "execution_count": 43,
   "metadata": {},
   "outputs": [],
   "source": [
    "nifti_path = '/Users/cu135/Dropbox (Partners HealthCare)/studies/commutative_regression/q4~voxels+q3/R2_uncorrected.nii'"
   ]
  },
  {
   "cell_type": "code",
   "execution_count": 44,
   "metadata": {},
   "outputs": [
    {
     "name": "stdout",
     "output_type": "stream",
     "text": [
      "GIF saved at: /Users/cu135/Dropbox (Partners HealthCare)/studies/commutative_regression/q4~voxels+q3/R2_uncorrected_fast.gif\n"
     ]
    }
   ],
   "source": [
    "import nibabel as nib\n",
    "import imageio\n",
    "import numpy as np\n",
    "import os\n",
    "\n",
    "# Load NIfTI file\n",
    "nifti = nib.load(nifti_path)\n",
    "data = nifti.get_fdata()\n",
    "data = np.nan_to_num(data)  # Convert NaNs to zero\n",
    "\n",
    "# Normalize the data to 0-255 and scale down to reduce GIF size and improve load time\n",
    "max_val = np.max(data)\n",
    "min_val = np.min(data)\n",
    "scaled_data = 255 * (data - min_val) / (max_val - min_val)\n",
    "scaled_data = scaled_data.astype(np.uint8)  # Ensure data type is uint8 for GIF compatibility\n",
    "\n",
    "# Extract slices or create frames as needed, downsample by selecting every 10th frame\n",
    "frames = [scaled_data[:, :, i] for i in range(0, data.shape[2], 10)]  # Adjust stride to 10\n",
    "\n",
    "import skimage.transform\n",
    "# Downscale each frame to reduce resolution and file size\n",
    "# frames = [skimage.transform.rescale(frame, 0.5, anti_aliasing=True) for frame in frames]\n",
    "\n",
    "\n",
    "# Save frames as a GIF\n",
    "pre, post = os.path.splitext(nifti_path)\n",
    "gif_path = f'{pre}_fast.gif'\n",
    "imageio.mimsave(gif_path, frames, 'GIF', duration=1)  # Set a suitable frame duration\n",
    "\n",
    "print(f\"GIF saved at: {gif_path}\")\n"
   ]
  },
  {
   "cell_type": "code",
   "execution_count": null,
   "metadata": {},
   "outputs": [],
   "source": []
  },
  {
   "cell_type": "code",
   "execution_count": null,
   "metadata": {},
   "outputs": [],
   "source": []
  }
 ],
 "metadata": {
  "kernelspec": {
   "display_name": "nimlab_py310",
   "language": "python",
   "name": "python3"
  },
  "language_info": {
   "codemirror_mode": {
    "name": "ipython",
    "version": 3
   },
   "file_extension": ".py",
   "mimetype": "text/x-python",
   "name": "python",
   "nbconvert_exporter": "python",
   "pygments_lexer": "ipython3",
   "version": "3.10.8"
  }
 },
 "nbformat": 4,
 "nbformat_minor": 2
}
