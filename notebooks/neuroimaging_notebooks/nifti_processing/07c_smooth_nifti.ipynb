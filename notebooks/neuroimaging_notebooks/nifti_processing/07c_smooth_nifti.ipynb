{
 "cells": [
  {
   "cell_type": "markdown",
   "id": "9c2f9854",
   "metadata": {},
   "source": [
    "Option A - Smooth from a CSV"
   ]
  },
  {
   "cell_type": "code",
   "execution_count": null,
   "id": "0aabc0cf",
   "metadata": {},
   "outputs": [],
   "source": [
    "csv_path = ''\n",
    "nii_col = ''"
   ]
  },
  {
   "cell_type": "code",
   "execution_count": null,
   "id": "5fc354d4",
   "metadata": {},
   "outputs": [],
   "source": [
    "from calvin_utils.permutation_analysis_utils.statsmodels_palm import CalvinStatsmodelsPalm\n",
    "cal_palm = CalvinStatsmodelsPalm(input_csv_path=csv_path, output_dir=None, sheet=None)\n",
    "data_df = cal_palm.read_and_display_data()\n",
    "data_df"
   ]
  },
  {
   "cell_type": "code",
   "execution_count": null,
   "id": "b604192e",
   "metadata": {},
   "outputs": [],
   "source": [
    "from nilearn import image\n",
    "\n",
    "for idx, f in enumerate(data_df[nii_col]):\n",
    "    smoothed = image.smooth_img(f, fwhm=4)\n",
    "    fname = f.replace(\".nii\", \"_fwhm4.nii\")\n",
    "    smoothed.to_filename(fname)\n",
    "    data_df.loc[idx, nii_col+'_smoothed'] = fname\n",
    "data_df.to_csv(csv_path)"
   ]
  },
  {
   "cell_type": "markdown",
   "id": "c84f7096",
   "metadata": {},
   "source": [
    "Option B - Smooth Find and Smooth the Files"
   ]
  },
  {
   "cell_type": "code",
   "execution_count": 2,
   "id": "dddb02a8",
   "metadata": {},
   "outputs": [],
   "source": [
    "from nilearn import image\n",
    "import glob, os\n",
    "\n",
    "DIR = \"/Volumes/OneTouch/datasets/adni/neuroimaging/easyreg_control_dist/2mm_res\"\n",
    "for f in glob.glob(os.path.join(DIR, \"*.nii*\")):\n",
    "    smoothed = image.smooth_img(f, fwhm=4)          # 2 mm FWHM\n",
    "    smoothed.to_filename(f.replace(\".nii\", \"_fwhm4.nii\"))\n"
   ]
  }
 ],
 "metadata": {
  "kernelspec": {
   "display_name": "Python_3.7.7_nimlab",
   "language": "python",
   "name": "python3"
  },
  "language_info": {
   "codemirror_mode": {
    "name": "ipython",
    "version": 3
   },
   "file_extension": ".py",
   "mimetype": "text/x-python",
   "name": "python",
   "nbconvert_exporter": "python",
   "pygments_lexer": "ipython3",
   "version": "3.11.12"
  }
 },
 "nbformat": 4,
 "nbformat_minor": 5
}
