{
 "cells": [
  {
   "cell_type": "code",
   "execution_count": 2,
   "id": "dddb02a8",
   "metadata": {},
   "outputs": [],
   "source": [
    "from nilearn import image\n",
    "import glob, os\n",
    "\n",
    "DIR = \"/Volumes/OneTouch/datasets/adni/neuroimaging/easyreg_control_dist/2mm_res\"\n",
    "for f in glob.glob(os.path.join(DIR, \"*.nii*\")):\n",
    "    smoothed = image.smooth_img(f, fwhm=4)          # 2 mm FWHM\n",
    "    smoothed.to_filename(f.replace(\".nii\", \"_fwhm4.nii\"))\n"
   ]
  },
  {
   "cell_type": "code",
   "execution_count": null,
   "id": "0cce037d",
   "metadata": {},
   "outputs": [],
   "source": []
  }
 ],
 "metadata": {
  "kernelspec": {
   "display_name": "Python_3.7.7_nimlab",
   "language": "python",
   "name": "python3"
  },
  "language_info": {
   "codemirror_mode": {
    "name": "ipython",
    "version": 3
   },
   "file_extension": ".py",
   "mimetype": "text/x-python",
   "name": "python",
   "nbconvert_exporter": "python",
   "pygments_lexer": "ipython3",
   "version": "3.11.12"
  }
 },
 "nbformat": 4,
 "nbformat_minor": 5
}
