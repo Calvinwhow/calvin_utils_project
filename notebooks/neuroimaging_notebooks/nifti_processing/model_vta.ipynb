{
 "cells": [
  {
   "cell_type": "code",
   "execution_count": 2,
   "metadata": {},
   "outputs": [],
   "source": [
    "from calvin_utils.nifti_utils.model_vta import ModelVTA\n",
    "model = ModelVTA(center_coord=[11.9492,-11.2413,-2.10106], output_path='/Users/cu135/hires_backdrops/test')\n",
    "model.run(radius_mm=2, filename='vta_1.nii')\n",
    "\n"
   ]
  },
  {
   "cell_type": "code",
   "execution_count": 6,
   "metadata": {},
   "outputs": [],
   "source": [
    "vta_arr = [\n",
    "\t\t[-11.2105,-16.3292,-9.33629],\n",
    "\t\t[-11.272,-14.9074,-7.5914],\n",
    "\t\t[-12.3485,-15.1169,-7.81579],\n",
    "\t\t[-11.7573,-15.7961,-7.11613],\n",
    "\t\t[-11.8465,-13.8313,-5.7603],\n",
    "\t\t[-12.9278,-14.0447,-5.97315],\n",
    "\t\t[-12.3393,-14.7307,-5.28301],\n",
    "\t\t[-12.9413,-13.1166,-3.82464]\n",
    "\t]"
   ]
  },
  {
   "cell_type": "code",
   "execution_count": 7,
   "metadata": {},
   "outputs": [],
   "source": [
    "for i, coord in enumerate(vta_arr):\n",
    "    from calvin_utils.nifti_utils.model_vta import ModelVTA\n",
    "    model = ModelVTA(center_coord=coord, output_path='/Users/cu135/hires_backdrops/test')\n",
    "    model.run(radius_mm=2, filename=f'l_vta_{i}.nii')\n"
   ]
  },
  {
   "cell_type": "code",
   "execution_count": null,
   "metadata": {},
   "outputs": [],
   "source": []
  }
 ],
 "metadata": {
  "kernelspec": {
   "display_name": "Python_3.7.7_nimlab",
   "language": "python",
   "name": "python3"
  },
  "language_info": {
   "codemirror_mode": {
    "name": "ipython",
    "version": 3
   },
   "file_extension": ".py",
   "mimetype": "text/x-python",
   "name": "python",
   "nbconvert_exporter": "python",
   "pygments_lexer": "ipython3",
   "version": "3.11.10"
  }
 },
 "nbformat": 4,
 "nbformat_minor": 2
}
