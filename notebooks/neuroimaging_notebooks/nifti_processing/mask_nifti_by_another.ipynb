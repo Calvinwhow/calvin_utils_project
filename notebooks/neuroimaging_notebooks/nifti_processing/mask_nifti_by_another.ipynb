{
 "cells": [
  {
   "cell_type": "code",
   "execution_count": 54,
   "metadata": {},
   "outputs": [],
   "source": [
    "import nibabel as nib\n",
    "# Load the input NIFTI file and the target NIFTI file\n",
    "input_nifti = nib.load('/Users/cu135/Partners HealthCare Dropbox/Calvin Howard/studies/atrophy_seeds_2023/shared_analysis/niftis_for_elmira/unsmoothed_atrophy_seeds_v2/sub-0002/ses-01/thresholded_tissue_segment_z_scores/sub-0002_cerebrospinal_fluid.nii')\n",
    "target_nifti = nib.load('/Users/cu135/Partners HealthCare Dropbox/Calvin Howard/studies/atrophy_seeds_2023/Figures/atrophy_peaks_to_patient_space/atrophy_peak_chance/sphere.nii')\n",
    "mni_mask_nifti = nib.load('/Users/cu135/hires_backdrops/MNI152_T1_2mm_brain_mask.nii')"
   ]
  },
  {
   "cell_type": "markdown",
   "metadata": {},
   "source": [
    "Generate Mask"
   ]
  },
  {
   "cell_type": "code",
   "execution_count": 20,
   "metadata": {},
   "outputs": [],
   "source": [
    "import numpy as np\n",
    "# Get the data arrays\n",
    "input_data = input_nifti.get_fdata()\n",
    "target_data = target_nifti.get_fdata()\n",
    "\n",
    "# Define the threshold for binarization\n",
    "threshold = 0  # Replace with your desired threshold value\n",
    "\n",
    "# Binarize the target data\n",
    "binary_mask = (target_data > threshold).astype(np.float32)\n",
    "\n",
    "# Ensure the dimensions of the input data and binary mask match\n",
    "if input_data.shape != binary_mask.shape:\n",
    "    raise ValueError(\"The dimensions of the input NIFTI file and the target NIFTI file do not match.\")\n",
    "\n",
    "# Apply the binary mask to the input data\n",
    "masked_data = input_data * binary_mask\n"
   ]
  },
  {
   "cell_type": "markdown",
   "metadata": {},
   "source": []
  },
  {
   "cell_type": "markdown",
   "metadata": {},
   "source": [
    "Optionally Binarize the Masked Data"
   ]
  },
  {
   "cell_type": "code",
   "execution_count": null,
   "metadata": {},
   "outputs": [],
   "source": [
    "masked_data = (masked_data > 0).astype(np.float32)"
   ]
  },
  {
   "cell_type": "code",
   "execution_count": null,
   "metadata": {},
   "outputs": [],
   "source": [
    "\n",
    "# Create a new NIFTI image with the masked data and the original affine\n",
    "masked_img = nib.Nifti1Image(masked_data, input_nifti.affine, input_nifti.header)\n",
    "\n",
    "# Save the masked image\n",
    "nib.save(masked_img, '/Users/cu135/Partners HealthCare Dropbox/Calvin Howard/studies/atrophy_seeds_2023/Figures/riMLF_localization/hummingbird_patient_masked_to_rimlf/csf_upsampled_masked_binarized.nii')\n"
   ]
  },
  {
   "cell_type": "markdown",
   "metadata": {},
   "source": [
    "Permute Test For Mask Hit"
   ]
  },
  {
   "cell_type": "code",
   "execution_count": 11,
   "metadata": {},
   "outputs": [],
   "source": []
  },
  {
   "cell_type": "code",
   "execution_count": 55,
   "metadata": {},
   "outputs": [
    {
     "name": "stdout",
     "output_type": "stream",
     "text": [
      "16.0\n"
     ]
    }
   ],
   "source": [
    "import numpy as np\n",
    "import random\n",
    "from tqdm import tqdm\n",
    "\n",
    "# Get the data arrays\n",
    "input_data = input_nifti.get_fdata()\n",
    "target_data = target_nifti.get_fdata()\n",
    "mni_mask_data = mni_mask_nifti.get_fdata()  # Load the MNI mask\n",
    "\n",
    "# Ensure the dimensions of the input data, target data, and MNI mask match\n",
    "if input_data.shape != target_data.shape or input_data.shape != mni_mask_data.shape:\n",
    "    raise ValueError(\"The dimensions of the input NIFTI file, the target NIFTI file, and the MNI mask file do not match.\")\n",
    "\n",
    "# Mask the input and target data with the MNI mask\n",
    "input_data = input_data[mni_mask_data == 1]\n",
    "target_data = target_data[mni_mask_data == 1]\n",
    "\n",
    "# Define the threshold for binarization\n",
    "threshold = 0  # Replace with your desired threshold value\n",
    "\n",
    "# Binarize the target data\n",
    "binary_mask = (target_data > threshold).astype(np.float32)\n",
    "input_data = (input_data > 2).astype(np.float32)\n",
    "\n",
    "observed = input_data*binary_mask\n",
    "print(np.sum(observed))"
   ]
  },
  {
   "cell_type": "code",
   "execution_count": 57,
   "metadata": {},
   "outputs": [
    {
     "name": "stderr",
     "output_type": "stream",
     "text": [
      "100%|██████████| 10000/10000 [00:59<00:00, 169.38it/s]"
     ]
    },
    {
     "name": "stdout",
     "output_type": "stream",
     "text": [
      "Number of hits: 0 out of 10000 permutations.\n"
     ]
    },
    {
     "name": "stderr",
     "output_type": "stream",
     "text": [
      "\n"
     ]
    }
   ],
   "source": [
    "# Permutation test\n",
    "hits = 0\n",
    "num_permutations = 10000\n",
    "\n",
    "for _ in tqdm(range(num_permutations)):\n",
    "    # Permute the input data within the MNI mask\n",
    "    permuted_data = np.random.permutation(input_data)\n",
    "    \n",
    "    # Check if permuted data hits the mask\n",
    "    permuted_masked_data = permuted_data * binary_mask\n",
    "    if np.sum(permuted_masked_data) > 16:\n",
    "        hits += 1\n",
    "\n",
    "print(f\"Number of hits: {hits} out of {num_permutations} permutations.\")\n"
   ]
  },
  {
   "cell_type": "markdown",
   "metadata": {},
   "source": []
  },
  {
   "cell_type": "code",
   "execution_count": 51,
   "metadata": {},
   "outputs": [
    {
     "name": "stdout",
     "output_type": "stream",
     "text": [
      "14142\n"
     ]
    }
   ],
   "source": [
    "print(np.sum(input_data > 0))"
   ]
  },
  {
   "cell_type": "markdown",
   "metadata": {},
   "source": []
  }
 ],
 "metadata": {
  "kernelspec": {
   "display_name": "nimlab_py310",
   "language": "python",
   "name": "python3"
  },
  "language_info": {
   "codemirror_mode": {
    "name": "ipython",
    "version": 3
   },
   "file_extension": ".py",
   "mimetype": "text/x-python",
   "name": "python",
   "nbconvert_exporter": "python",
   "pygments_lexer": "ipython3",
   "version": "3.10.8"
  }
 },
 "nbformat": 4,
 "nbformat_minor": 2
}
