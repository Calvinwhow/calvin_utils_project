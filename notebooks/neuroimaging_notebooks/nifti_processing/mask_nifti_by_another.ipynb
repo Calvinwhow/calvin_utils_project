{
 "cells": [
  {
   "cell_type": "code",
   "execution_count": 3,
   "metadata": {},
   "outputs": [],
   "source": [
    "\n",
    "\n",
    "import nibabel as nib\n",
    "import numpy as np\n",
    "\n",
    "# Load the input NIFTI file and the target NIFTI file\n",
    "input_nifti = nib.load('/Users/cu135/Partners HealthCare Dropbox/Calvin Howard/studies/atrophy_seeds_2023/Figures/hummingbird_for_shan/derivatives/sub-TeKe/ses-01/thresholded_tissue_segment_z_scores/sub-TeKe_white_matter_generated_nifti.nii')\n",
    "target_nifti = nib.load('/Users/cu135/Partners HealthCare Dropbox/Calvin Howard/studies/atrophy_seeds_2023/Figures/riMLF_localization/bl/rIMLF_BL_refined-from-Friedrich2022_MF-HF_075-MNI152_resampled.nii.gz')\n",
    "\n",
    "# Get the data arrays\n",
    "input_data = input_nifti.get_fdata()\n",
    "target_data = target_nifti.get_fdata()\n",
    "\n",
    "# Define the threshold for binarization\n",
    "threshold = 0.001  # Replace with your desired threshold value\n",
    "\n",
    "# Binarize the target data\n",
    "binary_mask = (target_data > threshold).astype(np.float32)\n",
    "\n",
    "# Ensure the dimensions of the input data and binary mask match\n",
    "if input_data.shape != binary_mask.shape:\n",
    "    raise ValueError(\"The dimensions of the input NIFTI file and the target NIFTI file do not match.\")\n",
    "\n",
    "# Apply the binary mask to the input data\n",
    "masked_data = input_data * binary_mask\n",
    "\n",
    "# Create a new NIFTI image with the masked data and the original affine\n",
    "masked_img = nib.Nifti1Image(masked_data, input_nifti.affine, input_nifti.header)\n",
    "\n",
    "# Save the masked image\n",
    "nib.save(masked_img, '/Users/cu135/Partners HealthCare Dropbox/Calvin Howard/studies/atrophy_seeds_2023/Figures/riMLF_localization/hummingbird_patient_masked_to_rimlf/wm_masked_file.nii')\n"
   ]
  },
  {
   "cell_type": "code",
   "execution_count": null,
   "metadata": {},
   "outputs": [],
   "source": []
  }
 ],
 "metadata": {
  "kernelspec": {
   "display_name": "nimlab_py310",
   "language": "python",
   "name": "python3"
  },
  "language_info": {
   "codemirror_mode": {
    "name": "ipython",
    "version": 3
   },
   "file_extension": ".py",
   "mimetype": "text/x-python",
   "name": "python",
   "nbconvert_exporter": "python",
   "pygments_lexer": "ipython3",
   "version": "3.10.8"
  }
 },
 "nbformat": 4,
 "nbformat_minor": 2
}
