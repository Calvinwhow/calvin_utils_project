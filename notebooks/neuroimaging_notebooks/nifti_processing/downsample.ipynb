{
 "cells": [
  {
   "cell_type": "code",
   "execution_count": 1,
   "metadata": {},
   "outputs": [],
   "source": [
    "origin = '/Users/cu135/Library/CloudStorage/OneDrive-Personal/OneDrive_Documents/MATLAB/leaddbs/templates/space/MNI_ICBM_2009b_NLIN_ASYM/atlases/Memory Atlas (Ferguson 2019)/memory_roi.nii'\n",
    "target = '/Users/cu135/hires_backdrops/MNI/MNI152_T1_2mm_brain_mask.nii'\n"
   ]
  },
  {
   "cell_type": "markdown",
   "metadata": {},
   "source": [
    "need to add a function to loop over a folder with glob."
   ]
  },
  {
   "cell_type": "code",
   "execution_count": 2,
   "metadata": {},
   "outputs": [],
   "source": [
    "from calvin_utils.nifti_utils.image_resample import ImageDownSampler\n",
    "t = ImageDownSampler(origin, target)\n",
    "t.resample_img()"
   ]
  },
  {
   "cell_type": "markdown",
   "metadata": {},
   "source": [
    "Glob over files"
   ]
  },
  {
   "cell_type": "code",
   "execution_count": 13,
   "metadata": {},
   "outputs": [],
   "source": [
    "target = '/Users/cu135/hires_backdrops/MNI/MNI152_T1_2mm_brain_mask.nii'\n",
    "glob_pattern = '/Volumes/LMK_Drive/leaddbs/stn_subjects/sub-*/stimulations/MNI152NLin2009bAsym/mostrecentstimulation/sub-*-binary_model-simbio_hemi-R.nii'"
   ]
  },
  {
   "cell_type": "code",
   "execution_count": 14,
   "metadata": {},
   "outputs": [
    {
     "name": "stderr",
     "output_type": "stream",
     "text": [
      "  0%|          | 0/108 [00:00<?, ?it/s]"
     ]
    },
    {
     "name": "stdout",
     "output_type": "stream",
     "text": [
      "Output path set to:  /Volumes/LMK_Drive/leaddbs/stn_subjects/sub-CbctDbs0037/stimulations/MNI152NLin2009bAsym/mostrecentstimulation/sub-CbctDbs0037_sim-binary_model-simbio_hemi-R_resampled.nii\n"
     ]
    },
    {
     "name": "stderr",
     "output_type": "stream",
     "text": [
      "  1%|          | 1/108 [00:01<03:28,  1.95s/it]"
     ]
    },
    {
     "name": "stdout",
     "output_type": "stream",
     "text": [
      "Output path set to:  /Volumes/LMK_Drive/leaddbs/stn_subjects/sub-CbctDbs0040/stimulations/MNI152NLin2009bAsym/mostrecentstimulation/sub-CbctDbs0040_sim-binary_model-simbio_hemi-R_resampled.nii\n"
     ]
    },
    {
     "name": "stderr",
     "output_type": "stream",
     "text": [
      "  2%|▏         | 2/108 [00:03<03:09,  1.79s/it]"
     ]
    },
    {
     "name": "stdout",
     "output_type": "stream",
     "text": [
      "Output path set to:  /Volumes/LMK_Drive/leaddbs/stn_subjects/sub-CbctDbs0041/stimulations/MNI152NLin2009bAsym/mostrecentstimulation/sub-CbctDbs0041_sim-binary_model-simbio_hemi-R_resampled.nii\n"
     ]
    },
    {
     "name": "stderr",
     "output_type": "stream",
     "text": [
      "  3%|▎         | 3/108 [00:05<03:00,  1.72s/it]"
     ]
    },
    {
     "name": "stdout",
     "output_type": "stream",
     "text": [
      "Output path set to:  /Volumes/LMK_Drive/leaddbs/stn_subjects/sub-CbctDbs0043/stimulations/MNI152NLin2009bAsym/mostrecentstimulation/sub-CbctDbs0043_sim-binary_model-simbio_hemi-R_resampled.nii\n"
     ]
    },
    {
     "name": "stderr",
     "output_type": "stream",
     "text": [
      "  4%|▎         | 4/108 [00:06<02:57,  1.70s/it]"
     ]
    },
    {
     "name": "stdout",
     "output_type": "stream",
     "text": [
      "Output path set to:  /Volumes/LMK_Drive/leaddbs/stn_subjects/sub-CbctDbs0048/stimulations/MNI152NLin2009bAsym/mostrecentstimulation/sub-CbctDbs0048_sim-binary_model-simbio_hemi-R_resampled.nii\n"
     ]
    },
    {
     "name": "stderr",
     "output_type": "stream",
     "text": [
      "  5%|▍         | 5/108 [00:08<02:55,  1.70s/it]"
     ]
    },
    {
     "name": "stdout",
     "output_type": "stream",
     "text": [
      "Output path set to:  /Volumes/LMK_Drive/leaddbs/stn_subjects/sub-CbctDbs0049/stimulations/MNI152NLin2009bAsym/mostrecentstimulation/sub-CbctDbs0049_sim-binary_model-simbio_hemi-R_resampled.nii\n"
     ]
    },
    {
     "name": "stderr",
     "output_type": "stream",
     "text": [
      "  6%|▌         | 6/108 [00:10<02:52,  1.69s/it]"
     ]
    },
    {
     "name": "stdout",
     "output_type": "stream",
     "text": [
      "Output path set to:  /Volumes/LMK_Drive/leaddbs/stn_subjects/sub-CbctDbs0052/stimulations/MNI152NLin2009bAsym/mostrecentstimulation/sub-CbctDbs0052_sim-binary_model-simbio_hemi-R_resampled.nii\n"
     ]
    },
    {
     "name": "stderr",
     "output_type": "stream",
     "text": [
      "  6%|▋         | 7/108 [00:11<02:50,  1.69s/it]"
     ]
    },
    {
     "name": "stdout",
     "output_type": "stream",
     "text": [
      "Output path set to:  /Volumes/LMK_Drive/leaddbs/stn_subjects/sub-CbctDbs0053/stimulations/MNI152NLin2009bAsym/mostrecentstimulation/sub-CbctDbs0053_sim-binary_model-simbio_hemi-R_resampled.nii\n"
     ]
    },
    {
     "name": "stderr",
     "output_type": "stream",
     "text": [
      "  7%|▋         | 8/108 [00:13<02:46,  1.66s/it]"
     ]
    },
    {
     "name": "stdout",
     "output_type": "stream",
     "text": [
      "Output path set to:  /Volumes/LMK_Drive/leaddbs/stn_subjects/sub-CbctDbs0054/stimulations/MNI152NLin2009bAsym/mostrecentstimulation/sub-CbctDbs0054_sim-binary_model-simbio_hemi-R_resampled.nii\n"
     ]
    },
    {
     "name": "stderr",
     "output_type": "stream",
     "text": [
      "  8%|▊         | 9/108 [00:15<02:44,  1.67s/it]"
     ]
    },
    {
     "name": "stdout",
     "output_type": "stream",
     "text": [
      "Output path set to:  /Volumes/LMK_Drive/leaddbs/stn_subjects/sub-CbctDbs0055/stimulations/MNI152NLin2009bAsym/mostrecentstimulation/sub-CbctDbs0055_sim-binary_model-simbio_hemi-R_resampled.nii\n"
     ]
    },
    {
     "name": "stderr",
     "output_type": "stream",
     "text": [
      "  9%|▉         | 10/108 [00:16<02:43,  1.66s/it]"
     ]
    },
    {
     "name": "stdout",
     "output_type": "stream",
     "text": [
      "Output path set to:  /Volumes/LMK_Drive/leaddbs/stn_subjects/sub-CbctDbs0056/stimulations/MNI152NLin2009bAsym/mostrecentstimulation/sub-CbctDbs0056_sim-binary_model-simbio_hemi-R_resampled.nii\n"
     ]
    },
    {
     "name": "stderr",
     "output_type": "stream",
     "text": [
      " 10%|█         | 11/108 [00:18<02:41,  1.67s/it]"
     ]
    },
    {
     "name": "stdout",
     "output_type": "stream",
     "text": [
      "Output path set to:  /Volumes/LMK_Drive/leaddbs/stn_subjects/sub-CbctDbs0057/stimulations/MNI152NLin2009bAsym/mostrecentstimulation/sub-CbctDbs0057_sim-binary_model-simbio_hemi-R_resampled.nii\n"
     ]
    },
    {
     "name": "stderr",
     "output_type": "stream",
     "text": [
      " 11%|█         | 12/108 [00:20<02:39,  1.66s/it]"
     ]
    },
    {
     "name": "stdout",
     "output_type": "stream",
     "text": [
      "Output path set to:  /Volumes/LMK_Drive/leaddbs/stn_subjects/sub-CbctDbs0058/stimulations/MNI152NLin2009bAsym/mostrecentstimulation/sub-CbctDbs0058_sim-binary_model-simbio_hemi-R_resampled.nii\n"
     ]
    },
    {
     "name": "stderr",
     "output_type": "stream",
     "text": [
      " 12%|█▏        | 13/108 [00:21<02:37,  1.66s/it]"
     ]
    },
    {
     "name": "stdout",
     "output_type": "stream",
     "text": [
      "Output path set to:  /Volumes/LMK_Drive/leaddbs/stn_subjects/sub-CbctDbs0059/stimulations/MNI152NLin2009bAsym/mostrecentstimulation/sub-CbctDbs0059_sim-binary_model-simbio_hemi-R_resampled.nii\n"
     ]
    },
    {
     "name": "stderr",
     "output_type": "stream",
     "text": [
      " 13%|█▎        | 14/108 [00:23<02:34,  1.64s/it]"
     ]
    },
    {
     "name": "stdout",
     "output_type": "stream",
     "text": [
      "Output path set to:  /Volumes/LMK_Drive/leaddbs/stn_subjects/sub-CbctDbs0060/stimulations/MNI152NLin2009bAsym/mostrecentstimulation/sub-CbctDbs0060_sim-binary_model-simbio_hemi-R_resampled.nii\n"
     ]
    },
    {
     "name": "stderr",
     "output_type": "stream",
     "text": [
      " 14%|█▍        | 15/108 [00:25<02:35,  1.67s/it]"
     ]
    },
    {
     "name": "stdout",
     "output_type": "stream",
     "text": [
      "Output path set to:  /Volumes/LMK_Drive/leaddbs/stn_subjects/sub-CbctDbs0061/stimulations/MNI152NLin2009bAsym/mostrecentstimulation/sub-CbctDbs0061_sim-binary_model-simbio_hemi-R_resampled.nii\n"
     ]
    },
    {
     "name": "stderr",
     "output_type": "stream",
     "text": [
      " 15%|█▍        | 16/108 [00:26<02:32,  1.66s/it]"
     ]
    },
    {
     "name": "stdout",
     "output_type": "stream",
     "text": [
      "Output path set to:  /Volumes/LMK_Drive/leaddbs/stn_subjects/sub-CbctDbs0062/stimulations/MNI152NLin2009bAsym/mostrecentstimulation/sub-CbctDbs0062_sim-binary_model-simbio_hemi-R_resampled.nii\n"
     ]
    },
    {
     "name": "stderr",
     "output_type": "stream",
     "text": [
      " 16%|█▌        | 17/108 [00:28<02:30,  1.66s/it]"
     ]
    },
    {
     "name": "stdout",
     "output_type": "stream",
     "text": [
      "Output path set to:  /Volumes/LMK_Drive/leaddbs/stn_subjects/sub-CbctDbs0064/stimulations/MNI152NLin2009bAsym/mostrecentstimulation/sub-CbctDbs0064_sim-binary_model-simbio_hemi-R_resampled.nii\n"
     ]
    },
    {
     "name": "stderr",
     "output_type": "stream",
     "text": [
      " 17%|█▋        | 18/108 [00:30<02:29,  1.66s/it]"
     ]
    },
    {
     "name": "stdout",
     "output_type": "stream",
     "text": [
      "Output path set to:  /Volumes/LMK_Drive/leaddbs/stn_subjects/sub-CbctDbs0066/stimulations/MNI152NLin2009bAsym/mostrecentstimulation/sub-CbctDbs0066_sim-binary_model-simbio_hemi-R_resampled.nii\n"
     ]
    },
    {
     "name": "stderr",
     "output_type": "stream",
     "text": [
      " 18%|█▊        | 19/108 [00:32<02:31,  1.70s/it]"
     ]
    },
    {
     "name": "stdout",
     "output_type": "stream",
     "text": [
      "Output path set to:  /Volumes/LMK_Drive/leaddbs/stn_subjects/sub-CbctDbs0067/stimulations/MNI152NLin2009bAsym/mostrecentstimulation/sub-CbctDbs0067_sim-binary_model-simbio_hemi-R_resampled.nii\n"
     ]
    },
    {
     "name": "stderr",
     "output_type": "stream",
     "text": [
      " 19%|█▊        | 20/108 [00:33<02:27,  1.68s/it]"
     ]
    },
    {
     "name": "stdout",
     "output_type": "stream",
     "text": [
      "Output path set to:  /Volumes/LMK_Drive/leaddbs/stn_subjects/sub-CbctDbs0071/stimulations/MNI152NLin2009bAsym/mostrecentstimulation/sub-CbctDbs0071_sim-binary_model-simbio_hemi-R_resampled.nii\n"
     ]
    },
    {
     "name": "stderr",
     "output_type": "stream",
     "text": [
      " 19%|█▉        | 21/108 [00:35<02:28,  1.71s/it]"
     ]
    },
    {
     "name": "stdout",
     "output_type": "stream",
     "text": [
      "Output path set to:  /Volumes/LMK_Drive/leaddbs/stn_subjects/sub-CbctDbs0072/stimulations/MNI152NLin2009bAsym/mostrecentstimulation/sub-CbctDbs0072_sim-binary_model-simbio_hemi-R_resampled.nii\n"
     ]
    },
    {
     "name": "stderr",
     "output_type": "stream",
     "text": [
      " 20%|██        | 22/108 [00:37<02:27,  1.72s/it]"
     ]
    },
    {
     "name": "stdout",
     "output_type": "stream",
     "text": [
      "Output path set to:  /Volumes/LMK_Drive/leaddbs/stn_subjects/sub-CbctDbs0073/stimulations/MNI152NLin2009bAsym/mostrecentstimulation/sub-CbctDbs0073_sim-binary_model-simbio_hemi-R_resampled.nii\n"
     ]
    },
    {
     "name": "stderr",
     "output_type": "stream",
     "text": [
      " 21%|██▏       | 23/108 [00:39<02:33,  1.81s/it]"
     ]
    },
    {
     "name": "stdout",
     "output_type": "stream",
     "text": [
      "Output path set to:  /Volumes/LMK_Drive/leaddbs/stn_subjects/sub-CbctDbs0074/stimulations/MNI152NLin2009bAsym/mostrecentstimulation/sub-CbctDbs0074_sim-binary_model-simbio_hemi-R_resampled.nii\n"
     ]
    },
    {
     "name": "stderr",
     "output_type": "stream",
     "text": [
      " 22%|██▏       | 24/108 [00:41<02:44,  1.96s/it]"
     ]
    },
    {
     "name": "stdout",
     "output_type": "stream",
     "text": [
      "Output path set to:  /Volumes/LMK_Drive/leaddbs/stn_subjects/sub-CbctDbs0075/stimulations/MNI152NLin2009bAsym/mostrecentstimulation/sub-CbctDbs0075_sim-binary_model-simbio_hemi-R_resampled.nii\n"
     ]
    },
    {
     "name": "stderr",
     "output_type": "stream",
     "text": [
      " 23%|██▎       | 25/108 [00:43<02:38,  1.91s/it]"
     ]
    },
    {
     "name": "stdout",
     "output_type": "stream",
     "text": [
      "Output path set to:  /Volumes/LMK_Drive/leaddbs/stn_subjects/sub-CbctDbs0076/stimulations/MNI152NLin2009bAsym/mostrecentstimulation/sub-CbctDbs0076_sim-binary_model-simbio_hemi-R_resampled.nii\n"
     ]
    },
    {
     "name": "stderr",
     "output_type": "stream",
     "text": [
      " 24%|██▍       | 26/108 [00:45<02:34,  1.88s/it]"
     ]
    },
    {
     "name": "stdout",
     "output_type": "stream",
     "text": [
      "Output path set to:  /Volumes/LMK_Drive/leaddbs/stn_subjects/sub-CbctDbs0077/stimulations/MNI152NLin2009bAsym/mostrecentstimulation/sub-CbctDbs0077_sim-binary_model-simbio_hemi-R_resampled.nii\n"
     ]
    },
    {
     "name": "stderr",
     "output_type": "stream",
     "text": [
      " 25%|██▌       | 27/108 [00:46<02:30,  1.86s/it]"
     ]
    },
    {
     "name": "stdout",
     "output_type": "stream",
     "text": [
      "Output path set to:  /Volumes/LMK_Drive/leaddbs/stn_subjects/sub-CbctDbs0078/stimulations/MNI152NLin2009bAsym/mostrecentstimulation/sub-CbctDbs0078_sim-binary_model-simbio_hemi-R_resampled.nii\n"
     ]
    },
    {
     "name": "stderr",
     "output_type": "stream",
     "text": [
      " 26%|██▌       | 28/108 [00:48<02:24,  1.80s/it]"
     ]
    },
    {
     "name": "stdout",
     "output_type": "stream",
     "text": [
      "Output path set to:  /Volumes/LMK_Drive/leaddbs/stn_subjects/sub-CbctDbs0079/stimulations/MNI152NLin2009bAsym/mostrecentstimulation/sub-CbctDbs0079_sim-binary_model-simbio_hemi-R_resampled.nii\n"
     ]
    },
    {
     "name": "stderr",
     "output_type": "stream",
     "text": [
      " 27%|██▋       | 29/108 [00:50<02:20,  1.77s/it]"
     ]
    },
    {
     "name": "stdout",
     "output_type": "stream",
     "text": [
      "Output path set to:  /Volumes/LMK_Drive/leaddbs/stn_subjects/sub-CbctDbs0080/stimulations/MNI152NLin2009bAsym/mostrecentstimulation/sub-CbctDbs0080_sim-binary_model-simbio_hemi-R_resampled.nii\n"
     ]
    },
    {
     "name": "stderr",
     "output_type": "stream",
     "text": [
      " 28%|██▊       | 30/108 [00:52<02:17,  1.77s/it]"
     ]
    },
    {
     "name": "stdout",
     "output_type": "stream",
     "text": [
      "Output path set to:  /Volumes/LMK_Drive/leaddbs/stn_subjects/sub-CbctDbs0081/stimulations/MNI152NLin2009bAsym/mostrecentstimulation/sub-CbctDbs0081_sim-binary_model-simbio_hemi-R_resampled.nii\n"
     ]
    },
    {
     "name": "stderr",
     "output_type": "stream",
     "text": [
      " 29%|██▊       | 31/108 [00:53<02:13,  1.73s/it]"
     ]
    },
    {
     "name": "stdout",
     "output_type": "stream",
     "text": [
      "Output path set to:  /Volumes/LMK_Drive/leaddbs/stn_subjects/sub-CbctDbs0082/stimulations/MNI152NLin2009bAsym/mostrecentstimulation/sub-CbctDbs0082_sim-binary_model-simbio_hemi-R_resampled.nii\n"
     ]
    },
    {
     "name": "stderr",
     "output_type": "stream",
     "text": [
      " 30%|██▉       | 32/108 [00:55<02:10,  1.72s/it]"
     ]
    },
    {
     "name": "stdout",
     "output_type": "stream",
     "text": [
      "Output path set to:  /Volumes/LMK_Drive/leaddbs/stn_subjects/sub-CbctDbs0084/stimulations/MNI152NLin2009bAsym/mostrecentstimulation/sub-CbctDbs0084_sim-binary_model-simbio_hemi-R_resampled.nii\n"
     ]
    },
    {
     "name": "stderr",
     "output_type": "stream",
     "text": [
      " 31%|███       | 33/108 [00:57<02:08,  1.71s/it]"
     ]
    },
    {
     "name": "stdout",
     "output_type": "stream",
     "text": [
      "Output path set to:  /Volumes/LMK_Drive/leaddbs/stn_subjects/sub-CbctDbs0085/stimulations/MNI152NLin2009bAsym/mostrecentstimulation/sub-CbctDbs0085_sim-binary_model-simbio_hemi-R_resampled.nii\n"
     ]
    },
    {
     "name": "stderr",
     "output_type": "stream",
     "text": [
      " 31%|███▏      | 34/108 [00:58<02:09,  1.74s/it]"
     ]
    },
    {
     "name": "stdout",
     "output_type": "stream",
     "text": [
      "Output path set to:  /Volumes/LMK_Drive/leaddbs/stn_subjects/sub-CbctDbs0088/stimulations/MNI152NLin2009bAsym/mostrecentstimulation/sub-CbctDbs0088_sim-binary_model-simbio_hemi-R_resampled.nii\n"
     ]
    },
    {
     "name": "stderr",
     "output_type": "stream",
     "text": [
      " 32%|███▏      | 35/108 [01:00<02:06,  1.74s/it]"
     ]
    },
    {
     "name": "stdout",
     "output_type": "stream",
     "text": [
      "Output path set to:  /Volumes/LMK_Drive/leaddbs/stn_subjects/sub-CbctDbs0090/stimulations/MNI152NLin2009bAsym/mostrecentstimulation/sub-CbctDbs0090_sim-binary_model-simbio_hemi-R_resampled.nii\n"
     ]
    },
    {
     "name": "stderr",
     "output_type": "stream",
     "text": [
      " 33%|███▎      | 36/108 [01:02<02:04,  1.73s/it]"
     ]
    },
    {
     "name": "stdout",
     "output_type": "stream",
     "text": [
      "Output path set to:  /Volumes/LMK_Drive/leaddbs/stn_subjects/sub-CbctDbs0091/stimulations/MNI152NLin2009bAsym/mostrecentstimulation/sub-CbctDbs0091_sim-binary_model-simbio_hemi-R_resampled.nii\n"
     ]
    },
    {
     "name": "stderr",
     "output_type": "stream",
     "text": [
      " 34%|███▍      | 37/108 [01:03<02:01,  1.72s/it]"
     ]
    },
    {
     "name": "stdout",
     "output_type": "stream",
     "text": [
      "Output path set to:  /Volumes/LMK_Drive/leaddbs/stn_subjects/sub-CbctDbs0093/stimulations/MNI152NLin2009bAsym/mostrecentstimulation/sub-CbctDbs0093_sim-binary_model-simbio_hemi-R_resampled.nii\n"
     ]
    },
    {
     "name": "stderr",
     "output_type": "stream",
     "text": [
      " 35%|███▌      | 38/108 [01:05<02:01,  1.74s/it]"
     ]
    },
    {
     "name": "stdout",
     "output_type": "stream",
     "text": [
      "Output path set to:  /Volumes/LMK_Drive/leaddbs/stn_subjects/sub-CbctDbs0095/stimulations/MNI152NLin2009bAsym/mostrecentstimulation/sub-CbctDbs0095_sim-binary_model-simbio_hemi-R_resampled.nii\n"
     ]
    },
    {
     "name": "stderr",
     "output_type": "stream",
     "text": [
      " 36%|███▌      | 39/108 [01:07<01:59,  1.73s/it]"
     ]
    },
    {
     "name": "stdout",
     "output_type": "stream",
     "text": [
      "Output path set to:  /Volumes/LMK_Drive/leaddbs/stn_subjects/sub-CbctDbs0096/stimulations/MNI152NLin2009bAsym/mostrecentstimulation/sub-CbctDbs0096_sim-binary_model-simbio_hemi-R_resampled.nii\n"
     ]
    },
    {
     "name": "stderr",
     "output_type": "stream",
     "text": [
      " 37%|███▋      | 40/108 [01:09<01:56,  1.71s/it]"
     ]
    },
    {
     "name": "stdout",
     "output_type": "stream",
     "text": [
      "Output path set to:  /Volumes/LMK_Drive/leaddbs/stn_subjects/sub-CbctDbs0097/stimulations/MNI152NLin2009bAsym/mostrecentstimulation/sub-CbctDbs0097_sim-binary_model-simbio_hemi-R_resampled.nii\n"
     ]
    },
    {
     "name": "stderr",
     "output_type": "stream",
     "text": [
      " 38%|███▊      | 41/108 [01:10<01:55,  1.72s/it]"
     ]
    },
    {
     "name": "stdout",
     "output_type": "stream",
     "text": [
      "Output path set to:  /Volumes/LMK_Drive/leaddbs/stn_subjects/sub-CbctDbs0098/stimulations/MNI152NLin2009bAsym/mostrecentstimulation/sub-CbctDbs0098_sim-binary_model-simbio_hemi-R_resampled.nii\n"
     ]
    },
    {
     "name": "stderr",
     "output_type": "stream",
     "text": [
      " 39%|███▉      | 42/108 [01:12<01:53,  1.71s/it]"
     ]
    },
    {
     "name": "stdout",
     "output_type": "stream",
     "text": [
      "Output path set to:  /Volumes/LMK_Drive/leaddbs/stn_subjects/sub-CbctDbs0099/stimulations/MNI152NLin2009bAsym/mostrecentstimulation/sub-CbctDbs0099_sim-binary_model-simbio_hemi-R_resampled.nii\n"
     ]
    },
    {
     "name": "stderr",
     "output_type": "stream",
     "text": [
      " 40%|███▉      | 43/108 [01:14<01:51,  1.71s/it]"
     ]
    },
    {
     "name": "stdout",
     "output_type": "stream",
     "text": [
      "Output path set to:  /Volumes/LMK_Drive/leaddbs/stn_subjects/sub-CbctDbs0101/stimulations/MNI152NLin2009bAsym/mostrecentstimulation/sub-CbctDbs0101_sim-binary_model-simbio_hemi-R_resampled.nii\n"
     ]
    },
    {
     "name": "stderr",
     "output_type": "stream",
     "text": [
      " 41%|████      | 44/108 [01:15<01:47,  1.68s/it]"
     ]
    },
    {
     "name": "stdout",
     "output_type": "stream",
     "text": [
      "Output path set to:  /Volumes/LMK_Drive/leaddbs/stn_subjects/sub-CbctDbs0102/stimulations/MNI152NLin2009bAsym/mostrecentstimulation/sub-CbctDbs0102_sim-binary_model-simbio_hemi-R_resampled.nii\n"
     ]
    },
    {
     "name": "stderr",
     "output_type": "stream",
     "text": [
      " 42%|████▏     | 45/108 [01:17<01:46,  1.69s/it]"
     ]
    },
    {
     "name": "stdout",
     "output_type": "stream",
     "text": [
      "Output path set to:  /Volumes/LMK_Drive/leaddbs/stn_subjects/sub-CbctDbs0103/stimulations/MNI152NLin2009bAsym/mostrecentstimulation/sub-CbctDbs0103_sim-binary_model-simbio_hemi-R_resampled.nii\n"
     ]
    },
    {
     "name": "stderr",
     "output_type": "stream",
     "text": [
      " 43%|████▎     | 46/108 [01:19<01:43,  1.67s/it]"
     ]
    },
    {
     "name": "stdout",
     "output_type": "stream",
     "text": [
      "Output path set to:  /Volumes/LMK_Drive/leaddbs/stn_subjects/sub-CbctDbs0115/stimulations/MNI152NLin2009bAsym/mostrecentstimulation/sub-CbctDbs0115_sim-binary_model-simbio_hemi-R_resampled.nii\n"
     ]
    },
    {
     "name": "stderr",
     "output_type": "stream",
     "text": [
      " 44%|████▎     | 47/108 [01:21<01:43,  1.70s/it]"
     ]
    },
    {
     "name": "stdout",
     "output_type": "stream",
     "text": [
      "Output path set to:  /Volumes/LMK_Drive/leaddbs/stn_subjects/sub-CbctDbs0126/stimulations/MNI152NLin2009bAsym/mostrecentstimulation/sub-CbctDbs0126_sim-binary_model-simbio_hemi-R_resampled.nii\n"
     ]
    },
    {
     "name": "stderr",
     "output_type": "stream",
     "text": [
      " 44%|████▍     | 48/108 [01:22<01:43,  1.73s/it]"
     ]
    },
    {
     "name": "stdout",
     "output_type": "stream",
     "text": [
      "Output path set to:  /Volumes/LMK_Drive/leaddbs/stn_subjects/sub-CbctDbs0127/stimulations/MNI152NLin2009bAsym/mostrecentstimulation/sub-CbctDbs0127_sim-binary_model-simbio_hemi-R_resampled.nii\n"
     ]
    },
    {
     "name": "stderr",
     "output_type": "stream",
     "text": [
      " 45%|████▌     | 49/108 [01:24<01:44,  1.77s/it]"
     ]
    },
    {
     "name": "stdout",
     "output_type": "stream",
     "text": [
      "Output path set to:  /Volumes/LMK_Drive/leaddbs/stn_subjects/sub-CbctDbs0128/stimulations/MNI152NLin2009bAsym/mostrecentstimulation/sub-CbctDbs0128_sim-binary_model-simbio_hemi-R_resampled.nii\n"
     ]
    },
    {
     "name": "stderr",
     "output_type": "stream",
     "text": [
      " 46%|████▋     | 50/108 [01:26<01:42,  1.77s/it]"
     ]
    },
    {
     "name": "stdout",
     "output_type": "stream",
     "text": [
      "Output path set to:  /Volumes/LMK_Drive/leaddbs/stn_subjects/sub-CbctDbs0129/stimulations/MNI152NLin2009bAsym/mostrecentstimulation/sub-CbctDbs0129_sim-binary_model-simbio_hemi-R_resampled.nii\n"
     ]
    },
    {
     "name": "stderr",
     "output_type": "stream",
     "text": [
      " 47%|████▋     | 51/108 [01:28<01:40,  1.76s/it]"
     ]
    },
    {
     "name": "stdout",
     "output_type": "stream",
     "text": [
      "Output path set to:  /Volumes/LMK_Drive/leaddbs/stn_subjects/sub-CbctDbs0131/stimulations/MNI152NLin2009bAsym/mostrecentstimulation/sub-CbctDbs0131_sim-binary_model-simbio_hemi-R_resampled.nii\n"
     ]
    },
    {
     "name": "stderr",
     "output_type": "stream",
     "text": [
      " 48%|████▊     | 52/108 [01:29<01:36,  1.72s/it]"
     ]
    },
    {
     "name": "stdout",
     "output_type": "stream",
     "text": [
      "Output path set to:  /Volumes/LMK_Drive/leaddbs/stn_subjects/sub-CbctDbs0152/stimulations/MNI152NLin2009bAsym/mostrecentstimulation/sub-CbctDbs0152_sim-binary_model-simbio_hemi-R_resampled.nii\n"
     ]
    },
    {
     "name": "stderr",
     "output_type": "stream",
     "text": [
      " 49%|████▉     | 53/108 [01:31<01:33,  1.70s/it]"
     ]
    },
    {
     "name": "stdout",
     "output_type": "stream",
     "text": [
      "Output path set to:  /Volumes/LMK_Drive/leaddbs/stn_subjects/sub-CbctDbs0156/stimulations/MNI152NLin2009bAsym/mostrecentstimulation/sub-CbctDbs0156_sim-binary_model-simbio_hemi-R_resampled.nii\n"
     ]
    },
    {
     "name": "stderr",
     "output_type": "stream",
     "text": [
      " 50%|█████     | 54/108 [01:33<01:32,  1.72s/it]"
     ]
    },
    {
     "name": "stdout",
     "output_type": "stream",
     "text": [
      "Output path set to:  /Volumes/LMK_Drive/leaddbs/stn_subjects/sub-CbctDbs0174/stimulations/MNI152NLin2009bAsym/mostrecentstimulation/sub-CbctDbs0174_sim-binary_model-simbio_hemi-R_resampled.nii\n"
     ]
    },
    {
     "name": "stderr",
     "output_type": "stream",
     "text": [
      " 51%|█████     | 55/108 [01:34<01:29,  1.69s/it]"
     ]
    },
    {
     "name": "stdout",
     "output_type": "stream",
     "text": [
      "Output path set to:  /Volumes/LMK_Drive/leaddbs/stn_subjects/sub-CbctDbs0176/stimulations/MNI152NLin2009bAsym/mostrecentstimulation/sub-CbctDbs0176_sim-binary_model-simbio_hemi-R_resampled.nii\n"
     ]
    },
    {
     "name": "stderr",
     "output_type": "stream",
     "text": [
      " 52%|█████▏    | 56/108 [01:36<01:27,  1.69s/it]"
     ]
    },
    {
     "name": "stdout",
     "output_type": "stream",
     "text": [
      "Output path set to:  /Volumes/LMK_Drive/leaddbs/stn_subjects/sub-CbctDbs0184/stimulations/MNI152NLin2009bAsym/mostrecentstimulation/sub-CbctDbs0184_sim-binary_model-simbio_hemi-R_resampled.nii\n"
     ]
    },
    {
     "name": "stderr",
     "output_type": "stream",
     "text": [
      " 53%|█████▎    | 57/108 [01:38<01:25,  1.69s/it]"
     ]
    },
    {
     "name": "stdout",
     "output_type": "stream",
     "text": [
      "Output path set to:  /Volumes/LMK_Drive/leaddbs/stn_subjects/sub-CbctDbs0186/stimulations/MNI152NLin2009bAsym/mostrecentstimulation/sub-CbctDbs0186_sim-binary_model-simbio_hemi-R_resampled.nii\n"
     ]
    },
    {
     "name": "stderr",
     "output_type": "stream",
     "text": [
      " 54%|█████▎    | 58/108 [01:39<01:23,  1.67s/it]"
     ]
    },
    {
     "name": "stdout",
     "output_type": "stream",
     "text": [
      "Output path set to:  /Volumes/LMK_Drive/leaddbs/stn_subjects/sub-CbctDbs0187/stimulations/MNI152NLin2009bAsym/mostrecentstimulation/sub-CbctDbs0187_sim-binary_model-simbio_hemi-R_resampled.nii\n"
     ]
    },
    {
     "name": "stderr",
     "output_type": "stream",
     "text": [
      " 55%|█████▍    | 59/108 [01:41<01:22,  1.68s/it]"
     ]
    },
    {
     "name": "stdout",
     "output_type": "stream",
     "text": [
      "Output path set to:  /Volumes/LMK_Drive/leaddbs/stn_subjects/sub-CbctDbs0190/stimulations/MNI152NLin2009bAsym/mostrecentstimulation/sub-CbctDbs0190_sim-binary_model-simbio_hemi-R_resampled.nii\n"
     ]
    },
    {
     "name": "stderr",
     "output_type": "stream",
     "text": [
      " 56%|█████▌    | 60/108 [01:43<01:20,  1.68s/it]"
     ]
    },
    {
     "name": "stdout",
     "output_type": "stream",
     "text": [
      "Output path set to:  /Volumes/LMK_Drive/leaddbs/stn_subjects/sub-CbctDbs0201/stimulations/MNI152NLin2009bAsym/mostrecentstimulation/sub-CbctDbs0201_sim-binary_model-simbio_hemi-R_resampled.nii\n"
     ]
    },
    {
     "name": "stderr",
     "output_type": "stream",
     "text": [
      " 56%|█████▋    | 61/108 [01:45<01:21,  1.73s/it]"
     ]
    },
    {
     "name": "stdout",
     "output_type": "stream",
     "text": [
      "Output path set to:  /Volumes/LMK_Drive/leaddbs/stn_subjects/sub-CbctDbs0203/stimulations/MNI152NLin2009bAsym/mostrecentstimulation/sub-CbctDbs0203_sim-binary_model-simbio_hemi-R_resampled.nii\n"
     ]
    },
    {
     "name": "stderr",
     "output_type": "stream",
     "text": [
      " 57%|█████▋    | 62/108 [01:47<01:33,  2.02s/it]"
     ]
    },
    {
     "name": "stdout",
     "output_type": "stream",
     "text": [
      "Output path set to:  /Volumes/LMK_Drive/leaddbs/stn_subjects/sub-CbctDbs0205/stimulations/MNI152NLin2009bAsym/mostrecentstimulation/sub-CbctDbs0205_sim-binary_model-simbio_hemi-R_resampled.nii\n"
     ]
    },
    {
     "name": "stderr",
     "output_type": "stream",
     "text": [
      " 58%|█████▊    | 63/108 [01:49<01:27,  1.95s/it]"
     ]
    },
    {
     "name": "stdout",
     "output_type": "stream",
     "text": [
      "Output path set to:  /Volumes/LMK_Drive/leaddbs/stn_subjects/sub-CbctDbs0206/stimulations/MNI152NLin2009bAsym/mostrecentstimulation/sub-CbctDbs0206_sim-binary_model-simbio_hemi-R_resampled.nii\n"
     ]
    },
    {
     "name": "stderr",
     "output_type": "stream",
     "text": [
      " 59%|█████▉    | 64/108 [01:51<01:22,  1.87s/it]"
     ]
    },
    {
     "name": "stdout",
     "output_type": "stream",
     "text": [
      "Output path set to:  /Volumes/LMK_Drive/leaddbs/stn_subjects/sub-CbctDbs0208/stimulations/MNI152NLin2009bAsym/mostrecentstimulation/sub-CbctDbs0208_sim-binary_model-simbio_hemi-R_resampled.nii\n"
     ]
    },
    {
     "name": "stderr",
     "output_type": "stream",
     "text": [
      " 60%|██████    | 65/108 [01:52<01:16,  1.78s/it]"
     ]
    },
    {
     "name": "stdout",
     "output_type": "stream",
     "text": [
      "Output path set to:  /Volumes/LMK_Drive/leaddbs/stn_subjects/sub-CbctDbs0209/stimulations/MNI152NLin2009bAsym/mostrecentstimulation/sub-CbctDbs0209_sim-binary_model-simbio_hemi-R_resampled.nii\n"
     ]
    },
    {
     "name": "stderr",
     "output_type": "stream",
     "text": [
      " 61%|██████    | 66/108 [01:54<01:15,  1.80s/it]"
     ]
    },
    {
     "name": "stdout",
     "output_type": "stream",
     "text": [
      "Output path set to:  /Volumes/LMK_Drive/leaddbs/stn_subjects/sub-CbctDbs0211/stimulations/MNI152NLin2009bAsym/mostrecentstimulation/sub-CbctDbs0211_sim-binary_model-simbio_hemi-R_resampled.nii\n"
     ]
    },
    {
     "name": "stderr",
     "output_type": "stream",
     "text": [
      " 62%|██████▏   | 67/108 [01:56<01:11,  1.76s/it]"
     ]
    },
    {
     "name": "stdout",
     "output_type": "stream",
     "text": [
      "Output path set to:  /Volumes/LMK_Drive/leaddbs/stn_subjects/sub-CbctDbs0214/stimulations/MNI152NLin2009bAsym/mostrecentstimulation/sub-CbctDbs0214_sim-binary_model-simbio_hemi-R_resampled.nii\n"
     ]
    },
    {
     "name": "stderr",
     "output_type": "stream",
     "text": [
      " 63%|██████▎   | 68/108 [01:58<01:09,  1.75s/it]"
     ]
    },
    {
     "name": "stdout",
     "output_type": "stream",
     "text": [
      "Output path set to:  /Volumes/LMK_Drive/leaddbs/stn_subjects/sub-CbctDbs0221/stimulations/MNI152NLin2009bAsym/mostrecentstimulation/sub-CbctDbs0221_sim-binary_model-simbio_hemi-R_resampled.nii\n"
     ]
    },
    {
     "name": "stderr",
     "output_type": "stream",
     "text": [
      " 64%|██████▍   | 69/108 [01:59<01:07,  1.73s/it]"
     ]
    },
    {
     "name": "stdout",
     "output_type": "stream",
     "text": [
      "Output path set to:  /Volumes/LMK_Drive/leaddbs/stn_subjects/sub-CbctDbs0223/stimulations/MNI152NLin2009bAsym/mostrecentstimulation/sub-CbctDbs0223_sim-binary_model-simbio_hemi-R_resampled.nii\n"
     ]
    },
    {
     "name": "stderr",
     "output_type": "stream",
     "text": [
      " 65%|██████▍   | 70/108 [02:01<01:05,  1.73s/it]"
     ]
    },
    {
     "name": "stdout",
     "output_type": "stream",
     "text": [
      "Output path set to:  /Volumes/LMK_Drive/leaddbs/stn_subjects/sub-CbctDbs0224/stimulations/MNI152NLin2009bAsym/mostrecentstimulation/sub-CbctDbs0224_sim-binary_model-simbio_hemi-R_resampled.nii\n"
     ]
    },
    {
     "name": "stderr",
     "output_type": "stream",
     "text": [
      " 66%|██████▌   | 71/108 [02:03<01:07,  1.82s/it]"
     ]
    },
    {
     "name": "stdout",
     "output_type": "stream",
     "text": [
      "Output path set to:  /Volumes/LMK_Drive/leaddbs/stn_subjects/sub-CbctDbs0230/stimulations/MNI152NLin2009bAsym/mostrecentstimulation/sub-CbctDbs0230_sim-binary_model-simbio_hemi-R_resampled.nii\n"
     ]
    },
    {
     "name": "stderr",
     "output_type": "stream",
     "text": [
      " 67%|██████▋   | 72/108 [02:05<01:04,  1.81s/it]"
     ]
    },
    {
     "name": "stdout",
     "output_type": "stream",
     "text": [
      "Output path set to:  /Volumes/LMK_Drive/leaddbs/stn_subjects/sub-CbctDbs0232/stimulations/MNI152NLin2009bAsym/mostrecentstimulation/sub-CbctDbs0232_sim-binary_model-simbio_hemi-R_resampled.nii\n"
     ]
    },
    {
     "name": "stderr",
     "output_type": "stream",
     "text": [
      " 68%|██████▊   | 73/108 [02:07<01:04,  1.84s/it]"
     ]
    },
    {
     "name": "stdout",
     "output_type": "stream",
     "text": [
      "Output path set to:  /Volumes/LMK_Drive/leaddbs/stn_subjects/sub-CbctDbs0233/stimulations/MNI152NLin2009bAsym/mostrecentstimulation/sub-CbctDbs0233_sim-binary_model-simbio_hemi-R_resampled.nii\n"
     ]
    },
    {
     "name": "stderr",
     "output_type": "stream",
     "text": [
      " 69%|██████▊   | 74/108 [02:08<01:01,  1.80s/it]"
     ]
    },
    {
     "name": "stdout",
     "output_type": "stream",
     "text": [
      "Output path set to:  /Volumes/LMK_Drive/leaddbs/stn_subjects/sub-CbctDbs0235/stimulations/MNI152NLin2009bAsym/mostrecentstimulation/sub-CbctDbs0235_sim-binary_model-simbio_hemi-R_resampled.nii\n"
     ]
    },
    {
     "name": "stderr",
     "output_type": "stream",
     "text": [
      " 69%|██████▉   | 75/108 [02:10<00:58,  1.76s/it]"
     ]
    },
    {
     "name": "stdout",
     "output_type": "stream",
     "text": [
      "Output path set to:  /Volumes/LMK_Drive/leaddbs/stn_subjects/sub-CbctDbs0237/stimulations/MNI152NLin2009bAsym/mostrecentstimulation/sub-CbctDbs0237_sim-binary_model-simbio_hemi-R_resampled.nii\n"
     ]
    },
    {
     "name": "stderr",
     "output_type": "stream",
     "text": [
      " 70%|███████   | 76/108 [02:12<00:56,  1.76s/it]"
     ]
    },
    {
     "name": "stdout",
     "output_type": "stream",
     "text": [
      "Output path set to:  /Volumes/LMK_Drive/leaddbs/stn_subjects/sub-CbctDbs0242/stimulations/MNI152NLin2009bAsym/mostrecentstimulation/sub-CbctDbs0242_sim-binary_model-simbio_hemi-R_resampled.nii\n"
     ]
    },
    {
     "name": "stderr",
     "output_type": "stream",
     "text": [
      " 71%|███████▏  | 77/108 [02:14<00:53,  1.74s/it]"
     ]
    },
    {
     "name": "stdout",
     "output_type": "stream",
     "text": [
      "Output path set to:  /Volumes/LMK_Drive/leaddbs/stn_subjects/sub-CbctDbs0247/stimulations/MNI152NLin2009bAsym/mostrecentstimulation/sub-CbctDbs0247_sim-binary_model-simbio_hemi-R_resampled.nii\n"
     ]
    },
    {
     "name": "stderr",
     "output_type": "stream",
     "text": [
      " 72%|███████▏  | 78/108 [02:15<00:51,  1.72s/it]"
     ]
    },
    {
     "name": "stdout",
     "output_type": "stream",
     "text": [
      "Output path set to:  /Volumes/LMK_Drive/leaddbs/stn_subjects/sub-CbctDbs0248/stimulations/MNI152NLin2009bAsym/mostrecentstimulation/sub-CbctDbs0248_sim-binary_model-simbio_hemi-R_resampled.nii\n"
     ]
    },
    {
     "name": "stderr",
     "output_type": "stream",
     "text": [
      " 73%|███████▎  | 79/108 [02:17<00:49,  1.71s/it]"
     ]
    },
    {
     "name": "stdout",
     "output_type": "stream",
     "text": [
      "Output path set to:  /Volumes/LMK_Drive/leaddbs/stn_subjects/sub-CbctDbs0249/stimulations/MNI152NLin2009bAsym/mostrecentstimulation/sub-CbctDbs0249_sim-binary_model-simbio_hemi-R_resampled.nii\n"
     ]
    },
    {
     "name": "stderr",
     "output_type": "stream",
     "text": [
      " 74%|███████▍  | 80/108 [02:19<00:47,  1.69s/it]"
     ]
    },
    {
     "name": "stdout",
     "output_type": "stream",
     "text": [
      "Output path set to:  /Volumes/LMK_Drive/leaddbs/stn_subjects/sub-CbctDbs0251/stimulations/MNI152NLin2009bAsym/mostrecentstimulation/sub-CbctDbs0251_sim-binary_model-simbio_hemi-R_resampled.nii\n"
     ]
    },
    {
     "name": "stderr",
     "output_type": "stream",
     "text": [
      " 75%|███████▌  | 81/108 [02:20<00:45,  1.68s/it]"
     ]
    },
    {
     "name": "stdout",
     "output_type": "stream",
     "text": [
      "Output path set to:  /Volumes/LMK_Drive/leaddbs/stn_subjects/sub-CbctDbs0254/stimulations/MNI152NLin2009bAsym/mostrecentstimulation/sub-CbctDbs0254_sim-binary_model-simbio_hemi-R_resampled.nii\n"
     ]
    },
    {
     "name": "stderr",
     "output_type": "stream",
     "text": [
      " 76%|███████▌  | 82/108 [02:22<00:44,  1.71s/it]"
     ]
    },
    {
     "name": "stdout",
     "output_type": "stream",
     "text": [
      "Output path set to:  /Volumes/LMK_Drive/leaddbs/stn_subjects/sub-CbctDbs0255/stimulations/MNI152NLin2009bAsym/mostrecentstimulation/sub-CbctDbs0255_sim-binary_model-simbio_hemi-R_resampled.nii\n"
     ]
    },
    {
     "name": "stderr",
     "output_type": "stream",
     "text": [
      " 77%|███████▋  | 83/108 [02:24<00:42,  1.70s/it]"
     ]
    },
    {
     "name": "stdout",
     "output_type": "stream",
     "text": [
      "Output path set to:  /Volumes/LMK_Drive/leaddbs/stn_subjects/sub-CbctDbs0257/stimulations/MNI152NLin2009bAsym/mostrecentstimulation/sub-CbctDbs0257_sim-binary_model-simbio_hemi-R_resampled.nii\n"
     ]
    },
    {
     "name": "stderr",
     "output_type": "stream",
     "text": [
      " 78%|███████▊  | 84/108 [02:25<00:40,  1.70s/it]"
     ]
    },
    {
     "name": "stdout",
     "output_type": "stream",
     "text": [
      "Output path set to:  /Volumes/LMK_Drive/leaddbs/stn_subjects/sub-CbctDbs0258/stimulations/MNI152NLin2009bAsym/mostrecentstimulation/sub-CbctDbs0258_sim-binary_model-simbio_hemi-R_resampled.nii\n"
     ]
    },
    {
     "name": "stderr",
     "output_type": "stream",
     "text": [
      " 79%|███████▊  | 85/108 [02:27<00:38,  1.69s/it]"
     ]
    },
    {
     "name": "stdout",
     "output_type": "stream",
     "text": [
      "Output path set to:  /Volumes/LMK_Drive/leaddbs/stn_subjects/sub-CbctDbs0260/stimulations/MNI152NLin2009bAsym/mostrecentstimulation/sub-CbctDbs0260_sim-binary_model-simbio_hemi-R_resampled.nii\n"
     ]
    },
    {
     "name": "stderr",
     "output_type": "stream",
     "text": [
      " 80%|███████▉  | 86/108 [02:29<00:36,  1.66s/it]"
     ]
    },
    {
     "name": "stdout",
     "output_type": "stream",
     "text": [
      "Output path set to:  /Volumes/LMK_Drive/leaddbs/stn_subjects/sub-CbctDbs0261/stimulations/MNI152NLin2009bAsym/mostrecentstimulation/sub-CbctDbs0261_sim-binary_model-simbio_hemi-R_resampled.nii\n"
     ]
    },
    {
     "name": "stderr",
     "output_type": "stream",
     "text": [
      " 81%|████████  | 87/108 [02:30<00:34,  1.65s/it]"
     ]
    },
    {
     "name": "stdout",
     "output_type": "stream",
     "text": [
      "Output path set to:  /Volumes/LMK_Drive/leaddbs/stn_subjects/sub-CbctDbs0264/stimulations/MNI152NLin2009bAsym/mostrecentstimulation/sub-CbctDbs0264_sim-binary_model-simbio_hemi-R_resampled.nii\n"
     ]
    },
    {
     "name": "stderr",
     "output_type": "stream",
     "text": [
      " 81%|████████▏ | 88/108 [02:32<00:32,  1.65s/it]"
     ]
    },
    {
     "name": "stdout",
     "output_type": "stream",
     "text": [
      "Output path set to:  /Volumes/LMK_Drive/leaddbs/stn_subjects/sub-CbctDbs0265/stimulations/MNI152NLin2009bAsym/mostrecentstimulation/sub-CbctDbs0265_sim-binary_model-simbio_hemi-R_resampled.nii\n"
     ]
    },
    {
     "name": "stderr",
     "output_type": "stream",
     "text": [
      " 82%|████████▏ | 89/108 [02:34<00:31,  1.64s/it]"
     ]
    },
    {
     "name": "stdout",
     "output_type": "stream",
     "text": [
      "Output path set to:  /Volumes/LMK_Drive/leaddbs/stn_subjects/sub-CbctDbs0266/stimulations/MNI152NLin2009bAsym/mostrecentstimulation/sub-CbctDbs0266_sim-binary_model-simbio_hemi-R_resampled.nii\n"
     ]
    },
    {
     "name": "stderr",
     "output_type": "stream",
     "text": [
      " 83%|████████▎ | 90/108 [02:35<00:29,  1.66s/it]"
     ]
    },
    {
     "name": "stdout",
     "output_type": "stream",
     "text": [
      "Output path set to:  /Volumes/LMK_Drive/leaddbs/stn_subjects/sub-CbctDbs0267/stimulations/MNI152NLin2009bAsym/mostrecentstimulation/sub-CbctDbs0267_sim-binary_model-simbio_hemi-R_resampled.nii\n"
     ]
    },
    {
     "name": "stderr",
     "output_type": "stream",
     "text": [
      " 84%|████████▍ | 91/108 [02:37<00:28,  1.66s/it]"
     ]
    },
    {
     "name": "stdout",
     "output_type": "stream",
     "text": [
      "Output path set to:  /Volumes/LMK_Drive/leaddbs/stn_subjects/sub-CbctDbs0270/stimulations/MNI152NLin2009bAsym/mostrecentstimulation/sub-CbctDbs0270_sim-binary_model-simbio_hemi-R_resampled.nii\n"
     ]
    },
    {
     "name": "stderr",
     "output_type": "stream",
     "text": [
      " 85%|████████▌ | 92/108 [02:39<00:27,  1.69s/it]"
     ]
    },
    {
     "name": "stdout",
     "output_type": "stream",
     "text": [
      "Output path set to:  /Volumes/LMK_Drive/leaddbs/stn_subjects/sub-CbctDbs0272/stimulations/MNI152NLin2009bAsym/mostrecentstimulation/sub-CbctDbs0272_sim-binary_model-simbio_hemi-R_resampled.nii\n"
     ]
    },
    {
     "name": "stderr",
     "output_type": "stream",
     "text": [
      " 86%|████████▌ | 93/108 [02:40<00:24,  1.66s/it]"
     ]
    },
    {
     "name": "stdout",
     "output_type": "stream",
     "text": [
      "Output path set to:  /Volumes/LMK_Drive/leaddbs/stn_subjects/sub-CbctDbs0280/stimulations/MNI152NLin2009bAsym/mostrecentstimulation/sub-CbctDbs0280_sim-binary_model-simbio_hemi-R_resampled.nii\n"
     ]
    },
    {
     "name": "stderr",
     "output_type": "stream",
     "text": [
      " 87%|████████▋ | 94/108 [02:42<00:23,  1.66s/it]"
     ]
    },
    {
     "name": "stdout",
     "output_type": "stream",
     "text": [
      "Output path set to:  /Volumes/LMK_Drive/leaddbs/stn_subjects/sub-CbctDbs0282/stimulations/MNI152NLin2009bAsym/mostrecentstimulation/sub-CbctDbs0282_sim-binary_model-simbio_hemi-R_resampled.nii\n"
     ]
    },
    {
     "name": "stderr",
     "output_type": "stream",
     "text": [
      " 88%|████████▊ | 95/108 [02:44<00:21,  1.66s/it]"
     ]
    },
    {
     "name": "stdout",
     "output_type": "stream",
     "text": [
      "Output path set to:  /Volumes/LMK_Drive/leaddbs/stn_subjects/sub-CbctDbs0283/stimulations/MNI152NLin2009bAsym/mostrecentstimulation/sub-CbctDbs0283_sim-binary_model-simbio_hemi-R_resampled.nii\n"
     ]
    },
    {
     "name": "stderr",
     "output_type": "stream",
     "text": [
      " 89%|████████▉ | 96/108 [02:45<00:20,  1.67s/it]"
     ]
    },
    {
     "name": "stdout",
     "output_type": "stream",
     "text": [
      "Output path set to:  /Volumes/LMK_Drive/leaddbs/stn_subjects/sub-CbctDbs0287/stimulations/MNI152NLin2009bAsym/mostrecentstimulation/sub-CbctDbs0287_sim-binary_model-simbio_hemi-R_resampled.nii\n"
     ]
    },
    {
     "name": "stderr",
     "output_type": "stream",
     "text": [
      " 90%|████████▉ | 97/108 [02:47<00:18,  1.68s/it]"
     ]
    },
    {
     "name": "stdout",
     "output_type": "stream",
     "text": [
      "Output path set to:  /Volumes/LMK_Drive/leaddbs/stn_subjects/sub-CbctDbs0290/stimulations/MNI152NLin2009bAsym/mostrecentstimulation/sub-CbctDbs0290_sim-binary_model-simbio_hemi-R_resampled.nii\n"
     ]
    },
    {
     "name": "stderr",
     "output_type": "stream",
     "text": [
      " 91%|█████████ | 98/108 [02:49<00:16,  1.68s/it]"
     ]
    },
    {
     "name": "stdout",
     "output_type": "stream",
     "text": [
      "Output path set to:  /Volumes/LMK_Drive/leaddbs/stn_subjects/sub-CbctDbs0291/stimulations/MNI152NLin2009bAsym/mostrecentstimulation/sub-CbctDbs0291_sim-binary_model-simbio_hemi-R_resampled.nii\n"
     ]
    },
    {
     "name": "stderr",
     "output_type": "stream",
     "text": [
      " 92%|█████████▏| 99/108 [02:50<00:15,  1.69s/it]"
     ]
    },
    {
     "name": "stdout",
     "output_type": "stream",
     "text": [
      "Output path set to:  /Volumes/LMK_Drive/leaddbs/stn_subjects/sub-CbctDbs0293/stimulations/MNI152NLin2009bAsym/mostrecentstimulation/sub-CbctDbs0293_sim-binary_model-simbio_hemi-R_resampled.nii\n"
     ]
    },
    {
     "name": "stderr",
     "output_type": "stream",
     "text": [
      " 93%|█████████▎| 100/108 [02:52<00:13,  1.70s/it]"
     ]
    },
    {
     "name": "stdout",
     "output_type": "stream",
     "text": [
      "Output path set to:  /Volumes/LMK_Drive/leaddbs/stn_subjects/sub-CbctDbs0294/stimulations/MNI152NLin2009bAsym/mostrecentstimulation/sub-CbctDbs0294_sim-binary_model-simbio_hemi-R_resampled.nii\n"
     ]
    },
    {
     "name": "stderr",
     "output_type": "stream",
     "text": [
      " 94%|█████████▎| 101/108 [02:54<00:11,  1.70s/it]"
     ]
    },
    {
     "name": "stdout",
     "output_type": "stream",
     "text": [
      "Output path set to:  /Volumes/LMK_Drive/leaddbs/stn_subjects/sub-CbctDbs0298/stimulations/MNI152NLin2009bAsym/mostrecentstimulation/sub-CbctDbs0298_sim-binary_model-simbio_hemi-R_resampled.nii\n"
     ]
    },
    {
     "name": "stderr",
     "output_type": "stream",
     "text": [
      " 94%|█████████▍| 102/108 [02:55<00:10,  1.69s/it]"
     ]
    },
    {
     "name": "stdout",
     "output_type": "stream",
     "text": [
      "Output path set to:  /Volumes/LMK_Drive/leaddbs/stn_subjects/sub-CbctDbs0300/stimulations/MNI152NLin2009bAsym/mostrecentstimulation/sub-CbctDbs0300_sim-binary_model-simbio_hemi-R_resampled.nii\n"
     ]
    },
    {
     "name": "stderr",
     "output_type": "stream",
     "text": [
      " 95%|█████████▌| 103/108 [02:57<00:08,  1.71s/it]"
     ]
    },
    {
     "name": "stdout",
     "output_type": "stream",
     "text": [
      "Output path set to:  /Volumes/LMK_Drive/leaddbs/stn_subjects/sub-CbctDbs0301/stimulations/MNI152NLin2009bAsym/mostrecentstimulation/sub-CbctDbs0301_sim-binary_model-simbio_hemi-R_resampled.nii\n"
     ]
    },
    {
     "name": "stderr",
     "output_type": "stream",
     "text": [
      " 96%|█████████▋| 104/108 [02:59<00:07,  1.80s/it]"
     ]
    },
    {
     "name": "stdout",
     "output_type": "stream",
     "text": [
      "Output path set to:  /Volumes/LMK_Drive/leaddbs/stn_subjects/sub-CbctDbs0302/stimulations/MNI152NLin2009bAsym/mostrecentstimulation/sub-CbctDbs0302_sim-binary_model-simbio_hemi-R_resampled.nii\n"
     ]
    },
    {
     "name": "stderr",
     "output_type": "stream",
     "text": [
      " 97%|█████████▋| 105/108 [03:01<00:05,  1.94s/it]"
     ]
    },
    {
     "name": "stdout",
     "output_type": "stream",
     "text": [
      "Output path set to:  /Volumes/LMK_Drive/leaddbs/stn_subjects/sub-CbctDbs0305/stimulations/MNI152NLin2009bAsym/mostrecentstimulation/sub-CbctDbs0305_sim-binary_model-simbio_hemi-R_resampled.nii\n"
     ]
    },
    {
     "name": "stderr",
     "output_type": "stream",
     "text": [
      " 98%|█████████▊| 106/108 [03:03<00:03,  1.84s/it]"
     ]
    },
    {
     "name": "stdout",
     "output_type": "stream",
     "text": [
      "Output path set to:  /Volumes/LMK_Drive/leaddbs/stn_subjects/sub-CbctDbs0307/stimulations/MNI152NLin2009bAsym/mostrecentstimulation/sub-CbctDbs0307_sim-binary_model-simbio_hemi-R_resampled.nii\n"
     ]
    },
    {
     "name": "stderr",
     "output_type": "stream",
     "text": [
      " 99%|█████████▉| 107/108 [03:05<00:01,  1.79s/it]"
     ]
    },
    {
     "name": "stdout",
     "output_type": "stream",
     "text": [
      "Output path set to:  /Volumes/LMK_Drive/leaddbs/stn_subjects/sub-CbctDbs0311/stimulations/MNI152NLin2009bAsym/mostrecentstimulation/sub-CbctDbs0311_sim-binary_model-simbio_hemi-R_resampled.nii\n"
     ]
    },
    {
     "name": "stderr",
     "output_type": "stream",
     "text": [
      "100%|██████████| 108/108 [03:07<00:00,  1.73s/it]\n"
     ]
    }
   ],
   "source": [
    "from calvin_utils.nifti_utils.image_resample import ImageDownSampler\n",
    "from tqdm import tqdm\n",
    "from glob import glob\n",
    "for origin_path in tqdm(glob(glob_pattern)):\n",
    "    ds = ImageDownSampler(origin_path, target)\n",
    "    ds.resample_img() "
   ]
  },
  {
   "cell_type": "code",
   "execution_count": null,
   "metadata": {},
   "outputs": [],
   "source": []
  }
 ],
 "metadata": {
  "kernelspec": {
   "display_name": "Python_3.7.7_nimlab",
   "language": "python",
   "name": "python3"
  },
  "language_info": {
   "codemirror_mode": {
    "name": "ipython",
    "version": 3
   },
   "file_extension": ".py",
   "mimetype": "text/x-python",
   "name": "python",
   "nbconvert_exporter": "python",
   "pygments_lexer": "ipython3",
   "version": "3.11.10"
  }
 },
 "nbformat": 4,
 "nbformat_minor": 2
}
