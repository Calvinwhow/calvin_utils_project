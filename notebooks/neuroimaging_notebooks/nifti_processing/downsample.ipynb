{
 "cells": [
  {
   "cell_type": "markdown",
   "metadata": {},
   "source": [
    "# DOWNSAMPLE A NIFTI/"
   ]
  },
  {
   "cell_type": "code",
   "execution_count": 1,
   "metadata": {},
   "outputs": [
    {
     "name": "stderr",
     "output_type": "stream",
     "text": [
      "/usr/local/Caskroom/mambaforge/base/envs/nimlab_py310/lib/python3.10/site-packages/scipy/__init__.py:146: UserWarning: A NumPy version >=1.16.5 and <1.23.0 is required for this version of SciPy (detected version 1.26.0\n",
      "  warnings.warn(f\"A NumPy version >={np_minversion} and <{np_maxversion}\"\n"
     ]
    }
   ],
   "source": [
    "import nibabel as nib\n",
    "import numpy as np\n",
    "from scipy.ndimage import zoom\n",
    "\n",
    "# Load the input NIFTI file and the target NIFTI file\n",
    "input_nifti = nib.load('/Users/cu135/Partners HealthCare Dropbox/Calvin Howard/studies/atrophy_seeds_2023/Figures/riMLF_localization/rIMLF_BL_refined-from-Friedrich2022_MF-HF_075-MNI152.nii.gz')\n",
    "target_nifti = nib.load('/Users/cu135/hires_backdrops/MNI152_T1_2mm_brain_mask.nii')\n",
    "\n",
    "# Get the data arrays and affine matrices\n",
    "input_data = input_nifti.get_fdata()\n",
    "target_data = target_nifti.get_fdata()\n",
    "input_affine = input_nifti.affine\n",
    "target_affine = target_nifti.affine\n",
    "\n",
    "# Calculate the zoom factors based on the target resolution\n",
    "zoom_factors = np.array(target_data.shape) / np.array(input_data.shape)\n",
    "\n",
    "# Downsample the input data\n",
    "downsampled_data = zoom(input_data, zoom_factors, order=1)  # using order=1 for linear interpolation\n",
    "\n",
    "# Create a new NIFTI image with the downsampled data and the target affine\n",
    "downsampled_img = nib.Nifti1Image(downsampled_data, target_affine, input_nifti.header)\n",
    "\n",
    "# Save the downsampled image\n",
    "nib.save(downsampled_img, '/Users/cu135/Partners HealthCare Dropbox/Calvin Howard/studies/atrophy_seeds_2023/Figures/riMLF_localization/rIMLF_BL_refined-from-Friedrich2022_MF-HF_075-MNI152-2mm.nii.gz')\n"
   ]
  },
  {
   "cell_type": "code",
   "execution_count": null,
   "metadata": {},
   "outputs": [],
   "source": []
  }
 ],
 "metadata": {
  "kernelspec": {
   "display_name": "nimlab_py310",
   "language": "python",
   "name": "python3"
  },
  "language_info": {
   "codemirror_mode": {
    "name": "ipython",
    "version": 3
   },
   "file_extension": ".py",
   "mimetype": "text/x-python",
   "name": "python",
   "nbconvert_exporter": "python",
   "pygments_lexer": "ipython3",
   "version": "3.10.8"
  }
 },
 "nbformat": 4,
 "nbformat_minor": 2
}
