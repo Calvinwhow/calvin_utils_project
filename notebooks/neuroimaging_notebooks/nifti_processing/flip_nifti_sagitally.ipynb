{
 "cells": [
  {
   "cell_type": "markdown",
   "metadata": {},
   "source": [
    "# Flip and save nifti"
   ]
  },
  {
   "cell_type": "code",
   "execution_count": 14,
   "metadata": {},
   "outputs": [],
   "source": [
    "path = '/Users/cu135/Partners HealthCare Dropbox/Calvin Howard/resources/datasets/HORISAWA_DYSKINESIA_FOREL/ff_lesions_higher_res/sub-01_desc-lesion_mask.nii.gz'"
   ]
  },
  {
   "cell_type": "code",
   "execution_count": null,
   "metadata": {},
   "outputs": [],
   "source": [
    "from calvin_utils.nifti_utils.image_flip import NiftiHorizontalFlipper\n",
    "flipper = NiftiHorizontalFlipper(path)\n",
    "flipper.run()"
   ]
  },
  {
   "cell_type": "markdown",
   "metadata": {},
   "source": [
    "FLIP A BUNCH"
   ]
  },
  {
   "cell_type": "code",
   "execution_count": 1,
   "metadata": {},
   "outputs": [],
   "source": [
    "path = '/Users/cu135/Partners HealthCare Dropbox/Calvin Howard/resources/datasets/HORISAWA_DYSKINESIA_FOREL/ff_lesions_higher_res/sub-*-lesion_mask.nii.gz'"
   ]
  },
  {
   "cell_type": "code",
   "execution_count": 2,
   "metadata": {},
   "outputs": [],
   "source": [
    "from calvin_utils.nifti_utils.image_flip import NiftiHorizontalFlipper\n",
    "from glob import glob\n",
    "for path in glob(path):\n",
    "    flipper = NiftiHorizontalFlipper(path)\n",
    "    flipper.run()"
   ]
  }
 ],
 "metadata": {
  "kernelspec": {
   "display_name": "Python_3.7.7_nimlab",
   "language": "python",
   "name": "python3"
  },
  "language_info": {
   "codemirror_mode": {
    "name": "ipython",
    "version": 3
   },
   "file_extension": ".py",
   "mimetype": "text/x-python",
   "name": "python",
   "nbconvert_exporter": "python",
   "pygments_lexer": "ipython3",
   "version": "3.11.10"
  }
 },
 "nbformat": 4,
 "nbformat_minor": 2
}
