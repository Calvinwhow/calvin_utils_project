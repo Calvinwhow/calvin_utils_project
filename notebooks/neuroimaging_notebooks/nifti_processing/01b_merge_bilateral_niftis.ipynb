{
 "cells": [
  {
   "cell_type": "code",
   "execution_count": 1,
   "id": "a99a2197",
   "metadata": {},
   "outputs": [],
   "source": [
    "in_folder = '/Users/cu135/Partners HealthCare Dropbox/Calvin Howard/resources/atlases/AAL/mixed'\n",
    "out_folder = '/Users/cu135/Partners HealthCare Dropbox/Calvin Howard/resources/atlases/AAL/combined'"
   ]
  },
  {
   "cell_type": "markdown",
   "id": "39cc1d34",
   "metadata": {},
   "source": [
    "The `stem_length` argument specifies how many characters from the end of each filename should be considered as the \"stem\" when searching for matching pairs.\n",
    "- Defaults to None, which means pairs will be defined as filenames that are substrings of other filenames. "
   ]
  },
  {
   "cell_type": "code",
   "execution_count": 2,
   "id": "eebbfdd9",
   "metadata": {},
   "outputs": [
    {
     "name": "stdout",
     "output_type": "stream",
     "text": [
      "Saved: /Users/cu135/Partners HealthCare Dropbox/Calvin Howard/resources/atlases/AAL/combined/Amygdala_.nii.gz\n",
      "Saved: /Users/cu135/Partners HealthCare Dropbox/Calvin Howard/resources/atlases/AAL/combined/Angular_.nii.gz\n",
      "Saved: /Users/cu135/Partners HealthCare Dropbox/Calvin Howard/resources/atlases/AAL/combined/Calcarine_.nii.gz\n",
      "Saved: /Users/cu135/Partners HealthCare Dropbox/Calvin Howard/resources/atlases/AAL/combined/Caudate_.nii.gz\n",
      "Saved: /Users/cu135/Partners HealthCare Dropbox/Calvin Howard/resources/atlases/AAL/combined/Cerebelum_10_.nii.gz\n",
      "Saved: /Users/cu135/Partners HealthCare Dropbox/Calvin Howard/resources/atlases/AAL/combined/Cerebelum_3_.nii.gz\n",
      "Saved: /Users/cu135/Partners HealthCare Dropbox/Calvin Howard/resources/atlases/AAL/combined/Cerebelum_4_5_.nii.gz\n",
      "Saved: /Users/cu135/Partners HealthCare Dropbox/Calvin Howard/resources/atlases/AAL/combined/Cerebelum_6_.nii.gz\n",
      "Saved: /Users/cu135/Partners HealthCare Dropbox/Calvin Howard/resources/atlases/AAL/combined/Cerebelum_7b_.nii.gz\n",
      "Saved: /Users/cu135/Partners HealthCare Dropbox/Calvin Howard/resources/atlases/AAL/combined/Cerebelum_8_.nii.gz\n",
      "Saved: /Users/cu135/Partners HealthCare Dropbox/Calvin Howard/resources/atlases/AAL/combined/Cerebelum_9_.nii.gz\n",
      "Saved: /Users/cu135/Partners HealthCare Dropbox/Calvin Howard/resources/atlases/AAL/combined/Cerebelum_Crus1_.nii.gz\n",
      "Saved: /Users/cu135/Partners HealthCare Dropbox/Calvin Howard/resources/atlases/AAL/combined/Cerebelum_Crus2_.nii.gz\n",
      "Saved: /Users/cu135/Partners HealthCare Dropbox/Calvin Howard/resources/atlases/AAL/combined/Cingulate_Ant_.nii.gz\n",
      "Saved: /Users/cu135/Partners HealthCare Dropbox/Calvin Howard/resources/atlases/AAL/combined/Cingulate_Mid_.nii.gz\n",
      "Saved: /Users/cu135/Partners HealthCare Dropbox/Calvin Howard/resources/atlases/AAL/combined/Cingulate_Post_.nii.gz\n",
      "Saved: /Users/cu135/Partners HealthCare Dropbox/Calvin Howard/resources/atlases/AAL/combined/Cuneus_.nii.gz\n",
      "Saved: /Users/cu135/Partners HealthCare Dropbox/Calvin Howard/resources/atlases/AAL/combined/Frontal_Inf_Oper_.nii.gz\n",
      "Saved: /Users/cu135/Partners HealthCare Dropbox/Calvin Howard/resources/atlases/AAL/combined/Frontal_Inf_Orb_2_.nii.gz\n",
      "Saved: /Users/cu135/Partners HealthCare Dropbox/Calvin Howard/resources/atlases/AAL/combined/Frontal_Inf_Tri_.nii.gz\n",
      "Saved: /Users/cu135/Partners HealthCare Dropbox/Calvin Howard/resources/atlases/AAL/combined/Frontal_Med_Orb_.nii.gz\n",
      "Saved: /Users/cu135/Partners HealthCare Dropbox/Calvin Howard/resources/atlases/AAL/combined/Frontal_Mid_2_.nii.gz\n",
      "Saved: /Users/cu135/Partners HealthCare Dropbox/Calvin Howard/resources/atlases/AAL/combined/Frontal_Sup_2_.nii.gz\n",
      "Saved: /Users/cu135/Partners HealthCare Dropbox/Calvin Howard/resources/atlases/AAL/combined/Frontal_Sup_Medial_.nii.gz\n",
      "Saved: /Users/cu135/Partners HealthCare Dropbox/Calvin Howard/resources/atlases/AAL/combined/Fusiform_.nii.gz\n",
      "Saved: /Users/cu135/Partners HealthCare Dropbox/Calvin Howard/resources/atlases/AAL/combined/Heschl_.nii.gz\n",
      "Saved: /Users/cu135/Partners HealthCare Dropbox/Calvin Howard/resources/atlases/AAL/combined/Hippocampus_.nii.gz\n",
      "Saved: /Users/cu135/Partners HealthCare Dropbox/Calvin Howard/resources/atlases/AAL/combined/Insula_.nii.gz\n",
      "Saved: /Users/cu135/Partners HealthCare Dropbox/Calvin Howard/resources/atlases/AAL/combined/Lingual_.nii.gz\n",
      "Saved: /Users/cu135/Partners HealthCare Dropbox/Calvin Howard/resources/atlases/AAL/combined/OFCant_.nii.gz\n",
      "Saved: /Users/cu135/Partners HealthCare Dropbox/Calvin Howard/resources/atlases/AAL/combined/OFClat_.nii.gz\n",
      "Saved: /Users/cu135/Partners HealthCare Dropbox/Calvin Howard/resources/atlases/AAL/combined/OFCmed_.nii.gz\n",
      "Saved: /Users/cu135/Partners HealthCare Dropbox/Calvin Howard/resources/atlases/AAL/combined/OFCpost_.nii.gz\n",
      "Saved: /Users/cu135/Partners HealthCare Dropbox/Calvin Howard/resources/atlases/AAL/combined/Occipital_Inf_.nii.gz\n",
      "Saved: /Users/cu135/Partners HealthCare Dropbox/Calvin Howard/resources/atlases/AAL/combined/Occipital_Mid_.nii.gz\n",
      "Saved: /Users/cu135/Partners HealthCare Dropbox/Calvin Howard/resources/atlases/AAL/combined/Occipital_Sup_.nii.gz\n",
      "Saved: /Users/cu135/Partners HealthCare Dropbox/Calvin Howard/resources/atlases/AAL/combined/Olfactory_.nii.gz\n",
      "Saved: /Users/cu135/Partners HealthCare Dropbox/Calvin Howard/resources/atlases/AAL/combined/Pallidum_.nii.gz\n",
      "Saved: /Users/cu135/Partners HealthCare Dropbox/Calvin Howard/resources/atlases/AAL/combined/ParaHippocampal_.nii.gz\n",
      "Saved: /Users/cu135/Partners HealthCare Dropbox/Calvin Howard/resources/atlases/AAL/combined/Paracentral_Lobule_.nii.gz\n",
      "Saved: /Users/cu135/Partners HealthCare Dropbox/Calvin Howard/resources/atlases/AAL/combined/Parietal_Inf_.nii.gz\n",
      "Saved: /Users/cu135/Partners HealthCare Dropbox/Calvin Howard/resources/atlases/AAL/combined/Parietal_Sup_.nii.gz\n",
      "Saved: /Users/cu135/Partners HealthCare Dropbox/Calvin Howard/resources/atlases/AAL/combined/Postcentral_.nii.gz\n",
      "Saved: /Users/cu135/Partners HealthCare Dropbox/Calvin Howard/resources/atlases/AAL/combined/Precentral_.nii.gz\n",
      "Saved: /Users/cu135/Partners HealthCare Dropbox/Calvin Howard/resources/atlases/AAL/combined/Precuneus_.nii.gz\n",
      "Saved: /Users/cu135/Partners HealthCare Dropbox/Calvin Howard/resources/atlases/AAL/combined/Putamen_.nii.gz\n",
      "Saved: /Users/cu135/Partners HealthCare Dropbox/Calvin Howard/resources/atlases/AAL/combined/Rectus_.nii.gz\n",
      "Saved: /Users/cu135/Partners HealthCare Dropbox/Calvin Howard/resources/atlases/AAL/combined/Rolandic_Oper_.nii.gz\n",
      "Saved: /Users/cu135/Partners HealthCare Dropbox/Calvin Howard/resources/atlases/AAL/combined/Supp_Motor_Area_.nii.gz\n",
      "Saved: /Users/cu135/Partners HealthCare Dropbox/Calvin Howard/resources/atlases/AAL/combined/SupraMarginal_.nii.gz\n",
      "Saved: /Users/cu135/Partners HealthCare Dropbox/Calvin Howard/resources/atlases/AAL/combined/Temporal_Inf_.nii.gz\n",
      "Saved: /Users/cu135/Partners HealthCare Dropbox/Calvin Howard/resources/atlases/AAL/combined/Temporal_Mid_.nii.gz\n",
      "Saved: /Users/cu135/Partners HealthCare Dropbox/Calvin Howard/resources/atlases/AAL/combined/Temporal_Pole_Mid_.nii.gz\n",
      "Saved: /Users/cu135/Partners HealthCare Dropbox/Calvin Howard/resources/atlases/AAL/combined/Temporal_Pole_Sup_.nii.gz\n",
      "Saved: /Users/cu135/Partners HealthCare Dropbox/Calvin Howard/resources/atlases/AAL/combined/Temporal_Sup_.nii.gz\n",
      "Saved: /Users/cu135/Partners HealthCare Dropbox/Calvin Howard/resources/atlases/AAL/combined/Thalamus_.nii.gz\n",
      "Saved: /Users/cu135/Partners HealthCare Dropbox/Calvin Howard/resources/atlases/AAL/combined/Vermis_1.nii.gz\n",
      "Saved: /Users/cu135/Partners HealthCare Dropbox/Calvin Howard/resources/atlases/AAL/combined/Vermis_.nii.gz\n",
      "Saved: /Users/cu135/Partners HealthCare Dropbox/Calvin Howard/resources/atlases/AAL/combined/Vermis_.nii.gz\n",
      "Saved: /Users/cu135/Partners HealthCare Dropbox/Calvin Howard/resources/atlases/AAL/combined/Vermis_.nii.gz\n"
     ]
    }
   ],
   "source": [
    "from calvin_utils.nifti_utils.add_niftis import NiftiAdder\n",
    "pairs = NiftiAdder.find_pairs(directory=in_folder, stem_length=13)\n",
    "NiftiAdder.add_and_save_pairs(pairs=pairs, out_dir=out_folder, suffix='')"
   ]
  },
  {
   "cell_type": "code",
   "execution_count": null,
   "id": "67d06e9b",
   "metadata": {},
   "outputs": [],
   "source": []
  },
  {
   "cell_type": "code",
   "execution_count": null,
   "id": "4be9555b",
   "metadata": {},
   "outputs": [],
   "source": []
  }
 ],
 "metadata": {
  "kernelspec": {
   "display_name": "Python_3.7.7_nimlab",
   "language": "python",
   "name": "python3"
  },
  "language_info": {
   "codemirror_mode": {
    "name": "ipython",
    "version": 3
   },
   "file_extension": ".py",
   "mimetype": "text/x-python",
   "name": "python",
   "nbconvert_exporter": "python",
   "pygments_lexer": "ipython3",
   "version": "3.11.12"
  }
 },
 "nbformat": 4,
 "nbformat_minor": 5
}
