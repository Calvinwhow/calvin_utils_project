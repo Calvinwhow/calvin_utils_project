{
 "cells": [
  {
   "cell_type": "code",
   "execution_count": 3,
   "id": "a99a2197",
   "metadata": {},
   "outputs": [],
   "source": [
    "in_folder = '/Users/cu135/Partners HealthCare Dropbox/Calvin Howard/resources/datasets/BIDS_PD_DBS_STN_WURZBURG/raw_netstim_database/42/stimulations/bilat'\n",
    "out_folder = '/Users/cu135/Partners HealthCare Dropbox/Calvin Howard/resources/datasets/BIDS_PD_DBS_STN_WURZBURG/raw_netstim_database/42/stimulations/bilat'"
   ]
  },
  {
   "cell_type": "markdown",
   "id": "39cc1d34",
   "metadata": {},
   "source": [
    "The `stem_length` argument specifies how many characters from the end of each filename should be considered as the \"stem\" when searching for matching pairs.\n",
    "- Defaults to None, which means pairs will be defined as filenames that are substrings of other filenames. "
   ]
  },
  {
   "cell_type": "code",
   "execution_count": 16,
   "id": "eebbfdd9",
   "metadata": {},
   "outputs": [
    {
     "name": "stdout",
     "output_type": "stream",
     "text": [
      "Saved: /Users/cu135/Partners HealthCare Dropbox/Calvin Howard/resources/datasets/BIDS_PD_DBS_STN_WURZBURG/raw_netstim_database/42/stimulations/bilat/sub-42MDST_sim-binary_model-simbio_hemiBL.nii.gz\n"
     ]
    }
   ],
   "source": [
    "from calvin_utils.nifti_utils.add_niftis import NiftiAdder\n",
    "pairs = NiftiAdder.find_pairs(directory=in_folder, stem_length=None)\n",
    "pairs\n",
    "NiftiAdder.add_and_save_pairs(pairs=pairs, out_dir=out_folder, suffix='BL')"
   ]
  },
  {
   "cell_type": "code",
   "execution_count": null,
   "id": "67d06e9b",
   "metadata": {},
   "outputs": [],
   "source": []
  },
  {
   "cell_type": "code",
   "execution_count": null,
   "id": "4be9555b",
   "metadata": {},
   "outputs": [],
   "source": []
  }
 ],
 "metadata": {
  "kernelspec": {
   "display_name": "Python_3.7.7_nimlab",
   "language": "python",
   "name": "python3"
  },
  "language_info": {
   "codemirror_mode": {
    "name": "ipython",
    "version": 3
   },
   "file_extension": ".py",
   "mimetype": "text/x-python",
   "name": "python",
   "nbconvert_exporter": "python",
   "pygments_lexer": "ipython3",
   "version": "3.11.12"
  }
 },
 "nbformat": 4,
 "nbformat_minor": 5
}
