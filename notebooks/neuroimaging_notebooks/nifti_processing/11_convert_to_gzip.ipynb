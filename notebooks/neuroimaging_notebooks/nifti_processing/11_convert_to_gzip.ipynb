{
 "cells": [
  {
   "cell_type": "markdown",
   "id": "5c144b28",
   "metadata": {},
   "source": [
    "This notebook accepts a directory, recursively finds all niftis, gzips them, and deletes the .nii version. Use with care. "
   ]
  },
  {
   "cell_type": "code",
   "execution_count": null,
   "id": "2ef5b6be",
   "metadata": {},
   "outputs": [],
   "source": [
    "dir = '/Volumes/HowExp/datasets/Atrophy_Datasets/completed'"
   ]
  },
  {
   "cell_type": "code",
   "execution_count": null,
   "id": "fbcdf106",
   "metadata": {},
   "outputs": [],
   "source": [
    "from calvin_utils.nifti_utils.gzip_conversion import recursive_gzip\n",
    "recursive_gzip(dir)"
   ]
  },
  {
   "cell_type": "code",
   "execution_count": null,
   "id": "0ee36842",
   "metadata": {},
   "outputs": [],
   "source": []
  }
 ],
 "metadata": {
  "kernelspec": {
   "display_name": ".calvin_utils_venv (3.13.3)",
   "language": "python",
   "name": "python3"
  },
  "language_info": {
   "codemirror_mode": {
    "name": "ipython",
    "version": 3
   },
   "file_extension": ".py",
   "mimetype": "text/x-python",
   "name": "python",
   "nbconvert_exporter": "python",
   "pygments_lexer": "ipython3",
   "version": "3.13.3"
  }
 },
 "nbformat": 4,
 "nbformat_minor": 5
}
