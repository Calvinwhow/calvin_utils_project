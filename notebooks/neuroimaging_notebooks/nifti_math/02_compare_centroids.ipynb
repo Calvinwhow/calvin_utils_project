{
 "cells": [
  {
   "cell_type": "markdown",
   "id": "965525ba",
   "metadata": {},
   "source": [
    "### Analysis of NIfTI Centroid Data Using `NiftiCentroidStats`\n",
    "\n",
    "This notebook demonstrates the use of the `NiftiCentroidStats` class from the `calvin_utils.nifti_utils.compare_nifti_centroids` module to compare centroids of two groups of NIfTI files. Below is an explanation of the workflow and the results generated:\n",
    "\n",
    "#### Workflow\n",
    "\n",
    "1. **Input Paths**:\n",
    "    - `path1`: Specifies the file path pattern for the first group of NIfTI files (e.g., lesion masks).\n",
    "    - `path2`: Specifies the file path pattern for the second group of NIfTI files (e.g., fMRI compound seeds).\n",
    "\n",
    "2. **Initialization**:\n",
    "    - The `NiftiCentroidStats` object, `stats`, is initialized with the file paths for the two groups. The `multi_centroids=True` parameter indicates that multiple centroids are being analyzed.\n",
    "\n",
    "3. **Centroid Analysis**:\n",
    "    - `stats.run()`: Computes summary statistics (`xyz_summary`) and statistical tests (`xyz_tests`) for the centroids of the two groups along the x, y, and z axes.\n",
    "      - `xyz_summary`: Contains the mean, standard deviation, and sample size for each group along each axis.\n",
    "      - `xyz_tests`: Contains the t-statistic and p-value for comparing the two groups along each axis.\n",
    "\n",
    "4. **Norm Analysis**:\n",
    "    - `stats.compare_norms()`: Compares the Euclidean norms of the centroids between the two groups.\n",
    "      - `norm_summary`: Provides the mean, standard deviation, and sample size for the norms of each group.\n",
    "      - `norm_test`: Contains the t-statistic and p-value for the comparison of norms.\n",
    "\n",
    "#### Results\n",
    "\n",
    "- **Centroid Summary (`xyz_summary`)**:\n",
    "  - Provides descriptive statistics (mean and standard deviation) for the centroids of each group along the x, y, and z axes.\n",
    "  - Example:\n",
    "     ```python\n",
    "     xyz_summary = {\n",
    "          'group1': {'n': 62, 'mean': array([ -0.074, -13.402,  -4.973]), 'std': array([13.193,  2.132,  2.996])},\n",
    "          'group2': {'n': 88, 'mean': array([ -0.883, -12.705,  -6.199]), 'std': array([11.682,  2.490,  2.528])}\n",
    "     }\n",
    "     ```\n",
    "\n",
    "- **Centroid Tests (`xyz_tests`)**:\n",
    "  - Contains the results of t-tests comparing the centroids of the two groups along each axis.\n",
    "  - Example:\n",
    "     ```python\n",
    "     xyz_tests = {\n",
    "          'x': {'t': 0.387, 'p': 0.699},\n",
    "          'y': {'t': -1.839, 'p': 0.068},\n",
    "          'z': {'t': 2.628, 'p': 0.010}\n",
    "     }\n",
    "     ```\n",
    "\n",
    "- **Norm Summary (`norm_summary`)**:\n",
    "  - Provides descriptive statistics for the Euclidean norms of the centroids in each group.\n",
    "  - Example:\n",
    "     ```python\n",
    "     norm_summary = {\n",
    "          'group1': {'n': 62, 'mean': 19.677, 'std': 1.327},\n",
    "          'group2': {'n': 88, 'mean': 18.524, 'std': 2.210}\n",
    "     }\n",
    "     ```\n",
    "\n",
    "- **Norm Test (`norm_test`)**:\n",
    "  - Contains the results of a t-test comparing the norms of the centroids between the two groups.\n",
    "  - Example:\n",
    "     ```python\n",
    "     norm_test = {'norm': {'t': 3.980, 'p': 0.0001}}\n",
    "     ```\n",
    "\n",
    "#### Interpretation\n",
    "\n",
    "- The `xyz_tests` results indicate whether there are significant differences between the two groups along each axis. For example, the z-axis comparison shows a significant difference (`p = 0.010`).\n",
    "- The `norm_test` results indicate whether the overall centroid norms differ significantly between the two groups. In this case, the difference is highly significant (`p = 0.0001`).\n",
    "\n",
    "This notebook provides a structured approach to analyzing and comparing centroid data from NIfTI files, enabling researchers to identify spatial differences between groups."
   ]
  },
  {
   "cell_type": "code",
   "execution_count": 28,
   "id": "a8281d08",
   "metadata": {},
   "outputs": [],
   "source": [
    "path1 = '/Users/cu135/Partners HealthCare Dropbox/Calvin Howard/studies/optimizer/analysis/centroids/centroid/tract_left.csv'\n",
    "path2 = '/Users/cu135/Partners HealthCare Dropbox/Calvin Howard/studies/optimizer/analysis/centroids/centroid/map_left.csv'"
   ]
  },
  {
   "cell_type": "markdown",
   "id": "72eb0279",
   "metadata": {},
   "source": [
    "Setting mirror=True will flip all centroids to the right side and compare as if they were a single VTA"
   ]
  },
  {
   "cell_type": "code",
   "execution_count": 29,
   "id": "e9c70bb7",
   "metadata": {},
   "outputs": [
    {
     "name": "stdout",
     "output_type": "stream",
     "text": [
      "\n",
      "----- Each coordinate (XYZ) -----\n",
      "Summary:\n",
      "{'centroid_0': {'group1': {'mean': array([-12.91913262, -13.54229752,  -5.78541273]),\n",
      "                           'n': 100,\n",
      "                           'std': array([1.58626403, 1.65461553, 2.49876015])},\n",
      "                'group2': {'mean': array([-12.9129212 , -13.40951267,  -5.80182021]),\n",
      "                           'n': 100,\n",
      "                           'std': array([1.26219735, 1.51031177, 1.62188875])}}}\n",
      "T‑tests:\n",
      "{'centroid_0': {'x': {'p': 0.9755882587177072, 't': -0.03064100665630758},\n",
      "                'y': {'p': 0.5540511525871167, 't': -0.5927190000056037},\n",
      "                'z': {'p': 0.9561414563871412, 't': 0.055077500031908956}}}\n",
      "\n",
      "----- Euclidean norm of XYZ -----\n",
      "Summary:\n",
      "{'centroid_0': {'group1': {'mean': 19.83185813146485, 'n': 100, 'std': inf},\n",
      "                'group2': {'mean': 19.604449026952363, 'n': 100, 'std': inf}}}\n",
      "T‑tests:\n",
      "{'centroid_0': {'p': 0.2694121708811245, 't': 1.107521427916102}}\n"
     ]
    },
    {
     "name": "stderr",
     "output_type": "stream",
     "text": [
      "/Users/cu135/Software_Local/calvin_utils_project/.venv_calvin/lib/python3.10/site-packages/numpy/core/_methods.py:206: RuntimeWarning: Degrees of freedom <= 0 for slice\n",
      "  ret = _var(a, axis=axis, dtype=dtype, out=out, ddof=ddof,\n",
      "/Users/cu135/Software_Local/calvin_utils_project/.venv_calvin/lib/python3.10/site-packages/numpy/core/_methods.py:198: RuntimeWarning: divide by zero encountered in scalar divide\n",
      "  ret = ret.dtype.type(ret / rcount)\n"
     ]
    }
   ],
   "source": [
    "from calvin_utils.nifti_utils.compare_nifti_centroids import NiftiCentroidStats\n",
    "stats = NiftiCentroidStats(\n",
    "        grp1_glob=path1,\n",
    "        grp2_glob=path2,\n",
    "        n_centroids=1,\n",
    "        mirror=False\n",
    "    )\n",
    "xyz_summary, xyz_tests = stats.run()\n",
    "norm_summary, norm_test = stats.compare_norms()\n"
   ]
  },
  {
   "cell_type": "code",
   "execution_count": null,
   "id": "12d3691b",
   "metadata": {},
   "outputs": [],
   "source": [
    "import pandas as pd\n",
    "\n",
    "df = pd.read_csv(path1, usecols=[\"X\", \"Y\", \"Z\"]).to_numpy()"
   ]
  },
  {
   "cell_type": "code",
   "execution_count": null,
   "id": "e2c8d6d7",
   "metadata": {},
   "outputs": [],
   "source": [
    "df.shape"
   ]
  },
  {
   "cell_type": "code",
   "execution_count": null,
   "id": "67fe7730",
   "metadata": {},
   "outputs": [],
   "source": []
  }
 ],
 "metadata": {
  "kernelspec": {
   "display_name": ".venv_calvin (3.10.18)",
   "language": "python",
   "name": "python3"
  },
  "language_info": {
   "codemirror_mode": {
    "name": "ipython",
    "version": 3
   },
   "file_extension": ".py",
   "mimetype": "text/x-python",
   "name": "python",
   "nbconvert_exporter": "python",
   "pygments_lexer": "ipython3",
   "version": "3.10.18"
  }
 },
 "nbformat": 4,
 "nbformat_minor": 5
}
