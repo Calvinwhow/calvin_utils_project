{
 "cells": [
  {
   "cell_type": "markdown",
   "id": "2910eafe",
   "metadata": {},
   "source": [
    "# Get Files and Put them in a CSV\n",
    "- First, we will find the nifti files of interest and put them in a dataframe. \n",
    "- Second, you have two options. \n",
    "    - 1) You may save the nifti paths to a CSV file on their own. \n",
    "    - 2) You may add these nifti paths to another CSV and save that with them in it."
   ]
  },
  {
   "cell_type": "markdown",
   "id": "60030f1c",
   "metadata": {},
   "source": [
    "# 01 - Find Files From Paths"
   ]
  },
  {
   "cell_type": "markdown",
   "id": "f052c410",
   "metadata": {},
   "source": [
    "**Search for the Files**\n",
    "_______\n",
    "Formatting the Directory-Pattern Dictionary\n",
    "The function glob_multiple_file_paths expects a dictionary where each key-value pair corresponds to a root directory and a file pattern to search within that directory. The keys are the root directories where you want to start the search, and the values are the file patterns to match against.\n",
    "\n",
    "Example Dictionary Format:\n",
    "\n",
    ">dir_pattern_dict = {\n",
    ">    '/path/to/first/root_dir': '*.nii',\n",
    ">\n",
    ">    '/path/to/second/root_dir': '*.nii.gz',\n",
    ">\n",
    ">    '/another/path': '*_label.nii'\n",
    ">     Add more key-value pairs as needed\n",
    ">}\n",
    "\n",
    "Using Wildcards:\n",
    "\n",
    "The file patterns can include wildcards to match multiple files:\n",
    "- *: Matches zero or more characters\n",
    "- **: Searches all directories recursively\n",
    "- *.nii will match all files ending with .nii\n",
    "- ?: Matches any single character\n",
    "- file?.nii will match file1.nii, file2.nii, etc.\n",
    "- [seq]: Matches any character in seq\n",
    "- file[1-3].nii will match file1.nii, file2.nii, file3.nii\n",
    "- [!seq]: Matches any character NOT in seq\n",
    "- file[!1-3].nii will match any file that doesn't have 1, 2, or 3 in that position, like file4.nii, file5.nii, etc.\n",
    "\n",
    "Feel free to combine these wildcards to create complex file patterns. For example, *_??.nii will match files like file_01.nii, file_02.nii, etc."
   ]
  },
  {
   "cell_type": "markdown",
   "id": "f46a2f08",
   "metadata": {},
   "source": [
    "Where to Save to"
   ]
  },
  {
   "cell_type": "code",
   "execution_count": 1,
   "id": "39c49956",
   "metadata": {},
   "outputs": [],
   "source": [
    "out_dir = '/Users/cu135/Partners HealthCare Dropbox/Calvin Howard/studies/ccm_memory/results/notebook_05/sensitivity_Map'\n",
    "\n",
    "filename = 'group_rho_maps.csv'"
   ]
  },
  {
   "cell_type": "markdown",
   "id": "a4b685ff",
   "metadata": {},
   "source": [
    "**Non-Cognitive Controls. Pending**\n",
    "dir_pattern_dict = {\n",
    "    '/Users/cu135/Dropbox (Partners HealthCare)/resources/datasets/grafman/derivatives/network_maps/grafman_noncognitive_controls': '**/*.nii*',\n",
    "    '/Users/cu135/Dropbox (Partners HealthCare)/resources/datasets/kletenik_ms/derivatives/symptom_maps': '**/*CONTRAST*.nii',\n",
    "    '/Users/cu135/Dropbox (Partners HealthCare)/resources/datasets/corbetta/derivatives/symptom_networks/noncognitive_controls/r_map': '**/*nii',\n",
    "    \n",
    "}"
   ]
  },
  {
   "cell_type": "code",
   "execution_count": 2,
   "id": "bd2674a7-934d-4144-8ad8-820a6ee76c61",
   "metadata": {},
   "outputs": [],
   "source": [
    "# Define the dictionary with root directories and file patterns\n",
    "dir_pattern_dict = {\n",
    "    '/Users/cu135/Partners HealthCare Dropbox/Calvin Howard/studies/ccm_memory/results/notebook_05/sensitivity_Map/group_maps': '*.nii.gz'}"
   ]
  },
  {
   "cell_type": "markdown",
   "id": "0ea8081a-82d6-4333-ab48-2cefd6eda18d",
   "metadata": {},
   "source": [
    "## Glob the files and check to see if acceptable"
   ]
  },
  {
   "cell_type": "code",
   "execution_count": 3,
   "id": "43cae19d",
   "metadata": {},
   "outputs": [],
   "source": [
    "save_files = False"
   ]
  },
  {
   "cell_type": "code",
   "execution_count": 4,
   "id": "d9f2a3fc",
   "metadata": {},
   "outputs": [
    {
     "data": {
      "text/html": [
       "<div>\n",
       "<style scoped>\n",
       "    .dataframe tbody tr th:only-of-type {\n",
       "        vertical-align: middle;\n",
       "    }\n",
       "\n",
       "    .dataframe tbody tr th {\n",
       "        vertical-align: top;\n",
       "    }\n",
       "\n",
       "    .dataframe thead th {\n",
       "        text-align: right;\n",
       "    }\n",
       "</style>\n",
       "<table border=\"1\" class=\"dataframe\">\n",
       "  <thead>\n",
       "    <tr style=\"text-align: right;\">\n",
       "      <th></th>\n",
       "      <th>paths</th>\n",
       "    </tr>\n",
       "  </thead>\n",
       "  <tbody>\n",
       "    <tr>\n",
       "      <th>0</th>\n",
       "      <td>/Users/cu135/Partners HealthCare Dropbox/Calvi...</td>\n",
       "    </tr>\n",
       "    <tr>\n",
       "      <th>1</th>\n",
       "      <td>/Users/cu135/Partners HealthCare Dropbox/Calvi...</td>\n",
       "    </tr>\n",
       "    <tr>\n",
       "      <th>2</th>\n",
       "      <td>/Users/cu135/Partners HealthCare Dropbox/Calvi...</td>\n",
       "    </tr>\n",
       "    <tr>\n",
       "      <th>3</th>\n",
       "      <td>/Users/cu135/Partners HealthCare Dropbox/Calvi...</td>\n",
       "    </tr>\n",
       "    <tr>\n",
       "      <th>4</th>\n",
       "      <td>/Users/cu135/Partners HealthCare Dropbox/Calvi...</td>\n",
       "    </tr>\n",
       "    <tr>\n",
       "      <th>5</th>\n",
       "      <td>/Users/cu135/Partners HealthCare Dropbox/Calvi...</td>\n",
       "    </tr>\n",
       "    <tr>\n",
       "      <th>6</th>\n",
       "      <td>/Users/cu135/Partners HealthCare Dropbox/Calvi...</td>\n",
       "    </tr>\n",
       "    <tr>\n",
       "      <th>7</th>\n",
       "      <td>/Users/cu135/Partners HealthCare Dropbox/Calvi...</td>\n",
       "    </tr>\n",
       "    <tr>\n",
       "      <th>8</th>\n",
       "      <td>/Users/cu135/Partners HealthCare Dropbox/Calvi...</td>\n",
       "    </tr>\n",
       "    <tr>\n",
       "      <th>9</th>\n",
       "      <td>/Users/cu135/Partners HealthCare Dropbox/Calvi...</td>\n",
       "    </tr>\n",
       "    <tr>\n",
       "      <th>10</th>\n",
       "      <td>/Users/cu135/Partners HealthCare Dropbox/Calvi...</td>\n",
       "    </tr>\n",
       "    <tr>\n",
       "      <th>11</th>\n",
       "      <td>/Users/cu135/Partners HealthCare Dropbox/Calvi...</td>\n",
       "    </tr>\n",
       "  </tbody>\n",
       "</table>\n",
       "</div>"
      ],
      "text/plain": [
       "                                                paths\n",
       "0   /Users/cu135/Partners HealthCare Dropbox/Calvi...\n",
       "1   /Users/cu135/Partners HealthCare Dropbox/Calvi...\n",
       "2   /Users/cu135/Partners HealthCare Dropbox/Calvi...\n",
       "3   /Users/cu135/Partners HealthCare Dropbox/Calvi...\n",
       "4   /Users/cu135/Partners HealthCare Dropbox/Calvi...\n",
       "5   /Users/cu135/Partners HealthCare Dropbox/Calvi...\n",
       "6   /Users/cu135/Partners HealthCare Dropbox/Calvi...\n",
       "7   /Users/cu135/Partners HealthCare Dropbox/Calvi...\n",
       "8   /Users/cu135/Partners HealthCare Dropbox/Calvi...\n",
       "9   /Users/cu135/Partners HealthCare Dropbox/Calvi...\n",
       "10  /Users/cu135/Partners HealthCare Dropbox/Calvi...\n",
       "11  /Users/cu135/Partners HealthCare Dropbox/Calvi..."
      ]
     },
     "metadata": {},
     "output_type": "display_data"
    }
   ],
   "source": [
    "from calvin_utils.file_utils.file_path_collector import glob_multiple_file_paths\n",
    "import os\n",
    "# Validate Directory\n",
    "# os.mkdir(os.path.dirname(csv_path))\n",
    "# Call the function and save the returned DataFrame to a CSV file\n",
    "path_df = glob_multiple_file_paths(dir_pattern_dict, save=save_files, save_path=None)\n",
    "\n",
    "# Display the saved path and the DataFrame\n",
    "display(path_df)"
   ]
  },
  {
   "cell_type": "code",
   "execution_count": 5,
   "id": "53bd2ac0",
   "metadata": {},
   "outputs": [
    {
     "name": "stdout",
     "output_type": "stream",
     "text": [
      "/Users/cu135/Partners HealthCare Dropbox/Calvin Howard/studies/ccm_memory/results/notebook_05/sensitivity_Map/group_maps/Acute Stroke_correlation_map_flipped.nii.gz\n"
     ]
    }
   ],
   "source": [
    "print(path_df.iloc[0,0])"
   ]
  },
  {
   "cell_type": "code",
   "execution_count": 6,
   "id": "48a677c7",
   "metadata": {},
   "outputs": [
    {
     "data": {
      "text/html": [
       "<div>\n",
       "<style scoped>\n",
       "    .dataframe tbody tr th:only-of-type {\n",
       "        vertical-align: middle;\n",
       "    }\n",
       "\n",
       "    .dataframe tbody tr th {\n",
       "        vertical-align: top;\n",
       "    }\n",
       "\n",
       "    .dataframe thead th {\n",
       "        text-align: right;\n",
       "    }\n",
       "</style>\n",
       "<table border=\"1\" class=\"dataframe\">\n",
       "  <thead>\n",
       "    <tr style=\"text-align: right;\">\n",
       "      <th></th>\n",
       "      <th>paths</th>\n",
       "      <th>subject</th>\n",
       "    </tr>\n",
       "  </thead>\n",
       "  <tbody>\n",
       "    <tr>\n",
       "      <th>0</th>\n",
       "      <td>/Users/cu135/Partners HealthCare Dropbox/Calvi...</td>\n",
       "      <td>Acute Stroke</td>\n",
       "    </tr>\n",
       "    <tr>\n",
       "      <th>1</th>\n",
       "      <td>/Users/cu135/Partners HealthCare Dropbox/Calvi...</td>\n",
       "      <td>ANT DBS SANTE</td>\n",
       "    </tr>\n",
       "    <tr>\n",
       "      <th>2</th>\n",
       "      <td>/Users/cu135/Partners HealthCare Dropbox/Calvi...</td>\n",
       "      <td>Alzheimer Disease</td>\n",
       "    </tr>\n",
       "    <tr>\n",
       "      <th>3</th>\n",
       "      <td>/Users/cu135/Partners HealthCare Dropbox/Calvi...</td>\n",
       "      <td>Parietal TMS Hermiller 2019b</td>\n",
       "    </tr>\n",
       "    <tr>\n",
       "      <th>4</th>\n",
       "      <td>/Users/cu135/Partners HealthCare Dropbox/Calvi...</td>\n",
       "      <td>Parietal TMS Hermiller 2019a</td>\n",
       "    </tr>\n",
       "    <tr>\n",
       "      <th>5</th>\n",
       "      <td>/Users/cu135/Partners HealthCare Dropbox/Calvi...</td>\n",
       "      <td>Multiple Sclerosis</td>\n",
       "    </tr>\n",
       "    <tr>\n",
       "      <th>6</th>\n",
       "      <td>/Users/cu135/Partners HealthCare Dropbox/Calvi...</td>\n",
       "      <td>ANT DBS Maastricht</td>\n",
       "    </tr>\n",
       "    <tr>\n",
       "      <th>7</th>\n",
       "      <td>/Users/cu135/Partners HealthCare Dropbox/Calvi...</td>\n",
       "      <td>Epilepsy iEEG</td>\n",
       "    </tr>\n",
       "    <tr>\n",
       "      <th>8</th>\n",
       "      <td>/Users/cu135/Partners HealthCare Dropbox/Calvi...</td>\n",
       "      <td>STN DBS</td>\n",
       "    </tr>\n",
       "    <tr>\n",
       "      <th>9</th>\n",
       "      <td>/Users/cu135/Partners HealthCare Dropbox/Calvi...</td>\n",
       "      <td>Parietal TMS Hebscher</td>\n",
       "    </tr>\n",
       "    <tr>\n",
       "      <th>10</th>\n",
       "      <td>/Users/cu135/Partners HealthCare Dropbox/Calvi...</td>\n",
       "      <td>Penetrating TBI</td>\n",
       "    </tr>\n",
       "    <tr>\n",
       "      <th>11</th>\n",
       "      <td>/Users/cu135/Partners HealthCare Dropbox/Calvi...</td>\n",
       "      <td>Parietal TMS Wang</td>\n",
       "    </tr>\n",
       "  </tbody>\n",
       "</table>\n",
       "</div>"
      ],
      "text/plain": [
       "                                                paths  \\\n",
       "0   /Users/cu135/Partners HealthCare Dropbox/Calvi...   \n",
       "1   /Users/cu135/Partners HealthCare Dropbox/Calvi...   \n",
       "2   /Users/cu135/Partners HealthCare Dropbox/Calvi...   \n",
       "3   /Users/cu135/Partners HealthCare Dropbox/Calvi...   \n",
       "4   /Users/cu135/Partners HealthCare Dropbox/Calvi...   \n",
       "5   /Users/cu135/Partners HealthCare Dropbox/Calvi...   \n",
       "6   /Users/cu135/Partners HealthCare Dropbox/Calvi...   \n",
       "7   /Users/cu135/Partners HealthCare Dropbox/Calvi...   \n",
       "8   /Users/cu135/Partners HealthCare Dropbox/Calvi...   \n",
       "9   /Users/cu135/Partners HealthCare Dropbox/Calvi...   \n",
       "10  /Users/cu135/Partners HealthCare Dropbox/Calvi...   \n",
       "11  /Users/cu135/Partners HealthCare Dropbox/Calvi...   \n",
       "\n",
       "                         subject  \n",
       "0                   Acute Stroke  \n",
       "1                  ANT DBS SANTE  \n",
       "2              Alzheimer Disease  \n",
       "3   Parietal TMS Hermiller 2019b  \n",
       "4   Parietal TMS Hermiller 2019a  \n",
       "5             Multiple Sclerosis  \n",
       "6             ANT DBS Maastricht  \n",
       "7                  Epilepsy iEEG  \n",
       "8                        STN DBS  \n",
       "9          Parietal TMS Hebscher  \n",
       "10               Penetrating TBI  \n",
       "11             Parietal TMS Wang  "
      ]
     },
     "metadata": {},
     "output_type": "display_data"
    }
   ],
   "source": [
    "# Define the preceding and proceeding strings\n",
    "preceding = '/group_maps/'\n",
    "proceeding = '_correlation'\n",
    "\n",
    "# Extract the substring and add it to a new column 'subject'\n",
    "path_df['subject'] = path_df['paths'].str.extract(f'{preceding}(.*?){proceeding}')\n",
    "\n",
    "# Display the updated DataFrame\n",
    "display(path_df)"
   ]
  },
  {
   "cell_type": "code",
   "execution_count": 7,
   "id": "586502e3",
   "metadata": {},
   "outputs": [],
   "source": [
    "import os\n",
    "os.makedirs(out_dir, exist_ok=True)\n",
    "path_df.to_csv(os.path.join(out_dir, filename), index=False)"
   ]
  },
  {
   "cell_type": "markdown",
   "id": "9c0cfe65",
   "metadata": {},
   "source": [
    "# 02 - Import Another CSV and Add the Paths to It\n",
    "**The CSV is expected to be in this format**\n",
    "- ID and absolute paths to niftis are critical\n",
    "```\n",
    "+-----+----------------------------+--------------+--------------+--------------+\n",
    "| ID  | Nifti_File_Path            | Covariate_1  | Covariate_2  | Covariate_3  |\n",
    "+-----+----------------------------+--------------+--------------+--------------+\n",
    "| 1   | /path/to/file1.nii.gz      | 0.5          | 1.2          | 3.4          |\n",
    "| 2   | /path/to/file2.nii.gz      | 0.7          | 1.4          | 3.1          |\n",
    "| 3   | /path/to/file3.nii.gz      | 0.6          | 1.5          | 3.5          |\n",
    "| 4   | /path/to/file4.nii.gz      | 0.9          | 1.1          | 3.2          |\n",
    "| ... | ...                        | ...          | ...          | ...          |\n",
    "+-----+----------------------------+--------------+--------------+--------------+\n",
    "```"
   ]
  },
  {
   "cell_type": "code",
   "execution_count": 17,
   "id": "5e8c61cf",
   "metadata": {},
   "outputs": [],
   "source": [
    "# spreadsheet_path = '/Users/cu135/Partners HealthCare Dropbox/Calvin Howard/studies/collaborations/hart_epilepsy_meta_analysis/master_list.csv'\n",
    "# sheet = None #If using Excel, enter a string here"
   ]
  },
  {
   "cell_type": "code",
   "execution_count": 18,
   "id": "fb2cf254",
   "metadata": {},
   "outputs": [],
   "source": [
    "# from calvin_utils.permutation_analysis_utils.statsmodels_palm import CalvinStatsmodelsPalm\n",
    "# # Instantiate the PalmPrepararation class\n",
    "# cal_palm = CalvinStatsmodelsPalm(input_csv_path=spreadsheet_path, output_dir=os.path.dirname(spreadsheet_path), sheet=sheet)\n",
    "# # Call the process_nifti_paths method\n",
    "# data_df = cal_palm.read_and_display_data()"
   ]
  },
  {
   "cell_type": "markdown",
   "id": "d42f56d9",
   "metadata": {},
   "source": [
    "# 03 - Save The New CSV"
   ]
  },
  {
   "cell_type": "code",
   "execution_count": 19,
   "id": "2d7e3877",
   "metadata": {},
   "outputs": [],
   "source": [
    "# data_df['nifti_paths'] = path_df['paths']"
   ]
  },
  {
   "cell_type": "markdown",
   "id": "1ed7d5da",
   "metadata": {},
   "source": [
    "Hope this was helpful\n",
    "\n",
    "--Calvin"
   ]
  },
  {
   "cell_type": "markdown",
   "id": "62ac637d",
   "metadata": {},
   "source": []
  }
 ],
 "metadata": {
  "kernelspec": {
   "display_name": "Python_3.7.7_nimlab",
   "language": "python",
   "name": "python3"
  },
  "language_info": {
   "codemirror_mode": {
    "name": "ipython",
    "version": 3
   },
   "file_extension": ".py",
   "mimetype": "text/x-python",
   "name": "python",
   "nbconvert_exporter": "python",
   "pygments_lexer": "ipython3",
   "version": "3.11.12"
  }
 },
 "nbformat": 4,
 "nbformat_minor": 5
}
