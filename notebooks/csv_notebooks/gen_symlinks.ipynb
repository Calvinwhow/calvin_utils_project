{
 "cells": [
  {
   "cell_type": "code",
   "execution_count": 2,
   "metadata": {},
   "outputs": [
    {
     "name": "stdout",
     "output_type": "stream",
     "text": [
      "Symlink for PTID 128_S_1430 already exists in /Volumes/Expansion/datasets/adni/neuroimaging/all_patients_by_diagnosis_symlink/Alzheimer.\n"
     ]
    }
   ],
   "source": [
    "import os\n",
    "import pandas as pd\n",
    "\n",
    "def organize_symlinks(original_directory, target_directory, excel_file):\n",
    "    # Read the Excel file\n",
    "    df = pd.read_excel(excel_file)\n",
    "\n",
    "    # Get unique diagnoses\n",
    "    unique_diagnoses = df['Diagnosis'].unique()\n",
    "\n",
    "    # Create folders for each unique diagnosis\n",
    "    for diagnosis in unique_diagnoses:\n",
    "        diagnosis_folder = os.path.join(target_directory, str(diagnosis))\n",
    "        os.makedirs(diagnosis_folder, exist_ok=True)\n",
    "\n",
    "    # Iterate through each row in the dataframe\n",
    "    for index, row in df.iterrows():\n",
    "        ptid = str(row['PTID'])\n",
    "        diagnosis = str(row['Diagnosis'])\n",
    "\n",
    "        # Find the folder corresponding to PTID\n",
    "        ptid_folder = os.path.join(original_directory, ptid)\n",
    "\n",
    "        # Destination folder\n",
    "        diagnosis_folder = os.path.join(target_directory, diagnosis)\n",
    "\n",
    "        # Create a symlink to the PTID folder in the corresponding diagnosis folder\n",
    "        if os.path.exists(ptid_folder) and os.path.isdir(ptid_folder):\n",
    "            symlink_path = os.path.join(diagnosis_folder, ptid)\n",
    "            if not os.path.exists(symlink_path):\n",
    "                os.symlink(ptid_folder, symlink_path)\n",
    "            else:\n",
    "                print(f\"Symlink for PTID {ptid} already exists in {diagnosis_folder}.\")\n",
    "        else:\n",
    "            print(f\"Folder for PTID {ptid} not found.\")\n",
    "\n",
    "# Usage\n",
    "original_dir = '/Volumes/Expansion/datasets/adni/neuroimaging/all_patients'\n",
    "target_dir = '/Volumes/Expansion/datasets/adni/neuroimaging/all_patients_by_diagnosis_symlink'\n",
    "excel_file = '/Volumes/Expansion/datasets/adni/metadata/raw_information/ADNI_1_atrophy_grades.xlsx'\n",
    "organize_symlinks(original_dir,target_dir, excel_file)\n"
   ]
  },
  {
   "cell_type": "code",
   "execution_count": null,
   "metadata": {},
   "outputs": [],
   "source": []
  }
 ],
 "metadata": {
  "kernelspec": {
   "display_name": "nimlab_py310",
   "language": "python",
   "name": "python3"
  },
  "language_info": {
   "codemirror_mode": {
    "name": "ipython",
    "version": 3
   },
   "file_extension": ".py",
   "mimetype": "text/x-python",
   "name": "python",
   "nbconvert_exporter": "python",
   "pygments_lexer": "ipython3",
   "version": "3.10.8"
  }
 },
 "nbformat": 4,
 "nbformat_minor": 2
}
