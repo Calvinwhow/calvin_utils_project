{
 "cells": [
  {
   "cell_type": "code",
   "execution_count": null,
   "metadata": {},
   "outputs": [],
   "source": [
    "path_1 = '/Users/cu135/Partners HealthCare Dropbox/Calvin Howard/studies/raynor_network_mapping/metadata/combinedFullMatrix.csv'\n",
    "path_2 = '/Volumes/HowExp/datasets/02a_Corbetta_Stroke_Lesion/Study_Metadata/master_list.csv'\n"
   ]
  },
  {
   "cell_type": "code",
   "execution_count": null,
   "metadata": {},
   "outputs": [],
   "source": [
    "import pandas as pd\n",
    "df1 = pd.read_csv(path_1)\n",
    "df2 = pd.read_csv(path_2)\n",
    "df1"
   ]
  },
  {
   "cell_type": "code",
   "execution_count": null,
   "metadata": {},
   "outputs": [],
   "source": [
    "df1['subid'].astype(int)\n",
    "df2['subid'].astype(int)"
   ]
  },
  {
   "cell_type": "code",
   "execution_count": null,
   "metadata": {},
   "outputs": [],
   "source": [
    "merged_df = pd.merge(df1, df2, on='subid', how='outer')\n",
    "merged_df"
   ]
  },
  {
   "cell_type": "code",
   "execution_count": null,
   "metadata": {},
   "outputs": [],
   "source": [
    "merged_df.to_csv('/Users/cu135/Partners HealthCare Dropbox/Calvin Howard/studies/raynor_network_mapping/metadata/master-3mo.csv', index=False)"
   ]
  },
  {
   "cell_type": "code",
   "execution_count": 11,
   "metadata": {},
   "outputs": [
    {
     "name": "stdout",
     "output_type": "stream",
     "text": [
      "Object:  kahana_cerebellar_atrophy\n",
      "Object:  msa_atrophy\n",
      "Object:  fox_vs_nettekoven\n",
      "Object:  qsld_data\n",
      "Object:  mikes_raynor_figures\n",
      "Object:  kurana_data\n",
      "Object:  corbetta_data\n",
      "Object:  nettekoven_maps\n",
      "Object:  corbetta_patients\n",
      "Object:  mikes_maps\n"
     ]
    }
   ],
   "source": [
    "from pathlib import Path\n",
    "p = Path('/Users/cu135/Partners HealthCare Dropbox/Calvin Howard/studies/raynor_network_mapping')\n",
    "for obj in filter(Path.is_dir, p.glob('*/*')):\n",
    "    print(\"Object: \", obj.name)"
   ]
  },
  {
   "cell_type": "code",
   "execution_count": null,
   "metadata": {},
   "outputs": [],
   "source": []
  }
 ],
 "metadata": {
  "kernelspec": {
   "display_name": ".venv_calvin (3.10.18)",
   "language": "python",
   "name": "python3"
  },
  "language_info": {
   "codemirror_mode": {
    "name": "ipython",
    "version": 3
   },
   "file_extension": ".py",
   "mimetype": "text/x-python",
   "name": "python",
   "nbconvert_exporter": "python",
   "pygments_lexer": "ipython3",
   "version": "3.10.18"
  }
 },
 "nbformat": 4,
 "nbformat_minor": 2
}
