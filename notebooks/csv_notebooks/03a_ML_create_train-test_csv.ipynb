{
 "cells": [
  {
   "cell_type": "markdown",
   "id": "538779c5",
   "metadata": {},
   "source": [
    "This notebook will load a CSV which has your features (regressors) and your outcomes (regressand), and will split it into two train/test CSVs. "
   ]
  },
  {
   "cell_type": "code",
   "execution_count": null,
   "id": "a73f5c47",
   "metadata": {},
   "outputs": [],
   "source": [
    "master_path = '/Volumes/OneTouch/datasets/adni/metadata/updated_master_list/mwp_aal_total.csv'\n",
    "sheet = None"
   ]
  },
  {
   "cell_type": "code",
   "execution_count": null,
   "id": "267db728",
   "metadata": {},
   "outputs": [],
   "source": [
    "from calvin_utils.permutation_analysis_utils.statsmodels_palm import CalvinStatsmodelsPalm\n",
    "cal_palm = CalvinStatsmodelsPalm(input_csv_path=master_path, output_dir=None, sheet=sheet)\n",
    "data_df = cal_palm.read_and_display_data()\n",
    "data_df"
   ]
  },
  {
   "cell_type": "code",
   "execution_count": null,
   "id": "b160e970",
   "metadata": {},
   "outputs": [],
   "source": [
    "drop_list = ['DX_BASELINE', 'Fusiform__sum_composite', 'Age', 'Male']"
   ]
  },
  {
   "cell_type": "code",
   "execution_count": null,
   "id": "933b9aad",
   "metadata": {},
   "outputs": [],
   "source": [
    "data_df = cal_palm.drop_nans_from_columns(columns_to_drop_from=drop_list)\n",
    "display(data_df)"
   ]
  },
  {
   "cell_type": "code",
   "execution_count": null,
   "id": "e010e580",
   "metadata": {},
   "outputs": [],
   "source": [
    "data_df['DX_BASELINE'].value_counts()"
   ]
  },
  {
   "cell_type": "markdown",
   "id": "91c18287",
   "metadata": {},
   "source": [
    "Oversample with synthetic data to balance rare classes. \n",
    "- read more on techniques like SMOTE elsewhere."
   ]
  },
  {
   "cell_type": "markdown",
   "id": "acfb9dd1",
   "metadata": {},
   "source": [
    "Impute NANs"
   ]
  },
  {
   "cell_type": "code",
   "execution_count": null,
   "id": "0f58b3db",
   "metadata": {},
   "outputs": [],
   "source": [
    "cols_to_impute = ['Age', 'Male', 'Female']  # your list of columns\n",
    "data_df[cols_to_impute] = data_df[cols_to_impute].fillna(data_df[cols_to_impute].mean())"
   ]
  },
  {
   "cell_type": "markdown",
   "id": "28462a71",
   "metadata": {},
   "source": [
    "Oversample Low-Prevalence Classes if Needed\n",
    "- This uses SMOTE, which you can read about elsewhere"
   ]
  },
  {
   "cell_type": "code",
   "execution_count": null,
   "id": "ef02cf58",
   "metadata": {},
   "outputs": [],
   "source": [
    "dx_col = 'DX_BASELINE'"
   ]
  },
  {
   "cell_type": "code",
   "execution_count": null,
   "id": "53ed2468",
   "metadata": {},
   "outputs": [],
   "source": [
    "from calvin_utils.ml_utils.train_test_splitter import TrainTestSplitter\n",
    "splitter = TrainTestSplitter()\n",
    "train_df, test_df = splitter.run(data_df, out_dir=out_dir, stratify=dx_col)"
   ]
  },
  {
   "cell_type": "code",
   "execution_count": null,
   "id": "fe501bc9",
   "metadata": {},
   "outputs": [],
   "source": [
    "test_df['DX_BASELINE'].value_counts(), train_df['DX_BASELINE'].value_counts()"
   ]
  },
  {
   "cell_type": "markdown",
   "id": "b39f5e7b",
   "metadata": {},
   "source": [
    "That's all\n",
    "- Calvin"
   ]
  }
 ],
 "metadata": {
  "kernelspec": {
   "display_name": "Python_3.7.7_nimlab",
   "language": "python",
   "name": "python3"
  },
  "language_info": {
   "codemirror_mode": {
    "name": "ipython",
    "version": 3
   },
   "file_extension": ".py",
   "mimetype": "text/x-python",
   "name": "python",
   "nbconvert_exporter": "python",
   "pygments_lexer": "ipython3",
   "version": "3.11.12"
  }
 },
 "nbformat": 4,
 "nbformat_minor": 5
}
