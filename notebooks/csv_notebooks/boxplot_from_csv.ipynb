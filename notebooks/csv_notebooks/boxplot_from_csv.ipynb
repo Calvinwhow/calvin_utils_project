{
 "cells": [
  {
   "cell_type": "code",
   "execution_count": null,
   "metadata": {},
   "outputs": [],
   "source": [
    "import pandas as pd\n",
    "import seaborn as sns\n",
    "import matplotlib.pyplot as plt\n",
    "from scipy.stats import f_oneway, kruskal\n",
    "\n",
    "# Load CSV\n",
    "df = pd.read_csv('data.csv', index_col=0)\n",
    "\n",
    "# Calculate median and sort methods\n",
    "sorted_methods = df.median(axis=1).sort_values(ascending=False).index\n",
    "df_sorted = df.loc[sorted_methods]\n",
    "\n",
    "# Melt dataframe for boxplot\n",
    "df_melted = df_sorted.reset_index().melt(id_vars='index', var_name='Metric', value_name='Effect_Size').rename(columns={'index':'Method'})\n",
    "\n",
    "# Statistical tests\n",
    "anova_res = f_oneway(*[df_sorted.loc[method].dropna().values for method in sorted_methods])\n",
    "kruskal_res = kruskal(*[df_sorted.loc[method].dropna().values for method in sorted_methods])\n",
    "\n",
    "# Plot\n",
    "plt.figure(figsize=(12, len(df_sorted)*0.5))\n",
    "sns.boxplot(x='Effect_Size', y='Method', data=df_melted, orient='h')\n",
    "\n",
    "# Annotate statistical results\n",
    "plt.figtext(0.9, 0.1, f'ANOVA F={anova_res.statistic:.2f}, p={anova_res.pvalue:.4f}\\n'\n",
    "                      f'Kruskal-Wallis H={kruskal_res.statistic:.2f}, p={kruskal_res.pvalue:.4f}',\n",
    "            horizontalalignment='right', fontsize=10, bbox=dict(facecolor='white', alpha=0.5, pad=5))\n",
    "\n",
    "plt.xlabel('Effect Size')\n",
    "plt.ylabel('Method')\n",
    "plt.title('Effect Sizes Ranked by Median')\n",
    "\n",
    "plt.tight_layout()\n",
    "plt.savefig('effect_sizes_boxplot.svg', format='svg', bbox_inches='tight')\n",
    "plt.show()\n"
   ]
  }
 ],
 "metadata": {
  "language_info": {
   "name": "python"
  }
 },
 "nbformat": 4,
 "nbformat_minor": 2
}
