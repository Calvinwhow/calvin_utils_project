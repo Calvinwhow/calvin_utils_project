{
 "cells": [
  {
   "cell_type": "code",
   "execution_count": 1,
   "metadata": {},
   "outputs": [],
   "source": [
    "import numpy as np\n",
    "from scipy.stats import chi2_contingency\n",
    "\n",
    "def mcnemar_test(b, c):\n",
    "    \"\"\"\n",
    "    Perform McNemar's test on paired categorical data.\n",
    "    \n",
    "    Parameters:\n",
    "    b (int): Number of cases that changed from success to failure.\n",
    "    c (int): Number of cases that changed from failure to success.\n",
    "    \n",
    "    Returns:\n",
    "    chi2_stat (float): McNemar's chi-square statistic.\n",
    "    p_value (float): Corresponding p-value.\n",
    "    \"\"\"\n",
    "    chi2_stat = (b - c) ** 2 / (b + c) if (b + c) > 0 else 0\n",
    "    p_value = chi2_contingency([[0, b], [c, 0]])[1] if (b + c) > 0 else 1.0\n",
    "    \n",
    "    return chi2_stat, p_value\n"
   ]
  },
  {
   "cell_type": "code",
   "execution_count": 3,
   "metadata": {},
   "outputs": [
    {
     "name": "stdout",
     "output_type": "stream",
     "text": [
      "McNemar's Test Statistic: 1.6667\n",
      "P-value: 0.0010\n"
     ]
    }
   ],
   "source": [
    "# Example usage\n",
    "b = 5  # Number of cases that worsened\n",
    "c = 10   # Number of cases that improved\n",
    "chi2_stat, p_value = mcnemar_test(b, c)\n",
    "\n",
    "print(f\"McNemar's Test Statistic: {chi2_stat:.4f}\")\n",
    "print(f\"P-value: {p_value:.4f}\")"
   ]
  },
  {
   "cell_type": "code",
   "execution_count": null,
   "metadata": {},
   "outputs": [],
   "source": []
  }
 ],
 "metadata": {
  "kernelspec": {
   "display_name": "nimlab_py310",
   "language": "python",
   "name": "python3"
  },
  "language_info": {
   "codemirror_mode": {
    "name": "ipython",
    "version": 3
   },
   "file_extension": ".py",
   "mimetype": "text/x-python",
   "name": "python",
   "nbconvert_exporter": "python",
   "pygments_lexer": "ipython3",
   "version": "3.10.16"
  }
 },
 "nbformat": 4,
 "nbformat_minor": 2
}
