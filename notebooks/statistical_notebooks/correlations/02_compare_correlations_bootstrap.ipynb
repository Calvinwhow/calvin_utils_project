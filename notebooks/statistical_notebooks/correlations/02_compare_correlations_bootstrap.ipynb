{
 "cells": [
  {
   "cell_type": "code",
   "execution_count": null,
   "id": "f2bac263",
   "metadata": {},
   "outputs": [],
   "source": [
    "dv_path = '/Users/cu135/Partners HealthCare Dropbox/Calvin Howard/studies/optimizer/analysis/tract_vs_map/dv.csv'"
   ]
  },
  {
   "cell_type": "code",
   "execution_count": null,
   "id": "1d4984f0",
   "metadata": {},
   "outputs": [],
   "source": [
    "iv_paths =['/Users/cu135/Partners HealthCare Dropbox/Calvin Howard/studies/optimizer/analysis/tract_vs_map/iv_map.csv', \n",
    "           '/Users/cu135/Partners HealthCare Dropbox/Calvin Howard/studies/optimizer/analysis/tract_vs_map/iv_tract.csv']"
   ]
  },
  {
   "cell_type": "code",
   "execution_count": null,
   "id": "667f9af4",
   "metadata": {},
   "outputs": [],
   "source": [
    "from calvin_utils.statistical_utils.compare_correlations import CompareCorrelations\n",
    "ccomp = CompareCorrelations(dv_path, iv_paths)\n",
    "ccomp.run()"
   ]
  }
 ],
 "metadata": {
  "kernelspec": {
   "display_name": "Python_3.7.7_nimlab",
   "language": "python",
   "name": "python3"
  },
  "language_info": {
   "codemirror_mode": {
    "name": "ipython",
    "version": 3
   },
   "file_extension": ".py",
   "mimetype": "text/x-python",
   "name": "python",
   "nbconvert_exporter": "python",
   "pygments_lexer": "ipython3",
   "version": "3.11.12"
  }
 },
 "nbformat": 4,
 "nbformat_minor": 5
}
