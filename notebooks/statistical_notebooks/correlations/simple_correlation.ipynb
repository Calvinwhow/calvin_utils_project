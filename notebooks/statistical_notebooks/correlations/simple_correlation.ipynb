{
 "cells": [
  {
   "cell_type": "markdown",
   "metadata": {},
   "source": [
    "# Run Correlation-Based Analyses\n",
    "\n",
    "### Authors: Calvin Howard.\n",
    "\n",
    "#### Last updated: July 6, 2023\n",
    "\n",
    "Use this to assess if a correlation between a dependent variable and an independent variable is statistically significant using permutation analysis. \n",
    "\n",
    "Further, follow this up with a contrast analysis which sees which categorical variables have significantly different correlations from each other. \n",
    "\n",
    "Notes:\n",
    "- To best use this notebook, you should be familar with mixed effects models"
   ]
  },
  {
   "cell_type": "markdown",
   "metadata": {},
   "source": [
    "# 00 - Import CSV with All Data\n",
    "**The CSV is expected to be in this format**\n",
    "- ID and absolute paths to niftis are critical\n",
    "```\n",
    "+-----+----------------------------+--------------+--------------+--------------+\n",
    "| ID  | Nifti_File_Path            | Covariate_1  | Covariate_2  | Covariate_3  |\n",
    "+-----+----------------------------+--------------+--------------+--------------+\n",
    "| 1   | /path/to/file1.nii.gz      | 0.5          | 1.2          | 3.4          |\n",
    "| 2   | /path/to/file2.nii.gz      | 0.7          | 1.4          | 3.1          |\n",
    "| 3   | /path/to/file3.nii.gz      | 0.6          | 1.5          | 3.5          |\n",
    "| 4   | /path/to/file4.nii.gz      | 0.9          | 1.1          | 3.2          |\n",
    "| ... | ...                        | ...          | ...          | ...          |\n",
    "+-----+----------------------------+--------------+--------------+--------------+\n",
    "```"
   ]
  },
  {
   "cell_type": "code",
   "execution_count": null,
   "metadata": {},
   "outputs": [],
   "source": [
    "# Specify the path to your CSV file containing NIFTI paths\n",
    "input_csv_path = '/Users/cu135/Partners HealthCare Dropbox/Calvin Howard/resources/datasets/TMS_studies_influencing_memory/metadata/master_list.csv'\n",
    "sheet = None #'master_list_proper_subjects' ?"
   ]
  },
  {
   "cell_type": "code",
   "execution_count": null,
   "metadata": {},
   "outputs": [],
   "source": [
    "# Specify where you want to save your results to\n",
    "out_dir = '/Users/cu135/Partners HealthCare Dropbox/Calvin Howard/studies/ccm_memory/results/notebook_10/tms_meta_analysis/test'"
   ]
  },
  {
   "cell_type": "code",
   "execution_count": null,
   "metadata": {},
   "outputs": [],
   "source": [
    "from calvin_utils.permutation_analysis_utils.statsmodels_palm import CalvinStatsmodelsPalm\n",
    "# Instantiate the PalmPrepararation class\n",
    "cal_palm = CalvinStatsmodelsPalm(input_csv_path=input_csv_path, output_dir=out_dir, sheet=sheet)\n",
    "# Call the process_nifti_paths method\n",
    "data_df = cal_palm.read_and_display_data()\n",
    "data_df"
   ]
  },
  {
   "cell_type": "code",
   "execution_count": null,
   "metadata": {},
   "outputs": [],
   "source": []
  },
  {
   "cell_type": "markdown",
   "metadata": {},
   "source": [
    "\n",
    "# 01 - Preprocess Your Data"
   ]
  },
  {
   "cell_type": "markdown",
   "metadata": {},
   "source": [
    "**Handle NANs**\n",
    "- Set drop_nans=True is you would like to remove NaNs from data\n",
    "- Provide a column name or a list of column names to remove NaNs from"
   ]
  },
  {
   "cell_type": "code",
   "execution_count": null,
   "metadata": {},
   "outputs": [],
   "source": [
    "len(data_df['study'].unique())"
   ]
  },
  {
   "cell_type": "code",
   "execution_count": null,
   "metadata": {},
   "outputs": [],
   "source": [
    "data_df.columns"
   ]
  },
  {
   "cell_type": "code",
   "execution_count": null,
   "metadata": {},
   "outputs": [],
   "source": [
    "drop_list = ['all_datasets_weighted_avg_r_map_pcc_inverse_r_map_average_target_in_subject', 'Pre_Post_Memory_Effect_Size__Cohen_s_D_']"
   ]
  },
  {
   "cell_type": "code",
   "execution_count": null,
   "metadata": {},
   "outputs": [],
   "source": [
    "data_df = cal_palm.drop_nans_from_columns(columns_to_drop_from=drop_list)\n",
    "data_df"
   ]
  },
  {
   "cell_type": "markdown",
   "metadata": {},
   "source": [
    "**Drop Row Based on Value of Column**\n",
    "\n",
    "Define the column, condition, and value for dropping rows\n",
    "- column = 'your_column_name'\n",
    "- condition = 'above'  # Options: 'equal', 'above', 'below'"
   ]
  },
  {
   "cell_type": "markdown",
   "metadata": {},
   "source": [
    "Set the parameters for dropping rows"
   ]
  },
  {
   "cell_type": "code",
   "execution_count": null,
   "metadata": {},
   "outputs": [],
   "source": [
    "data_df.columns"
   ]
  },
  {
   "cell_type": "code",
   "execution_count": null,
   "metadata": {},
   "outputs": [],
   "source": [
    "column = 'Disease'  # The column you'd like to evaluate\n",
    "condition = 'equal'  # Thecondition to check ('equal', 'above', 'below', 'not')\n",
    "value = 'Parkinson' # The value to compare against"
   ]
  },
  {
   "cell_type": "code",
   "execution_count": null,
   "metadata": {},
   "outputs": [],
   "source": [
    "# data_df, other_df = cal_palm.drop_rows_based_on_value(column, condition, value)\n",
    "data_df"
   ]
  },
  {
   "cell_type": "markdown",
   "metadata": {},
   "source": [
    "Regress out a Covariate"
   ]
  },
  {
   "cell_type": "code",
   "execution_count": null,
   "metadata": {},
   "outputs": [],
   "source": [
    "data_df.columns"
   ]
  },
  {
   "cell_type": "code",
   "execution_count": null,
   "metadata": {},
   "outputs": [],
   "source": [
    "for col in regressors:\n",
    "    if data_df[col].dtype == 'O':  # object/categorical\n",
    "        data_df[col] = data_df[col].fillna(data_df[col].mode()[0])\n",
    "    else:  # numeric\n",
    "        data_df[col] = data_df[col].fillna(data_df[col].mean())\n",
    "data_df[regressors].isna().sum()\n"
   ]
  },
  {
   "cell_type": "code",
   "execution_count": null,
   "metadata": {},
   "outputs": [],
   "source": [
    "from calvin_utils.statistical_utils.regression_utils import RegressOutCovariates\n",
    "dependent_variable_list = ['Pre_Post_Memory_Effect_Size__Cohen_s_D_']\n",
    "regressors = ['Disease', 'Years_Between_Measurements', 'Mean_Age', 'Frequency__Hz_']\n",
    "\n",
    "data_df, adjusted_dep_vars_list = RegressOutCovariates.run(df=data_df, dependent_variable_list=dependent_variable_list, covariates_list=regressors)\n",
    "print(adjusted_dep_vars_list)"
   ]
  },
  {
   "cell_type": "code",
   "execution_count": null,
   "metadata": {},
   "outputs": [],
   "source": [
    "import numpy as np\n",
    "\n",
    "nonzero_count = np.count_nonzero(data_df['Pre_Post_Memory_Effect_Size__Cohen_s_D__residual'])\n",
    "not_nan_count = data_df['Pre_Post_Memory_Effect_Size__Cohen_s_D__residual'].notna().sum()\n",
    "print(f\"Nonzero count: {nonzero_count}\")\n",
    "print(f\"Non-NaN count: {not_nan_count}\")"
   ]
  },
  {
   "cell_type": "markdown",
   "metadata": {},
   "source": [
    "**Standardize Data**\n",
    "- Enter Columns you Don't want to standardize into a list"
   ]
  },
  {
   "cell_type": "code",
   "execution_count": null,
   "metadata": {},
   "outputs": [],
   "source": [
    "data_df.columns"
   ]
  },
  {
   "cell_type": "code",
   "execution_count": null,
   "metadata": {},
   "outputs": [],
   "source": [
    "# Remove anything you don't want to standardize\n",
    "cols_not_to_standardize = ['TOTAL11']"
   ]
  },
  {
   "cell_type": "code",
   "execution_count": null,
   "metadata": {},
   "outputs": [],
   "source": [
    "data_df = cal_palm.standardize_columns(cols_not_to_standardize)\n",
    "data_df"
   ]
  },
  {
   "cell_type": "markdown",
   "metadata": {},
   "source": [
    "# 02 - Perform Basic Correlation"
   ]
  },
  {
   "cell_type": "code",
   "execution_count": null,
   "metadata": {},
   "outputs": [],
   "source": [
    "data_df.columns"
   ]
  },
  {
   "cell_type": "code",
   "execution_count": null,
   "metadata": {},
   "outputs": [],
   "source": [
    "from scipy.stats import ttest_ind, mannwhitneyu\n",
    "import seaborn as sns\n",
    "import pandas as pd\n",
    "import numpy as np\n",
    "import matplotlib.pyplot as plt\n",
    "\n",
    "# Split by sign of the memory effect\n",
    "pos_group = data_df.loc[data_df['Pre_Post_Memory_Effect_Size__Cohen_s_D_'] > 0, x_col].dropna()\n",
    "neg_group = data_df.loc[data_df['Pre_Post_Memory_Effect_Size__Cohen_s_D_'] < 0, x_col].dropna()\n",
    "\n",
    "# Welch t-test (parametric, unequal variances)\n",
    "t_stat, p_val = ttest_ind(pos_group, neg_group, equal_var=False)\n",
    "\n",
    "# Mann–Whitney U (non-parametric)\n",
    "mwu_stat, mwu_p = mannwhitneyu(pos_group, neg_group, alternative='two-sided')\n",
    "\n",
    "print(f\"T-statistic: {t_stat:.4f}, p-value: {p_val:.4g}\")\n",
    "print(f\"Mann-Whitney U statistic: {mwu_stat:.4f}, p-value: {mwu_p:.4g}\")\n",
    "\n",
    "# ── Plot mean ± SEM ────────────────────────────────────────────────────────────\n",
    "boxplot_df = pd.concat(\n",
    "    [\n",
    "        pos_group.to_frame(name=x_col).assign(Group='Positive Effect'),\n",
    "        neg_group.to_frame(name=x_col).assign(Group='Negative Effect')\n",
    "    ],\n",
    "    ignore_index=True\n",
    ")\n",
    "\n",
    "means = boxplot_df.groupby('Group')[x_col].mean()\n",
    "sems  = boxplot_df.groupby('Group')[x_col].sem()\n",
    "\n",
    "plt.figure(figsize=(6, 4))\n",
    "ax = sns.barplot(x=means.index, y=means.values, palette=\"Set2\", ci=None)\n",
    "ax.errorbar(\n",
    "    x=np.arange(len(means)),\n",
    "    y=means.values,\n",
    "    yerr=sems.values,\n",
    "    fmt='none',\n",
    "    ecolor='black',\n",
    "    capsize=4,\n",
    "    lw=1\n",
    ")\n",
    "\n",
    "ax.set_title('Mean Spatial Correlation by Memory Effect Group (±SEM)')\n",
    "ax.set_ylabel('Spatial Correlation')\n",
    "ax.set_xlabel('Memory Effect Group')\n",
    "plt.tight_layout()\n",
    "plt.show()\n",
    "fig = ax.get_figure()\n",
    "fig.savefig('/Users/cu135/Library/CloudStorage/OneDrive-Personal/OneDrive_Documents/Research/2023/memory_ccm/Figures/supplement_prior_dbs-target/mean_spatial_corr_by_group.svg', dpi=300, bbox_inches='tight')\n"
   ]
  },
  {
   "cell_type": "code",
   "execution_count": null,
   "metadata": {},
   "outputs": [],
   "source": [
    "# ── Raincloud plot: violin + jitter (strip) ────────────────────────────────────\n",
    "plt.figure(figsize=(6, 4))\n",
    "\n",
    "# Violin (distribution “cloud”)\n",
    "sns.violinplot(\n",
    "    data=boxplot_df,\n",
    "    x='Group',\n",
    "    y=x_col,\n",
    "    palette='Set2',\n",
    "    inner=None,      # no box inside the violin\n",
    "    cut=0,           # trim tails to data range\n",
    "    linewidth=0\n",
    ")\n",
    "\n",
    "# Jittered points (“rain”)\n",
    "sns.stripplot(\n",
    "    data=boxplot_df,\n",
    "    x='Group',\n",
    "    y=x_col,\n",
    "    color='k',\n",
    "    size=4,\n",
    "    jitter=0.25,\n",
    "    alpha=0.7\n",
    ")\n",
    "\n",
    "plt.title('Raincloud Plot of Spatial Correlation by Memory Effect Group')\n",
    "plt.ylabel('Spatial Correlation')\n",
    "plt.xlabel('Memory Effect Group')\n",
    "plt.tight_layout()\n",
    "plt.show()\n"
   ]
  },
  {
   "cell_type": "code",
   "execution_count": null,
   "metadata": {},
   "outputs": [],
   "source": [
    "data_df = data_df[(data_df['Pre_Post_Memory_Effect_Size__Cohen_s_D_'] >= -1) & (data_df['Pre_Post_Memory_Effect_Size__Cohen_s_D_'] <= 1)]"
   ]
  },
  {
   "cell_type": "code",
   "execution_count": null,
   "metadata": {},
   "outputs": [],
   "source": [
    "data_df.columns"
   ]
  },
  {
   "cell_type": "code",
   "execution_count": null,
   "metadata": {},
   "outputs": [],
   "source": [
    "x_col = 'all_datasets_weighted_avg_r_map_pcc_inverse_r_map_average_target_in_subject'\n",
    "y_col = 'Pre_Post_Memory_Effect_Size__Cohen_s_D_'"
   ]
  },
  {
   "cell_type": "code",
   "execution_count": null,
   "metadata": {},
   "outputs": [],
   "source": [
    "# data_df = data_df[~((data_df[x_col] < 0.2) & (data_df[y_col] > 0.2))]"
   ]
  },
  {
   "cell_type": "code",
   "execution_count": null,
   "metadata": {},
   "outputs": [],
   "source": [
    "out_dir='/Users/cu135/Library/CloudStorage/OneDrive-Personal/OneDrive_Documents/Research/2023/memory_ccm/Figures/supplement_prior_dbs-target'"
   ]
  },
  {
   "cell_type": "code",
   "execution_count": null,
   "metadata": {},
   "outputs": [],
   "source": [
    "from calvin_utils.statistical_utils.scatterplot import simple_scatter\n",
    "simple_scatter(data_df, x_col, y_col, 'TMS', \n",
    "               x_label=\"Spatial Correlation\",\n",
    "               y_label='Memory Effect (Cohen\\'s D)',\n",
    "               out_dir=out_dir, flip_axes=False)"
   ]
  },
  {
   "cell_type": "code",
   "execution_count": null,
   "metadata": {},
   "outputs": [],
   "source": [
    "out_dir"
   ]
  },
  {
   "cell_type": "markdown",
   "metadata": {},
   "source": [
    "# Correlate Variable with All Other Variables"
   ]
  },
  {
   "cell_type": "code",
   "execution_count": null,
   "metadata": {},
   "outputs": [],
   "source": [
    "from calvin_utils.statistical_utils.correlation_barplot import CorrelationBarPlot\n",
    "plotter = CorrelationBarPlot(data_df, x_col=x_col, method=\"spearman\")\n",
    "corr_series = plotter.run(save_path=None)"
   ]
  },
  {
   "cell_type": "markdown",
   "metadata": {},
   "source": [
    "Focus on correlations above a threhsold"
   ]
  },
  {
   "cell_type": "code",
   "execution_count": null,
   "metadata": {},
   "outputs": [],
   "source": [
    "strong_corrs = plotter.plot_threshold(0.4)      # |r| ≥ 0.4 plot"
   ]
  },
  {
   "cell_type": "code",
   "execution_count": null,
   "metadata": {},
   "outputs": [],
   "source": []
  }
 ],
 "metadata": {
  "kernelspec": {
   "display_name": "Python_3.7.7_nimlab",
   "language": "python",
   "name": "python3"
  },
  "language_info": {
   "codemirror_mode": {
    "name": "ipython",
    "version": 3
   },
   "file_extension": ".py",
   "mimetype": "text/x-python",
   "name": "python",
   "nbconvert_exporter": "python",
   "pygments_lexer": "ipython3",
   "version": "3.11.12"
  }
 },
 "nbformat": 4,
 "nbformat_minor": 4
}
