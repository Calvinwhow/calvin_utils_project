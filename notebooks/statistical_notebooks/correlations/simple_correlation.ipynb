{
 "cells": [
  {
   "cell_type": "markdown",
   "metadata": {},
   "source": [
    "# Run Correlation-Based Analyses\n",
    "\n",
    "### Authors: Calvin Howard.\n",
    "\n",
    "#### Last updated: July 6, 2023\n",
    "\n",
    "Use this to assess if a correlation between a dependent variable and an independent variable is statistically significant using permutation analysis. \n",
    "\n",
    "Further, follow this up with a contrast analysis which sees which categorical variables have significantly different correlations from each other. \n",
    "\n",
    "Notes:\n",
    "- To best use this notebook, you should be familar with mixed effects models"
   ]
  },
  {
   "cell_type": "markdown",
   "metadata": {},
   "source": [
    "# 00 - Import CSV with All Data\n",
    "**The CSV is expected to be in this format**\n",
    "- ID and absolute paths to niftis are critical\n",
    "```\n",
    "+-----+----------------------------+--------------+--------------+--------------+\n",
    "| ID  | Nifti_File_Path            | Covariate_1  | Covariate_2  | Covariate_3  |\n",
    "+-----+----------------------------+--------------+--------------+--------------+\n",
    "| 1   | /path/to/file1.nii.gz      | 0.5          | 1.2          | 3.4          |\n",
    "| 2   | /path/to/file2.nii.gz      | 0.7          | 1.4          | 3.1          |\n",
    "| 3   | /path/to/file3.nii.gz      | 0.6          | 1.5          | 3.5          |\n",
    "| 4   | /path/to/file4.nii.gz      | 0.9          | 1.1          | 3.2          |\n",
    "| ... | ...                        | ...          | ...          | ...          |\n",
    "+-----+----------------------------+--------------+--------------+--------------+\n",
    "```"
   ]
  },
  {
   "cell_type": "code",
   "execution_count": null,
   "metadata": {},
   "outputs": [],
   "source": [
    "# Specify the path to your CSV file containing NIFTI paths\n",
    "input_csv_path = '/Users/cu135/Partners HealthCare Dropbox/Calvin Howard/resources/datasets/DBS_studies_influencing_memory/metadata/master_list.csv'\n",
    "sheet = None #'master_list_proper_subjects' ?"
   ]
  },
  {
   "cell_type": "code",
   "execution_count": null,
   "metadata": {},
   "outputs": [],
   "source": [
    "# Specify where you want to save your results to\n",
    "out_dir = '/Users/cu135/Partners HealthCare Dropbox/Calvin Howard/studies/ccm_memory/results/notebook_10/weighted_map_flipped_lesions_inverse'"
   ]
  },
  {
   "cell_type": "code",
   "execution_count": null,
   "metadata": {},
   "outputs": [],
   "source": [
    "from calvin_utils.permutation_analysis_utils.statsmodels_palm import CalvinStatsmodelsPalm\n",
    "# Instantiate the PalmPrepararation class\n",
    "cal_palm = CalvinStatsmodelsPalm(input_csv_path=input_csv_path, output_dir=out_dir, sheet=sheet)\n",
    "# Call the process_nifti_paths method\n",
    "data_df = cal_palm.read_and_display_data()\n",
    "data_df"
   ]
  },
  {
   "cell_type": "code",
   "execution_count": null,
   "metadata": {},
   "outputs": [],
   "source": []
  },
  {
   "cell_type": "markdown",
   "metadata": {},
   "source": [
    "\n",
    "# 01 - Preprocess Your Data"
   ]
  },
  {
   "cell_type": "markdown",
   "metadata": {},
   "source": [
    "**Handle NANs**\n",
    "- Set drop_nans=True is you would like to remove NaNs from data\n",
    "- Provide a column name or a list of column names to remove NaNs from"
   ]
  },
  {
   "cell_type": "code",
   "execution_count": null,
   "metadata": {},
   "outputs": [],
   "source": [
    "data_df.columns"
   ]
  },
  {
   "cell_type": "code",
   "execution_count": null,
   "metadata": {},
   "outputs": [],
   "source": [
    "drop_list = ['agreement_pcc_inverse_r_map_average_target_in_subject']"
   ]
  },
  {
   "cell_type": "code",
   "execution_count": null,
   "metadata": {},
   "outputs": [],
   "source": [
    "data_df = cal_palm.drop_nans_from_columns(columns_to_drop_from=drop_list)\n",
    "data_df"
   ]
  },
  {
   "cell_type": "markdown",
   "metadata": {},
   "source": [
    "**Drop Row Based on Value of Column**\n",
    "\n",
    "Define the column, condition, and value for dropping rows\n",
    "- column = 'your_column_name'\n",
    "- condition = 'above'  # Options: 'equal', 'above', 'below'"
   ]
  },
  {
   "cell_type": "markdown",
   "metadata": {},
   "source": [
    "Set the parameters for dropping rows"
   ]
  },
  {
   "cell_type": "code",
   "execution_count": null,
   "metadata": {},
   "outputs": [],
   "source": [
    "data_df.columns"
   ]
  },
  {
   "cell_type": "code",
   "execution_count": null,
   "metadata": {},
   "outputs": [],
   "source": [
    "column = 'Disease'  # The column you'd like to evaluate\n",
    "condition = 'equal'  # Thecondition to check ('equal', 'above', 'below', 'not')\n",
    "value = 'Parkinson' # The value to compare against"
   ]
  },
  {
   "cell_type": "code",
   "execution_count": null,
   "metadata": {},
   "outputs": [],
   "source": [
    "# data_df, other_df = cal_palm.drop_rows_based_on_value(column, condition, value)\n",
    "data_df"
   ]
  },
  {
   "cell_type": "markdown",
   "metadata": {},
   "source": [
    "Regress out a Covariate"
   ]
  },
  {
   "cell_type": "code",
   "execution_count": null,
   "metadata": {},
   "outputs": [],
   "source": [
    "data_df.columns"
   ]
  },
  {
   "cell_type": "code",
   "execution_count": null,
   "metadata": {},
   "outputs": [],
   "source": [
    "dependent_variable_list = ['Pre_Post_Memory_Effect_Size__Cohen_s_D_']\n",
    "regressors = ['Disease', 'Years_Between_Measurements', 'Mean_Age', 'Frequency__Hz_']"
   ]
  },
  {
   "cell_type": "code",
   "execution_count": null,
   "metadata": {},
   "outputs": [],
   "source": [
    "for col in regressors:\n",
    "    if data_df[col].dtype == 'O':  # object/categorical\n",
    "        data_df[col] = data_df[col].fillna(data_df[col].mode()[0])\n",
    "    else:  # numeric\n",
    "        data_df[col] = data_df[col].fillna(data_df[col].mean())\n",
    "data_df[regressors].isna().sum()\n"
   ]
  },
  {
   "cell_type": "code",
   "execution_count": 141,
   "metadata": {},
   "outputs": [
    {
     "name": "stdout",
     "output_type": "stream",
     "text": [
      "\n",
      " Formula for Pre_Post_Memory_Effect_Size__Cohen_s_D_: \n",
      " Pre_Post_Memory_Effect_Size__Cohen_s_D_ ~ Disease + Years_Between_Measurements + Mean_Age + Frequency__Hz_\n",
      "['Pre_Post_Memory_Effect_Size__Cohen_s_D__residual']\n"
     ]
    }
   ],
   "source": [
    "from calvin_utils.statistical_utils.regression_utils import RegressOutCovariates\n",
    "data_df, adjusted_dep_vars_list = RegressOutCovariates.run(df=data_df, dependent_variable_list=dependent_variable_list, covariates_list=regressors)\n",
    "print(adjusted_dep_vars_list)"
   ]
  },
  {
   "cell_type": "code",
   "execution_count": 142,
   "metadata": {},
   "outputs": [
    {
     "name": "stdout",
     "output_type": "stream",
     "text": [
      "Nonzero count: 98\n",
      "Non-NaN count: 30\n"
     ]
    }
   ],
   "source": [
    "import numpy as np\n",
    "nonzero_count = np.count_nonzero(data_df['Pre_Post_Memory_Effect_Size__Cohen_s_D__residual'])\n",
    "not_nan_count = data_df['Pre_Post_Memory_Effect_Size__Cohen_s_D__residual'].notna().sum()\n",
    "print(f\"Nonzero count: {nonzero_count}\")\n",
    "print(f\"Non-NaN count: {not_nan_count}\")"
   ]
  },
  {
   "cell_type": "markdown",
   "metadata": {},
   "source": [
    "**Standardize Data**\n",
    "- Enter Columns you Don't want to standardize into a list"
   ]
  },
  {
   "cell_type": "code",
   "execution_count": null,
   "metadata": {},
   "outputs": [],
   "source": [
    "data_df.columns"
   ]
  },
  {
   "cell_type": "code",
   "execution_count": null,
   "metadata": {},
   "outputs": [],
   "source": [
    "# Remove anything you don't want to standardize\n",
    "cols_not_to_standardize = ['TOTAL11']"
   ]
  },
  {
   "cell_type": "code",
   "execution_count": null,
   "metadata": {},
   "outputs": [],
   "source": [
    "data_df = cal_palm.standardize_columns(cols_not_to_standardize)\n",
    "data_df"
   ]
  },
  {
   "cell_type": "markdown",
   "metadata": {},
   "source": [
    "Misc Filtering"
   ]
  },
  {
   "cell_type": "code",
   "execution_count": 149,
   "metadata": {},
   "outputs": [],
   "source": [
    "data_df = data_df[data_df['Pre_Post_Memory_Effect_Size__Cohen_s_D_'].abs() <= 1.0]"
   ]
  },
  {
   "cell_type": "markdown",
   "metadata": {},
   "source": [
    "# 02 - Perform Basic Correlation"
   ]
  },
  {
   "cell_type": "code",
   "execution_count": 150,
   "metadata": {},
   "outputs": [
    {
     "data": {
      "text/plain": [
       "Index(['study', 'Memory_Specific', 'ses', 'N', 'Memory_Outcome',\n",
       "       'Pre_Post_Memory_Effect_Size__Cohen_s_D_', 'Location',\n",
       "       'List_of_Coordinates', 'Side', 'Frequency__Hz_', 'Magnitude__V_',\n",
       "       'Pulse_Width__us_', 'Continuous', 'Encoding_Stim', 'Consolidation_Stim',\n",
       "       'Recall_Stim', 'Closed_Loop', 'Years_Between_Measurements', 'Mean_Age',\n",
       "       'Percent_Female', 'Disease', 'Test', 'Recall_Subtype', 'Sensory_Domain',\n",
       "       'Control_Group', 'Notes', 'pooled_stdev', 'experimental_baseline_mean',\n",
       "       'experimental_baseline_stdev', 'N_1', 'Unnamed__29',\n",
       "       'experimental_post_mean', 'experimental_post_stdev',\n",
       "       'experimental_post_n', 'path',\n",
       "       'all_datasets_weighted_avg_r_map_inverted_spatial_corr',\n",
       "       'all_datasets_weighted_avg_r_map_inverted_cosine',\n",
       "       'all_datasets_weighted_avg_r_map_inverted_sum',\n",
       "       'all_datasets_weighted_avg_r_map_inverted_average_subject_in_target',\n",
       "       'all_datasets_weighted_avg_r_map_inverted_average_target_in_subject',\n",
       "       'all_datasets_weighted_avg_r_map_inverted_num_in_roi',\n",
       "       'all_datasets_unweighted_avg_r_map_pcc_inverse_r_map_spatial_corr',\n",
       "       'all_datasets_unweighted_avg_r_map_pcc_inverse_r_map_cosine',\n",
       "       'all_datasets_unweighted_avg_r_map_pcc_inverse_r_map_sum',\n",
       "       'all_datasets_unweighted_avg_r_map_pcc_inverse_r_map_average_subject_in_target',\n",
       "       'all_datasets_unweighted_avg_r_map_pcc_inverse_r_map_average_target_in_subject',\n",
       "       'all_datasets_unweighted_avg_r_map_pcc_inverse_r_map_num_in_roi',\n",
       "       'all_datasets_weighted_avg_r_map_pcc_inverse_r_map_spatial_corr_x',\n",
       "       'all_datasets_weighted_avg_r_map_pcc_inverse_r_map_cosine_x',\n",
       "       'all_datasets_weighted_avg_r_map_pcc_inverse_r_map_sum_x',\n",
       "       'all_datasets_weighted_avg_r_map_pcc_inverse_r_map_average_subject_in_target_x',\n",
       "       'all_datasets_weighted_avg_r_map_pcc_inverse_r_map_average_target_in_subject_x',\n",
       "       'all_datasets_weighted_avg_r_map_pcc_inverse_r_map_num_in_roi_x',\n",
       "       'all_datasets_weighted_avg_r_map_spatial_corr',\n",
       "       'all_datasets_weighted_avg_r_map_cosine',\n",
       "       'all_datasets_weighted_avg_r_map_sum',\n",
       "       'all_datasets_weighted_avg_r_map_average_subject_in_target',\n",
       "       'all_datasets_weighted_avg_r_map_average_target_in_subject',\n",
       "       'all_datasets_weighted_avg_r_map_num_in_roi',\n",
       "       'all_datasets_weighted_avg_r_map_pcc_inverse_r_map_spatial_corr_y',\n",
       "       'all_datasets_weighted_avg_r_map_pcc_inverse_r_map_cosine_y',\n",
       "       'all_datasets_weighted_avg_r_map_pcc_inverse_r_map_sum_y',\n",
       "       'all_datasets_weighted_avg_r_map_pcc_inverse_r_map_average_subject_in_target_y',\n",
       "       'all_datasets_weighted_avg_r_map_pcc_inverse_r_map_average_target_in_subject_y',\n",
       "       'all_datasets_weighted_avg_r_map_pcc_inverse_r_map_num_in_roi_y',\n",
       "       'flipped_lesions_all_datasets_weighted_avg_r_map_pcc_inverse_r_map_spatial_corr',\n",
       "       'flipped_lesions_all_datasets_weighted_avg_r_map_pcc_inverse_r_map_cosine',\n",
       "       'flipped_lesions_all_datasets_weighted_avg_r_map_pcc_inverse_r_map_sum',\n",
       "       'flipped_lesions_all_datasets_weighted_avg_r_map_pcc_inverse_r_map_average_subject_in_target',\n",
       "       'flipped_lesions_all_datasets_weighted_avg_r_map_pcc_inverse_r_map_average_target_in_subject',\n",
       "       'flipped_lesions_all_datasets_weighted_avg_r_map_pcc_inverse_r_map_num_in_roi',\n",
       "       'agreement_pcc_inverse_r_map_spatial_corr',\n",
       "       'agreement_pcc_inverse_r_map_cosine', 'agreement_pcc_inverse_r_map_sum',\n",
       "       'agreement_pcc_inverse_r_map_average_subject_in_target',\n",
       "       'agreement_pcc_inverse_r_map_average_target_in_subject',\n",
       "       'agreement_pcc_inverse_r_map_num_in_roi',\n",
       "       'agreement_Precom_T_spatial_corr', 'agreement_Precom_T_cosine',\n",
       "       'agreement_Precom_T_sum',\n",
       "       'agreement_Precom_T_average_subject_in_target',\n",
       "       'agreement_Precom_T_average_target_in_subject',\n",
       "       'agreement_Precom_T_num_in_roi',\n",
       "       'Pre_Post_Memory_Effect_Size__Cohen_s_D__residual'],\n",
       "      dtype='object')"
      ]
     },
     "execution_count": 150,
     "metadata": {},
     "output_type": "execute_result"
    }
   ],
   "source": [
    "data_df.columns"
   ]
  },
  {
   "cell_type": "code",
   "execution_count": 221,
   "metadata": {},
   "outputs": [],
   "source": [
    "x_col = 'agreement_pcc_inverse_r_map_cosine'\n",
    "y_col = 'Pre_Post_Memory_Effect_Size__Cohen_s_D_'"
   ]
  },
  {
   "cell_type": "code",
   "execution_count": 222,
   "metadata": {},
   "outputs": [
    {
     "data": {
      "text/plain": [
       "<Figure size 432x432 with 0 Axes>"
      ]
     },
     "metadata": {},
     "output_type": "display_data"
    },
    {
     "data": {
      "image/png": "[encoded data removed]",
      "text/plain": [
       "<Figure size 432x432 with 1 Axes>"
      ]
     },
     "metadata": {
      "needs_background": "light"
     },
     "output_type": "display_data"
    }
   ],
   "source": [
    "from calvin_utils.statistical_utils.scatterplot import simple_scatter\n",
    "simple_scatter(data_df, x_col, y_col, 'DBS', \n",
    "               x_label=\"Spatial Correlation\",\n",
    "               y_label='Memory Effect (Cohen\\'s D)',\n",
    "               out_dir=out_dir, flip_axes=True)"
   ]
  },
  {
   "cell_type": "code",
   "execution_count": 219,
   "metadata": {},
   "outputs": [
    {
     "data": {
      "text/plain": [
       "'/Users/cu135/Partners HealthCare Dropbox/Calvin Howard/studies/ccm_memory/results/notebook_10/weighted_map_flipped_lesions_inverse'"
      ]
     },
     "execution_count": 219,
     "metadata": {},
     "output_type": "execute_result"
    }
   ],
   "source": [
    "out_dir"
   ]
  },
  {
   "cell_type": "markdown",
   "metadata": {},
   "source": [
    "# Correlate Variable with All Other Variables"
   ]
  },
  {
   "cell_type": "code",
   "execution_count": null,
   "metadata": {},
   "outputs": [],
   "source": [
    "x_col = 'Pre_Post_Memory_Effect_Size__Cohen_s_D_'"
   ]
  },
  {
   "cell_type": "code",
   "execution_count": null,
   "metadata": {},
   "outputs": [],
   "source": [
    "from calvin_utils.statistical_utils.correlation_barplot import CorrelationBarPlot\n",
    "plotter = CorrelationBarPlot(data_df, x_col=x_col, method=\"spearman\")\n",
    "corr_series = plotter.run(save_path=None)"
   ]
  },
  {
   "cell_type": "markdown",
   "metadata": {},
   "source": [
    "Focus on correlations above a threhsold"
   ]
  },
  {
   "cell_type": "code",
   "execution_count": null,
   "metadata": {},
   "outputs": [],
   "source": [
    "strong_corrs = plotter.plot_threshold(0.3)      # |r| ≥ 0.4 plot"
   ]
  },
  {
   "cell_type": "code",
   "execution_count": null,
   "metadata": {},
   "outputs": [],
   "source": []
  }
 ],
 "metadata": {
  "kernelspec": {
   "display_name": "Python_3.7.7_nimlab",
   "language": "python",
   "name": "python3"
  },
  "language_info": {
   "codemirror_mode": {
    "name": "ipython",
    "version": 3
   },
   "file_extension": ".py",
   "mimetype": "text/x-python",
   "name": "python",
   "nbconvert_exporter": "python",
   "pygments_lexer": "ipython3",
   "version": "3.11.12"
  }
 },
 "nbformat": 4,
 "nbformat_minor": 4
}
