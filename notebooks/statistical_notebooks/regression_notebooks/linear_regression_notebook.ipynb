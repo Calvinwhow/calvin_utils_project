{
 "cells": [
  {
   "cell_type": "markdown",
   "metadata": {},
   "source": [
    "# Run Any Kind of OLS Regression (ANOVA, GLM, etc.)\n",
    "\n",
    "### Authors: Calvin Howard.\n",
    "\n",
    "#### Last updated: July 6, 2023\n",
    "\n",
    "Use this to run/test a statistical model (e.g., regression or T-tests) on a spreadsheet.\n",
    "\n",
    "Notes:\n",
    "- To best use this notebook, you should be familar with GLM design and Contrast Matrix design. See this webpage to get started:\n",
    "[FSL's GLM page](https://fsl.fmrib.ox.ac.uk/fsl/fslwiki/GLM)"
   ]
  },
  {
   "cell_type": "markdown",
   "metadata": {},
   "source": []
  },
  {
   "cell_type": "markdown",
   "metadata": {},
   "source": [
    "# 00 - Import CSV with All Data\n",
    "**The CSV is expected to be in this format**\n",
    "- ID and absolute paths to niftis are critical\n",
    "```\n",
    "+-----+----------------------------+--------------+--------------+--------------+\n",
    "| ID  | Nifti_File_Path            | Covariate_1  | Covariate_2  | Covariate_3  |\n",
    "+-----+----------------------------+--------------+--------------+--------------+\n",
    "| 1   | /path/to/file1.nii.gz      | 0.5          | 1.2          | 3.4          |\n",
    "| 2   | /path/to/file2.nii.gz      | 0.7          | 1.4          | 3.1          |\n",
    "| 3   | /path/to/file3.nii.gz      | 0.6          | 1.5          | 3.5          |\n",
    "| 4   | /path/to/file4.nii.gz      | 0.9          | 1.1          | 3.2          |\n",
    "| ... | ...                        | ...          | ...          | ...          |\n",
    "+-----+----------------------------+--------------+--------------+--------------+\n",
    "```"
   ]
  },
  {
   "cell_type": "markdown",
   "metadata": {},
   "source": [
    "Prep Output Direction"
   ]
  },
  {
   "cell_type": "code",
   "execution_count": null,
   "metadata": {},
   "outputs": [],
   "source": [
    "# Specify where you want to save your results to\n",
    "out_dir = '/Users/cu135/Partners HealthCare Dropbox/Calvin Howard/resources/datasets/DBS_studies_influencing_memory/analyses/test'"
   ]
  },
  {
   "cell_type": "markdown",
   "metadata": {},
   "source": [
    "Import Data"
   ]
  },
  {
   "cell_type": "code",
   "execution_count": null,
   "metadata": {},
   "outputs": [],
   "source": [
    "# Specify the path to your CSV file containing NIFTI paths\n",
    "input_csv_path = '/Users/cu135/Partners HealthCare Dropbox/Calvin Howard/resources/datasets/TMS_studies_influencing_memory/metadata/master_list.csv'\n",
    "sheet = None #'master_list_proper_subjects'"
   ]
  },
  {
   "cell_type": "code",
   "execution_count": null,
   "metadata": {},
   "outputs": [],
   "source": [
    "from calvin_utils.permutation_analysis_utils.statsmodels_palm import CalvinStatsmodelsPalm\n",
    "# Instantiate the PalmPrepararation class\n",
    "cal_palm = CalvinStatsmodelsPalm(input_csv_path=input_csv_path, output_dir=out_dir, sheet=sheet)\n",
    "# Call the process_nifti_paths method\n",
    "data_df = cal_palm.read_and_display_data()\n",
    "data_df"
   ]
  },
  {
   "cell_type": "markdown",
   "metadata": {},
   "source": [
    "\n",
    "# 01 - Preprocess Your Data"
   ]
  },
  {
   "cell_type": "markdown",
   "metadata": {},
   "source": [
    "**Handle NANs**\n",
    "- Set drop_nans=True is you would like to remove NaNs from data\n",
    "- Provide a column name or a list of column names to remove NaNs from"
   ]
  },
  {
   "cell_type": "code",
   "execution_count": null,
   "metadata": {},
   "outputs": [],
   "source": [
    "data_df.columns"
   ]
  },
  {
   "cell_type": "code",
   "execution_count": null,
   "metadata": {},
   "outputs": [],
   "source": [
    "drop_list = [\"Pre_Post_Memory_Effect_Size__Cohen_s_D_\", 'all_datasets_weighted_avg_r_map_pcc_inverse_r_map_average_target_in_subject']"
   ]
  },
  {
   "cell_type": "code",
   "execution_count": null,
   "metadata": {},
   "outputs": [],
   "source": [
    "data_df = cal_palm.drop_nans_from_columns(columns_to_drop_from=drop_list)\n",
    "data_df"
   ]
  },
  {
   "cell_type": "markdown",
   "metadata": {},
   "source": [
    "**Drop Row Based on Value of Column**\n",
    "\n",
    "Define the column, condition, and value for dropping rows\n",
    "- column = 'your_column_name'\n",
    "- condition = 'above'  # Options: 'equal', 'above', 'below'"
   ]
  },
  {
   "cell_type": "code",
   "execution_count": null,
   "metadata": {},
   "outputs": [],
   "source": [
    "data_df.columns"
   ]
  },
  {
   "cell_type": "markdown",
   "metadata": {},
   "source": [
    "Set the parameters for dropping rows"
   ]
  },
  {
   "cell_type": "code",
   "execution_count": null,
   "metadata": {},
   "outputs": [],
   "source": [
    "column = 'Memory_Primary_Outcome'  # The column you'd like to evaluate\n",
    "condition = 'not'  # The condition to check ('equal', 'above', 'below', 'not')\n",
    "value = 1 # The value to drop if T"
   ]
  },
  {
   "cell_type": "code",
   "execution_count": null,
   "metadata": {},
   "outputs": [],
   "source": [
    "data_df, other_df = cal_palm.drop_rows_based_on_value(column, condition, value)\n",
    "display(data_df)"
   ]
  },
  {
   "cell_type": "markdown",
   "metadata": {},
   "source": [
    "**Standardize Data**\n",
    "- Enter Columns you Don't want to standardize into a list"
   ]
  },
  {
   "cell_type": "code",
   "execution_count": null,
   "metadata": {},
   "outputs": [],
   "source": [
    "data_df.columns"
   ]
  },
  {
   "cell_type": "code",
   "execution_count": 44,
   "metadata": {},
   "outputs": [],
   "source": [
    "# Remove anything you don't want to standardize\n",
    "cols_not_to_standardize = [] #['Age']\n",
    "# drop_list = ['CorrWithSiddiqiMap', 'depression_raw_baeline', 'depression_raw_follow_up']"
   ]
  },
  {
   "cell_type": "code",
   "execution_count": 45,
   "metadata": {},
   "outputs": [
    {
     "name": "stdout",
     "output_type": "stream",
     "text": [
      "Unable to standardize column study.\n",
      "Unable to standardize column PMID.\n",
      "Unable to standardize column DOI.\n",
      "Unable to standardize column ses.\n",
      "Unable to standardize column Reported_Outcome.\n",
      "Unable to standardize column Location.\n",
      "Unable to standardize column List_of_Coordinates.\n",
      "Unable to standardize column Side.\n",
      "Unable to standardize column Frequency__Hz_.\n",
      "Unable to standardize column Stim_Relative_to_Memory_Cycle.\n",
      "Unable to standardize column Stim_Info.\n",
      "Unable to standardize column Percent_Female.\n",
      "Unable to standardize column Disease.\n",
      "Unable to standardize column Test.\n",
      "Unable to standardize column Recall_Subtype.\n",
      "Unable to standardize column Sensory_Domain.\n",
      "Unable to standardize column Notes.\n",
      "Unable to standardize column Break.\n",
      "Unable to standardize column PDF_Path.\n",
      "Unable to standardize column Break_1.\n",
      "Unable to standardize column To_what_region_of_the_brain_was_TMS_delivered.\n",
      "Unable to standardize column Did_the_study_report_TMS_improved__worsened__or_had_not_effect_on_memory.\n",
      "Unable to standardize column What_was_the_mean_age_of_the_patients_in_the_study_.\n",
      "Unable to standardize column What_diagnosis_did_the_patients_have__or_were_they_healthy_.\n",
      "Unable to standardize column What_was_the_frequency_of_TMS_used_in_this_study__For_example__options_are__low_freuqnecy_rTMS___1Hz___hi_frequency_rTMS___10Hz___and_theta_burst__often_50Hz_.\n",
      "Unable to standardize column Is_there_enough_information_to_determine_the_stimulation_site__specifically_to_derive_a_coordinate_of_stimulation_.\n",
      "Unable to standardize column What_test_was_used_to_measure_memory_.\n",
      "Unable to standardize column Was_verbal_or_visual_memory_measured_.\n",
      "Unable to standardize column Was_this_manuscript_primarily_about_the_influence_of_TMS_on_memory__Or_was_memory_tacked_on_to_a_different_primary_outcome_.\n",
      "Unable to standardize column What_was_the_duration_between_TMS_and_measurement__How_many_days__weeks__or_months_apart_were_the_initial_and_post_TMS_evaluations_.\n",
      "Unable to standardize column When_was_the_TMS_administered_relative_to_mmory__Was_it_during_encoding__presentation_of_stimulus___in_consolidation__after_stimulus___during_recall__during_recall___or_priming__such_as_before_testing__like_when_TMS_is_given_every_day_for_weeks_between_sessions__.\n",
      "Unable to standardize column path.\n"
     ]
    },
    {
     "name": "stderr",
     "output_type": "stream",
     "text": [
      "/Users/cu135/Software_Local/calvin_utils_project/calvin_utils_project/calvin_utils/permutation_analysis_utils/statsmodels_palm.py:163: FutureWarning:\n",
      "\n",
      "Setting an item of incompatible dtype is deprecated and will raise an error in a future version of pandas. Value '[-0.76265574  0.42899385 -0.57932503 -0.57932503 -0.21266362 -0.21266362\n",
      " -0.12099827 -0.05988803  0.3373285  -0.76265574 -0.57932503  0.73454503\n",
      " -0.5182148  -0.5182148   3.66783635 -0.48765968 -0.36543921 -0.36543921\n",
      "  0.12344268 -0.60988015  0.42899385  3.08728911  0.64287968 -0.48765968\n",
      " -0.91543133 -0.02933291 -0.1821085   0.49010409  1.46786786 -0.54876992\n",
      " -0.67099039  0.12344268 -0.64043527 -0.64043527 -0.57932503 -0.5182148\n",
      " -0.36543921  0.36788362 -0.79321086 -0.60988015 -0.64043527 -0.79321086\n",
      "  0.06233244 -0.88487621 -0.02933291 -0.73210062 -0.79321086 -0.79321086\n",
      " -0.79321086 -0.79321086 -0.91543133 -0.64043527 -0.1821085  -0.48765968\n",
      " -0.54876992 -0.54876992 -0.33488409 -0.60988015 -0.79321086 -0.24321874\n",
      "  0.15399779  1.95674975  1.95674975  1.95674975  1.95674975  1.95674975\n",
      "  1.95674975 -0.64043527  0.82621039 -0.60988015 -0.91543133 -0.73210062\n",
      "  2.26230093  0.49010409  0.73454503]' has dtype incompatible with int64, please explicitly cast to a compatible dtype first.\n",
      "\n",
      "/Users/cu135/Software_Local/calvin_utils_project/calvin_utils_project/calvin_utils/permutation_analysis_utils/statsmodels_palm.py:163: FutureWarning:\n",
      "\n",
      "Setting an item of incompatible dtype is deprecated and will raise an error in a future version of pandas. Value '[ 0.4145781   0.4145781   0.4145781   0.4145781   0.4145781   0.4145781\n",
      "  0.4145781   0.4145781  -2.41209076  0.4145781   0.4145781  -2.41209076\n",
      "  0.4145781   0.4145781   0.4145781   0.4145781   0.4145781   0.4145781\n",
      "  0.4145781   0.4145781  -2.41209076  0.4145781   0.4145781   0.4145781\n",
      " -2.41209076  0.4145781  -2.41209076  0.4145781   0.4145781   0.4145781\n",
      " -2.41209076  0.4145781   0.4145781   0.4145781  -2.41209076  0.4145781\n",
      "  0.4145781   0.4145781   0.4145781   0.4145781   0.4145781   0.4145781\n",
      "  0.4145781   0.4145781   0.4145781   0.4145781   0.4145781   0.4145781\n",
      "  0.4145781   0.4145781   0.4145781   0.4145781   0.4145781   0.4145781\n",
      " -2.41209076 -2.41209076  0.4145781   0.4145781   0.4145781   0.4145781\n",
      "  0.4145781   0.4145781   0.4145781   0.4145781   0.4145781   0.4145781\n",
      "  0.4145781  -2.41209076  0.4145781   0.4145781  -2.41209076  0.4145781\n",
      "  0.4145781   0.4145781   0.4145781 ]' has dtype incompatible with bool, please explicitly cast to a compatible dtype first.\n",
      "\n"
     ]
    },
    {
     "data": {
      "text/html": [
       "<div>\n",
       "<style scoped>\n",
       "    .dataframe tbody tr th:only-of-type {\n",
       "        vertical-align: middle;\n",
       "    }\n",
       "\n",
       "    .dataframe tbody tr th {\n",
       "        vertical-align: top;\n",
       "    }\n",
       "\n",
       "    .dataframe thead th {\n",
       "        text-align: right;\n",
       "    }\n",
       "</style>\n",
       "<table border=\"1\" class=\"dataframe\">\n",
       "  <thead>\n",
       "    <tr style=\"text-align: right;\">\n",
       "      <th></th>\n",
       "      <th>study</th>\n",
       "      <th>PMID</th>\n",
       "      <th>DOI</th>\n",
       "      <th>ses</th>\n",
       "      <th>N</th>\n",
       "      <th>Reported_Outcome</th>\n",
       "      <th>Pre_Post_Memory_Effect_Size__Cohen_s_D_</th>\n",
       "      <th>Location</th>\n",
       "      <th>List_of_Coordinates</th>\n",
       "      <th>Side</th>\n",
       "      <th>...</th>\n",
       "      <th>all_datasets_weighted_avg_r_map_pcc_inverse_r_map_sum</th>\n",
       "      <th>all_datasets_weighted_avg_r_map_pcc_inverse_r_map_average_subject_in_target</th>\n",
       "      <th>all_datasets_weighted_avg_r_map_pcc_inverse_r_map_average_target_in_subject</th>\n",
       "      <th>all_datasets_weighted_avg_r_map_pcc_inverse_r_map_num_in_roi</th>\n",
       "      <th>all_datasets_unweighted_avg_r_map_pcc_inverse_r_map_spatial_corr</th>\n",
       "      <th>all_datasets_unweighted_avg_r_map_pcc_inverse_r_map_cosine</th>\n",
       "      <th>all_datasets_unweighted_avg_r_map_pcc_inverse_r_map_sum</th>\n",
       "      <th>all_datasets_unweighted_avg_r_map_pcc_inverse_r_map_average_subject_in_target</th>\n",
       "      <th>all_datasets_unweighted_avg_r_map_pcc_inverse_r_map_average_target_in_subject</th>\n",
       "      <th>all_datasets_unweighted_avg_r_map_pcc_inverse_r_map_num_in_roi</th>\n",
       "    </tr>\n",
       "  </thead>\n",
       "  <tbody>\n",
       "    <tr>\n",
       "      <th>3</th>\n",
       "      <td>Avirame 2016</td>\n",
       "      <td>27159441</td>\n",
       "      <td>10.1097/YCT.0000000000000286</td>\n",
       "      <td>dlPFC__hfrTMS</td>\n",
       "      <td>-0.720211</td>\n",
       "      <td>Improved</td>\n",
       "      <td>0.788993</td>\n",
       "      <td>dlPFC</td>\n",
       "      <td>[-43, 35, 30]</td>\n",
       "      <td>NaN</td>\n",
       "      <td>...</td>\n",
       "      <td>0.558259</td>\n",
       "      <td>0.558259</td>\n",
       "      <td>0.758443</td>\n",
       "      <td>NaN</td>\n",
       "      <td>-0.762691</td>\n",
       "      <td>-0.762183</td>\n",
       "      <td>-0.744799</td>\n",
       "      <td>-0.744799</td>\n",
       "      <td>-0.770577</td>\n",
       "      <td>NaN</td>\n",
       "    </tr>\n",
       "    <tr>\n",
       "      <th>4</th>\n",
       "      <td>Bagattini 2020b</td>\n",
       "      <td>33002645</td>\n",
       "      <td>10.1016/j.brs.2020.09.010</td>\n",
       "      <td>dlPFC_L_hfrTMS</td>\n",
       "      <td>0.527785</td>\n",
       "      <td>Improved</td>\n",
       "      <td>0.325222</td>\n",
       "      <td>dlPFC</td>\n",
       "      <td>[-43, 35, 30]</td>\n",
       "      <td>L</td>\n",
       "      <td>...</td>\n",
       "      <td>0.558259</td>\n",
       "      <td>0.558259</td>\n",
       "      <td>0.758443</td>\n",
       "      <td>NaN</td>\n",
       "      <td>-0.762691</td>\n",
       "      <td>-0.762183</td>\n",
       "      <td>-0.744799</td>\n",
       "      <td>-0.744799</td>\n",
       "      <td>-0.770577</td>\n",
       "      <td>NaN</td>\n",
       "    </tr>\n",
       "    <tr>\n",
       "      <th>6</th>\n",
       "      <td>Berkers 2017</td>\n",
       "      <td>28068640</td>\n",
       "      <td>10.1016/j.cortex.2016.12.015</td>\n",
       "      <td>Vertex_L_R_thetaTMS</td>\n",
       "      <td>-0.528211</td>\n",
       "      <td>Improved</td>\n",
       "      <td>0.150920</td>\n",
       "      <td>Vertex</td>\n",
       "      <td>[0, -10, 74]</td>\n",
       "      <td>L_R</td>\n",
       "      <td>...</td>\n",
       "      <td>-1.438369</td>\n",
       "      <td>-1.438369</td>\n",
       "      <td>-1.600239</td>\n",
       "      <td>NaN</td>\n",
       "      <td>-0.657624</td>\n",
       "      <td>-0.654932</td>\n",
       "      <td>-0.511258</td>\n",
       "      <td>-0.511258</td>\n",
       "      <td>-0.819662</td>\n",
       "      <td>NaN</td>\n",
       "    </tr>\n",
       "    <tr>\n",
       "      <th>7</th>\n",
       "      <td>Berkers 2017</td>\n",
       "      <td>28068640</td>\n",
       "      <td>10.1016/j.cortex.2016.12.015</td>\n",
       "      <td>mPFC_L_R_thetaTMS</td>\n",
       "      <td>-0.528211</td>\n",
       "      <td>Improved</td>\n",
       "      <td>-0.623229</td>\n",
       "      <td>mPFC</td>\n",
       "      <td>[0, 68, -2]</td>\n",
       "      <td>L_R</td>\n",
       "      <td>...</td>\n",
       "      <td>-2.054312</td>\n",
       "      <td>-2.054312</td>\n",
       "      <td>-2.593289</td>\n",
       "      <td>NaN</td>\n",
       "      <td>1.332077</td>\n",
       "      <td>1.334353</td>\n",
       "      <td>1.122066</td>\n",
       "      <td>1.122066</td>\n",
       "      <td>1.581291</td>\n",
       "      <td>NaN</td>\n",
       "    </tr>\n",
       "    <tr>\n",
       "      <th>8</th>\n",
       "      <td>Blumenfeld 2013</td>\n",
       "      <td>24316198</td>\n",
       "      <td>10.1016/j.neuropsychologia.2013.11.021</td>\n",
       "      <td>dlPFC_L_thetaTMS</td>\n",
       "      <td>-0.144213</td>\n",
       "      <td>Improved</td>\n",
       "      <td>-0.557492</td>\n",
       "      <td>dlPFC</td>\n",
       "      <td>[-43, 35, 30]</td>\n",
       "      <td>L</td>\n",
       "      <td>...</td>\n",
       "      <td>0.558259</td>\n",
       "      <td>0.558259</td>\n",
       "      <td>0.758443</td>\n",
       "      <td>NaN</td>\n",
       "      <td>-0.762691</td>\n",
       "      <td>-0.762183</td>\n",
       "      <td>-0.744799</td>\n",
       "      <td>-0.744799</td>\n",
       "      <td>-0.770577</td>\n",
       "      <td>NaN</td>\n",
       "    </tr>\n",
       "    <tr>\n",
       "      <th>...</th>\n",
       "      <td>...</td>\n",
       "      <td>...</td>\n",
       "      <td>...</td>\n",
       "      <td>...</td>\n",
       "      <td>...</td>\n",
       "      <td>...</td>\n",
       "      <td>...</td>\n",
       "      <td>...</td>\n",
       "      <td>...</td>\n",
       "      <td>...</td>\n",
       "      <td>...</td>\n",
       "      <td>...</td>\n",
       "      <td>...</td>\n",
       "      <td>...</td>\n",
       "      <td>...</td>\n",
       "      <td>...</td>\n",
       "      <td>...</td>\n",
       "      <td>...</td>\n",
       "      <td>...</td>\n",
       "      <td>...</td>\n",
       "      <td>...</td>\n",
       "    </tr>\n",
       "    <tr>\n",
       "      <th>84</th>\n",
       "      <td>Wassermann 1996</td>\n",
       "      <td>NaN</td>\n",
       "      <td>https://doi.org/10.1016/0924-980X(96)96004-X</td>\n",
       "      <td>dlPFC_L_hfrTMS</td>\n",
       "      <td>-0.880210</td>\n",
       "      <td>Improved</td>\n",
       "      <td>0.538651</td>\n",
       "      <td>dlPFC</td>\n",
       "      <td>[-43, 35, 30]</td>\n",
       "      <td>L</td>\n",
       "      <td>...</td>\n",
       "      <td>0.558259</td>\n",
       "      <td>0.558259</td>\n",
       "      <td>0.758443</td>\n",
       "      <td>NaN</td>\n",
       "      <td>-0.762691</td>\n",
       "      <td>-0.762183</td>\n",
       "      <td>-0.744799</td>\n",
       "      <td>-0.744799</td>\n",
       "      <td>-0.770577</td>\n",
       "      <td>NaN</td>\n",
       "    </tr>\n",
       "    <tr>\n",
       "      <th>85</th>\n",
       "      <td>Wu 2020</td>\n",
       "      <td>31884184</td>\n",
       "      <td>10.1016/j.brs.2019.12.020</td>\n",
       "      <td>dlPFC_L_thetaTMS</td>\n",
       "      <td>-0.688211</td>\n",
       "      <td>Improved</td>\n",
       "      <td>1.634411</td>\n",
       "      <td>dlPFC</td>\n",
       "      <td>[-43, 35, 30]</td>\n",
       "      <td>L</td>\n",
       "      <td>...</td>\n",
       "      <td>0.558259</td>\n",
       "      <td>0.558259</td>\n",
       "      <td>0.758443</td>\n",
       "      <td>NaN</td>\n",
       "      <td>-0.762691</td>\n",
       "      <td>-0.762183</td>\n",
       "      <td>-0.744799</td>\n",
       "      <td>-0.744799</td>\n",
       "      <td>-0.770577</td>\n",
       "      <td>NaN</td>\n",
       "    </tr>\n",
       "    <tr>\n",
       "      <th>86</th>\n",
       "      <td>Xiu 2020</td>\n",
       "      <td>32185388</td>\n",
       "      <td>10.1093/schbul/sbaa035</td>\n",
       "      <td>dlPFC_L_hfrTMS</td>\n",
       "      <td>2.447777</td>\n",
       "      <td>Improved</td>\n",
       "      <td>1.184433</td>\n",
       "      <td>dlPFC</td>\n",
       "      <td>[-43, 35, 30]</td>\n",
       "      <td>L</td>\n",
       "      <td>...</td>\n",
       "      <td>0.558259</td>\n",
       "      <td>0.558259</td>\n",
       "      <td>0.758443</td>\n",
       "      <td>NaN</td>\n",
       "      <td>-0.762691</td>\n",
       "      <td>-0.762183</td>\n",
       "      <td>-0.744799</td>\n",
       "      <td>-0.744799</td>\n",
       "      <td>-0.770577</td>\n",
       "      <td>NaN</td>\n",
       "    </tr>\n",
       "    <tr>\n",
       "      <th>87</th>\n",
       "      <td>Yang 2019</td>\n",
       "      <td>30795490</td>\n",
       "      <td>10.1016/j.jad.2018.12.102</td>\n",
       "      <td>dlPFC_L_hfrTMS</td>\n",
       "      <td>0.591784</td>\n",
       "      <td>Improved</td>\n",
       "      <td>-0.063394</td>\n",
       "      <td>dlPFC</td>\n",
       "      <td>[-43, 35, 30]</td>\n",
       "      <td>L</td>\n",
       "      <td>...</td>\n",
       "      <td>0.558259</td>\n",
       "      <td>0.558259</td>\n",
       "      <td>0.758443</td>\n",
       "      <td>NaN</td>\n",
       "      <td>-0.762691</td>\n",
       "      <td>-0.762183</td>\n",
       "      <td>-0.744799</td>\n",
       "      <td>-0.744799</td>\n",
       "      <td>-0.770577</td>\n",
       "      <td>NaN</td>\n",
       "    </tr>\n",
       "    <tr>\n",
       "      <th>88</th>\n",
       "      <td>Zhuo 2019</td>\n",
       "      <td>31190822</td>\n",
       "      <td>10.2147/NDT.S196086</td>\n",
       "      <td>dlPFC_L_hfrTMS</td>\n",
       "      <td>0.847783</td>\n",
       "      <td>Mixed</td>\n",
       "      <td>-0.684059</td>\n",
       "      <td>dlPFC</td>\n",
       "      <td>[-43, 35, 30]</td>\n",
       "      <td>L</td>\n",
       "      <td>...</td>\n",
       "      <td>0.558259</td>\n",
       "      <td>0.558259</td>\n",
       "      <td>0.758443</td>\n",
       "      <td>NaN</td>\n",
       "      <td>-0.762691</td>\n",
       "      <td>-0.762183</td>\n",
       "      <td>-0.744799</td>\n",
       "      <td>-0.744799</td>\n",
       "      <td>-0.770577</td>\n",
       "      <td>NaN</td>\n",
       "    </tr>\n",
       "  </tbody>\n",
       "</table>\n",
       "<p>75 rows × 82 columns</p>\n",
       "</div>"
      ],
      "text/plain": [
       "              study      PMID                                           DOI  \\\n",
       "3      Avirame 2016  27159441                  10.1097/YCT.0000000000000286   \n",
       "4   Bagattini 2020b  33002645                     10.1016/j.brs.2020.09.010   \n",
       "6      Berkers 2017  28068640                  10.1016/j.cortex.2016.12.015   \n",
       "7      Berkers 2017  28068640                  10.1016/j.cortex.2016.12.015   \n",
       "8   Blumenfeld 2013  24316198        10.1016/j.neuropsychologia.2013.11.021   \n",
       "..              ...       ...                                           ...   \n",
       "84  Wassermann 1996       NaN  https://doi.org/10.1016/0924-980X(96)96004-X   \n",
       "85          Wu 2020  31884184                     10.1016/j.brs.2019.12.020   \n",
       "86         Xiu 2020  32185388                        10.1093/schbul/sbaa035   \n",
       "87        Yang 2019  30795490                     10.1016/j.jad.2018.12.102   \n",
       "88        Zhuo 2019  31190822                           10.2147/NDT.S196086   \n",
       "\n",
       "                    ses         N Reported_Outcome  \\\n",
       "3         dlPFC__hfrTMS -0.720211         Improved   \n",
       "4        dlPFC_L_hfrTMS  0.527785         Improved   \n",
       "6   Vertex_L_R_thetaTMS -0.528211         Improved   \n",
       "7     mPFC_L_R_thetaTMS -0.528211         Improved   \n",
       "8      dlPFC_L_thetaTMS -0.144213         Improved   \n",
       "..                  ...       ...              ...   \n",
       "84       dlPFC_L_hfrTMS -0.880210         Improved   \n",
       "85     dlPFC_L_thetaTMS -0.688211         Improved   \n",
       "86       dlPFC_L_hfrTMS  2.447777         Improved   \n",
       "87       dlPFC_L_hfrTMS  0.591784         Improved   \n",
       "88       dlPFC_L_hfrTMS  0.847783            Mixed   \n",
       "\n",
       "    Pre_Post_Memory_Effect_Size__Cohen_s_D_ Location List_of_Coordinates Side  \\\n",
       "3                                  0.788993    dlPFC       [-43, 35, 30]  NaN   \n",
       "4                                  0.325222    dlPFC       [-43, 35, 30]    L   \n",
       "6                                  0.150920   Vertex        [0, -10, 74]  L_R   \n",
       "7                                 -0.623229     mPFC         [0, 68, -2]  L_R   \n",
       "8                                 -0.557492    dlPFC       [-43, 35, 30]    L   \n",
       "..                                      ...      ...                 ...  ...   \n",
       "84                                 0.538651    dlPFC       [-43, 35, 30]    L   \n",
       "85                                 1.634411    dlPFC       [-43, 35, 30]    L   \n",
       "86                                 1.184433    dlPFC       [-43, 35, 30]    L   \n",
       "87                                -0.063394    dlPFC       [-43, 35, 30]    L   \n",
       "88                                -0.684059    dlPFC       [-43, 35, 30]    L   \n",
       "\n",
       "    ... all_datasets_weighted_avg_r_map_pcc_inverse_r_map_sum  \\\n",
       "3   ...                                           0.558259      \n",
       "4   ...                                           0.558259      \n",
       "6   ...                                          -1.438369      \n",
       "7   ...                                          -2.054312      \n",
       "8   ...                                           0.558259      \n",
       "..  ...                                                ...      \n",
       "84  ...                                           0.558259      \n",
       "85  ...                                           0.558259      \n",
       "86  ...                                           0.558259      \n",
       "87  ...                                           0.558259      \n",
       "88  ...                                           0.558259      \n",
       "\n",
       "    all_datasets_weighted_avg_r_map_pcc_inverse_r_map_average_subject_in_target  \\\n",
       "3                                            0.558259                             \n",
       "4                                            0.558259                             \n",
       "6                                           -1.438369                             \n",
       "7                                           -2.054312                             \n",
       "8                                            0.558259                             \n",
       "..                                                ...                             \n",
       "84                                           0.558259                             \n",
       "85                                           0.558259                             \n",
       "86                                           0.558259                             \n",
       "87                                           0.558259                             \n",
       "88                                           0.558259                             \n",
       "\n",
       "   all_datasets_weighted_avg_r_map_pcc_inverse_r_map_average_target_in_subject  \\\n",
       "3                                            0.758443                            \n",
       "4                                            0.758443                            \n",
       "6                                           -1.600239                            \n",
       "7                                           -2.593289                            \n",
       "8                                            0.758443                            \n",
       "..                                                ...                            \n",
       "84                                           0.758443                            \n",
       "85                                           0.758443                            \n",
       "86                                           0.758443                            \n",
       "87                                           0.758443                            \n",
       "88                                           0.758443                            \n",
       "\n",
       "   all_datasets_weighted_avg_r_map_pcc_inverse_r_map_num_in_roi  \\\n",
       "3                                                 NaN             \n",
       "4                                                 NaN             \n",
       "6                                                 NaN             \n",
       "7                                                 NaN             \n",
       "8                                                 NaN             \n",
       "..                                                ...             \n",
       "84                                                NaN             \n",
       "85                                                NaN             \n",
       "86                                                NaN             \n",
       "87                                                NaN             \n",
       "88                                                NaN             \n",
       "\n",
       "    all_datasets_unweighted_avg_r_map_pcc_inverse_r_map_spatial_corr  \\\n",
       "3                                           -0.762691                  \n",
       "4                                           -0.762691                  \n",
       "6                                           -0.657624                  \n",
       "7                                            1.332077                  \n",
       "8                                           -0.762691                  \n",
       "..                                                ...                  \n",
       "84                                          -0.762691                  \n",
       "85                                          -0.762691                  \n",
       "86                                          -0.762691                  \n",
       "87                                          -0.762691                  \n",
       "88                                          -0.762691                  \n",
       "\n",
       "    all_datasets_unweighted_avg_r_map_pcc_inverse_r_map_cosine  \\\n",
       "3                                           -0.762183            \n",
       "4                                           -0.762183            \n",
       "6                                           -0.654932            \n",
       "7                                            1.334353            \n",
       "8                                           -0.762183            \n",
       "..                                                ...            \n",
       "84                                          -0.762183            \n",
       "85                                          -0.762183            \n",
       "86                                          -0.762183            \n",
       "87                                          -0.762183            \n",
       "88                                          -0.762183            \n",
       "\n",
       "    all_datasets_unweighted_avg_r_map_pcc_inverse_r_map_sum  \\\n",
       "3                                           -0.744799         \n",
       "4                                           -0.744799         \n",
       "6                                           -0.511258         \n",
       "7                                            1.122066         \n",
       "8                                           -0.744799         \n",
       "..                                                ...         \n",
       "84                                          -0.744799         \n",
       "85                                          -0.744799         \n",
       "86                                          -0.744799         \n",
       "87                                          -0.744799         \n",
       "88                                          -0.744799         \n",
       "\n",
       "    all_datasets_unweighted_avg_r_map_pcc_inverse_r_map_average_subject_in_target  \\\n",
       "3                                           -0.744799                               \n",
       "4                                           -0.744799                               \n",
       "6                                           -0.511258                               \n",
       "7                                            1.122066                               \n",
       "8                                           -0.744799                               \n",
       "..                                                ...                               \n",
       "84                                          -0.744799                               \n",
       "85                                          -0.744799                               \n",
       "86                                          -0.744799                               \n",
       "87                                          -0.744799                               \n",
       "88                                          -0.744799                               \n",
       "\n",
       "   all_datasets_unweighted_avg_r_map_pcc_inverse_r_map_average_target_in_subject  \\\n",
       "3                                           -0.770577                              \n",
       "4                                           -0.770577                              \n",
       "6                                           -0.819662                              \n",
       "7                                            1.581291                              \n",
       "8                                           -0.770577                              \n",
       "..                                                ...                              \n",
       "84                                          -0.770577                              \n",
       "85                                          -0.770577                              \n",
       "86                                          -0.770577                              \n",
       "87                                          -0.770577                              \n",
       "88                                          -0.770577                              \n",
       "\n",
       "   all_datasets_unweighted_avg_r_map_pcc_inverse_r_map_num_in_roi  \n",
       "3                                                 NaN              \n",
       "4                                                 NaN              \n",
       "6                                                 NaN              \n",
       "7                                                 NaN              \n",
       "8                                                 NaN              \n",
       "..                                                ...              \n",
       "84                                                NaN              \n",
       "85                                                NaN              \n",
       "86                                                NaN              \n",
       "87                                                NaN              \n",
       "88                                                NaN              \n",
       "\n",
       "[75 rows x 82 columns]"
      ]
     },
     "execution_count": 45,
     "metadata": {},
     "output_type": "execute_result"
    }
   ],
   "source": [
    "data_df = cal_palm.standardize_columns(cols_not_to_standardize)\n",
    "data_df"
   ]
  },
  {
   "cell_type": "code",
   "execution_count": 46,
   "metadata": {},
   "outputs": [
    {
     "data": {
      "text/plain": [
       "Index(['study', 'PMID', 'DOI', 'ses', 'N', 'Reported_Outcome',\n",
       "       'Pre_Post_Memory_Effect_Size__Cohen_s_D_', 'Location',\n",
       "       'List_of_Coordinates', 'Side', 'Frequency__Hz_', 'Magnitude__V_',\n",
       "       'Stim_Relative_to_Memory_Cycle', 'Stim_Info', 'Closed_Loop',\n",
       "       'Years_Between_Measurements', 'Mean_Age', 'Stdev_Age', 'Percent_Female',\n",
       "       'Disease', 'Test', 'Recall_Subtype', 'Sensory_Domain',\n",
       "       'Memory_Primary_Outcome', 'Control_Group', 'Notes', 'pooled_stdev',\n",
       "       'experimental_baseline_mean', 'experimental_baseline_stdev', 'N_1',\n",
       "       'Break', 'experimental_post_mean', 'experimental_post_stdev',\n",
       "       'experimental_post_n', 'PDF_Downloaded', 'PDF_Path', 'Break_1',\n",
       "       'Is_the_primary_outcome_of_this_manuscript_about_memory___Yes_No_',\n",
       "       'Does_this_manuscript_use_transcranial_magnetic_stimulation__TMS____Yes_No_',\n",
       "       'Does_this_manuscript_report_memory_outcomes___Yes_No_',\n",
       "       'To_what_region_of_the_brain_was_TMS_delivered',\n",
       "       'Did_the_study_report_TMS_improved__worsened__or_had_not_effect_on_memory',\n",
       "       'What_was_the_mean_age_of_the_patients_in_the_study_',\n",
       "       'What_diagnosis_did_the_patients_have__or_were_they_healthy_',\n",
       "       'What_was_the_frequency_of_TMS_used_in_this_study__For_example__options_are__low_freuqnecy_rTMS___1Hz___hi_frequency_rTMS___10Hz___and_theta_burst__often_50Hz_',\n",
       "       'Is_there_enough_information_to_determine_the_stimulation_site__specifically_to_derive_a_coordinate_of_stimulation_',\n",
       "       'What_test_was_used_to_measure_memory_',\n",
       "       'Was_verbal_or_visual_memory_measured_',\n",
       "       'Was_this_manuscript_primarily_about_the_influence_of_TMS_on_memory__Or_was_memory_tacked_on_to_a_different_primary_outcome_',\n",
       "       'What_was_the_duration_between_TMS_and_measurement__How_many_days__weeks__or_months_apart_were_the_initial_and_post_TMS_evaluations_',\n",
       "       'When_was_the_TMS_administered_relative_to_mmory__Was_it_during_encoding__presentation_of_stimulus___in_consolidation__after_stimulus___during_recall__during_recall___or_priming__such_as_before_testing__like_when_TMS_is_given_every_day_for_weeks_between_sessions__',\n",
       "       'path', 'train_prune_test_performs_highly_spatial_corr',\n",
       "       'train_prune_test_performs_highly_cosine',\n",
       "       'train_prune_test_performs_highly_sum',\n",
       "       'train_prune_test_performs_highly_average_subject_in_target',\n",
       "       'train_prune_test_performs_highly_average_target_in_subject',\n",
       "       'train_prune_test_performs_highly_num_in_roi',\n",
       "       'all_datasets_weighted_avg_r_map_spatial_corr',\n",
       "       'all_datasets_weighted_avg_r_map_cosine',\n",
       "       'all_datasets_weighted_avg_r_map_sum',\n",
       "       'all_datasets_weighted_avg_r_map_average_subject_in_target',\n",
       "       'all_datasets_weighted_avg_r_map_average_target_in_subject',\n",
       "       'all_datasets_weighted_avg_r_map_num_in_roi',\n",
       "       'all_datasets_unweighted_avg_r_map_spatial_corr',\n",
       "       'all_datasets_unweighted_avg_r_map_cosine',\n",
       "       'all_datasets_unweighted_avg_r_map_sum',\n",
       "       'all_datasets_unweighted_avg_r_map_average_subject_in_target',\n",
       "       'all_datasets_unweighted_avg_r_map_average_target_in_subject',\n",
       "       'all_datasets_unweighted_avg_r_map_num_in_roi',\n",
       "       'all_datasets_weighted_avg_r_map_pcc_inverse_r_map_spatial_corr',\n",
       "       'all_datasets_weighted_avg_r_map_pcc_inverse_r_map_cosine',\n",
       "       'all_datasets_weighted_avg_r_map_pcc_inverse_r_map_sum',\n",
       "       'all_datasets_weighted_avg_r_map_pcc_inverse_r_map_average_subject_in_target',\n",
       "       'all_datasets_weighted_avg_r_map_pcc_inverse_r_map_average_target_in_subject',\n",
       "       'all_datasets_weighted_avg_r_map_pcc_inverse_r_map_num_in_roi',\n",
       "       'all_datasets_unweighted_avg_r_map_pcc_inverse_r_map_spatial_corr',\n",
       "       'all_datasets_unweighted_avg_r_map_pcc_inverse_r_map_cosine',\n",
       "       'all_datasets_unweighted_avg_r_map_pcc_inverse_r_map_sum',\n",
       "       'all_datasets_unweighted_avg_r_map_pcc_inverse_r_map_average_subject_in_target',\n",
       "       'all_datasets_unweighted_avg_r_map_pcc_inverse_r_map_average_target_in_subject',\n",
       "       'all_datasets_unweighted_avg_r_map_pcc_inverse_r_map_num_in_roi'],\n",
       "      dtype='object')"
      ]
     },
     "execution_count": 46,
     "metadata": {},
     "output_type": "execute_result"
    }
   ],
   "source": [
    "data_df.columns"
   ]
  },
  {
   "cell_type": "markdown",
   "metadata": {},
   "source": [
    "Regress out Covariate"
   ]
  },
  {
   "cell_type": "code",
   "execution_count": 47,
   "metadata": {},
   "outputs": [],
   "source": [
    "# from calvin_utils.statistical_utils.regression_utils import RegressOutCovariates\n",
    "# # use this code block to regress out covariates. Generally better to just include as covariates in a model..\n",
    "# dependent_variable_list = lis\n",
    "# regressors = ['Age', 'Sex']\n",
    "\n",
    "# data_df, adjusted_dep_vars_list = RegressOutCovariates.run(df=data_df, dependent_variable_list=dependent_variable_list, covariates_list=regressors)\n",
    "# print(adjusted_dep_vars_list)"
   ]
  },
  {
   "cell_type": "markdown",
   "metadata": {},
   "source": [
    "Edit Column Values"
   ]
  },
  {
   "cell_type": "code",
   "execution_count": 48,
   "metadata": {},
   "outputs": [
    {
     "data": {
      "text/plain": [
       "Index(['study', 'PMID', 'DOI', 'ses', 'N', 'Reported_Outcome',\n",
       "       'Pre_Post_Memory_Effect_Size__Cohen_s_D_', 'Location',\n",
       "       'List_of_Coordinates', 'Side', 'Frequency__Hz_', 'Magnitude__V_',\n",
       "       'Stim_Relative_to_Memory_Cycle', 'Stim_Info', 'Closed_Loop',\n",
       "       'Years_Between_Measurements', 'Mean_Age', 'Stdev_Age', 'Percent_Female',\n",
       "       'Disease', 'Test', 'Recall_Subtype', 'Sensory_Domain',\n",
       "       'Memory_Primary_Outcome', 'Control_Group', 'Notes', 'pooled_stdev',\n",
       "       'experimental_baseline_mean', 'experimental_baseline_stdev', 'N_1',\n",
       "       'Break', 'experimental_post_mean', 'experimental_post_stdev',\n",
       "       'experimental_post_n', 'PDF_Downloaded', 'PDF_Path', 'Break_1',\n",
       "       'Is_the_primary_outcome_of_this_manuscript_about_memory___Yes_No_',\n",
       "       'Does_this_manuscript_use_transcranial_magnetic_stimulation__TMS____Yes_No_',\n",
       "       'Does_this_manuscript_report_memory_outcomes___Yes_No_',\n",
       "       'To_what_region_of_the_brain_was_TMS_delivered',\n",
       "       'Did_the_study_report_TMS_improved__worsened__or_had_not_effect_on_memory',\n",
       "       'What_was_the_mean_age_of_the_patients_in_the_study_',\n",
       "       'What_diagnosis_did_the_patients_have__or_were_they_healthy_',\n",
       "       'What_was_the_frequency_of_TMS_used_in_this_study__For_example__options_are__low_freuqnecy_rTMS___1Hz___hi_frequency_rTMS___10Hz___and_theta_burst__often_50Hz_',\n",
       "       'Is_there_enough_information_to_determine_the_stimulation_site__specifically_to_derive_a_coordinate_of_stimulation_',\n",
       "       'What_test_was_used_to_measure_memory_',\n",
       "       'Was_verbal_or_visual_memory_measured_',\n",
       "       'Was_this_manuscript_primarily_about_the_influence_of_TMS_on_memory__Or_was_memory_tacked_on_to_a_different_primary_outcome_',\n",
       "       'What_was_the_duration_between_TMS_and_measurement__How_many_days__weeks__or_months_apart_were_the_initial_and_post_TMS_evaluations_',\n",
       "       'When_was_the_TMS_administered_relative_to_mmory__Was_it_during_encoding__presentation_of_stimulus___in_consolidation__after_stimulus___during_recall__during_recall___or_priming__such_as_before_testing__like_when_TMS_is_given_every_day_for_weeks_between_sessions__',\n",
       "       'path', 'train_prune_test_performs_highly_spatial_corr',\n",
       "       'train_prune_test_performs_highly_cosine',\n",
       "       'train_prune_test_performs_highly_sum',\n",
       "       'train_prune_test_performs_highly_average_subject_in_target',\n",
       "       'train_prune_test_performs_highly_average_target_in_subject',\n",
       "       'train_prune_test_performs_highly_num_in_roi',\n",
       "       'all_datasets_weighted_avg_r_map_spatial_corr',\n",
       "       'all_datasets_weighted_avg_r_map_cosine',\n",
       "       'all_datasets_weighted_avg_r_map_sum',\n",
       "       'all_datasets_weighted_avg_r_map_average_subject_in_target',\n",
       "       'all_datasets_weighted_avg_r_map_average_target_in_subject',\n",
       "       'all_datasets_weighted_avg_r_map_num_in_roi',\n",
       "       'all_datasets_unweighted_avg_r_map_spatial_corr',\n",
       "       'all_datasets_unweighted_avg_r_map_cosine',\n",
       "       'all_datasets_unweighted_avg_r_map_sum',\n",
       "       'all_datasets_unweighted_avg_r_map_average_subject_in_target',\n",
       "       'all_datasets_unweighted_avg_r_map_average_target_in_subject',\n",
       "       'all_datasets_unweighted_avg_r_map_num_in_roi',\n",
       "       'all_datasets_weighted_avg_r_map_pcc_inverse_r_map_spatial_corr',\n",
       "       'all_datasets_weighted_avg_r_map_pcc_inverse_r_map_cosine',\n",
       "       'all_datasets_weighted_avg_r_map_pcc_inverse_r_map_sum',\n",
       "       'all_datasets_weighted_avg_r_map_pcc_inverse_r_map_average_subject_in_target',\n",
       "       'all_datasets_weighted_avg_r_map_pcc_inverse_r_map_average_target_in_subject',\n",
       "       'all_datasets_weighted_avg_r_map_pcc_inverse_r_map_num_in_roi',\n",
       "       'all_datasets_unweighted_avg_r_map_pcc_inverse_r_map_spatial_corr',\n",
       "       'all_datasets_unweighted_avg_r_map_pcc_inverse_r_map_cosine',\n",
       "       'all_datasets_unweighted_avg_r_map_pcc_inverse_r_map_sum',\n",
       "       'all_datasets_unweighted_avg_r_map_pcc_inverse_r_map_average_subject_in_target',\n",
       "       'all_datasets_unweighted_avg_r_map_pcc_inverse_r_map_average_target_in_subject',\n",
       "       'all_datasets_unweighted_avg_r_map_pcc_inverse_r_map_num_in_roi'],\n",
       "      dtype='object')"
      ]
     },
     "execution_count": 48,
     "metadata": {},
     "output_type": "execute_result"
    }
   ],
   "source": [
    "data_df.columns"
   ]
  },
  {
   "cell_type": "code",
   "execution_count": 49,
   "metadata": {},
   "outputs": [
    {
     "data": {
      "text/plain": [
       "Index(['study', 'PMID', 'DOI', 'ses', 'N', 'Reported_Outcome',\n",
       "       'Pre_Post_Memory_Effect_Size__Cohen_s_D_', 'Location',\n",
       "       'List_of_Coordinates', 'Side', 'Frequency__Hz_', 'Magnitude__V_',\n",
       "       'Stim_Relative_to_Memory_Cycle', 'Stim_Info', 'Closed_Loop',\n",
       "       'Years_Between_Measurements', 'Mean_Age', 'Stdev_Age', 'Percent_Female',\n",
       "       'Disease', 'Test', 'Recall_Subtype', 'Sensory_Domain',\n",
       "       'Memory_Primary_Outcome', 'Control_Group', 'Notes', 'pooled_stdev',\n",
       "       'experimental_baseline_mean', 'experimental_baseline_stdev', 'N_1',\n",
       "       'Break', 'experimental_post_mean', 'experimental_post_stdev',\n",
       "       'experimental_post_n', 'PDF_Downloaded', 'PDF_Path', 'Break_1',\n",
       "       'Is_the_primary_outcome_of_this_manuscript_about_memory___Yes_No_',\n",
       "       'Does_this_manuscript_use_transcranial_magnetic_stimulation__TMS____Yes_No_',\n",
       "       'Does_this_manuscript_report_memory_outcomes___Yes_No_',\n",
       "       'To_what_region_of_the_brain_was_TMS_delivered',\n",
       "       'Did_the_study_report_TMS_improved__worsened__or_had_not_effect_on_memory',\n",
       "       'What_was_the_mean_age_of_the_patients_in_the_study_',\n",
       "       'What_diagnosis_did_the_patients_have__or_were_they_healthy_',\n",
       "       'What_was_the_frequency_of_TMS_used_in_this_study__For_example__options_are__low_freuqnecy_rTMS___1Hz___hi_frequency_rTMS___10Hz___and_theta_burst__often_50Hz_',\n",
       "       'Is_there_enough_information_to_determine_the_stimulation_site__specifically_to_derive_a_coordinate_of_stimulation_',\n",
       "       'What_test_was_used_to_measure_memory_',\n",
       "       'Was_verbal_or_visual_memory_measured_',\n",
       "       'Was_this_manuscript_primarily_about_the_influence_of_TMS_on_memory__Or_was_memory_tacked_on_to_a_different_primary_outcome_',\n",
       "       'What_was_the_duration_between_TMS_and_measurement__How_many_days__weeks__or_months_apart_were_the_initial_and_post_TMS_evaluations_',\n",
       "       'When_was_the_TMS_administered_relative_to_mmory__Was_it_during_encoding__presentation_of_stimulus___in_consolidation__after_stimulus___during_recall__during_recall___or_priming__such_as_before_testing__like_when_TMS_is_given_every_day_for_weeks_between_sessions__',\n",
       "       'path', 'train_prune_test_performs_highly_spatial_corr',\n",
       "       'train_prune_test_performs_highly_cosine',\n",
       "       'train_prune_test_performs_highly_sum',\n",
       "       'train_prune_test_performs_highly_average_subject_in_target',\n",
       "       'train_prune_test_performs_highly_average_target_in_subject',\n",
       "       'train_prune_test_performs_highly_num_in_roi',\n",
       "       'all_datasets_weighted_avg_r_map_spatial_corr',\n",
       "       'all_datasets_weighted_avg_r_map_cosine',\n",
       "       'all_datasets_weighted_avg_r_map_sum',\n",
       "       'all_datasets_weighted_avg_r_map_average_subject_in_target',\n",
       "       'all_datasets_weighted_avg_r_map_average_target_in_subject',\n",
       "       'all_datasets_weighted_avg_r_map_num_in_roi',\n",
       "       'all_datasets_unweighted_avg_r_map_spatial_corr',\n",
       "       'all_datasets_unweighted_avg_r_map_cosine',\n",
       "       'all_datasets_unweighted_avg_r_map_sum',\n",
       "       'all_datasets_unweighted_avg_r_map_average_subject_in_target',\n",
       "       'all_datasets_unweighted_avg_r_map_average_target_in_subject',\n",
       "       'all_datasets_unweighted_avg_r_map_num_in_roi',\n",
       "       'all_datasets_weighted_avg_r_map_pcc_inverse_r_map_spatial_corr',\n",
       "       'all_datasets_weighted_avg_r_map_pcc_inverse_r_map_cosine',\n",
       "       'all_datasets_weighted_avg_r_map_pcc_inverse_r_map_sum',\n",
       "       'all_datasets_weighted_avg_r_map_pcc_inverse_r_map_average_subject_in_target',\n",
       "       'all_datasets_weighted_avg_r_map_pcc_inverse_r_map_average_target_in_subject',\n",
       "       'all_datasets_weighted_avg_r_map_pcc_inverse_r_map_num_in_roi',\n",
       "       'all_datasets_unweighted_avg_r_map_pcc_inverse_r_map_spatial_corr',\n",
       "       'all_datasets_unweighted_avg_r_map_pcc_inverse_r_map_cosine',\n",
       "       'all_datasets_unweighted_avg_r_map_pcc_inverse_r_map_sum',\n",
       "       'all_datasets_unweighted_avg_r_map_pcc_inverse_r_map_average_subject_in_target',\n",
       "       'all_datasets_unweighted_avg_r_map_pcc_inverse_r_map_average_target_in_subject',\n",
       "       'all_datasets_unweighted_avg_r_map_pcc_inverse_r_map_num_in_roi'],\n",
       "      dtype='object')"
      ]
     },
     "execution_count": 49,
     "metadata": {},
     "output_type": "execute_result"
    }
   ],
   "source": [
    "data_df.columns"
   ]
  },
  {
   "cell_type": "code",
   "execution_count": 50,
   "metadata": {},
   "outputs": [
    {
     "name": "stdout",
     "output_type": "stream",
     "text": [
      "Mapping of unique values to ordinal values:\n",
      "Frequency__Hz_: {'hfrTMS': 0, 'hfrTMSl_lfrTMS': 1, 'lfrTMS': 2, 'thetaTMS': 3}\n",
      "Stim_Relative_to_Memory_Cycle: {'Consolidation': 0, 'Encoding': 1, 'Plasticity': 2, 'Recall': 3}\n"
     ]
    }
   ],
   "source": [
    "from calvin_utils.file_utils.dataframe_utilities import convert_to_ordinal\n",
    "data_df, map = convert_to_ordinal(data_df, ['Frequency__Hz_', 'Stim_Relative_to_Memory_Cycle'])"
   ]
  },
  {
   "cell_type": "markdown",
   "metadata": {},
   "source": [
    "# 02 - Define Your Formula\n",
    "\n",
    "This is the formula relating outcome to predictors, and takes the form:\n",
    "- y = B0 + B1 + B2 + B3 + . . . BN\n",
    "\n",
    "It is defined using the columns of your dataframe instead of the variables above:\n",
    "- 'Apples_Picked ~ hours_worked + owns_apple_picking_machine'\n",
    "\n",
    "____\n",
    "**ANOVA**\n",
    "- Tests differences in means for one categorical variable.\n",
    "- formula = 'Outcome ~ C(Group1)'\n",
    "\n",
    "**2-Way ANOVA**\n",
    "- Tests differences in means for two categorical variables without interaction.\n",
    "- formula = 'Outcome ~ C(Group1) + C(Group2)'\n",
    "\n",
    "**2-Way ANOVA with Interaction**\n",
    "- Tests for interaction effects between two categorical variables.\n",
    "- formula = 'Outcome ~ C(Group1) * C(Group2)'\n",
    "\n",
    "**ANCOVA**\n",
    "- Similar to ANOVA, but includes a covariate to control for its effect.\n",
    "- formula = 'Outcome ~ C(Group1) + Covariate'\n",
    "\n",
    "**2-Way ANCOVA**\n",
    "- Extends ANCOVA with two categorical variables and their interaction, controlling for a covariate.\n",
    "- formula = 'Outcome ~ C(Group1) * C(Group2) + Covariate'\n",
    "\n",
    "**Multiple Regression**\n",
    "- Assesses the impact of multiple predictors on an outcome.\n",
    "- formula = 'Outcome ~ Predictor1 + Predictor2'\n",
    "\n",
    "**Simple Linear Regression**\n",
    "- Assesses the impact of a single predictor on an outcome.\n",
    "- formula = 'Outcome ~ Predictor'\n",
    "\n",
    "**MANOVA**\n",
    "- Assesses multiple dependent variables across groups.\n",
    "- Note: Not typically set up with a formula in statsmodels. Requires specialized functions.\n",
    "\n",
    "____\n",
    "Use the printout below to design your formula. \n",
    "- Left of the \"~\" symbol is the thing to be predicted. \n",
    "- Right of the \"~\" symbol are the predictors. \n",
    "- \":\" indicates an interaction between two things. \n",
    "- \"*\" indicates and interactions AND it accounts for the simple effects too. \n",
    "- \"+\" indicates that you want to add another predictor. "
   ]
  },
  {
   "cell_type": "code",
   "execution_count": 51,
   "metadata": {},
   "outputs": [
    {
     "data": {
      "text/plain": [
       "Index(['study', 'PMID', 'DOI', 'ses', 'N', 'Reported_Outcome',\n",
       "       'Pre_Post_Memory_Effect_Size__Cohen_s_D_', 'Location',\n",
       "       'List_of_Coordinates', 'Side', 'Frequency__Hz_', 'Magnitude__V_',\n",
       "       'Stim_Relative_to_Memory_Cycle', 'Stim_Info', 'Closed_Loop',\n",
       "       'Years_Between_Measurements', 'Mean_Age', 'Stdev_Age', 'Percent_Female',\n",
       "       'Disease', 'Test', 'Recall_Subtype', 'Sensory_Domain',\n",
       "       'Memory_Primary_Outcome', 'Control_Group', 'Notes', 'pooled_stdev',\n",
       "       'experimental_baseline_mean', 'experimental_baseline_stdev', 'N_1',\n",
       "       'Break', 'experimental_post_mean', 'experimental_post_stdev',\n",
       "       'experimental_post_n', 'PDF_Downloaded', 'PDF_Path', 'Break_1',\n",
       "       'Is_the_primary_outcome_of_this_manuscript_about_memory___Yes_No_',\n",
       "       'Does_this_manuscript_use_transcranial_magnetic_stimulation__TMS____Yes_No_',\n",
       "       'Does_this_manuscript_report_memory_outcomes___Yes_No_',\n",
       "       'To_what_region_of_the_brain_was_TMS_delivered',\n",
       "       'Did_the_study_report_TMS_improved__worsened__or_had_not_effect_on_memory',\n",
       "       'What_was_the_mean_age_of_the_patients_in_the_study_',\n",
       "       'What_diagnosis_did_the_patients_have__or_were_they_healthy_',\n",
       "       'What_was_the_frequency_of_TMS_used_in_this_study__For_example__options_are__low_freuqnecy_rTMS___1Hz___hi_frequency_rTMS___10Hz___and_theta_burst__often_50Hz_',\n",
       "       'Is_there_enough_information_to_determine_the_stimulation_site__specifically_to_derive_a_coordinate_of_stimulation_',\n",
       "       'What_test_was_used_to_measure_memory_',\n",
       "       'Was_verbal_or_visual_memory_measured_',\n",
       "       'Was_this_manuscript_primarily_about_the_influence_of_TMS_on_memory__Or_was_memory_tacked_on_to_a_different_primary_outcome_',\n",
       "       'What_was_the_duration_between_TMS_and_measurement__How_many_days__weeks__or_months_apart_were_the_initial_and_post_TMS_evaluations_',\n",
       "       'When_was_the_TMS_administered_relative_to_mmory__Was_it_during_encoding__presentation_of_stimulus___in_consolidation__after_stimulus___during_recall__during_recall___or_priming__such_as_before_testing__like_when_TMS_is_given_every_day_for_weeks_between_sessions__',\n",
       "       'path', 'train_prune_test_performs_highly_spatial_corr',\n",
       "       'train_prune_test_performs_highly_cosine',\n",
       "       'train_prune_test_performs_highly_sum',\n",
       "       'train_prune_test_performs_highly_average_subject_in_target',\n",
       "       'train_prune_test_performs_highly_average_target_in_subject',\n",
       "       'train_prune_test_performs_highly_num_in_roi',\n",
       "       'all_datasets_weighted_avg_r_map_spatial_corr',\n",
       "       'all_datasets_weighted_avg_r_map_cosine',\n",
       "       'all_datasets_weighted_avg_r_map_sum',\n",
       "       'all_datasets_weighted_avg_r_map_average_subject_in_target',\n",
       "       'all_datasets_weighted_avg_r_map_average_target_in_subject',\n",
       "       'all_datasets_weighted_avg_r_map_num_in_roi',\n",
       "       'all_datasets_unweighted_avg_r_map_spatial_corr',\n",
       "       'all_datasets_unweighted_avg_r_map_cosine',\n",
       "       'all_datasets_unweighted_avg_r_map_sum',\n",
       "       'all_datasets_unweighted_avg_r_map_average_subject_in_target',\n",
       "       'all_datasets_unweighted_avg_r_map_average_target_in_subject',\n",
       "       'all_datasets_unweighted_avg_r_map_num_in_roi',\n",
       "       'all_datasets_weighted_avg_r_map_pcc_inverse_r_map_spatial_corr',\n",
       "       'all_datasets_weighted_avg_r_map_pcc_inverse_r_map_cosine',\n",
       "       'all_datasets_weighted_avg_r_map_pcc_inverse_r_map_sum',\n",
       "       'all_datasets_weighted_avg_r_map_pcc_inverse_r_map_average_subject_in_target',\n",
       "       'all_datasets_weighted_avg_r_map_pcc_inverse_r_map_average_target_in_subject',\n",
       "       'all_datasets_weighted_avg_r_map_pcc_inverse_r_map_num_in_roi',\n",
       "       'all_datasets_unweighted_avg_r_map_pcc_inverse_r_map_spatial_corr',\n",
       "       'all_datasets_unweighted_avg_r_map_pcc_inverse_r_map_cosine',\n",
       "       'all_datasets_unweighted_avg_r_map_pcc_inverse_r_map_sum',\n",
       "       'all_datasets_unweighted_avg_r_map_pcc_inverse_r_map_average_subject_in_target',\n",
       "       'all_datasets_unweighted_avg_r_map_pcc_inverse_r_map_average_target_in_subject',\n",
       "       'all_datasets_unweighted_avg_r_map_pcc_inverse_r_map_num_in_roi'],\n",
       "      dtype='object')"
      ]
     },
     "execution_count": 51,
     "metadata": {},
     "output_type": "execute_result"
    }
   ],
   "source": [
    "data_df.columns"
   ]
  },
  {
   "cell_type": "code",
   "execution_count": null,
   "metadata": {},
   "outputs": [],
   "source": []
  },
  {
   "cell_type": "code",
   "execution_count": 60,
   "metadata": {},
   "outputs": [],
   "source": [
    "formula = \"Pre_Post_Memory_Effect_Size__Cohen_s_D_ ~ all_datasets_weighted_avg_r_map_pcc_inverse_r_map_average_target_in_subject*Frequency__Hz_\""
   ]
  },
  {
   "cell_type": "markdown",
   "metadata": {},
   "source": [
    "# 02 - Visualize Your Design Matrix\n",
    "\n",
    "This is the explanatory variable half of your regression formula\n",
    "_______________________________________________________\n",
    "Create Design Matrix: Use the create_design_matrix method. You can provide a list of formula variables which correspond to column names in your dataframe.\n",
    "\n",
    "- design_matrix = palm.create_design_matrix(formula_vars=[\"var1\", \"var2\", \"var1*var2\"])\n",
    "- To include interaction terms, use * between variables, like \"var1*var2\".\n",
    "- By default, an intercept will be added unless you set intercept=False\n",
    "- **don't explicitly add the 'intercept' column. I'll do it for you.**"
   ]
  },
  {
   "cell_type": "code",
   "execution_count": 61,
   "metadata": {},
   "outputs": [
    {
     "data": {
      "text/html": [
       "<div>\n",
       "<style scoped>\n",
       "    .dataframe tbody tr th:only-of-type {\n",
       "        vertical-align: middle;\n",
       "    }\n",
       "\n",
       "    .dataframe tbody tr th {\n",
       "        vertical-align: top;\n",
       "    }\n",
       "\n",
       "    .dataframe thead th {\n",
       "        text-align: right;\n",
       "    }\n",
       "</style>\n",
       "<table border=\"1\" class=\"dataframe\">\n",
       "  <thead>\n",
       "    <tr style=\"text-align: right;\">\n",
       "      <th></th>\n",
       "      <th>Intercept</th>\n",
       "      <th>all_datasets_weighted_avg_r_map_pcc_inverse_r_map_average_target_in_subject</th>\n",
       "      <th>Frequency__Hz_</th>\n",
       "      <th>all_datasets_weighted_avg_r_map_pcc_inverse_r_map_average_target_in_subject:Frequency__Hz_</th>\n",
       "    </tr>\n",
       "  </thead>\n",
       "  <tbody>\n",
       "    <tr>\n",
       "      <th>3</th>\n",
       "      <td>1.0</td>\n",
       "      <td>0.758443</td>\n",
       "      <td>0.0</td>\n",
       "      <td>0.000000</td>\n",
       "    </tr>\n",
       "    <tr>\n",
       "      <th>4</th>\n",
       "      <td>1.0</td>\n",
       "      <td>0.758443</td>\n",
       "      <td>0.0</td>\n",
       "      <td>0.000000</td>\n",
       "    </tr>\n",
       "    <tr>\n",
       "      <th>6</th>\n",
       "      <td>1.0</td>\n",
       "      <td>-1.600239</td>\n",
       "      <td>3.0</td>\n",
       "      <td>-4.800717</td>\n",
       "    </tr>\n",
       "    <tr>\n",
       "      <th>7</th>\n",
       "      <td>1.0</td>\n",
       "      <td>-2.593289</td>\n",
       "      <td>3.0</td>\n",
       "      <td>-7.779867</td>\n",
       "    </tr>\n",
       "    <tr>\n",
       "      <th>8</th>\n",
       "      <td>1.0</td>\n",
       "      <td>0.758443</td>\n",
       "      <td>3.0</td>\n",
       "      <td>2.275329</td>\n",
       "    </tr>\n",
       "    <tr>\n",
       "      <th>...</th>\n",
       "      <td>...</td>\n",
       "      <td>...</td>\n",
       "      <td>...</td>\n",
       "      <td>...</td>\n",
       "    </tr>\n",
       "    <tr>\n",
       "      <th>84</th>\n",
       "      <td>1.0</td>\n",
       "      <td>0.758443</td>\n",
       "      <td>0.0</td>\n",
       "      <td>0.000000</td>\n",
       "    </tr>\n",
       "    <tr>\n",
       "      <th>85</th>\n",
       "      <td>1.0</td>\n",
       "      <td>0.758443</td>\n",
       "      <td>3.0</td>\n",
       "      <td>2.275329</td>\n",
       "    </tr>\n",
       "    <tr>\n",
       "      <th>86</th>\n",
       "      <td>1.0</td>\n",
       "      <td>0.758443</td>\n",
       "      <td>0.0</td>\n",
       "      <td>0.000000</td>\n",
       "    </tr>\n",
       "    <tr>\n",
       "      <th>87</th>\n",
       "      <td>1.0</td>\n",
       "      <td>0.758443</td>\n",
       "      <td>0.0</td>\n",
       "      <td>0.000000</td>\n",
       "    </tr>\n",
       "    <tr>\n",
       "      <th>88</th>\n",
       "      <td>1.0</td>\n",
       "      <td>0.758443</td>\n",
       "      <td>0.0</td>\n",
       "      <td>0.000000</td>\n",
       "    </tr>\n",
       "  </tbody>\n",
       "</table>\n",
       "<p>75 rows × 4 columns</p>\n",
       "</div>"
      ],
      "text/plain": [
       "    Intercept  \\\n",
       "3         1.0   \n",
       "4         1.0   \n",
       "6         1.0   \n",
       "7         1.0   \n",
       "8         1.0   \n",
       "..        ...   \n",
       "84        1.0   \n",
       "85        1.0   \n",
       "86        1.0   \n",
       "87        1.0   \n",
       "88        1.0   \n",
       "\n",
       "    all_datasets_weighted_avg_r_map_pcc_inverse_r_map_average_target_in_subject  \\\n",
       "3                                            0.758443                             \n",
       "4                                            0.758443                             \n",
       "6                                           -1.600239                             \n",
       "7                                           -2.593289                             \n",
       "8                                            0.758443                             \n",
       "..                                                ...                             \n",
       "84                                           0.758443                             \n",
       "85                                           0.758443                             \n",
       "86                                           0.758443                             \n",
       "87                                           0.758443                             \n",
       "88                                           0.758443                             \n",
       "\n",
       "    Frequency__Hz_  \\\n",
       "3              0.0   \n",
       "4              0.0   \n",
       "6              3.0   \n",
       "7              3.0   \n",
       "8              3.0   \n",
       "..             ...   \n",
       "84             0.0   \n",
       "85             3.0   \n",
       "86             0.0   \n",
       "87             0.0   \n",
       "88             0.0   \n",
       "\n",
       "    all_datasets_weighted_avg_r_map_pcc_inverse_r_map_average_target_in_subject:Frequency__Hz_  \n",
       "3                                            0.000000                                           \n",
       "4                                            0.000000                                           \n",
       "6                                           -4.800717                                           \n",
       "7                                           -7.779867                                           \n",
       "8                                            2.275329                                           \n",
       "..                                                ...                                           \n",
       "84                                           0.000000                                           \n",
       "85                                           2.275329                                           \n",
       "86                                           0.000000                                           \n",
       "87                                           0.000000                                           \n",
       "88                                           0.000000                                           \n",
       "\n",
       "[75 rows x 4 columns]"
      ]
     },
     "execution_count": 61,
     "metadata": {},
     "output_type": "execute_result"
    }
   ],
   "source": [
    "# Define the design matrix\n",
    "outcome_matrix, design_matrix = cal_palm.define_design_matrix(formula, data_df)\n",
    "design_matrix"
   ]
  },
  {
   "cell_type": "markdown",
   "metadata": {},
   "source": [
    "# 03 - Visualize Your Dependent Variable\n",
    "\n",
    "I have generated this for you based on the formula you provided"
   ]
  },
  {
   "cell_type": "code",
   "execution_count": 62,
   "metadata": {},
   "outputs": [
    {
     "data": {
      "text/html": [
       "<div>\n",
       "<style scoped>\n",
       "    .dataframe tbody tr th:only-of-type {\n",
       "        vertical-align: middle;\n",
       "    }\n",
       "\n",
       "    .dataframe tbody tr th {\n",
       "        vertical-align: top;\n",
       "    }\n",
       "\n",
       "    .dataframe thead th {\n",
       "        text-align: right;\n",
       "    }\n",
       "</style>\n",
       "<table border=\"1\" class=\"dataframe\">\n",
       "  <thead>\n",
       "    <tr style=\"text-align: right;\">\n",
       "      <th></th>\n",
       "      <th>Pre_Post_Memory_Effect_Size__Cohen_s_D_</th>\n",
       "    </tr>\n",
       "  </thead>\n",
       "  <tbody>\n",
       "    <tr>\n",
       "      <th>3</th>\n",
       "      <td>0.788993</td>\n",
       "    </tr>\n",
       "    <tr>\n",
       "      <th>4</th>\n",
       "      <td>0.325222</td>\n",
       "    </tr>\n",
       "    <tr>\n",
       "      <th>6</th>\n",
       "      <td>0.150920</td>\n",
       "    </tr>\n",
       "    <tr>\n",
       "      <th>7</th>\n",
       "      <td>-0.623229</td>\n",
       "    </tr>\n",
       "    <tr>\n",
       "      <th>8</th>\n",
       "      <td>-0.557492</td>\n",
       "    </tr>\n",
       "    <tr>\n",
       "      <th>...</th>\n",
       "      <td>...</td>\n",
       "    </tr>\n",
       "    <tr>\n",
       "      <th>84</th>\n",
       "      <td>0.538651</td>\n",
       "    </tr>\n",
       "    <tr>\n",
       "      <th>85</th>\n",
       "      <td>1.634411</td>\n",
       "    </tr>\n",
       "    <tr>\n",
       "      <th>86</th>\n",
       "      <td>1.184433</td>\n",
       "    </tr>\n",
       "    <tr>\n",
       "      <th>87</th>\n",
       "      <td>-0.063394</td>\n",
       "    </tr>\n",
       "    <tr>\n",
       "      <th>88</th>\n",
       "      <td>-0.684059</td>\n",
       "    </tr>\n",
       "  </tbody>\n",
       "</table>\n",
       "<p>75 rows × 1 columns</p>\n",
       "</div>"
      ],
      "text/plain": [
       "    Pre_Post_Memory_Effect_Size__Cohen_s_D_\n",
       "3                                  0.788993\n",
       "4                                  0.325222\n",
       "6                                  0.150920\n",
       "7                                 -0.623229\n",
       "8                                 -0.557492\n",
       "..                                      ...\n",
       "84                                 0.538651\n",
       "85                                 1.634411\n",
       "86                                 1.184433\n",
       "87                                -0.063394\n",
       "88                                -0.684059\n",
       "\n",
       "[75 rows x 1 columns]"
      ]
     },
     "execution_count": 62,
     "metadata": {},
     "output_type": "execute_result"
    }
   ],
   "source": [
    "outcome_matrix"
   ]
  },
  {
   "cell_type": "markdown",
   "metadata": {},
   "source": [
    "# 04 - Generate Contrasts"
   ]
  },
  {
   "cell_type": "markdown",
   "metadata": {},
   "source": [
    "Generate a Contrast Matrix\n",
    "- This is different from the contrast matrices used in cell-means regressions such as in PALM, but it is much more powerful. \n",
    "\n",
    "\n",
    "\n",
    "For more information on contrast matrices, please refer to this: https://cran.r-project.org/web/packages/codingMatrices/vignettes/codingMatrices.pdf\n",
    "\n",
    "Generally, these drastically effect the results of ANOVA. However, they are mereley a nuisance for a regression.\n",
    "In essence, they assess the coefficients of a given\n",
    "\n",
    "________________________________________________________________\n",
    "A coding matrix (a contrast matrix if it sums to zero) is simply a way of defining what coefficients to evaluate and how to evaluate them. \n",
    "If a coefficient is set to 1 and everything else is set to zero, we are taking the mean of the coefficient's means and assessing if they significantly\n",
    "deviate from zero--IE we are checking if it had a significant impact on the ability to predict the depdendent variable.\n",
    "If a coefficient is set to 1, another is -1, and others are 0, we are assessing how the means of the two coefficients deviate from eachother. \n",
    "If several coefficients are 1 and several others are -1, we are assessing how the group-level means of the two coefficients deviate from eachother.\n",
    "If a group of coefficients are 1, a group is -1, and a group is 0, we are only assessing how the groups +1 and -1 have differing means. \n",
    "\n",
    "1: This value indicates that the corresponding variable's coefficient in the model is included in the contrast. It means you are interested in estimating the effect of that variable.\n",
    "\n",
    "0: This value indicates that the corresponding variable's coefficient in the model is not included in the contrast. It means you are not interested in estimating the effect of that variable.\n",
    "\n",
    "-1: This value indicates that the corresponding variable's coefficient in the model is included in the contrast, but with an opposite sign. It means you are interested in estimating the negative effect of that variable.\n",
    "\n",
    "----------------------------------------------------------------\n",
    "The contrast matrix is typically a matrix with dimensions (number of contrasts) x (number of regression coefficients). Each row of the contrast matrix represents a contrast or comparison you want to test.\n",
    "\n",
    "For example, let's say you have the following regression coefficients in your model:\n",
    "\n",
    "Intercept, Age, connectivity, Age_interaction_connectivity\n",
    "A contrast matric has dimensions of [n_predictors, n_experiments] where each experiment is a contrast\n",
    "\n",
    "If you want to test the hypothesis that the effect of Age is significant, you can set up a contrast matrix with a row that specifies this contrast (actually an averaging vector):\n",
    "```\n",
    "[0,1,0,0]. This is an averaging vector because it sums to 1\n",
    "```\n",
    "This contrast will test the coefficient corresponding to the Age variable against zero.\n",
    "\n",
    "\n",
    "If you want to test the hypothesis that the effect of Age is different from the effect of connectivity, you can set up a contrast matrix with two rows:\n",
    "```\n",
    "[0,1,−1,0]. This is a contrast because it sums to 0\n",
    "```\n",
    "\n",
    "Thus, if you want to see if any given effect is significant compared to the intercept (average), you can use the following contrast matrix:\n",
    "```\n",
    "[1,0,0,0]\n",
    "[-1,1,0,0]\n",
    "[-1,0,1,0]\n",
    "[-1,0,0,1] actually a coding matrix of averaging vectors\n",
    "```\n",
    "\n",
    "The first row tests the coefficient for Age against zero, and the second row tests the coefficient for connectivity against zero. The difference between the two coefficients can then be assessed.\n",
    "_____\n",
    "You can define any number of contrasts in the contrast matrix to test different hypotheses or comparisons of interest in your regression analysis.\n",
    "\n",
    "It's important to note that the specific contrasts you choose depend on your research questions and hypotheses. You should carefully consider the comparisons you want to make and design the contrast matrix accordingly.\n",
    "\n",
    "- Examples:\n",
    "    - [Two Sample T-Test](https://fsl.fmrib.ox.ac.uk/fsl/fslwiki/GLM#Two-Group_Difference_.28Two-Sample_Unpaired_T-Test.29)\n",
    "    - [One Sample with Covariate](https://fsl.fmrib.ox.ac.uk/fsl/fslwiki/GLM#Single-Group_Average_with_Additional_Covariate)"
   ]
  },
  {
   "cell_type": "code",
   "execution_count": 63,
   "metadata": {},
   "outputs": [
    {
     "name": "stdout",
     "output_type": "stream",
     "text": [
      "Here is a basic contrast matrix set up to evaluate the significance of each variable.\n",
      "Here is an example of what your contrast matrix looks like as a dataframe: \n"
     ]
    },
    {
     "data": {
      "text/html": [
       "<div>\n",
       "<style scoped>\n",
       "    .dataframe tbody tr th:only-of-type {\n",
       "        vertical-align: middle;\n",
       "    }\n",
       "\n",
       "    .dataframe tbody tr th {\n",
       "        vertical-align: top;\n",
       "    }\n",
       "\n",
       "    .dataframe thead th {\n",
       "        text-align: right;\n",
       "    }\n",
       "</style>\n",
       "<table border=\"1\" class=\"dataframe\">\n",
       "  <thead>\n",
       "    <tr style=\"text-align: right;\">\n",
       "      <th></th>\n",
       "      <th>Intercept</th>\n",
       "      <th>all_datasets_weighted_avg_r_map_pcc_inverse_r_map_average_target_in_subject</th>\n",
       "      <th>Frequency__Hz_</th>\n",
       "      <th>all_datasets_weighted_avg_r_map_pcc_inverse_r_map_average_target_in_subject:Frequency__Hz_</th>\n",
       "    </tr>\n",
       "  </thead>\n",
       "  <tbody>\n",
       "    <tr>\n",
       "      <th>0</th>\n",
       "      <td>1</td>\n",
       "      <td>0</td>\n",
       "      <td>0</td>\n",
       "      <td>0</td>\n",
       "    </tr>\n",
       "    <tr>\n",
       "      <th>1</th>\n",
       "      <td>0</td>\n",
       "      <td>1</td>\n",
       "      <td>0</td>\n",
       "      <td>0</td>\n",
       "    </tr>\n",
       "    <tr>\n",
       "      <th>2</th>\n",
       "      <td>0</td>\n",
       "      <td>0</td>\n",
       "      <td>1</td>\n",
       "      <td>0</td>\n",
       "    </tr>\n",
       "    <tr>\n",
       "      <th>3</th>\n",
       "      <td>0</td>\n",
       "      <td>0</td>\n",
       "      <td>0</td>\n",
       "      <td>1</td>\n",
       "    </tr>\n",
       "  </tbody>\n",
       "</table>\n",
       "</div>"
      ],
      "text/plain": [
       "   Intercept  \\\n",
       "0          1   \n",
       "1          0   \n",
       "2          0   \n",
       "3          0   \n",
       "\n",
       "   all_datasets_weighted_avg_r_map_pcc_inverse_r_map_average_target_in_subject  \\\n",
       "0                                                  0                             \n",
       "1                                                  1                             \n",
       "2                                                  0                             \n",
       "3                                                  0                             \n",
       "\n",
       "   Frequency__Hz_  \\\n",
       "0               0   \n",
       "1               0   \n",
       "2               1   \n",
       "3               0   \n",
       "\n",
       "   all_datasets_weighted_avg_r_map_pcc_inverse_r_map_average_target_in_subject:Frequency__Hz_  \n",
       "0                                                  0                                           \n",
       "1                                                  0                                           \n",
       "2                                                  0                                           \n",
       "3                                                  1                                           "
      ]
     },
     "metadata": {},
     "output_type": "display_data"
    },
    {
     "name": "stdout",
     "output_type": "stream",
     "text": [
      "Below is the same contrast matrix, but as an array.\n",
      "Copy it into a cell below and edit it for more control over your analysis.\n",
      "[\n",
      "    [1, 0, 0, 0],\n",
      "    [0, 1, 0, 0],\n",
      "    [0, 0, 1, 0],\n",
      "    [0, 0, 0, 1],\n",
      "]\n"
     ]
    }
   ],
   "source": [
    "contrast_matrix = cal_palm.generate_basic_contrast_matrix(design_matrix)\n"
   ]
  },
  {
   "cell_type": "markdown",
   "metadata": {},
   "source": [
    "Edit Contrast Matrix Here\n",
    "- The generic contrast matrix will simply check if your Betas are significantly different from the intercept (average)"
   ]
  },
  {
   "cell_type": "code",
   "execution_count": 64,
   "metadata": {},
   "outputs": [],
   "source": [
    "# # ptrn = oldhigh oldlow younghigh younglow\n",
    "# contrast_matrix = [\n",
    "#     [0, 0, 0, 0],\n",
    "#     [0, 1, 0, 0],\n",
    "#     [0, 0, 1, 0],\n",
    "#     [0, 0, 0, 1],\n",
    "# ]"
   ]
  },
  {
   "cell_type": "markdown",
   "metadata": {},
   "source": [
    "Finalize Contrast Matrix"
   ]
  },
  {
   "cell_type": "code",
   "execution_count": 65,
   "metadata": {},
   "outputs": [
    {
     "data": {
      "text/html": [
       "<div>\n",
       "<style scoped>\n",
       "    .dataframe tbody tr th:only-of-type {\n",
       "        vertical-align: middle;\n",
       "    }\n",
       "\n",
       "    .dataframe tbody tr th {\n",
       "        vertical-align: top;\n",
       "    }\n",
       "\n",
       "    .dataframe thead th {\n",
       "        text-align: right;\n",
       "    }\n",
       "</style>\n",
       "<table border=\"1\" class=\"dataframe\">\n",
       "  <thead>\n",
       "    <tr style=\"text-align: right;\">\n",
       "      <th></th>\n",
       "      <th>Intercept</th>\n",
       "      <th>all_datasets_weighted_avg_r_map_pcc_inverse_r_map_average_target_in_subject</th>\n",
       "      <th>Frequency__Hz_</th>\n",
       "      <th>all_datasets_weighted_avg_r_map_pcc_inverse_r_map_average_target_in_subject:Frequency__Hz_</th>\n",
       "    </tr>\n",
       "  </thead>\n",
       "  <tbody>\n",
       "    <tr>\n",
       "      <th>0</th>\n",
       "      <td>1</td>\n",
       "      <td>0</td>\n",
       "      <td>0</td>\n",
       "      <td>0</td>\n",
       "    </tr>\n",
       "    <tr>\n",
       "      <th>1</th>\n",
       "      <td>0</td>\n",
       "      <td>1</td>\n",
       "      <td>0</td>\n",
       "      <td>0</td>\n",
       "    </tr>\n",
       "    <tr>\n",
       "      <th>2</th>\n",
       "      <td>0</td>\n",
       "      <td>0</td>\n",
       "      <td>1</td>\n",
       "      <td>0</td>\n",
       "    </tr>\n",
       "    <tr>\n",
       "      <th>3</th>\n",
       "      <td>0</td>\n",
       "      <td>0</td>\n",
       "      <td>0</td>\n",
       "      <td>1</td>\n",
       "    </tr>\n",
       "  </tbody>\n",
       "</table>\n",
       "</div>"
      ],
      "text/plain": [
       "   Intercept  \\\n",
       "0          1   \n",
       "1          0   \n",
       "2          0   \n",
       "3          0   \n",
       "\n",
       "   all_datasets_weighted_avg_r_map_pcc_inverse_r_map_average_target_in_subject  \\\n",
       "0                                                  0                             \n",
       "1                                                  1                             \n",
       "2                                                  0                             \n",
       "3                                                  0                             \n",
       "\n",
       "   Frequency__Hz_  \\\n",
       "0               0   \n",
       "1               0   \n",
       "2               1   \n",
       "3               0   \n",
       "\n",
       "   all_datasets_weighted_avg_r_map_pcc_inverse_r_map_average_target_in_subject:Frequency__Hz_  \n",
       "0                                                  0                                           \n",
       "1                                                  0                                           \n",
       "2                                                  0                                           \n",
       "3                                                  1                                           "
      ]
     },
     "execution_count": 65,
     "metadata": {},
     "output_type": "execute_result"
    }
   ],
   "source": [
    "contrast_matrix_df = cal_palm.finalize_contrast_matrix(design_matrix=design_matrix, \n",
    "                                                    contrast_matrix=contrast_matrix) \n",
    "contrast_matrix_df"
   ]
  },
  {
   "cell_type": "markdown",
   "metadata": {},
   "source": [
    "# 06 - Run the Regression"
   ]
  },
  {
   "cell_type": "markdown",
   "metadata": {},
   "source": [
    "Regression Results Are Displayed Below"
   ]
  },
  {
   "cell_type": "code",
   "execution_count": 66,
   "metadata": {},
   "outputs": [
    {
     "name": "stdout",
     "output_type": "stream",
     "text": [
      "                                                     Results: Ordinary least squares\n",
      "=========================================================================================================================================\n",
      "Model:                               OLS                                                     Adj. R-squared:                     0.090   \n",
      "Dependent Variable:                  Pre_Post_Memory_Effect_Size__Cohen_s_D_                 AIC:                                210.6531\n",
      "Date:                                2025-05-22 10:08                                        BIC:                                219.9230\n",
      "No. Observations:                    75                                                      Log-Likelihood:                     -101.33 \n",
      "Df Model:                            3                                                       F-statistic:                        3.443   \n",
      "Df Residuals:                        71                                                      Prob (F-statistic):                 0.0212  \n",
      "R-squared:                           0.127                                                   Scale:                              0.92217 \n",
      "-----------------------------------------------------------------------------------------------------------------------------------------\n",
      "                                                                                            Coef.  Std.Err.    t    P>|t|   [0.025 0.975]\n",
      "-----------------------------------------------------------------------------------------------------------------------------------------\n",
      "Intercept                                                                                  -0.0319   0.1303 -0.2446 0.8075 -0.2918 0.2280\n",
      "all_datasets_weighted_avg_r_map_pcc_inverse_r_map_average_target_in_subject                 0.4129   0.1368  3.0191 0.0035  0.1402 0.6856\n",
      "Frequency__Hz_                                                                              0.0378   0.0903  0.4188 0.6766 -0.1423 0.2180\n",
      "all_datasets_weighted_avg_r_map_pcc_inverse_r_map_average_target_in_subject:Frequency__Hz_ -0.0770   0.0830 -0.9277 0.3567 -0.2425 0.0885\n",
      "-----------------------------------------------------------------------------------------------------------------------------------------\n",
      "Omnibus:                                     36.839                               Durbin-Watson:                                  2.238  \n",
      "Prob(Omnibus):                               0.000                                Jarque-Bera (JB):                               144.160\n",
      "Skew:                                        -1.388                               Prob(JB):                                       0.000  \n",
      "Kurtosis:                                    9.199                                Condition No.:                                  2      \n",
      "=========================================================================================================================================\n",
      "Notes:\n",
      "[1] Standard Errors assume that the covariance matrix of the errors is correctly specified.\n"
     ]
    }
   ],
   "source": [
    "import statsmodels.api as sm\n",
    "# Fit the regression model\n",
    "model = sm.OLS(outcome_matrix, design_matrix)\n",
    "results = model.fit()\n",
    "print(results.summary2())"
   ]
  },
  {
   "cell_type": "markdown",
   "metadata": {},
   "source": [
    "Visualize the Regression as a Plane"
   ]
  },
  {
   "cell_type": "code",
   "execution_count": 67,
   "metadata": {},
   "outputs": [
    {
     "name": "stdout",
     "output_type": "stream",
     "text": [
      "ValueError encountered. Refitting the model with the provided formula.\n",
      "(75,)\n",
      "(75,)\n"
     ]
    },
    {
     "data": {
      "application/vnd.plotly.v1+json": {
       "config": {
        "plotlyServerURL": "https://plot.ly"
       },
       "data": [
        {
         "colorscale": [
          [
           0,
           "rgb(255,255,255)"
          ],
          [
           0.125,
           "rgb(240,240,240)"
          ],
          [
           0.25,
           "rgb(217,217,217)"
          ],
          [
           0.375,
           "rgb(189,189,189)"
          ],
          [
           0.5,
           "rgb(150,150,150)"
          ],
          [
           0.625,
           "rgb(115,115,115)"
          ],
          [
           0.75,
           "rgb(82,82,82)"
          ],
          [
           0.875,
           "rgb(37,37,37)"
          ],
          [
           1,
           "rgb(0,0,0)"
          ]
         ],
         "name": "Prediction Surface",
         "opacity": 0.7,
         "type": "surface",
         "x": {
          "bdata": "HSoWUQ6/BMCDJ4GW2nQEwOgk7NumKgTATiJXIXPgA8C0H8JmP5YDwBkdLawLTAPAfxqY8dcBA8DkFwM3pLcCwEoVbnxwbQLAsBLZwTwjAsAVEEQHCdkBwHsNr0zVjgHA4QoakqFEAcBGCIXXbfoAwKwF8Bw6sADAEgNbYgZmAMB3AMan0hsAwLr7Ydo9o/+/hfY3ZdYO/79Q8Q3wbnr+vxzs43oH5v2/5+a5BaBR/b+y4Y+QOL38v37cZRvRKPy/Sdc7pmmU+78U0hExAgD7v+DM57uaa/q/qse9RjPX+b92wpPRy0L5v0G9aVxkrvi/DLg/5/wZ+L/YshVylYX3v6Ot6/wt8fa/bqjBh8Zc9r86o5cSX8j1vwWebZ33M/W/0JhDKJCf9L+bkxmzKAv0v2eO7z3BdvO/MonFyFni8r/9g5tT8k3yv8l+cd6KufG/lHlHaSMl8b9fdB30u5Dwv1Te5v2o+O+/7NOSE9rP7r+CyT4pC6ftvxi/6j48fuy/sLSWVG1V679GqkJqnizqv9yf7n/PA+m/cpWalQDb578Ki0arMbLmv6CA8sBiieW/Nnae1pNg5L/Ma0rsxDfjv2Rh9gH2DuK//FaiFyfm4L8gmZxasHrfv1CE9IUSKd2/eG9MsXTX2r+oWqTc1oXYv9hF/Ac5NNa/ADFUM5vi078wHKxe/ZDRv8AOCBS/fs6/EOW3aoPbyb9wu2fBRzjFv9CRFxgMlcC/QNCO3aDjt78A+twVUzqtv4CmOOHIWpW/AE2R0ih+jz/A+eTZeGyqP0DQkr+zfLY/gCMzEivDvz9gu2ky0YTEPxDludsMKMk/sA4KhUjLzT8oHC0XQjfRPwAx1evfiNM/0EV9wH3a1T+gWiWVGyzYP3hvzWm5fdo/SIR1PlfP3D8gmR0T9SDfP/jW4nNJueA/YOE2Xhji4T/M64pI5wrjPzT23jK2M+Q/nAAzHYVc5T8IC4cHVIXmP3AV2/Eiruc/2B8v3PHW6D9EKoPGwP/pP6w017CPKOs/FD8rm15R7D+ASX+FLXrtP+hT02/8ou4/VV4nWsvL7z8=",
          "dtype": "f8"
         },
         "y": {
          "bdata": "AAAAAAAA8L8K1PqVArXuvxWo9SsFau2/H3zwwQcf7L8pUOtXCtTqvzQk5u0Miem/Pvjggw8+6L9IzNsZEvPmv1Kg1q8UqOW/XXTRRRdd5L9nSMzbGRLjv3Icx3Ecx+G/fPDBBx984L8MiXk7Q2LevyAxb2dIzNu/Ntlkk0022b9KgVq/UqDWv14pUOtXCtS/dNFFF1100b8Q83aGxLzNvzhDYt7OkMi/ZJNNNtlkw78Yx3Ecx3G8v2hnSMzbGbK/AB988MEHn7+Av1Kg1q+EP0BvZ0jM26k/UBdddNFFtz+AO0Ni3s7AP1DrVwrU+sU/KJtssskmyz+ApUCtXynQP2z9SoFav9I/WFVVVVVV1T9ErV8pUOvXPzAFav1Kgdo/GF100UUX3T8EtX6lQK3fP3iGxLydIeE/brLJJpts4j9k3s6QmLfjP1oK1PqVAuU/TjbZZJNN5j9EYt7OkJjnPzqO4ziO4+g/MLrooosu6j8m5u0MiXnrPxwS83aGxOw/ED744IMP7j8Gav1KgVrvP/5KgVq/UvA/+uCDDz748D/0dobEvJ3xP+4MiXk7Q/I/6qKLLrro8j/kOI7jOI7zP+DOkJi3M/Q/2mSTTTbZ9D/U+pUCtX71P9CQmLczJPY/yiabbLLJ9j/GvJ0hMW/3P8BSoNavFPg/vOiiiy66+D+2fqVArV/5P7AUqPUrBfo/rKqqqqqq+j+mQK1fKVD7P6LWrxSo9fs/nGyyySab/D+YArV+pUD9P5KYtzMk5v0/jC666KKL/j+IxLydITH/P4Jav1Kg1v8/P/jggw8+AEA8Q2LezpAAQDmO4ziO4wBAN9lkk002AUA0JObtDIkBQDJvZ0jM2wFAL7rooosuAkAtBWr9SoECQCpQ61cK1AJAJ5tssskmA0Al5u0MiXkDQCIxb2dIzANAIHzwwQcfBEAdx3Ecx3EEQBsS83aGxARAGF100UUXBUAVqPUrBWoFQBPzdobEvAVAED744IMPBkAOiXk7Q2IGQAvU+pUCtQZACB988MEHB0AGav1KgVoHQAO1fqVArQdAAAAAAAAACEA=",
          "dtype": "f8"
         },
         "z": {
          "bdata": "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",
          "dtype": "f8",
          "shape": "100, 100"
         }
        },
        {
         "marker": {
          "color": "red",
          "size": 5
         },
         "mode": "markers",
         "name": "Actual Points",
         "type": "scatter3d",
         "x": [
          0.7584429381309086,
          0.7584429381309086,
          -1.6002390940033193,
          -2.5932890257729597,
          0.7584429381309086,
          -1.005022002930534,
          0.7584429381309086,
          0.7584429381309086,
          0.7584429381309086,
          0.7584429381309086,
          0.8760350887180153,
          0.9936272393051221,
          -0.401927228092049,
          -0.401927228092049,
          0.9936272393051221,
          -1.3231078207084785,
          -1.3231078207084785,
          -1.3231078207084785,
          -1.7908524052137913,
          -1.3231078207084785,
          -2.0098730878205,
          0.9936272393051221,
          0.8760350887180153,
          0.8446060769849589,
          0.7584429381309086,
          -1.5218859458394005,
          -1.3231078207084785,
          0.7584429381309086,
          -0.44832771791675413,
          0.7584429381309086,
          -1.2022833972224525,
          0.7584429381309086,
          -0.37338661198617046,
          0.7584429381309086,
          0.7584429381309086,
          0.7584429381309086,
          0.7584429381309086,
          0.7584429381309086,
          -0.6283286132293573,
          -0.30683005974459615,
          -1.3231078207084785,
          -0.014546136796825874,
          0.9936272393051221,
          0.7584429381309086,
          0.7584429381309086,
          0.7584429381309086,
          -1.3231078207084785,
          -1.3231078207084785,
          -0.7773328826695195,
          -0.7773328826695195,
          0.41658224739962435,
          -0.30683005974459615,
          -1.005022002930534,
          -1.005022002930534,
          0.7584429381309086,
          0.7584429381309086,
          -1.1769227577397112,
          -1.6685916855973002,
          0.7584429381309086,
          0.7584429381309086,
          0.7584429381309086,
          0.5632535997506293,
          0.5632535997506293,
          0.5632535997506293,
          0.8446060769849589,
          0.8446060769849589,
          0.8446060769849589,
          -2.0571691788202005,
          0.7584429381309086,
          -0.30683005974459615,
          0.7584429381309086,
          0.7584429381309086,
          0.7584429381309086,
          0.7584429381309086,
          0.7584429381309086
         ],
         "y": [
          0,
          0,
          3,
          3,
          3,
          3,
          0,
          0,
          0,
          0,
          0,
          2,
          0,
          0,
          0,
          3,
          0,
          3,
          0,
          0,
          0,
          2,
          0,
          0,
          0,
          0,
          0,
          0,
          0,
          0,
          0,
          2,
          0,
          0,
          -1,
          0,
          0,
          0,
          0,
          0,
          0,
          1,
          0,
          0,
          0,
          1,
          0,
          0,
          0,
          0,
          0,
          0,
          0,
          0,
          0,
          2,
          3,
          2,
          0,
          3,
          3,
          2,
          3,
          3,
          2,
          3,
          3,
          0,
          0,
          0,
          0,
          3,
          0,
          0,
          0
         ],
         "z": [
          0.7889928473533011,
          0.3252223661006007,
          0.15092028443122574,
          -0.6232286041471037,
          -0.5574924977224489,
          0.3432338085807058,
          0.2831172694682103,
          1.1591904979119527,
          1.4057692047866093,
          0.36988950191889336,
          -0.018776247588892524,
          -0.06134657772713283,
          0.8097015682648432,
          -0.29049552745242196,
          -0.11274086619489856,
          -0.36333888633939365,
          -0.21931623789969013,
          -0.5558769178861459,
          -0.10712934457087155,
          -4.044134085088943,
          -0.7095434632796394,
          0.15363283677940637,
          0.21447695102251146,
          0.8712899746857636,
          -0.4942899718881007,
          -0.5893942171005709,
          -0.6981916119916289,
          2.649984470208625,
          0.23212844406696692,
          -0.019518994453805547,
          -0.36866291059393785,
          2.6115273212738046,
          -1.4008712581251053,
          0.4533370604718362,
          0.3451696769175489,
          -0.28040723120630645,
          -0.2747032046052459,
          0.4124740338442746,
          0.05481139404366924,
          -0.04366827829853664,
          -1.8725930187956203,
          0.09718966678354841,
          0.7353736981715083,
          0.922844343736279,
          0.10662340747077331,
          0.47810018095908374,
          0.7353637471738768,
          -0.45674860556231434,
          0.5545194190546184,
          -0.10712934457087155,
          -3.9969455661196203,
          0.18052407164636308,
          -0.4045433249359272,
          -0.7368374746009617,
          0.43828459980068624,
          0.5202023143007102,
          -0.5176802319912244,
          0.1972944156408394,
          0.02510074914875358,
          -0.4749072174808491,
          0.24283577568374537,
          1.0538973240422491,
          -0.22323201206099863,
          -0.10712934457087155,
          -0.8037453463675589,
          0.8216919906340323,
          -0.9780347086811935,
          -0.350536445271069,
          -0.8400585300681491,
          0.34849042072143804,
          0.5386509718615808,
          1.6344106583488094,
          1.1844334702821395,
          -0.0633938280677959,
          -0.6840588042859377
         ]
        },
        {
         "line": {
          "color": "blue",
          "dash": "dash"
         },
         "mode": "lines",
         "name": "Residual",
         "showlegend": false,
         "type": "scatter3d",
         "x": [
          0.7584429381309086,
          0.7584429381309086
         ],
         "y": [
          0,
          0
         ],
         "z": [
          0.7889928473533011,
          0.28128716688383937
         ]
        },
        {
         "line": {
          "color": "blue",
          "dash": "dash"
         },
         "mode": "lines",
         "name": "Residual",
         "showlegend": false,
         "type": "scatter3d",
         "x": [
          0.7584429381309086,
          0.7584429381309086
         ],
         "y": [
          0,
          0
         ],
         "z": [
          0.3252223661006007,
          0.28128716688383937
         ]
        },
        {
         "line": {
          "color": "blue",
          "dash": "dash"
         },
         "mode": "lines",
         "name": "Residual",
         "showlegend": false,
         "type": "scatter3d",
         "x": [
          -1.6002390940033193,
          -1.6002390940033193
         ],
         "y": [
          3,
          3
         ],
         "z": [
          0.15092028443122574,
          -0.20952713950388796
         ]
        },
        {
         "line": {
          "color": "blue",
          "dash": "dash"
         },
         "mode": "lines",
         "name": "Residual",
         "showlegend": false,
         "type": "scatter3d",
         "x": [
          -2.5932890257729597,
          -2.5932890257729597
         ],
         "y": [
          3,
          3
         ],
         "z": [
          -0.6232286041471037,
          -0.3902071887223037
         ]
        },
        {
         "line": {
          "color": "blue",
          "dash": "dash"
         },
         "mode": "lines",
         "name": "Residual",
         "showlegend": false,
         "type": "scatter3d",
         "x": [
          0.7584429381309086,
          0.7584429381309086
         ],
         "y": [
          3,
          3
         ],
         "z": [
          -0.5574924977224489,
          0.21962226378660438
         ]
        },
        {
         "line": {
          "color": "blue",
          "dash": "dash"
         },
         "mode": "lines",
         "name": "Residual",
         "showlegend": false,
         "type": "scatter3d",
         "x": [
          -1.005022002930534,
          -1.005022002930534
         ],
         "y": [
          3,
          3
         ],
         "z": [
          0.3432338085807058,
          -0.1012306179795098
         ]
        },
        {
         "line": {
          "color": "blue",
          "dash": "dash"
         },
         "mode": "lines",
         "name": "Residual",
         "showlegend": false,
         "type": "scatter3d",
         "x": [
          0.7584429381309086,
          0.7584429381309086
         ],
         "y": [
          0,
          0
         ],
         "z": [
          0.2831172694682103,
          0.28128716688383937
         ]
        },
        {
         "line": {
          "color": "blue",
          "dash": "dash"
         },
         "mode": "lines",
         "name": "Residual",
         "showlegend": false,
         "type": "scatter3d",
         "x": [
          0.7584429381309086,
          0.7584429381309086
         ],
         "y": [
          0,
          0
         ],
         "z": [
          1.1591904979119527,
          0.28128716688383937
         ]
        },
        {
         "line": {
          "color": "blue",
          "dash": "dash"
         },
         "mode": "lines",
         "name": "Residual",
         "showlegend": false,
         "type": "scatter3d",
         "x": [
          0.7584429381309086,
          0.7584429381309086
         ],
         "y": [
          0,
          0
         ],
         "z": [
          1.4057692047866093,
          0.28128716688383937
         ]
        },
        {
         "line": {
          "color": "blue",
          "dash": "dash"
         },
         "mode": "lines",
         "name": "Residual",
         "showlegend": false,
         "type": "scatter3d",
         "x": [
          0.7584429381309086,
          0.7584429381309086
         ],
         "y": [
          0,
          0
         ],
         "z": [
          0.36988950191889336,
          0.28128716688383937
         ]
        },
        {
         "line": {
          "color": "blue",
          "dash": "dash"
         },
         "mode": "lines",
         "name": "Residual",
         "showlegend": false,
         "type": "scatter3d",
         "x": [
          0.8760350887180153,
          0.8760350887180153
         ],
         "y": [
          0,
          0
         ],
         "z": [
          -0.018776247588892524,
          0.32984196965867446
         ]
        },
        {
         "line": {
          "color": "blue",
          "dash": "dash"
         },
         "mode": "lines",
         "name": "Residual",
         "showlegend": false,
         "type": "scatter3d",
         "x": [
          0.9936272393051221,
          0.9936272393051221
         ],
         "y": [
          2,
          2
         ],
         "z": [
          -0.06134657772713283,
          0.30107410537703927
         ]
        },
        {
         "line": {
          "color": "blue",
          "dash": "dash"
         },
         "mode": "lines",
         "name": "Residual",
         "showlegend": false,
         "type": "scatter3d",
         "x": [
          -0.401927228092049,
          -0.401927228092049
         ],
         "y": [
          0,
          0
         ],
         "z": [
          0.8097015682648432,
          -0.19783957997349633
         ]
        },
        {
         "line": {
          "color": "blue",
          "dash": "dash"
         },
         "mode": "lines",
         "name": "Residual",
         "showlegend": false,
         "type": "scatter3d",
         "x": [
          -0.401927228092049,
          -0.401927228092049
         ],
         "y": [
          0,
          0
         ],
         "z": [
          -0.29049552745242196,
          -0.19783957997349633
         ]
        },
        {
         "line": {
          "color": "blue",
          "dash": "dash"
         },
         "mode": "lines",
         "name": "Residual",
         "showlegend": false,
         "type": "scatter3d",
         "x": [
          0.9936272393051221,
          0.9936272393051221
         ],
         "y": [
          0,
          0
         ],
         "z": [
          -0.11274086619489856,
          0.37839677243350966
         ]
        },
        {
         "line": {
          "color": "blue",
          "dash": "dash"
         },
         "mode": "lines",
         "name": "Residual",
         "showlegend": false,
         "type": "scatter3d",
         "x": [
          -1.3231078207084785,
          -1.3231078207084785
         ],
         "y": [
          3,
          3
         ],
         "z": [
          -0.36333888633939365,
          -0.15910460736631027
         ]
        },
        {
         "line": {
          "color": "blue",
          "dash": "dash"
         },
         "mode": "lines",
         "name": "Residual",
         "showlegend": false,
         "type": "scatter3d",
         "x": [
          -1.3231078207084785,
          -1.3231078207084785
         ],
         "y": [
          0,
          0
         ],
         "z": [
          -0.21931623789969013,
          -0.5782029101038038
         ]
        },
        {
         "line": {
          "color": "blue",
          "dash": "dash"
         },
         "mode": "lines",
         "name": "Residual",
         "showlegend": false,
         "type": "scatter3d",
         "x": [
          -1.3231078207084785,
          -1.3231078207084785
         ],
         "y": [
          3,
          3
         ],
         "z": [
          -0.5558769178861459,
          -0.15910460736631027
         ]
        },
        {
         "line": {
          "color": "blue",
          "dash": "dash"
         },
         "mode": "lines",
         "name": "Residual",
         "showlegend": false,
         "type": "scatter3d",
         "x": [
          -1.7908524052137913,
          -1.7908524052137913
         ],
         "y": [
          0,
          0
         ],
         "z": [
          -0.10712934457087155,
          -0.7713386418364184
         ]
        },
        {
         "line": {
          "color": "blue",
          "dash": "dash"
         },
         "mode": "lines",
         "name": "Residual",
         "showlegend": false,
         "type": "scatter3d",
         "x": [
          -1.3231078207084785,
          -1.3231078207084785
         ],
         "y": [
          0,
          0
         ],
         "z": [
          -4.044134085088943,
          -0.5782029101038038
         ]
        },
        {
         "line": {
          "color": "blue",
          "dash": "dash"
         },
         "mode": "lines",
         "name": "Residual",
         "showlegend": false,
         "type": "scatter3d",
         "x": [
          -2.0098730878205,
          -2.0098730878205
         ],
         "y": [
          0,
          0
         ],
         "z": [
          -0.7095434632796394,
          -0.8617741513026813
         ]
        },
        {
         "line": {
          "color": "blue",
          "dash": "dash"
         },
         "mode": "lines",
         "name": "Residual",
         "showlegend": false,
         "type": "scatter3d",
         "x": [
          0.9936272393051221,
          0.9936272393051221
         ],
         "y": [
          2,
          2
         ],
         "z": [
          0.15363283677940637,
          0.30107410537703927
         ]
        },
        {
         "line": {
          "color": "blue",
          "dash": "dash"
         },
         "mode": "lines",
         "name": "Residual",
         "showlegend": false,
         "type": "scatter3d",
         "x": [
          0.8760350887180153,
          0.8760350887180153
         ],
         "y": [
          0,
          0
         ],
         "z": [
          0.21447695102251146,
          0.32984196965867446
         ]
        },
        {
         "line": {
          "color": "blue",
          "dash": "dash"
         },
         "mode": "lines",
         "name": "Residual",
         "showlegend": false,
         "type": "scatter3d",
         "x": [
          0.8446060769849589,
          0.8446060769849589
         ],
         "y": [
          0,
          0
         ],
         "z": [
          0.8712899746857636,
          0.3168646624278137
         ]
        },
        {
         "line": {
          "color": "blue",
          "dash": "dash"
         },
         "mode": "lines",
         "name": "Residual",
         "showlegend": false,
         "type": "scatter3d",
         "x": [
          0.7584429381309086,
          0.7584429381309086
         ],
         "y": [
          0,
          0
         ],
         "z": [
          -0.4942899718881007,
          0.28128716688383937
         ]
        },
        {
         "line": {
          "color": "blue",
          "dash": "dash"
         },
         "mode": "lines",
         "name": "Residual",
         "showlegend": false,
         "type": "scatter3d",
         "x": [
          -1.5218859458394005,
          -1.5218859458394005
         ],
         "y": [
          0,
          0
         ],
         "z": [
          -0.5893942171005709,
          -0.660280094792538
         ]
        },
        {
         "line": {
          "color": "blue",
          "dash": "dash"
         },
         "mode": "lines",
         "name": "Residual",
         "showlegend": false,
         "type": "scatter3d",
         "x": [
          -1.3231078207084785,
          -1.3231078207084785
         ],
         "y": [
          0,
          0
         ],
         "z": [
          -0.6981916119916289,
          -0.5782029101038038
         ]
        },
        {
         "line": {
          "color": "blue",
          "dash": "dash"
         },
         "mode": "lines",
         "name": "Residual",
         "showlegend": false,
         "type": "scatter3d",
         "x": [
          0.7584429381309086,
          0.7584429381309086
         ],
         "y": [
          0,
          0
         ],
         "z": [
          2.649984470208625,
          0.28128716688383937
         ]
        },
        {
         "line": {
          "color": "blue",
          "dash": "dash"
         },
         "mode": "lines",
         "name": "Residual",
         "showlegend": false,
         "type": "scatter3d",
         "x": [
          -0.44832771791675413,
          -0.44832771791675413
         ],
         "y": [
          0,
          0
         ],
         "z": [
          0.23212844406696692,
          -0.21699873830885996
         ]
        },
        {
         "line": {
          "color": "blue",
          "dash": "dash"
         },
         "mode": "lines",
         "name": "Residual",
         "showlegend": false,
         "type": "scatter3d",
         "x": [
          0.7584429381309086,
          0.7584429381309086
         ],
         "y": [
          0,
          0
         ],
         "z": [
          -0.019518994453805547,
          0.28128716688383937
         ]
        },
        {
         "line": {
          "color": "blue",
          "dash": "dash"
         },
         "mode": "lines",
         "name": "Residual",
         "showlegend": false,
         "type": "scatter3d",
         "x": [
          -1.2022833972224525,
          -1.2022833972224525
         ],
         "y": [
          0,
          0
         ],
         "z": [
          -0.36866291059393785,
          -0.5283134742574761
         ]
        },
        {
         "line": {
          "color": "blue",
          "dash": "dash"
         },
         "mode": "lines",
         "name": "Residual",
         "showlegend": false,
         "type": "scatter3d",
         "x": [
          0.7584429381309086,
          0.7584429381309086
         ],
         "y": [
          2,
          2
         ],
         "z": [
          2.6115273212738046,
          0.2401772314856827
         ]
        },
        {
         "line": {
          "color": "blue",
          "dash": "dash"
         },
         "mode": "lines",
         "name": "Residual",
         "showlegend": false,
         "type": "scatter3d",
         "x": [
          -0.37338661198617046,
          -0.37338661198617046
         ],
         "y": [
          0,
          0
         ],
         "z": [
          -1.4008712581251053,
          -0.18605491595319934
         ]
        },
        {
         "line": {
          "color": "blue",
          "dash": "dash"
         },
         "mode": "lines",
         "name": "Residual",
         "showlegend": false,
         "type": "scatter3d",
         "x": [
          0.7584429381309086,
          0.7584429381309086
         ],
         "y": [
          0,
          0
         ],
         "z": [
          0.4533370604718362,
          0.28128716688383937
         ]
        },
        {
         "line": {
          "color": "blue",
          "dash": "dash"
         },
         "mode": "lines",
         "name": "Residual",
         "showlegend": false,
         "type": "scatter3d",
         "x": [
          0.7584429381309086,
          0.7584429381309086
         ],
         "y": [
          -1,
          -1
         ],
         "z": [
          0.3451696769175489,
          0.30184213458291775
         ]
        },
        {
         "line": {
          "color": "blue",
          "dash": "dash"
         },
         "mode": "lines",
         "name": "Residual",
         "showlegend": false,
         "type": "scatter3d",
         "x": [
          0.7584429381309086,
          0.7584429381309086
         ],
         "y": [
          0,
          0
         ],
         "z": [
          -0.28040723120630645,
          0.28128716688383937
         ]
        },
        {
         "line": {
          "color": "blue",
          "dash": "dash"
         },
         "mode": "lines",
         "name": "Residual",
         "showlegend": false,
         "type": "scatter3d",
         "x": [
          0.7584429381309086,
          0.7584429381309086
         ],
         "y": [
          0,
          0
         ],
         "z": [
          -0.2747032046052459,
          0.28128716688383937
         ]
        },
        {
         "line": {
          "color": "blue",
          "dash": "dash"
         },
         "mode": "lines",
         "name": "Residual",
         "showlegend": false,
         "type": "scatter3d",
         "x": [
          0.7584429381309086,
          0.7584429381309086
         ],
         "y": [
          0,
          0
         ],
         "z": [
          0.4124740338442746,
          0.28128716688383937
         ]
        },
        {
         "line": {
          "color": "blue",
          "dash": "dash"
         },
         "mode": "lines",
         "name": "Residual",
         "showlegend": false,
         "type": "scatter3d",
         "x": [
          -0.6283286132293573,
          -0.6283286132293573
         ],
         "y": [
          0,
          0
         ],
         "z": [
          0.05481139404366924,
          -0.2913226445182551
         ]
        },
        {
         "line": {
          "color": "blue",
          "dash": "dash"
         },
         "mode": "lines",
         "name": "Residual",
         "showlegend": false,
         "type": "scatter3d",
         "x": [
          -0.30683005974459615,
          -0.30683005974459615
         ],
         "y": [
          0,
          0
         ],
         "z": [
          -0.04366827829853664,
          -0.15857314738847866
         ]
        },
        {
         "line": {
          "color": "blue",
          "dash": "dash"
         },
         "mode": "lines",
         "name": "Residual",
         "showlegend": false,
         "type": "scatter3d",
         "x": [
          -1.3231078207084785,
          -1.3231078207084785
         ],
         "y": [
          0,
          0
         ],
         "z": [
          -1.8725930187956203,
          -0.5782029101038038
         ]
        },
        {
         "line": {
          "color": "blue",
          "dash": "dash"
         },
         "mode": "lines",
         "name": "Residual",
         "showlegend": false,
         "type": "scatter3d",
         "x": [
          -0.014546136796825874,
          -0.014546136796825874
         ],
         "y": [
          1,
          1
         ],
         "z": [
          0.09718966678354841,
          0.0010692842582373605
         ]
        },
        {
         "line": {
          "color": "blue",
          "dash": "dash"
         },
         "mode": "lines",
         "name": "Residual",
         "showlegend": false,
         "type": "scatter3d",
         "x": [
          0.9936272393051221,
          0.9936272393051221
         ],
         "y": [
          0,
          0
         ],
         "z": [
          0.7353736981715083,
          0.37839677243350966
         ]
        },
        {
         "line": {
          "color": "blue",
          "dash": "dash"
         },
         "mode": "lines",
         "name": "Residual",
         "showlegend": false,
         "type": "scatter3d",
         "x": [
          0.7584429381309086,
          0.7584429381309086
         ],
         "y": [
          0,
          0
         ],
         "z": [
          0.922844343736279,
          0.28128716688383937
         ]
        },
        {
         "line": {
          "color": "blue",
          "dash": "dash"
         },
         "mode": "lines",
         "name": "Residual",
         "showlegend": false,
         "type": "scatter3d",
         "x": [
          0.7584429381309086,
          0.7584429381309086
         ],
         "y": [
          0,
          0
         ],
         "z": [
          0.10662340747077331,
          0.28128716688383937
         ]
        },
        {
         "line": {
          "color": "blue",
          "dash": "dash"
         },
         "mode": "lines",
         "name": "Residual",
         "showlegend": false,
         "type": "scatter3d",
         "x": [
          0.7584429381309086,
          0.7584429381309086
         ],
         "y": [
          1,
          1
         ],
         "z": [
          0.47810018095908374,
          0.26073219918476104
         ]
        },
        {
         "line": {
          "color": "blue",
          "dash": "dash"
         },
         "mode": "lines",
         "name": "Residual",
         "showlegend": false,
         "type": "scatter3d",
         "x": [
          -1.3231078207084785,
          -1.3231078207084785
         ],
         "y": [
          0,
          0
         ],
         "z": [
          0.7353637471738768,
          -0.5782029101038038
         ]
        },
        {
         "line": {
          "color": "blue",
          "dash": "dash"
         },
         "mode": "lines",
         "name": "Residual",
         "showlegend": false,
         "type": "scatter3d",
         "x": [
          -1.3231078207084785,
          -1.3231078207084785
         ],
         "y": [
          0,
          0
         ],
         "z": [
          -0.45674860556231434,
          -0.5782029101038038
         ]
        },
        {
         "line": {
          "color": "blue",
          "dash": "dash"
         },
         "mode": "lines",
         "name": "Residual",
         "showlegend": false,
         "type": "scatter3d",
         "x": [
          -0.7773328826695195,
          -0.7773328826695195
         ],
         "y": [
          0,
          0
         ],
         "z": [
          0.5545194190546184,
          -0.35284777930959665
         ]
        },
        {
         "line": {
          "color": "blue",
          "dash": "dash"
         },
         "mode": "lines",
         "name": "Residual",
         "showlegend": false,
         "type": "scatter3d",
         "x": [
          -0.7773328826695195,
          -0.7773328826695195
         ],
         "y": [
          0,
          0
         ],
         "z": [
          -0.10712934457087155,
          -0.35284777930959665
         ]
        },
        {
         "line": {
          "color": "blue",
          "dash": "dash"
         },
         "mode": "lines",
         "name": "Residual",
         "showlegend": false,
         "type": "scatter3d",
         "x": [
          0.41658224739962435,
          0.41658224739962435
         ],
         "y": [
          0,
          0
         ],
         "z": [
          -3.9969455661196203,
          0.14012996946843298
         ]
        },
        {
         "line": {
          "color": "blue",
          "dash": "dash"
         },
         "mode": "lines",
         "name": "Residual",
         "showlegend": false,
         "type": "scatter3d",
         "x": [
          -0.30683005974459615,
          -0.30683005974459615
         ],
         "y": [
          0,
          0
         ],
         "z": [
          0.18052407164636308,
          -0.15857314738847866
         ]
        },
        {
         "line": {
          "color": "blue",
          "dash": "dash"
         },
         "mode": "lines",
         "name": "Residual",
         "showlegend": false,
         "type": "scatter3d",
         "x": [
          -1.005022002930534,
          -1.005022002930534
         ],
         "y": [
          0,
          0
         ],
         "z": [
          -0.4045433249359272,
          -0.4468625606793783
         ]
        },
        {
         "line": {
          "color": "blue",
          "dash": "dash"
         },
         "mode": "lines",
         "name": "Residual",
         "showlegend": false,
         "type": "scatter3d",
         "x": [
          -1.005022002930534,
          -1.005022002930534
         ],
         "y": [
          0,
          0
         ],
         "z": [
          -0.7368374746009617,
          -0.4468625606793783
         ]
        },
        {
         "line": {
          "color": "blue",
          "dash": "dash"
         },
         "mode": "lines",
         "name": "Residual",
         "showlegend": false,
         "type": "scatter3d",
         "x": [
          0.7584429381309086,
          0.7584429381309086
         ],
         "y": [
          0,
          0
         ],
         "z": [
          0.43828459980068624,
          0.28128716688383937
         ]
        },
        {
         "line": {
          "color": "blue",
          "dash": "dash"
         },
         "mode": "lines",
         "name": "Residual",
         "showlegend": false,
         "type": "scatter3d",
         "x": [
          0.7584429381309086,
          0.7584429381309086
         ],
         "y": [
          2,
          2
         ],
         "z": [
          0.5202023143007102,
          0.2401772314856827
         ]
        },
        {
         "line": {
          "color": "blue",
          "dash": "dash"
         },
         "mode": "lines",
         "name": "Residual",
         "showlegend": false,
         "type": "scatter3d",
         "x": [
          -1.1769227577397112,
          -1.1769227577397112
         ],
         "y": [
          3,
          3
         ],
         "z": [
          -0.5176802319912244,
          -0.13250702800277717
         ]
        },
        {
         "line": {
          "color": "blue",
          "dash": "dash"
         },
         "mode": "lines",
         "name": "Residual",
         "showlegend": false,
         "type": "scatter3d",
         "x": [
          -1.6685916855973002,
          -1.6685916855973002
         ],
         "y": [
          2,
          2
         ],
         "z": [
          0.1972944156408394,
          -0.3882610642390404
         ]
        },
        {
         "line": {
          "color": "blue",
          "dash": "dash"
         },
         "mode": "lines",
         "name": "Residual",
         "showlegend": false,
         "type": "scatter3d",
         "x": [
          0.7584429381309086,
          0.7584429381309086
         ],
         "y": [
          0,
          0
         ],
         "z": [
          0.02510074914875358,
          0.28128716688383937
         ]
        },
        {
         "line": {
          "color": "blue",
          "dash": "dash"
         },
         "mode": "lines",
         "name": "Residual",
         "showlegend": false,
         "type": "scatter3d",
         "x": [
          0.7584429381309086,
          0.7584429381309086
         ],
         "y": [
          3,
          3
         ],
         "z": [
          -0.4749072174808491,
          0.21962226378660438
         ]
        },
        {
         "line": {
          "color": "blue",
          "dash": "dash"
         },
         "mode": "lines",
         "name": "Residual",
         "showlegend": false,
         "type": "scatter3d",
         "x": [
          0.7584429381309086,
          0.7584429381309086
         ],
         "y": [
          3,
          3
         ],
         "z": [
          0.24283577568374537,
          0.21962226378660438
         ]
        },
        {
         "line": {
          "color": "blue",
          "dash": "dash"
         },
         "mode": "lines",
         "name": "Residual",
         "showlegend": false,
         "type": "scatter3d",
         "x": [
          0.5632535997506293,
          0.5632535997506293
         ],
         "y": [
          2,
          2
         ],
         "z": [
          1.0538973240422491,
          0.1896363558195119
         ]
        },
        {
         "line": {
          "color": "blue",
          "dash": "dash"
         },
         "mode": "lines",
         "name": "Residual",
         "showlegend": false,
         "type": "scatter3d",
         "x": [
          0.5632535997506293,
          0.5632535997506293
         ],
         "y": [
          3,
          3
         ],
         "z": [
          -0.22323201206099863,
          0.18410862228963298
         ]
        },
        {
         "line": {
          "color": "blue",
          "dash": "dash"
         },
         "mode": "lines",
         "name": "Residual",
         "showlegend": false,
         "type": "scatter3d",
         "x": [
          0.5632535997506293,
          0.5632535997506293
         ],
         "y": [
          3,
          3
         ],
         "z": [
          -0.10712934457087155,
          0.18410862228963298
         ]
        },
        {
         "line": {
          "color": "blue",
          "dash": "dash"
         },
         "mode": "lines",
         "name": "Residual",
         "showlegend": false,
         "type": "scatter3d",
         "x": [
          0.8446060769849589,
          0.8446060769849589
         ],
         "y": [
          2,
          2
         ],
         "z": [
          -0.8037453463675589,
          0.26248767386929983
         ]
        },
        {
         "line": {
          "color": "blue",
          "dash": "dash"
         },
         "mode": "lines",
         "name": "Residual",
         "showlegend": false,
         "type": "scatter3d",
         "x": [
          0.8446060769849589,
          0.8446060769849589
         ],
         "y": [
          3,
          3
         ],
         "z": [
          0.8216919906340323,
          0.23529917959004287
         ]
        },
        {
         "line": {
          "color": "blue",
          "dash": "dash"
         },
         "mode": "lines",
         "name": "Residual",
         "showlegend": false,
         "type": "scatter3d",
         "x": [
          0.8446060769849589,
          0.8446060769849589
         ],
         "y": [
          3,
          3
         ],
         "z": [
          -0.9780347086811935,
          0.23529917959004287
         ]
        },
        {
         "line": {
          "color": "blue",
          "dash": "dash"
         },
         "mode": "lines",
         "name": "Residual",
         "showlegend": false,
         "type": "scatter3d",
         "x": [
          -2.0571691788202005,
          -2.0571691788202005
         ],
         "y": [
          0,
          0
         ],
         "z": [
          -0.350536445271069,
          -0.881303111008287
         ]
        },
        {
         "line": {
          "color": "blue",
          "dash": "dash"
         },
         "mode": "lines",
         "name": "Residual",
         "showlegend": false,
         "type": "scatter3d",
         "x": [
          0.7584429381309086,
          0.7584429381309086
         ],
         "y": [
          0,
          0
         ],
         "z": [
          -0.8400585300681491,
          0.28128716688383937
         ]
        },
        {
         "line": {
          "color": "blue",
          "dash": "dash"
         },
         "mode": "lines",
         "name": "Residual",
         "showlegend": false,
         "type": "scatter3d",
         "x": [
          -0.30683005974459615,
          -0.30683005974459615
         ],
         "y": [
          0,
          0
         ],
         "z": [
          0.34849042072143804,
          -0.15857314738847866
         ]
        },
        {
         "line": {
          "color": "blue",
          "dash": "dash"
         },
         "mode": "lines",
         "name": "Residual",
         "showlegend": false,
         "type": "scatter3d",
         "x": [
          0.7584429381309086,
          0.7584429381309086
         ],
         "y": [
          0,
          0
         ],
         "z": [
          0.5386509718615808,
          0.28128716688383937
         ]
        },
        {
         "line": {
          "color": "blue",
          "dash": "dash"
         },
         "mode": "lines",
         "name": "Residual",
         "showlegend": false,
         "type": "scatter3d",
         "x": [
          0.7584429381309086,
          0.7584429381309086
         ],
         "y": [
          3,
          3
         ],
         "z": [
          1.6344106583488094,
          0.21962226378660438
         ]
        },
        {
         "line": {
          "color": "blue",
          "dash": "dash"
         },
         "mode": "lines",
         "name": "Residual",
         "showlegend": false,
         "type": "scatter3d",
         "x": [
          0.7584429381309086,
          0.7584429381309086
         ],
         "y": [
          0,
          0
         ],
         "z": [
          1.1844334702821395,
          0.28128716688383937
         ]
        },
        {
         "line": {
          "color": "blue",
          "dash": "dash"
         },
         "mode": "lines",
         "name": "Residual",
         "showlegend": false,
         "type": "scatter3d",
         "x": [
          0.7584429381309086,
          0.7584429381309086
         ],
         "y": [
          0,
          0
         ],
         "z": [
          -0.0633938280677959,
          0.28128716688383937
         ]
        },
        {
         "line": {
          "color": "blue",
          "dash": "dash"
         },
         "mode": "lines",
         "name": "Residual",
         "showlegend": false,
         "type": "scatter3d",
         "x": [
          0.7584429381309086,
          0.7584429381309086
         ],
         "y": [
          0,
          0
         ],
         "z": [
          -0.6840588042859377,
          0.28128716688383937
         ]
        }
       ],
       "layout": {
        "height": 800,
        "margin": {
         "b": 20,
         "l": 20,
         "r": 20,
         "t": 20
        },
        "scene": {
         "aspectmode": "cube",
         "xaxis": {
          "title": {
           "text": "All Datasets Weighted Avg R Map Pcc Inverse R Map Average Target In Subject"
          }
         },
         "yaxis": {
          "title": {
           "text": "Frequency  Hz "
          }
         },
         "zaxis": {
          "title": {
           "text": "Pre Post Memory Effect Size  Cohen S D "
          }
         }
        },
        "template": {
         "data": {
          "bar": [
           {
            "error_x": {
             "color": "#2a3f5f"
            },
            "error_y": {
             "color": "#2a3f5f"
            },
            "marker": {
             "line": {
              "color": "#E5ECF6",
              "width": 0.5
             },
             "pattern": {
              "fillmode": "overlay",
              "size": 10,
              "solidity": 0.2
             }
            },
            "type": "bar"
           }
          ],
          "barpolar": [
           {
            "marker": {
             "line": {
              "color": "#E5ECF6",
              "width": 0.5
             },
             "pattern": {
              "fillmode": "overlay",
              "size": 10,
              "solidity": 0.2
             }
            },
            "type": "barpolar"
           }
          ],
          "carpet": [
           {
            "aaxis": {
             "endlinecolor": "#2a3f5f",
             "gridcolor": "white",
             "linecolor": "white",
             "minorgridcolor": "white",
             "startlinecolor": "#2a3f5f"
            },
            "baxis": {
             "endlinecolor": "#2a3f5f",
             "gridcolor": "white",
             "linecolor": "white",
             "minorgridcolor": "white",
             "startlinecolor": "#2a3f5f"
            },
            "type": "carpet"
           }
          ],
          "choropleth": [
           {
            "colorbar": {
             "outlinewidth": 0,
             "ticks": ""
            },
            "type": "choropleth"
           }
          ],
          "contour": [
           {
            "colorbar": {
             "outlinewidth": 0,
             "ticks": ""
            },
            "colorscale": [
             [
              0,
              "#0d0887"
             ],
             [
              0.1111111111111111,
              "#46039f"
             ],
             [
              0.2222222222222222,
              "#7201a8"
             ],
             [
              0.3333333333333333,
              "#9c179e"
             ],
             [
              0.4444444444444444,
              "#bd3786"
             ],
             [
              0.5555555555555556,
              "#d8576b"
             ],
             [
              0.6666666666666666,
              "#ed7953"
             ],
             [
              0.7777777777777778,
              "#fb9f3a"
             ],
             [
              0.8888888888888888,
              "#fdca26"
             ],
             [
              1,
              "#f0f921"
             ]
            ],
            "type": "contour"
           }
          ],
          "contourcarpet": [
           {
            "colorbar": {
             "outlinewidth": 0,
             "ticks": ""
            },
            "type": "contourcarpet"
           }
          ],
          "heatmap": [
           {
            "colorbar": {
             "outlinewidth": 0,
             "ticks": ""
            },
            "colorscale": [
             [
              0,
              "#0d0887"
             ],
             [
              0.1111111111111111,
              "#46039f"
             ],
             [
              0.2222222222222222,
              "#7201a8"
             ],
             [
              0.3333333333333333,
              "#9c179e"
             ],
             [
              0.4444444444444444,
              "#bd3786"
             ],
             [
              0.5555555555555556,
              "#d8576b"
             ],
             [
              0.6666666666666666,
              "#ed7953"
             ],
             [
              0.7777777777777778,
              "#fb9f3a"
             ],
             [
              0.8888888888888888,
              "#fdca26"
             ],
             [
              1,
              "#f0f921"
             ]
            ],
            "type": "heatmap"
           }
          ],
          "histogram": [
           {
            "marker": {
             "pattern": {
              "fillmode": "overlay",
              "size": 10,
              "solidity": 0.2
             }
            },
            "type": "histogram"
           }
          ],
          "histogram2d": [
           {
            "colorbar": {
             "outlinewidth": 0,
             "ticks": ""
            },
            "colorscale": [
             [
              0,
              "#0d0887"
             ],
             [
              0.1111111111111111,
              "#46039f"
             ],
             [
              0.2222222222222222,
              "#7201a8"
             ],
             [
              0.3333333333333333,
              "#9c179e"
             ],
             [
              0.4444444444444444,
              "#bd3786"
             ],
             [
              0.5555555555555556,
              "#d8576b"
             ],
             [
              0.6666666666666666,
              "#ed7953"
             ],
             [
              0.7777777777777778,
              "#fb9f3a"
             ],
             [
              0.8888888888888888,
              "#fdca26"
             ],
             [
              1,
              "#f0f921"
             ]
            ],
            "type": "histogram2d"
           }
          ],
          "histogram2dcontour": [
           {
            "colorbar": {
             "outlinewidth": 0,
             "ticks": ""
            },
            "colorscale": [
             [
              0,
              "#0d0887"
             ],
             [
              0.1111111111111111,
              "#46039f"
             ],
             [
              0.2222222222222222,
              "#7201a8"
             ],
             [
              0.3333333333333333,
              "#9c179e"
             ],
             [
              0.4444444444444444,
              "#bd3786"
             ],
             [
              0.5555555555555556,
              "#d8576b"
             ],
             [
              0.6666666666666666,
              "#ed7953"
             ],
             [
              0.7777777777777778,
              "#fb9f3a"
             ],
             [
              0.8888888888888888,
              "#fdca26"
             ],
             [
              1,
              "#f0f921"
             ]
            ],
            "type": "histogram2dcontour"
           }
          ],
          "mesh3d": [
           {
            "colorbar": {
             "outlinewidth": 0,
             "ticks": ""
            },
            "type": "mesh3d"
           }
          ],
          "parcoords": [
           {
            "line": {
             "colorbar": {
              "outlinewidth": 0,
              "ticks": ""
             }
            },
            "type": "parcoords"
           }
          ],
          "pie": [
           {
            "automargin": true,
            "type": "pie"
           }
          ],
          "scatter": [
           {
            "fillpattern": {
             "fillmode": "overlay",
             "size": 10,
             "solidity": 0.2
            },
            "type": "scatter"
           }
          ],
          "scatter3d": [
           {
            "line": {
             "colorbar": {
              "outlinewidth": 0,
              "ticks": ""
             }
            },
            "marker": {
             "colorbar": {
              "outlinewidth": 0,
              "ticks": ""
             }
            },
            "type": "scatter3d"
           }
          ],
          "scattercarpet": [
           {
            "marker": {
             "colorbar": {
              "outlinewidth": 0,
              "ticks": ""
             }
            },
            "type": "scattercarpet"
           }
          ],
          "scattergeo": [
           {
            "marker": {
             "colorbar": {
              "outlinewidth": 0,
              "ticks": ""
             }
            },
            "type": "scattergeo"
           }
          ],
          "scattergl": [
           {
            "marker": {
             "colorbar": {
              "outlinewidth": 0,
              "ticks": ""
             }
            },
            "type": "scattergl"
           }
          ],
          "scattermap": [
           {
            "marker": {
             "colorbar": {
              "outlinewidth": 0,
              "ticks": ""
             }
            },
            "type": "scattermap"
           }
          ],
          "scattermapbox": [
           {
            "marker": {
             "colorbar": {
              "outlinewidth": 0,
              "ticks": ""
             }
            },
            "type": "scattermapbox"
           }
          ],
          "scatterpolar": [
           {
            "marker": {
             "colorbar": {
              "outlinewidth": 0,
              "ticks": ""
             }
            },
            "type": "scatterpolar"
           }
          ],
          "scatterpolargl": [
           {
            "marker": {
             "colorbar": {
              "outlinewidth": 0,
              "ticks": ""
             }
            },
            "type": "scatterpolargl"
           }
          ],
          "scatterternary": [
           {
            "marker": {
             "colorbar": {
              "outlinewidth": 0,
              "ticks": ""
             }
            },
            "type": "scatterternary"
           }
          ],
          "surface": [
           {
            "colorbar": {
             "outlinewidth": 0,
             "ticks": ""
            },
            "colorscale": [
             [
              0,
              "#0d0887"
             ],
             [
              0.1111111111111111,
              "#46039f"
             ],
             [
              0.2222222222222222,
              "#7201a8"
             ],
             [
              0.3333333333333333,
              "#9c179e"
             ],
             [
              0.4444444444444444,
              "#bd3786"
             ],
             [
              0.5555555555555556,
              "#d8576b"
             ],
             [
              0.6666666666666666,
              "#ed7953"
             ],
             [
              0.7777777777777778,
              "#fb9f3a"
             ],
             [
              0.8888888888888888,
              "#fdca26"
             ],
             [
              1,
              "#f0f921"
             ]
            ],
            "type": "surface"
           }
          ],
          "table": [
           {
            "cells": {
             "fill": {
              "color": "#EBF0F8"
             },
             "line": {
              "color": "white"
             }
            },
            "header": {
             "fill": {
              "color": "#C8D4E3"
             },
             "line": {
              "color": "white"
             }
            },
            "type": "table"
           }
          ]
         },
         "layout": {
          "annotationdefaults": {
           "arrowcolor": "#2a3f5f",
           "arrowhead": 0,
           "arrowwidth": 1
          },
          "autotypenumbers": "strict",
          "coloraxis": {
           "colorbar": {
            "outlinewidth": 0,
            "ticks": ""
           }
          },
          "colorscale": {
           "diverging": [
            [
             0,
             "#8e0152"
            ],
            [
             0.1,
             "#c51b7d"
            ],
            [
             0.2,
             "#de77ae"
            ],
            [
             0.3,
             "#f1b6da"
            ],
            [
             0.4,
             "#fde0ef"
            ],
            [
             0.5,
             "#f7f7f7"
            ],
            [
             0.6,
             "#e6f5d0"
            ],
            [
             0.7,
             "#b8e186"
            ],
            [
             0.8,
             "#7fbc41"
            ],
            [
             0.9,
             "#4d9221"
            ],
            [
             1,
             "#276419"
            ]
           ],
           "sequential": [
            [
             0,
             "#0d0887"
            ],
            [
             0.1111111111111111,
             "#46039f"
            ],
            [
             0.2222222222222222,
             "#7201a8"
            ],
            [
             0.3333333333333333,
             "#9c179e"
            ],
            [
             0.4444444444444444,
             "#bd3786"
            ],
            [
             0.5555555555555556,
             "#d8576b"
            ],
            [
             0.6666666666666666,
             "#ed7953"
            ],
            [
             0.7777777777777778,
             "#fb9f3a"
            ],
            [
             0.8888888888888888,
             "#fdca26"
            ],
            [
             1,
             "#f0f921"
            ]
           ],
           "sequentialminus": [
            [
             0,
             "#0d0887"
            ],
            [
             0.1111111111111111,
             "#46039f"
            ],
            [
             0.2222222222222222,
             "#7201a8"
            ],
            [
             0.3333333333333333,
             "#9c179e"
            ],
            [
             0.4444444444444444,
             "#bd3786"
            ],
            [
             0.5555555555555556,
             "#d8576b"
            ],
            [
             0.6666666666666666,
             "#ed7953"
            ],
            [
             0.7777777777777778,
             "#fb9f3a"
            ],
            [
             0.8888888888888888,
             "#fdca26"
            ],
            [
             1,
             "#f0f921"
            ]
           ]
          },
          "colorway": [
           "#636efa",
           "#EF553B",
           "#00cc96",
           "#ab63fa",
           "#FFA15A",
           "#19d3f3",
           "#FF6692",
           "#B6E880",
           "#FF97FF",
           "#FECB52"
          ],
          "font": {
           "color": "#2a3f5f"
          },
          "geo": {
           "bgcolor": "white",
           "lakecolor": "white",
           "landcolor": "#E5ECF6",
           "showlakes": true,
           "showland": true,
           "subunitcolor": "white"
          },
          "hoverlabel": {
           "align": "left"
          },
          "hovermode": "closest",
          "mapbox": {
           "style": "light"
          },
          "paper_bgcolor": "white",
          "plot_bgcolor": "#E5ECF6",
          "polar": {
           "angularaxis": {
            "gridcolor": "white",
            "linecolor": "white",
            "ticks": ""
           },
           "bgcolor": "#E5ECF6",
           "radialaxis": {
            "gridcolor": "white",
            "linecolor": "white",
            "ticks": ""
           }
          },
          "scene": {
           "xaxis": {
            "backgroundcolor": "#E5ECF6",
            "gridcolor": "white",
            "gridwidth": 2,
            "linecolor": "white",
            "showbackground": true,
            "ticks": "",
            "zerolinecolor": "white"
           },
           "yaxis": {
            "backgroundcolor": "#E5ECF6",
            "gridcolor": "white",
            "gridwidth": 2,
            "linecolor": "white",
            "showbackground": true,
            "ticks": "",
            "zerolinecolor": "white"
           },
           "zaxis": {
            "backgroundcolor": "#E5ECF6",
            "gridcolor": "white",
            "gridwidth": 2,
            "linecolor": "white",
            "showbackground": true,
            "ticks": "",
            "zerolinecolor": "white"
           }
          },
          "shapedefaults": {
           "line": {
            "color": "#2a3f5f"
           }
          },
          "ternary": {
           "aaxis": {
            "gridcolor": "white",
            "linecolor": "white",
            "ticks": ""
           },
           "baxis": {
            "gridcolor": "white",
            "linecolor": "white",
            "ticks": ""
           },
           "bgcolor": "#E5ECF6",
           "caxis": {
            "gridcolor": "white",
            "linecolor": "white",
            "ticks": ""
           }
          },
          "title": {
           "x": 0.05
          },
          "xaxis": {
           "automargin": true,
           "gridcolor": "white",
           "linecolor": "white",
           "ticks": "",
           "title": {
            "standoff": 15
           },
           "zerolinecolor": "white",
           "zerolinewidth": 2
          },
          "yaxis": {
           "automargin": true,
           "gridcolor": "white",
           "linecolor": "white",
           "ticks": "",
           "title": {
            "standoff": 15
           },
           "zerolinecolor": "white",
           "zerolinewidth": 2
          }
         }
        },
        "width": 1200
       }
      }
     },
     "metadata": {},
     "output_type": "display_data"
    }
   ],
   "source": [
    "from calvin_utils.statistical_utils.response_surface_utils.regression_response_surface import GLMPlot\n",
    "ip = GLMPlot(model_results=results, data_df=data_df, formula=formula)\n",
    "ip.run(plot_residuals=True)"
   ]
  },
  {
   "cell_type": "markdown",
   "metadata": {},
   "source": [
    "Visualize the Regression as a Forest Plot\n",
    "- This will probably look poor if you ran a regression without standardizing your data. "
   ]
  },
  {
   "cell_type": "code",
   "execution_count": null,
   "metadata": {},
   "outputs": [],
   "source": [
    "from calvin_utils.statistical_utils.statistical_measurements import ForestPlot\n",
    "forest = ForestPlot(model=results, sig_digits=2, out_dir=out_dir, table=False)\n",
    "forest.run()"
   ]
  },
  {
   "cell_type": "markdown",
   "metadata": {},
   "source": [
    "Visualize The Model's Fit"
   ]
  },
  {
   "cell_type": "code",
   "execution_count": null,
   "metadata": {},
   "outputs": [],
   "source": [
    "from calvin_utils.statistical_utils.statistical_measurements import model_diagnostics\n",
    "model_diagnostics(results)"
   ]
  },
  {
   "cell_type": "markdown",
   "metadata": {},
   "source": [
    "Visualize the Partial Regression Plots"
   ]
  },
  {
   "cell_type": "code",
   "execution_count": null,
   "metadata": {},
   "outputs": [],
   "source": [
    "from calvin_utils.statistical_utils.statistical_measurements import PartialRegressionPlot\n",
    "partial_plot = PartialRegressionPlot(model=results, design_matrix=design_matrix, out_dir=out_dir, palette='Reds')\n",
    "partial_plot = partial_plot.run()"
   ]
  },
  {
   "cell_type": "markdown",
   "metadata": {},
   "source": [
    "2D visualization"
   ]
  },
  {
   "cell_type": "code",
   "execution_count": null,
   "metadata": {},
   "outputs": [],
   "source": [
    "data_df.columns"
   ]
  },
  {
   "cell_type": "code",
   "execution_count": null,
   "metadata": {},
   "outputs": [],
   "source": [
    "from calvin_utils.statistical_utils.anova_visualization import QuickANOVAPlot\n",
    "import statsmodels.formula.api as smf\n",
    "model = smf.ols(formula, data=data_df).fit()\n",
    "quick_plot = QuickANOVAPlot(model, data_df, out_dir=out_dir)\n",
    "quick_plot.make_predictions()\n",
    "quick_plot.plot_predictions(x_var='age', hue_var='Dataset', cohort_var='sbc_conn', y='z_scored_improvement', error_bar='se')"
   ]
  },
  {
   "cell_type": "markdown",
   "metadata": {},
   "source": [
    "# 07 - Run the Contrasts"
   ]
  },
  {
   "cell_type": "markdown",
   "metadata": {},
   "source": [
    "Contrast Results Are Displayed Below"
   ]
  },
  {
   "cell_type": "code",
   "execution_count": null,
   "metadata": {},
   "outputs": [],
   "source": [
    "contrast_matrix_df"
   ]
  },
  {
   "cell_type": "code",
   "execution_count": null,
   "metadata": {},
   "outputs": [],
   "source": [
    "contrast_results = results.t_test(contrast_matrix_df)\n",
    "print(contrast_results.summary())"
   ]
  },
  {
   "cell_type": "markdown",
   "metadata": {},
   "source": [
    "# 08 - Compare the Coefficient Between 2 Groups"
   ]
  },
  {
   "cell_type": "code",
   "execution_count": null,
   "metadata": {},
   "outputs": [],
   "source": [
    "groups_column = 'Age_Group'"
   ]
  },
  {
   "cell_type": "code",
   "execution_count": null,
   "metadata": {},
   "outputs": [],
   "source": [
    "from calvin_utils.permutation_analysis_utils.statsmodels_palm import RegressionAnalysis\n",
    "regression_test = RegressionAnalysis(outcome_df=outcome_matrix, design_df=design_matrix, groups_df=data_df[[groups_column]], N=10000, metric='similarity', two_tail=False, out_dir=out_dir)\n",
    "regression_test.run()"
   ]
  },
  {
   "cell_type": "markdown",
   "metadata": {},
   "source": [
    "# 09 - Compare Distribution of T Values Between Groups"
   ]
  },
  {
   "cell_type": "code",
   "execution_count": null,
   "metadata": {},
   "outputs": [],
   "source": [
    "data_df.columns"
   ]
  },
  {
   "cell_type": "code",
   "execution_count": null,
   "metadata": {},
   "outputs": [],
   "source": [
    "plot_together=False\n",
    "groups_column = 'Age_Group'"
   ]
  },
  {
   "cell_type": "code",
   "execution_count": null,
   "metadata": {},
   "outputs": [],
   "source": [
    "from calvin_utils.permutation_analysis_utils.statsmodels_palm import BootstrappedRegressionAnalysis\n",
    "\n",
    "# Create an instance of BootstrappedRegressionAnalysis\n",
    "bootstrapped_regression_test = BootstrappedRegressionAnalysis(outcome_df=outcome_matrix, design_df=design_matrix, groups_df=data_df[[groups_column]], N=10000, out_dir=out_dir, plot_together=plot_together)\n",
    "\n",
    "# Run the bootstrapped regression analysis\n",
    "df1 = bootstrapped_regression_test.run()"
   ]
  },
  {
   "cell_type": "markdown",
   "metadata": {},
   "source": [
    "# 10a - Similarity of Response topology Across Cohorts in Dataframe\n",
    "- Denote the column containing your different cohorts to test across\n",
    "- Write the formula, excluding the cohort column"
   ]
  },
  {
   "cell_type": "code",
   "execution_count": null,
   "metadata": {},
   "outputs": [],
   "source": [
    "cohort_col = 'City'\n",
    "formula = \"Z_Scored_Percent_Cognitive_Improvement ~ Age*Z_Scored_Subiculum_Connectivity_T\""
   ]
  },
  {
   "cell_type": "code",
   "execution_count": null,
   "metadata": {},
   "outputs": [],
   "source": [
    "from calvin_utils.statistical_utils.response_surface_utils.permute_response_surfaces import GLMPredictionPermutationTest\n",
    "sim_test = GLMPredictionPermutationTest(data_df=data_df, formula=formula, cohort_col=cohort_col, two_tailed=False, method='pearsonr',\n",
    "                                        n_permutations=10000)\n",
    "sim_test.run()"
   ]
  },
  {
   "cell_type": "markdown",
   "metadata": {},
   "source": [
    "# 10b - Predict Another Dataframe\n",
    "- Can use this to predict data from a second group, such as the 'other_df' defined in \"Step 01, Drop Rows Based on Value of a Column\""
   ]
  },
  {
   "cell_type": "code",
   "execution_count": null,
   "metadata": {},
   "outputs": [],
   "source": [
    "import numpy as np\n",
    "from scipy.stats import f\n",
    "\n",
    "def calculate_ssr(observations, predictions):\n",
    "    \"\"\"\n",
    "    Calculate the regression sum of squares.\n",
    "    This is the sum of squared deviations, with deviation being Y_hat_i - Y_bar\n",
    "    \n",
    "    SSR is a measure used to quantify the variance in the observed data that is not explained by the model. \n",
    "    It is calculated as the sum of the squares of the differences between the observed values and the model's predictions. \n",
    "    The more the 'mean' predicts \n",
    "    A lower SSR indicates a better model fit, meaning the model's predictions are closer to the actual observations.\n",
    "    \n",
    "    SSR = Σ(y_hat - y_bar)^2 \n",
    "    \n",
    "    Parameters:\n",
    "    - observations (array-like): The actual observed outcomes.\n",
    "    - predictions (array-like): The outcomes predicted by the model.\n",
    "    \n",
    "    Returns:\n",
    "    - float: The calculated SSR.\n",
    "    \"\"\"\n",
    "    y_hat = observations\n",
    "    y_bar = np.mean(predictions)\n",
    "    ssr = np.sum((y_hat - y_bar) ** 2)\n",
    "    return ssr\n",
    "\n",
    "def calculate_sse(observations, predictions):\n",
    "    \"\"\"\n",
    "    Calculate the sum of squares due to error (SSE).\n",
    "    \n",
    "    SSE is a measure of the total deviation of the response values from the fit to the response values. \n",
    "    It is calculated as the sum of the squares of the differences between the predicted values and the observed values. \n",
    "    A lower SSE indicates a model that more accurately fits the data.\n",
    "    \n",
    "    SSE = Σ(y - y_hat)^2\n",
    "    \n",
    "    Parameters:\n",
    "    - observations (array-like): The actual observed outcomes.\n",
    "    - predictions (array-like): The outcomes predicted by the model.\n",
    "    \n",
    "    Returns:\n",
    "    - float: The calculated SSE.\n",
    "    \"\"\"\n",
    "    y = observations\n",
    "    y_hat = predictions\n",
    "    sse = np.sum((y - y_hat) ** 2)\n",
    "    return sse\n",
    "\n",
    "def calculate_ssto(observations):\n",
    "    \"\"\"\n",
    "    Calculate the total sum of squares (SSTO).\n",
    "    \n",
    "    SSTO is a measure of the total variance in the observed data and is used as a comparative tool for model evaluation. \n",
    "    It is calculated as the sum of the squares of the differences between the observed values and their overall mean. \n",
    "    SSTO is used in the denominator of the coefficient of determination, R^2, which assesses the fit of the model.\n",
    "    \n",
    "    SSTO = Σ(y - y_bar)^2\n",
    "    \n",
    "    Parameters:\n",
    "    - observations (array-like): The actual observed outcomes.\n",
    "    \n",
    "    Returns:\n",
    "    - float: The calculated SSTO.\n",
    "    \"\"\"\n",
    "    y = observations\n",
    "    y_bar = np.mean(y)\n",
    "    ssto = np.sum((y - y_bar) ** 2)\n",
    "    return ssto\n",
    "\n",
    "\n",
    "def calculate_msr(ssr, num_regressors):\n",
    "    \"\"\"\n",
    "    Calculate the mean square due to regression (MSR).\n",
    "    \n",
    "    MSR is a measure of the variation explained by the independent variables in the model. It is calculated as the \n",
    "    sum of squared residuals (SSR) divided by the degrees of freedom, which is the number of independent variables (regressors) minus one.\n",
    "    A higher MSR indicates that the model explains a greater amount of variation in the outcome variable.\n",
    "    \n",
    "    MSR = SSR / (number of regressors - 1)\n",
    "    \n",
    "    Parameters:\n",
    "    - ssr (float): The sum of squared residuals from the regression model.\n",
    "    - num_regressors (int): The number of independent variables in the model.\n",
    "    \n",
    "    Returns:\n",
    "    - float: The calculated MSR.\n",
    "    \"\"\"\n",
    "    return ssr / (num_regressors - 1)\n",
    "\n",
    "def calculate_mse(sse, num_regressors, num_observations):\n",
    "    \"\"\"\n",
    "    Calculate the mean square error (MSE).\n",
    "    \n",
    "    MSE is a measure of the average of the squares of the errors, that is, the average squared difference between the observed actual outcomes and the outcomes predicted by the model. It is calculated as the sum of squared errors (SSE) divided by the degrees of freedom, which is the number of observations minus the number of regressors.\n",
    "    A lower MSE indicates a better fit of the model to the data.\n",
    "    \n",
    "    MSE = SSE / (number of observations - number of regressors)\n",
    "    \n",
    "    Parameters:\n",
    "    - sse (float): The sum of squared errors from the regression model.\n",
    "    - num_regressors (int): The number of independent variables in the model.\n",
    "    - num_observations (int): The number of observations in the data set.\n",
    "    \n",
    "    Returns:\n",
    "    - float: The calculated MSE.\n",
    "    \"\"\"\n",
    "    return sse / (num_observations - num_regressors)\n",
    "\n",
    "def calculate_f_stat(msr, mse, num_regressors, num_observations):\n",
    "    \"\"\"\n",
    "    Calculate the F-statistic.\n",
    "    \n",
    "    The F-statistic is used to compare statistical models that have been fitted to a data set in order to identify the model that best fits the population from which the data were sampled. It is the ratio of the mean square due to regression (MSR) to the mean square error (MSE).\n",
    "    \n",
    "    The F-statistic follows the F-distribution under the null hypothesis that the model with no independent variables fits the data as well as your model. A higher F-statistic implies that the null hypothesis is false, and your model adds value in explaining the variation in the data.\n",
    "    \n",
    "    F = MSR / MSE\n",
    "    \n",
    "    Parameters:\n",
    "    - msr (float): The mean square due to regression.\n",
    "    - mse (float): The mean square error.\n",
    "    \n",
    "    Returns:\n",
    "    - float: The calculated F-statistic.\n",
    "    - float: The p-value from the F-distribution.\n",
    "    \"\"\"\n",
    "    f_stat = msr / mse\n",
    "    # The degrees of freedom for the numerator (dfn) is the number of independent variables (regressors).\n",
    "    # The degrees of freedom for the denominator (dfd) is the total number of observations minus the number of independent variables minus 1.\n",
    "    # These values need to be defined or calculated outside of this function.\n",
    "    dfn = num_regressors - 1\n",
    "    dfd = num_observations - num_regressors \n",
    "    p_value = f.sf(f_stat, dfn, dfd)\n",
    "    return f_stat, p_value\n",
    "\n",
    "def run_goodness_of_fit(target_outcome_matrix, predictions, target_design_matrix):\n",
    "    \"\"\"\n",
    "    Calculate the F-statistic and p-value for a linear regression model.\n",
    "\n",
    "    Parameters:\n",
    "    - target_outcome_matrix (array-like): The actual observed outcomes (Y_actual).\n",
    "    - predictions (array-like): The outcomes predicted by the model (Y_hat).\n",
    "\n",
    "    Returns:\n",
    "    - float: The calculated F-statistic.\n",
    "    - float: The p-value from the F-distribution.\n",
    "    \"\"\"\n",
    "    # Calculate the regression sum of squares (SSR).\n",
    "    ssr = calculate_ssr(target_outcome_matrix, predictions)\n",
    "\n",
    "    # Calculate the sum of squares due to error (SSE).\n",
    "    sse = calculate_sse(target_outcome_matrix, predictions)\n",
    "\n",
    "    # Calculate the number of regressors and observations.\n",
    "    num_regressors = target_design_matrix.shape[1]\n",
    "    num_observations = len(target_outcome_matrix)\n",
    "\n",
    "    # Calculate the mean square due to regression (MSR).\n",
    "    msr = calculate_msr(ssr, num_regressors)\n",
    "\n",
    "    # Calculate the mean square error (MSE).\n",
    "    mse = calculate_mse(sse, num_regressors, num_observations)\n",
    "\n",
    "    # Calculate the F-statistic and p-value.\n",
    "    f_stat, p_value = calculate_f_stat(msr, mse, num_regressors, num_observations)\n",
    "\n",
    "    return f_stat, p_value\n",
    "\n",
    "def calculate_r_squared(observations, predictions):\n",
    "    \"\"\"\n",
    "    Calculate the R-squared (coefficient of determination) value.\n",
    "\n",
    "    R-squared measures the proportion of the variance in the observed outcomes that is explained by the predictions.\n",
    "\n",
    "    R-squared = 1 - (SSE / SSTO)\n",
    "\n",
    "    Parameters:\n",
    "    - observations (array-like): The actual observed outcomes.\n",
    "    - predictions (array-like): The outcomes predicted by the model.\n",
    "\n",
    "    Returns:\n",
    "    - float: The calculated R-squared value.\n",
    "    \"\"\"\n",
    "    # Calculate SSE (Sum of Squares of Errors)\n",
    "    sse = np.sum((observations - predictions) ** 2)\n",
    "\n",
    "    # Calculate SSTO (Total Sum of Squares)\n",
    "    y_mean = np.mean(observations)\n",
    "    ssto = np.sum((observations - y_mean) ** 2)\n",
    "\n",
    "    # Calculate R-squared\n",
    "    r_squared = 1 - (sse / ssto)\n",
    "    \n",
    "    return r_squared"
   ]
  },
  {
   "cell_type": "markdown",
   "metadata": {},
   "source": [
    "Get a new Dataframe to predict upon"
   ]
  },
  {
   "cell_type": "code",
   "execution_count": null,
   "metadata": {},
   "outputs": [],
   "source": [
    "from calvin_utils.permutation_analysis_utils.statsmodels_palm import CalvinStatsmodelsPalm\n",
    "# Instantiate the PalmPrepararation class\n",
    "cal_palm = CalvinStatsmodelsPalm(input_csv_path=input_csv_path, output_dir=out_dir, sheet=sheet)\n",
    "# Call the process_nifti_paths method\n",
    "data_df = cal_palm.read_and_display_data()"
   ]
  },
  {
   "cell_type": "code",
   "execution_count": null,
   "metadata": {},
   "outputs": [],
   "source": [
    "column = 'Cohort'  # The column you'd like to evaluate\n",
    "condition = 'not'  # The condition to check ('equal', 'above', 'below', 'not')\n",
    "value = 0 # The value to drop if T"
   ]
  },
  {
   "cell_type": "code",
   "execution_count": null,
   "metadata": {},
   "outputs": [],
   "source": [
    "data_df, other_df = cal_palm.drop_rows_based_on_value(column, condition, value)\n",
    "display(data_df)"
   ]
  },
  {
   "cell_type": "code",
   "execution_count": null,
   "metadata": {},
   "outputs": [],
   "source": [
    "# Define the design matrix\n",
    "target_outcome_matrix, target_design_matrix = cal_palm.define_design_matrix(formula, data_df)\n",
    "predictions = results.predict(target_design_matrix)"
   ]
  },
  {
   "cell_type": "markdown",
   "metadata": {},
   "source": [
    "Extract F-Test for Goodness of Fit"
   ]
  },
  {
   "cell_type": "code",
   "execution_count": null,
   "metadata": {},
   "outputs": [],
   "source": [
    "f_stat, p_value = run_goodness_of_fit(target_outcome_matrix=target_outcome_matrix.to_numpy().flatten(), \n",
    "                    predictions=predictions.to_numpy().flatten(), \n",
    "                    target_design_matrix=target_design_matrix)\n",
    "print(p_value)"
   ]
  },
  {
   "cell_type": "markdown",
   "metadata": {},
   "source": [
    "Extract R-Squared"
   ]
  },
  {
   "cell_type": "code",
   "execution_count": null,
   "metadata": {},
   "outputs": [],
   "source": [
    "from scipy.stats import pearsonr\n",
    "r_squared = calculate_r_squared(target_outcome_matrix.to_numpy().flatten(), predictions.to_numpy().flatten())\n",
    "print(f\"R-squared: {r_squared:.4f}\")\n",
    "r, p = pearsonr(target_outcome_matrix.to_numpy().flatten(), predictions.to_numpy().flatten())\n",
    "print(f\"PearsonR R-squared: {r*r}\")"
   ]
  },
  {
   "cell_type": "code",
   "execution_count": null,
   "metadata": {},
   "outputs": [],
   "source": [
    "import numpy as np\n",
    "from sklearn.metrics import mean_squared_error, mean_absolute_error\n",
    "\n",
    "# Calculate Mean Squared Error (MSE)\n",
    "mse = mean_squared_error(target_outcome_matrix, predictions)\n",
    "\n",
    "# Calculate Root Mean Squared Error (RMSE)\n",
    "rmse = np.sqrt(mse)\n",
    "\n",
    "# Calculate Mean Absolute Error (MAE)\n",
    "mae = mean_absolute_error(target_outcome_matrix, predictions)\n",
    "\n",
    "# Print the results\n",
    "print(\"Mean Squared Error (MSE):\", mse)\n",
    "print(\"Root Mean Squared Error (RMSE):\", rmse)\n",
    "print(\"Mean Absolute Error (MAE):\", mae)"
   ]
  },
  {
   "cell_type": "markdown",
   "metadata": {},
   "source": [
    "Plot The Fit"
   ]
  },
  {
   "cell_type": "code",
   "execution_count": null,
   "metadata": {},
   "outputs": [],
   "source": [
    "import seaborn as sns\n",
    "import matplotlib.pyplot as plt\n",
    "import numpy as np\n",
    "\n",
    "def plot_scatter_with_f_stat_in_title(target_outcome_matrix, predictions, f_stat, p_value, out_dir=None):\n",
    "    \"\"\"\n",
    "    Create a scatterplot of predicted vs. observed values with F-statistic and p-value in the title.\n",
    "\n",
    "    Parameters:\n",
    "    - target_outcome_matrix (array-like): The actual observed outcomes.\n",
    "    - predictions (array-like): The outcomes predicted by the model.\n",
    "    - f_stat (float): The F-statistic value.\n",
    "    - p_value (float): The p-value.\n",
    "\n",
    "    Returns:\n",
    "    - None (displays the plot)\n",
    "    \"\"\"\n",
    "    # Create a scatterplot using Seaborn\n",
    "    plt.figure(figsize=(8, 6))\n",
    "    sns.scatterplot(x=predictions,\n",
    "                    y=target_outcome_matrix,\n",
    "                    label='Predicted vs. Observed')\n",
    "\n",
    "    # Add a diagonal line\n",
    "    xlim = plt.xlim()  # Get current X-axis limits\n",
    "    ylim = plt.ylim()  # Get current Y-axis limits\n",
    "    min_limit = min(xlim[0], ylim[0])\n",
    "    max_limit = max(xlim[1], ylim[1])\n",
    "    plt.plot([min_limit, max_limit], [min_limit, max_limit], linestyle='--', color='gray', label='Perfect Fit')\n",
    "\n",
    "    # Add labels and title with F-statistic and p-value\n",
    "    plt.xlabel('Predicted Values')\n",
    "    plt.ylabel('Observed Values')\n",
    "    plt.title(f'Scatterplot of Predicted vs. Observed Values\\nF-statistic: {f_stat:.2f}, p-value: {p_value:.4f}')\n",
    "\n",
    "    # Set axis limits\n",
    "    plt.xlim(min_limit, max_limit)\n",
    "    plt.ylim(min_limit, max_limit)\n",
    "\n",
    "    # Show legend\n",
    "    plt.legend()\n",
    "    \n",
    "    if out_dir:\n",
    "        # Save the figure\n",
    "        plt.savefig(f\"{out_dir}/predicted_plot.png\", bbox_inches='tight')\n",
    "        plt.savefig(f\"{out_dir}/predicted_plot.svg\", bbox_inches='tight')\n",
    "        print(f'Saved to {out_dir}/predicted_plot.svg')\n",
    "\n",
    "    # Display the plot\n",
    "    plt.grid()\n",
    "    plt.show()\n",
    "\n",
    "def plot_residuals(target_outcome_matrix, predictions, f_stat, p_value, out_dir=None):\n",
    "    \"\"\"\n",
    "    Create a scatterplot of residuals with F-statistic and p-value in the title and save it.\n",
    "\n",
    "    Parameters:\n",
    "    - target_outcome_matrix (array-like): The actual observed outcomes.\n",
    "    - predictions (array-like): The outcomes predicted by the model.\n",
    "    - f_stat (float): The F-statistic value.\n",
    "    - p_value (float): The p-value.\n",
    "    - out_dir (str, optional): The directory to save the plot. If None, the plot won't be saved.\n",
    "\n",
    "    Returns:\n",
    "    - None (displays the plot)\n",
    "    \"\"\"\n",
    "    # Calculate residuals\n",
    "    residuals = target_outcome_matrix - predictions\n",
    "\n",
    "    # Create a scatterplot of residuals\n",
    "    plt.figure(figsize=(8, 6))\n",
    "    sns.scatterplot(x=predictions,\n",
    "                    y=residuals,\n",
    "                    label='Residuals vs. Predicted')\n",
    "\n",
    "    # Calculate y-axis limits\n",
    "    y_lim_min = min(-3, np.min(residuals) - 0.5)\n",
    "    y_lim_max = max(3, np.max(residuals) + 0.5)\n",
    "\n",
    "    # Set y-axis limits\n",
    "    plt.ylim(y_lim_min, y_lim_max)\n",
    "\n",
    "    # Add a horizontal line at y=0\n",
    "    plt.axhline(0, color='gray', linestyle='--', label='Zero Residual')\n",
    "\n",
    "    # Add labels and title with F-statistic and p-value\n",
    "    plt.xlabel('Predicted Values')\n",
    "    plt.ylabel('Residuals')\n",
    "    plt.title(f'Scatterplot of Residuals vs. Predicted Values\\nF-statistic: {f_stat:.2f}, p-value: {p_value:.4f}')\n",
    "\n",
    "    # Show legend\n",
    "    plt.legend()\n",
    "\n",
    "    if out_dir:\n",
    "        # Save the figure\n",
    "        plt.savefig(f\"{out_dir}/residuals_plot.png\", bbox_inches='tight')\n",
    "        plt.savefig(f\"{out_dir}/residuals_plot.svg\", bbox_inches='tight')\n",
    "        print(f'Saved to {out_dir}/residuals_plot.svg')\n",
    "\n",
    "    # Display the plot\n",
    "    plt.grid()\n",
    "    plt.show()"
   ]
  },
  {
   "cell_type": "markdown",
   "metadata": {},
   "source": [
    "Residuals Plot"
   ]
  },
  {
   "cell_type": "code",
   "execution_count": null,
   "metadata": {},
   "outputs": [],
   "source": [
    "plot_residuals(target_outcome_matrix.to_numpy().flatten(), predictions.to_numpy().flatten(), f_stat, p_value, out_dir)"
   ]
  },
  {
   "cell_type": "code",
   "execution_count": null,
   "metadata": {},
   "outputs": [],
   "source": [
    "plot_scatter_with_f_stat_in_title(target_outcome_matrix.to_numpy().flatten(), predictions.to_numpy().flatten(), f_stat, p_value, out_dir)\n"
   ]
  },
  {
   "cell_type": "markdown",
   "metadata": {},
   "source": [
    "# 11 - Visualize 2-Way ANOVA (Model-Free)"
   ]
  },
  {
   "cell_type": "markdown",
   "metadata": {},
   "source": [
    "Generate an Interaction Plot Based on the Raw Data (Model-Free)\n",
    "- data_df (pd.DataFrame): DataFrame containing the data.\n",
    "- group1_column (str): Name of the first grouping column (categorical).\n",
    "- group2_column (str): Name of the second grouping column (categorical).\n",
    "- outcome_column (str): Name of the outcome column (continuous)."
   ]
  },
  {
   "cell_type": "code",
   "execution_count": null,
   "metadata": {},
   "outputs": [],
   "source": [
    "formula"
   ]
  },
  {
   "cell_type": "code",
   "execution_count": null,
   "metadata": {},
   "outputs": [],
   "source": [
    "data_df=data_df\n",
    "group_1='sbc_conn'\n",
    "group_2='age'\n",
    "outcome_column='Dataset'"
   ]
  },
  {
   "cell_type": "code",
   "execution_count": null,
   "metadata": {},
   "outputs": [],
   "source": [
    "from calvin_utils.statistical_utils.anova_visualization import ModelFreeInteractionPlot\n",
    "summary_df = ModelFreeInteractionPlot.calculate_means_and_sem(data_df, group_1, group_2, outcome_column)\n",
    "# Ensure Data is Okay\n",
    "ModelFreeInteractionPlot.diagnose_data(data_df, group_1, group_2, outcome_column)\n",
    "# Plot\n",
    "ModelFreeInteractionPlot.plot_interaction_error_bar(summary_df, group_1, group_2, out_dir=out_dir)\n",
    "# Test for differences in group_1 at each level of group_2. \n",
    "print(ModelFreeInteractionPlot.perform_kruskal_wallis_test(data_df, group_1, group_2, outcome_column))\n",
    "# Test for significant differences \n",
    "print(ModelFreeInteractionPlot.perform_contrast(data_df, contrast_column=group_1, outcome_column=outcome_column))"
   ]
  },
  {
   "cell_type": "markdown",
   "metadata": {},
   "source": [
    "# Visualize a Modelled ANOVA (Predictions upon Existing Data Points)\n",
    "- The class expects the a dataframe containing all of the columns with your regressors (or more columns)\n",
    "- fit a formula onto a model\n",
    "    - Example: 'Z_Scored_Percent_Cognitive_Improvement ~ Age_Group*Subiculum_Group_By_24 + City'\n",
    "- Then, you must plot model's predictions of the observed data\n",
    "    - Mandatory:\n",
    "        - x_var: the factors\n",
    "        - hue_var: the levels\n",
    "    - Optional:\n",
    "        - cohort_var: additional traces for cohorts\n",
    "        - y: defaults to 'predictions', and sets the y-axis to the estimated marginal means of the model. Can set to another column in data_df. \n",
    "- Bars represent 95%CI\n",
    "- note: you do not need the input variables to be part of the dataframe. You can model predictions then split by other variables!"
   ]
  },
  {
   "cell_type": "code",
   "execution_count": null,
   "metadata": {},
   "outputs": [],
   "source": [
    "data_df.columns"
   ]
  },
  {
   "cell_type": "code",
   "execution_count": null,
   "metadata": {},
   "outputs": [],
   "source": []
  },
  {
   "cell_type": "markdown",
   "metadata": {},
   "source": [
    "Visualize as a Bar Plot"
   ]
  },
  {
   "cell_type": "code",
   "execution_count": null,
   "metadata": {},
   "outputs": [],
   "source": [
    "quick_plot.plot_bar(x_var='Subiculum_Group_By_Inflection_Point', hue_var='City', cohort_var=None, y='predictions', error_bar=None)"
   ]
  },
  {
   "cell_type": "markdown",
   "metadata": {},
   "source": [
    "Read the Regression Results"
   ]
  },
  {
   "cell_type": "code",
   "execution_count": null,
   "metadata": {},
   "outputs": [],
   "source": [
    "print(model.summary2())"
   ]
  },
  {
   "cell_type": "markdown",
   "metadata": {},
   "source": [
    "# 12 - Visualize a GLM's Predictions Across a Range of Potential Data (AKA Profile Plot or Marginal Plot)\n",
    "- **this is pretty complex stuff, so be sure to read up on Marginals**\n",
    "- This is a plot which generates an estimated marginal estimate across a set number of categories/factors\n",
    "    - This is similar to a marginal mean, but a marginal mean provides the \n",
    "- Do **not** set any values to a list of strings. If you want to use categorical data, encode the categories as ordinal values and re-run the model. Then set the categories in the values."
   ]
  },
  {
   "cell_type": "code",
   "execution_count": null,
   "metadata": {},
   "outputs": [],
   "source": [
    "formula"
   ]
  },
  {
   "cell_type": "code",
   "execution_count": null,
   "metadata": {},
   "outputs": [],
   "source": [
    "marginal_scenarios_dict = {'Age_Group': [0, 1],'City':[0, 1], 'Z_Scored_Subiculum_Connectivity_T':['continuous']}"
   ]
  },
  {
   "cell_type": "code",
   "execution_count": null,
   "metadata": {},
   "outputs": [],
   "source": [
    "from calvin_utils.statistical_utils.statistical_measurements import GLMMarginalsPlot\n",
    "factor_plot = GLMMarginalsPlot(formula, data_df, model=results, data_range=None, marginal_scenarios_dict=marginal_scenarios_dict, variance_bars=None, out_dir=out_dir)\n",
    "factor_plot.run()"
   ]
  },
  {
   "cell_type": "markdown",
   "metadata": {},
   "source": [
    "# Visualize a GLM's Predictions at Points in Data (Estimated Marginal Means)"
   ]
  },
  {
   "cell_type": "markdown",
   "metadata": {},
   "source": [
    "Interaction Plot"
   ]
  },
  {
   "cell_type": "markdown",
   "metadata": {},
   "source": [
    "Identify the column names used to generate the original formula. The order of the list determines how variables are categorized in the following interaction plot. \n",
    "- This expects the formula to have defined categorical variables, like:\n",
    "    - Z_Scored_Percent_Cognitive_Improvement ~ C(Subiculum_Group_By_24)*Age + C(City)"
   ]
  },
  {
   "cell_type": "code",
   "execution_count": null,
   "metadata": {},
   "outputs": [],
   "source": [
    "formula"
   ]
  },
  {
   "cell_type": "code",
   "execution_count": null,
   "metadata": {},
   "outputs": [],
   "source": [
    "def create_interaction_plot_dynamic(emm_df, categorical_vars, out_dir=None):\n",
    "    \"\"\"\n",
    "    Create an interaction plot for 2 or 3 categorical variables in emm_df.\n",
    "\n",
    "    Parameters:\n",
    "    - emm_df: DataFrame containing the data\n",
    "    - categorical_vars: List of strings specifying the categorical variables\n",
    "    - ms: Marker size for the plot (default is 10)\n",
    "    \"\"\"\n",
    "    # Check if we have 2 or 3 categorical variables\n",
    "    if len(categorical_vars) == 2:\n",
    "        plot_interaction_2_vars(emm_df, categorical_vars, out_dir)\n",
    "    elif len(categorical_vars) == 3:\n",
    "        self.plot_interaction_3_vars(emm_df, categorical_vars,out_dir)\n",
    "    else:\n",
    "        print(\"This function supports only 2 or 3 categorical variables.\")\n",
    "        \n",
    "\n",
    "import matplotlib.pyplot as plt\n",
    "import matplotlib.pyplot as plt\n",
    "import matplotlib.pyplot as plt\n",
    "import seaborn as sns\n",
    "\n",
    "def plot_interaction_2_vars(emm_df, categorical_vars, output_directory=None, color_list = None):\n",
    "    \"\"\"\n",
    "    Plots an interaction bar plot for two categorical variables in an ANOVA setup.\n",
    "\n",
    "    Parameters:\n",
    "        emm_df (DataFrame): The DataFrame containing the data.\n",
    "        categorical_vars (list): A list of two categorical variable names to plot.\n",
    "        color_list (list, optional): List of colors for the bars. If None, defaults to tab10 colormap.\n",
    "        output_directory (str, optional): Directory to save the plot. If None, plot is not saved.\n",
    "    \"\"\"\n",
    "    # Set up the color palette\n",
    "    if color_list is None:\n",
    "        color_palette = sns.color_palette(\"tab10\", len(emm_df[categorical_vars[1]].unique()))\n",
    "    else:\n",
    "        color_palette = sns.color_palette(color_list, len(emm_df[categorical_vars[1]].unique()))\n",
    "\n",
    "    # color_palette = sns.color_palette(\"tab10\")\n",
    "    \n",
    "    # Initialize the plot\n",
    "    plt.figure(figsize=(10, 8))\n",
    "\n",
    "    # Create the bar plot\n",
    "    sns.barplot(\n",
    "        data=emm_df,\n",
    "        x=categorical_vars[0],\n",
    "        y='predictions',\n",
    "        hue=categorical_vars[1],\n",
    "        palette=color_palette\n",
    "    )\n",
    "\n",
    "    # Customize the plot\n",
    "    plt.xlabel(categorical_vars[0])\n",
    "    plt.ylabel('Predictions')\n",
    "    plt.title(f'Interaction Bar Plot of Predicted EMMs ({categorical_vars[1]})')\n",
    "    plt.xticks(rotation=45)\n",
    "    plt.tight_layout()\n",
    "\n",
    "    # Save the plot if output_directory is provided\n",
    "    if output_directory:\n",
    "        plt.savefig(f\"{output_directory}/interaction_bar_plot.png\", bbox_inches='tight')\n",
    "        plt.savefig(f\"{output_directory}/interaction_bar_plot.svg\", bbox_inches='tight')\n",
    "        print(f'Saved to {output_directory}/interaction_bar_plot.png and {output_directory}/interaction_bar_plot.svg')\n",
    "\n",
    "    # Show the plot\n",
    "    plt.show()"
   ]
  },
  {
   "cell_type": "code",
   "execution_count": null,
   "metadata": {},
   "outputs": [],
   "source": [
    "from calvin_utils.statistical_utils.statistical_measurements import EstimatedMarginalMean\n",
    "\n",
    "interaction_plot = EstimatedMarginalMean(formula, data_df, model=results)\n",
    "interaction_plot.extract_unique_variables()\n",
    "interaction_plot.create_emm_df(plus_2_stdev=True, minus_2_stdev=False)\n",
    "interaction_plot.define_design_matrix()\n",
    "interaction_plot.predict_emm_design_df()\n",
    "categorical_columns = interaction_plot.variables_df[interaction_plot.variables_df['Type'] == 'categorical']['Variable'].tolist()\n",
    "\n",
    "create_interaction_plot_dynamic(emm_df=interaction_plot.emm_df.dropna(), categorical_vars=categorical_columns, out_dir=out_dir)"
   ]
  },
  {
   "cell_type": "code",
   "execution_count": null,
   "metadata": {},
   "outputs": [],
   "source": [
    "interaction_plot.emm_df"
   ]
  },
  {
   "cell_type": "markdown",
   "metadata": {},
   "source": [
    "# 12 - Get Zero Points of Each Coefficient"
   ]
  },
  {
   "cell_type": "markdown",
   "metadata": {},
   "source": [
    "The zero point is the point where the coefficient cross zero.\n",
    "When the response topology has a saddle point, the zero point indicates where the saddle is. \n",
    "Technically, the linear regression's formula does not have a saddle point. \n",
    "However, if you rotate the response topology which exhibits a saddle point by 45 degrees, you will observe a saddle point in orientation with the Cartesian plane. "
   ]
  },
  {
   "cell_type": "code",
   "execution_count": null,
   "metadata": {},
   "outputs": [],
   "source": [
    "from calvin_utils.statistical_utils.calculus_utils import find_zero_point_of_coefficients\n",
    "find_zero_point_of_coefficients(results)"
   ]
  },
  {
   "cell_type": "markdown",
   "metadata": {},
   "source": [
    "# 13 - Compare 2 Different Sets of Regressors"
   ]
  },
  {
   "cell_type": "code",
   "execution_count": null,
   "metadata": {},
   "outputs": [],
   "source": [
    "data_df.columns"
   ]
  },
  {
   "cell_type": "code",
   "execution_count": null,
   "metadata": {},
   "outputs": [],
   "source": [
    "formula"
   ]
  },
  {
   "cell_type": "markdown",
   "metadata": {},
   "source": [
    "For Nested Models"
   ]
  },
  {
   "cell_type": "code",
   "execution_count": null,
   "metadata": {},
   "outputs": [],
   "source": [
    "from statsmodels.stats.api import anova_lm\n",
    "import statsmodels.formula.api as smf\n",
    "\n",
    "smaller_formula = 'TOTALMOD ~ CSFGM_MTL + CSFGM_Frontal + CSFGM_Occipital + CSFGM_Parietal + CSFGM_Temporal'\n",
    "\n",
    "larger_formula = 'TOTALMOD ~ CSF_MTL + CSF_Frontal + CSF_Occipital + CSF_Parietal + CSF_Temporal'\n",
    "\n",
    "#----------------------------------------------------------------DO NOT TOUCH!----------------------------------------------------------------\n",
    "table1 = anova_lm(smf.ols(smaller_formula, data=data_df).fit(), smf.ols(larger_formula, data=data_df).fit())\n",
    "print(table1)"
   ]
  },
  {
   "cell_type": "markdown",
   "metadata": {},
   "source": [
    "For Un-nested Models\n",
    "- Need to employ permutation because there is no existing method. "
   ]
  },
  {
   "cell_type": "code",
   "execution_count": null,
   "metadata": {},
   "outputs": [],
   "source": [
    "data_df.columns"
   ]
  },
  {
   "cell_type": "code",
   "execution_count": null,
   "metadata": {},
   "outputs": [],
   "source": [
    "formula"
   ]
  },
  {
   "cell_type": "code",
   "execution_count": null,
   "metadata": {},
   "outputs": [],
   "source": [
    "formula1 = 'TOTALMOD ~ CSFGM_MTL + CSFGM_Frontal + CSFGM_Occipital + CSFGM_Parietal + CSFGM_Temporal'\n",
    "formula2 = 'TOTALMOD ~ CSF_MTL + CSF_Frontal + CSF_Occipital + CSF_Parietal + CSF_Temporal'"
   ]
  },
  {
   "cell_type": "code",
   "execution_count": null,
   "metadata": {},
   "outputs": [],
   "source": [
    "import numpy as np\n",
    "from tqdm import tqdm\n",
    "import statsmodels.formula.api as smf\n",
    "\n",
    "# Original R^2 values from the models\n",
    "r2_model1 = smf.ols(formula1, data=data_df).fit().rsquared\n",
    "r2_model2 = smf.ols(formula2, data=data_df).fit().rsquared\n",
    "\n",
    "# Difference in R of original models\n",
    "original_diff = r2_model1 - r2_model2\n",
    "\n",
    "# Number of permutations\n",
    "n_permutations = 1000\n",
    "\n",
    "# Store differences from permutations\n",
    "perm_diffs = []\n",
    "for i in tqdm(range(n_permutations)):\n",
    "    # Permute the outcome variable\n",
    "    data_df_permuted = data_df.copy()\n",
    "    data_df_permuted['TOTALMOD'] = np.random.permutation(data_df_permuted['TOTALMOD'].values)\n",
    "    \n",
    "    # Fit the models to the permuted dataset and calculate R^2\n",
    "    perm_model1 = smf.ols(formula1, data=data_df_permuted).fit()\n",
    "    perm_model2 = smf.ols(formula2, data=data_df_permuted).fit()\n",
    "    \n",
    "    # Difference in R^2 for the permuted models\n",
    "    perm_diff = perm_model1.rsquared - perm_model2.rsquared\n",
    "    \n",
    "    # Store the difference\n",
    "    perm_diffs.append(perm_diff)\n",
    "\n",
    "# Calculate the p-value as the proportion of permuted differences\n",
    "# that are greater than or equal to the observed difference\n",
    "p_value = np.mean([abs(diff) >= abs(original_diff)for diff in perm_diffs])\n",
    "print(f\"Original R Difference: {original_diff}\")\n",
    "print(f\"P-value from permutation test: {p_value}\")"
   ]
  },
  {
   "cell_type": "code",
   "execution_count": null,
   "metadata": {},
   "outputs": [],
   "source": [
    "r2_model1"
   ]
  },
  {
   "cell_type": "code",
   "execution_count": null,
   "metadata": {},
   "outputs": [],
   "source": [
    "np.sqrt(.30)"
   ]
  },
  {
   "cell_type": "code",
   "execution_count": null,
   "metadata": {},
   "outputs": [],
   "source": [
    "r2_model2"
   ]
  },
  {
   "cell_type": "markdown",
   "metadata": {},
   "source": [
    "Estimate Uncertainty Around a Regression Metric with Bootstrapping\n",
    "- R-squared approach visualized below. "
   ]
  },
  {
   "cell_type": "code",
   "execution_count": null,
   "metadata": {},
   "outputs": [],
   "source": [
    "#Testing\n",
    "import numpy as np\n",
    "import pandas as pd\n",
    "from tqdm import tqdm\n",
    "import statsmodels.api as sm\n",
    "from sklearn.utils import resample\n",
    "\n",
    "def bootstrap_r_squared(data: pd.DataFrame, formula: str, n_bootstraps: int = 1000):\n",
    "    \"\"\"\n",
    "    Perform bootstrap resampling to calculate the 95% confidence interval for R-squared.\n",
    "\n",
    "    Parameters:\n",
    "    - data (pd.DataFrame): The primary dataframe containing the data.\n",
    "    - formula (str): The formula specifying the model (e.g., 'Y ~ X1 + X2').\n",
    "    - n_bootstraps (int): The number of bootstrap samples (default is 10,000).\n",
    "\n",
    "    Returns:\n",
    "    - dict: A dictionary containing the original R-squared, the mean R-squared, the 95% confidence interval,\n",
    "            the standard deviation, and the standard error of R-squared.\n",
    "    \"\"\"\n",
    "    # Original model\n",
    "    model = sm.OLS.from_formula(formula, data)\n",
    "    original_results = model.fit()\n",
    "    print(\"Original R^2:\", original_results.rsquared)\n",
    "\n",
    "    # Bootstrapping\n",
    "    r_squared_values = []\n",
    "    for _ in tqdm(range(n_bootstraps)):\n",
    "        # Resample the dataframe with replacement\n",
    "        boot_data = resample(data, replace=True, n_samples=len(data))\n",
    "        \n",
    "        # Fit the model to the bootstrapped sample\n",
    "        boot_model = sm.OLS.from_formula(formula, boot_data)\n",
    "        boot_results = boot_model.fit()\n",
    "        \n",
    "        # Store the R-squared\n",
    "        r_squared_values.append(boot_results.rsquared)\n",
    "\n",
    "    # Calculate the 95% confidence interval for R^2\n",
    "    r_squared_lower = np.percentile(r_squared_values, 2.5)\n",
    "    r_squared_upper = np.percentile(r_squared_values, 97.5)\n",
    "\n",
    "    result = {\n",
    "        \"Original R^2\": original_results.rsquared,\n",
    "        \"Mean R^2\": np.mean(r_squared_values),\n",
    "        \"95% CI\": (r_squared_lower, r_squared_upper),\n",
    "        \"Stdev\": np.std(r_squared_values),\n",
    "        \"StdErr R^2\": np.std(r_squared_values) / np.sqrt(len(r_squared_values))\n",
    "    }\n",
    "\n",
    "    print(f\"95% CI for R^2: ({r_squared_lower:.4f}, {r_squared_upper:.4f})\")\n",
    "    print(f\"Mean R^2: {np.mean(r_squared_values)} | Stdev: {np.std(r_squared_values)} | StdErr R^2: {np.std(r_squared_values)/np.sqrt(len(r_squared_values))}\")\n",
    "\n",
    "    return result\n",
    "\n",
    "bootstrap_r_squared(data_df, formula5)"
   ]
  },
  {
   "cell_type": "code",
   "execution_count": null,
   "metadata": {},
   "outputs": [],
   "source": [
    "import numpy as np\n",
    "import pandas as pd\n",
    "import statsmodels.api as sm\n",
    "from sklearn.utils import resample\n",
    "\n",
    "# Number of bootstrap samples\n",
    "n_bootstraps = 10000\n",
    "r_squared_values = []\n",
    "\n",
    "# Original model\n",
    "model = sm.OLS(outcome_matrix, design_matrix)\n",
    "original_results = model.fit()\n",
    "print(\"Original R^2:\", original_results.rsquared)\n",
    "\n",
    "# Bootstrapping\n",
    "for _ in range(n_bootstraps):\n",
    "    # Resample the indices with replacement\n",
    "    boot_indices = np.random.choice(len(outcome_matrix), size=len(outcome_matrix), replace=True)\n",
    "    if isinstance(outcome_matrix, pd.DataFrame):\n",
    "        boot_outcome = outcome_matrix.iloc[boot_indices]\n",
    "    else:\n",
    "        boot_outcome = outcome_matrix[boot_indices]\n",
    "    \n",
    "    if isinstance(design_matrix, pd.DataFrame):\n",
    "        boot_design = design_matrix.iloc[boot_indices]\n",
    "    else:\n",
    "        boot_design = design_matrix[boot_indices]\n",
    "\n",
    "    # Fit the model to the bootstrapped sample\n",
    "    boot_model = sm.OLS(boot_outcome, boot_design)\n",
    "    boot_results = boot_model.fit()\n",
    "    \n",
    "    # Store the R-squared\n",
    "    r_squared_values.append(boot_results.rsquared)\n",
    "\n",
    "# Calculate the 95% confidence interval for R^2\n",
    "r_squared_lower = np.percentile(r_squared_values, 2.5)\n",
    "r_squared_upper = np.percentile(r_squared_values, 97.5)\n",
    "\n",
    "print(f\"95% CI for R^2: ({r_squared_lower:.4f}, {r_squared_upper:.4f})\")\n",
    "print(f\"Mean R^2: {np.mean(r_squared_values)} | Stdev: {np.std(r_squared_values)} | StdErr R^2: {np.std(r_squared_values)/len(r_squared_values)}\")"
   ]
  },
  {
   "cell_type": "markdown",
   "metadata": {},
   "source": [
    "Test the means"
   ]
  },
  {
   "cell_type": "code",
   "execution_count": null,
   "metadata": {},
   "outputs": [],
   "source": [
    "import numpy as np\n",
    "from scipy.stats import t\n",
    "\n",
    "def two_sample_t_test(n1, n2, mean1, mean2, stdev1, stdev2):\n",
    "    t_stat = (mean1 - mean2) / np.sqrt((stdev1**2/n1 + stdev2**2/n2))\n",
    "    \n",
    "    dof = n1 + n2 - 2\n",
    "    p_value = 2 * (1 - t.cdf(np.abs(t_stat), dof))\n",
    "    return t_stat, p_value\n",
    "\n",
    "t_stat, p_value = two_sample_t_test(n1=10, n2=10, mean1=0.16, mean2=0.23, stdev1=0.09, stdev2=0.09)\n",
    "print(\"t-statistic:\", t_stat)\n",
    "print(\"p-value:\", p_value)\n"
   ]
  },
  {
   "cell_type": "code",
   "execution_count": null,
   "metadata": {},
   "outputs": [],
   "source": [
    "np.sqrt(.11)"
   ]
  },
  {
   "cell_type": "code",
   "execution_count": null,
   "metadata": {},
   "outputs": [],
   "source": []
  }
 ],
 "metadata": {
  "kernelspec": {
   "display_name": "Python_3.7.7_nimlab",
   "language": "python",
   "name": "python3"
  },
  "language_info": {
   "codemirror_mode": {
    "name": "ipython",
    "version": 3
   },
   "file_extension": ".py",
   "mimetype": "text/x-python",
   "name": "python",
   "nbconvert_exporter": "python",
   "pygments_lexer": "ipython3",
   "version": "3.11.12"
  }
 },
 "nbformat": 4,
 "nbformat_minor": 4
}
