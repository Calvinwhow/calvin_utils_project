{
 "cells": [
  {
   "cell_type": "markdown",
   "metadata": {},
   "source": [
    "# Run Any Kind of OLS Regression (ANOVA, GLM, etc.)\n",
    "\n",
    "### Authors: Calvin Howard.\n",
    "\n",
    "#### Last updated: July 6, 2023\n",
    "\n",
    "Use this to run/test a statistical model (e.g., regression or T-tests) on a spreadsheet.\n",
    "\n",
    "Notes:\n",
    "- To best use this notebook, you should be familar with GLM design and Contrast Matrix design. See this webpage to get started:\n",
    "[FSL's GLM page](https://fsl.fmrib.ox.ac.uk/fsl/fslwiki/GLM)"
   ]
  },
  {
   "cell_type": "markdown",
   "metadata": {},
   "source": []
  },
  {
   "cell_type": "markdown",
   "metadata": {},
   "source": [
    "# 00 - Import CSV with All Data\n",
    "**The CSV is expected to be in this format**\n",
    "- ID and absolute paths to niftis are critical\n",
    "```\n",
    "+-----+----------------------------+--------------+--------------+--------------+\n",
    "| ID  | Nifti_File_Path            | Covariate_1  | Covariate_2  | Covariate_3  |\n",
    "+-----+----------------------------+--------------+--------------+--------------+\n",
    "| 1   | /path/to/file1.nii.gz      | 0.5          | 1.2          | 3.4          |\n",
    "| 2   | /path/to/file2.nii.gz      | 0.7          | 1.4          | 3.1          |\n",
    "| 3   | /path/to/file3.nii.gz      | 0.6          | 1.5          | 3.5          |\n",
    "| 4   | /path/to/file4.nii.gz      | 0.9          | 1.1          | 3.2          |\n",
    "| ... | ...                        | ...          | ...          | ...          |\n",
    "+-----+----------------------------+--------------+--------------+--------------+\n",
    "```"
   ]
  },
  {
   "cell_type": "markdown",
   "metadata": {},
   "source": [
    "Prep Output Direction"
   ]
  },
  {
   "cell_type": "code",
   "execution_count": null,
   "metadata": {},
   "outputs": [],
   "source": [
    "# Specify where you want to save your results to\n",
    "out_dir = '//Users/cu135/Partners HealthCare Dropbox/Calvin Howard/resources/datasets/DBS_studies_influencing_memory/analyses/test'"
   ]
  },
  {
   "cell_type": "markdown",
   "metadata": {},
   "source": [
    "Import Data"
   ]
  },
  {
   "cell_type": "code",
   "execution_count": 4,
   "metadata": {},
   "outputs": [],
   "source": [
    "# Specify the path to your CSV file containing NIFTI paths\n",
    "input_csv_path = '/Users/cu135/Partners HealthCare Dropbox/Calvin Howard/resources/datasets/DBS_studies_influencing_memory/metadata/master_list.csv'\n",
    "sheet = None #'master_list_proper_subjects'"
   ]
  },
  {
   "cell_type": "code",
   "execution_count": 5,
   "metadata": {},
   "outputs": [
    {
     "data": {
      "text/html": [
       "<div>\n",
       "<style scoped>\n",
       "    .dataframe tbody tr th:only-of-type {\n",
       "        vertical-align: middle;\n",
       "    }\n",
       "\n",
       "    .dataframe tbody tr th {\n",
       "        vertical-align: top;\n",
       "    }\n",
       "\n",
       "    .dataframe thead th {\n",
       "        text-align: right;\n",
       "    }\n",
       "</style>\n",
       "<table border=\"1\" class=\"dataframe\">\n",
       "  <thead>\n",
       "    <tr style=\"text-align: right;\">\n",
       "      <th></th>\n",
       "      <th>FNM_ID</th>\n",
       "      <th>interval</th>\n",
       "      <th>ADAS11Score</th>\n",
       "      <th>ADAS13Score</th>\n",
       "      <th>ADASCancellationCorrectScore</th>\n",
       "      <th>ADASCancellationIncorrectScore</th>\n",
       "      <th>ADASCancellationReminders</th>\n",
       "      <th>ADASCancellationTotalScore</th>\n",
       "      <th>ADASCircleCorrect</th>\n",
       "      <th>ADASCommandCorrect</th>\n",
       "      <th>...</th>\n",
       "      <th>Unnamed__26</th>\n",
       "      <th>Unnamed__27</th>\n",
       "      <th>Unnamed__28</th>\n",
       "      <th>Unnamed__29</th>\n",
       "      <th>Unnamed__30</th>\n",
       "      <th>Unnamed__31</th>\n",
       "      <th>Unnamed__32</th>\n",
       "      <th>Unnamed__33</th>\n",
       "      <th>Unnamed__34</th>\n",
       "      <th>Unnamed__35</th>\n",
       "    </tr>\n",
       "  </thead>\n",
       "  <tbody>\n",
       "    <tr>\n",
       "      <th>0</th>\n",
       "      <td>FNM01001</td>\n",
       "      <td>Baseline - Month 12</td>\n",
       "      <td>-14.0</td>\n",
       "      <td>-14.0</td>\n",
       "      <td>20.0</td>\n",
       "      <td>0.0</td>\n",
       "      <td>0.0</td>\n",
       "      <td>0.0</td>\n",
       "      <td>0.0</td>\n",
       "      <td>0.0</td>\n",
       "      <td>...</td>\n",
       "      <td>NaN</td>\n",
       "      <td>NaN</td>\n",
       "      <td>NaN</td>\n",
       "      <td>NaN</td>\n",
       "      <td>NaN</td>\n",
       "      <td>NaN</td>\n",
       "      <td>120</td>\n",
       "      <td>3235811.0</td>\n",
       "      <td>Clark</td>\n",
       "      <td>Mary</td>\n",
       "    </tr>\n",
       "    <tr>\n",
       "      <th>1</th>\n",
       "      <td>FNM01002</td>\n",
       "      <td>Baseline - Month 12</td>\n",
       "      <td>-8.0</td>\n",
       "      <td>-6.0</td>\n",
       "      <td>-10.0</td>\n",
       "      <td>-1.0</td>\n",
       "      <td>0.0</td>\n",
       "      <td>2.0</td>\n",
       "      <td>0.0</td>\n",
       "      <td>0.0</td>\n",
       "      <td>...</td>\n",
       "      <td>NaN</td>\n",
       "      <td>NaN</td>\n",
       "      <td>NaN</td>\n",
       "      <td>NaN</td>\n",
       "      <td>NaN</td>\n",
       "      <td>NaN</td>\n",
       "      <td>NaN</td>\n",
       "      <td>NaN</td>\n",
       "      <td>NaN</td>\n",
       "      <td>NaN</td>\n",
       "    </tr>\n",
       "    <tr>\n",
       "      <th>2</th>\n",
       "      <td>FNM01003</td>\n",
       "      <td>Baseline - Month 12</td>\n",
       "      <td>-5.0</td>\n",
       "      <td>-5.0</td>\n",
       "      <td>-2.0</td>\n",
       "      <td>1.0</td>\n",
       "      <td>0.0</td>\n",
       "      <td>1.0</td>\n",
       "      <td>0.0</td>\n",
       "      <td>0.0</td>\n",
       "      <td>...</td>\n",
       "      <td>NaN</td>\n",
       "      <td>NaN</td>\n",
       "      <td>NaN</td>\n",
       "      <td>NaN</td>\n",
       "      <td>NaN</td>\n",
       "      <td>NaN</td>\n",
       "      <td>NaN</td>\n",
       "      <td>NaN</td>\n",
       "      <td>NaN</td>\n",
       "      <td>NaN</td>\n",
       "    </tr>\n",
       "    <tr>\n",
       "      <th>3</th>\n",
       "      <td>FNM01004</td>\n",
       "      <td>Baseline - Month 12</td>\n",
       "      <td>-11.0</td>\n",
       "      <td>-12.0</td>\n",
       "      <td>6.0</td>\n",
       "      <td>-1.0</td>\n",
       "      <td>-1.0</td>\n",
       "      <td>-2.0</td>\n",
       "      <td>0.0</td>\n",
       "      <td>0.0</td>\n",
       "      <td>...</td>\n",
       "      <td>NaN</td>\n",
       "      <td>NaN</td>\n",
       "      <td>NaN</td>\n",
       "      <td>NaN</td>\n",
       "      <td>ADAS-COG11</td>\n",
       "      <td>NaN</td>\n",
       "      <td>ADAS-COG13 (2 additional tasks)</td>\n",
       "      <td>NaN</td>\n",
       "      <td>NaN</td>\n",
       "      <td>NaN</td>\n",
       "    </tr>\n",
       "    <tr>\n",
       "      <th>4</th>\n",
       "      <td>FNM01005</td>\n",
       "      <td>Baseline - Month 12</td>\n",
       "      <td>-1.0</td>\n",
       "      <td>3.0</td>\n",
       "      <td>-10.0</td>\n",
       "      <td>-1.0</td>\n",
       "      <td>0.0</td>\n",
       "      <td>1.0</td>\n",
       "      <td>0.0</td>\n",
       "      <td>1.0</td>\n",
       "      <td>...</td>\n",
       "      <td>NaN</td>\n",
       "      <td>NaN</td>\n",
       "      <td>NaN</td>\n",
       "      <td>NaN</td>\n",
       "      <td>NaN</td>\n",
       "      <td>NaN</td>\n",
       "      <td>105</td>\n",
       "      <td>3371024.0</td>\n",
       "      <td>Clazie</td>\n",
       "      <td>Deborah</td>\n",
       "    </tr>\n",
       "    <tr>\n",
       "      <th>...</th>\n",
       "      <td>...</td>\n",
       "      <td>...</td>\n",
       "      <td>...</td>\n",
       "      <td>...</td>\n",
       "      <td>...</td>\n",
       "      <td>...</td>\n",
       "      <td>...</td>\n",
       "      <td>...</td>\n",
       "      <td>...</td>\n",
       "      <td>...</td>\n",
       "      <td>...</td>\n",
       "      <td>...</td>\n",
       "      <td>...</td>\n",
       "      <td>...</td>\n",
       "      <td>...</td>\n",
       "      <td>...</td>\n",
       "      <td>...</td>\n",
       "      <td>...</td>\n",
       "      <td>...</td>\n",
       "      <td>...</td>\n",
       "      <td>...</td>\n",
       "    </tr>\n",
       "    <tr>\n",
       "      <th>58</th>\n",
       "      <td>NaN</td>\n",
       "      <td>NaN</td>\n",
       "      <td>NaN</td>\n",
       "      <td>NaN</td>\n",
       "      <td>NaN</td>\n",
       "      <td>NaN</td>\n",
       "      <td>NaN</td>\n",
       "      <td>NaN</td>\n",
       "      <td>NaN</td>\n",
       "      <td>NaN</td>\n",
       "      <td>...</td>\n",
       "      <td>NaN</td>\n",
       "      <td>NaN</td>\n",
       "      <td>NaN</td>\n",
       "      <td>NaN</td>\n",
       "      <td>NaN</td>\n",
       "      <td>NaN</td>\n",
       "      <td>NaN</td>\n",
       "      <td>NaN</td>\n",
       "      <td>NaN</td>\n",
       "      <td>NaN</td>\n",
       "    </tr>\n",
       "    <tr>\n",
       "      <th>59</th>\n",
       "      <td>NaN</td>\n",
       "      <td>NaN</td>\n",
       "      <td>NaN</td>\n",
       "      <td>NaN</td>\n",
       "      <td>NaN</td>\n",
       "      <td>NaN</td>\n",
       "      <td>NaN</td>\n",
       "      <td>NaN</td>\n",
       "      <td>NaN</td>\n",
       "      <td>NaN</td>\n",
       "      <td>...</td>\n",
       "      <td>NaN</td>\n",
       "      <td>NaN</td>\n",
       "      <td>NaN</td>\n",
       "      <td>NaN</td>\n",
       "      <td>NaN</td>\n",
       "      <td>NaN</td>\n",
       "      <td>NaN</td>\n",
       "      <td>NaN</td>\n",
       "      <td>NaN</td>\n",
       "      <td>NaN</td>\n",
       "    </tr>\n",
       "    <tr>\n",
       "      <th>60</th>\n",
       "      <td>NaN</td>\n",
       "      <td>NaN</td>\n",
       "      <td>NaN</td>\n",
       "      <td>NaN</td>\n",
       "      <td>NaN</td>\n",
       "      <td>NaN</td>\n",
       "      <td>NaN</td>\n",
       "      <td>NaN</td>\n",
       "      <td>NaN</td>\n",
       "      <td>NaN</td>\n",
       "      <td>...</td>\n",
       "      <td>NaN</td>\n",
       "      <td>NaN</td>\n",
       "      <td>NaN</td>\n",
       "      <td>NaN</td>\n",
       "      <td>NaN</td>\n",
       "      <td>NaN</td>\n",
       "      <td>NaN</td>\n",
       "      <td>NaN</td>\n",
       "      <td>NaN</td>\n",
       "      <td>NaN</td>\n",
       "    </tr>\n",
       "    <tr>\n",
       "      <th>61</th>\n",
       "      <td>NaN</td>\n",
       "      <td>NaN</td>\n",
       "      <td>NaN</td>\n",
       "      <td>NaN</td>\n",
       "      <td>NaN</td>\n",
       "      <td>NaN</td>\n",
       "      <td>NaN</td>\n",
       "      <td>NaN</td>\n",
       "      <td>NaN</td>\n",
       "      <td>NaN</td>\n",
       "      <td>...</td>\n",
       "      <td>NaN</td>\n",
       "      <td>NaN</td>\n",
       "      <td>NaN</td>\n",
       "      <td>NaN</td>\n",
       "      <td>NaN</td>\n",
       "      <td>NaN</td>\n",
       "      <td>NaN</td>\n",
       "      <td>NaN</td>\n",
       "      <td>NaN</td>\n",
       "      <td>NaN</td>\n",
       "    </tr>\n",
       "    <tr>\n",
       "      <th>62</th>\n",
       "      <td>NaN</td>\n",
       "      <td>NaN</td>\n",
       "      <td>NaN</td>\n",
       "      <td>NaN</td>\n",
       "      <td>NaN</td>\n",
       "      <td>NaN</td>\n",
       "      <td>NaN</td>\n",
       "      <td>NaN</td>\n",
       "      <td>NaN</td>\n",
       "      <td>NaN</td>\n",
       "      <td>...</td>\n",
       "      <td>NaN</td>\n",
       "      <td>NaN</td>\n",
       "      <td>NaN</td>\n",
       "      <td>NaN</td>\n",
       "      <td>NaN</td>\n",
       "      <td>NaN</td>\n",
       "      <td>NaN</td>\n",
       "      <td>NaN</td>\n",
       "      <td>NaN</td>\n",
       "      <td>NaN</td>\n",
       "    </tr>\n",
       "  </tbody>\n",
       "</table>\n",
       "<p>63 rows × 69 columns</p>\n",
       "</div>"
      ],
      "text/plain": [
       "      FNM_ID             interval  ADAS11Score  ADAS13Score  \\\n",
       "0   FNM01001  Baseline - Month 12        -14.0        -14.0   \n",
       "1   FNM01002  Baseline - Month 12         -8.0         -6.0   \n",
       "2   FNM01003  Baseline - Month 12         -5.0         -5.0   \n",
       "3   FNM01004  Baseline - Month 12        -11.0        -12.0   \n",
       "4   FNM01005  Baseline - Month 12         -1.0          3.0   \n",
       "..       ...                  ...          ...          ...   \n",
       "58       NaN                  NaN          NaN          NaN   \n",
       "59       NaN                  NaN          NaN          NaN   \n",
       "60       NaN                  NaN          NaN          NaN   \n",
       "61       NaN                  NaN          NaN          NaN   \n",
       "62       NaN                  NaN          NaN          NaN   \n",
       "\n",
       "    ADASCancellationCorrectScore  ADASCancellationIncorrectScore  \\\n",
       "0                           20.0                             0.0   \n",
       "1                          -10.0                            -1.0   \n",
       "2                           -2.0                             1.0   \n",
       "3                            6.0                            -1.0   \n",
       "4                          -10.0                            -1.0   \n",
       "..                           ...                             ...   \n",
       "58                           NaN                             NaN   \n",
       "59                           NaN                             NaN   \n",
       "60                           NaN                             NaN   \n",
       "61                           NaN                             NaN   \n",
       "62                           NaN                             NaN   \n",
       "\n",
       "    ADASCancellationReminders  ADASCancellationTotalScore  ADASCircleCorrect  \\\n",
       "0                         0.0                         0.0                0.0   \n",
       "1                         0.0                         2.0                0.0   \n",
       "2                         0.0                         1.0                0.0   \n",
       "3                        -1.0                        -2.0                0.0   \n",
       "4                         0.0                         1.0                0.0   \n",
       "..                        ...                         ...                ...   \n",
       "58                        NaN                         NaN                NaN   \n",
       "59                        NaN                         NaN                NaN   \n",
       "60                        NaN                         NaN                NaN   \n",
       "61                        NaN                         NaN                NaN   \n",
       "62                        NaN                         NaN                NaN   \n",
       "\n",
       "    ADASCommandCorrect  ...  Unnamed__26  Unnamed__27  Unnamed__28  \\\n",
       "0                  0.0  ...          NaN          NaN          NaN   \n",
       "1                  0.0  ...          NaN          NaN          NaN   \n",
       "2                  0.0  ...          NaN          NaN          NaN   \n",
       "3                  0.0  ...          NaN          NaN          NaN   \n",
       "4                  1.0  ...          NaN          NaN          NaN   \n",
       "..                 ...  ...          ...          ...          ...   \n",
       "58                 NaN  ...          NaN          NaN          NaN   \n",
       "59                 NaN  ...          NaN          NaN          NaN   \n",
       "60                 NaN  ...          NaN          NaN          NaN   \n",
       "61                 NaN  ...          NaN          NaN          NaN   \n",
       "62                 NaN  ...          NaN          NaN          NaN   \n",
       "\n",
       "    Unnamed__29  Unnamed__30  Unnamed__31                      Unnamed__32  \\\n",
       "0           NaN          NaN          NaN                              120   \n",
       "1           NaN          NaN          NaN                              NaN   \n",
       "2           NaN          NaN          NaN                              NaN   \n",
       "3           NaN   ADAS-COG11          NaN  ADAS-COG13 (2 additional tasks)   \n",
       "4           NaN          NaN          NaN                              105   \n",
       "..          ...          ...          ...                              ...   \n",
       "58          NaN          NaN          NaN                              NaN   \n",
       "59          NaN          NaN          NaN                              NaN   \n",
       "60          NaN          NaN          NaN                              NaN   \n",
       "61          NaN          NaN          NaN                              NaN   \n",
       "62          NaN          NaN          NaN                              NaN   \n",
       "\n",
       "    Unnamed__33  Unnamed__34  Unnamed__35  \n",
       "0     3235811.0        Clark         Mary  \n",
       "1           NaN          NaN          NaN  \n",
       "2           NaN          NaN          NaN  \n",
       "3           NaN          NaN          NaN  \n",
       "4     3371024.0       Clazie      Deborah  \n",
       "..          ...          ...          ...  \n",
       "58          NaN          NaN          NaN  \n",
       "59          NaN          NaN          NaN  \n",
       "60          NaN          NaN          NaN  \n",
       "61          NaN          NaN          NaN  \n",
       "62          NaN          NaN          NaN  \n",
       "\n",
       "[63 rows x 69 columns]"
      ]
     },
     "execution_count": 5,
     "metadata": {},
     "output_type": "execute_result"
    }
   ],
   "source": [
    "from calvin_utils.permutation_analysis_utils.statsmodels_palm import CalvinStatsmodelsPalm\n",
    "# Instantiate the PalmPrepararation class\n",
    "cal_palm = CalvinStatsmodelsPalm(input_csv_path=input_csv_path, output_dir=out_dir, sheet=sheet)\n",
    "# Call the process_nifti_paths method\n",
    "data_df = cal_palm.read_and_display_data()\n",
    "data_df"
   ]
  },
  {
   "cell_type": "markdown",
   "metadata": {},
   "source": [
    "\n",
    "# 01 - Preprocess Your Data"
   ]
  },
  {
   "cell_type": "markdown",
   "metadata": {},
   "source": [
    "**Handle NANs**\n",
    "- Set drop_nans=True is you would like to remove NaNs from data\n",
    "- Provide a column name or a list of column names to remove NaNs from"
   ]
  },
  {
   "cell_type": "code",
   "execution_count": 4,
   "metadata": {},
   "outputs": [
    {
     "data": {
      "text/plain": [
       "Index(['study', 'PMID', 'DOI', 'ses', 'N', 'Reported_Outcome',\n",
       "       'Pre_Post_Memory_Effect_Size__Cohen_s_D_', 'Location',\n",
       "       'List_of_Coordinates', 'Side', 'Frequency__Hz_', 'Magnitude__V_',\n",
       "       'Stim_Relative_to_Memory_Cycle', 'Stim_Info', 'Closed_Loop',\n",
       "       'Years_Between_Measurements', 'Mean_Age', 'Stdev_Age', 'Percent_Female',\n",
       "       'Disease', 'Test', 'Recall_Subtype', 'Sensory_Domain',\n",
       "       'Memory_Primary_Outcome', 'Control_Group', 'Notes', 'pooled_stdev',\n",
       "       'experimental_baseline_mean', 'experimental_baseline_stdev', 'N_1',\n",
       "       'Break', 'experimental_post_mean', 'experimental_post_stdev',\n",
       "       'experimental_post_n', 'PDF_Downloaded', 'PDF_Path', 'Break_1',\n",
       "       'Is_the_primary_outcome_of_this_manuscript_about_memory___Yes_No_',\n",
       "       'Does_this_manuscript_use_transcranial_magnetic_stimulation__TMS____Yes_No_',\n",
       "       'Does_this_manuscript_report_memory_outcomes___Yes_No_',\n",
       "       'To_what_region_of_the_brain_was_TMS_delivered',\n",
       "       'Did_the_study_report_TMS_improved__worsened__or_had_not_effect_on_memory',\n",
       "       'What_was_the_mean_age_of_the_patients_in_the_study_',\n",
       "       'What_diagnosis_did_the_patients_have__or_were_they_healthy_',\n",
       "       'What_was_the_frequency_of_TMS_used_in_this_study__For_example__options_are__low_freuqnecy_rTMS___1Hz___hi_frequency_rTMS___10Hz___and_theta_burst__often_50Hz_',\n",
       "       'Is_there_enough_information_to_determine_the_stimulation_site__specifically_to_derive_a_coordinate_of_stimulation_',\n",
       "       'What_test_was_used_to_measure_memory_',\n",
       "       'Was_verbal_or_visual_memory_measured_',\n",
       "       'Was_this_manuscript_primarily_about_the_influence_of_TMS_on_memory__Or_was_memory_tacked_on_to_a_different_primary_outcome_',\n",
       "       'What_was_the_duration_between_TMS_and_measurement__How_many_days__weeks__or_months_apart_were_the_initial_and_post_TMS_evaluations_',\n",
       "       'When_was_the_TMS_administered_relative_to_mmory__Was_it_during_encoding__presentation_of_stimulus___in_consolidation__after_stimulus___during_recall__during_recall___or_priming__such_as_before_testing__like_when_TMS_is_given_every_day_for_weeks_between_sessions__',\n",
       "       'path', 'train_prune_test_performs_highly_spatial_corr',\n",
       "       'train_prune_test_performs_highly_cosine',\n",
       "       'train_prune_test_performs_highly_sum',\n",
       "       'train_prune_test_performs_highly_average_subject_in_target',\n",
       "       'train_prune_test_performs_highly_average_target_in_subject',\n",
       "       'train_prune_test_performs_highly_num_in_roi',\n",
       "       'all_datasets_unweighted_avg_r_map_spatial_corr',\n",
       "       'all_datasets_unweighted_avg_r_map_cosine',\n",
       "       'all_datasets_unweighted_avg_r_map_sum',\n",
       "       'all_datasets_unweighted_avg_r_map_average_subject_in_target',\n",
       "       'all_datasets_unweighted_avg_r_map_average_target_in_subject',\n",
       "       'all_datasets_unweighted_avg_r_map_num_in_roi',\n",
       "       'all_datasets_weighted_avg_r_map_spatial_corr',\n",
       "       'all_datasets_weighted_avg_r_map_cosine',\n",
       "       'all_datasets_weighted_avg_r_map_sum',\n",
       "       'all_datasets_weighted_avg_r_map_average_subject_in_target',\n",
       "       'all_datasets_weighted_avg_r_map_average_target_in_subject',\n",
       "       'all_datasets_weighted_avg_r_map_num_in_roi'],\n",
       "      dtype='object')"
      ]
     },
     "execution_count": 4,
     "metadata": {},
     "output_type": "execute_result"
    }
   ],
   "source": [
    "data_df.columns"
   ]
  },
  {
   "cell_type": "code",
   "execution_count": 6,
   "metadata": {},
   "outputs": [],
   "source": [
    "drop_list = [\"Pre_Post_Memory_Effect_Size__Cohen_s_D_\", 'all_datasets_weighted_avg_r_map_average_target_in_subject']"
   ]
  },
  {
   "cell_type": "code",
   "execution_count": 7,
   "metadata": {},
   "outputs": [
    {
     "data": {
      "text/html": [
       "<div>\n",
       "<style scoped>\n",
       "    .dataframe tbody tr th:only-of-type {\n",
       "        vertical-align: middle;\n",
       "    }\n",
       "\n",
       "    .dataframe tbody tr th {\n",
       "        vertical-align: top;\n",
       "    }\n",
       "\n",
       "    .dataframe thead th {\n",
       "        text-align: right;\n",
       "    }\n",
       "</style>\n",
       "<table border=\"1\" class=\"dataframe\">\n",
       "  <thead>\n",
       "    <tr style=\"text-align: right;\">\n",
       "      <th></th>\n",
       "      <th>study</th>\n",
       "      <th>PMID</th>\n",
       "      <th>DOI</th>\n",
       "      <th>ses</th>\n",
       "      <th>N</th>\n",
       "      <th>Reported_Outcome</th>\n",
       "      <th>Pre_Post_Memory_Effect_Size__Cohen_s_D_</th>\n",
       "      <th>Location</th>\n",
       "      <th>List_of_Coordinates</th>\n",
       "      <th>Side</th>\n",
       "      <th>...</th>\n",
       "      <th>all_datasets_unweighted_avg_r_map_sum</th>\n",
       "      <th>all_datasets_unweighted_avg_r_map_average_subject_in_target</th>\n",
       "      <th>all_datasets_unweighted_avg_r_map_average_target_in_subject</th>\n",
       "      <th>all_datasets_unweighted_avg_r_map_num_in_roi</th>\n",
       "      <th>all_datasets_weighted_avg_r_map_spatial_corr</th>\n",
       "      <th>all_datasets_weighted_avg_r_map_cosine</th>\n",
       "      <th>all_datasets_weighted_avg_r_map_sum</th>\n",
       "      <th>all_datasets_weighted_avg_r_map_average_subject_in_target</th>\n",
       "      <th>all_datasets_weighted_avg_r_map_average_target_in_subject</th>\n",
       "      <th>all_datasets_weighted_avg_r_map_num_in_roi</th>\n",
       "    </tr>\n",
       "  </thead>\n",
       "  <tbody>\n",
       "    <tr>\n",
       "      <th>3</th>\n",
       "      <td>Avirame 2016</td>\n",
       "      <td>27159441</td>\n",
       "      <td>10.1097/YCT.0000000000000286</td>\n",
       "      <td>dlPFC__hfrTMS</td>\n",
       "      <td>11.0</td>\n",
       "      <td>Improved</td>\n",
       "      <td>0.570039</td>\n",
       "      <td>dlPFC</td>\n",
       "      <td>[-43, 35, 30]</td>\n",
       "      <td>NaN</td>\n",
       "      <td>...</td>\n",
       "      <td>-7.513995</td>\n",
       "      <td>-0.000033</td>\n",
       "      <td>-0.092765</td>\n",
       "      <td>0.0</td>\n",
       "      <td>0.028445</td>\n",
       "      <td>0.027884</td>\n",
       "      <td>29.955387</td>\n",
       "      <td>0.000131</td>\n",
       "      <td>0.369820</td>\n",
       "      <td>0.0</td>\n",
       "    </tr>\n",
       "    <tr>\n",
       "      <th>4</th>\n",
       "      <td>Bagattini 2020b</td>\n",
       "      <td>33002645</td>\n",
       "      <td>10.1016/j.brs.2020.09.010</td>\n",
       "      <td>dlPFC_L_hfrTMS</td>\n",
       "      <td>50.0</td>\n",
       "      <td>Improved</td>\n",
       "      <td>0.275026</td>\n",
       "      <td>dlPFC</td>\n",
       "      <td>[-43, 35, 30]</td>\n",
       "      <td>L</td>\n",
       "      <td>...</td>\n",
       "      <td>-7.513995</td>\n",
       "      <td>-0.000033</td>\n",
       "      <td>-0.092765</td>\n",
       "      <td>0.0</td>\n",
       "      <td>0.028445</td>\n",
       "      <td>0.027884</td>\n",
       "      <td>29.955387</td>\n",
       "      <td>0.000131</td>\n",
       "      <td>0.369820</td>\n",
       "      <td>0.0</td>\n",
       "    </tr>\n",
       "    <tr>\n",
       "      <th>6</th>\n",
       "      <td>Berkers 2017</td>\n",
       "      <td>28068640</td>\n",
       "      <td>10.1016/j.cortex.2016.12.015</td>\n",
       "      <td>Vertex_L_R_thetaTMS</td>\n",
       "      <td>17.0</td>\n",
       "      <td>Improved</td>\n",
       "      <td>0.164150</td>\n",
       "      <td>Vertex</td>\n",
       "      <td>[0, -10, 74]</td>\n",
       "      <td>L_R</td>\n",
       "      <td>...</td>\n",
       "      <td>-5.495712</td>\n",
       "      <td>-0.000024</td>\n",
       "      <td>-0.101772</td>\n",
       "      <td>0.0</td>\n",
       "      <td>-0.000400</td>\n",
       "      <td>-0.000822</td>\n",
       "      <td>-0.720782</td>\n",
       "      <td>-0.000003</td>\n",
       "      <td>-0.013348</td>\n",
       "      <td>0.0</td>\n",
       "    </tr>\n",
       "    <tr>\n",
       "      <th>7</th>\n",
       "      <td>Berkers 2017</td>\n",
       "      <td>28068640</td>\n",
       "      <td>10.1016/j.cortex.2016.12.015</td>\n",
       "      <td>mPFC_L_R_thetaTMS</td>\n",
       "      <td>17.0</td>\n",
       "      <td>Improved</td>\n",
       "      <td>-0.328300</td>\n",
       "      <td>mPFC</td>\n",
       "      <td>[0, 68, -2]</td>\n",
       "      <td>L_R</td>\n",
       "      <td>...</td>\n",
       "      <td>8.939184</td>\n",
       "      <td>0.000039</td>\n",
       "      <td>0.159628</td>\n",
       "      <td>0.0</td>\n",
       "      <td>-0.023152</td>\n",
       "      <td>-0.023547</td>\n",
       "      <td>-21.033018</td>\n",
       "      <td>-0.000092</td>\n",
       "      <td>-0.375590</td>\n",
       "      <td>0.0</td>\n",
       "    </tr>\n",
       "    <tr>\n",
       "      <th>8</th>\n",
       "      <td>Blumenfeld 2013</td>\n",
       "      <td>24316198</td>\n",
       "      <td>10.1016/j.neuropsychologia.2013.11.021</td>\n",
       "      <td>dlPFC_L_thetaTMS</td>\n",
       "      <td>29.0</td>\n",
       "      <td>Improved</td>\n",
       "      <td>-0.286484</td>\n",
       "      <td>dlPFC</td>\n",
       "      <td>[-43, 35, 30]</td>\n",
       "      <td>L</td>\n",
       "      <td>...</td>\n",
       "      <td>-7.513995</td>\n",
       "      <td>-0.000033</td>\n",
       "      <td>-0.092765</td>\n",
       "      <td>0.0</td>\n",
       "      <td>0.028445</td>\n",
       "      <td>0.027884</td>\n",
       "      <td>29.955387</td>\n",
       "      <td>0.000131</td>\n",
       "      <td>0.369820</td>\n",
       "      <td>0.0</td>\n",
       "    </tr>\n",
       "    <tr>\n",
       "      <th>...</th>\n",
       "      <td>...</td>\n",
       "      <td>...</td>\n",
       "      <td>...</td>\n",
       "      <td>...</td>\n",
       "      <td>...</td>\n",
       "      <td>...</td>\n",
       "      <td>...</td>\n",
       "      <td>...</td>\n",
       "      <td>...</td>\n",
       "      <td>...</td>\n",
       "      <td>...</td>\n",
       "      <td>...</td>\n",
       "      <td>...</td>\n",
       "      <td>...</td>\n",
       "      <td>...</td>\n",
       "      <td>...</td>\n",
       "      <td>...</td>\n",
       "      <td>...</td>\n",
       "      <td>...</td>\n",
       "      <td>...</td>\n",
       "      <td>...</td>\n",
       "    </tr>\n",
       "    <tr>\n",
       "      <th>84</th>\n",
       "      <td>Wassermann 1996</td>\n",
       "      <td>NaN</td>\n",
       "      <td>https://doi.org/10.1016/0924-980X(96)96004-X</td>\n",
       "      <td>dlPFC_L_hfrTMS</td>\n",
       "      <td>6.0</td>\n",
       "      <td>Improved</td>\n",
       "      <td>0.410792</td>\n",
       "      <td>dlPFC</td>\n",
       "      <td>[-43, 35, 30]</td>\n",
       "      <td>L</td>\n",
       "      <td>...</td>\n",
       "      <td>-7.513995</td>\n",
       "      <td>-0.000033</td>\n",
       "      <td>-0.092765</td>\n",
       "      <td>0.0</td>\n",
       "      <td>0.028445</td>\n",
       "      <td>0.027884</td>\n",
       "      <td>29.955387</td>\n",
       "      <td>0.000131</td>\n",
       "      <td>0.369820</td>\n",
       "      <td>0.0</td>\n",
       "    </tr>\n",
       "    <tr>\n",
       "      <th>85</th>\n",
       "      <td>Wu 2020</td>\n",
       "      <td>31884184</td>\n",
       "      <td>10.1016/j.brs.2019.12.020</td>\n",
       "      <td>dlPFC_L_thetaTMS</td>\n",
       "      <td>12.0</td>\n",
       "      <td>Improved</td>\n",
       "      <td>1.107823</td>\n",
       "      <td>dlPFC</td>\n",
       "      <td>[-43, 35, 30]</td>\n",
       "      <td>L</td>\n",
       "      <td>...</td>\n",
       "      <td>-7.513995</td>\n",
       "      <td>-0.000033</td>\n",
       "      <td>-0.092765</td>\n",
       "      <td>0.0</td>\n",
       "      <td>0.028445</td>\n",
       "      <td>0.027884</td>\n",
       "      <td>29.955387</td>\n",
       "      <td>0.000131</td>\n",
       "      <td>0.369820</td>\n",
       "      <td>0.0</td>\n",
       "    </tr>\n",
       "    <tr>\n",
       "      <th>86</th>\n",
       "      <td>Xiu 2020</td>\n",
       "      <td>32185388</td>\n",
       "      <td>10.1093/schbul/sbaa035</td>\n",
       "      <td>dlPFC_L_hfrTMS</td>\n",
       "      <td>110.0</td>\n",
       "      <td>Improved</td>\n",
       "      <td>0.821585</td>\n",
       "      <td>dlPFC</td>\n",
       "      <td>[-43, 35, 30]</td>\n",
       "      <td>L</td>\n",
       "      <td>...</td>\n",
       "      <td>-7.513995</td>\n",
       "      <td>-0.000033</td>\n",
       "      <td>-0.092765</td>\n",
       "      <td>0.0</td>\n",
       "      <td>0.028445</td>\n",
       "      <td>0.027884</td>\n",
       "      <td>29.955387</td>\n",
       "      <td>0.000131</td>\n",
       "      <td>0.369820</td>\n",
       "      <td>0.0</td>\n",
       "    </tr>\n",
       "    <tr>\n",
       "      <th>87</th>\n",
       "      <td>Yang 2019</td>\n",
       "      <td>30795490</td>\n",
       "      <td>10.1016/j.jad.2018.12.102</td>\n",
       "      <td>dlPFC_L_hfrTMS</td>\n",
       "      <td>52.0</td>\n",
       "      <td>Improved</td>\n",
       "      <td>0.027821</td>\n",
       "      <td>dlPFC</td>\n",
       "      <td>[-43, 35, 30]</td>\n",
       "      <td>L</td>\n",
       "      <td>...</td>\n",
       "      <td>-7.513995</td>\n",
       "      <td>-0.000033</td>\n",
       "      <td>-0.092765</td>\n",
       "      <td>0.0</td>\n",
       "      <td>0.028445</td>\n",
       "      <td>0.027884</td>\n",
       "      <td>29.955387</td>\n",
       "      <td>0.000131</td>\n",
       "      <td>0.369820</td>\n",
       "      <td>0.0</td>\n",
       "    </tr>\n",
       "    <tr>\n",
       "      <th>88</th>\n",
       "      <td>Zhuo 2019</td>\n",
       "      <td>31190822</td>\n",
       "      <td>10.2147/NDT.S196086</td>\n",
       "      <td>dlPFC_L_hfrTMS</td>\n",
       "      <td>60.0</td>\n",
       "      <td>Mixed</td>\n",
       "      <td>-0.366995</td>\n",
       "      <td>dlPFC</td>\n",
       "      <td>[-43, 35, 30]</td>\n",
       "      <td>L</td>\n",
       "      <td>...</td>\n",
       "      <td>-7.513995</td>\n",
       "      <td>-0.000033</td>\n",
       "      <td>-0.092765</td>\n",
       "      <td>0.0</td>\n",
       "      <td>0.028445</td>\n",
       "      <td>0.027884</td>\n",
       "      <td>29.955387</td>\n",
       "      <td>0.000131</td>\n",
       "      <td>0.369820</td>\n",
       "      <td>0.0</td>\n",
       "    </tr>\n",
       "  </tbody>\n",
       "</table>\n",
       "<p>75 rows × 70 columns</p>\n",
       "</div>"
      ],
      "text/plain": [
       "              study      PMID                                           DOI  \\\n",
       "3      Avirame 2016  27159441                  10.1097/YCT.0000000000000286   \n",
       "4   Bagattini 2020b  33002645                     10.1016/j.brs.2020.09.010   \n",
       "6      Berkers 2017  28068640                  10.1016/j.cortex.2016.12.015   \n",
       "7      Berkers 2017  28068640                  10.1016/j.cortex.2016.12.015   \n",
       "8   Blumenfeld 2013  24316198        10.1016/j.neuropsychologia.2013.11.021   \n",
       "..              ...       ...                                           ...   \n",
       "84  Wassermann 1996       NaN  https://doi.org/10.1016/0924-980X(96)96004-X   \n",
       "85          Wu 2020  31884184                     10.1016/j.brs.2019.12.020   \n",
       "86         Xiu 2020  32185388                        10.1093/schbul/sbaa035   \n",
       "87        Yang 2019  30795490                     10.1016/j.jad.2018.12.102   \n",
       "88        Zhuo 2019  31190822                           10.2147/NDT.S196086   \n",
       "\n",
       "                    ses      N Reported_Outcome  \\\n",
       "3         dlPFC__hfrTMS   11.0         Improved   \n",
       "4        dlPFC_L_hfrTMS   50.0         Improved   \n",
       "6   Vertex_L_R_thetaTMS   17.0         Improved   \n",
       "7     mPFC_L_R_thetaTMS   17.0         Improved   \n",
       "8      dlPFC_L_thetaTMS   29.0         Improved   \n",
       "..                  ...    ...              ...   \n",
       "84       dlPFC_L_hfrTMS    6.0         Improved   \n",
       "85     dlPFC_L_thetaTMS   12.0         Improved   \n",
       "86       dlPFC_L_hfrTMS  110.0         Improved   \n",
       "87       dlPFC_L_hfrTMS   52.0         Improved   \n",
       "88       dlPFC_L_hfrTMS   60.0            Mixed   \n",
       "\n",
       "    Pre_Post_Memory_Effect_Size__Cohen_s_D_ Location List_of_Coordinates Side  \\\n",
       "3                                  0.570039    dlPFC       [-43, 35, 30]  NaN   \n",
       "4                                  0.275026    dlPFC       [-43, 35, 30]    L   \n",
       "6                                  0.164150   Vertex        [0, -10, 74]  L_R   \n",
       "7                                 -0.328300     mPFC         [0, 68, -2]  L_R   \n",
       "8                                 -0.286484    dlPFC       [-43, 35, 30]    L   \n",
       "..                                      ...      ...                 ...  ...   \n",
       "84                                 0.410792    dlPFC       [-43, 35, 30]    L   \n",
       "85                                 1.107823    dlPFC       [-43, 35, 30]    L   \n",
       "86                                 0.821585    dlPFC       [-43, 35, 30]    L   \n",
       "87                                 0.027821    dlPFC       [-43, 35, 30]    L   \n",
       "88                                -0.366995    dlPFC       [-43, 35, 30]    L   \n",
       "\n",
       "    ... all_datasets_unweighted_avg_r_map_sum  \\\n",
       "3   ...                             -7.513995   \n",
       "4   ...                             -7.513995   \n",
       "6   ...                             -5.495712   \n",
       "7   ...                              8.939184   \n",
       "8   ...                             -7.513995   \n",
       "..  ...                                   ...   \n",
       "84  ...                             -7.513995   \n",
       "85  ...                             -7.513995   \n",
       "86  ...                             -7.513995   \n",
       "87  ...                             -7.513995   \n",
       "88  ...                             -7.513995   \n",
       "\n",
       "    all_datasets_unweighted_avg_r_map_average_subject_in_target  \\\n",
       "3                                           -0.000033             \n",
       "4                                           -0.000033             \n",
       "6                                           -0.000024             \n",
       "7                                            0.000039             \n",
       "8                                           -0.000033             \n",
       "..                                                ...             \n",
       "84                                          -0.000033             \n",
       "85                                          -0.000033             \n",
       "86                                          -0.000033             \n",
       "87                                          -0.000033             \n",
       "88                                          -0.000033             \n",
       "\n",
       "   all_datasets_unweighted_avg_r_map_average_target_in_subject  \\\n",
       "3                                           -0.092765            \n",
       "4                                           -0.092765            \n",
       "6                                           -0.101772            \n",
       "7                                            0.159628            \n",
       "8                                           -0.092765            \n",
       "..                                                ...            \n",
       "84                                          -0.092765            \n",
       "85                                          -0.092765            \n",
       "86                                          -0.092765            \n",
       "87                                          -0.092765            \n",
       "88                                          -0.092765            \n",
       "\n",
       "   all_datasets_unweighted_avg_r_map_num_in_roi  \\\n",
       "3                                           0.0   \n",
       "4                                           0.0   \n",
       "6                                           0.0   \n",
       "7                                           0.0   \n",
       "8                                           0.0   \n",
       "..                                          ...   \n",
       "84                                          0.0   \n",
       "85                                          0.0   \n",
       "86                                          0.0   \n",
       "87                                          0.0   \n",
       "88                                          0.0   \n",
       "\n",
       "    all_datasets_weighted_avg_r_map_spatial_corr  \\\n",
       "3                                       0.028445   \n",
       "4                                       0.028445   \n",
       "6                                      -0.000400   \n",
       "7                                      -0.023152   \n",
       "8                                       0.028445   \n",
       "..                                           ...   \n",
       "84                                      0.028445   \n",
       "85                                      0.028445   \n",
       "86                                      0.028445   \n",
       "87                                      0.028445   \n",
       "88                                      0.028445   \n",
       "\n",
       "    all_datasets_weighted_avg_r_map_cosine  \\\n",
       "3                                 0.027884   \n",
       "4                                 0.027884   \n",
       "6                                -0.000822   \n",
       "7                                -0.023547   \n",
       "8                                 0.027884   \n",
       "..                                     ...   \n",
       "84                                0.027884   \n",
       "85                                0.027884   \n",
       "86                                0.027884   \n",
       "87                                0.027884   \n",
       "88                                0.027884   \n",
       "\n",
       "    all_datasets_weighted_avg_r_map_sum  \\\n",
       "3                             29.955387   \n",
       "4                             29.955387   \n",
       "6                             -0.720782   \n",
       "7                            -21.033018   \n",
       "8                             29.955387   \n",
       "..                                  ...   \n",
       "84                            29.955387   \n",
       "85                            29.955387   \n",
       "86                            29.955387   \n",
       "87                            29.955387   \n",
       "88                            29.955387   \n",
       "\n",
       "    all_datasets_weighted_avg_r_map_average_subject_in_target  \\\n",
       "3                                            0.000131           \n",
       "4                                            0.000131           \n",
       "6                                           -0.000003           \n",
       "7                                           -0.000092           \n",
       "8                                            0.000131           \n",
       "..                                                ...           \n",
       "84                                           0.000131           \n",
       "85                                           0.000131           \n",
       "86                                           0.000131           \n",
       "87                                           0.000131           \n",
       "88                                           0.000131           \n",
       "\n",
       "   all_datasets_weighted_avg_r_map_average_target_in_subject  \\\n",
       "3                                            0.369820          \n",
       "4                                            0.369820          \n",
       "6                                           -0.013348          \n",
       "7                                           -0.375590          \n",
       "8                                            0.369820          \n",
       "..                                                ...          \n",
       "84                                           0.369820          \n",
       "85                                           0.369820          \n",
       "86                                           0.369820          \n",
       "87                                           0.369820          \n",
       "88                                           0.369820          \n",
       "\n",
       "   all_datasets_weighted_avg_r_map_num_in_roi  \n",
       "3                                         0.0  \n",
       "4                                         0.0  \n",
       "6                                         0.0  \n",
       "7                                         0.0  \n",
       "8                                         0.0  \n",
       "..                                        ...  \n",
       "84                                        0.0  \n",
       "85                                        0.0  \n",
       "86                                        0.0  \n",
       "87                                        0.0  \n",
       "88                                        0.0  \n",
       "\n",
       "[75 rows x 70 columns]"
      ]
     },
     "execution_count": 7,
     "metadata": {},
     "output_type": "execute_result"
    }
   ],
   "source": [
    "data_df = cal_palm.drop_nans_from_columns(columns_to_drop_from=drop_list)\n",
    "data_df"
   ]
  },
  {
   "cell_type": "markdown",
   "metadata": {},
   "source": [
    "**Drop Row Based on Value of Column**\n",
    "\n",
    "Define the column, condition, and value for dropping rows\n",
    "- column = 'your_column_name'\n",
    "- condition = 'above'  # Options: 'equal', 'above', 'below'"
   ]
  },
  {
   "cell_type": "code",
   "execution_count": 8,
   "metadata": {},
   "outputs": [
    {
     "data": {
      "text/plain": [
       "Index(['study', 'PMID', 'DOI', 'ses', 'N', 'Reported_Outcome',\n",
       "       'Pre_Post_Memory_Effect_Size__Cohen_s_D_', 'Location',\n",
       "       'List_of_Coordinates', 'Side', 'Frequency__Hz_', 'Magnitude__V_',\n",
       "       'Stim_Relative_to_Memory_Cycle', 'Stim_Info', 'Closed_Loop',\n",
       "       'Years_Between_Measurements', 'Mean_Age', 'Stdev_Age', 'Percent_Female',\n",
       "       'Disease', 'Test', 'Recall_Subtype', 'Sensory_Domain',\n",
       "       'Memory_Primary_Outcome', 'Control_Group', 'Notes', 'pooled_stdev',\n",
       "       'experimental_baseline_mean', 'experimental_baseline_stdev', 'N_1',\n",
       "       'Break', 'experimental_post_mean', 'experimental_post_stdev',\n",
       "       'experimental_post_n', 'PDF_Downloaded', 'PDF_Path', 'Break_1',\n",
       "       'Is_the_primary_outcome_of_this_manuscript_about_memory___Yes_No_',\n",
       "       'Does_this_manuscript_use_transcranial_magnetic_stimulation__TMS____Yes_No_',\n",
       "       'Does_this_manuscript_report_memory_outcomes___Yes_No_',\n",
       "       'To_what_region_of_the_brain_was_TMS_delivered',\n",
       "       'Did_the_study_report_TMS_improved__worsened__or_had_not_effect_on_memory',\n",
       "       'What_was_the_mean_age_of_the_patients_in_the_study_',\n",
       "       'What_diagnosis_did_the_patients_have__or_were_they_healthy_',\n",
       "       'What_was_the_frequency_of_TMS_used_in_this_study__For_example__options_are__low_freuqnecy_rTMS___1Hz___hi_frequency_rTMS___10Hz___and_theta_burst__often_50Hz_',\n",
       "       'Is_there_enough_information_to_determine_the_stimulation_site__specifically_to_derive_a_coordinate_of_stimulation_',\n",
       "       'What_test_was_used_to_measure_memory_',\n",
       "       'Was_verbal_or_visual_memory_measured_',\n",
       "       'Was_this_manuscript_primarily_about_the_influence_of_TMS_on_memory__Or_was_memory_tacked_on_to_a_different_primary_outcome_',\n",
       "       'What_was_the_duration_between_TMS_and_measurement__How_many_days__weeks__or_months_apart_were_the_initial_and_post_TMS_evaluations_',\n",
       "       'When_was_the_TMS_administered_relative_to_mmory__Was_it_during_encoding__presentation_of_stimulus___in_consolidation__after_stimulus___during_recall__during_recall___or_priming__such_as_before_testing__like_when_TMS_is_given_every_day_for_weeks_between_sessions__',\n",
       "       'path', 'train_prune_test_performs_highly_spatial_corr',\n",
       "       'train_prune_test_performs_highly_cosine',\n",
       "       'train_prune_test_performs_highly_sum',\n",
       "       'train_prune_test_performs_highly_average_subject_in_target',\n",
       "       'train_prune_test_performs_highly_average_target_in_subject',\n",
       "       'train_prune_test_performs_highly_num_in_roi',\n",
       "       'all_datasets_unweighted_avg_r_map_spatial_corr',\n",
       "       'all_datasets_unweighted_avg_r_map_cosine',\n",
       "       'all_datasets_unweighted_avg_r_map_sum',\n",
       "       'all_datasets_unweighted_avg_r_map_average_subject_in_target',\n",
       "       'all_datasets_unweighted_avg_r_map_average_target_in_subject',\n",
       "       'all_datasets_unweighted_avg_r_map_num_in_roi',\n",
       "       'all_datasets_weighted_avg_r_map_spatial_corr',\n",
       "       'all_datasets_weighted_avg_r_map_cosine',\n",
       "       'all_datasets_weighted_avg_r_map_sum',\n",
       "       'all_datasets_weighted_avg_r_map_average_subject_in_target',\n",
       "       'all_datasets_weighted_avg_r_map_average_target_in_subject',\n",
       "       'all_datasets_weighted_avg_r_map_num_in_roi'],\n",
       "      dtype='object')"
      ]
     },
     "execution_count": 8,
     "metadata": {},
     "output_type": "execute_result"
    }
   ],
   "source": [
    "data_df.columns"
   ]
  },
  {
   "cell_type": "markdown",
   "metadata": {},
   "source": [
    "Set the parameters for dropping rows"
   ]
  },
  {
   "cell_type": "code",
   "execution_count": 195,
   "metadata": {},
   "outputs": [],
   "source": [
    "column = 'Sensory_Domain'  # The column you'd like to evaluate\n",
    "condition = 'not'  # The condition to check ('equal', 'above', 'below', 'not')\n",
    "value = 'Verbal' # The value to drop if T"
   ]
  },
  {
   "cell_type": "code",
   "execution_count": 196,
   "metadata": {},
   "outputs": [
    {
     "data": {
      "text/html": [
       "<div>\n",
       "<style scoped>\n",
       "    .dataframe tbody tr th:only-of-type {\n",
       "        vertical-align: middle;\n",
       "    }\n",
       "\n",
       "    .dataframe tbody tr th {\n",
       "        vertical-align: top;\n",
       "    }\n",
       "\n",
       "    .dataframe thead th {\n",
       "        text-align: right;\n",
       "    }\n",
       "</style>\n",
       "<table border=\"1\" class=\"dataframe\">\n",
       "  <thead>\n",
       "    <tr style=\"text-align: right;\">\n",
       "      <th></th>\n",
       "      <th>study</th>\n",
       "      <th>PMID</th>\n",
       "      <th>DOI</th>\n",
       "      <th>ses</th>\n",
       "      <th>N</th>\n",
       "      <th>Reported_Outcome</th>\n",
       "      <th>Pre_Post_Memory_Effect_Size__Cohen_s_D_</th>\n",
       "      <th>Location</th>\n",
       "      <th>List_of_Coordinates</th>\n",
       "      <th>Side</th>\n",
       "      <th>...</th>\n",
       "      <th>all_datasets_unweighted_avg_r_map_sum</th>\n",
       "      <th>all_datasets_unweighted_avg_r_map_average_subject_in_target</th>\n",
       "      <th>all_datasets_unweighted_avg_r_map_average_target_in_subject</th>\n",
       "      <th>all_datasets_unweighted_avg_r_map_num_in_roi</th>\n",
       "      <th>all_datasets_weighted_avg_r_map_spatial_corr</th>\n",
       "      <th>all_datasets_weighted_avg_r_map_cosine</th>\n",
       "      <th>all_datasets_weighted_avg_r_map_sum</th>\n",
       "      <th>all_datasets_weighted_avg_r_map_average_subject_in_target</th>\n",
       "      <th>all_datasets_weighted_avg_r_map_average_target_in_subject</th>\n",
       "      <th>all_datasets_weighted_avg_r_map_num_in_roi</th>\n",
       "    </tr>\n",
       "  </thead>\n",
       "  <tbody>\n",
       "    <tr>\n",
       "      <th>3</th>\n",
       "      <td>Avirame 2016</td>\n",
       "      <td>27159441</td>\n",
       "      <td>10.1097/YCT.0000000000000286</td>\n",
       "      <td>dlPFC__hfrTMS</td>\n",
       "      <td>11.0</td>\n",
       "      <td>Improved</td>\n",
       "      <td>0.570039</td>\n",
       "      <td>dlPFC</td>\n",
       "      <td>[-43, 35, 30]</td>\n",
       "      <td>NaN</td>\n",
       "      <td>...</td>\n",
       "      <td>-7.513995</td>\n",
       "      <td>-0.000033</td>\n",
       "      <td>-0.092765</td>\n",
       "      <td>0.0</td>\n",
       "      <td>0.028445</td>\n",
       "      <td>0.027884</td>\n",
       "      <td>29.955387</td>\n",
       "      <td>0.000131</td>\n",
       "      <td>0.369820</td>\n",
       "      <td>0.0</td>\n",
       "    </tr>\n",
       "    <tr>\n",
       "      <th>4</th>\n",
       "      <td>Bagattini 2020b</td>\n",
       "      <td>33002645</td>\n",
       "      <td>10.1016/j.brs.2020.09.010</td>\n",
       "      <td>dlPFC_L_hfrTMS</td>\n",
       "      <td>50.0</td>\n",
       "      <td>Improved</td>\n",
       "      <td>0.275026</td>\n",
       "      <td>dlPFC</td>\n",
       "      <td>[-43, 35, 30]</td>\n",
       "      <td>L</td>\n",
       "      <td>...</td>\n",
       "      <td>-7.513995</td>\n",
       "      <td>-0.000033</td>\n",
       "      <td>-0.092765</td>\n",
       "      <td>0.0</td>\n",
       "      <td>0.028445</td>\n",
       "      <td>0.027884</td>\n",
       "      <td>29.955387</td>\n",
       "      <td>0.000131</td>\n",
       "      <td>0.369820</td>\n",
       "      <td>0.0</td>\n",
       "    </tr>\n",
       "    <tr>\n",
       "      <th>6</th>\n",
       "      <td>Berkers 2017</td>\n",
       "      <td>28068640</td>\n",
       "      <td>10.1016/j.cortex.2016.12.015</td>\n",
       "      <td>Vertex_L_R_thetaTMS</td>\n",
       "      <td>17.0</td>\n",
       "      <td>Improved</td>\n",
       "      <td>0.164150</td>\n",
       "      <td>Vertex</td>\n",
       "      <td>[0, -10, 74]</td>\n",
       "      <td>L_R</td>\n",
       "      <td>...</td>\n",
       "      <td>-5.495712</td>\n",
       "      <td>-0.000024</td>\n",
       "      <td>-0.101772</td>\n",
       "      <td>0.0</td>\n",
       "      <td>-0.000400</td>\n",
       "      <td>-0.000822</td>\n",
       "      <td>-0.720782</td>\n",
       "      <td>-0.000003</td>\n",
       "      <td>-0.013348</td>\n",
       "      <td>0.0</td>\n",
       "    </tr>\n",
       "    <tr>\n",
       "      <th>7</th>\n",
       "      <td>Berkers 2017</td>\n",
       "      <td>28068640</td>\n",
       "      <td>10.1016/j.cortex.2016.12.015</td>\n",
       "      <td>mPFC_L_R_thetaTMS</td>\n",
       "      <td>17.0</td>\n",
       "      <td>Improved</td>\n",
       "      <td>-0.328300</td>\n",
       "      <td>mPFC</td>\n",
       "      <td>[0, 68, -2]</td>\n",
       "      <td>L_R</td>\n",
       "      <td>...</td>\n",
       "      <td>8.939184</td>\n",
       "      <td>0.000039</td>\n",
       "      <td>0.159628</td>\n",
       "      <td>0.0</td>\n",
       "      <td>-0.023152</td>\n",
       "      <td>-0.023547</td>\n",
       "      <td>-21.033018</td>\n",
       "      <td>-0.000092</td>\n",
       "      <td>-0.375590</td>\n",
       "      <td>0.0</td>\n",
       "    </tr>\n",
       "    <tr>\n",
       "      <th>8</th>\n",
       "      <td>Blumenfeld 2013</td>\n",
       "      <td>24316198</td>\n",
       "      <td>10.1016/j.neuropsychologia.2013.11.021</td>\n",
       "      <td>dlPFC_L_thetaTMS</td>\n",
       "      <td>29.0</td>\n",
       "      <td>Improved</td>\n",
       "      <td>-0.286484</td>\n",
       "      <td>dlPFC</td>\n",
       "      <td>[-43, 35, 30]</td>\n",
       "      <td>L</td>\n",
       "      <td>...</td>\n",
       "      <td>-7.513995</td>\n",
       "      <td>-0.000033</td>\n",
       "      <td>-0.092765</td>\n",
       "      <td>0.0</td>\n",
       "      <td>0.028445</td>\n",
       "      <td>0.027884</td>\n",
       "      <td>29.955387</td>\n",
       "      <td>0.000131</td>\n",
       "      <td>0.369820</td>\n",
       "      <td>0.0</td>\n",
       "    </tr>\n",
       "    <tr>\n",
       "      <th>9</th>\n",
       "      <td>Blumenfeld 2013</td>\n",
       "      <td>24316198</td>\n",
       "      <td>10.1016/j.neuropsychologia.2013.11.021</td>\n",
       "      <td>vlPFC_L_thetaTMS</td>\n",
       "      <td>29.0</td>\n",
       "      <td>Impaired</td>\n",
       "      <td>0.286484</td>\n",
       "      <td>vlPFC</td>\n",
       "      <td>[-51, 25, 12]</td>\n",
       "      <td>L</td>\n",
       "      <td>...</td>\n",
       "      <td>5.514149</td>\n",
       "      <td>0.000024</td>\n",
       "      <td>0.068076</td>\n",
       "      <td>0.0</td>\n",
       "      <td>0.002769</td>\n",
       "      <td>0.002247</td>\n",
       "      <td>2.413966</td>\n",
       "      <td>0.000011</td>\n",
       "      <td>0.029802</td>\n",
       "      <td>0.0</td>\n",
       "    </tr>\n",
       "    <tr>\n",
       "      <th>15</th>\n",
       "      <td>Drumond Marra 2015</td>\n",
       "      <td>26160997</td>\n",
       "      <td>https://doi.org/10.1155/2015/287843</td>\n",
       "      <td>dlPFC_L_hfrTMS</td>\n",
       "      <td>34.0</td>\n",
       "      <td>Improved</td>\n",
       "      <td>0.805528</td>\n",
       "      <td>dlPFC</td>\n",
       "      <td>[-43, 35, 30]</td>\n",
       "      <td>L</td>\n",
       "      <td>...</td>\n",
       "      <td>-7.513995</td>\n",
       "      <td>-0.000033</td>\n",
       "      <td>-0.092765</td>\n",
       "      <td>0.0</td>\n",
       "      <td>0.028445</td>\n",
       "      <td>0.027884</td>\n",
       "      <td>29.955387</td>\n",
       "      <td>0.000131</td>\n",
       "      <td>0.369820</td>\n",
       "      <td>0.0</td>\n",
       "    </tr>\n",
       "    <tr>\n",
       "      <th>17</th>\n",
       "      <td>Fabre 2004</td>\n",
       "      <td>15352140</td>\n",
       "      <td>https://doi.org/10.1002/gps.1172</td>\n",
       "      <td>dlPFC_L_hfrTMS</td>\n",
       "      <td>11.0</td>\n",
       "      <td>Improved</td>\n",
       "      <td>0.303440</td>\n",
       "      <td>dlPFC</td>\n",
       "      <td>[-43, 35, 30]</td>\n",
       "      <td>L</td>\n",
       "      <td>...</td>\n",
       "      <td>-7.513995</td>\n",
       "      <td>-0.000033</td>\n",
       "      <td>-0.092765</td>\n",
       "      <td>0.0</td>\n",
       "      <td>0.028445</td>\n",
       "      <td>0.027884</td>\n",
       "      <td>29.955387</td>\n",
       "      <td>0.000131</td>\n",
       "      <td>0.369820</td>\n",
       "      <td>0.0</td>\n",
       "    </tr>\n",
       "    <tr>\n",
       "      <th>18</th>\n",
       "      <td>Francis 2019</td>\n",
       "      <td>29855992</td>\n",
       "      <td>10.1007/s11682-018-9902-4</td>\n",
       "      <td>dlPFC_L_R_hfrTMS</td>\n",
       "      <td>17.0</td>\n",
       "      <td>Improved</td>\n",
       "      <td>0.056203</td>\n",
       "      <td>dlPFC</td>\n",
       "      <td>[-43, 35, 30], [43, 35, 30]</td>\n",
       "      <td>L_R</td>\n",
       "      <td>...</td>\n",
       "      <td>-6.229334</td>\n",
       "      <td>-0.000027</td>\n",
       "      <td>-0.038453</td>\n",
       "      <td>0.0</td>\n",
       "      <td>0.041521</td>\n",
       "      <td>0.040724</td>\n",
       "      <td>61.870266</td>\n",
       "      <td>0.000271</td>\n",
       "      <td>0.381915</td>\n",
       "      <td>0.0</td>\n",
       "    </tr>\n",
       "    <tr>\n",
       "      <th>20</th>\n",
       "      <td>Hanslmayr 2014</td>\n",
       "      <td>24684933</td>\n",
       "      <td>10.1016/j.cub.2014.03.007</td>\n",
       "      <td>IFG_L_hfrTMS</td>\n",
       "      <td>19.0</td>\n",
       "      <td>Impaired</td>\n",
       "      <td>0.583212</td>\n",
       "      <td>IFG</td>\n",
       "      <td>[-48, 9, 30]</td>\n",
       "      <td>L</td>\n",
       "      <td>...</td>\n",
       "      <td>-11.720968</td>\n",
       "      <td>-0.000051</td>\n",
       "      <td>-0.144703</td>\n",
       "      <td>0.0</td>\n",
       "      <td>0.008608</td>\n",
       "      <td>0.008077</td>\n",
       "      <td>8.677006</td>\n",
       "      <td>0.000038</td>\n",
       "      <td>0.107124</td>\n",
       "      <td>0.0</td>\n",
       "    </tr>\n",
       "    <tr>\n",
       "      <th>21</th>\n",
       "      <td>Hanslmayr 2014</td>\n",
       "      <td>24684933</td>\n",
       "      <td>10.1016/j.cub.2014.03.007</td>\n",
       "      <td>IFG_L_hfrTMS</td>\n",
       "      <td>19.0</td>\n",
       "      <td>Impaired</td>\n",
       "      <td>-0.116642</td>\n",
       "      <td>IFG</td>\n",
       "      <td>[-48, 9, 30]</td>\n",
       "      <td>L</td>\n",
       "      <td>...</td>\n",
       "      <td>-11.720968</td>\n",
       "      <td>-0.000051</td>\n",
       "      <td>-0.144703</td>\n",
       "      <td>0.0</td>\n",
       "      <td>0.008608</td>\n",
       "      <td>0.008077</td>\n",
       "      <td>8.677006</td>\n",
       "      <td>0.000038</td>\n",
       "      <td>0.107124</td>\n",
       "      <td>0.0</td>\n",
       "    </tr>\n",
       "    <tr>\n",
       "      <th>22</th>\n",
       "      <td>Hasan 2016</td>\n",
       "      <td>26433217</td>\n",
       "      <td>10.1093/schbul/sbv142</td>\n",
       "      <td>dlPFC_L_hfrTMS</td>\n",
       "      <td>156.0</td>\n",
       "      <td>Mixed</td>\n",
       "      <td>-0.003570</td>\n",
       "      <td>dlPFC</td>\n",
       "      <td>[43, 35, 30]</td>\n",
       "      <td>L</td>\n",
       "      <td>...</td>\n",
       "      <td>1.284661</td>\n",
       "      <td>0.000006</td>\n",
       "      <td>0.015860</td>\n",
       "      <td>0.0</td>\n",
       "      <td>0.030272</td>\n",
       "      <td>0.029708</td>\n",
       "      <td>31.914879</td>\n",
       "      <td>0.000140</td>\n",
       "      <td>0.394011</td>\n",
       "      <td>0.0</td>\n",
       "    </tr>\n",
       "    <tr>\n",
       "      <th>24</th>\n",
       "      <td>Hemiller 2019b</td>\n",
       "      <td>30447076</td>\n",
       "      <td>10.1002/hipo.23054</td>\n",
       "      <td>Parietal_L_hfrTMS</td>\n",
       "      <td>24.0</td>\n",
       "      <td>Improved</td>\n",
       "      <td>-0.071364</td>\n",
       "      <td>Parietal</td>\n",
       "      <td>[-43, -64, 39]</td>\n",
       "      <td>L</td>\n",
       "      <td>...</td>\n",
       "      <td>12.386953</td>\n",
       "      <td>0.000054</td>\n",
       "      <td>0.152925</td>\n",
       "      <td>0.0</td>\n",
       "      <td>-0.000024</td>\n",
       "      <td>-0.000542</td>\n",
       "      <td>-0.581938</td>\n",
       "      <td>-0.000003</td>\n",
       "      <td>-0.007184</td>\n",
       "      <td>0.0</td>\n",
       "    </tr>\n",
       "    <tr>\n",
       "      <th>25</th>\n",
       "      <td>Hemiller 2019b</td>\n",
       "      <td>30447076</td>\n",
       "      <td>10.1002/hipo.23054</td>\n",
       "      <td>Parietal_L_thetaTMS</td>\n",
       "      <td>24.0</td>\n",
       "      <td>Improved</td>\n",
       "      <td>-0.285456</td>\n",
       "      <td>Parietal</td>\n",
       "      <td>[-43, -64, 39]</td>\n",
       "      <td>L</td>\n",
       "      <td>...</td>\n",
       "      <td>12.386953</td>\n",
       "      <td>0.000054</td>\n",
       "      <td>0.152925</td>\n",
       "      <td>0.0</td>\n",
       "      <td>-0.000024</td>\n",
       "      <td>-0.000542</td>\n",
       "      <td>-0.581938</td>\n",
       "      <td>-0.000003</td>\n",
       "      <td>-0.007184</td>\n",
       "      <td>0.0</td>\n",
       "    </tr>\n",
       "    <tr>\n",
       "      <th>29</th>\n",
       "      <td>Hoy 2012</td>\n",
       "      <td>22305343</td>\n",
       "      <td>10.1016/j.brs.2011.08.010</td>\n",
       "      <td>dlPFC_L_R_lfrTMS</td>\n",
       "      <td>137.0</td>\n",
       "      <td>Improved</td>\n",
       "      <td>0.165875</td>\n",
       "      <td>dlPFC</td>\n",
       "      <td>[43, 35, 30]</td>\n",
       "      <td>L_R</td>\n",
       "      <td>...</td>\n",
       "      <td>1.284661</td>\n",
       "      <td>0.000006</td>\n",
       "      <td>0.015860</td>\n",
       "      <td>0.0</td>\n",
       "      <td>0.030272</td>\n",
       "      <td>0.029708</td>\n",
       "      <td>31.914879</td>\n",
       "      <td>0.000140</td>\n",
       "      <td>0.394011</td>\n",
       "      <td>0.0</td>\n",
       "    </tr>\n",
       "    <tr>\n",
       "      <th>31</th>\n",
       "      <td>Isserles 2011</td>\n",
       "      <td>20663568</td>\n",
       "      <td>10.1016/j.jad.2010.06.038</td>\n",
       "      <td>dlPFC_L_R_hfrTMS</td>\n",
       "      <td>57.0</td>\n",
       "      <td>Improved</td>\n",
       "      <td>0.204579</td>\n",
       "      <td>dlPFC</td>\n",
       "      <td>[-43, 35, 30], [43, 35, 30]</td>\n",
       "      <td>L_R</td>\n",
       "      <td>...</td>\n",
       "      <td>-6.229334</td>\n",
       "      <td>-0.000027</td>\n",
       "      <td>-0.038453</td>\n",
       "      <td>0.0</td>\n",
       "      <td>0.041521</td>\n",
       "      <td>0.040724</td>\n",
       "      <td>61.870266</td>\n",
       "      <td>0.000271</td>\n",
       "      <td>0.381915</td>\n",
       "      <td>0.0</td>\n",
       "    </tr>\n",
       "    <tr>\n",
       "      <th>33</th>\n",
       "      <td>Jahanshahi 1997</td>\n",
       "      <td>10759166</td>\n",
       "      <td>10.1007/s002219900224</td>\n",
       "      <td>dlPFC_L_hfrTMS</td>\n",
       "      <td>6.0</td>\n",
       "      <td>Mixed</td>\n",
       "      <td>-0.246280</td>\n",
       "      <td>dlPFC</td>\n",
       "      <td>[-43, 35, 30]</td>\n",
       "      <td>L</td>\n",
       "      <td>...</td>\n",
       "      <td>-7.513995</td>\n",
       "      <td>-0.000033</td>\n",
       "      <td>-0.092765</td>\n",
       "      <td>0.0</td>\n",
       "      <td>0.028445</td>\n",
       "      <td>0.027884</td>\n",
       "      <td>29.955387</td>\n",
       "      <td>0.000131</td>\n",
       "      <td>0.369820</td>\n",
       "      <td>0.0</td>\n",
       "    </tr>\n",
       "    <tr>\n",
       "      <th>34</th>\n",
       "      <td>Jia 2021</td>\n",
       "      <td>33811151</td>\n",
       "      <td>10.1523/JNEUROSCI.2780-20.2021</td>\n",
       "      <td>Parietal_L_hfrTMS</td>\n",
       "      <td>35.0</td>\n",
       "      <td>Improved</td>\n",
       "      <td>-0.306777</td>\n",
       "      <td>Parietal</td>\n",
       "      <td>[-47, -68, 36]</td>\n",
       "      <td>L</td>\n",
       "      <td>...</td>\n",
       "      <td>11.413505</td>\n",
       "      <td>0.000050</td>\n",
       "      <td>0.140907</td>\n",
       "      <td>0.0</td>\n",
       "      <td>-0.005434</td>\n",
       "      <td>-0.005943</td>\n",
       "      <td>-6.384244</td>\n",
       "      <td>-0.000028</td>\n",
       "      <td>-0.078818</td>\n",
       "      <td>0.0</td>\n",
       "    </tr>\n",
       "    <tr>\n",
       "      <th>35</th>\n",
       "      <td>Jung 2024</td>\n",
       "      <td>38709534</td>\n",
       "      <td>10.1001/jamanetworkopen.2024.9220</td>\n",
       "      <td>Parietal_L_hfrTMS</td>\n",
       "      <td>30.0</td>\n",
       "      <td>Improved</td>\n",
       "      <td>-0.375985</td>\n",
       "      <td>Parietal</td>\n",
       "      <td>[-43, -64, 39]</td>\n",
       "      <td>L</td>\n",
       "      <td>...</td>\n",
       "      <td>12.386953</td>\n",
       "      <td>0.000054</td>\n",
       "      <td>0.152925</td>\n",
       "      <td>0.0</td>\n",
       "      <td>-0.000024</td>\n",
       "      <td>-0.000542</td>\n",
       "      <td>-0.581938</td>\n",
       "      <td>-0.000003</td>\n",
       "      <td>-0.007184</td>\n",
       "      <td>0.0</td>\n",
       "    </tr>\n",
       "    <tr>\n",
       "      <th>36</th>\n",
       "      <td>Kaster 2018</td>\n",
       "      <td>29946106</td>\n",
       "      <td>10.1038/s41386-018-0121-x</td>\n",
       "      <td>vlPFC_L_hfrTMS</td>\n",
       "      <td>52.0</td>\n",
       "      <td>Mixed</td>\n",
       "      <td>1.753847</td>\n",
       "      <td>vlPFC</td>\n",
       "      <td>[-43, 35, 30]</td>\n",
       "      <td>L</td>\n",
       "      <td>...</td>\n",
       "      <td>-7.513995</td>\n",
       "      <td>-0.000033</td>\n",
       "      <td>-0.092765</td>\n",
       "      <td>0.0</td>\n",
       "      <td>0.028445</td>\n",
       "      <td>0.027884</td>\n",
       "      <td>29.955387</td>\n",
       "      <td>0.000131</td>\n",
       "      <td>0.369820</td>\n",
       "      <td>0.0</td>\n",
       "    </tr>\n",
       "    <tr>\n",
       "      <th>38</th>\n",
       "      <td>Kedzior 2012</td>\n",
       "      <td>23031294</td>\n",
       "      <td>10.1186/1471-244X-12-163</td>\n",
       "      <td>dlPFC_L_hfrTMS</td>\n",
       "      <td>18.0</td>\n",
       "      <td>Improved</td>\n",
       "      <td>0.055730</td>\n",
       "      <td>dlPFC</td>\n",
       "      <td>[-43, 35, 30]</td>\n",
       "      <td>L</td>\n",
       "      <td>...</td>\n",
       "      <td>-7.513995</td>\n",
       "      <td>-0.000033</td>\n",
       "      <td>-0.092765</td>\n",
       "      <td>0.0</td>\n",
       "      <td>0.028445</td>\n",
       "      <td>0.027884</td>\n",
       "      <td>29.955387</td>\n",
       "      <td>0.000131</td>\n",
       "      <td>0.369820</td>\n",
       "      <td>0.0</td>\n",
       "    </tr>\n",
       "    <tr>\n",
       "      <th>39</th>\n",
       "      <td>Koch 2018</td>\n",
       "      <td>30347013</td>\n",
       "      <td>10.3233/JAD-180349 (J Alzheimers Dis. 2018)*</td>\n",
       "      <td>Precuneus_L_R_hfrTMS</td>\n",
       "      <td>14.0</td>\n",
       "      <td>Improved</td>\n",
       "      <td>-0.166366</td>\n",
       "      <td>Precuneus</td>\n",
       "      <td>[0, -65, 37]</td>\n",
       "      <td>L_R</td>\n",
       "      <td>...</td>\n",
       "      <td>14.775814</td>\n",
       "      <td>0.000065</td>\n",
       "      <td>0.182417</td>\n",
       "      <td>0.0</td>\n",
       "      <td>0.006720</td>\n",
       "      <td>0.006193</td>\n",
       "      <td>6.652765</td>\n",
       "      <td>0.000029</td>\n",
       "      <td>0.082133</td>\n",
       "      <td>0.0</td>\n",
       "    </tr>\n",
       "    <tr>\n",
       "      <th>43</th>\n",
       "      <td>Lu 2015</td>\n",
       "      <td>25770310</td>\n",
       "      <td>10.12659/MSM.892337</td>\n",
       "      <td>dlPFC_R_lfrTMS</td>\n",
       "      <td>40.0</td>\n",
       "      <td>Improved</td>\n",
       "      <td>1.729384</td>\n",
       "      <td>dlPFC</td>\n",
       "      <td>[-43, 35, 30]</td>\n",
       "      <td>R</td>\n",
       "      <td>...</td>\n",
       "      <td>-7.513995</td>\n",
       "      <td>-0.000033</td>\n",
       "      <td>-0.092765</td>\n",
       "      <td>0.0</td>\n",
       "      <td>0.028445</td>\n",
       "      <td>0.027884</td>\n",
       "      <td>29.955387</td>\n",
       "      <td>0.000131</td>\n",
       "      <td>0.369820</td>\n",
       "      <td>0.0</td>\n",
       "    </tr>\n",
       "    <tr>\n",
       "      <th>44</th>\n",
       "      <td>Marra 2015</td>\n",
       "      <td>26160997</td>\n",
       "      <td>10.1155/2015/287843</td>\n",
       "      <td>dlPFC_L_R_hfrTMS</td>\n",
       "      <td>15.0</td>\n",
       "      <td>Improved</td>\n",
       "      <td>-0.822971</td>\n",
       "      <td>dlPFC</td>\n",
       "      <td>[-27, 36, 51]</td>\n",
       "      <td>L_R</td>\n",
       "      <td>...</td>\n",
       "      <td>5.727656</td>\n",
       "      <td>0.000025</td>\n",
       "      <td>0.093896</td>\n",
       "      <td>0.0</td>\n",
       "      <td>0.012314</td>\n",
       "      <td>0.011847</td>\n",
       "      <td>11.044020</td>\n",
       "      <td>0.000048</td>\n",
       "      <td>0.181050</td>\n",
       "      <td>0.0</td>\n",
       "    </tr>\n",
       "    <tr>\n",
       "      <th>47</th>\n",
       "      <td>Moser 2002</td>\n",
       "      <td>11971103</td>\n",
       "      <td>10.1212/wnl.58.8.1288</td>\n",
       "      <td>vlPFC_L_hfrTMS</td>\n",
       "      <td>19.0</td>\n",
       "      <td>Improved</td>\n",
       "      <td>-0.110225</td>\n",
       "      <td>vlPFC</td>\n",
       "      <td>[-43, 35, 30]</td>\n",
       "      <td>L</td>\n",
       "      <td>...</td>\n",
       "      <td>-7.513995</td>\n",
       "      <td>-0.000033</td>\n",
       "      <td>-0.092765</td>\n",
       "      <td>0.0</td>\n",
       "      <td>0.028445</td>\n",
       "      <td>0.027884</td>\n",
       "      <td>29.955387</td>\n",
       "      <td>0.000131</td>\n",
       "      <td>0.369820</td>\n",
       "      <td>0.0</td>\n",
       "    </tr>\n",
       "    <tr>\n",
       "      <th>48</th>\n",
       "      <td>Mosimann 2004</td>\n",
       "      <td>15123391</td>\n",
       "      <td>10.1016/j.psychres.2003.10.006</td>\n",
       "      <td>dlPFC_L_hfrTMS</td>\n",
       "      <td>24.0</td>\n",
       "      <td>Mixed</td>\n",
       "      <td>-0.106597</td>\n",
       "      <td>dlPFC</td>\n",
       "      <td>[-43, 35, 30]</td>\n",
       "      <td>L</td>\n",
       "      <td>...</td>\n",
       "      <td>-7.513995</td>\n",
       "      <td>-0.000033</td>\n",
       "      <td>-0.092765</td>\n",
       "      <td>0.0</td>\n",
       "      <td>0.028445</td>\n",
       "      <td>0.027884</td>\n",
       "      <td>29.955387</td>\n",
       "      <td>0.000131</td>\n",
       "      <td>0.369820</td>\n",
       "      <td>0.0</td>\n",
       "    </tr>\n",
       "    <tr>\n",
       "      <th>51</th>\n",
       "      <td>Nadeau 2014</td>\n",
       "      <td>24968008</td>\n",
       "      <td>10.1097/WNN.0000000000000031</td>\n",
       "      <td>dlPFC_R_hfrTMS</td>\n",
       "      <td>48.0</td>\n",
       "      <td>Improved</td>\n",
       "      <td>0.330529</td>\n",
       "      <td>dlPFC</td>\n",
       "      <td>[-43, 35, 30]</td>\n",
       "      <td>R</td>\n",
       "      <td>...</td>\n",
       "      <td>-7.513995</td>\n",
       "      <td>-0.000033</td>\n",
       "      <td>-0.092765</td>\n",
       "      <td>0.0</td>\n",
       "      <td>0.028445</td>\n",
       "      <td>0.027884</td>\n",
       "      <td>29.955387</td>\n",
       "      <td>0.000131</td>\n",
       "      <td>0.369820</td>\n",
       "      <td>0.0</td>\n",
       "    </tr>\n",
       "    <tr>\n",
       "      <th>52</th>\n",
       "      <td>Nguyen 2017</td>\n",
       "      <td>28161090</td>\n",
       "      <td>10.1016/j.neucli.2017.01.001</td>\n",
       "      <td>Multifocal_L_R_hfrTMS</td>\n",
       "      <td>10.0</td>\n",
       "      <td>Improved</td>\n",
       "      <td>0.103013</td>\n",
       "      <td>Multifocal</td>\n",
       "      <td>[-43, 35, 30], [-54, -48, 18], [43, 35, 30], [...</td>\n",
       "      <td>L_R</td>\n",
       "      <td>...</td>\n",
       "      <td>-4.386354</td>\n",
       "      <td>-0.000019</td>\n",
       "      <td>-0.009433</td>\n",
       "      <td>0.0</td>\n",
       "      <td>0.021912</td>\n",
       "      <td>0.020634</td>\n",
       "      <td>53.111398</td>\n",
       "      <td>0.000232</td>\n",
       "      <td>0.114218</td>\n",
       "      <td>0.0</td>\n",
       "    </tr>\n",
       "    <tr>\n",
       "      <th>55</th>\n",
       "      <td>Oh 2011</td>\n",
       "      <td>21840364</td>\n",
       "      <td>10.1016/j.pnpbp.2011.07.015</td>\n",
       "      <td>Multifocal_L_R_hfrTMSl_lfrTMS</td>\n",
       "      <td>10.0</td>\n",
       "      <td>Improved</td>\n",
       "      <td>0.129971</td>\n",
       "      <td>Multifocal</td>\n",
       "      <td>[-43, 35, 30],  [-65, -44, 25]</td>\n",
       "      <td>L_R</td>\n",
       "      <td>...</td>\n",
       "      <td>-11.756751</td>\n",
       "      <td>-0.000051</td>\n",
       "      <td>-0.076842</td>\n",
       "      <td>0.0</td>\n",
       "      <td>0.020841</td>\n",
       "      <td>0.020097</td>\n",
       "      <td>29.672699</td>\n",
       "      <td>0.000130</td>\n",
       "      <td>0.193939</td>\n",
       "      <td>0.0</td>\n",
       "    </tr>\n",
       "    <tr>\n",
       "      <th>56</th>\n",
       "      <td>Qiao 2016</td>\n",
       "      <td>27695332</td>\n",
       "      <td>10.2147/NDT.S106266</td>\n",
       "      <td>dlPFC_R_hfrTMS</td>\n",
       "      <td>38.0</td>\n",
       "      <td>Improved</td>\n",
       "      <td>0.535931</td>\n",
       "      <td>dlPFC</td>\n",
       "      <td>[43, 35, 30]</td>\n",
       "      <td>R</td>\n",
       "      <td>...</td>\n",
       "      <td>1.284661</td>\n",
       "      <td>0.000006</td>\n",
       "      <td>0.015860</td>\n",
       "      <td>0.0</td>\n",
       "      <td>0.030272</td>\n",
       "      <td>0.029708</td>\n",
       "      <td>31.914879</td>\n",
       "      <td>0.000140</td>\n",
       "      <td>0.394011</td>\n",
       "      <td>0.0</td>\n",
       "    </tr>\n",
       "    <tr>\n",
       "      <th>57</th>\n",
       "      <td>Rektorova 2005</td>\n",
       "      <td>15760635</td>\n",
       "      <td>10.1016/j.jns.2004.11.021</td>\n",
       "      <td>dlPFC_L_hfrTMS</td>\n",
       "      <td>7.0</td>\n",
       "      <td>Mixed</td>\n",
       "      <td>0.655184</td>\n",
       "      <td>dlPFC</td>\n",
       "      <td>[-43, 35, 30]</td>\n",
       "      <td>L</td>\n",
       "      <td>...</td>\n",
       "      <td>-7.513995</td>\n",
       "      <td>-0.000033</td>\n",
       "      <td>-0.092765</td>\n",
       "      <td>0.0</td>\n",
       "      <td>0.028445</td>\n",
       "      <td>0.027884</td>\n",
       "      <td>29.955387</td>\n",
       "      <td>0.000131</td>\n",
       "      <td>0.369820</td>\n",
       "      <td>0.0</td>\n",
       "    </tr>\n",
       "    <tr>\n",
       "      <th>58</th>\n",
       "      <td>Rosa 2006</td>\n",
       "      <td>16923322</td>\n",
       "      <td>10.1017/S1461145706007127</td>\n",
       "      <td>dlPFC_L_hfrTMS</td>\n",
       "      <td>35.0</td>\n",
       "      <td>Mixed</td>\n",
       "      <td>0.135972</td>\n",
       "      <td>dlPFC</td>\n",
       "      <td>[-43, 35, 30]</td>\n",
       "      <td>L</td>\n",
       "      <td>...</td>\n",
       "      <td>-7.513995</td>\n",
       "      <td>-0.000033</td>\n",
       "      <td>-0.092765</td>\n",
       "      <td>0.0</td>\n",
       "      <td>0.028445</td>\n",
       "      <td>0.027884</td>\n",
       "      <td>29.955387</td>\n",
       "      <td>0.000131</td>\n",
       "      <td>0.369820</td>\n",
       "      <td>0.0</td>\n",
       "    </tr>\n",
       "    <tr>\n",
       "      <th>59</th>\n",
       "      <td>Rosenberg 2002</td>\n",
       "      <td>12154150</td>\n",
       "      <td>10.1176/jnp.14.3.270</td>\n",
       "      <td>dlPFC_L_hfrTMSl_lfrTMS</td>\n",
       "      <td>12.0</td>\n",
       "      <td>MIXED</td>\n",
       "      <td>0.372275</td>\n",
       "      <td>dlPFC</td>\n",
       "      <td>[-43, 35, 30]</td>\n",
       "      <td>L</td>\n",
       "      <td>...</td>\n",
       "      <td>-7.513995</td>\n",
       "      <td>-0.000033</td>\n",
       "      <td>-0.092765</td>\n",
       "      <td>0.0</td>\n",
       "      <td>0.028445</td>\n",
       "      <td>0.027884</td>\n",
       "      <td>29.955387</td>\n",
       "      <td>0.000131</td>\n",
       "      <td>0.369820</td>\n",
       "      <td>0.0</td>\n",
       "    </tr>\n",
       "    <tr>\n",
       "      <th>65</th>\n",
       "      <td>Sauseng 2009</td>\n",
       "      <td>19913428</td>\n",
       "      <td>https://doi.org/10.1016/j.cub.2009.08.062</td>\n",
       "      <td>Parietal_L_hfrTMS</td>\n",
       "      <td>15.0</td>\n",
       "      <td>Improved</td>\n",
       "      <td>0.182981</td>\n",
       "      <td>Parietal</td>\n",
       "      <td>[-36, -60, 56]</td>\n",
       "      <td>L</td>\n",
       "      <td>...</td>\n",
       "      <td>-0.793789</td>\n",
       "      <td>-0.000003</td>\n",
       "      <td>-0.009800</td>\n",
       "      <td>0.0</td>\n",
       "      <td>0.013062</td>\n",
       "      <td>0.012524</td>\n",
       "      <td>13.454664</td>\n",
       "      <td>0.000059</td>\n",
       "      <td>0.166107</td>\n",
       "      <td>0.0</td>\n",
       "    </tr>\n",
       "    <tr>\n",
       "      <th>66</th>\n",
       "      <td>Schulze-Rauschenbach 2005</td>\n",
       "      <td>15863746</td>\n",
       "      <td>10.1192/bjp.186.5.410</td>\n",
       "      <td>dlPFC_L_hfrTMS</td>\n",
       "      <td>30.0</td>\n",
       "      <td>Improved</td>\n",
       "      <td>-0.189190</td>\n",
       "      <td>dlPFC</td>\n",
       "      <td>[-51, 25, 12]</td>\n",
       "      <td>L</td>\n",
       "      <td>...</td>\n",
       "      <td>5.514149</td>\n",
       "      <td>0.000024</td>\n",
       "      <td>0.068076</td>\n",
       "      <td>0.0</td>\n",
       "      <td>0.002769</td>\n",
       "      <td>0.002247</td>\n",
       "      <td>2.413966</td>\n",
       "      <td>0.000011</td>\n",
       "      <td>0.029802</td>\n",
       "      <td>0.0</td>\n",
       "    </tr>\n",
       "    <tr>\n",
       "      <th>68</th>\n",
       "      <td>Speer 2001</td>\n",
       "      <td>11731727</td>\n",
       "      <td>10.1097/00124509-200112000-00005</td>\n",
       "      <td>dlPFC_L_hfrTMS</td>\n",
       "      <td>18.0</td>\n",
       "      <td>Mixed</td>\n",
       "      <td>0.346947</td>\n",
       "      <td>dlPFC</td>\n",
       "      <td>[-43, 35, 30]</td>\n",
       "      <td>L</td>\n",
       "      <td>...</td>\n",
       "      <td>-7.513995</td>\n",
       "      <td>-0.000033</td>\n",
       "      <td>-0.092765</td>\n",
       "      <td>0.0</td>\n",
       "      <td>0.028445</td>\n",
       "      <td>0.027884</td>\n",
       "      <td>29.955387</td>\n",
       "      <td>0.000131</td>\n",
       "      <td>0.369820</td>\n",
       "      <td>0.0</td>\n",
       "    </tr>\n",
       "    <tr>\n",
       "      <th>70</th>\n",
       "      <td>Tambini 2018</td>\n",
       "      <td>29916791</td>\n",
       "      <td>10.1162/jocn_a_01300</td>\n",
       "      <td>Parietal_L_thetaTMS</td>\n",
       "      <td>25.0</td>\n",
       "      <td>Improved</td>\n",
       "      <td>-0.261158</td>\n",
       "      <td>Parietal</td>\n",
       "      <td>[-43, -60, 39]</td>\n",
       "      <td>L</td>\n",
       "      <td>...</td>\n",
       "      <td>12.182944</td>\n",
       "      <td>0.000053</td>\n",
       "      <td>0.150407</td>\n",
       "      <td>0.0</td>\n",
       "      <td>0.004290</td>\n",
       "      <td>0.003766</td>\n",
       "      <td>4.045393</td>\n",
       "      <td>0.000018</td>\n",
       "      <td>0.049943</td>\n",
       "      <td>0.0</td>\n",
       "    </tr>\n",
       "    <tr>\n",
       "      <th>72</th>\n",
       "      <td>Triggs 1999</td>\n",
       "      <td>10356626</td>\n",
       "      <td>10.1016/s0006-3223(99)00031-1</td>\n",
       "      <td>dlPFC_L_hfrTMS</td>\n",
       "      <td>10.0</td>\n",
       "      <td>Improved</td>\n",
       "      <td>0.084114</td>\n",
       "      <td>dlPFC</td>\n",
       "      <td>[-43, 35, 30]</td>\n",
       "      <td>L</td>\n",
       "      <td>...</td>\n",
       "      <td>-7.513995</td>\n",
       "      <td>-0.000033</td>\n",
       "      <td>-0.092765</td>\n",
       "      <td>0.0</td>\n",
       "      <td>0.028445</td>\n",
       "      <td>0.027884</td>\n",
       "      <td>29.955387</td>\n",
       "      <td>0.000131</td>\n",
       "      <td>0.369820</td>\n",
       "      <td>0.0</td>\n",
       "    </tr>\n",
       "    <tr>\n",
       "      <th>73</th>\n",
       "      <td>Trung 2019</td>\n",
       "      <td>31300260</td>\n",
       "      <td>10.1016/j.parkreldis.2019.07.006</td>\n",
       "      <td>dlPFC_L_thetaTMS</td>\n",
       "      <td>28.0</td>\n",
       "      <td>Mixed</td>\n",
       "      <td>-0.233950</td>\n",
       "      <td>dlPFC</td>\n",
       "      <td>[-43, 35, 30]</td>\n",
       "      <td>L</td>\n",
       "      <td>...</td>\n",
       "      <td>-7.513995</td>\n",
       "      <td>-0.000033</td>\n",
       "      <td>-0.092765</td>\n",
       "      <td>0.0</td>\n",
       "      <td>0.028445</td>\n",
       "      <td>0.027884</td>\n",
       "      <td>29.955387</td>\n",
       "      <td>0.000131</td>\n",
       "      <td>0.369820</td>\n",
       "      <td>0.0</td>\n",
       "    </tr>\n",
       "    <tr>\n",
       "      <th>74</th>\n",
       "      <td>Tsai 2020</td>\n",
       "      <td>32159313</td>\n",
       "      <td>10.1503/jpn.190060</td>\n",
       "      <td>dlPFC_L_thetaTMS</td>\n",
       "      <td>41.0</td>\n",
       "      <td>Improved</td>\n",
       "      <td>0.222619</td>\n",
       "      <td>dlPFC</td>\n",
       "      <td>[-43, 35, 30]</td>\n",
       "      <td>L</td>\n",
       "      <td>...</td>\n",
       "      <td>-7.513995</td>\n",
       "      <td>-0.000033</td>\n",
       "      <td>-0.092765</td>\n",
       "      <td>0.0</td>\n",
       "      <td>0.028445</td>\n",
       "      <td>0.027884</td>\n",
       "      <td>29.955387</td>\n",
       "      <td>0.000131</td>\n",
       "      <td>0.369820</td>\n",
       "      <td>0.0</td>\n",
       "    </tr>\n",
       "    <tr>\n",
       "      <th>75</th>\n",
       "      <td>Turriziani 2012</td>\n",
       "      <td>22514525</td>\n",
       "      <td>10.3389/fnhum.2012.00062</td>\n",
       "      <td>dlPFC_L_lfrTMS</td>\n",
       "      <td>100.0</td>\n",
       "      <td>Improved</td>\n",
       "      <td>0.738549</td>\n",
       "      <td>dlPFC</td>\n",
       "      <td>[-44, 31, 28]</td>\n",
       "      <td>L</td>\n",
       "      <td>...</td>\n",
       "      <td>-5.171773</td>\n",
       "      <td>-0.000023</td>\n",
       "      <td>-0.063849</td>\n",
       "      <td>0.0</td>\n",
       "      <td>0.024377</td>\n",
       "      <td>0.023822</td>\n",
       "      <td>25.591686</td>\n",
       "      <td>0.000112</td>\n",
       "      <td>0.315947</td>\n",
       "      <td>0.0</td>\n",
       "    </tr>\n",
       "    <tr>\n",
       "      <th>78</th>\n",
       "      <td>Turriziani 2012</td>\n",
       "      <td>22514525</td>\n",
       "      <td>10.3389/fnhum.2012.00062</td>\n",
       "      <td>dlPFC_R_lfrTMS</td>\n",
       "      <td>100.0</td>\n",
       "      <td>Improved</td>\n",
       "      <td>-0.443129</td>\n",
       "      <td>dlPFC</td>\n",
       "      <td>[44, 31, 28]</td>\n",
       "      <td>R</td>\n",
       "      <td>...</td>\n",
       "      <td>1.982709</td>\n",
       "      <td>0.000009</td>\n",
       "      <td>0.024478</td>\n",
       "      <td>0.0</td>\n",
       "      <td>0.027316</td>\n",
       "      <td>0.026756</td>\n",
       "      <td>28.743494</td>\n",
       "      <td>0.000126</td>\n",
       "      <td>0.354858</td>\n",
       "      <td>0.0</td>\n",
       "    </tr>\n",
       "    <tr>\n",
       "      <th>81</th>\n",
       "      <td>Velioglu 2021</td>\n",
       "      <td>33226801</td>\n",
       "      <td>10.4274/ejgg.galenos.2020.363 (Eur J Geriatr G...</td>\n",
       "      <td>Parietal_L_hfrTMS</td>\n",
       "      <td>15.0</td>\n",
       "      <td>Improved</td>\n",
       "      <td>-0.154835</td>\n",
       "      <td>Parietal</td>\n",
       "      <td>[-25, -52, 59]</td>\n",
       "      <td>L</td>\n",
       "      <td>...</td>\n",
       "      <td>-9.531920</td>\n",
       "      <td>-0.000042</td>\n",
       "      <td>-0.117678</td>\n",
       "      <td>0.0</td>\n",
       "      <td>-0.009800</td>\n",
       "      <td>-0.010302</td>\n",
       "      <td>-11.066970</td>\n",
       "      <td>-0.000048</td>\n",
       "      <td>-0.136629</td>\n",
       "      <td>0.0</td>\n",
       "    </tr>\n",
       "    <tr>\n",
       "      <th>82</th>\n",
       "      <td>Wajdik 2014</td>\n",
       "      <td>24625717</td>\n",
       "      <td>10.1097/YCT.0000000000000096</td>\n",
       "      <td>dlPFC_L_hfrTMS</td>\n",
       "      <td>63.0</td>\n",
       "      <td>Mixed</td>\n",
       "      <td>-0.466229</td>\n",
       "      <td>dlPFC</td>\n",
       "      <td>[-43, 35, 30]</td>\n",
       "      <td>L</td>\n",
       "      <td>...</td>\n",
       "      <td>-7.513995</td>\n",
       "      <td>-0.000033</td>\n",
       "      <td>-0.092765</td>\n",
       "      <td>0.0</td>\n",
       "      <td>0.028445</td>\n",
       "      <td>0.027884</td>\n",
       "      <td>29.955387</td>\n",
       "      <td>0.000131</td>\n",
       "      <td>0.369820</td>\n",
       "      <td>0.0</td>\n",
       "    </tr>\n",
       "    <tr>\n",
       "      <th>84</th>\n",
       "      <td>Wassermann 1996</td>\n",
       "      <td>NaN</td>\n",
       "      <td>https://doi.org/10.1016/0924-980X(96)96004-X</td>\n",
       "      <td>dlPFC_L_hfrTMS</td>\n",
       "      <td>6.0</td>\n",
       "      <td>Improved</td>\n",
       "      <td>0.410792</td>\n",
       "      <td>dlPFC</td>\n",
       "      <td>[-43, 35, 30]</td>\n",
       "      <td>L</td>\n",
       "      <td>...</td>\n",
       "      <td>-7.513995</td>\n",
       "      <td>-0.000033</td>\n",
       "      <td>-0.092765</td>\n",
       "      <td>0.0</td>\n",
       "      <td>0.028445</td>\n",
       "      <td>0.027884</td>\n",
       "      <td>29.955387</td>\n",
       "      <td>0.000131</td>\n",
       "      <td>0.369820</td>\n",
       "      <td>0.0</td>\n",
       "    </tr>\n",
       "    <tr>\n",
       "      <th>85</th>\n",
       "      <td>Wu 2020</td>\n",
       "      <td>31884184</td>\n",
       "      <td>10.1016/j.brs.2019.12.020</td>\n",
       "      <td>dlPFC_L_thetaTMS</td>\n",
       "      <td>12.0</td>\n",
       "      <td>Improved</td>\n",
       "      <td>1.107823</td>\n",
       "      <td>dlPFC</td>\n",
       "      <td>[-43, 35, 30]</td>\n",
       "      <td>L</td>\n",
       "      <td>...</td>\n",
       "      <td>-7.513995</td>\n",
       "      <td>-0.000033</td>\n",
       "      <td>-0.092765</td>\n",
       "      <td>0.0</td>\n",
       "      <td>0.028445</td>\n",
       "      <td>0.027884</td>\n",
       "      <td>29.955387</td>\n",
       "      <td>0.000131</td>\n",
       "      <td>0.369820</td>\n",
       "      <td>0.0</td>\n",
       "    </tr>\n",
       "    <tr>\n",
       "      <th>86</th>\n",
       "      <td>Xiu 2020</td>\n",
       "      <td>32185388</td>\n",
       "      <td>10.1093/schbul/sbaa035</td>\n",
       "      <td>dlPFC_L_hfrTMS</td>\n",
       "      <td>110.0</td>\n",
       "      <td>Improved</td>\n",
       "      <td>0.821585</td>\n",
       "      <td>dlPFC</td>\n",
       "      <td>[-43, 35, 30]</td>\n",
       "      <td>L</td>\n",
       "      <td>...</td>\n",
       "      <td>-7.513995</td>\n",
       "      <td>-0.000033</td>\n",
       "      <td>-0.092765</td>\n",
       "      <td>0.0</td>\n",
       "      <td>0.028445</td>\n",
       "      <td>0.027884</td>\n",
       "      <td>29.955387</td>\n",
       "      <td>0.000131</td>\n",
       "      <td>0.369820</td>\n",
       "      <td>0.0</td>\n",
       "    </tr>\n",
       "    <tr>\n",
       "      <th>87</th>\n",
       "      <td>Yang 2019</td>\n",
       "      <td>30795490</td>\n",
       "      <td>10.1016/j.jad.2018.12.102</td>\n",
       "      <td>dlPFC_L_hfrTMS</td>\n",
       "      <td>52.0</td>\n",
       "      <td>Improved</td>\n",
       "      <td>0.027821</td>\n",
       "      <td>dlPFC</td>\n",
       "      <td>[-43, 35, 30]</td>\n",
       "      <td>L</td>\n",
       "      <td>...</td>\n",
       "      <td>-7.513995</td>\n",
       "      <td>-0.000033</td>\n",
       "      <td>-0.092765</td>\n",
       "      <td>0.0</td>\n",
       "      <td>0.028445</td>\n",
       "      <td>0.027884</td>\n",
       "      <td>29.955387</td>\n",
       "      <td>0.000131</td>\n",
       "      <td>0.369820</td>\n",
       "      <td>0.0</td>\n",
       "    </tr>\n",
       "    <tr>\n",
       "      <th>88</th>\n",
       "      <td>Zhuo 2019</td>\n",
       "      <td>31190822</td>\n",
       "      <td>10.2147/NDT.S196086</td>\n",
       "      <td>dlPFC_L_hfrTMS</td>\n",
       "      <td>60.0</td>\n",
       "      <td>Mixed</td>\n",
       "      <td>-0.366995</td>\n",
       "      <td>dlPFC</td>\n",
       "      <td>[-43, 35, 30]</td>\n",
       "      <td>L</td>\n",
       "      <td>...</td>\n",
       "      <td>-7.513995</td>\n",
       "      <td>-0.000033</td>\n",
       "      <td>-0.092765</td>\n",
       "      <td>0.0</td>\n",
       "      <td>0.028445</td>\n",
       "      <td>0.027884</td>\n",
       "      <td>29.955387</td>\n",
       "      <td>0.000131</td>\n",
       "      <td>0.369820</td>\n",
       "      <td>0.0</td>\n",
       "    </tr>\n",
       "  </tbody>\n",
       "</table>\n",
       "<p>49 rows × 70 columns</p>\n",
       "</div>"
      ],
      "text/plain": [
       "                        study      PMID  \\\n",
       "3                Avirame 2016  27159441   \n",
       "4             Bagattini 2020b  33002645   \n",
       "6                Berkers 2017  28068640   \n",
       "7                Berkers 2017  28068640   \n",
       "8             Blumenfeld 2013  24316198   \n",
       "9             Blumenfeld 2013  24316198   \n",
       "15         Drumond Marra 2015  26160997   \n",
       "17                 Fabre 2004  15352140   \n",
       "18               Francis 2019  29855992   \n",
       "20             Hanslmayr 2014  24684933   \n",
       "21             Hanslmayr 2014  24684933   \n",
       "22                 Hasan 2016  26433217   \n",
       "24             Hemiller 2019b  30447076   \n",
       "25             Hemiller 2019b  30447076   \n",
       "29                   Hoy 2012  22305343   \n",
       "31              Isserles 2011  20663568   \n",
       "33            Jahanshahi 1997  10759166   \n",
       "34                   Jia 2021  33811151   \n",
       "35                  Jung 2024  38709534   \n",
       "36                Kaster 2018  29946106   \n",
       "38               Kedzior 2012  23031294   \n",
       "39                  Koch 2018  30347013   \n",
       "43                    Lu 2015  25770310   \n",
       "44                 Marra 2015  26160997   \n",
       "47                 Moser 2002  11971103   \n",
       "48              Mosimann 2004  15123391   \n",
       "51                Nadeau 2014  24968008   \n",
       "52                Nguyen 2017  28161090   \n",
       "55                    Oh 2011  21840364   \n",
       "56                  Qiao 2016  27695332   \n",
       "57             Rektorova 2005  15760635   \n",
       "58                  Rosa 2006  16923322   \n",
       "59             Rosenberg 2002  12154150   \n",
       "65               Sauseng 2009  19913428   \n",
       "66  Schulze-Rauschenbach 2005  15863746   \n",
       "68                 Speer 2001  11731727   \n",
       "70               Tambini 2018  29916791   \n",
       "72                Triggs 1999  10356626   \n",
       "73                 Trung 2019  31300260   \n",
       "74                  Tsai 2020  32159313   \n",
       "75            Turriziani 2012  22514525   \n",
       "78            Turriziani 2012  22514525   \n",
       "81              Velioglu 2021  33226801   \n",
       "82                Wajdik 2014  24625717   \n",
       "84            Wassermann 1996       NaN   \n",
       "85                    Wu 2020  31884184   \n",
       "86                   Xiu 2020  32185388   \n",
       "87                  Yang 2019  30795490   \n",
       "88                  Zhuo 2019  31190822   \n",
       "\n",
       "                                                  DOI  \\\n",
       "3                        10.1097/YCT.0000000000000286   \n",
       "4                           10.1016/j.brs.2020.09.010   \n",
       "6                        10.1016/j.cortex.2016.12.015   \n",
       "7                        10.1016/j.cortex.2016.12.015   \n",
       "8              10.1016/j.neuropsychologia.2013.11.021   \n",
       "9              10.1016/j.neuropsychologia.2013.11.021   \n",
       "15                https://doi.org/10.1155/2015/287843   \n",
       "17                   https://doi.org/10.1002/gps.1172   \n",
       "18                          10.1007/s11682-018-9902-4   \n",
       "20                          10.1016/j.cub.2014.03.007   \n",
       "21                          10.1016/j.cub.2014.03.007   \n",
       "22                              10.1093/schbul/sbv142   \n",
       "24                                 10.1002/hipo.23054   \n",
       "25                                 10.1002/hipo.23054   \n",
       "29                          10.1016/j.brs.2011.08.010   \n",
       "31                          10.1016/j.jad.2010.06.038   \n",
       "33                              10.1007/s002219900224   \n",
       "34                     10.1523/JNEUROSCI.2780-20.2021   \n",
       "35                  10.1001/jamanetworkopen.2024.9220   \n",
       "36                          10.1038/s41386-018-0121-x   \n",
       "38                           10.1186/1471-244X-12-163   \n",
       "39       10.3233/JAD-180349 (J Alzheimers Dis. 2018)*   \n",
       "43                                10.12659/MSM.892337   \n",
       "44                                10.1155/2015/287843   \n",
       "47                              10.1212/wnl.58.8.1288   \n",
       "48                     10.1016/j.psychres.2003.10.006   \n",
       "51                       10.1097/WNN.0000000000000031   \n",
       "52                       10.1016/j.neucli.2017.01.001   \n",
       "55                        10.1016/j.pnpbp.2011.07.015   \n",
       "56                                10.2147/NDT.S106266   \n",
       "57                          10.1016/j.jns.2004.11.021   \n",
       "58                          10.1017/S1461145706007127   \n",
       "59                               10.1176/jnp.14.3.270   \n",
       "65          https://doi.org/10.1016/j.cub.2009.08.062   \n",
       "66                              10.1192/bjp.186.5.410   \n",
       "68                   10.1097/00124509-200112000-00005   \n",
       "70                               10.1162/jocn_a_01300   \n",
       "72                      10.1016/s0006-3223(99)00031-1   \n",
       "73                   10.1016/j.parkreldis.2019.07.006   \n",
       "74                                 10.1503/jpn.190060   \n",
       "75                           10.3389/fnhum.2012.00062   \n",
       "78                           10.3389/fnhum.2012.00062   \n",
       "81  10.4274/ejgg.galenos.2020.363 (Eur J Geriatr G...   \n",
       "82                       10.1097/YCT.0000000000000096   \n",
       "84       https://doi.org/10.1016/0924-980X(96)96004-X   \n",
       "85                          10.1016/j.brs.2019.12.020   \n",
       "86                             10.1093/schbul/sbaa035   \n",
       "87                          10.1016/j.jad.2018.12.102   \n",
       "88                                10.2147/NDT.S196086   \n",
       "\n",
       "                              ses      N Reported_Outcome  \\\n",
       "3                   dlPFC__hfrTMS   11.0         Improved   \n",
       "4                  dlPFC_L_hfrTMS   50.0         Improved   \n",
       "6             Vertex_L_R_thetaTMS   17.0         Improved   \n",
       "7               mPFC_L_R_thetaTMS   17.0         Improved   \n",
       "8                dlPFC_L_thetaTMS   29.0         Improved   \n",
       "9                vlPFC_L_thetaTMS   29.0         Impaired   \n",
       "15                 dlPFC_L_hfrTMS   34.0         Improved   \n",
       "17                 dlPFC_L_hfrTMS   11.0         Improved   \n",
       "18               dlPFC_L_R_hfrTMS   17.0         Improved   \n",
       "20                   IFG_L_hfrTMS   19.0         Impaired   \n",
       "21                   IFG_L_hfrTMS   19.0         Impaired   \n",
       "22                 dlPFC_L_hfrTMS  156.0            Mixed   \n",
       "24              Parietal_L_hfrTMS   24.0         Improved   \n",
       "25            Parietal_L_thetaTMS   24.0         Improved   \n",
       "29               dlPFC_L_R_lfrTMS  137.0         Improved   \n",
       "31               dlPFC_L_R_hfrTMS   57.0         Improved   \n",
       "33                 dlPFC_L_hfrTMS    6.0            Mixed   \n",
       "34              Parietal_L_hfrTMS   35.0         Improved   \n",
       "35              Parietal_L_hfrTMS   30.0         Improved   \n",
       "36                 vlPFC_L_hfrTMS   52.0            Mixed   \n",
       "38                 dlPFC_L_hfrTMS   18.0         Improved   \n",
       "39           Precuneus_L_R_hfrTMS   14.0         Improved   \n",
       "43                 dlPFC_R_lfrTMS   40.0         Improved   \n",
       "44               dlPFC_L_R_hfrTMS   15.0         Improved   \n",
       "47                 vlPFC_L_hfrTMS   19.0         Improved   \n",
       "48                 dlPFC_L_hfrTMS   24.0            Mixed   \n",
       "51                 dlPFC_R_hfrTMS   48.0         Improved   \n",
       "52          Multifocal_L_R_hfrTMS   10.0         Improved   \n",
       "55  Multifocal_L_R_hfrTMSl_lfrTMS   10.0         Improved   \n",
       "56                 dlPFC_R_hfrTMS   38.0         Improved   \n",
       "57                 dlPFC_L_hfrTMS    7.0            Mixed   \n",
       "58                 dlPFC_L_hfrTMS   35.0            Mixed   \n",
       "59         dlPFC_L_hfrTMSl_lfrTMS   12.0            MIXED   \n",
       "65              Parietal_L_hfrTMS   15.0         Improved   \n",
       "66                 dlPFC_L_hfrTMS   30.0         Improved   \n",
       "68                 dlPFC_L_hfrTMS   18.0            Mixed   \n",
       "70            Parietal_L_thetaTMS   25.0         Improved   \n",
       "72                 dlPFC_L_hfrTMS   10.0         Improved   \n",
       "73               dlPFC_L_thetaTMS   28.0            Mixed   \n",
       "74               dlPFC_L_thetaTMS   41.0         Improved   \n",
       "75                 dlPFC_L_lfrTMS  100.0         Improved   \n",
       "78                 dlPFC_R_lfrTMS  100.0         Improved   \n",
       "81              Parietal_L_hfrTMS   15.0         Improved   \n",
       "82                 dlPFC_L_hfrTMS   63.0            Mixed   \n",
       "84                 dlPFC_L_hfrTMS    6.0         Improved   \n",
       "85               dlPFC_L_thetaTMS   12.0         Improved   \n",
       "86                 dlPFC_L_hfrTMS  110.0         Improved   \n",
       "87                 dlPFC_L_hfrTMS   52.0         Improved   \n",
       "88                 dlPFC_L_hfrTMS   60.0            Mixed   \n",
       "\n",
       "    Pre_Post_Memory_Effect_Size__Cohen_s_D_    Location  \\\n",
       "3                                  0.570039       dlPFC   \n",
       "4                                  0.275026       dlPFC   \n",
       "6                                  0.164150      Vertex   \n",
       "7                                 -0.328300        mPFC   \n",
       "8                                 -0.286484       dlPFC   \n",
       "9                                  0.286484       vlPFC   \n",
       "15                                 0.805528       dlPFC   \n",
       "17                                 0.303440       dlPFC   \n",
       "18                                 0.056203       dlPFC   \n",
       "20                                 0.583212         IFG   \n",
       "21                                -0.116642         IFG   \n",
       "22                                -0.003570       dlPFC   \n",
       "24                                -0.071364    Parietal   \n",
       "25                                -0.285456    Parietal   \n",
       "29                                 0.165875       dlPFC   \n",
       "31                                 0.204579       dlPFC   \n",
       "33                                -0.246280       dlPFC   \n",
       "34                                -0.306777    Parietal   \n",
       "35                                -0.375985    Parietal   \n",
       "36                                 1.753847       vlPFC   \n",
       "38                                 0.055730       dlPFC   \n",
       "39                                -0.166366   Precuneus   \n",
       "43                                 1.729384       dlPFC   \n",
       "44                                -0.822971       dlPFC   \n",
       "47                                -0.110225       vlPFC   \n",
       "48                                -0.106597       dlPFC   \n",
       "51                                 0.330529       dlPFC   \n",
       "52                                 0.103013  Multifocal   \n",
       "55                                 0.129971  Multifocal   \n",
       "56                                 0.535931       dlPFC   \n",
       "57                                 0.655184       dlPFC   \n",
       "58                                 0.135972       dlPFC   \n",
       "59                                 0.372275       dlPFC   \n",
       "65                                 0.182981    Parietal   \n",
       "66                                -0.189190       dlPFC   \n",
       "68                                 0.346947       dlPFC   \n",
       "70                                -0.261158    Parietal   \n",
       "72                                 0.084114       dlPFC   \n",
       "73                                -0.233950       dlPFC   \n",
       "74                                 0.222619       dlPFC   \n",
       "75                                 0.738549       dlPFC   \n",
       "78                                -0.443129       dlPFC   \n",
       "81                                -0.154835    Parietal   \n",
       "82                                -0.466229       dlPFC   \n",
       "84                                 0.410792       dlPFC   \n",
       "85                                 1.107823       dlPFC   \n",
       "86                                 0.821585       dlPFC   \n",
       "87                                 0.027821       dlPFC   \n",
       "88                                -0.366995       dlPFC   \n",
       "\n",
       "                                  List_of_Coordinates Side  ...  \\\n",
       "3                                       [-43, 35, 30]  NaN  ...   \n",
       "4                                       [-43, 35, 30]    L  ...   \n",
       "6                                        [0, -10, 74]  L_R  ...   \n",
       "7                                         [0, 68, -2]  L_R  ...   \n",
       "8                                       [-43, 35, 30]    L  ...   \n",
       "9                                       [-51, 25, 12]    L  ...   \n",
       "15                                      [-43, 35, 30]    L  ...   \n",
       "17                                      [-43, 35, 30]    L  ...   \n",
       "18                        [-43, 35, 30], [43, 35, 30]  L_R  ...   \n",
       "20                                       [-48, 9, 30]    L  ...   \n",
       "21                                       [-48, 9, 30]    L  ...   \n",
       "22                                       [43, 35, 30]    L  ...   \n",
       "24                                     [-43, -64, 39]    L  ...   \n",
       "25                                     [-43, -64, 39]    L  ...   \n",
       "29                                       [43, 35, 30]  L_R  ...   \n",
       "31                        [-43, 35, 30], [43, 35, 30]  L_R  ...   \n",
       "33                                      [-43, 35, 30]    L  ...   \n",
       "34                                     [-47, -68, 36]    L  ...   \n",
       "35                                     [-43, -64, 39]    L  ...   \n",
       "36                                      [-43, 35, 30]    L  ...   \n",
       "38                                      [-43, 35, 30]    L  ...   \n",
       "39                                       [0, -65, 37]  L_R  ...   \n",
       "43                                      [-43, 35, 30]    R  ...   \n",
       "44                                      [-27, 36, 51]  L_R  ...   \n",
       "47                                      [-43, 35, 30]    L  ...   \n",
       "48                                      [-43, 35, 30]    L  ...   \n",
       "51                                      [-43, 35, 30]    R  ...   \n",
       "52  [-43, 35, 30], [-54, -48, 18], [43, 35, 30], [...  L_R  ...   \n",
       "55                     [-43, 35, 30],  [-65, -44, 25]  L_R  ...   \n",
       "56                                       [43, 35, 30]    R  ...   \n",
       "57                                      [-43, 35, 30]    L  ...   \n",
       "58                                      [-43, 35, 30]    L  ...   \n",
       "59                                      [-43, 35, 30]    L  ...   \n",
       "65                                     [-36, -60, 56]    L  ...   \n",
       "66                                      [-51, 25, 12]    L  ...   \n",
       "68                                      [-43, 35, 30]    L  ...   \n",
       "70                                     [-43, -60, 39]    L  ...   \n",
       "72                                      [-43, 35, 30]    L  ...   \n",
       "73                                      [-43, 35, 30]    L  ...   \n",
       "74                                      [-43, 35, 30]    L  ...   \n",
       "75                                      [-44, 31, 28]    L  ...   \n",
       "78                                       [44, 31, 28]    R  ...   \n",
       "81                                     [-25, -52, 59]    L  ...   \n",
       "82                                      [-43, 35, 30]    L  ...   \n",
       "84                                      [-43, 35, 30]    L  ...   \n",
       "85                                      [-43, 35, 30]    L  ...   \n",
       "86                                      [-43, 35, 30]    L  ...   \n",
       "87                                      [-43, 35, 30]    L  ...   \n",
       "88                                      [-43, 35, 30]    L  ...   \n",
       "\n",
       "   all_datasets_unweighted_avg_r_map_sum  \\\n",
       "3                              -7.513995   \n",
       "4                              -7.513995   \n",
       "6                              -5.495712   \n",
       "7                               8.939184   \n",
       "8                              -7.513995   \n",
       "9                               5.514149   \n",
       "15                             -7.513995   \n",
       "17                             -7.513995   \n",
       "18                             -6.229334   \n",
       "20                            -11.720968   \n",
       "21                            -11.720968   \n",
       "22                              1.284661   \n",
       "24                             12.386953   \n",
       "25                             12.386953   \n",
       "29                              1.284661   \n",
       "31                             -6.229334   \n",
       "33                             -7.513995   \n",
       "34                             11.413505   \n",
       "35                             12.386953   \n",
       "36                             -7.513995   \n",
       "38                             -7.513995   \n",
       "39                             14.775814   \n",
       "43                             -7.513995   \n",
       "44                              5.727656   \n",
       "47                             -7.513995   \n",
       "48                             -7.513995   \n",
       "51                             -7.513995   \n",
       "52                             -4.386354   \n",
       "55                            -11.756751   \n",
       "56                              1.284661   \n",
       "57                             -7.513995   \n",
       "58                             -7.513995   \n",
       "59                             -7.513995   \n",
       "65                             -0.793789   \n",
       "66                              5.514149   \n",
       "68                             -7.513995   \n",
       "70                             12.182944   \n",
       "72                             -7.513995   \n",
       "73                             -7.513995   \n",
       "74                             -7.513995   \n",
       "75                             -5.171773   \n",
       "78                              1.982709   \n",
       "81                             -9.531920   \n",
       "82                             -7.513995   \n",
       "84                             -7.513995   \n",
       "85                             -7.513995   \n",
       "86                             -7.513995   \n",
       "87                             -7.513995   \n",
       "88                             -7.513995   \n",
       "\n",
       "    all_datasets_unweighted_avg_r_map_average_subject_in_target  \\\n",
       "3                                           -0.000033             \n",
       "4                                           -0.000033             \n",
       "6                                           -0.000024             \n",
       "7                                            0.000039             \n",
       "8                                           -0.000033             \n",
       "9                                            0.000024             \n",
       "15                                          -0.000033             \n",
       "17                                          -0.000033             \n",
       "18                                          -0.000027             \n",
       "20                                          -0.000051             \n",
       "21                                          -0.000051             \n",
       "22                                           0.000006             \n",
       "24                                           0.000054             \n",
       "25                                           0.000054             \n",
       "29                                           0.000006             \n",
       "31                                          -0.000027             \n",
       "33                                          -0.000033             \n",
       "34                                           0.000050             \n",
       "35                                           0.000054             \n",
       "36                                          -0.000033             \n",
       "38                                          -0.000033             \n",
       "39                                           0.000065             \n",
       "43                                          -0.000033             \n",
       "44                                           0.000025             \n",
       "47                                          -0.000033             \n",
       "48                                          -0.000033             \n",
       "51                                          -0.000033             \n",
       "52                                          -0.000019             \n",
       "55                                          -0.000051             \n",
       "56                                           0.000006             \n",
       "57                                          -0.000033             \n",
       "58                                          -0.000033             \n",
       "59                                          -0.000033             \n",
       "65                                          -0.000003             \n",
       "66                                           0.000024             \n",
       "68                                          -0.000033             \n",
       "70                                           0.000053             \n",
       "72                                          -0.000033             \n",
       "73                                          -0.000033             \n",
       "74                                          -0.000033             \n",
       "75                                          -0.000023             \n",
       "78                                           0.000009             \n",
       "81                                          -0.000042             \n",
       "82                                          -0.000033             \n",
       "84                                          -0.000033             \n",
       "85                                          -0.000033             \n",
       "86                                          -0.000033             \n",
       "87                                          -0.000033             \n",
       "88                                          -0.000033             \n",
       "\n",
       "   all_datasets_unweighted_avg_r_map_average_target_in_subject  \\\n",
       "3                                           -0.092765            \n",
       "4                                           -0.092765            \n",
       "6                                           -0.101772            \n",
       "7                                            0.159628            \n",
       "8                                           -0.092765            \n",
       "9                                            0.068076            \n",
       "15                                          -0.092765            \n",
       "17                                          -0.092765            \n",
       "18                                          -0.038453            \n",
       "20                                          -0.144703            \n",
       "21                                          -0.144703            \n",
       "22                                           0.015860            \n",
       "24                                           0.152925            \n",
       "25                                           0.152925            \n",
       "29                                           0.015860            \n",
       "31                                          -0.038453            \n",
       "33                                          -0.092765            \n",
       "34                                           0.140907            \n",
       "35                                           0.152925            \n",
       "36                                          -0.092765            \n",
       "38                                          -0.092765            \n",
       "39                                           0.182417            \n",
       "43                                          -0.092765            \n",
       "44                                           0.093896            \n",
       "47                                          -0.092765            \n",
       "48                                          -0.092765            \n",
       "51                                          -0.092765            \n",
       "52                                          -0.009433            \n",
       "55                                          -0.076842            \n",
       "56                                           0.015860            \n",
       "57                                          -0.092765            \n",
       "58                                          -0.092765            \n",
       "59                                          -0.092765            \n",
       "65                                          -0.009800            \n",
       "66                                           0.068076            \n",
       "68                                          -0.092765            \n",
       "70                                           0.150407            \n",
       "72                                          -0.092765            \n",
       "73                                          -0.092765            \n",
       "74                                          -0.092765            \n",
       "75                                          -0.063849            \n",
       "78                                           0.024478            \n",
       "81                                          -0.117678            \n",
       "82                                          -0.092765            \n",
       "84                                          -0.092765            \n",
       "85                                          -0.092765            \n",
       "86                                          -0.092765            \n",
       "87                                          -0.092765            \n",
       "88                                          -0.092765            \n",
       "\n",
       "   all_datasets_unweighted_avg_r_map_num_in_roi  \\\n",
       "3                                           0.0   \n",
       "4                                           0.0   \n",
       "6                                           0.0   \n",
       "7                                           0.0   \n",
       "8                                           0.0   \n",
       "9                                           0.0   \n",
       "15                                          0.0   \n",
       "17                                          0.0   \n",
       "18                                          0.0   \n",
       "20                                          0.0   \n",
       "21                                          0.0   \n",
       "22                                          0.0   \n",
       "24                                          0.0   \n",
       "25                                          0.0   \n",
       "29                                          0.0   \n",
       "31                                          0.0   \n",
       "33                                          0.0   \n",
       "34                                          0.0   \n",
       "35                                          0.0   \n",
       "36                                          0.0   \n",
       "38                                          0.0   \n",
       "39                                          0.0   \n",
       "43                                          0.0   \n",
       "44                                          0.0   \n",
       "47                                          0.0   \n",
       "48                                          0.0   \n",
       "51                                          0.0   \n",
       "52                                          0.0   \n",
       "55                                          0.0   \n",
       "56                                          0.0   \n",
       "57                                          0.0   \n",
       "58                                          0.0   \n",
       "59                                          0.0   \n",
       "65                                          0.0   \n",
       "66                                          0.0   \n",
       "68                                          0.0   \n",
       "70                                          0.0   \n",
       "72                                          0.0   \n",
       "73                                          0.0   \n",
       "74                                          0.0   \n",
       "75                                          0.0   \n",
       "78                                          0.0   \n",
       "81                                          0.0   \n",
       "82                                          0.0   \n",
       "84                                          0.0   \n",
       "85                                          0.0   \n",
       "86                                          0.0   \n",
       "87                                          0.0   \n",
       "88                                          0.0   \n",
       "\n",
       "    all_datasets_weighted_avg_r_map_spatial_corr  \\\n",
       "3                                       0.028445   \n",
       "4                                       0.028445   \n",
       "6                                      -0.000400   \n",
       "7                                      -0.023152   \n",
       "8                                       0.028445   \n",
       "9                                       0.002769   \n",
       "15                                      0.028445   \n",
       "17                                      0.028445   \n",
       "18                                      0.041521   \n",
       "20                                      0.008608   \n",
       "21                                      0.008608   \n",
       "22                                      0.030272   \n",
       "24                                     -0.000024   \n",
       "25                                     -0.000024   \n",
       "29                                      0.030272   \n",
       "31                                      0.041521   \n",
       "33                                      0.028445   \n",
       "34                                     -0.005434   \n",
       "35                                     -0.000024   \n",
       "36                                      0.028445   \n",
       "38                                      0.028445   \n",
       "39                                      0.006720   \n",
       "43                                      0.028445   \n",
       "44                                      0.012314   \n",
       "47                                      0.028445   \n",
       "48                                      0.028445   \n",
       "51                                      0.028445   \n",
       "52                                      0.021912   \n",
       "55                                      0.020841   \n",
       "56                                      0.030272   \n",
       "57                                      0.028445   \n",
       "58                                      0.028445   \n",
       "59                                      0.028445   \n",
       "65                                      0.013062   \n",
       "66                                      0.002769   \n",
       "68                                      0.028445   \n",
       "70                                      0.004290   \n",
       "72                                      0.028445   \n",
       "73                                      0.028445   \n",
       "74                                      0.028445   \n",
       "75                                      0.024377   \n",
       "78                                      0.027316   \n",
       "81                                     -0.009800   \n",
       "82                                      0.028445   \n",
       "84                                      0.028445   \n",
       "85                                      0.028445   \n",
       "86                                      0.028445   \n",
       "87                                      0.028445   \n",
       "88                                      0.028445   \n",
       "\n",
       "    all_datasets_weighted_avg_r_map_cosine  \\\n",
       "3                                 0.027884   \n",
       "4                                 0.027884   \n",
       "6                                -0.000822   \n",
       "7                                -0.023547   \n",
       "8                                 0.027884   \n",
       "9                                 0.002247   \n",
       "15                                0.027884   \n",
       "17                                0.027884   \n",
       "18                                0.040724   \n",
       "20                                0.008077   \n",
       "21                                0.008077   \n",
       "22                                0.029708   \n",
       "24                               -0.000542   \n",
       "25                               -0.000542   \n",
       "29                                0.029708   \n",
       "31                                0.040724   \n",
       "33                                0.027884   \n",
       "34                               -0.005943   \n",
       "35                               -0.000542   \n",
       "36                                0.027884   \n",
       "38                                0.027884   \n",
       "39                                0.006193   \n",
       "43                                0.027884   \n",
       "44                                0.011847   \n",
       "47                                0.027884   \n",
       "48                                0.027884   \n",
       "51                                0.027884   \n",
       "52                                0.020634   \n",
       "55                                0.020097   \n",
       "56                                0.029708   \n",
       "57                                0.027884   \n",
       "58                                0.027884   \n",
       "59                                0.027884   \n",
       "65                                0.012524   \n",
       "66                                0.002247   \n",
       "68                                0.027884   \n",
       "70                                0.003766   \n",
       "72                                0.027884   \n",
       "73                                0.027884   \n",
       "74                                0.027884   \n",
       "75                                0.023822   \n",
       "78                                0.026756   \n",
       "81                               -0.010302   \n",
       "82                                0.027884   \n",
       "84                                0.027884   \n",
       "85                                0.027884   \n",
       "86                                0.027884   \n",
       "87                                0.027884   \n",
       "88                                0.027884   \n",
       "\n",
       "    all_datasets_weighted_avg_r_map_sum  \\\n",
       "3                             29.955387   \n",
       "4                             29.955387   \n",
       "6                             -0.720782   \n",
       "7                            -21.033018   \n",
       "8                             29.955387   \n",
       "9                              2.413966   \n",
       "15                            29.955387   \n",
       "17                            29.955387   \n",
       "18                            61.870266   \n",
       "20                             8.677006   \n",
       "21                             8.677006   \n",
       "22                            31.914879   \n",
       "24                            -0.581938   \n",
       "25                            -0.581938   \n",
       "29                            31.914879   \n",
       "31                            61.870266   \n",
       "33                            29.955387   \n",
       "34                            -6.384244   \n",
       "35                            -0.581938   \n",
       "36                            29.955387   \n",
       "38                            29.955387   \n",
       "39                             6.652765   \n",
       "43                            29.955387   \n",
       "44                            11.044020   \n",
       "47                            29.955387   \n",
       "48                            29.955387   \n",
       "51                            29.955387   \n",
       "52                            53.111398   \n",
       "55                            29.672699   \n",
       "56                            31.914879   \n",
       "57                            29.955387   \n",
       "58                            29.955387   \n",
       "59                            29.955387   \n",
       "65                            13.454664   \n",
       "66                             2.413966   \n",
       "68                            29.955387   \n",
       "70                             4.045393   \n",
       "72                            29.955387   \n",
       "73                            29.955387   \n",
       "74                            29.955387   \n",
       "75                            25.591686   \n",
       "78                            28.743494   \n",
       "81                           -11.066970   \n",
       "82                            29.955387   \n",
       "84                            29.955387   \n",
       "85                            29.955387   \n",
       "86                            29.955387   \n",
       "87                            29.955387   \n",
       "88                            29.955387   \n",
       "\n",
       "    all_datasets_weighted_avg_r_map_average_subject_in_target  \\\n",
       "3                                            0.000131           \n",
       "4                                            0.000131           \n",
       "6                                           -0.000003           \n",
       "7                                           -0.000092           \n",
       "8                                            0.000131           \n",
       "9                                            0.000011           \n",
       "15                                           0.000131           \n",
       "17                                           0.000131           \n",
       "18                                           0.000271           \n",
       "20                                           0.000038           \n",
       "21                                           0.000038           \n",
       "22                                           0.000140           \n",
       "24                                          -0.000003           \n",
       "25                                          -0.000003           \n",
       "29                                           0.000140           \n",
       "31                                           0.000271           \n",
       "33                                           0.000131           \n",
       "34                                          -0.000028           \n",
       "35                                          -0.000003           \n",
       "36                                           0.000131           \n",
       "38                                           0.000131           \n",
       "39                                           0.000029           \n",
       "43                                           0.000131           \n",
       "44                                           0.000048           \n",
       "47                                           0.000131           \n",
       "48                                           0.000131           \n",
       "51                                           0.000131           \n",
       "52                                           0.000232           \n",
       "55                                           0.000130           \n",
       "56                                           0.000140           \n",
       "57                                           0.000131           \n",
       "58                                           0.000131           \n",
       "59                                           0.000131           \n",
       "65                                           0.000059           \n",
       "66                                           0.000011           \n",
       "68                                           0.000131           \n",
       "70                                           0.000018           \n",
       "72                                           0.000131           \n",
       "73                                           0.000131           \n",
       "74                                           0.000131           \n",
       "75                                           0.000112           \n",
       "78                                           0.000126           \n",
       "81                                          -0.000048           \n",
       "82                                           0.000131           \n",
       "84                                           0.000131           \n",
       "85                                           0.000131           \n",
       "86                                           0.000131           \n",
       "87                                           0.000131           \n",
       "88                                           0.000131           \n",
       "\n",
       "   all_datasets_weighted_avg_r_map_average_target_in_subject  \\\n",
       "3                                            0.369820          \n",
       "4                                            0.369820          \n",
       "6                                           -0.013348          \n",
       "7                                           -0.375590          \n",
       "8                                            0.369820          \n",
       "9                                            0.029802          \n",
       "15                                           0.369820          \n",
       "17                                           0.369820          \n",
       "18                                           0.381915          \n",
       "20                                           0.107124          \n",
       "21                                           0.107124          \n",
       "22                                           0.394011          \n",
       "24                                          -0.007184          \n",
       "25                                          -0.007184          \n",
       "29                                           0.394011          \n",
       "31                                           0.381915          \n",
       "33                                           0.369820          \n",
       "34                                          -0.078818          \n",
       "35                                          -0.007184          \n",
       "36                                           0.369820          \n",
       "38                                           0.369820          \n",
       "39                                           0.082133          \n",
       "43                                           0.369820          \n",
       "44                                           0.181050          \n",
       "47                                           0.369820          \n",
       "48                                           0.369820          \n",
       "51                                           0.369820          \n",
       "52                                           0.114218          \n",
       "55                                           0.193939          \n",
       "56                                           0.394011          \n",
       "57                                           0.369820          \n",
       "58                                           0.369820          \n",
       "59                                           0.369820          \n",
       "65                                           0.166107          \n",
       "66                                           0.029802          \n",
       "68                                           0.369820          \n",
       "70                                           0.049943          \n",
       "72                                           0.369820          \n",
       "73                                           0.369820          \n",
       "74                                           0.369820          \n",
       "75                                           0.315947          \n",
       "78                                           0.354858          \n",
       "81                                          -0.136629          \n",
       "82                                           0.369820          \n",
       "84                                           0.369820          \n",
       "85                                           0.369820          \n",
       "86                                           0.369820          \n",
       "87                                           0.369820          \n",
       "88                                           0.369820          \n",
       "\n",
       "   all_datasets_weighted_avg_r_map_num_in_roi  \n",
       "3                                         0.0  \n",
       "4                                         0.0  \n",
       "6                                         0.0  \n",
       "7                                         0.0  \n",
       "8                                         0.0  \n",
       "9                                         0.0  \n",
       "15                                        0.0  \n",
       "17                                        0.0  \n",
       "18                                        0.0  \n",
       "20                                        0.0  \n",
       "21                                        0.0  \n",
       "22                                        0.0  \n",
       "24                                        0.0  \n",
       "25                                        0.0  \n",
       "29                                        0.0  \n",
       "31                                        0.0  \n",
       "33                                        0.0  \n",
       "34                                        0.0  \n",
       "35                                        0.0  \n",
       "36                                        0.0  \n",
       "38                                        0.0  \n",
       "39                                        0.0  \n",
       "43                                        0.0  \n",
       "44                                        0.0  \n",
       "47                                        0.0  \n",
       "48                                        0.0  \n",
       "51                                        0.0  \n",
       "52                                        0.0  \n",
       "55                                        0.0  \n",
       "56                                        0.0  \n",
       "57                                        0.0  \n",
       "58                                        0.0  \n",
       "59                                        0.0  \n",
       "65                                        0.0  \n",
       "66                                        0.0  \n",
       "68                                        0.0  \n",
       "70                                        0.0  \n",
       "72                                        0.0  \n",
       "73                                        0.0  \n",
       "74                                        0.0  \n",
       "75                                        0.0  \n",
       "78                                        0.0  \n",
       "81                                        0.0  \n",
       "82                                        0.0  \n",
       "84                                        0.0  \n",
       "85                                        0.0  \n",
       "86                                        0.0  \n",
       "87                                        0.0  \n",
       "88                                        0.0  \n",
       "\n",
       "[49 rows x 70 columns]"
      ]
     },
     "metadata": {},
     "output_type": "display_data"
    }
   ],
   "source": [
    "data_df, other_df = cal_palm.drop_rows_based_on_value(column, condition, value)\n",
    "display(data_df)"
   ]
  },
  {
   "cell_type": "markdown",
   "metadata": {},
   "source": [
    "**Standardize Data**\n",
    "- Enter Columns you Don't want to standardize into a list"
   ]
  },
  {
   "cell_type": "code",
   "execution_count": 13,
   "metadata": {},
   "outputs": [
    {
     "data": {
      "text/plain": [
       "Index(['study', 'PMID', 'DOI', 'ses', 'N', 'Reported_Outcome',\n",
       "       'Pre_Post_Memory_Effect_Size__Cohen_s_D_', 'Location',\n",
       "       'List_of_Coordinates', 'Side', 'Frequency__Hz_', 'Magnitude__V_',\n",
       "       'Stim_Relative_to_Memory_Cycle', 'Stim_Info', 'Closed_Loop',\n",
       "       'Years_Between_Measurements', 'Mean_Age', 'Stdev_Age', 'Percent_Female',\n",
       "       'Disease', 'Test', 'Recall_Subtype', 'Sensory_Domain',\n",
       "       'Memory_Primary_Outcome', 'Control_Group', 'Notes', 'pooled_stdev',\n",
       "       'experimental_baseline_mean', 'experimental_baseline_stdev', 'N_1',\n",
       "       'Break', 'experimental_post_mean', 'experimental_post_stdev',\n",
       "       'experimental_post_n', 'PDF_Downloaded', 'PDF_Path', 'Break_1',\n",
       "       'Is_the_primary_outcome_of_this_manuscript_about_memory___Yes_No_',\n",
       "       'Does_this_manuscript_use_transcranial_magnetic_stimulation__TMS____Yes_No_',\n",
       "       'Does_this_manuscript_report_memory_outcomes___Yes_No_',\n",
       "       'To_what_region_of_the_brain_was_TMS_delivered',\n",
       "       'Did_the_study_report_TMS_improved__worsened__or_had_not_effect_on_memory',\n",
       "       'What_was_the_mean_age_of_the_patients_in_the_study_',\n",
       "       'What_diagnosis_did_the_patients_have__or_were_they_healthy_',\n",
       "       'What_was_the_frequency_of_TMS_used_in_this_study__For_example__options_are__low_freuqnecy_rTMS___1Hz___hi_frequency_rTMS___10Hz___and_theta_burst__often_50Hz_',\n",
       "       'Is_there_enough_information_to_determine_the_stimulation_site__specifically_to_derive_a_coordinate_of_stimulation_',\n",
       "       'What_test_was_used_to_measure_memory_',\n",
       "       'Was_verbal_or_visual_memory_measured_',\n",
       "       'Was_this_manuscript_primarily_about_the_influence_of_TMS_on_memory__Or_was_memory_tacked_on_to_a_different_primary_outcome_',\n",
       "       'What_was_the_duration_between_TMS_and_measurement__How_many_days__weeks__or_months_apart_were_the_initial_and_post_TMS_evaluations_',\n",
       "       'When_was_the_TMS_administered_relative_to_mmory__Was_it_during_encoding__presentation_of_stimulus___in_consolidation__after_stimulus___during_recall__during_recall___or_priming__such_as_before_testing__like_when_TMS_is_given_every_day_for_weeks_between_sessions__',\n",
       "       'path', 'train_prune_test_performs_highly_spatial_corr',\n",
       "       'train_prune_test_performs_highly_cosine',\n",
       "       'train_prune_test_performs_highly_sum',\n",
       "       'train_prune_test_performs_highly_average_subject_in_target',\n",
       "       'train_prune_test_performs_highly_average_target_in_subject',\n",
       "       'train_prune_test_performs_highly_num_in_roi',\n",
       "       'all_datasets_unweighted_avg_r_map_spatial_corr',\n",
       "       'all_datasets_unweighted_avg_r_map_cosine',\n",
       "       'all_datasets_unweighted_avg_r_map_sum',\n",
       "       'all_datasets_unweighted_avg_r_map_average_subject_in_target',\n",
       "       'all_datasets_unweighted_avg_r_map_average_target_in_subject',\n",
       "       'all_datasets_unweighted_avg_r_map_num_in_roi',\n",
       "       'all_datasets_weighted_avg_r_map_spatial_corr',\n",
       "       'all_datasets_weighted_avg_r_map_cosine',\n",
       "       'all_datasets_weighted_avg_r_map_sum',\n",
       "       'all_datasets_weighted_avg_r_map_average_subject_in_target',\n",
       "       'all_datasets_weighted_avg_r_map_average_target_in_subject',\n",
       "       'all_datasets_weighted_avg_r_map_num_in_roi'],\n",
       "      dtype='object')"
      ]
     },
     "execution_count": 13,
     "metadata": {},
     "output_type": "execute_result"
    }
   ],
   "source": [
    "data_df.columns"
   ]
  },
  {
   "cell_type": "code",
   "execution_count": 14,
   "metadata": {},
   "outputs": [],
   "source": [
    "# Remove anything you don't want to standardize\n",
    "cols_not_to_standardize = [\"Pre_Post_Memory_Effect_Size__Cohen's_D_\", \"Stim_Relative_to_Memory_Cycle\", \"Mean_Age\"] #['Age']\n",
    "# drop_list = ['CorrWithSiddiqiMap', 'depression_raw_baeline', 'depression_raw_follow_up']"
   ]
  },
  {
   "cell_type": "code",
   "execution_count": 15,
   "metadata": {},
   "outputs": [
    {
     "data": {
      "text/html": [
       "<div>\n",
       "<style scoped>\n",
       "    .dataframe tbody tr th:only-of-type {\n",
       "        vertical-align: middle;\n",
       "    }\n",
       "\n",
       "    .dataframe tbody tr th {\n",
       "        vertical-align: top;\n",
       "    }\n",
       "\n",
       "    .dataframe thead th {\n",
       "        text-align: right;\n",
       "    }\n",
       "</style>\n",
       "<table border=\"1\" class=\"dataframe\">\n",
       "  <thead>\n",
       "    <tr style=\"text-align: right;\">\n",
       "      <th></th>\n",
       "      <th>study</th>\n",
       "      <th>PMID</th>\n",
       "      <th>DOI</th>\n",
       "      <th>ses</th>\n",
       "      <th>N</th>\n",
       "      <th>Reported_Outcome</th>\n",
       "      <th>Pre_Post_Memory_Effect_Size__Cohen_s_D_</th>\n",
       "      <th>Location</th>\n",
       "      <th>List_of_Coordinates</th>\n",
       "      <th>Side</th>\n",
       "      <th>...</th>\n",
       "      <th>all_datasets_unweighted_avg_r_map_sum</th>\n",
       "      <th>all_datasets_unweighted_avg_r_map_average_subject_in_target</th>\n",
       "      <th>all_datasets_unweighted_avg_r_map_average_target_in_subject</th>\n",
       "      <th>all_datasets_unweighted_avg_r_map_num_in_roi</th>\n",
       "      <th>all_datasets_weighted_avg_r_map_spatial_corr</th>\n",
       "      <th>all_datasets_weighted_avg_r_map_cosine</th>\n",
       "      <th>all_datasets_weighted_avg_r_map_sum</th>\n",
       "      <th>all_datasets_weighted_avg_r_map_average_subject_in_target</th>\n",
       "      <th>all_datasets_weighted_avg_r_map_average_target_in_subject</th>\n",
       "      <th>all_datasets_weighted_avg_r_map_num_in_roi</th>\n",
       "    </tr>\n",
       "  </thead>\n",
       "  <tbody>\n",
       "    <tr>\n",
       "      <th>3</th>\n",
       "      <td>Avirame 2016</td>\n",
       "      <td>27159441</td>\n",
       "      <td>10.1097/YCT.0000000000000286</td>\n",
       "      <td>dlPFC__hfrTMS</td>\n",
       "      <td>11.0</td>\n",
       "      <td>Improved</td>\n",
       "      <td>0.570039</td>\n",
       "      <td>dlPFC</td>\n",
       "      <td>[-43, 35, 30]</td>\n",
       "      <td>NaN</td>\n",
       "      <td>...</td>\n",
       "      <td>-7.513995</td>\n",
       "      <td>-0.000033</td>\n",
       "      <td>-0.092765</td>\n",
       "      <td>0.0</td>\n",
       "      <td>0.028445</td>\n",
       "      <td>0.027884</td>\n",
       "      <td>29.955387</td>\n",
       "      <td>0.000131</td>\n",
       "      <td>0.369820</td>\n",
       "      <td>0.0</td>\n",
       "    </tr>\n",
       "    <tr>\n",
       "      <th>4</th>\n",
       "      <td>Bagattini 2020b</td>\n",
       "      <td>33002645</td>\n",
       "      <td>10.1016/j.brs.2020.09.010</td>\n",
       "      <td>dlPFC_L_hfrTMS</td>\n",
       "      <td>50.0</td>\n",
       "      <td>Improved</td>\n",
       "      <td>0.275026</td>\n",
       "      <td>dlPFC</td>\n",
       "      <td>[-43, 35, 30]</td>\n",
       "      <td>L</td>\n",
       "      <td>...</td>\n",
       "      <td>-7.513995</td>\n",
       "      <td>-0.000033</td>\n",
       "      <td>-0.092765</td>\n",
       "      <td>0.0</td>\n",
       "      <td>0.028445</td>\n",
       "      <td>0.027884</td>\n",
       "      <td>29.955387</td>\n",
       "      <td>0.000131</td>\n",
       "      <td>0.369820</td>\n",
       "      <td>0.0</td>\n",
       "    </tr>\n",
       "    <tr>\n",
       "      <th>6</th>\n",
       "      <td>Berkers 2017</td>\n",
       "      <td>28068640</td>\n",
       "      <td>10.1016/j.cortex.2016.12.015</td>\n",
       "      <td>Vertex_L_R_thetaTMS</td>\n",
       "      <td>17.0</td>\n",
       "      <td>Improved</td>\n",
       "      <td>0.164150</td>\n",
       "      <td>Vertex</td>\n",
       "      <td>[0, -10, 74]</td>\n",
       "      <td>L_R</td>\n",
       "      <td>...</td>\n",
       "      <td>-5.495712</td>\n",
       "      <td>-0.000024</td>\n",
       "      <td>-0.101772</td>\n",
       "      <td>0.0</td>\n",
       "      <td>-0.000400</td>\n",
       "      <td>-0.000822</td>\n",
       "      <td>-0.720782</td>\n",
       "      <td>-0.000003</td>\n",
       "      <td>-0.013348</td>\n",
       "      <td>0.0</td>\n",
       "    </tr>\n",
       "    <tr>\n",
       "      <th>7</th>\n",
       "      <td>Berkers 2017</td>\n",
       "      <td>28068640</td>\n",
       "      <td>10.1016/j.cortex.2016.12.015</td>\n",
       "      <td>mPFC_L_R_thetaTMS</td>\n",
       "      <td>17.0</td>\n",
       "      <td>Improved</td>\n",
       "      <td>-0.328300</td>\n",
       "      <td>mPFC</td>\n",
       "      <td>[0, 68, -2]</td>\n",
       "      <td>L_R</td>\n",
       "      <td>...</td>\n",
       "      <td>8.939184</td>\n",
       "      <td>0.000039</td>\n",
       "      <td>0.159628</td>\n",
       "      <td>0.0</td>\n",
       "      <td>-0.023152</td>\n",
       "      <td>-0.023547</td>\n",
       "      <td>-21.033018</td>\n",
       "      <td>-0.000092</td>\n",
       "      <td>-0.375590</td>\n",
       "      <td>0.0</td>\n",
       "    </tr>\n",
       "    <tr>\n",
       "      <th>8</th>\n",
       "      <td>Blumenfeld 2013</td>\n",
       "      <td>24316198</td>\n",
       "      <td>10.1016/j.neuropsychologia.2013.11.021</td>\n",
       "      <td>dlPFC_L_thetaTMS</td>\n",
       "      <td>29.0</td>\n",
       "      <td>Improved</td>\n",
       "      <td>-0.286484</td>\n",
       "      <td>dlPFC</td>\n",
       "      <td>[-43, 35, 30]</td>\n",
       "      <td>L</td>\n",
       "      <td>...</td>\n",
       "      <td>-7.513995</td>\n",
       "      <td>-0.000033</td>\n",
       "      <td>-0.092765</td>\n",
       "      <td>0.0</td>\n",
       "      <td>0.028445</td>\n",
       "      <td>0.027884</td>\n",
       "      <td>29.955387</td>\n",
       "      <td>0.000131</td>\n",
       "      <td>0.369820</td>\n",
       "      <td>0.0</td>\n",
       "    </tr>\n",
       "    <tr>\n",
       "      <th>...</th>\n",
       "      <td>...</td>\n",
       "      <td>...</td>\n",
       "      <td>...</td>\n",
       "      <td>...</td>\n",
       "      <td>...</td>\n",
       "      <td>...</td>\n",
       "      <td>...</td>\n",
       "      <td>...</td>\n",
       "      <td>...</td>\n",
       "      <td>...</td>\n",
       "      <td>...</td>\n",
       "      <td>...</td>\n",
       "      <td>...</td>\n",
       "      <td>...</td>\n",
       "      <td>...</td>\n",
       "      <td>...</td>\n",
       "      <td>...</td>\n",
       "      <td>...</td>\n",
       "      <td>...</td>\n",
       "      <td>...</td>\n",
       "      <td>...</td>\n",
       "    </tr>\n",
       "    <tr>\n",
       "      <th>84</th>\n",
       "      <td>Wassermann 1996</td>\n",
       "      <td>NaN</td>\n",
       "      <td>https://doi.org/10.1016/0924-980X(96)96004-X</td>\n",
       "      <td>dlPFC_L_hfrTMS</td>\n",
       "      <td>6.0</td>\n",
       "      <td>Improved</td>\n",
       "      <td>0.410792</td>\n",
       "      <td>dlPFC</td>\n",
       "      <td>[-43, 35, 30]</td>\n",
       "      <td>L</td>\n",
       "      <td>...</td>\n",
       "      <td>-7.513995</td>\n",
       "      <td>-0.000033</td>\n",
       "      <td>-0.092765</td>\n",
       "      <td>0.0</td>\n",
       "      <td>0.028445</td>\n",
       "      <td>0.027884</td>\n",
       "      <td>29.955387</td>\n",
       "      <td>0.000131</td>\n",
       "      <td>0.369820</td>\n",
       "      <td>0.0</td>\n",
       "    </tr>\n",
       "    <tr>\n",
       "      <th>85</th>\n",
       "      <td>Wu 2020</td>\n",
       "      <td>31884184</td>\n",
       "      <td>10.1016/j.brs.2019.12.020</td>\n",
       "      <td>dlPFC_L_thetaTMS</td>\n",
       "      <td>12.0</td>\n",
       "      <td>Improved</td>\n",
       "      <td>1.107823</td>\n",
       "      <td>dlPFC</td>\n",
       "      <td>[-43, 35, 30]</td>\n",
       "      <td>L</td>\n",
       "      <td>...</td>\n",
       "      <td>-7.513995</td>\n",
       "      <td>-0.000033</td>\n",
       "      <td>-0.092765</td>\n",
       "      <td>0.0</td>\n",
       "      <td>0.028445</td>\n",
       "      <td>0.027884</td>\n",
       "      <td>29.955387</td>\n",
       "      <td>0.000131</td>\n",
       "      <td>0.369820</td>\n",
       "      <td>0.0</td>\n",
       "    </tr>\n",
       "    <tr>\n",
       "      <th>86</th>\n",
       "      <td>Xiu 2020</td>\n",
       "      <td>32185388</td>\n",
       "      <td>10.1093/schbul/sbaa035</td>\n",
       "      <td>dlPFC_L_hfrTMS</td>\n",
       "      <td>110.0</td>\n",
       "      <td>Improved</td>\n",
       "      <td>0.821585</td>\n",
       "      <td>dlPFC</td>\n",
       "      <td>[-43, 35, 30]</td>\n",
       "      <td>L</td>\n",
       "      <td>...</td>\n",
       "      <td>-7.513995</td>\n",
       "      <td>-0.000033</td>\n",
       "      <td>-0.092765</td>\n",
       "      <td>0.0</td>\n",
       "      <td>0.028445</td>\n",
       "      <td>0.027884</td>\n",
       "      <td>29.955387</td>\n",
       "      <td>0.000131</td>\n",
       "      <td>0.369820</td>\n",
       "      <td>0.0</td>\n",
       "    </tr>\n",
       "    <tr>\n",
       "      <th>87</th>\n",
       "      <td>Yang 2019</td>\n",
       "      <td>30795490</td>\n",
       "      <td>10.1016/j.jad.2018.12.102</td>\n",
       "      <td>dlPFC_L_hfrTMS</td>\n",
       "      <td>52.0</td>\n",
       "      <td>Improved</td>\n",
       "      <td>0.027821</td>\n",
       "      <td>dlPFC</td>\n",
       "      <td>[-43, 35, 30]</td>\n",
       "      <td>L</td>\n",
       "      <td>...</td>\n",
       "      <td>-7.513995</td>\n",
       "      <td>-0.000033</td>\n",
       "      <td>-0.092765</td>\n",
       "      <td>0.0</td>\n",
       "      <td>0.028445</td>\n",
       "      <td>0.027884</td>\n",
       "      <td>29.955387</td>\n",
       "      <td>0.000131</td>\n",
       "      <td>0.369820</td>\n",
       "      <td>0.0</td>\n",
       "    </tr>\n",
       "    <tr>\n",
       "      <th>88</th>\n",
       "      <td>Zhuo 2019</td>\n",
       "      <td>31190822</td>\n",
       "      <td>10.2147/NDT.S196086</td>\n",
       "      <td>dlPFC_L_hfrTMS</td>\n",
       "      <td>60.0</td>\n",
       "      <td>Mixed</td>\n",
       "      <td>-0.366995</td>\n",
       "      <td>dlPFC</td>\n",
       "      <td>[-43, 35, 30]</td>\n",
       "      <td>L</td>\n",
       "      <td>...</td>\n",
       "      <td>-7.513995</td>\n",
       "      <td>-0.000033</td>\n",
       "      <td>-0.092765</td>\n",
       "      <td>0.0</td>\n",
       "      <td>0.028445</td>\n",
       "      <td>0.027884</td>\n",
       "      <td>29.955387</td>\n",
       "      <td>0.000131</td>\n",
       "      <td>0.369820</td>\n",
       "      <td>0.0</td>\n",
       "    </tr>\n",
       "  </tbody>\n",
       "</table>\n",
       "<p>75 rows × 70 columns</p>\n",
       "</div>"
      ],
      "text/plain": [
       "              study      PMID                                           DOI  \\\n",
       "3      Avirame 2016  27159441                  10.1097/YCT.0000000000000286   \n",
       "4   Bagattini 2020b  33002645                     10.1016/j.brs.2020.09.010   \n",
       "6      Berkers 2017  28068640                  10.1016/j.cortex.2016.12.015   \n",
       "7      Berkers 2017  28068640                  10.1016/j.cortex.2016.12.015   \n",
       "8   Blumenfeld 2013  24316198        10.1016/j.neuropsychologia.2013.11.021   \n",
       "..              ...       ...                                           ...   \n",
       "84  Wassermann 1996       NaN  https://doi.org/10.1016/0924-980X(96)96004-X   \n",
       "85          Wu 2020  31884184                     10.1016/j.brs.2019.12.020   \n",
       "86         Xiu 2020  32185388                        10.1093/schbul/sbaa035   \n",
       "87        Yang 2019  30795490                     10.1016/j.jad.2018.12.102   \n",
       "88        Zhuo 2019  31190822                           10.2147/NDT.S196086   \n",
       "\n",
       "                    ses      N Reported_Outcome  \\\n",
       "3         dlPFC__hfrTMS   11.0         Improved   \n",
       "4        dlPFC_L_hfrTMS   50.0         Improved   \n",
       "6   Vertex_L_R_thetaTMS   17.0         Improved   \n",
       "7     mPFC_L_R_thetaTMS   17.0         Improved   \n",
       "8      dlPFC_L_thetaTMS   29.0         Improved   \n",
       "..                  ...    ...              ...   \n",
       "84       dlPFC_L_hfrTMS    6.0         Improved   \n",
       "85     dlPFC_L_thetaTMS   12.0         Improved   \n",
       "86       dlPFC_L_hfrTMS  110.0         Improved   \n",
       "87       dlPFC_L_hfrTMS   52.0         Improved   \n",
       "88       dlPFC_L_hfrTMS   60.0            Mixed   \n",
       "\n",
       "    Pre_Post_Memory_Effect_Size__Cohen_s_D_ Location List_of_Coordinates Side  \\\n",
       "3                                  0.570039    dlPFC       [-43, 35, 30]  NaN   \n",
       "4                                  0.275026    dlPFC       [-43, 35, 30]    L   \n",
       "6                                  0.164150   Vertex        [0, -10, 74]  L_R   \n",
       "7                                 -0.328300     mPFC         [0, 68, -2]  L_R   \n",
       "8                                 -0.286484    dlPFC       [-43, 35, 30]    L   \n",
       "..                                      ...      ...                 ...  ...   \n",
       "84                                 0.410792    dlPFC       [-43, 35, 30]    L   \n",
       "85                                 1.107823    dlPFC       [-43, 35, 30]    L   \n",
       "86                                 0.821585    dlPFC       [-43, 35, 30]    L   \n",
       "87                                 0.027821    dlPFC       [-43, 35, 30]    L   \n",
       "88                                -0.366995    dlPFC       [-43, 35, 30]    L   \n",
       "\n",
       "    ... all_datasets_unweighted_avg_r_map_sum  \\\n",
       "3   ...                             -7.513995   \n",
       "4   ...                             -7.513995   \n",
       "6   ...                             -5.495712   \n",
       "7   ...                              8.939184   \n",
       "8   ...                             -7.513995   \n",
       "..  ...                                   ...   \n",
       "84  ...                             -7.513995   \n",
       "85  ...                             -7.513995   \n",
       "86  ...                             -7.513995   \n",
       "87  ...                             -7.513995   \n",
       "88  ...                             -7.513995   \n",
       "\n",
       "    all_datasets_unweighted_avg_r_map_average_subject_in_target  \\\n",
       "3                                           -0.000033             \n",
       "4                                           -0.000033             \n",
       "6                                           -0.000024             \n",
       "7                                            0.000039             \n",
       "8                                           -0.000033             \n",
       "..                                                ...             \n",
       "84                                          -0.000033             \n",
       "85                                          -0.000033             \n",
       "86                                          -0.000033             \n",
       "87                                          -0.000033             \n",
       "88                                          -0.000033             \n",
       "\n",
       "   all_datasets_unweighted_avg_r_map_average_target_in_subject  \\\n",
       "3                                           -0.092765            \n",
       "4                                           -0.092765            \n",
       "6                                           -0.101772            \n",
       "7                                            0.159628            \n",
       "8                                           -0.092765            \n",
       "..                                                ...            \n",
       "84                                          -0.092765            \n",
       "85                                          -0.092765            \n",
       "86                                          -0.092765            \n",
       "87                                          -0.092765            \n",
       "88                                          -0.092765            \n",
       "\n",
       "   all_datasets_unweighted_avg_r_map_num_in_roi  \\\n",
       "3                                           0.0   \n",
       "4                                           0.0   \n",
       "6                                           0.0   \n",
       "7                                           0.0   \n",
       "8                                           0.0   \n",
       "..                                          ...   \n",
       "84                                          0.0   \n",
       "85                                          0.0   \n",
       "86                                          0.0   \n",
       "87                                          0.0   \n",
       "88                                          0.0   \n",
       "\n",
       "    all_datasets_weighted_avg_r_map_spatial_corr  \\\n",
       "3                                       0.028445   \n",
       "4                                       0.028445   \n",
       "6                                      -0.000400   \n",
       "7                                      -0.023152   \n",
       "8                                       0.028445   \n",
       "..                                           ...   \n",
       "84                                      0.028445   \n",
       "85                                      0.028445   \n",
       "86                                      0.028445   \n",
       "87                                      0.028445   \n",
       "88                                      0.028445   \n",
       "\n",
       "    all_datasets_weighted_avg_r_map_cosine  \\\n",
       "3                                 0.027884   \n",
       "4                                 0.027884   \n",
       "6                                -0.000822   \n",
       "7                                -0.023547   \n",
       "8                                 0.027884   \n",
       "..                                     ...   \n",
       "84                                0.027884   \n",
       "85                                0.027884   \n",
       "86                                0.027884   \n",
       "87                                0.027884   \n",
       "88                                0.027884   \n",
       "\n",
       "    all_datasets_weighted_avg_r_map_sum  \\\n",
       "3                             29.955387   \n",
       "4                             29.955387   \n",
       "6                             -0.720782   \n",
       "7                            -21.033018   \n",
       "8                             29.955387   \n",
       "..                                  ...   \n",
       "84                            29.955387   \n",
       "85                            29.955387   \n",
       "86                            29.955387   \n",
       "87                            29.955387   \n",
       "88                            29.955387   \n",
       "\n",
       "    all_datasets_weighted_avg_r_map_average_subject_in_target  \\\n",
       "3                                            0.000131           \n",
       "4                                            0.000131           \n",
       "6                                           -0.000003           \n",
       "7                                           -0.000092           \n",
       "8                                            0.000131           \n",
       "..                                                ...           \n",
       "84                                           0.000131           \n",
       "85                                           0.000131           \n",
       "86                                           0.000131           \n",
       "87                                           0.000131           \n",
       "88                                           0.000131           \n",
       "\n",
       "   all_datasets_weighted_avg_r_map_average_target_in_subject  \\\n",
       "3                                            0.369820          \n",
       "4                                            0.369820          \n",
       "6                                           -0.013348          \n",
       "7                                           -0.375590          \n",
       "8                                            0.369820          \n",
       "..                                                ...          \n",
       "84                                           0.369820          \n",
       "85                                           0.369820          \n",
       "86                                           0.369820          \n",
       "87                                           0.369820          \n",
       "88                                           0.369820          \n",
       "\n",
       "   all_datasets_weighted_avg_r_map_num_in_roi  \n",
       "3                                         0.0  \n",
       "4                                         0.0  \n",
       "6                                         0.0  \n",
       "7                                         0.0  \n",
       "8                                         0.0  \n",
       "..                                        ...  \n",
       "84                                        0.0  \n",
       "85                                        0.0  \n",
       "86                                        0.0  \n",
       "87                                        0.0  \n",
       "88                                        0.0  \n",
       "\n",
       "[75 rows x 70 columns]"
      ]
     },
     "execution_count": 15,
     "metadata": {},
     "output_type": "execute_result"
    }
   ],
   "source": [
    "# data_df = cal_palm.standardize_columns(cols_not_to_standardize)\n",
    "data_df"
   ]
  },
  {
   "cell_type": "code",
   "execution_count": 16,
   "metadata": {},
   "outputs": [
    {
     "data": {
      "text/plain": [
       "Index(['study', 'PMID', 'DOI', 'ses', 'N', 'Reported_Outcome',\n",
       "       'Pre_Post_Memory_Effect_Size__Cohen_s_D_', 'Location',\n",
       "       'List_of_Coordinates', 'Side', 'Frequency__Hz_', 'Magnitude__V_',\n",
       "       'Stim_Relative_to_Memory_Cycle', 'Stim_Info', 'Closed_Loop',\n",
       "       'Years_Between_Measurements', 'Mean_Age', 'Stdev_Age', 'Percent_Female',\n",
       "       'Disease', 'Test', 'Recall_Subtype', 'Sensory_Domain',\n",
       "       'Memory_Primary_Outcome', 'Control_Group', 'Notes', 'pooled_stdev',\n",
       "       'experimental_baseline_mean', 'experimental_baseline_stdev', 'N_1',\n",
       "       'Break', 'experimental_post_mean', 'experimental_post_stdev',\n",
       "       'experimental_post_n', 'PDF_Downloaded', 'PDF_Path', 'Break_1',\n",
       "       'Is_the_primary_outcome_of_this_manuscript_about_memory___Yes_No_',\n",
       "       'Does_this_manuscript_use_transcranial_magnetic_stimulation__TMS____Yes_No_',\n",
       "       'Does_this_manuscript_report_memory_outcomes___Yes_No_',\n",
       "       'To_what_region_of_the_brain_was_TMS_delivered',\n",
       "       'Did_the_study_report_TMS_improved__worsened__or_had_not_effect_on_memory',\n",
       "       'What_was_the_mean_age_of_the_patients_in_the_study_',\n",
       "       'What_diagnosis_did_the_patients_have__or_were_they_healthy_',\n",
       "       'What_was_the_frequency_of_TMS_used_in_this_study__For_example__options_are__low_freuqnecy_rTMS___1Hz___hi_frequency_rTMS___10Hz___and_theta_burst__often_50Hz_',\n",
       "       'Is_there_enough_information_to_determine_the_stimulation_site__specifically_to_derive_a_coordinate_of_stimulation_',\n",
       "       'What_test_was_used_to_measure_memory_',\n",
       "       'Was_verbal_or_visual_memory_measured_',\n",
       "       'Was_this_manuscript_primarily_about_the_influence_of_TMS_on_memory__Or_was_memory_tacked_on_to_a_different_primary_outcome_',\n",
       "       'What_was_the_duration_between_TMS_and_measurement__How_many_days__weeks__or_months_apart_were_the_initial_and_post_TMS_evaluations_',\n",
       "       'When_was_the_TMS_administered_relative_to_mmory__Was_it_during_encoding__presentation_of_stimulus___in_consolidation__after_stimulus___during_recall__during_recall___or_priming__such_as_before_testing__like_when_TMS_is_given_every_day_for_weeks_between_sessions__',\n",
       "       'path', 'train_prune_test_performs_highly_spatial_corr',\n",
       "       'train_prune_test_performs_highly_cosine',\n",
       "       'train_prune_test_performs_highly_sum',\n",
       "       'train_prune_test_performs_highly_average_subject_in_target',\n",
       "       'train_prune_test_performs_highly_average_target_in_subject',\n",
       "       'train_prune_test_performs_highly_num_in_roi',\n",
       "       'all_datasets_unweighted_avg_r_map_spatial_corr',\n",
       "       'all_datasets_unweighted_avg_r_map_cosine',\n",
       "       'all_datasets_unweighted_avg_r_map_sum',\n",
       "       'all_datasets_unweighted_avg_r_map_average_subject_in_target',\n",
       "       'all_datasets_unweighted_avg_r_map_average_target_in_subject',\n",
       "       'all_datasets_unweighted_avg_r_map_num_in_roi',\n",
       "       'all_datasets_weighted_avg_r_map_spatial_corr',\n",
       "       'all_datasets_weighted_avg_r_map_cosine',\n",
       "       'all_datasets_weighted_avg_r_map_sum',\n",
       "       'all_datasets_weighted_avg_r_map_average_subject_in_target',\n",
       "       'all_datasets_weighted_avg_r_map_average_target_in_subject',\n",
       "       'all_datasets_weighted_avg_r_map_num_in_roi'],\n",
       "      dtype='object')"
      ]
     },
     "execution_count": 16,
     "metadata": {},
     "output_type": "execute_result"
    }
   ],
   "source": [
    "data_df.columns"
   ]
  },
  {
   "cell_type": "markdown",
   "metadata": {},
   "source": [
    "Regress out Covariate"
   ]
  },
  {
   "cell_type": "code",
   "execution_count": 17,
   "metadata": {},
   "outputs": [],
   "source": [
    "# from calvin_utils.statistical_utils.regression_utils import RegressOutCovariates\n",
    "# # use this code block to regress out covariates. Generally better to just include as covariates in a model..\n",
    "# dependent_variable_list = lis\n",
    "# regressors = ['Age', 'Sex']\n",
    "\n",
    "# data_df, adjusted_dep_vars_list = RegressOutCovariates.run(df=data_df, dependent_variable_list=dependent_variable_list, covariates_list=regressors)\n",
    "# print(adjusted_dep_vars_list)"
   ]
  },
  {
   "cell_type": "markdown",
   "metadata": {},
   "source": [
    "Edit Column Values"
   ]
  },
  {
   "cell_type": "code",
   "execution_count": 18,
   "metadata": {},
   "outputs": [
    {
     "data": {
      "text/plain": [
       "Index(['study', 'PMID', 'DOI', 'ses', 'N', 'Reported_Outcome',\n",
       "       'Pre_Post_Memory_Effect_Size__Cohen_s_D_', 'Location',\n",
       "       'List_of_Coordinates', 'Side', 'Frequency__Hz_', 'Magnitude__V_',\n",
       "       'Stim_Relative_to_Memory_Cycle', 'Stim_Info', 'Closed_Loop',\n",
       "       'Years_Between_Measurements', 'Mean_Age', 'Stdev_Age', 'Percent_Female',\n",
       "       'Disease', 'Test', 'Recall_Subtype', 'Sensory_Domain',\n",
       "       'Memory_Primary_Outcome', 'Control_Group', 'Notes', 'pooled_stdev',\n",
       "       'experimental_baseline_mean', 'experimental_baseline_stdev', 'N_1',\n",
       "       'Break', 'experimental_post_mean', 'experimental_post_stdev',\n",
       "       'experimental_post_n', 'PDF_Downloaded', 'PDF_Path', 'Break_1',\n",
       "       'Is_the_primary_outcome_of_this_manuscript_about_memory___Yes_No_',\n",
       "       'Does_this_manuscript_use_transcranial_magnetic_stimulation__TMS____Yes_No_',\n",
       "       'Does_this_manuscript_report_memory_outcomes___Yes_No_',\n",
       "       'To_what_region_of_the_brain_was_TMS_delivered',\n",
       "       'Did_the_study_report_TMS_improved__worsened__or_had_not_effect_on_memory',\n",
       "       'What_was_the_mean_age_of_the_patients_in_the_study_',\n",
       "       'What_diagnosis_did_the_patients_have__or_were_they_healthy_',\n",
       "       'What_was_the_frequency_of_TMS_used_in_this_study__For_example__options_are__low_freuqnecy_rTMS___1Hz___hi_frequency_rTMS___10Hz___and_theta_burst__often_50Hz_',\n",
       "       'Is_there_enough_information_to_determine_the_stimulation_site__specifically_to_derive_a_coordinate_of_stimulation_',\n",
       "       'What_test_was_used_to_measure_memory_',\n",
       "       'Was_verbal_or_visual_memory_measured_',\n",
       "       'Was_this_manuscript_primarily_about_the_influence_of_TMS_on_memory__Or_was_memory_tacked_on_to_a_different_primary_outcome_',\n",
       "       'What_was_the_duration_between_TMS_and_measurement__How_many_days__weeks__or_months_apart_were_the_initial_and_post_TMS_evaluations_',\n",
       "       'When_was_the_TMS_administered_relative_to_mmory__Was_it_during_encoding__presentation_of_stimulus___in_consolidation__after_stimulus___during_recall__during_recall___or_priming__such_as_before_testing__like_when_TMS_is_given_every_day_for_weeks_between_sessions__',\n",
       "       'path', 'train_prune_test_performs_highly_spatial_corr',\n",
       "       'train_prune_test_performs_highly_cosine',\n",
       "       'train_prune_test_performs_highly_sum',\n",
       "       'train_prune_test_performs_highly_average_subject_in_target',\n",
       "       'train_prune_test_performs_highly_average_target_in_subject',\n",
       "       'train_prune_test_performs_highly_num_in_roi',\n",
       "       'all_datasets_unweighted_avg_r_map_spatial_corr',\n",
       "       'all_datasets_unweighted_avg_r_map_cosine',\n",
       "       'all_datasets_unweighted_avg_r_map_sum',\n",
       "       'all_datasets_unweighted_avg_r_map_average_subject_in_target',\n",
       "       'all_datasets_unweighted_avg_r_map_average_target_in_subject',\n",
       "       'all_datasets_unweighted_avg_r_map_num_in_roi',\n",
       "       'all_datasets_weighted_avg_r_map_spatial_corr',\n",
       "       'all_datasets_weighted_avg_r_map_cosine',\n",
       "       'all_datasets_weighted_avg_r_map_sum',\n",
       "       'all_datasets_weighted_avg_r_map_average_subject_in_target',\n",
       "       'all_datasets_weighted_avg_r_map_average_target_in_subject',\n",
       "       'all_datasets_weighted_avg_r_map_num_in_roi'],\n",
       "      dtype='object')"
      ]
     },
     "execution_count": 18,
     "metadata": {},
     "output_type": "execute_result"
    }
   ],
   "source": [
    "data_df.columns"
   ]
  },
  {
   "cell_type": "code",
   "execution_count": 19,
   "metadata": {},
   "outputs": [
    {
     "data": {
      "text/plain": [
       "Index(['study', 'PMID', 'DOI', 'ses', 'N', 'Reported_Outcome',\n",
       "       'Pre_Post_Memory_Effect_Size__Cohen_s_D_', 'Location',\n",
       "       'List_of_Coordinates', 'Side', 'Frequency__Hz_', 'Magnitude__V_',\n",
       "       'Stim_Relative_to_Memory_Cycle', 'Stim_Info', 'Closed_Loop',\n",
       "       'Years_Between_Measurements', 'Mean_Age', 'Stdev_Age', 'Percent_Female',\n",
       "       'Disease', 'Test', 'Recall_Subtype', 'Sensory_Domain',\n",
       "       'Memory_Primary_Outcome', 'Control_Group', 'Notes', 'pooled_stdev',\n",
       "       'experimental_baseline_mean', 'experimental_baseline_stdev', 'N_1',\n",
       "       'Break', 'experimental_post_mean', 'experimental_post_stdev',\n",
       "       'experimental_post_n', 'PDF_Downloaded', 'PDF_Path', 'Break_1',\n",
       "       'Is_the_primary_outcome_of_this_manuscript_about_memory___Yes_No_',\n",
       "       'Does_this_manuscript_use_transcranial_magnetic_stimulation__TMS____Yes_No_',\n",
       "       'Does_this_manuscript_report_memory_outcomes___Yes_No_',\n",
       "       'To_what_region_of_the_brain_was_TMS_delivered',\n",
       "       'Did_the_study_report_TMS_improved__worsened__or_had_not_effect_on_memory',\n",
       "       'What_was_the_mean_age_of_the_patients_in_the_study_',\n",
       "       'What_diagnosis_did_the_patients_have__or_were_they_healthy_',\n",
       "       'What_was_the_frequency_of_TMS_used_in_this_study__For_example__options_are__low_freuqnecy_rTMS___1Hz___hi_frequency_rTMS___10Hz___and_theta_burst__often_50Hz_',\n",
       "       'Is_there_enough_information_to_determine_the_stimulation_site__specifically_to_derive_a_coordinate_of_stimulation_',\n",
       "       'What_test_was_used_to_measure_memory_',\n",
       "       'Was_verbal_or_visual_memory_measured_',\n",
       "       'Was_this_manuscript_primarily_about_the_influence_of_TMS_on_memory__Or_was_memory_tacked_on_to_a_different_primary_outcome_',\n",
       "       'What_was_the_duration_between_TMS_and_measurement__How_many_days__weeks__or_months_apart_were_the_initial_and_post_TMS_evaluations_',\n",
       "       'When_was_the_TMS_administered_relative_to_mmory__Was_it_during_encoding__presentation_of_stimulus___in_consolidation__after_stimulus___during_recall__during_recall___or_priming__such_as_before_testing__like_when_TMS_is_given_every_day_for_weeks_between_sessions__',\n",
       "       'path', 'train_prune_test_performs_highly_spatial_corr',\n",
       "       'train_prune_test_performs_highly_cosine',\n",
       "       'train_prune_test_performs_highly_sum',\n",
       "       'train_prune_test_performs_highly_average_subject_in_target',\n",
       "       'train_prune_test_performs_highly_average_target_in_subject',\n",
       "       'train_prune_test_performs_highly_num_in_roi',\n",
       "       'all_datasets_unweighted_avg_r_map_spatial_corr',\n",
       "       'all_datasets_unweighted_avg_r_map_cosine',\n",
       "       'all_datasets_unweighted_avg_r_map_sum',\n",
       "       'all_datasets_unweighted_avg_r_map_average_subject_in_target',\n",
       "       'all_datasets_unweighted_avg_r_map_average_target_in_subject',\n",
       "       'all_datasets_unweighted_avg_r_map_num_in_roi',\n",
       "       'all_datasets_weighted_avg_r_map_spatial_corr',\n",
       "       'all_datasets_weighted_avg_r_map_cosine',\n",
       "       'all_datasets_weighted_avg_r_map_sum',\n",
       "       'all_datasets_weighted_avg_r_map_average_subject_in_target',\n",
       "       'all_datasets_weighted_avg_r_map_average_target_in_subject',\n",
       "       'all_datasets_weighted_avg_r_map_num_in_roi'],\n",
       "      dtype='object')"
      ]
     },
     "execution_count": 19,
     "metadata": {},
     "output_type": "execute_result"
    }
   ],
   "source": [
    "data_df.columns"
   ]
  },
  {
   "cell_type": "code",
   "execution_count": 205,
   "metadata": {},
   "outputs": [
    {
     "name": "stdout",
     "output_type": "stream",
     "text": [
      "Mapping of unique values to ordinal values:\n",
      "Frequency__Hz_: {'hfrTMS': 0, 'hfrTMSl_lfrTMS': 1, 'lfrTMS': 2, 'thetaTMS': 3}\n",
      "Stim_Relative_to_Memory_Cycle: {'Consolidation': 0, 'Encoding': 1, 'Plasticity': 2}\n"
     ]
    }
   ],
   "source": [
    "from calvin_utils.file_utils.dataframe_utilities import convert_to_ordinal\n",
    "data_df, map = convert_to_ordinal(data_df, ['Frequency__Hz_', 'Stim_Relative_to_Memory_Cycle'])"
   ]
  },
  {
   "cell_type": "markdown",
   "metadata": {},
   "source": [
    "# 02 - Define Your Formula\n",
    "\n",
    "This is the formula relating outcome to predictors, and takes the form:\n",
    "- y = B0 + B1 + B2 + B3 + . . . BN\n",
    "\n",
    "It is defined using the columns of your dataframe instead of the variables above:\n",
    "- 'Apples_Picked ~ hours_worked + owns_apple_picking_machine'\n",
    "\n",
    "____\n",
    "**ANOVA**\n",
    "- Tests differences in means for one categorical variable.\n",
    "- formula = 'Outcome ~ C(Group1)'\n",
    "\n",
    "**2-Way ANOVA**\n",
    "- Tests differences in means for two categorical variables without interaction.\n",
    "- formula = 'Outcome ~ C(Group1) + C(Group2)'\n",
    "\n",
    "**2-Way ANOVA with Interaction**\n",
    "- Tests for interaction effects between two categorical variables.\n",
    "- formula = 'Outcome ~ C(Group1) * C(Group2)'\n",
    "\n",
    "**ANCOVA**\n",
    "- Similar to ANOVA, but includes a covariate to control for its effect.\n",
    "- formula = 'Outcome ~ C(Group1) + Covariate'\n",
    "\n",
    "**2-Way ANCOVA**\n",
    "- Extends ANCOVA with two categorical variables and their interaction, controlling for a covariate.\n",
    "- formula = 'Outcome ~ C(Group1) * C(Group2) + Covariate'\n",
    "\n",
    "**Multiple Regression**\n",
    "- Assesses the impact of multiple predictors on an outcome.\n",
    "- formula = 'Outcome ~ Predictor1 + Predictor2'\n",
    "\n",
    "**Simple Linear Regression**\n",
    "- Assesses the impact of a single predictor on an outcome.\n",
    "- formula = 'Outcome ~ Predictor'\n",
    "\n",
    "**MANOVA**\n",
    "- Assesses multiple dependent variables across groups.\n",
    "- Note: Not typically set up with a formula in statsmodels. Requires specialized functions.\n",
    "\n",
    "____\n",
    "Use the printout below to design your formula. \n",
    "- Left of the \"~\" symbol is the thing to be predicted. \n",
    "- Right of the \"~\" symbol are the predictors. \n",
    "- \":\" indicates an interaction between two things. \n",
    "- \"*\" indicates and interactions AND it accounts for the simple effects too. \n",
    "- \"+\" indicates that you want to add another predictor. "
   ]
  },
  {
   "cell_type": "code",
   "execution_count": 206,
   "metadata": {},
   "outputs": [
    {
     "data": {
      "text/plain": [
       "Index(['study', 'PMID', 'DOI', 'ses', 'N', 'Reported_Outcome',\n",
       "       'Pre_Post_Memory_Effect_Size__Cohen_s_D_', 'Location',\n",
       "       'List_of_Coordinates', 'Side', 'Frequency__Hz_', 'Magnitude__V_',\n",
       "       'Stim_Relative_to_Memory_Cycle', 'Stim_Info', 'Closed_Loop',\n",
       "       'Years_Between_Measurements', 'Mean_Age', 'Stdev_Age', 'Percent_Female',\n",
       "       'Disease', 'Test', 'Recall_Subtype', 'Sensory_Domain',\n",
       "       'Memory_Primary_Outcome', 'Control_Group', 'Notes', 'pooled_stdev',\n",
       "       'experimental_baseline_mean', 'experimental_baseline_stdev', 'N_1',\n",
       "       'Break', 'experimental_post_mean', 'experimental_post_stdev',\n",
       "       'experimental_post_n', 'PDF_Downloaded', 'PDF_Path', 'Break_1',\n",
       "       'Is_the_primary_outcome_of_this_manuscript_about_memory___Yes_No_',\n",
       "       'Does_this_manuscript_use_transcranial_magnetic_stimulation__TMS____Yes_No_',\n",
       "       'Does_this_manuscript_report_memory_outcomes___Yes_No_',\n",
       "       'To_what_region_of_the_brain_was_TMS_delivered',\n",
       "       'Did_the_study_report_TMS_improved__worsened__or_had_not_effect_on_memory',\n",
       "       'What_was_the_mean_age_of_the_patients_in_the_study_',\n",
       "       'What_diagnosis_did_the_patients_have__or_were_they_healthy_',\n",
       "       'What_was_the_frequency_of_TMS_used_in_this_study__For_example__options_are__low_freuqnecy_rTMS___1Hz___hi_frequency_rTMS___10Hz___and_theta_burst__often_50Hz_',\n",
       "       'Is_there_enough_information_to_determine_the_stimulation_site__specifically_to_derive_a_coordinate_of_stimulation_',\n",
       "       'What_test_was_used_to_measure_memory_',\n",
       "       'Was_verbal_or_visual_memory_measured_',\n",
       "       'Was_this_manuscript_primarily_about_the_influence_of_TMS_on_memory__Or_was_memory_tacked_on_to_a_different_primary_outcome_',\n",
       "       'What_was_the_duration_between_TMS_and_measurement__How_many_days__weeks__or_months_apart_were_the_initial_and_post_TMS_evaluations_',\n",
       "       'When_was_the_TMS_administered_relative_to_mmory__Was_it_during_encoding__presentation_of_stimulus___in_consolidation__after_stimulus___during_recall__during_recall___or_priming__such_as_before_testing__like_when_TMS_is_given_every_day_for_weeks_between_sessions__',\n",
       "       'path', 'train_prune_test_performs_highly_spatial_corr',\n",
       "       'train_prune_test_performs_highly_cosine',\n",
       "       'train_prune_test_performs_highly_sum',\n",
       "       'train_prune_test_performs_highly_average_subject_in_target',\n",
       "       'train_prune_test_performs_highly_average_target_in_subject',\n",
       "       'train_prune_test_performs_highly_num_in_roi',\n",
       "       'all_datasets_unweighted_avg_r_map_spatial_corr',\n",
       "       'all_datasets_unweighted_avg_r_map_cosine',\n",
       "       'all_datasets_unweighted_avg_r_map_sum',\n",
       "       'all_datasets_unweighted_avg_r_map_average_subject_in_target',\n",
       "       'all_datasets_unweighted_avg_r_map_average_target_in_subject',\n",
       "       'all_datasets_unweighted_avg_r_map_num_in_roi',\n",
       "       'all_datasets_weighted_avg_r_map_spatial_corr',\n",
       "       'all_datasets_weighted_avg_r_map_cosine',\n",
       "       'all_datasets_weighted_avg_r_map_sum',\n",
       "       'all_datasets_weighted_avg_r_map_average_subject_in_target',\n",
       "       'all_datasets_weighted_avg_r_map_average_target_in_subject',\n",
       "       'all_datasets_weighted_avg_r_map_num_in_roi'],\n",
       "      dtype='object')"
      ]
     },
     "execution_count": 206,
     "metadata": {},
     "output_type": "execute_result"
    }
   ],
   "source": [
    "data_df.columns"
   ]
  },
  {
   "cell_type": "code",
   "execution_count": null,
   "metadata": {},
   "outputs": [],
   "source": []
  },
  {
   "cell_type": "code",
   "execution_count": 263,
   "metadata": {},
   "outputs": [],
   "source": [
    "formula = \"Pre_Post_Memory_Effect_Size__Cohen_s_D_ ~ all_datasets_weighted_avg_r_map_cosine*Frequency__Hz_\""
   ]
  },
  {
   "cell_type": "markdown",
   "metadata": {},
   "source": [
    "# 02 - Visualize Your Design Matrix\n",
    "\n",
    "This is the explanatory variable half of your regression formula\n",
    "_______________________________________________________\n",
    "Create Design Matrix: Use the create_design_matrix method. You can provide a list of formula variables which correspond to column names in your dataframe.\n",
    "\n",
    "- design_matrix = palm.create_design_matrix(formula_vars=[\"var1\", \"var2\", \"var1*var2\"])\n",
    "- To include interaction terms, use * between variables, like \"var1*var2\".\n",
    "- By default, an intercept will be added unless you set intercept=False\n",
    "- **don't explicitly add the 'intercept' column. I'll do it for you.**"
   ]
  },
  {
   "cell_type": "code",
   "execution_count": 264,
   "metadata": {},
   "outputs": [
    {
     "data": {
      "text/html": [
       "<div>\n",
       "<style scoped>\n",
       "    .dataframe tbody tr th:only-of-type {\n",
       "        vertical-align: middle;\n",
       "    }\n",
       "\n",
       "    .dataframe tbody tr th {\n",
       "        vertical-align: top;\n",
       "    }\n",
       "\n",
       "    .dataframe thead th {\n",
       "        text-align: right;\n",
       "    }\n",
       "</style>\n",
       "<table border=\"1\" class=\"dataframe\">\n",
       "  <thead>\n",
       "    <tr style=\"text-align: right;\">\n",
       "      <th></th>\n",
       "      <th>Intercept</th>\n",
       "      <th>all_datasets_weighted_avg_r_map_cosine</th>\n",
       "      <th>Frequency__Hz_</th>\n",
       "      <th>all_datasets_weighted_avg_r_map_cosine:Frequency__Hz_</th>\n",
       "    </tr>\n",
       "  </thead>\n",
       "  <tbody>\n",
       "    <tr>\n",
       "      <th>3</th>\n",
       "      <td>1.0</td>\n",
       "      <td>0.027884</td>\n",
       "      <td>0.0</td>\n",
       "      <td>0.000000</td>\n",
       "    </tr>\n",
       "    <tr>\n",
       "      <th>4</th>\n",
       "      <td>1.0</td>\n",
       "      <td>0.027884</td>\n",
       "      <td>0.0</td>\n",
       "      <td>0.000000</td>\n",
       "    </tr>\n",
       "    <tr>\n",
       "      <th>6</th>\n",
       "      <td>1.0</td>\n",
       "      <td>-0.000822</td>\n",
       "      <td>3.0</td>\n",
       "      <td>-0.002465</td>\n",
       "    </tr>\n",
       "    <tr>\n",
       "      <th>7</th>\n",
       "      <td>1.0</td>\n",
       "      <td>-0.023547</td>\n",
       "      <td>3.0</td>\n",
       "      <td>-0.070641</td>\n",
       "    </tr>\n",
       "    <tr>\n",
       "      <th>8</th>\n",
       "      <td>1.0</td>\n",
       "      <td>0.027884</td>\n",
       "      <td>3.0</td>\n",
       "      <td>0.083653</td>\n",
       "    </tr>\n",
       "    <tr>\n",
       "      <th>9</th>\n",
       "      <td>1.0</td>\n",
       "      <td>0.002247</td>\n",
       "      <td>3.0</td>\n",
       "      <td>0.006741</td>\n",
       "    </tr>\n",
       "    <tr>\n",
       "      <th>15</th>\n",
       "      <td>1.0</td>\n",
       "      <td>0.027884</td>\n",
       "      <td>0.0</td>\n",
       "      <td>0.000000</td>\n",
       "    </tr>\n",
       "    <tr>\n",
       "      <th>17</th>\n",
       "      <td>1.0</td>\n",
       "      <td>0.027884</td>\n",
       "      <td>0.0</td>\n",
       "      <td>0.000000</td>\n",
       "    </tr>\n",
       "    <tr>\n",
       "      <th>18</th>\n",
       "      <td>1.0</td>\n",
       "      <td>0.040724</td>\n",
       "      <td>0.0</td>\n",
       "      <td>0.000000</td>\n",
       "    </tr>\n",
       "    <tr>\n",
       "      <th>20</th>\n",
       "      <td>1.0</td>\n",
       "      <td>0.008077</td>\n",
       "      <td>0.0</td>\n",
       "      <td>0.000000</td>\n",
       "    </tr>\n",
       "    <tr>\n",
       "      <th>21</th>\n",
       "      <td>1.0</td>\n",
       "      <td>0.008077</td>\n",
       "      <td>0.0</td>\n",
       "      <td>0.000000</td>\n",
       "    </tr>\n",
       "    <tr>\n",
       "      <th>22</th>\n",
       "      <td>1.0</td>\n",
       "      <td>0.029708</td>\n",
       "      <td>0.0</td>\n",
       "      <td>0.000000</td>\n",
       "    </tr>\n",
       "    <tr>\n",
       "      <th>24</th>\n",
       "      <td>1.0</td>\n",
       "      <td>-0.000542</td>\n",
       "      <td>0.0</td>\n",
       "      <td>-0.000000</td>\n",
       "    </tr>\n",
       "    <tr>\n",
       "      <th>25</th>\n",
       "      <td>1.0</td>\n",
       "      <td>-0.000542</td>\n",
       "      <td>3.0</td>\n",
       "      <td>-0.001625</td>\n",
       "    </tr>\n",
       "    <tr>\n",
       "      <th>29</th>\n",
       "      <td>1.0</td>\n",
       "      <td>0.029708</td>\n",
       "      <td>2.0</td>\n",
       "      <td>0.059417</td>\n",
       "    </tr>\n",
       "    <tr>\n",
       "      <th>31</th>\n",
       "      <td>1.0</td>\n",
       "      <td>0.040724</td>\n",
       "      <td>0.0</td>\n",
       "      <td>0.000000</td>\n",
       "    </tr>\n",
       "    <tr>\n",
       "      <th>33</th>\n",
       "      <td>1.0</td>\n",
       "      <td>0.027884</td>\n",
       "      <td>0.0</td>\n",
       "      <td>0.000000</td>\n",
       "    </tr>\n",
       "    <tr>\n",
       "      <th>34</th>\n",
       "      <td>1.0</td>\n",
       "      <td>-0.005943</td>\n",
       "      <td>0.0</td>\n",
       "      <td>-0.000000</td>\n",
       "    </tr>\n",
       "    <tr>\n",
       "      <th>35</th>\n",
       "      <td>1.0</td>\n",
       "      <td>-0.000542</td>\n",
       "      <td>0.0</td>\n",
       "      <td>-0.000000</td>\n",
       "    </tr>\n",
       "    <tr>\n",
       "      <th>36</th>\n",
       "      <td>1.0</td>\n",
       "      <td>0.027884</td>\n",
       "      <td>0.0</td>\n",
       "      <td>0.000000</td>\n",
       "    </tr>\n",
       "    <tr>\n",
       "      <th>38</th>\n",
       "      <td>1.0</td>\n",
       "      <td>0.027884</td>\n",
       "      <td>0.0</td>\n",
       "      <td>0.000000</td>\n",
       "    </tr>\n",
       "    <tr>\n",
       "      <th>39</th>\n",
       "      <td>1.0</td>\n",
       "      <td>0.006193</td>\n",
       "      <td>0.0</td>\n",
       "      <td>0.000000</td>\n",
       "    </tr>\n",
       "    <tr>\n",
       "      <th>43</th>\n",
       "      <td>1.0</td>\n",
       "      <td>0.027884</td>\n",
       "      <td>2.0</td>\n",
       "      <td>0.055769</td>\n",
       "    </tr>\n",
       "    <tr>\n",
       "      <th>44</th>\n",
       "      <td>1.0</td>\n",
       "      <td>0.011847</td>\n",
       "      <td>0.0</td>\n",
       "      <td>0.000000</td>\n",
       "    </tr>\n",
       "    <tr>\n",
       "      <th>47</th>\n",
       "      <td>1.0</td>\n",
       "      <td>0.027884</td>\n",
       "      <td>0.0</td>\n",
       "      <td>0.000000</td>\n",
       "    </tr>\n",
       "    <tr>\n",
       "      <th>48</th>\n",
       "      <td>1.0</td>\n",
       "      <td>0.027884</td>\n",
       "      <td>0.0</td>\n",
       "      <td>0.000000</td>\n",
       "    </tr>\n",
       "    <tr>\n",
       "      <th>51</th>\n",
       "      <td>1.0</td>\n",
       "      <td>0.027884</td>\n",
       "      <td>0.0</td>\n",
       "      <td>0.000000</td>\n",
       "    </tr>\n",
       "    <tr>\n",
       "      <th>52</th>\n",
       "      <td>1.0</td>\n",
       "      <td>0.020634</td>\n",
       "      <td>0.0</td>\n",
       "      <td>0.000000</td>\n",
       "    </tr>\n",
       "    <tr>\n",
       "      <th>55</th>\n",
       "      <td>1.0</td>\n",
       "      <td>0.020097</td>\n",
       "      <td>1.0</td>\n",
       "      <td>0.020097</td>\n",
       "    </tr>\n",
       "    <tr>\n",
       "      <th>56</th>\n",
       "      <td>1.0</td>\n",
       "      <td>0.029708</td>\n",
       "      <td>0.0</td>\n",
       "      <td>0.000000</td>\n",
       "    </tr>\n",
       "    <tr>\n",
       "      <th>57</th>\n",
       "      <td>1.0</td>\n",
       "      <td>0.027884</td>\n",
       "      <td>0.0</td>\n",
       "      <td>0.000000</td>\n",
       "    </tr>\n",
       "    <tr>\n",
       "      <th>58</th>\n",
       "      <td>1.0</td>\n",
       "      <td>0.027884</td>\n",
       "      <td>0.0</td>\n",
       "      <td>0.000000</td>\n",
       "    </tr>\n",
       "    <tr>\n",
       "      <th>59</th>\n",
       "      <td>1.0</td>\n",
       "      <td>0.027884</td>\n",
       "      <td>1.0</td>\n",
       "      <td>0.027884</td>\n",
       "    </tr>\n",
       "    <tr>\n",
       "      <th>65</th>\n",
       "      <td>1.0</td>\n",
       "      <td>0.012524</td>\n",
       "      <td>0.0</td>\n",
       "      <td>0.000000</td>\n",
       "    </tr>\n",
       "    <tr>\n",
       "      <th>66</th>\n",
       "      <td>1.0</td>\n",
       "      <td>0.002247</td>\n",
       "      <td>0.0</td>\n",
       "      <td>0.000000</td>\n",
       "    </tr>\n",
       "    <tr>\n",
       "      <th>68</th>\n",
       "      <td>1.0</td>\n",
       "      <td>0.027884</td>\n",
       "      <td>0.0</td>\n",
       "      <td>0.000000</td>\n",
       "    </tr>\n",
       "    <tr>\n",
       "      <th>70</th>\n",
       "      <td>1.0</td>\n",
       "      <td>0.003766</td>\n",
       "      <td>3.0</td>\n",
       "      <td>0.011297</td>\n",
       "    </tr>\n",
       "    <tr>\n",
       "      <th>72</th>\n",
       "      <td>1.0</td>\n",
       "      <td>0.027884</td>\n",
       "      <td>0.0</td>\n",
       "      <td>0.000000</td>\n",
       "    </tr>\n",
       "    <tr>\n",
       "      <th>73</th>\n",
       "      <td>1.0</td>\n",
       "      <td>0.027884</td>\n",
       "      <td>3.0</td>\n",
       "      <td>0.083653</td>\n",
       "    </tr>\n",
       "    <tr>\n",
       "      <th>74</th>\n",
       "      <td>1.0</td>\n",
       "      <td>0.027884</td>\n",
       "      <td>3.0</td>\n",
       "      <td>0.083653</td>\n",
       "    </tr>\n",
       "    <tr>\n",
       "      <th>75</th>\n",
       "      <td>1.0</td>\n",
       "      <td>0.023822</td>\n",
       "      <td>2.0</td>\n",
       "      <td>0.047645</td>\n",
       "    </tr>\n",
       "    <tr>\n",
       "      <th>78</th>\n",
       "      <td>1.0</td>\n",
       "      <td>0.026756</td>\n",
       "      <td>2.0</td>\n",
       "      <td>0.053513</td>\n",
       "    </tr>\n",
       "    <tr>\n",
       "      <th>81</th>\n",
       "      <td>1.0</td>\n",
       "      <td>-0.010302</td>\n",
       "      <td>0.0</td>\n",
       "      <td>-0.000000</td>\n",
       "    </tr>\n",
       "    <tr>\n",
       "      <th>82</th>\n",
       "      <td>1.0</td>\n",
       "      <td>0.027884</td>\n",
       "      <td>0.0</td>\n",
       "      <td>0.000000</td>\n",
       "    </tr>\n",
       "    <tr>\n",
       "      <th>84</th>\n",
       "      <td>1.0</td>\n",
       "      <td>0.027884</td>\n",
       "      <td>0.0</td>\n",
       "      <td>0.000000</td>\n",
       "    </tr>\n",
       "    <tr>\n",
       "      <th>85</th>\n",
       "      <td>1.0</td>\n",
       "      <td>0.027884</td>\n",
       "      <td>3.0</td>\n",
       "      <td>0.083653</td>\n",
       "    </tr>\n",
       "    <tr>\n",
       "      <th>86</th>\n",
       "      <td>1.0</td>\n",
       "      <td>0.027884</td>\n",
       "      <td>0.0</td>\n",
       "      <td>0.000000</td>\n",
       "    </tr>\n",
       "    <tr>\n",
       "      <th>87</th>\n",
       "      <td>1.0</td>\n",
       "      <td>0.027884</td>\n",
       "      <td>0.0</td>\n",
       "      <td>0.000000</td>\n",
       "    </tr>\n",
       "    <tr>\n",
       "      <th>88</th>\n",
       "      <td>1.0</td>\n",
       "      <td>0.027884</td>\n",
       "      <td>0.0</td>\n",
       "      <td>0.000000</td>\n",
       "    </tr>\n",
       "  </tbody>\n",
       "</table>\n",
       "</div>"
      ],
      "text/plain": [
       "    Intercept  all_datasets_weighted_avg_r_map_cosine  Frequency__Hz_  \\\n",
       "3         1.0                                0.027884             0.0   \n",
       "4         1.0                                0.027884             0.0   \n",
       "6         1.0                               -0.000822             3.0   \n",
       "7         1.0                               -0.023547             3.0   \n",
       "8         1.0                                0.027884             3.0   \n",
       "9         1.0                                0.002247             3.0   \n",
       "15        1.0                                0.027884             0.0   \n",
       "17        1.0                                0.027884             0.0   \n",
       "18        1.0                                0.040724             0.0   \n",
       "20        1.0                                0.008077             0.0   \n",
       "21        1.0                                0.008077             0.0   \n",
       "22        1.0                                0.029708             0.0   \n",
       "24        1.0                               -0.000542             0.0   \n",
       "25        1.0                               -0.000542             3.0   \n",
       "29        1.0                                0.029708             2.0   \n",
       "31        1.0                                0.040724             0.0   \n",
       "33        1.0                                0.027884             0.0   \n",
       "34        1.0                               -0.005943             0.0   \n",
       "35        1.0                               -0.000542             0.0   \n",
       "36        1.0                                0.027884             0.0   \n",
       "38        1.0                                0.027884             0.0   \n",
       "39        1.0                                0.006193             0.0   \n",
       "43        1.0                                0.027884             2.0   \n",
       "44        1.0                                0.011847             0.0   \n",
       "47        1.0                                0.027884             0.0   \n",
       "48        1.0                                0.027884             0.0   \n",
       "51        1.0                                0.027884             0.0   \n",
       "52        1.0                                0.020634             0.0   \n",
       "55        1.0                                0.020097             1.0   \n",
       "56        1.0                                0.029708             0.0   \n",
       "57        1.0                                0.027884             0.0   \n",
       "58        1.0                                0.027884             0.0   \n",
       "59        1.0                                0.027884             1.0   \n",
       "65        1.0                                0.012524             0.0   \n",
       "66        1.0                                0.002247             0.0   \n",
       "68        1.0                                0.027884             0.0   \n",
       "70        1.0                                0.003766             3.0   \n",
       "72        1.0                                0.027884             0.0   \n",
       "73        1.0                                0.027884             3.0   \n",
       "74        1.0                                0.027884             3.0   \n",
       "75        1.0                                0.023822             2.0   \n",
       "78        1.0                                0.026756             2.0   \n",
       "81        1.0                               -0.010302             0.0   \n",
       "82        1.0                                0.027884             0.0   \n",
       "84        1.0                                0.027884             0.0   \n",
       "85        1.0                                0.027884             3.0   \n",
       "86        1.0                                0.027884             0.0   \n",
       "87        1.0                                0.027884             0.0   \n",
       "88        1.0                                0.027884             0.0   \n",
       "\n",
       "    all_datasets_weighted_avg_r_map_cosine:Frequency__Hz_  \n",
       "3                                            0.000000      \n",
       "4                                            0.000000      \n",
       "6                                           -0.002465      \n",
       "7                                           -0.070641      \n",
       "8                                            0.083653      \n",
       "9                                            0.006741      \n",
       "15                                           0.000000      \n",
       "17                                           0.000000      \n",
       "18                                           0.000000      \n",
       "20                                           0.000000      \n",
       "21                                           0.000000      \n",
       "22                                           0.000000      \n",
       "24                                          -0.000000      \n",
       "25                                          -0.001625      \n",
       "29                                           0.059417      \n",
       "31                                           0.000000      \n",
       "33                                           0.000000      \n",
       "34                                          -0.000000      \n",
       "35                                          -0.000000      \n",
       "36                                           0.000000      \n",
       "38                                           0.000000      \n",
       "39                                           0.000000      \n",
       "43                                           0.055769      \n",
       "44                                           0.000000      \n",
       "47                                           0.000000      \n",
       "48                                           0.000000      \n",
       "51                                           0.000000      \n",
       "52                                           0.000000      \n",
       "55                                           0.020097      \n",
       "56                                           0.000000      \n",
       "57                                           0.000000      \n",
       "58                                           0.000000      \n",
       "59                                           0.027884      \n",
       "65                                           0.000000      \n",
       "66                                           0.000000      \n",
       "68                                           0.000000      \n",
       "70                                           0.011297      \n",
       "72                                           0.000000      \n",
       "73                                           0.083653      \n",
       "74                                           0.083653      \n",
       "75                                           0.047645      \n",
       "78                                           0.053513      \n",
       "81                                          -0.000000      \n",
       "82                                           0.000000      \n",
       "84                                           0.000000      \n",
       "85                                           0.083653      \n",
       "86                                           0.000000      \n",
       "87                                           0.000000      \n",
       "88                                           0.000000      "
      ]
     },
     "execution_count": 264,
     "metadata": {},
     "output_type": "execute_result"
    }
   ],
   "source": [
    "# Define the design matrix\n",
    "outcome_matrix, design_matrix = cal_palm.define_design_matrix(formula, data_df)\n",
    "design_matrix"
   ]
  },
  {
   "cell_type": "markdown",
   "metadata": {},
   "source": [
    "# 03 - Visualize Your Dependent Variable\n",
    "\n",
    "I have generated this for you based on the formula you provided"
   ]
  },
  {
   "cell_type": "code",
   "execution_count": 265,
   "metadata": {},
   "outputs": [
    {
     "data": {
      "text/html": [
       "<div>\n",
       "<style scoped>\n",
       "    .dataframe tbody tr th:only-of-type {\n",
       "        vertical-align: middle;\n",
       "    }\n",
       "\n",
       "    .dataframe tbody tr th {\n",
       "        vertical-align: top;\n",
       "    }\n",
       "\n",
       "    .dataframe thead th {\n",
       "        text-align: right;\n",
       "    }\n",
       "</style>\n",
       "<table border=\"1\" class=\"dataframe\">\n",
       "  <thead>\n",
       "    <tr style=\"text-align: right;\">\n",
       "      <th></th>\n",
       "      <th>Pre_Post_Memory_Effect_Size__Cohen_s_D_</th>\n",
       "    </tr>\n",
       "  </thead>\n",
       "  <tbody>\n",
       "    <tr>\n",
       "      <th>3</th>\n",
       "      <td>0.570039</td>\n",
       "    </tr>\n",
       "    <tr>\n",
       "      <th>4</th>\n",
       "      <td>0.275026</td>\n",
       "    </tr>\n",
       "    <tr>\n",
       "      <th>6</th>\n",
       "      <td>0.164150</td>\n",
       "    </tr>\n",
       "    <tr>\n",
       "      <th>7</th>\n",
       "      <td>-0.328300</td>\n",
       "    </tr>\n",
       "    <tr>\n",
       "      <th>8</th>\n",
       "      <td>-0.286484</td>\n",
       "    </tr>\n",
       "    <tr>\n",
       "      <th>9</th>\n",
       "      <td>0.286484</td>\n",
       "    </tr>\n",
       "    <tr>\n",
       "      <th>15</th>\n",
       "      <td>0.805528</td>\n",
       "    </tr>\n",
       "    <tr>\n",
       "      <th>17</th>\n",
       "      <td>0.303440</td>\n",
       "    </tr>\n",
       "    <tr>\n",
       "      <th>18</th>\n",
       "      <td>0.056203</td>\n",
       "    </tr>\n",
       "    <tr>\n",
       "      <th>20</th>\n",
       "      <td>0.583212</td>\n",
       "    </tr>\n",
       "    <tr>\n",
       "      <th>21</th>\n",
       "      <td>-0.116642</td>\n",
       "    </tr>\n",
       "    <tr>\n",
       "      <th>22</th>\n",
       "      <td>-0.003570</td>\n",
       "    </tr>\n",
       "    <tr>\n",
       "      <th>24</th>\n",
       "      <td>-0.071364</td>\n",
       "    </tr>\n",
       "    <tr>\n",
       "      <th>25</th>\n",
       "      <td>-0.285456</td>\n",
       "    </tr>\n",
       "    <tr>\n",
       "      <th>29</th>\n",
       "      <td>0.165875</td>\n",
       "    </tr>\n",
       "    <tr>\n",
       "      <th>31</th>\n",
       "      <td>0.204579</td>\n",
       "    </tr>\n",
       "    <tr>\n",
       "      <th>33</th>\n",
       "      <td>-0.246280</td>\n",
       "    </tr>\n",
       "    <tr>\n",
       "      <th>34</th>\n",
       "      <td>-0.306777</td>\n",
       "    </tr>\n",
       "    <tr>\n",
       "      <th>35</th>\n",
       "      <td>-0.375985</td>\n",
       "    </tr>\n",
       "    <tr>\n",
       "      <th>36</th>\n",
       "      <td>1.753847</td>\n",
       "    </tr>\n",
       "    <tr>\n",
       "      <th>38</th>\n",
       "      <td>0.055730</td>\n",
       "    </tr>\n",
       "    <tr>\n",
       "      <th>39</th>\n",
       "      <td>-0.166366</td>\n",
       "    </tr>\n",
       "    <tr>\n",
       "      <th>43</th>\n",
       "      <td>1.729384</td>\n",
       "    </tr>\n",
       "    <tr>\n",
       "      <th>44</th>\n",
       "      <td>-0.822971</td>\n",
       "    </tr>\n",
       "    <tr>\n",
       "      <th>47</th>\n",
       "      <td>-0.110225</td>\n",
       "    </tr>\n",
       "    <tr>\n",
       "      <th>48</th>\n",
       "      <td>-0.106597</td>\n",
       "    </tr>\n",
       "    <tr>\n",
       "      <th>51</th>\n",
       "      <td>0.330529</td>\n",
       "    </tr>\n",
       "    <tr>\n",
       "      <th>52</th>\n",
       "      <td>0.103013</td>\n",
       "    </tr>\n",
       "    <tr>\n",
       "      <th>55</th>\n",
       "      <td>0.129971</td>\n",
       "    </tr>\n",
       "    <tr>\n",
       "      <th>56</th>\n",
       "      <td>0.535931</td>\n",
       "    </tr>\n",
       "    <tr>\n",
       "      <th>57</th>\n",
       "      <td>0.655184</td>\n",
       "    </tr>\n",
       "    <tr>\n",
       "      <th>58</th>\n",
       "      <td>0.135972</td>\n",
       "    </tr>\n",
       "    <tr>\n",
       "      <th>59</th>\n",
       "      <td>0.372275</td>\n",
       "    </tr>\n",
       "    <tr>\n",
       "      <th>65</th>\n",
       "      <td>0.182981</td>\n",
       "    </tr>\n",
       "    <tr>\n",
       "      <th>66</th>\n",
       "      <td>-0.189190</td>\n",
       "    </tr>\n",
       "    <tr>\n",
       "      <th>68</th>\n",
       "      <td>0.346947</td>\n",
       "    </tr>\n",
       "    <tr>\n",
       "      <th>70</th>\n",
       "      <td>-0.261158</td>\n",
       "    </tr>\n",
       "    <tr>\n",
       "      <th>72</th>\n",
       "      <td>0.084114</td>\n",
       "    </tr>\n",
       "    <tr>\n",
       "      <th>73</th>\n",
       "      <td>-0.233950</td>\n",
       "    </tr>\n",
       "    <tr>\n",
       "      <th>74</th>\n",
       "      <td>0.222619</td>\n",
       "    </tr>\n",
       "    <tr>\n",
       "      <th>75</th>\n",
       "      <td>0.738549</td>\n",
       "    </tr>\n",
       "    <tr>\n",
       "      <th>78</th>\n",
       "      <td>-0.443129</td>\n",
       "    </tr>\n",
       "    <tr>\n",
       "      <th>81</th>\n",
       "      <td>-0.154835</td>\n",
       "    </tr>\n",
       "    <tr>\n",
       "      <th>82</th>\n",
       "      <td>-0.466229</td>\n",
       "    </tr>\n",
       "    <tr>\n",
       "      <th>84</th>\n",
       "      <td>0.410792</td>\n",
       "    </tr>\n",
       "    <tr>\n",
       "      <th>85</th>\n",
       "      <td>1.107823</td>\n",
       "    </tr>\n",
       "    <tr>\n",
       "      <th>86</th>\n",
       "      <td>0.821585</td>\n",
       "    </tr>\n",
       "    <tr>\n",
       "      <th>87</th>\n",
       "      <td>0.027821</td>\n",
       "    </tr>\n",
       "    <tr>\n",
       "      <th>88</th>\n",
       "      <td>-0.366995</td>\n",
       "    </tr>\n",
       "  </tbody>\n",
       "</table>\n",
       "</div>"
      ],
      "text/plain": [
       "    Pre_Post_Memory_Effect_Size__Cohen_s_D_\n",
       "3                                  0.570039\n",
       "4                                  0.275026\n",
       "6                                  0.164150\n",
       "7                                 -0.328300\n",
       "8                                 -0.286484\n",
       "9                                  0.286484\n",
       "15                                 0.805528\n",
       "17                                 0.303440\n",
       "18                                 0.056203\n",
       "20                                 0.583212\n",
       "21                                -0.116642\n",
       "22                                -0.003570\n",
       "24                                -0.071364\n",
       "25                                -0.285456\n",
       "29                                 0.165875\n",
       "31                                 0.204579\n",
       "33                                -0.246280\n",
       "34                                -0.306777\n",
       "35                                -0.375985\n",
       "36                                 1.753847\n",
       "38                                 0.055730\n",
       "39                                -0.166366\n",
       "43                                 1.729384\n",
       "44                                -0.822971\n",
       "47                                -0.110225\n",
       "48                                -0.106597\n",
       "51                                 0.330529\n",
       "52                                 0.103013\n",
       "55                                 0.129971\n",
       "56                                 0.535931\n",
       "57                                 0.655184\n",
       "58                                 0.135972\n",
       "59                                 0.372275\n",
       "65                                 0.182981\n",
       "66                                -0.189190\n",
       "68                                 0.346947\n",
       "70                                -0.261158\n",
       "72                                 0.084114\n",
       "73                                -0.233950\n",
       "74                                 0.222619\n",
       "75                                 0.738549\n",
       "78                                -0.443129\n",
       "81                                -0.154835\n",
       "82                                -0.466229\n",
       "84                                 0.410792\n",
       "85                                 1.107823\n",
       "86                                 0.821585\n",
       "87                                 0.027821\n",
       "88                                -0.366995"
      ]
     },
     "execution_count": 265,
     "metadata": {},
     "output_type": "execute_result"
    }
   ],
   "source": [
    "outcome_matrix"
   ]
  },
  {
   "cell_type": "markdown",
   "metadata": {},
   "source": [
    "# 04 - Generate Contrasts"
   ]
  },
  {
   "cell_type": "markdown",
   "metadata": {},
   "source": [
    "Generate a Contrast Matrix\n",
    "- This is different from the contrast matrices used in cell-means regressions such as in PALM, but it is much more powerful. \n",
    "\n",
    "\n",
    "\n",
    "For more information on contrast matrices, please refer to this: https://cran.r-project.org/web/packages/codingMatrices/vignettes/codingMatrices.pdf\n",
    "\n",
    "Generally, these drastically effect the results of ANOVA. However, they are mereley a nuisance for a regression.\n",
    "In essence, they assess the coefficients of a given\n",
    "\n",
    "________________________________________________________________\n",
    "A coding matrix (a contrast matrix if it sums to zero) is simply a way of defining what coefficients to evaluate and how to evaluate them. \n",
    "If a coefficient is set to 1 and everything else is set to zero, we are taking the mean of the coefficient's means and assessing if they significantly\n",
    "deviate from zero--IE we are checking if it had a significant impact on the ability to predict the depdendent variable.\n",
    "If a coefficient is set to 1, another is -1, and others are 0, we are assessing how the means of the two coefficients deviate from eachother. \n",
    "If several coefficients are 1 and several others are -1, we are assessing how the group-level means of the two coefficients deviate from eachother.\n",
    "If a group of coefficients are 1, a group is -1, and a group is 0, we are only assessing how the groups +1 and -1 have differing means. \n",
    "\n",
    "1: This value indicates that the corresponding variable's coefficient in the model is included in the contrast. It means you are interested in estimating the effect of that variable.\n",
    "\n",
    "0: This value indicates that the corresponding variable's coefficient in the model is not included in the contrast. It means you are not interested in estimating the effect of that variable.\n",
    "\n",
    "-1: This value indicates that the corresponding variable's coefficient in the model is included in the contrast, but with an opposite sign. It means you are interested in estimating the negative effect of that variable.\n",
    "\n",
    "----------------------------------------------------------------\n",
    "The contrast matrix is typically a matrix with dimensions (number of contrasts) x (number of regression coefficients). Each row of the contrast matrix represents a contrast or comparison you want to test.\n",
    "\n",
    "For example, let's say you have the following regression coefficients in your model:\n",
    "\n",
    "Intercept, Age, connectivity, Age_interaction_connectivity\n",
    "A contrast matric has dimensions of [n_predictors, n_experiments] where each experiment is a contrast\n",
    "\n",
    "If you want to test the hypothesis that the effect of Age is significant, you can set up a contrast matrix with a row that specifies this contrast (actually an averaging vector):\n",
    "```\n",
    "[0,1,0,0]. This is an averaging vector because it sums to 1\n",
    "```\n",
    "This contrast will test the coefficient corresponding to the Age variable against zero.\n",
    "\n",
    "\n",
    "If you want to test the hypothesis that the effect of Age is different from the effect of connectivity, you can set up a contrast matrix with two rows:\n",
    "```\n",
    "[0,1,−1,0]. This is a contrast because it sums to 0\n",
    "```\n",
    "\n",
    "Thus, if you want to see if any given effect is significant compared to the intercept (average), you can use the following contrast matrix:\n",
    "```\n",
    "[1,0,0,0]\n",
    "[-1,1,0,0]\n",
    "[-1,0,1,0]\n",
    "[-1,0,0,1] actually a coding matrix of averaging vectors\n",
    "```\n",
    "\n",
    "The first row tests the coefficient for Age against zero, and the second row tests the coefficient for connectivity against zero. The difference between the two coefficients can then be assessed.\n",
    "_____\n",
    "You can define any number of contrasts in the contrast matrix to test different hypotheses or comparisons of interest in your regression analysis.\n",
    "\n",
    "It's important to note that the specific contrasts you choose depend on your research questions and hypotheses. You should carefully consider the comparisons you want to make and design the contrast matrix accordingly.\n",
    "\n",
    "- Examples:\n",
    "    - [Two Sample T-Test](https://fsl.fmrib.ox.ac.uk/fsl/fslwiki/GLM#Two-Group_Difference_.28Two-Sample_Unpaired_T-Test.29)\n",
    "    - [One Sample with Covariate](https://fsl.fmrib.ox.ac.uk/fsl/fslwiki/GLM#Single-Group_Average_with_Additional_Covariate)"
   ]
  },
  {
   "cell_type": "code",
   "execution_count": 266,
   "metadata": {},
   "outputs": [
    {
     "name": "stdout",
     "output_type": "stream",
     "text": [
      "Here is a basic contrast matrix set up to evaluate the significance of each variable.\n",
      "Here is an example of what your contrast matrix looks like as a dataframe: \n"
     ]
    },
    {
     "data": {
      "text/html": [
       "<div>\n",
       "<style scoped>\n",
       "    .dataframe tbody tr th:only-of-type {\n",
       "        vertical-align: middle;\n",
       "    }\n",
       "\n",
       "    .dataframe tbody tr th {\n",
       "        vertical-align: top;\n",
       "    }\n",
       "\n",
       "    .dataframe thead th {\n",
       "        text-align: right;\n",
       "    }\n",
       "</style>\n",
       "<table border=\"1\" class=\"dataframe\">\n",
       "  <thead>\n",
       "    <tr style=\"text-align: right;\">\n",
       "      <th></th>\n",
       "      <th>Intercept</th>\n",
       "      <th>all_datasets_weighted_avg_r_map_cosine</th>\n",
       "      <th>Frequency__Hz_</th>\n",
       "      <th>all_datasets_weighted_avg_r_map_cosine:Frequency__Hz_</th>\n",
       "    </tr>\n",
       "  </thead>\n",
       "  <tbody>\n",
       "    <tr>\n",
       "      <th>0</th>\n",
       "      <td>1</td>\n",
       "      <td>0</td>\n",
       "      <td>0</td>\n",
       "      <td>0</td>\n",
       "    </tr>\n",
       "    <tr>\n",
       "      <th>1</th>\n",
       "      <td>0</td>\n",
       "      <td>1</td>\n",
       "      <td>0</td>\n",
       "      <td>0</td>\n",
       "    </tr>\n",
       "    <tr>\n",
       "      <th>2</th>\n",
       "      <td>0</td>\n",
       "      <td>0</td>\n",
       "      <td>1</td>\n",
       "      <td>0</td>\n",
       "    </tr>\n",
       "    <tr>\n",
       "      <th>3</th>\n",
       "      <td>0</td>\n",
       "      <td>0</td>\n",
       "      <td>0</td>\n",
       "      <td>1</td>\n",
       "    </tr>\n",
       "  </tbody>\n",
       "</table>\n",
       "</div>"
      ],
      "text/plain": [
       "   Intercept  all_datasets_weighted_avg_r_map_cosine  Frequency__Hz_  \\\n",
       "0          1                                       0               0   \n",
       "1          0                                       1               0   \n",
       "2          0                                       0               1   \n",
       "3          0                                       0               0   \n",
       "\n",
       "   all_datasets_weighted_avg_r_map_cosine:Frequency__Hz_  \n",
       "0                                                  0      \n",
       "1                                                  0      \n",
       "2                                                  0      \n",
       "3                                                  1      "
      ]
     },
     "metadata": {},
     "output_type": "display_data"
    },
    {
     "name": "stdout",
     "output_type": "stream",
     "text": [
      "Below is the same contrast matrix, but as an array.\n",
      "Copy it into a cell below and edit it for more control over your analysis.\n",
      "[\n",
      "    [1, 0, 0, 0],\n",
      "    [0, 1, 0, 0],\n",
      "    [0, 0, 1, 0],\n",
      "    [0, 0, 0, 1],\n",
      "]\n"
     ]
    }
   ],
   "source": [
    "contrast_matrix = cal_palm.generate_basic_contrast_matrix(design_matrix)\n"
   ]
  },
  {
   "cell_type": "markdown",
   "metadata": {},
   "source": [
    "Edit Contrast Matrix Here\n",
    "- The generic contrast matrix will simply check if your Betas are significantly different from the intercept (average)"
   ]
  },
  {
   "cell_type": "code",
   "execution_count": 267,
   "metadata": {},
   "outputs": [],
   "source": [
    "# # ptrn = oldhigh oldlow younghigh younglow\n",
    "# contrast_matrix = [\n",
    "#     [0, 0, 0, 0],\n",
    "#     [0, 1, 0, 0],\n",
    "#     [0, 0, 1, 0],\n",
    "#     [0, 0, 0, 1],\n",
    "# ]"
   ]
  },
  {
   "cell_type": "markdown",
   "metadata": {},
   "source": [
    "Finalize Contrast Matrix"
   ]
  },
  {
   "cell_type": "code",
   "execution_count": 268,
   "metadata": {},
   "outputs": [
    {
     "data": {
      "text/html": [
       "<div>\n",
       "<style scoped>\n",
       "    .dataframe tbody tr th:only-of-type {\n",
       "        vertical-align: middle;\n",
       "    }\n",
       "\n",
       "    .dataframe tbody tr th {\n",
       "        vertical-align: top;\n",
       "    }\n",
       "\n",
       "    .dataframe thead th {\n",
       "        text-align: right;\n",
       "    }\n",
       "</style>\n",
       "<table border=\"1\" class=\"dataframe\">\n",
       "  <thead>\n",
       "    <tr style=\"text-align: right;\">\n",
       "      <th></th>\n",
       "      <th>Intercept</th>\n",
       "      <th>all_datasets_weighted_avg_r_map_cosine</th>\n",
       "      <th>Frequency__Hz_</th>\n",
       "      <th>all_datasets_weighted_avg_r_map_cosine:Frequency__Hz_</th>\n",
       "    </tr>\n",
       "  </thead>\n",
       "  <tbody>\n",
       "    <tr>\n",
       "      <th>0</th>\n",
       "      <td>1</td>\n",
       "      <td>0</td>\n",
       "      <td>0</td>\n",
       "      <td>0</td>\n",
       "    </tr>\n",
       "    <tr>\n",
       "      <th>1</th>\n",
       "      <td>0</td>\n",
       "      <td>1</td>\n",
       "      <td>0</td>\n",
       "      <td>0</td>\n",
       "    </tr>\n",
       "    <tr>\n",
       "      <th>2</th>\n",
       "      <td>0</td>\n",
       "      <td>0</td>\n",
       "      <td>1</td>\n",
       "      <td>0</td>\n",
       "    </tr>\n",
       "    <tr>\n",
       "      <th>3</th>\n",
       "      <td>0</td>\n",
       "      <td>0</td>\n",
       "      <td>0</td>\n",
       "      <td>1</td>\n",
       "    </tr>\n",
       "  </tbody>\n",
       "</table>\n",
       "</div>"
      ],
      "text/plain": [
       "   Intercept  all_datasets_weighted_avg_r_map_cosine  Frequency__Hz_  \\\n",
       "0          1                                       0               0   \n",
       "1          0                                       1               0   \n",
       "2          0                                       0               1   \n",
       "3          0                                       0               0   \n",
       "\n",
       "   all_datasets_weighted_avg_r_map_cosine:Frequency__Hz_  \n",
       "0                                                  0      \n",
       "1                                                  0      \n",
       "2                                                  0      \n",
       "3                                                  1      "
      ]
     },
     "execution_count": 268,
     "metadata": {},
     "output_type": "execute_result"
    }
   ],
   "source": [
    "contrast_matrix_df = cal_palm.finalize_contrast_matrix(design_matrix=design_matrix, \n",
    "                                                    contrast_matrix=contrast_matrix) \n",
    "contrast_matrix_df"
   ]
  },
  {
   "cell_type": "markdown",
   "metadata": {},
   "source": [
    "# 06 - Run the Regression"
   ]
  },
  {
   "cell_type": "markdown",
   "metadata": {},
   "source": [
    "Regression Results Are Displayed Below"
   ]
  },
  {
   "cell_type": "code",
   "execution_count": 269,
   "metadata": {},
   "outputs": [
    {
     "name": "stdout",
     "output_type": "stream",
     "text": [
      "                                   Results: Ordinary least squares\n",
      "=====================================================================================================\n",
      "Model:                    OLS                                         Adj. R-squared:         0.076  \n",
      "Dependent Variable:       Pre_Post_Memory_Effect_Size__Cohen_s_D_     AIC:                    72.5577\n",
      "Date:                     2025-05-19 14:44                            BIC:                    80.1250\n",
      "No. Observations:         49                                          Log-Likelihood:         -32.279\n",
      "Df Model:                 3                                           F-statistic:            2.320  \n",
      "Df Residuals:             45                                          Prob (F-statistic):     0.0880 \n",
      "R-squared:                0.134                                       Scale:                  0.23806\n",
      "-----------------------------------------------------------------------------------------------------\n",
      "                                                       Coef.  Std.Err.    t    P>|t|   [0.025  0.975]\n",
      "-----------------------------------------------------------------------------------------------------\n",
      "Intercept                                             -0.1415   0.1624 -0.8714 0.3882 -0.4685  0.1855\n",
      "all_datasets_weighted_avg_r_map_cosine                13.7036   6.5479  2.0928 0.0420  0.5155 26.8918\n",
      "Frequency__Hz_                                         0.0397   0.0827  0.4804 0.6333 -0.1268  0.2063\n",
      "all_datasets_weighted_avg_r_map_cosine:Frequency__Hz_ -0.0670   3.6567 -0.0183 0.9855 -7.4319  7.2979\n",
      "-----------------------------------------------------------------------------------------------------\n",
      "Omnibus:                          13.982                   Durbin-Watson:                      2.242 \n",
      "Prob(Omnibus):                    0.001                    Jarque-Bera (JB):                   16.651\n",
      "Skew:                             1.035                    Prob(JB):                           0.000 \n",
      "Kurtosis:                         4.968                    Condition No.:                      156   \n",
      "=====================================================================================================\n",
      "Notes:\n",
      "[1] Standard Errors assume that the covariance matrix of the errors is correctly specified.\n"
     ]
    }
   ],
   "source": [
    "import statsmodels.api as sm\n",
    "# Fit the regression model\n",
    "model = sm.OLS(outcome_matrix, design_matrix)\n",
    "results = model.fit()\n",
    "print(results.summary2())"
   ]
  },
  {
   "cell_type": "markdown",
   "metadata": {},
   "source": [
    "Visualize the Regression as a Plane"
   ]
  },
  {
   "cell_type": "code",
   "execution_count": 194,
   "metadata": {},
   "outputs": [
    {
     "name": "stdout",
     "output_type": "stream",
     "text": [
      "ValueError encountered. Refitting the model with the provided formula.\n",
      "(75,)\n",
      "(75,)\n"
     ]
    },
    {
     "data": {
      "application/vnd.plotly.v1+json": {
       "config": {
        "plotlyServerURL": "https://plot.ly"
       },
       "data": [
        {
         "colorscale": [
          [
           0,
           "rgb(255,255,255)"
          ],
          [
           0.125,
           "rgb(240,240,240)"
          ],
          [
           0.25,
           "rgb(217,217,217)"
          ],
          [
           0.375,
           "rgb(189,189,189)"
          ],
          [
           0.5,
           "rgb(150,150,150)"
          ],
          [
           0.625,
           "rgb(115,115,115)"
          ],
          [
           0.75,
           "rgb(82,82,82)"
          ],
          [
           0.875,
           "rgb(37,37,37)"
          ],
          [
           1,
           "rgb(0,0,0)"
          ]
         ],
         "name": "Prediction Surface",
         "opacity": 0.7,
         "type": "surface",
         "x": {
          "bdata": "98yY9P1yjL+OBOoRhkiLvyY8Oy8OHoq/vXOMTJbziL9Uq91pHsmHv+viLoemnoa/ghqApC50hb8aUtHBtkmEv7GJIt8+H4O/SMFz/Mb0gb/g+MQZT8qAv+5gLG6uP3+/HNDOqL7qfL9KP3HjzpV6v3quEx7fQHi/qB22WO/rdb/WjFiT/5ZzvwT8+s0PQnG/ZNY6EUDabb/EtH+GYDBpvyCTxPuAhmS/+OIS4kK5X7+4n5zMg2VWv+C4TG6JI0q/QMmADS3wLb+AqBjP5VY2P9DaeBLx0k0/qLCynjc9WD/0eRRae8hgP5ybz+RacmU/PL2Kbzocaj/k3kX6GcZuP0KAgML8t3E/EhHeh+wMdD/moTtN3GF2P7YymRLMtng/isP217sLez9aVFSdq2B9PyrlsWKbtX8//7oHlEUFgT9ng7Z2vS+CP89LZVk1WoM/ORQUPK2EhD+h3MIeJa+FPwmlcQGd2YY/c20g5BQEiD/bNc/GjC6JP0X+fakEWYo/rcYsjHyDiz8Vj9tu9K2MP39XilFs2I0/5x85NOQCjz8o9HMLrhaQP1xYy/zpq5A/kLwi7iVBkT/EIHrfYdaRP/iE0dCda5I/LukowtkAkz9iTYCzFZaTP5ax16RRK5Q/yhUvlo3AlD/+eYaHyVWVPzTe3XgF65U/aEI1akGAlj+cpoxbfRWXP9AK5Ey5qpc/BG87PvU/mD8605IvMdWYP2436iBtapk/optBEqn/mT/W/5gD5ZSaPwpk8PQgKps/QMhH5ly/mz90LJ/XmFScP6iQ9sjU6Zw/3PRNuhB/nT8QWaWrTBSeP0S9/JyIqZ4/eiFUjsQ+nz+uhat/ANSfP/F0gTieNKA/CyctMTx/oD8l2dgp2smgP0CLhCJ4FKE/Wj0wGxZfoT9079sTtKmhP46hhwxS9KE/qFMzBfA+oj/CBd/9jYmiP923ivYr1KI/92k278keoz8RHOLnZ2mjPyvOjeAFtKM/RYA52aP+oz9gMuXRQUmkP3rkkMrfk6Q/lJY8w33epD+uSOi7GymlP8j6k7S5c6U/46w/rVe+pT8=",
          "dtype": "f8"
         },
         "y": {
          "bdata": "AAAAAAAA8L8K1PqVArXuvxWo9SsFau2/H3zwwQcf7L8pUOtXCtTqvzQk5u0Miem/Pvjggw8+6L9IzNsZEvPmv1Kg1q8UqOW/XXTRRRdd5L9nSMzbGRLjv3Icx3Ecx+G/fPDBBx984L8MiXk7Q2LevyAxb2dIzNu/Ntlkk0022b9KgVq/UqDWv14pUOtXCtS/dNFFF1100b8Q83aGxLzNvzhDYt7OkMi/ZJNNNtlkw78Yx3Ecx3G8v2hnSMzbGbK/AB988MEHn7+Av1Kg1q+EP0BvZ0jM26k/UBdddNFFtz+AO0Ni3s7AP1DrVwrU+sU/KJtssskmyz+ApUCtXynQP2z9SoFav9I/WFVVVVVV1T9ErV8pUOvXPzAFav1Kgdo/GF100UUX3T8EtX6lQK3fP3iGxLydIeE/brLJJpts4j9k3s6QmLfjP1oK1PqVAuU/TjbZZJNN5j9EYt7OkJjnPzqO4ziO4+g/MLrooosu6j8m5u0MiXnrPxwS83aGxOw/ED744IMP7j8Gav1KgVrvP/5KgVq/UvA/+uCDDz748D/0dobEvJ3xP+4MiXk7Q/I/6qKLLrro8j/kOI7jOI7zP+DOkJi3M/Q/2mSTTTbZ9D/U+pUCtX71P9CQmLczJPY/yiabbLLJ9j/GvJ0hMW/3P8BSoNavFPg/vOiiiy66+D+2fqVArV/5P7AUqPUrBfo/rKqqqqqq+j+mQK1fKVD7P6LWrxSo9fs/nGyyySab/D+YArV+pUD9P5KYtzMk5v0/jC666KKL/j+IxLydITH/P4Jav1Kg1v8/P/jggw8+AEA8Q2LezpAAQDmO4ziO4wBAN9lkk002AUA0JObtDIkBQDJvZ0jM2wFAL7rooosuAkAtBWr9SoECQCpQ61cK1AJAJ5tssskmA0Al5u0MiXkDQCIxb2dIzANAIHzwwQcfBEAdx3Ecx3EEQBsS83aGxARAGF100UUXBUAVqPUrBWoFQBPzdobEvAVAED744IMPBkAOiXk7Q2IGQAvU+pUCtQZACB988MEHB0AGav1KgVoHQAO1fqVArQdAAAAAAAAACEA=",
          "dtype": "f8"
         },
         "z": {
          "bdata": "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",
          "dtype": "f8",
          "shape": "100, 100"
         }
        },
        {
         "marker": {
          "color": "red",
          "size": 5
         },
         "mode": "markers",
         "name": "Actual Points",
         "type": "scatter3d",
         "x": [
          0.0098232583417816,
          0.0098232583417816,
          0.0012261674511189,
          -0.009512685380559,
          0.0098232583417816,
          -0.0115461506518705,
          0.0098232583417816,
          0.0098232583417816,
          0.0098232583417816,
          0.0098232583417816,
          0.0369753781641209,
          0.0424678229317921,
          -0.0084381195237442,
          -0.0084381195237442,
          0.0424678229317921,
          -0.0037684783643072,
          -0.0037684783643072,
          -0.0037684783643072,
          -0.0138912048597377,
          -0.0037684783643072,
          -0.0079485747645271,
          0.0424678229317921,
          0.0369753781641209,
          0.0330399413593831,
          0.0098232583417816,
          -0.0101931598575659,
          -0.0037684783643072,
          0.0098232583417816,
          0.0076129572350768,
          0.0098232583417816,
          0.0006572045568358,
          0.0098232583417816,
          0.0002554998847733,
          0.0098232583417816,
          0.0098232583417816,
          0.0098232583417816,
          0.0098232583417816,
          0.0098232583417816,
          0.0340288854199931,
          0.005934401693848,
          -0.0037684783643072,
          0.0131002346179272,
          0.0424678229317921,
          0.0098232583417816,
          0.0098232583417816,
          0.0098232583417816,
          -0.0037684783643072,
          -0.0037684783643072,
          0.0095114752383148,
          0.0095114752383148,
          0.0342782523311094,
          0.005934401693848,
          -0.0115461506518705,
          -0.0115461506518705,
          0.0098232583417816,
          0.0098232583417816,
          -0.0021157311420141,
          -0.0057793971718234,
          0.0098232583417816,
          0.0098232583417816,
          0.0098232583417816,
          -0.0016596957812904,
          -0.0016596957812904,
          -0.0016596957812904,
          0.0330399413593831,
          0.0330399413593831,
          0.0330399413593831,
          -0.0060372668663584,
          0.0098232583417816,
          0.005934401693848,
          0.0098232583417816,
          0.0098232583417816,
          0.0098232583417816,
          0.0098232583417816,
          0.0098232583417816
         ],
         "y": [
          2,
          2,
          1,
          1,
          1,
          1,
          2,
          2,
          2,
          2,
          2,
          2,
          0,
          0,
          2,
          2,
          0,
          0,
          -1,
          2,
          2,
          2,
          2,
          1,
          2,
          2,
          2,
          2,
          2,
          2,
          2,
          2,
          1,
          2,
          2,
          2,
          2,
          2,
          2,
          2,
          2,
          2,
          2,
          -1,
          2,
          2,
          1,
          3,
          1,
          3,
          -1,
          0,
          2,
          0,
          2,
          2,
          2,
          -1,
          2,
          2,
          2,
          0,
          0,
          0,
          0,
          0,
          0,
          2,
          2,
          2,
          2,
          2,
          2,
          2,
          2
         ],
         "z": [
          0.570038672,
          0.275026327,
          0.164149788,
          -0.328299577,
          -0.286483714,
          0.286483714,
          0.248242554,
          0.805527737,
          0.962380675,
          0.303439857,
          0.056202918,
          0.029123202,
          0.583211844,
          -0.116642369,
          -0.003569585,
          -0.162979277,
          -0.071364004,
          -0.285456016,
          0,
          -2.504396135,
          -0.383205937,
          0.165875289,
          0.204579272,
          0.622389284,
          -0.246279505,
          -0.306776944,
          -0.37598483,
          1.753847312,
          0.215807689,
          0.055730444,
          -0.16636598,
          1.729384061,
          -0.822971386,
          0.356522278,
          0.287715153,
          -0.110225031,
          -0.106596602,
          0.330528607,
          0.103013277,
          0.040368671,
          -1.123041676,
          0.129970822,
          0.535930613,
          0.655183901,
          0.135971786,
          0.372274523,
          0.535924283,
          -0.222398799,
          0.420886109,
          0,
          -2.47437871,
          0.182981264,
          -0.189190126,
          -0.400568125,
          0.34694715,
          0.399056411,
          -0.26115845,
          0.193649167,
          0.084113827,
          -0.233949803,
          0.222618806,
          0.738548946,
          -0.073854895,
          0,
          -0.443129368,
          0.590839157,
          -0.553997816,
          -0.154835425,
          -0.466228806,
          0.289827535,
          0.410791918,
          1.107823419,
          0.821585224,
          0.027820911,
          -0.366994709
         ]
        },
        {
         "line": {
          "color": "blue",
          "dash": "dash"
         },
         "mode": "lines",
         "name": "Residual",
         "showlegend": false,
         "type": "scatter3d",
         "x": [
          0.0098232583417816,
          0.0098232583417816
         ],
         "y": [
          2,
          2
         ],
         "z": [
          0.570038672,
          0.1188773540030322
         ]
        },
        {
         "line": {
          "color": "blue",
          "dash": "dash"
         },
         "mode": "lines",
         "name": "Residual",
         "showlegend": false,
         "type": "scatter3d",
         "x": [
          0.0098232583417816,
          0.0098232583417816
         ],
         "y": [
          2,
          2
         ],
         "z": [
          0.275026327,
          0.1188773540030322
         ]
        },
        {
         "line": {
          "color": "blue",
          "dash": "dash"
         },
         "mode": "lines",
         "name": "Residual",
         "showlegend": false,
         "type": "scatter3d",
         "x": [
          0.0012261674511189,
          0.0012261674511189
         ],
         "y": [
          1,
          1
         ],
         "z": [
          0.164149788,
          -0.0082722001570507
         ]
        },
        {
         "line": {
          "color": "blue",
          "dash": "dash"
         },
         "mode": "lines",
         "name": "Residual",
         "showlegend": false,
         "type": "scatter3d",
         "x": [
          -0.009512685380559,
          -0.009512685380559
         ],
         "y": [
          1,
          1
         ],
         "z": [
          -0.328299577,
          -0.006205076864915997
         ]
        },
        {
         "line": {
          "color": "blue",
          "dash": "dash"
         },
         "mode": "lines",
         "name": "Residual",
         "showlegend": false,
         "type": "scatter3d",
         "x": [
          0.0098232583417816,
          0.0098232583417816
         ],
         "y": [
          1,
          1
         ],
         "z": [
          -0.286483714,
          -0.009927055391891577
         ]
        },
        {
         "line": {
          "color": "blue",
          "dash": "dash"
         },
         "mode": "lines",
         "name": "Residual",
         "showlegend": false,
         "type": "scatter3d",
         "x": [
          -0.0115461506518705,
          -0.0115461506518705
         ],
         "y": [
          1,
          1
         ],
         "z": [
          0.286483714,
          -0.005813654848806816
         ]
        },
        {
         "line": {
          "color": "blue",
          "dash": "dash"
         },
         "mode": "lines",
         "name": "Residual",
         "showlegend": false,
         "type": "scatter3d",
         "x": [
          0.0098232583417816,
          0.0098232583417816
         ],
         "y": [
          2,
          2
         ],
         "z": [
          0.248242554,
          0.1188773540030322
         ]
        },
        {
         "line": {
          "color": "blue",
          "dash": "dash"
         },
         "mode": "lines",
         "name": "Residual",
         "showlegend": false,
         "type": "scatter3d",
         "x": [
          0.0098232583417816,
          0.0098232583417816
         ],
         "y": [
          2,
          2
         ],
         "z": [
          0.805527737,
          0.1188773540030322
         ]
        },
        {
         "line": {
          "color": "blue",
          "dash": "dash"
         },
         "mode": "lines",
         "name": "Residual",
         "showlegend": false,
         "type": "scatter3d",
         "x": [
          0.0098232583417816,
          0.0098232583417816
         ],
         "y": [
          2,
          2
         ],
         "z": [
          0.962380675,
          0.1188773540030322
         ]
        },
        {
         "line": {
          "color": "blue",
          "dash": "dash"
         },
         "mode": "lines",
         "name": "Residual",
         "showlegend": false,
         "type": "scatter3d",
         "x": [
          0.0098232583417816,
          0.0098232583417816
         ],
         "y": [
          2,
          2
         ],
         "z": [
          0.303439857,
          0.1188773540030322
         ]
        },
        {
         "line": {
          "color": "blue",
          "dash": "dash"
         },
         "mode": "lines",
         "name": "Residual",
         "showlegend": false,
         "type": "scatter3d",
         "x": [
          0.0369753781641209,
          0.0369753781641209
         ],
         "y": [
          2,
          2
         ],
         "z": [
          0.056202918,
          0.5148860447463738
         ]
        },
        {
         "line": {
          "color": "blue",
          "dash": "dash"
         },
         "mode": "lines",
         "name": "Residual",
         "showlegend": false,
         "type": "scatter3d",
         "x": [
          0.0424678229317921,
          0.0424678229317921
         ],
         "y": [
          2,
          2
         ],
         "z": [
          0.029123202,
          0.5949923449416192
         ]
        },
        {
         "line": {
          "color": "blue",
          "dash": "dash"
         },
         "mode": "lines",
         "name": "Residual",
         "showlegend": false,
         "type": "scatter3d",
         "x": [
          -0.0084381195237442,
          -0.0084381195237442
         ],
         "y": [
          0,
          0
         ],
         "z": [
          0.583211844,
          0.1346376545388257
         ]
        },
        {
         "line": {
          "color": "blue",
          "dash": "dash"
         },
         "mode": "lines",
         "name": "Residual",
         "showlegend": false,
         "type": "scatter3d",
         "x": [
          -0.0084381195237442,
          -0.0084381195237442
         ],
         "y": [
          0,
          0
         ],
         "z": [
          -0.116642369,
          0.1346376545388257
         ]
        },
        {
         "line": {
          "color": "blue",
          "dash": "dash"
         },
         "mode": "lines",
         "name": "Residual",
         "showlegend": false,
         "type": "scatter3d",
         "x": [
          0.0424678229317921,
          0.0424678229317921
         ],
         "y": [
          2,
          2
         ],
         "z": [
          -0.003569585,
          0.5949923449416192
         ]
        },
        {
         "line": {
          "color": "blue",
          "dash": "dash"
         },
         "mode": "lines",
         "name": "Residual",
         "showlegend": false,
         "type": "scatter3d",
         "x": [
          -0.0037684783643072,
          -0.0037684783643072
         ],
         "y": [
          2,
          2
         ],
         "z": [
          -0.162979277,
          -0.07935563454904604
         ]
        },
        {
         "line": {
          "color": "blue",
          "dash": "dash"
         },
         "mode": "lines",
         "name": "Residual",
         "showlegend": false,
         "type": "scatter3d",
         "x": [
          -0.0037684783643072,
          -0.0037684783643072
         ],
         "y": [
          0,
          0
         ],
         "z": [
          -0.071364004,
          0.06473407438609646
         ]
        },
        {
         "line": {
          "color": "blue",
          "dash": "dash"
         },
         "mode": "lines",
         "name": "Residual",
         "showlegend": false,
         "type": "scatter3d",
         "x": [
          -0.0037684783643072,
          -0.0037684783643072
         ],
         "y": [
          0,
          0
         ],
         "z": [
          -0.285456016,
          0.06473407438609646
         ]
        },
        {
         "line": {
          "color": "blue",
          "dash": "dash"
         },
         "mode": "lines",
         "name": "Residual",
         "showlegend": false,
         "type": "scatter3d",
         "x": [
          -0.0138912048597377,
          -0.0138912048597377
         ],
         "y": [
          -1,
          -1
         ],
         "z": [
          0,
          0.4379007249629028
         ]
        },
        {
         "line": {
          "color": "blue",
          "dash": "dash"
         },
         "mode": "lines",
         "name": "Residual",
         "showlegend": false,
         "type": "scatter3d",
         "x": [
          -0.0037684783643072,
          -0.0037684783643072
         ],
         "y": [
          2,
          2
         ],
         "z": [
          -2.504396135,
          -0.07935563454904604
         ]
        },
        {
         "line": {
          "color": "blue",
          "dash": "dash"
         },
         "mode": "lines",
         "name": "Residual",
         "showlegend": false,
         "type": "scatter3d",
         "x": [
          -0.0079485747645271,
          -0.0079485747645271
         ],
         "y": [
          2,
          2
         ],
         "z": [
          -0.383205937,
          -0.14032157435276263
         ]
        },
        {
         "line": {
          "color": "blue",
          "dash": "dash"
         },
         "mode": "lines",
         "name": "Residual",
         "showlegend": false,
         "type": "scatter3d",
         "x": [
          0.0424678229317921,
          0.0424678229317921
         ],
         "y": [
          2,
          2
         ],
         "z": [
          0.165875289,
          0.5949923449416192
         ]
        },
        {
         "line": {
          "color": "blue",
          "dash": "dash"
         },
         "mode": "lines",
         "name": "Residual",
         "showlegend": false,
         "type": "scatter3d",
         "x": [
          0.0369753781641209,
          0.0369753781641209
         ],
         "y": [
          2,
          2
         ],
         "z": [
          0.204579272,
          0.5148860447463738
         ]
        },
        {
         "line": {
          "color": "blue",
          "dash": "dash"
         },
         "mode": "lines",
         "name": "Residual",
         "showlegend": false,
         "type": "scatter3d",
         "x": [
          0.0330399413593831,
          0.0330399413593831
         ],
         "y": [
          1,
          1
         ],
         "z": [
          0.622389284,
          -0.014396037971690447
         ]
        },
        {
         "line": {
          "color": "blue",
          "dash": "dash"
         },
         "mode": "lines",
         "name": "Residual",
         "showlegend": false,
         "type": "scatter3d",
         "x": [
          0.0098232583417816,
          0.0098232583417816
         ],
         "y": [
          2,
          2
         ],
         "z": [
          -0.246279505,
          0.1188773540030322
         ]
        },
        {
         "line": {
          "color": "blue",
          "dash": "dash"
         },
         "mode": "lines",
         "name": "Residual",
         "showlegend": false,
         "type": "scatter3d",
         "x": [
          -0.0101931598575659,
          -0.0101931598575659
         ],
         "y": [
          2,
          2
         ],
         "z": [
          -0.306776944,
          -0.17305843651204783
         ]
        },
        {
         "line": {
          "color": "blue",
          "dash": "dash"
         },
         "mode": "lines",
         "name": "Residual",
         "showlegend": false,
         "type": "scatter3d",
         "x": [
          -0.0037684783643072,
          -0.0037684783643072
         ],
         "y": [
          2,
          2
         ],
         "z": [
          -0.37598483,
          -0.07935563454904604
         ]
        },
        {
         "line": {
          "color": "blue",
          "dash": "dash"
         },
         "mode": "lines",
         "name": "Residual",
         "showlegend": false,
         "type": "scatter3d",
         "x": [
          0.0098232583417816,
          0.0098232583417816
         ],
         "y": [
          2,
          2
         ],
         "z": [
          1.753847312,
          0.1188773540030322
         ]
        },
        {
         "line": {
          "color": "blue",
          "dash": "dash"
         },
         "mode": "lines",
         "name": "Residual",
         "showlegend": false,
         "type": "scatter3d",
         "x": [
          0.0076129572350768,
          0.0076129572350768
         ],
         "y": [
          2,
          2
         ],
         "z": [
          0.215807689,
          0.08664051750032283
         ]
        },
        {
         "line": {
          "color": "blue",
          "dash": "dash"
         },
         "mode": "lines",
         "name": "Residual",
         "showlegend": false,
         "type": "scatter3d",
         "x": [
          0.0098232583417816,
          0.0098232583417816
         ],
         "y": [
          2,
          2
         ],
         "z": [
          0.055730444,
          0.1188773540030322
         ]
        },
        {
         "line": {
          "color": "blue",
          "dash": "dash"
         },
         "mode": "lines",
         "name": "Residual",
         "showlegend": false,
         "type": "scatter3d",
         "x": [
          0.0006572045568358,
          0.0006572045568358
         ],
         "y": [
          2,
          2
         ],
         "z": [
          -0.16636598,
          -0.014807860352607248
         ]
        },
        {
         "line": {
          "color": "blue",
          "dash": "dash"
         },
         "mode": "lines",
         "name": "Residual",
         "showlegend": false,
         "type": "scatter3d",
         "x": [
          0.0098232583417816,
          0.0098232583417816
         ],
         "y": [
          2,
          2
         ],
         "z": [
          1.729384061,
          0.1188773540030322
         ]
        },
        {
         "line": {
          "color": "blue",
          "dash": "dash"
         },
         "mode": "lines",
         "name": "Residual",
         "showlegend": false,
         "type": "scatter3d",
         "x": [
          0.0002554998847733,
          0.0002554998847733
         ],
         "y": [
          1,
          1
         ],
         "z": [
          -0.822971386,
          -0.008085356220667302
         ]
        },
        {
         "line": {
          "color": "blue",
          "dash": "dash"
         },
         "mode": "lines",
         "name": "Residual",
         "showlegend": false,
         "type": "scatter3d",
         "x": [
          0.0098232583417816,
          0.0098232583417816
         ],
         "y": [
          2,
          2
         ],
         "z": [
          0.356522278,
          0.1188773540030322
         ]
        },
        {
         "line": {
          "color": "blue",
          "dash": "dash"
         },
         "mode": "lines",
         "name": "Residual",
         "showlegend": false,
         "type": "scatter3d",
         "x": [
          0.0098232583417816,
          0.0098232583417816
         ],
         "y": [
          2,
          2
         ],
         "z": [
          0.287715153,
          0.1188773540030322
         ]
        },
        {
         "line": {
          "color": "blue",
          "dash": "dash"
         },
         "mode": "lines",
         "name": "Residual",
         "showlegend": false,
         "type": "scatter3d",
         "x": [
          0.0098232583417816,
          0.0098232583417816
         ],
         "y": [
          2,
          2
         ],
         "z": [
          -0.110225031,
          0.1188773540030322
         ]
        },
        {
         "line": {
          "color": "blue",
          "dash": "dash"
         },
         "mode": "lines",
         "name": "Residual",
         "showlegend": false,
         "type": "scatter3d",
         "x": [
          0.0098232583417816,
          0.0098232583417816
         ],
         "y": [
          2,
          2
         ],
         "z": [
          -0.106596602,
          0.1188773540030322
         ]
        },
        {
         "line": {
          "color": "blue",
          "dash": "dash"
         },
         "mode": "lines",
         "name": "Residual",
         "showlegend": false,
         "type": "scatter3d",
         "x": [
          0.0098232583417816,
          0.0098232583417816
         ],
         "y": [
          2,
          2
         ],
         "z": [
          0.330528607,
          0.1188773540030322
         ]
        },
        {
         "line": {
          "color": "blue",
          "dash": "dash"
         },
         "mode": "lines",
         "name": "Residual",
         "showlegend": false,
         "type": "scatter3d",
         "x": [
          0.0340288854199931,
          0.0340288854199931
         ],
         "y": [
          2,
          2
         ],
         "z": [
          0.103013277,
          0.47191198815257535
         ]
        },
        {
         "line": {
          "color": "blue",
          "dash": "dash"
         },
         "mode": "lines",
         "name": "Residual",
         "showlegend": false,
         "type": "scatter3d",
         "x": [
          0.005934401693848,
          0.005934401693848
         ],
         "y": [
          2,
          2
         ],
         "z": [
          0.040368671,
          0.06215909260343133
         ]
        },
        {
         "line": {
          "color": "blue",
          "dash": "dash"
         },
         "mode": "lines",
         "name": "Residual",
         "showlegend": false,
         "type": "scatter3d",
         "x": [
          -0.0037684783643072,
          -0.0037684783643072
         ],
         "y": [
          2,
          2
         ],
         "z": [
          -1.123041676,
          -0.07935563454904604
         ]
        },
        {
         "line": {
          "color": "blue",
          "dash": "dash"
         },
         "mode": "lines",
         "name": "Residual",
         "showlegend": false,
         "type": "scatter3d",
         "x": [
          0.0131002346179272,
          0.0131002346179272
         ],
         "y": [
          2,
          2
         ],
         "z": [
          0.129970822,
          0.16667145233511615
         ]
        },
        {
         "line": {
          "color": "blue",
          "dash": "dash"
         },
         "mode": "lines",
         "name": "Residual",
         "showlegend": false,
         "type": "scatter3d",
         "x": [
          0.0424678229317921,
          0.0424678229317921
         ],
         "y": [
          2,
          2
         ],
         "z": [
          0.535930613,
          0.5949923449416192
         ]
        },
        {
         "line": {
          "color": "blue",
          "dash": "dash"
         },
         "mode": "lines",
         "name": "Residual",
         "showlegend": false,
         "type": "scatter3d",
         "x": [
          0.0098232583417816,
          0.0098232583417816
         ],
         "y": [
          -1,
          -1
         ],
         "z": [
          0.655183901,
          -0.26753587418173913
         ]
        },
        {
         "line": {
          "color": "blue",
          "dash": "dash"
         },
         "mode": "lines",
         "name": "Residual",
         "showlegend": false,
         "type": "scatter3d",
         "x": [
          0.0098232583417816,
          0.0098232583417816
         ],
         "y": [
          2,
          2
         ],
         "z": [
          0.135971786,
          0.1188773540030322
         ]
        },
        {
         "line": {
          "color": "blue",
          "dash": "dash"
         },
         "mode": "lines",
         "name": "Residual",
         "showlegend": false,
         "type": "scatter3d",
         "x": [
          0.0098232583417816,
          0.0098232583417816
         ],
         "y": [
          2,
          2
         ],
         "z": [
          0.372274523,
          0.1188773540030322
         ]
        },
        {
         "line": {
          "color": "blue",
          "dash": "dash"
         },
         "mode": "lines",
         "name": "Residual",
         "showlegend": false,
         "type": "scatter3d",
         "x": [
          -0.0037684783643072,
          -0.0037684783643072
         ],
         "y": [
          1,
          1
         ],
         "z": [
          0.535924283,
          -0.0073107800814747855
         ]
        },
        {
         "line": {
          "color": "blue",
          "dash": "dash"
         },
         "mode": "lines",
         "name": "Residual",
         "showlegend": false,
         "type": "scatter3d",
         "x": [
          -0.0037684783643072,
          -0.0037684783643072
         ],
         "y": [
          3,
          3
         ],
         "z": [
          -0.222398799,
          -0.1514004890166173
         ]
        },
        {
         "line": {
          "color": "blue",
          "dash": "dash"
         },
         "mode": "lines",
         "name": "Residual",
         "showlegend": false,
         "type": "scatter3d",
         "x": [
          0.0095114752383148,
          0.0095114752383148
         ],
         "y": [
          1,
          1
         ],
         "z": [
          0.420886109,
          -0.00986704021844874
         ]
        },
        {
         "line": {
          "color": "blue",
          "dash": "dash"
         },
         "mode": "lines",
         "name": "Residual",
         "showlegend": false,
         "type": "scatter3d",
         "x": [
          0.0095114752383148,
          0.0095114752383148
         ],
         "y": [
          3,
          3
         ],
         "z": [
          0,
          0.23852714939336045
         ]
        },
        {
         "line": {
          "color": "blue",
          "dash": "dash"
         },
         "mode": "lines",
         "name": "Residual",
         "showlegend": false,
         "type": "scatter3d",
         "x": [
          0.0342782523311094,
          0.0342782523311094
         ],
         "y": [
          -1,
          -1
         ],
         "z": [
          -2.47437871,
          -0.9950011195611421
         ]
        },
        {
         "line": {
          "color": "blue",
          "dash": "dash"
         },
         "mode": "lines",
         "name": "Residual",
         "showlegend": false,
         "type": "scatter3d",
         "x": [
          0.005934401693848,
          0.005934401693848
         ],
         "y": [
          0,
          0
         ],
         "z": [
          0.182981264,
          -0.08051607026085235
         ]
        },
        {
         "line": {
          "color": "blue",
          "dash": "dash"
         },
         "mode": "lines",
         "name": "Residual",
         "showlegend": false,
         "type": "scatter3d",
         "x": [
          -0.0115461506518705,
          -0.0115461506518705
         ],
         "y": [
          2,
          2
         ],
         "z": [
          -0.189190126,
          -0.19279155924965205
         ]
        },
        {
         "line": {
          "color": "blue",
          "dash": "dash"
         },
         "mode": "lines",
         "name": "Residual",
         "showlegend": false,
         "type": "scatter3d",
         "x": [
          -0.0115461506518705,
          -0.0115461506518705
         ],
         "y": [
          0,
          0
         ],
         "z": [
          -0.400568125,
          0.18116424955203841
         ]
        },
        {
         "line": {
          "color": "blue",
          "dash": "dash"
         },
         "mode": "lines",
         "name": "Residual",
         "showlegend": false,
         "type": "scatter3d",
         "x": [
          0.0098232583417816,
          0.0098232583417816
         ],
         "y": [
          2,
          2
         ],
         "z": [
          0.34694715,
          0.1188773540030322
         ]
        },
        {
         "line": {
          "color": "blue",
          "dash": "dash"
         },
         "mode": "lines",
         "name": "Residual",
         "showlegend": false,
         "type": "scatter3d",
         "x": [
          0.0098232583417816,
          0.0098232583417816
         ],
         "y": [
          2,
          2
         ],
         "z": [
          0.399056411,
          0.1188773540030322
         ]
        },
        {
         "line": {
          "color": "blue",
          "dash": "dash"
         },
         "mode": "lines",
         "name": "Residual",
         "showlegend": false,
         "type": "scatter3d",
         "x": [
          -0.0021157311420141,
          -0.0021157311420141
         ],
         "y": [
          2,
          2
         ],
         "z": [
          -0.26115845,
          -0.05525061925327912
         ]
        },
        {
         "line": {
          "color": "blue",
          "dash": "dash"
         },
         "mode": "lines",
         "name": "Residual",
         "showlegend": false,
         "type": "scatter3d",
         "x": [
          -0.0057793971718234,
          -0.0057793971718234
         ],
         "y": [
          -1,
          -1
         ],
         "z": [
          0.193649167,
          0.1965979394159369
         ]
        },
        {
         "line": {
          "color": "blue",
          "dash": "dash"
         },
         "mode": "lines",
         "name": "Residual",
         "showlegend": false,
         "type": "scatter3d",
         "x": [
          0.0098232583417816,
          0.0098232583417816
         ],
         "y": [
          2,
          2
         ],
         "z": [
          0.084113827,
          0.1188773540030322
         ]
        },
        {
         "line": {
          "color": "blue",
          "dash": "dash"
         },
         "mode": "lines",
         "name": "Residual",
         "showlegend": false,
         "type": "scatter3d",
         "x": [
          0.0098232583417816,
          0.0098232583417816
         ],
         "y": [
          2,
          2
         ],
         "z": [
          -0.233949803,
          0.1188773540030322
         ]
        },
        {
         "line": {
          "color": "blue",
          "dash": "dash"
         },
         "mode": "lines",
         "name": "Residual",
         "showlegend": false,
         "type": "scatter3d",
         "x": [
          0.0098232583417816,
          0.0098232583417816
         ],
         "y": [
          2,
          2
         ],
         "z": [
          0.222618806,
          0.1188773540030322
         ]
        },
        {
         "line": {
          "color": "blue",
          "dash": "dash"
         },
         "mode": "lines",
         "name": "Residual",
         "showlegend": false,
         "type": "scatter3d",
         "x": [
          -0.0016596957812904,
          -0.0016596957812904
         ],
         "y": [
          0,
          0
         ],
         "z": [
          0.738548946,
          0.033166027231405236
         ]
        },
        {
         "line": {
          "color": "blue",
          "dash": "dash"
         },
         "mode": "lines",
         "name": "Residual",
         "showlegend": false,
         "type": "scatter3d",
         "x": [
          -0.0016596957812904,
          -0.0016596957812904
         ],
         "y": [
          0,
          0
         ],
         "z": [
          -0.073854895,
          0.033166027231405236
         ]
        },
        {
         "line": {
          "color": "blue",
          "dash": "dash"
         },
         "mode": "lines",
         "name": "Residual",
         "showlegend": false,
         "type": "scatter3d",
         "x": [
          -0.0016596957812904,
          -0.0016596957812904
         ],
         "y": [
          0,
          0
         ],
         "z": [
          0,
          0.033166027231405236
         ]
        },
        {
         "line": {
          "color": "blue",
          "dash": "dash"
         },
         "mode": "lines",
         "name": "Residual",
         "showlegend": false,
         "type": "scatter3d",
         "x": [
          0.0330399413593831,
          0.0330399413593831
         ],
         "y": [
          0,
          0
         ],
         "z": [
          -0.443129368,
          -0.48628049624110475
         ]
        },
        {
         "line": {
          "color": "blue",
          "dash": "dash"
         },
         "mode": "lines",
         "name": "Residual",
         "showlegend": false,
         "type": "scatter3d",
         "x": [
          0.0330399413593831,
          0.0330399413593831
         ],
         "y": [
          0,
          0
         ],
         "z": [
          0.590839157,
          -0.48628049624110475
         ]
        },
        {
         "line": {
          "color": "blue",
          "dash": "dash"
         },
         "mode": "lines",
         "name": "Residual",
         "showlegend": false,
         "type": "scatter3d",
         "x": [
          0.0330399413593831,
          0.0330399413593831
         ],
         "y": [
          0,
          0
         ],
         "z": [
          -0.553997816,
          -0.48628049624110475
         ]
        },
        {
         "line": {
          "color": "blue",
          "dash": "dash"
         },
         "mode": "lines",
         "name": "Residual",
         "showlegend": false,
         "type": "scatter3d",
         "x": [
          -0.0060372668663584,
          -0.0060372668663584
         ],
         "y": [
          2,
          2
         ],
         "z": [
          -0.154835425,
          -0.11244549899239747
         ]
        },
        {
         "line": {
          "color": "blue",
          "dash": "dash"
         },
         "mode": "lines",
         "name": "Residual",
         "showlegend": false,
         "type": "scatter3d",
         "x": [
          0.0098232583417816,
          0.0098232583417816
         ],
         "y": [
          2,
          2
         ],
         "z": [
          -0.466228806,
          0.1188773540030322
         ]
        },
        {
         "line": {
          "color": "blue",
          "dash": "dash"
         },
         "mode": "lines",
         "name": "Residual",
         "showlegend": false,
         "type": "scatter3d",
         "x": [
          0.005934401693848,
          0.005934401693848
         ],
         "y": [
          2,
          2
         ],
         "z": [
          0.289827535,
          0.06215909260343133
         ]
        },
        {
         "line": {
          "color": "blue",
          "dash": "dash"
         },
         "mode": "lines",
         "name": "Residual",
         "showlegend": false,
         "type": "scatter3d",
         "x": [
          0.0098232583417816,
          0.0098232583417816
         ],
         "y": [
          2,
          2
         ],
         "z": [
          0.410791918,
          0.1188773540030322
         ]
        },
        {
         "line": {
          "color": "blue",
          "dash": "dash"
         },
         "mode": "lines",
         "name": "Residual",
         "showlegend": false,
         "type": "scatter3d",
         "x": [
          0.0098232583417816,
          0.0098232583417816
         ],
         "y": [
          2,
          2
         ],
         "z": [
          1.107823419,
          0.1188773540030322
         ]
        },
        {
         "line": {
          "color": "blue",
          "dash": "dash"
         },
         "mode": "lines",
         "name": "Residual",
         "showlegend": false,
         "type": "scatter3d",
         "x": [
          0.0098232583417816,
          0.0098232583417816
         ],
         "y": [
          2,
          2
         ],
         "z": [
          0.821585224,
          0.1188773540030322
         ]
        },
        {
         "line": {
          "color": "blue",
          "dash": "dash"
         },
         "mode": "lines",
         "name": "Residual",
         "showlegend": false,
         "type": "scatter3d",
         "x": [
          0.0098232583417816,
          0.0098232583417816
         ],
         "y": [
          2,
          2
         ],
         "z": [
          0.027820911,
          0.1188773540030322
         ]
        },
        {
         "line": {
          "color": "blue",
          "dash": "dash"
         },
         "mode": "lines",
         "name": "Residual",
         "showlegend": false,
         "type": "scatter3d",
         "x": [
          0.0098232583417816,
          0.0098232583417816
         ],
         "y": [
          2,
          2
         ],
         "z": [
          -0.366994709,
          0.1188773540030322
         ]
        }
       ],
       "layout": {
        "height": 800,
        "margin": {
         "b": 20,
         "l": 20,
         "r": 20,
         "t": 20
        },
        "scene": {
         "aspectmode": "cube",
         "xaxis": {
          "title": {
           "text": "Train Prune Test Performs Highly Cosine"
          }
         },
         "yaxis": {
          "title": {
           "text": "Stim Relative To Memory Cycle"
          }
         },
         "zaxis": {
          "title": {
           "text": "Pre Post Memory Effect Size  Cohen S D "
          }
         }
        },
        "template": {
         "data": {
          "bar": [
           {
            "error_x": {
             "color": "#2a3f5f"
            },
            "error_y": {
             "color": "#2a3f5f"
            },
            "marker": {
             "line": {
              "color": "#E5ECF6",
              "width": 0.5
             },
             "pattern": {
              "fillmode": "overlay",
              "size": 10,
              "solidity": 0.2
             }
            },
            "type": "bar"
           }
          ],
          "barpolar": [
           {
            "marker": {
             "line": {
              "color": "#E5ECF6",
              "width": 0.5
             },
             "pattern": {
              "fillmode": "overlay",
              "size": 10,
              "solidity": 0.2
             }
            },
            "type": "barpolar"
           }
          ],
          "carpet": [
           {
            "aaxis": {
             "endlinecolor": "#2a3f5f",
             "gridcolor": "white",
             "linecolor": "white",
             "minorgridcolor": "white",
             "startlinecolor": "#2a3f5f"
            },
            "baxis": {
             "endlinecolor": "#2a3f5f",
             "gridcolor": "white",
             "linecolor": "white",
             "minorgridcolor": "white",
             "startlinecolor": "#2a3f5f"
            },
            "type": "carpet"
           }
          ],
          "choropleth": [
           {
            "colorbar": {
             "outlinewidth": 0,
             "ticks": ""
            },
            "type": "choropleth"
           }
          ],
          "contour": [
           {
            "colorbar": {
             "outlinewidth": 0,
             "ticks": ""
            },
            "colorscale": [
             [
              0,
              "#0d0887"
             ],
             [
              0.1111111111111111,
              "#46039f"
             ],
             [
              0.2222222222222222,
              "#7201a8"
             ],
             [
              0.3333333333333333,
              "#9c179e"
             ],
             [
              0.4444444444444444,
              "#bd3786"
             ],
             [
              0.5555555555555556,
              "#d8576b"
             ],
             [
              0.6666666666666666,
              "#ed7953"
             ],
             [
              0.7777777777777778,
              "#fb9f3a"
             ],
             [
              0.8888888888888888,
              "#fdca26"
             ],
             [
              1,
              "#f0f921"
             ]
            ],
            "type": "contour"
           }
          ],
          "contourcarpet": [
           {
            "colorbar": {
             "outlinewidth": 0,
             "ticks": ""
            },
            "type": "contourcarpet"
           }
          ],
          "heatmap": [
           {
            "colorbar": {
             "outlinewidth": 0,
             "ticks": ""
            },
            "colorscale": [
             [
              0,
              "#0d0887"
             ],
             [
              0.1111111111111111,
              "#46039f"
             ],
             [
              0.2222222222222222,
              "#7201a8"
             ],
             [
              0.3333333333333333,
              "#9c179e"
             ],
             [
              0.4444444444444444,
              "#bd3786"
             ],
             [
              0.5555555555555556,
              "#d8576b"
             ],
             [
              0.6666666666666666,
              "#ed7953"
             ],
             [
              0.7777777777777778,
              "#fb9f3a"
             ],
             [
              0.8888888888888888,
              "#fdca26"
             ],
             [
              1,
              "#f0f921"
             ]
            ],
            "type": "heatmap"
           }
          ],
          "histogram": [
           {
            "marker": {
             "pattern": {
              "fillmode": "overlay",
              "size": 10,
              "solidity": 0.2
             }
            },
            "type": "histogram"
           }
          ],
          "histogram2d": [
           {
            "colorbar": {
             "outlinewidth": 0,
             "ticks": ""
            },
            "colorscale": [
             [
              0,
              "#0d0887"
             ],
             [
              0.1111111111111111,
              "#46039f"
             ],
             [
              0.2222222222222222,
              "#7201a8"
             ],
             [
              0.3333333333333333,
              "#9c179e"
             ],
             [
              0.4444444444444444,
              "#bd3786"
             ],
             [
              0.5555555555555556,
              "#d8576b"
             ],
             [
              0.6666666666666666,
              "#ed7953"
             ],
             [
              0.7777777777777778,
              "#fb9f3a"
             ],
             [
              0.8888888888888888,
              "#fdca26"
             ],
             [
              1,
              "#f0f921"
             ]
            ],
            "type": "histogram2d"
           }
          ],
          "histogram2dcontour": [
           {
            "colorbar": {
             "outlinewidth": 0,
             "ticks": ""
            },
            "colorscale": [
             [
              0,
              "#0d0887"
             ],
             [
              0.1111111111111111,
              "#46039f"
             ],
             [
              0.2222222222222222,
              "#7201a8"
             ],
             [
              0.3333333333333333,
              "#9c179e"
             ],
             [
              0.4444444444444444,
              "#bd3786"
             ],
             [
              0.5555555555555556,
              "#d8576b"
             ],
             [
              0.6666666666666666,
              "#ed7953"
             ],
             [
              0.7777777777777778,
              "#fb9f3a"
             ],
             [
              0.8888888888888888,
              "#fdca26"
             ],
             [
              1,
              "#f0f921"
             ]
            ],
            "type": "histogram2dcontour"
           }
          ],
          "mesh3d": [
           {
            "colorbar": {
             "outlinewidth": 0,
             "ticks": ""
            },
            "type": "mesh3d"
           }
          ],
          "parcoords": [
           {
            "line": {
             "colorbar": {
              "outlinewidth": 0,
              "ticks": ""
             }
            },
            "type": "parcoords"
           }
          ],
          "pie": [
           {
            "automargin": true,
            "type": "pie"
           }
          ],
          "scatter": [
           {
            "fillpattern": {
             "fillmode": "overlay",
             "size": 10,
             "solidity": 0.2
            },
            "type": "scatter"
           }
          ],
          "scatter3d": [
           {
            "line": {
             "colorbar": {
              "outlinewidth": 0,
              "ticks": ""
             }
            },
            "marker": {
             "colorbar": {
              "outlinewidth": 0,
              "ticks": ""
             }
            },
            "type": "scatter3d"
           }
          ],
          "scattercarpet": [
           {
            "marker": {
             "colorbar": {
              "outlinewidth": 0,
              "ticks": ""
             }
            },
            "type": "scattercarpet"
           }
          ],
          "scattergeo": [
           {
            "marker": {
             "colorbar": {
              "outlinewidth": 0,
              "ticks": ""
             }
            },
            "type": "scattergeo"
           }
          ],
          "scattergl": [
           {
            "marker": {
             "colorbar": {
              "outlinewidth": 0,
              "ticks": ""
             }
            },
            "type": "scattergl"
           }
          ],
          "scattermap": [
           {
            "marker": {
             "colorbar": {
              "outlinewidth": 0,
              "ticks": ""
             }
            },
            "type": "scattermap"
           }
          ],
          "scattermapbox": [
           {
            "marker": {
             "colorbar": {
              "outlinewidth": 0,
              "ticks": ""
             }
            },
            "type": "scattermapbox"
           }
          ],
          "scatterpolar": [
           {
            "marker": {
             "colorbar": {
              "outlinewidth": 0,
              "ticks": ""
             }
            },
            "type": "scatterpolar"
           }
          ],
          "scatterpolargl": [
           {
            "marker": {
             "colorbar": {
              "outlinewidth": 0,
              "ticks": ""
             }
            },
            "type": "scatterpolargl"
           }
          ],
          "scatterternary": [
           {
            "marker": {
             "colorbar": {
              "outlinewidth": 0,
              "ticks": ""
             }
            },
            "type": "scatterternary"
           }
          ],
          "surface": [
           {
            "colorbar": {
             "outlinewidth": 0,
             "ticks": ""
            },
            "colorscale": [
             [
              0,
              "#0d0887"
             ],
             [
              0.1111111111111111,
              "#46039f"
             ],
             [
              0.2222222222222222,
              "#7201a8"
             ],
             [
              0.3333333333333333,
              "#9c179e"
             ],
             [
              0.4444444444444444,
              "#bd3786"
             ],
             [
              0.5555555555555556,
              "#d8576b"
             ],
             [
              0.6666666666666666,
              "#ed7953"
             ],
             [
              0.7777777777777778,
              "#fb9f3a"
             ],
             [
              0.8888888888888888,
              "#fdca26"
             ],
             [
              1,
              "#f0f921"
             ]
            ],
            "type": "surface"
           }
          ],
          "table": [
           {
            "cells": {
             "fill": {
              "color": "#EBF0F8"
             },
             "line": {
              "color": "white"
             }
            },
            "header": {
             "fill": {
              "color": "#C8D4E3"
             },
             "line": {
              "color": "white"
             }
            },
            "type": "table"
           }
          ]
         },
         "layout": {
          "annotationdefaults": {
           "arrowcolor": "#2a3f5f",
           "arrowhead": 0,
           "arrowwidth": 1
          },
          "autotypenumbers": "strict",
          "coloraxis": {
           "colorbar": {
            "outlinewidth": 0,
            "ticks": ""
           }
          },
          "colorscale": {
           "diverging": [
            [
             0,
             "#8e0152"
            ],
            [
             0.1,
             "#c51b7d"
            ],
            [
             0.2,
             "#de77ae"
            ],
            [
             0.3,
             "#f1b6da"
            ],
            [
             0.4,
             "#fde0ef"
            ],
            [
             0.5,
             "#f7f7f7"
            ],
            [
             0.6,
             "#e6f5d0"
            ],
            [
             0.7,
             "#b8e186"
            ],
            [
             0.8,
             "#7fbc41"
            ],
            [
             0.9,
             "#4d9221"
            ],
            [
             1,
             "#276419"
            ]
           ],
           "sequential": [
            [
             0,
             "#0d0887"
            ],
            [
             0.1111111111111111,
             "#46039f"
            ],
            [
             0.2222222222222222,
             "#7201a8"
            ],
            [
             0.3333333333333333,
             "#9c179e"
            ],
            [
             0.4444444444444444,
             "#bd3786"
            ],
            [
             0.5555555555555556,
             "#d8576b"
            ],
            [
             0.6666666666666666,
             "#ed7953"
            ],
            [
             0.7777777777777778,
             "#fb9f3a"
            ],
            [
             0.8888888888888888,
             "#fdca26"
            ],
            [
             1,
             "#f0f921"
            ]
           ],
           "sequentialminus": [
            [
             0,
             "#0d0887"
            ],
            [
             0.1111111111111111,
             "#46039f"
            ],
            [
             0.2222222222222222,
             "#7201a8"
            ],
            [
             0.3333333333333333,
             "#9c179e"
            ],
            [
             0.4444444444444444,
             "#bd3786"
            ],
            [
             0.5555555555555556,
             "#d8576b"
            ],
            [
             0.6666666666666666,
             "#ed7953"
            ],
            [
             0.7777777777777778,
             "#fb9f3a"
            ],
            [
             0.8888888888888888,
             "#fdca26"
            ],
            [
             1,
             "#f0f921"
            ]
           ]
          },
          "colorway": [
           "#636efa",
           "#EF553B",
           "#00cc96",
           "#ab63fa",
           "#FFA15A",
           "#19d3f3",
           "#FF6692",
           "#B6E880",
           "#FF97FF",
           "#FECB52"
          ],
          "font": {
           "color": "#2a3f5f"
          },
          "geo": {
           "bgcolor": "white",
           "lakecolor": "white",
           "landcolor": "#E5ECF6",
           "showlakes": true,
           "showland": true,
           "subunitcolor": "white"
          },
          "hoverlabel": {
           "align": "left"
          },
          "hovermode": "closest",
          "mapbox": {
           "style": "light"
          },
          "paper_bgcolor": "white",
          "plot_bgcolor": "#E5ECF6",
          "polar": {
           "angularaxis": {
            "gridcolor": "white",
            "linecolor": "white",
            "ticks": ""
           },
           "bgcolor": "#E5ECF6",
           "radialaxis": {
            "gridcolor": "white",
            "linecolor": "white",
            "ticks": ""
           }
          },
          "scene": {
           "xaxis": {
            "backgroundcolor": "#E5ECF6",
            "gridcolor": "white",
            "gridwidth": 2,
            "linecolor": "white",
            "showbackground": true,
            "ticks": "",
            "zerolinecolor": "white"
           },
           "yaxis": {
            "backgroundcolor": "#E5ECF6",
            "gridcolor": "white",
            "gridwidth": 2,
            "linecolor": "white",
            "showbackground": true,
            "ticks": "",
            "zerolinecolor": "white"
           },
           "zaxis": {
            "backgroundcolor": "#E5ECF6",
            "gridcolor": "white",
            "gridwidth": 2,
            "linecolor": "white",
            "showbackground": true,
            "ticks": "",
            "zerolinecolor": "white"
           }
          },
          "shapedefaults": {
           "line": {
            "color": "#2a3f5f"
           }
          },
          "ternary": {
           "aaxis": {
            "gridcolor": "white",
            "linecolor": "white",
            "ticks": ""
           },
           "baxis": {
            "gridcolor": "white",
            "linecolor": "white",
            "ticks": ""
           },
           "bgcolor": "#E5ECF6",
           "caxis": {
            "gridcolor": "white",
            "linecolor": "white",
            "ticks": ""
           }
          },
          "title": {
           "x": 0.05
          },
          "xaxis": {
           "automargin": true,
           "gridcolor": "white",
           "linecolor": "white",
           "ticks": "",
           "title": {
            "standoff": 15
           },
           "zerolinecolor": "white",
           "zerolinewidth": 2
          },
          "yaxis": {
           "automargin": true,
           "gridcolor": "white",
           "linecolor": "white",
           "ticks": "",
           "title": {
            "standoff": 15
           },
           "zerolinecolor": "white",
           "zerolinewidth": 2
          }
         }
        },
        "width": 1200
       }
      }
     },
     "metadata": {},
     "output_type": "display_data"
    }
   ],
   "source": [
    "from calvin_utils.statistical_utils.response_surface_utils.regression_response_surface import GLMPlot\n",
    "ip = GLMPlot(model_results=results, data_df=data_df, formula=formula)\n",
    "ip.run(plot_residuals=True)"
   ]
  },
  {
   "cell_type": "markdown",
   "metadata": {},
   "source": [
    "Visualize the Regression as a Forest Plot\n",
    "- This will probably look poor if you ran a regression without standardizing your data. "
   ]
  },
  {
   "cell_type": "code",
   "execution_count": null,
   "metadata": {},
   "outputs": [],
   "source": [
    "from calvin_utils.statistical_utils.statistical_measurements import ForestPlot\n",
    "forest = ForestPlot(model=results, sig_digits=2, out_dir=out_dir, table=False)\n",
    "forest.run()"
   ]
  },
  {
   "cell_type": "markdown",
   "metadata": {},
   "source": [
    "Visualize The Model's Fit"
   ]
  },
  {
   "cell_type": "code",
   "execution_count": null,
   "metadata": {},
   "outputs": [],
   "source": [
    "from calvin_utils.statistical_utils.statistical_measurements import model_diagnostics\n",
    "model_diagnostics(results)"
   ]
  },
  {
   "cell_type": "markdown",
   "metadata": {},
   "source": [
    "Visualize the Partial Regression Plots"
   ]
  },
  {
   "cell_type": "code",
   "execution_count": null,
   "metadata": {},
   "outputs": [],
   "source": [
    "from calvin_utils.statistical_utils.statistical_measurements import PartialRegressionPlot\n",
    "partial_plot = PartialRegressionPlot(model=results, design_matrix=design_matrix, out_dir=out_dir, palette='Reds')\n",
    "partial_plot = partial_plot.run()"
   ]
  },
  {
   "cell_type": "markdown",
   "metadata": {},
   "source": [
    "2D visualization"
   ]
  },
  {
   "cell_type": "code",
   "execution_count": null,
   "metadata": {},
   "outputs": [],
   "source": [
    "data_df.columns"
   ]
  },
  {
   "cell_type": "code",
   "execution_count": null,
   "metadata": {},
   "outputs": [],
   "source": [
    "from calvin_utils.statistical_utils.anova_visualization import QuickANOVAPlot\n",
    "import statsmodels.formula.api as smf\n",
    "model = smf.ols(formula, data=data_df).fit()\n",
    "quick_plot = QuickANOVAPlot(model, data_df, out_dir=out_dir)\n",
    "quick_plot.make_predictions()\n",
    "quick_plot.plot_predictions(x_var='age', hue_var='Dataset', cohort_var='sbc_conn', y='z_scored_improvement', error_bar='se')"
   ]
  },
  {
   "cell_type": "markdown",
   "metadata": {},
   "source": [
    "# 07 - Run the Contrasts"
   ]
  },
  {
   "cell_type": "markdown",
   "metadata": {},
   "source": [
    "Contrast Results Are Displayed Below"
   ]
  },
  {
   "cell_type": "code",
   "execution_count": null,
   "metadata": {},
   "outputs": [],
   "source": [
    "contrast_matrix_df"
   ]
  },
  {
   "cell_type": "code",
   "execution_count": null,
   "metadata": {},
   "outputs": [],
   "source": [
    "contrast_results = results.t_test(contrast_matrix_df)\n",
    "print(contrast_results.summary())"
   ]
  },
  {
   "cell_type": "markdown",
   "metadata": {},
   "source": [
    "# 08 - Compare the Coefficient Between 2 Groups"
   ]
  },
  {
   "cell_type": "code",
   "execution_count": null,
   "metadata": {},
   "outputs": [],
   "source": [
    "groups_column = 'Age_Group'"
   ]
  },
  {
   "cell_type": "code",
   "execution_count": null,
   "metadata": {},
   "outputs": [],
   "source": [
    "from calvin_utils.permutation_analysis_utils.statsmodels_palm import RegressionAnalysis\n",
    "regression_test = RegressionAnalysis(outcome_df=outcome_matrix, design_df=design_matrix, groups_df=data_df[[groups_column]], N=10000, metric='similarity', two_tail=False, out_dir=out_dir)\n",
    "regression_test.run()"
   ]
  },
  {
   "cell_type": "markdown",
   "metadata": {},
   "source": [
    "# 09 - Compare Distribution of T Values Between Groups"
   ]
  },
  {
   "cell_type": "code",
   "execution_count": null,
   "metadata": {},
   "outputs": [],
   "source": [
    "data_df.columns"
   ]
  },
  {
   "cell_type": "code",
   "execution_count": null,
   "metadata": {},
   "outputs": [],
   "source": [
    "plot_together=False\n",
    "groups_column = 'Age_Group'"
   ]
  },
  {
   "cell_type": "code",
   "execution_count": null,
   "metadata": {},
   "outputs": [],
   "source": [
    "from calvin_utils.permutation_analysis_utils.statsmodels_palm import BootstrappedRegressionAnalysis\n",
    "\n",
    "# Create an instance of BootstrappedRegressionAnalysis\n",
    "bootstrapped_regression_test = BootstrappedRegressionAnalysis(outcome_df=outcome_matrix, design_df=design_matrix, groups_df=data_df[[groups_column]], N=10000, out_dir=out_dir, plot_together=plot_together)\n",
    "\n",
    "# Run the bootstrapped regression analysis\n",
    "df1 = bootstrapped_regression_test.run()"
   ]
  },
  {
   "cell_type": "markdown",
   "metadata": {},
   "source": [
    "# 10a - Similarity of Response topology Across Cohorts in Dataframe\n",
    "- Denote the column containing your different cohorts to test across\n",
    "- Write the formula, excluding the cohort column"
   ]
  },
  {
   "cell_type": "code",
   "execution_count": null,
   "metadata": {},
   "outputs": [],
   "source": [
    "cohort_col = 'City'\n",
    "formula = \"Z_Scored_Percent_Cognitive_Improvement ~ Age*Z_Scored_Subiculum_Connectivity_T\""
   ]
  },
  {
   "cell_type": "code",
   "execution_count": null,
   "metadata": {},
   "outputs": [],
   "source": [
    "from calvin_utils.statistical_utils.response_surface_utils.permute_response_surfaces import GLMPredictionPermutationTest\n",
    "sim_test = GLMPredictionPermutationTest(data_df=data_df, formula=formula, cohort_col=cohort_col, two_tailed=False, method='pearsonr',\n",
    "                                        n_permutations=10000)\n",
    "sim_test.run()"
   ]
  },
  {
   "cell_type": "markdown",
   "metadata": {},
   "source": [
    "# 10b - Predict Another Dataframe\n",
    "- Can use this to predict data from a second group, such as the 'other_df' defined in \"Step 01, Drop Rows Based on Value of a Column\""
   ]
  },
  {
   "cell_type": "code",
   "execution_count": null,
   "metadata": {},
   "outputs": [],
   "source": [
    "import numpy as np\n",
    "from scipy.stats import f\n",
    "\n",
    "def calculate_ssr(observations, predictions):\n",
    "    \"\"\"\n",
    "    Calculate the regression sum of squares.\n",
    "    This is the sum of squared deviations, with deviation being Y_hat_i - Y_bar\n",
    "    \n",
    "    SSR is a measure used to quantify the variance in the observed data that is not explained by the model. \n",
    "    It is calculated as the sum of the squares of the differences between the observed values and the model's predictions. \n",
    "    The more the 'mean' predicts \n",
    "    A lower SSR indicates a better model fit, meaning the model's predictions are closer to the actual observations.\n",
    "    \n",
    "    SSR = Σ(y_hat - y_bar)^2 \n",
    "    \n",
    "    Parameters:\n",
    "    - observations (array-like): The actual observed outcomes.\n",
    "    - predictions (array-like): The outcomes predicted by the model.\n",
    "    \n",
    "    Returns:\n",
    "    - float: The calculated SSR.\n",
    "    \"\"\"\n",
    "    y_hat = observations\n",
    "    y_bar = np.mean(predictions)\n",
    "    ssr = np.sum((y_hat - y_bar) ** 2)\n",
    "    return ssr\n",
    "\n",
    "def calculate_sse(observations, predictions):\n",
    "    \"\"\"\n",
    "    Calculate the sum of squares due to error (SSE).\n",
    "    \n",
    "    SSE is a measure of the total deviation of the response values from the fit to the response values. \n",
    "    It is calculated as the sum of the squares of the differences between the predicted values and the observed values. \n",
    "    A lower SSE indicates a model that more accurately fits the data.\n",
    "    \n",
    "    SSE = Σ(y - y_hat)^2\n",
    "    \n",
    "    Parameters:\n",
    "    - observations (array-like): The actual observed outcomes.\n",
    "    - predictions (array-like): The outcomes predicted by the model.\n",
    "    \n",
    "    Returns:\n",
    "    - float: The calculated SSE.\n",
    "    \"\"\"\n",
    "    y = observations\n",
    "    y_hat = predictions\n",
    "    sse = np.sum((y - y_hat) ** 2)\n",
    "    return sse\n",
    "\n",
    "def calculate_ssto(observations):\n",
    "    \"\"\"\n",
    "    Calculate the total sum of squares (SSTO).\n",
    "    \n",
    "    SSTO is a measure of the total variance in the observed data and is used as a comparative tool for model evaluation. \n",
    "    It is calculated as the sum of the squares of the differences between the observed values and their overall mean. \n",
    "    SSTO is used in the denominator of the coefficient of determination, R^2, which assesses the fit of the model.\n",
    "    \n",
    "    SSTO = Σ(y - y_bar)^2\n",
    "    \n",
    "    Parameters:\n",
    "    - observations (array-like): The actual observed outcomes.\n",
    "    \n",
    "    Returns:\n",
    "    - float: The calculated SSTO.\n",
    "    \"\"\"\n",
    "    y = observations\n",
    "    y_bar = np.mean(y)\n",
    "    ssto = np.sum((y - y_bar) ** 2)\n",
    "    return ssto\n",
    "\n",
    "\n",
    "def calculate_msr(ssr, num_regressors):\n",
    "    \"\"\"\n",
    "    Calculate the mean square due to regression (MSR).\n",
    "    \n",
    "    MSR is a measure of the variation explained by the independent variables in the model. It is calculated as the \n",
    "    sum of squared residuals (SSR) divided by the degrees of freedom, which is the number of independent variables (regressors) minus one.\n",
    "    A higher MSR indicates that the model explains a greater amount of variation in the outcome variable.\n",
    "    \n",
    "    MSR = SSR / (number of regressors - 1)\n",
    "    \n",
    "    Parameters:\n",
    "    - ssr (float): The sum of squared residuals from the regression model.\n",
    "    - num_regressors (int): The number of independent variables in the model.\n",
    "    \n",
    "    Returns:\n",
    "    - float: The calculated MSR.\n",
    "    \"\"\"\n",
    "    return ssr / (num_regressors - 1)\n",
    "\n",
    "def calculate_mse(sse, num_regressors, num_observations):\n",
    "    \"\"\"\n",
    "    Calculate the mean square error (MSE).\n",
    "    \n",
    "    MSE is a measure of the average of the squares of the errors, that is, the average squared difference between the observed actual outcomes and the outcomes predicted by the model. It is calculated as the sum of squared errors (SSE) divided by the degrees of freedom, which is the number of observations minus the number of regressors.\n",
    "    A lower MSE indicates a better fit of the model to the data.\n",
    "    \n",
    "    MSE = SSE / (number of observations - number of regressors)\n",
    "    \n",
    "    Parameters:\n",
    "    - sse (float): The sum of squared errors from the regression model.\n",
    "    - num_regressors (int): The number of independent variables in the model.\n",
    "    - num_observations (int): The number of observations in the data set.\n",
    "    \n",
    "    Returns:\n",
    "    - float: The calculated MSE.\n",
    "    \"\"\"\n",
    "    return sse / (num_observations - num_regressors)\n",
    "\n",
    "def calculate_f_stat(msr, mse, num_regressors, num_observations):\n",
    "    \"\"\"\n",
    "    Calculate the F-statistic.\n",
    "    \n",
    "    The F-statistic is used to compare statistical models that have been fitted to a data set in order to identify the model that best fits the population from which the data were sampled. It is the ratio of the mean square due to regression (MSR) to the mean square error (MSE).\n",
    "    \n",
    "    The F-statistic follows the F-distribution under the null hypothesis that the model with no independent variables fits the data as well as your model. A higher F-statistic implies that the null hypothesis is false, and your model adds value in explaining the variation in the data.\n",
    "    \n",
    "    F = MSR / MSE\n",
    "    \n",
    "    Parameters:\n",
    "    - msr (float): The mean square due to regression.\n",
    "    - mse (float): The mean square error.\n",
    "    \n",
    "    Returns:\n",
    "    - float: The calculated F-statistic.\n",
    "    - float: The p-value from the F-distribution.\n",
    "    \"\"\"\n",
    "    f_stat = msr / mse\n",
    "    # The degrees of freedom for the numerator (dfn) is the number of independent variables (regressors).\n",
    "    # The degrees of freedom for the denominator (dfd) is the total number of observations minus the number of independent variables minus 1.\n",
    "    # These values need to be defined or calculated outside of this function.\n",
    "    dfn = num_regressors - 1\n",
    "    dfd = num_observations - num_regressors \n",
    "    p_value = f.sf(f_stat, dfn, dfd)\n",
    "    return f_stat, p_value\n",
    "\n",
    "def run_goodness_of_fit(target_outcome_matrix, predictions, target_design_matrix):\n",
    "    \"\"\"\n",
    "    Calculate the F-statistic and p-value for a linear regression model.\n",
    "\n",
    "    Parameters:\n",
    "    - target_outcome_matrix (array-like): The actual observed outcomes (Y_actual).\n",
    "    - predictions (array-like): The outcomes predicted by the model (Y_hat).\n",
    "\n",
    "    Returns:\n",
    "    - float: The calculated F-statistic.\n",
    "    - float: The p-value from the F-distribution.\n",
    "    \"\"\"\n",
    "    # Calculate the regression sum of squares (SSR).\n",
    "    ssr = calculate_ssr(target_outcome_matrix, predictions)\n",
    "\n",
    "    # Calculate the sum of squares due to error (SSE).\n",
    "    sse = calculate_sse(target_outcome_matrix, predictions)\n",
    "\n",
    "    # Calculate the number of regressors and observations.\n",
    "    num_regressors = target_design_matrix.shape[1]\n",
    "    num_observations = len(target_outcome_matrix)\n",
    "\n",
    "    # Calculate the mean square due to regression (MSR).\n",
    "    msr = calculate_msr(ssr, num_regressors)\n",
    "\n",
    "    # Calculate the mean square error (MSE).\n",
    "    mse = calculate_mse(sse, num_regressors, num_observations)\n",
    "\n",
    "    # Calculate the F-statistic and p-value.\n",
    "    f_stat, p_value = calculate_f_stat(msr, mse, num_regressors, num_observations)\n",
    "\n",
    "    return f_stat, p_value\n",
    "\n",
    "def calculate_r_squared(observations, predictions):\n",
    "    \"\"\"\n",
    "    Calculate the R-squared (coefficient of determination) value.\n",
    "\n",
    "    R-squared measures the proportion of the variance in the observed outcomes that is explained by the predictions.\n",
    "\n",
    "    R-squared = 1 - (SSE / SSTO)\n",
    "\n",
    "    Parameters:\n",
    "    - observations (array-like): The actual observed outcomes.\n",
    "    - predictions (array-like): The outcomes predicted by the model.\n",
    "\n",
    "    Returns:\n",
    "    - float: The calculated R-squared value.\n",
    "    \"\"\"\n",
    "    # Calculate SSE (Sum of Squares of Errors)\n",
    "    sse = np.sum((observations - predictions) ** 2)\n",
    "\n",
    "    # Calculate SSTO (Total Sum of Squares)\n",
    "    y_mean = np.mean(observations)\n",
    "    ssto = np.sum((observations - y_mean) ** 2)\n",
    "\n",
    "    # Calculate R-squared\n",
    "    r_squared = 1 - (sse / ssto)\n",
    "    \n",
    "    return r_squared"
   ]
  },
  {
   "cell_type": "markdown",
   "metadata": {},
   "source": [
    "Get a new Dataframe to predict upon"
   ]
  },
  {
   "cell_type": "code",
   "execution_count": null,
   "metadata": {},
   "outputs": [],
   "source": [
    "from calvin_utils.permutation_analysis_utils.statsmodels_palm import CalvinStatsmodelsPalm\n",
    "# Instantiate the PalmPrepararation class\n",
    "cal_palm = CalvinStatsmodelsPalm(input_csv_path=input_csv_path, output_dir=out_dir, sheet=sheet)\n",
    "# Call the process_nifti_paths method\n",
    "data_df = cal_palm.read_and_display_data()"
   ]
  },
  {
   "cell_type": "code",
   "execution_count": null,
   "metadata": {},
   "outputs": [],
   "source": [
    "column = 'Cohort'  # The column you'd like to evaluate\n",
    "condition = 'not'  # The condition to check ('equal', 'above', 'below', 'not')\n",
    "value = 0 # The value to drop if T"
   ]
  },
  {
   "cell_type": "code",
   "execution_count": null,
   "metadata": {},
   "outputs": [],
   "source": [
    "data_df, other_df = cal_palm.drop_rows_based_on_value(column, condition, value)\n",
    "display(data_df)"
   ]
  },
  {
   "cell_type": "code",
   "execution_count": null,
   "metadata": {},
   "outputs": [],
   "source": [
    "# Define the design matrix\n",
    "target_outcome_matrix, target_design_matrix = cal_palm.define_design_matrix(formula, data_df)\n",
    "predictions = results.predict(target_design_matrix)"
   ]
  },
  {
   "cell_type": "markdown",
   "metadata": {},
   "source": [
    "Extract F-Test for Goodness of Fit"
   ]
  },
  {
   "cell_type": "code",
   "execution_count": null,
   "metadata": {},
   "outputs": [],
   "source": [
    "f_stat, p_value = run_goodness_of_fit(target_outcome_matrix=target_outcome_matrix.to_numpy().flatten(), \n",
    "                    predictions=predictions.to_numpy().flatten(), \n",
    "                    target_design_matrix=target_design_matrix)\n",
    "print(p_value)"
   ]
  },
  {
   "cell_type": "markdown",
   "metadata": {},
   "source": [
    "Extract R-Squared"
   ]
  },
  {
   "cell_type": "code",
   "execution_count": null,
   "metadata": {},
   "outputs": [],
   "source": [
    "from scipy.stats import pearsonr\n",
    "r_squared = calculate_r_squared(target_outcome_matrix.to_numpy().flatten(), predictions.to_numpy().flatten())\n",
    "print(f\"R-squared: {r_squared:.4f}\")\n",
    "r, p = pearsonr(target_outcome_matrix.to_numpy().flatten(), predictions.to_numpy().flatten())\n",
    "print(f\"PearsonR R-squared: {r*r}\")"
   ]
  },
  {
   "cell_type": "code",
   "execution_count": null,
   "metadata": {},
   "outputs": [],
   "source": [
    "import numpy as np\n",
    "from sklearn.metrics import mean_squared_error, mean_absolute_error\n",
    "\n",
    "# Calculate Mean Squared Error (MSE)\n",
    "mse = mean_squared_error(target_outcome_matrix, predictions)\n",
    "\n",
    "# Calculate Root Mean Squared Error (RMSE)\n",
    "rmse = np.sqrt(mse)\n",
    "\n",
    "# Calculate Mean Absolute Error (MAE)\n",
    "mae = mean_absolute_error(target_outcome_matrix, predictions)\n",
    "\n",
    "# Print the results\n",
    "print(\"Mean Squared Error (MSE):\", mse)\n",
    "print(\"Root Mean Squared Error (RMSE):\", rmse)\n",
    "print(\"Mean Absolute Error (MAE):\", mae)"
   ]
  },
  {
   "cell_type": "markdown",
   "metadata": {},
   "source": [
    "Plot The Fit"
   ]
  },
  {
   "cell_type": "code",
   "execution_count": null,
   "metadata": {},
   "outputs": [],
   "source": [
    "import seaborn as sns\n",
    "import matplotlib.pyplot as plt\n",
    "import numpy as np\n",
    "\n",
    "def plot_scatter_with_f_stat_in_title(target_outcome_matrix, predictions, f_stat, p_value, out_dir=None):\n",
    "    \"\"\"\n",
    "    Create a scatterplot of predicted vs. observed values with F-statistic and p-value in the title.\n",
    "\n",
    "    Parameters:\n",
    "    - target_outcome_matrix (array-like): The actual observed outcomes.\n",
    "    - predictions (array-like): The outcomes predicted by the model.\n",
    "    - f_stat (float): The F-statistic value.\n",
    "    - p_value (float): The p-value.\n",
    "\n",
    "    Returns:\n",
    "    - None (displays the plot)\n",
    "    \"\"\"\n",
    "    # Create a scatterplot using Seaborn\n",
    "    plt.figure(figsize=(8, 6))\n",
    "    sns.scatterplot(x=predictions,\n",
    "                    y=target_outcome_matrix,\n",
    "                    label='Predicted vs. Observed')\n",
    "\n",
    "    # Add a diagonal line\n",
    "    xlim = plt.xlim()  # Get current X-axis limits\n",
    "    ylim = plt.ylim()  # Get current Y-axis limits\n",
    "    min_limit = min(xlim[0], ylim[0])\n",
    "    max_limit = max(xlim[1], ylim[1])\n",
    "    plt.plot([min_limit, max_limit], [min_limit, max_limit], linestyle='--', color='gray', label='Perfect Fit')\n",
    "\n",
    "    # Add labels and title with F-statistic and p-value\n",
    "    plt.xlabel('Predicted Values')\n",
    "    plt.ylabel('Observed Values')\n",
    "    plt.title(f'Scatterplot of Predicted vs. Observed Values\\nF-statistic: {f_stat:.2f}, p-value: {p_value:.4f}')\n",
    "\n",
    "    # Set axis limits\n",
    "    plt.xlim(min_limit, max_limit)\n",
    "    plt.ylim(min_limit, max_limit)\n",
    "\n",
    "    # Show legend\n",
    "    plt.legend()\n",
    "    \n",
    "    if out_dir:\n",
    "        # Save the figure\n",
    "        plt.savefig(f\"{out_dir}/predicted_plot.png\", bbox_inches='tight')\n",
    "        plt.savefig(f\"{out_dir}/predicted_plot.svg\", bbox_inches='tight')\n",
    "        print(f'Saved to {out_dir}/predicted_plot.svg')\n",
    "\n",
    "    # Display the plot\n",
    "    plt.grid()\n",
    "    plt.show()\n",
    "\n",
    "def plot_residuals(target_outcome_matrix, predictions, f_stat, p_value, out_dir=None):\n",
    "    \"\"\"\n",
    "    Create a scatterplot of residuals with F-statistic and p-value in the title and save it.\n",
    "\n",
    "    Parameters:\n",
    "    - target_outcome_matrix (array-like): The actual observed outcomes.\n",
    "    - predictions (array-like): The outcomes predicted by the model.\n",
    "    - f_stat (float): The F-statistic value.\n",
    "    - p_value (float): The p-value.\n",
    "    - out_dir (str, optional): The directory to save the plot. If None, the plot won't be saved.\n",
    "\n",
    "    Returns:\n",
    "    - None (displays the plot)\n",
    "    \"\"\"\n",
    "    # Calculate residuals\n",
    "    residuals = target_outcome_matrix - predictions\n",
    "\n",
    "    # Create a scatterplot of residuals\n",
    "    plt.figure(figsize=(8, 6))\n",
    "    sns.scatterplot(x=predictions,\n",
    "                    y=residuals,\n",
    "                    label='Residuals vs. Predicted')\n",
    "\n",
    "    # Calculate y-axis limits\n",
    "    y_lim_min = min(-3, np.min(residuals) - 0.5)\n",
    "    y_lim_max = max(3, np.max(residuals) + 0.5)\n",
    "\n",
    "    # Set y-axis limits\n",
    "    plt.ylim(y_lim_min, y_lim_max)\n",
    "\n",
    "    # Add a horizontal line at y=0\n",
    "    plt.axhline(0, color='gray', linestyle='--', label='Zero Residual')\n",
    "\n",
    "    # Add labels and title with F-statistic and p-value\n",
    "    plt.xlabel('Predicted Values')\n",
    "    plt.ylabel('Residuals')\n",
    "    plt.title(f'Scatterplot of Residuals vs. Predicted Values\\nF-statistic: {f_stat:.2f}, p-value: {p_value:.4f}')\n",
    "\n",
    "    # Show legend\n",
    "    plt.legend()\n",
    "\n",
    "    if out_dir:\n",
    "        # Save the figure\n",
    "        plt.savefig(f\"{out_dir}/residuals_plot.png\", bbox_inches='tight')\n",
    "        plt.savefig(f\"{out_dir}/residuals_plot.svg\", bbox_inches='tight')\n",
    "        print(f'Saved to {out_dir}/residuals_plot.svg')\n",
    "\n",
    "    # Display the plot\n",
    "    plt.grid()\n",
    "    plt.show()"
   ]
  },
  {
   "cell_type": "markdown",
   "metadata": {},
   "source": [
    "Residuals Plot"
   ]
  },
  {
   "cell_type": "code",
   "execution_count": null,
   "metadata": {},
   "outputs": [],
   "source": [
    "plot_residuals(target_outcome_matrix.to_numpy().flatten(), predictions.to_numpy().flatten(), f_stat, p_value, out_dir)"
   ]
  },
  {
   "cell_type": "code",
   "execution_count": null,
   "metadata": {},
   "outputs": [],
   "source": [
    "plot_scatter_with_f_stat_in_title(target_outcome_matrix.to_numpy().flatten(), predictions.to_numpy().flatten(), f_stat, p_value, out_dir)\n"
   ]
  },
  {
   "cell_type": "markdown",
   "metadata": {},
   "source": [
    "# 11 - Visualize 2-Way ANOVA (Model-Free)"
   ]
  },
  {
   "cell_type": "markdown",
   "metadata": {},
   "source": [
    "Generate an Interaction Plot Based on the Raw Data (Model-Free)\n",
    "- data_df (pd.DataFrame): DataFrame containing the data.\n",
    "- group1_column (str): Name of the first grouping column (categorical).\n",
    "- group2_column (str): Name of the second grouping column (categorical).\n",
    "- outcome_column (str): Name of the outcome column (continuous)."
   ]
  },
  {
   "cell_type": "code",
   "execution_count": null,
   "metadata": {},
   "outputs": [],
   "source": [
    "formula"
   ]
  },
  {
   "cell_type": "code",
   "execution_count": null,
   "metadata": {},
   "outputs": [],
   "source": [
    "data_df=data_df\n",
    "group_1='sbc_conn'\n",
    "group_2='age'\n",
    "outcome_column='Dataset'"
   ]
  },
  {
   "cell_type": "code",
   "execution_count": null,
   "metadata": {},
   "outputs": [],
   "source": [
    "from calvin_utils.statistical_utils.anova_visualization import ModelFreeInteractionPlot\n",
    "summary_df = ModelFreeInteractionPlot.calculate_means_and_sem(data_df, group_1, group_2, outcome_column)\n",
    "# Ensure Data is Okay\n",
    "ModelFreeInteractionPlot.diagnose_data(data_df, group_1, group_2, outcome_column)\n",
    "# Plot\n",
    "ModelFreeInteractionPlot.plot_interaction_error_bar(summary_df, group_1, group_2, out_dir=out_dir)\n",
    "# Test for differences in group_1 at each level of group_2. \n",
    "print(ModelFreeInteractionPlot.perform_kruskal_wallis_test(data_df, group_1, group_2, outcome_column))\n",
    "# Test for significant differences \n",
    "print(ModelFreeInteractionPlot.perform_contrast(data_df, contrast_column=group_1, outcome_column=outcome_column))"
   ]
  },
  {
   "cell_type": "markdown",
   "metadata": {},
   "source": [
    "# Visualize a Modelled ANOVA (Predictions upon Existing Data Points)\n",
    "- The class expects the a dataframe containing all of the columns with your regressors (or more columns)\n",
    "- fit a formula onto a model\n",
    "    - Example: 'Z_Scored_Percent_Cognitive_Improvement ~ Age_Group*Subiculum_Group_By_24 + City'\n",
    "- Then, you must plot model's predictions of the observed data\n",
    "    - Mandatory:\n",
    "        - x_var: the factors\n",
    "        - hue_var: the levels\n",
    "    - Optional:\n",
    "        - cohort_var: additional traces for cohorts\n",
    "        - y: defaults to 'predictions', and sets the y-axis to the estimated marginal means of the model. Can set to another column in data_df. \n",
    "- Bars represent 95%CI\n",
    "- note: you do not need the input variables to be part of the dataframe. You can model predictions then split by other variables!"
   ]
  },
  {
   "cell_type": "code",
   "execution_count": null,
   "metadata": {},
   "outputs": [],
   "source": [
    "data_df.columns"
   ]
  },
  {
   "cell_type": "code",
   "execution_count": null,
   "metadata": {},
   "outputs": [],
   "source": []
  },
  {
   "cell_type": "markdown",
   "metadata": {},
   "source": [
    "Visualize as a Bar Plot"
   ]
  },
  {
   "cell_type": "code",
   "execution_count": null,
   "metadata": {},
   "outputs": [],
   "source": [
    "quick_plot.plot_bar(x_var='Subiculum_Group_By_Inflection_Point', hue_var='City', cohort_var=None, y='predictions', error_bar=None)"
   ]
  },
  {
   "cell_type": "markdown",
   "metadata": {},
   "source": [
    "Read the Regression Results"
   ]
  },
  {
   "cell_type": "code",
   "execution_count": null,
   "metadata": {},
   "outputs": [],
   "source": [
    "print(model.summary2())"
   ]
  },
  {
   "cell_type": "markdown",
   "metadata": {},
   "source": [
    "# 12 - Visualize a GLM's Predictions Across a Range of Potential Data (AKA Profile Plot or Marginal Plot)\n",
    "- **this is pretty complex stuff, so be sure to read up on Marginals**\n",
    "- This is a plot which generates an estimated marginal estimate across a set number of categories/factors\n",
    "    - This is similar to a marginal mean, but a marginal mean provides the \n",
    "- Do **not** set any values to a list of strings. If you want to use categorical data, encode the categories as ordinal values and re-run the model. Then set the categories in the values."
   ]
  },
  {
   "cell_type": "code",
   "execution_count": null,
   "metadata": {},
   "outputs": [],
   "source": [
    "formula"
   ]
  },
  {
   "cell_type": "code",
   "execution_count": null,
   "metadata": {},
   "outputs": [],
   "source": [
    "marginal_scenarios_dict = {'Age_Group': [0, 1],'City':[0, 1], 'Z_Scored_Subiculum_Connectivity_T':['continuous']}"
   ]
  },
  {
   "cell_type": "code",
   "execution_count": null,
   "metadata": {},
   "outputs": [],
   "source": [
    "from calvin_utils.statistical_utils.statistical_measurements import GLMMarginalsPlot\n",
    "factor_plot = GLMMarginalsPlot(formula, data_df, model=results, data_range=None, marginal_scenarios_dict=marginal_scenarios_dict, variance_bars=None, out_dir=out_dir)\n",
    "factor_plot.run()"
   ]
  },
  {
   "cell_type": "markdown",
   "metadata": {},
   "source": [
    "# Visualize a GLM's Predictions at Points in Data (Estimated Marginal Means)"
   ]
  },
  {
   "cell_type": "markdown",
   "metadata": {},
   "source": [
    "Interaction Plot"
   ]
  },
  {
   "cell_type": "markdown",
   "metadata": {},
   "source": [
    "Identify the column names used to generate the original formula. The order of the list determines how variables are categorized in the following interaction plot. \n",
    "- This expects the formula to have defined categorical variables, like:\n",
    "    - Z_Scored_Percent_Cognitive_Improvement ~ C(Subiculum_Group_By_24)*Age + C(City)"
   ]
  },
  {
   "cell_type": "code",
   "execution_count": null,
   "metadata": {},
   "outputs": [],
   "source": [
    "formula"
   ]
  },
  {
   "cell_type": "code",
   "execution_count": null,
   "metadata": {},
   "outputs": [],
   "source": [
    "def create_interaction_plot_dynamic(emm_df, categorical_vars, out_dir=None):\n",
    "    \"\"\"\n",
    "    Create an interaction plot for 2 or 3 categorical variables in emm_df.\n",
    "\n",
    "    Parameters:\n",
    "    - emm_df: DataFrame containing the data\n",
    "    - categorical_vars: List of strings specifying the categorical variables\n",
    "    - ms: Marker size for the plot (default is 10)\n",
    "    \"\"\"\n",
    "    # Check if we have 2 or 3 categorical variables\n",
    "    if len(categorical_vars) == 2:\n",
    "        plot_interaction_2_vars(emm_df, categorical_vars, out_dir)\n",
    "    elif len(categorical_vars) == 3:\n",
    "        self.plot_interaction_3_vars(emm_df, categorical_vars,out_dir)\n",
    "    else:\n",
    "        print(\"This function supports only 2 or 3 categorical variables.\")\n",
    "        \n",
    "\n",
    "import matplotlib.pyplot as plt\n",
    "import matplotlib.pyplot as plt\n",
    "import matplotlib.pyplot as plt\n",
    "import seaborn as sns\n",
    "\n",
    "def plot_interaction_2_vars(emm_df, categorical_vars, output_directory=None, color_list = None):\n",
    "    \"\"\"\n",
    "    Plots an interaction bar plot for two categorical variables in an ANOVA setup.\n",
    "\n",
    "    Parameters:\n",
    "        emm_df (DataFrame): The DataFrame containing the data.\n",
    "        categorical_vars (list): A list of two categorical variable names to plot.\n",
    "        color_list (list, optional): List of colors for the bars. If None, defaults to tab10 colormap.\n",
    "        output_directory (str, optional): Directory to save the plot. If None, plot is not saved.\n",
    "    \"\"\"\n",
    "    # Set up the color palette\n",
    "    if color_list is None:\n",
    "        color_palette = sns.color_palette(\"tab10\", len(emm_df[categorical_vars[1]].unique()))\n",
    "    else:\n",
    "        color_palette = sns.color_palette(color_list, len(emm_df[categorical_vars[1]].unique()))\n",
    "\n",
    "    # color_palette = sns.color_palette(\"tab10\")\n",
    "    \n",
    "    # Initialize the plot\n",
    "    plt.figure(figsize=(10, 8))\n",
    "\n",
    "    # Create the bar plot\n",
    "    sns.barplot(\n",
    "        data=emm_df,\n",
    "        x=categorical_vars[0],\n",
    "        y='predictions',\n",
    "        hue=categorical_vars[1],\n",
    "        palette=color_palette\n",
    "    )\n",
    "\n",
    "    # Customize the plot\n",
    "    plt.xlabel(categorical_vars[0])\n",
    "    plt.ylabel('Predictions')\n",
    "    plt.title(f'Interaction Bar Plot of Predicted EMMs ({categorical_vars[1]})')\n",
    "    plt.xticks(rotation=45)\n",
    "    plt.tight_layout()\n",
    "\n",
    "    # Save the plot if output_directory is provided\n",
    "    if output_directory:\n",
    "        plt.savefig(f\"{output_directory}/interaction_bar_plot.png\", bbox_inches='tight')\n",
    "        plt.savefig(f\"{output_directory}/interaction_bar_plot.svg\", bbox_inches='tight')\n",
    "        print(f'Saved to {output_directory}/interaction_bar_plot.png and {output_directory}/interaction_bar_plot.svg')\n",
    "\n",
    "    # Show the plot\n",
    "    plt.show()"
   ]
  },
  {
   "cell_type": "code",
   "execution_count": null,
   "metadata": {},
   "outputs": [],
   "source": [
    "from calvin_utils.statistical_utils.statistical_measurements import EstimatedMarginalMean\n",
    "\n",
    "interaction_plot = EstimatedMarginalMean(formula, data_df, model=results)\n",
    "interaction_plot.extract_unique_variables()\n",
    "interaction_plot.create_emm_df(plus_2_stdev=True, minus_2_stdev=False)\n",
    "interaction_plot.define_design_matrix()\n",
    "interaction_plot.predict_emm_design_df()\n",
    "categorical_columns = interaction_plot.variables_df[interaction_plot.variables_df['Type'] == 'categorical']['Variable'].tolist()\n",
    "\n",
    "create_interaction_plot_dynamic(emm_df=interaction_plot.emm_df.dropna(), categorical_vars=categorical_columns, out_dir=out_dir)"
   ]
  },
  {
   "cell_type": "code",
   "execution_count": null,
   "metadata": {},
   "outputs": [],
   "source": [
    "interaction_plot.emm_df"
   ]
  },
  {
   "cell_type": "markdown",
   "metadata": {},
   "source": [
    "# 12 - Get Zero Points of Each Coefficient"
   ]
  },
  {
   "cell_type": "markdown",
   "metadata": {},
   "source": [
    "The zero point is the point where the coefficient cross zero.\n",
    "When the response topology has a saddle point, the zero point indicates where the saddle is. \n",
    "Technically, the linear regression's formula does not have a saddle point. \n",
    "However, if you rotate the response topology which exhibits a saddle point by 45 degrees, you will observe a saddle point in orientation with the Cartesian plane. "
   ]
  },
  {
   "cell_type": "code",
   "execution_count": null,
   "metadata": {},
   "outputs": [],
   "source": [
    "from calvin_utils.statistical_utils.calculus_utils import find_zero_point_of_coefficients\n",
    "find_zero_point_of_coefficients(results)"
   ]
  },
  {
   "cell_type": "markdown",
   "metadata": {},
   "source": [
    "# 13 - Compare 2 Different Sets of Regressors"
   ]
  },
  {
   "cell_type": "code",
   "execution_count": null,
   "metadata": {},
   "outputs": [],
   "source": [
    "data_df.columns"
   ]
  },
  {
   "cell_type": "code",
   "execution_count": null,
   "metadata": {},
   "outputs": [],
   "source": [
    "formula"
   ]
  },
  {
   "cell_type": "markdown",
   "metadata": {},
   "source": [
    "For Nested Models"
   ]
  },
  {
   "cell_type": "code",
   "execution_count": null,
   "metadata": {},
   "outputs": [],
   "source": [
    "from statsmodels.stats.api import anova_lm\n",
    "import statsmodels.formula.api as smf\n",
    "\n",
    "smaller_formula = 'TOTALMOD ~ CSFGM_MTL + CSFGM_Frontal + CSFGM_Occipital + CSFGM_Parietal + CSFGM_Temporal'\n",
    "\n",
    "larger_formula = 'TOTALMOD ~ CSF_MTL + CSF_Frontal + CSF_Occipital + CSF_Parietal + CSF_Temporal'\n",
    "\n",
    "#----------------------------------------------------------------DO NOT TOUCH!----------------------------------------------------------------\n",
    "table1 = anova_lm(smf.ols(smaller_formula, data=data_df).fit(), smf.ols(larger_formula, data=data_df).fit())\n",
    "print(table1)"
   ]
  },
  {
   "cell_type": "markdown",
   "metadata": {},
   "source": [
    "For Un-nested Models\n",
    "- Need to employ permutation because there is no existing method. "
   ]
  },
  {
   "cell_type": "code",
   "execution_count": null,
   "metadata": {},
   "outputs": [],
   "source": [
    "data_df.columns"
   ]
  },
  {
   "cell_type": "code",
   "execution_count": null,
   "metadata": {},
   "outputs": [],
   "source": [
    "formula"
   ]
  },
  {
   "cell_type": "code",
   "execution_count": null,
   "metadata": {},
   "outputs": [],
   "source": [
    "formula1 = 'TOTALMOD ~ CSFGM_MTL + CSFGM_Frontal + CSFGM_Occipital + CSFGM_Parietal + CSFGM_Temporal'\n",
    "formula2 = 'TOTALMOD ~ CSF_MTL + CSF_Frontal + CSF_Occipital + CSF_Parietal + CSF_Temporal'"
   ]
  },
  {
   "cell_type": "code",
   "execution_count": null,
   "metadata": {},
   "outputs": [],
   "source": [
    "import numpy as np\n",
    "from tqdm import tqdm\n",
    "import statsmodels.formula.api as smf\n",
    "\n",
    "# Original R^2 values from the models\n",
    "r2_model1 = smf.ols(formula1, data=data_df).fit().rsquared\n",
    "r2_model2 = smf.ols(formula2, data=data_df).fit().rsquared\n",
    "\n",
    "# Difference in R of original models\n",
    "original_diff = r2_model1 - r2_model2\n",
    "\n",
    "# Number of permutations\n",
    "n_permutations = 1000\n",
    "\n",
    "# Store differences from permutations\n",
    "perm_diffs = []\n",
    "for i in tqdm(range(n_permutations)):\n",
    "    # Permute the outcome variable\n",
    "    data_df_permuted = data_df.copy()\n",
    "    data_df_permuted['TOTALMOD'] = np.random.permutation(data_df_permuted['TOTALMOD'].values)\n",
    "    \n",
    "    # Fit the models to the permuted dataset and calculate R^2\n",
    "    perm_model1 = smf.ols(formula1, data=data_df_permuted).fit()\n",
    "    perm_model2 = smf.ols(formula2, data=data_df_permuted).fit()\n",
    "    \n",
    "    # Difference in R^2 for the permuted models\n",
    "    perm_diff = perm_model1.rsquared - perm_model2.rsquared\n",
    "    \n",
    "    # Store the difference\n",
    "    perm_diffs.append(perm_diff)\n",
    "\n",
    "# Calculate the p-value as the proportion of permuted differences\n",
    "# that are greater than or equal to the observed difference\n",
    "p_value = np.mean([abs(diff) >= abs(original_diff)for diff in perm_diffs])\n",
    "print(f\"Original R Difference: {original_diff}\")\n",
    "print(f\"P-value from permutation test: {p_value}\")"
   ]
  },
  {
   "cell_type": "code",
   "execution_count": null,
   "metadata": {},
   "outputs": [],
   "source": [
    "r2_model1"
   ]
  },
  {
   "cell_type": "code",
   "execution_count": null,
   "metadata": {},
   "outputs": [],
   "source": [
    "np.sqrt(.30)"
   ]
  },
  {
   "cell_type": "code",
   "execution_count": null,
   "metadata": {},
   "outputs": [],
   "source": [
    "r2_model2"
   ]
  },
  {
   "cell_type": "markdown",
   "metadata": {},
   "source": [
    "Estimate Uncertainty Around a Regression Metric with Bootstrapping\n",
    "- R-squared approach visualized below. "
   ]
  },
  {
   "cell_type": "code",
   "execution_count": null,
   "metadata": {},
   "outputs": [],
   "source": [
    "#Testing\n",
    "import numpy as np\n",
    "import pandas as pd\n",
    "from tqdm import tqdm\n",
    "import statsmodels.api as sm\n",
    "from sklearn.utils import resample\n",
    "\n",
    "def bootstrap_r_squared(data: pd.DataFrame, formula: str, n_bootstraps: int = 1000):\n",
    "    \"\"\"\n",
    "    Perform bootstrap resampling to calculate the 95% confidence interval for R-squared.\n",
    "\n",
    "    Parameters:\n",
    "    - data (pd.DataFrame): The primary dataframe containing the data.\n",
    "    - formula (str): The formula specifying the model (e.g., 'Y ~ X1 + X2').\n",
    "    - n_bootstraps (int): The number of bootstrap samples (default is 10,000).\n",
    "\n",
    "    Returns:\n",
    "    - dict: A dictionary containing the original R-squared, the mean R-squared, the 95% confidence interval,\n",
    "            the standard deviation, and the standard error of R-squared.\n",
    "    \"\"\"\n",
    "    # Original model\n",
    "    model = sm.OLS.from_formula(formula, data)\n",
    "    original_results = model.fit()\n",
    "    print(\"Original R^2:\", original_results.rsquared)\n",
    "\n",
    "    # Bootstrapping\n",
    "    r_squared_values = []\n",
    "    for _ in tqdm(range(n_bootstraps)):\n",
    "        # Resample the dataframe with replacement\n",
    "        boot_data = resample(data, replace=True, n_samples=len(data))\n",
    "        \n",
    "        # Fit the model to the bootstrapped sample\n",
    "        boot_model = sm.OLS.from_formula(formula, boot_data)\n",
    "        boot_results = boot_model.fit()\n",
    "        \n",
    "        # Store the R-squared\n",
    "        r_squared_values.append(boot_results.rsquared)\n",
    "\n",
    "    # Calculate the 95% confidence interval for R^2\n",
    "    r_squared_lower = np.percentile(r_squared_values, 2.5)\n",
    "    r_squared_upper = np.percentile(r_squared_values, 97.5)\n",
    "\n",
    "    result = {\n",
    "        \"Original R^2\": original_results.rsquared,\n",
    "        \"Mean R^2\": np.mean(r_squared_values),\n",
    "        \"95% CI\": (r_squared_lower, r_squared_upper),\n",
    "        \"Stdev\": np.std(r_squared_values),\n",
    "        \"StdErr R^2\": np.std(r_squared_values) / np.sqrt(len(r_squared_values))\n",
    "    }\n",
    "\n",
    "    print(f\"95% CI for R^2: ({r_squared_lower:.4f}, {r_squared_upper:.4f})\")\n",
    "    print(f\"Mean R^2: {np.mean(r_squared_values)} | Stdev: {np.std(r_squared_values)} | StdErr R^2: {np.std(r_squared_values)/np.sqrt(len(r_squared_values))}\")\n",
    "\n",
    "    return result\n",
    "\n",
    "bootstrap_r_squared(data_df, formula5)"
   ]
  },
  {
   "cell_type": "code",
   "execution_count": null,
   "metadata": {},
   "outputs": [],
   "source": [
    "import numpy as np\n",
    "import pandas as pd\n",
    "import statsmodels.api as sm\n",
    "from sklearn.utils import resample\n",
    "\n",
    "# Number of bootstrap samples\n",
    "n_bootstraps = 10000\n",
    "r_squared_values = []\n",
    "\n",
    "# Original model\n",
    "model = sm.OLS(outcome_matrix, design_matrix)\n",
    "original_results = model.fit()\n",
    "print(\"Original R^2:\", original_results.rsquared)\n",
    "\n",
    "# Bootstrapping\n",
    "for _ in range(n_bootstraps):\n",
    "    # Resample the indices with replacement\n",
    "    boot_indices = np.random.choice(len(outcome_matrix), size=len(outcome_matrix), replace=True)\n",
    "    if isinstance(outcome_matrix, pd.DataFrame):\n",
    "        boot_outcome = outcome_matrix.iloc[boot_indices]\n",
    "    else:\n",
    "        boot_outcome = outcome_matrix[boot_indices]\n",
    "    \n",
    "    if isinstance(design_matrix, pd.DataFrame):\n",
    "        boot_design = design_matrix.iloc[boot_indices]\n",
    "    else:\n",
    "        boot_design = design_matrix[boot_indices]\n",
    "\n",
    "    # Fit the model to the bootstrapped sample\n",
    "    boot_model = sm.OLS(boot_outcome, boot_design)\n",
    "    boot_results = boot_model.fit()\n",
    "    \n",
    "    # Store the R-squared\n",
    "    r_squared_values.append(boot_results.rsquared)\n",
    "\n",
    "# Calculate the 95% confidence interval for R^2\n",
    "r_squared_lower = np.percentile(r_squared_values, 2.5)\n",
    "r_squared_upper = np.percentile(r_squared_values, 97.5)\n",
    "\n",
    "print(f\"95% CI for R^2: ({r_squared_lower:.4f}, {r_squared_upper:.4f})\")\n",
    "print(f\"Mean R^2: {np.mean(r_squared_values)} | Stdev: {np.std(r_squared_values)} | StdErr R^2: {np.std(r_squared_values)/len(r_squared_values)}\")"
   ]
  },
  {
   "cell_type": "markdown",
   "metadata": {},
   "source": [
    "Test the means"
   ]
  },
  {
   "cell_type": "code",
   "execution_count": null,
   "metadata": {},
   "outputs": [],
   "source": [
    "import numpy as np\n",
    "from scipy.stats import t\n",
    "\n",
    "def two_sample_t_test(n1, n2, mean1, mean2, stdev1, stdev2):\n",
    "    t_stat = (mean1 - mean2) / np.sqrt((stdev1**2/n1 + stdev2**2/n2))\n",
    "    \n",
    "    dof = n1 + n2 - 2\n",
    "    p_value = 2 * (1 - t.cdf(np.abs(t_stat), dof))\n",
    "    return t_stat, p_value\n",
    "\n",
    "t_stat, p_value = two_sample_t_test(n1=10, n2=10, mean1=0.16, mean2=0.23, stdev1=0.09, stdev2=0.09)\n",
    "print(\"t-statistic:\", t_stat)\n",
    "print(\"p-value:\", p_value)\n"
   ]
  },
  {
   "cell_type": "code",
   "execution_count": null,
   "metadata": {},
   "outputs": [],
   "source": [
    "np.sqrt(.11)"
   ]
  },
  {
   "cell_type": "code",
   "execution_count": null,
   "metadata": {},
   "outputs": [],
   "source": []
  }
 ],
 "metadata": {
  "kernelspec": {
   "display_name": "Python_3.7.7_nimlab",
   "language": "python",
   "name": "python3"
  },
  "language_info": {
   "codemirror_mode": {
    "name": "ipython",
    "version": 3
   },
   "file_extension": ".py",
   "mimetype": "text/x-python",
   "name": "python",
   "nbconvert_exporter": "python",
   "pygments_lexer": "ipython3",
   "version": "3.11.12"
  }
 },
 "nbformat": 4,
 "nbformat_minor": 4
}
