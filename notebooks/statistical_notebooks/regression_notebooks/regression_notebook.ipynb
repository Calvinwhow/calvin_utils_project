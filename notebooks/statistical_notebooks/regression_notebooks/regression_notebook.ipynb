{
 "cells": [
  {
   "cell_type": "markdown",
   "metadata": {},
   "source": [
    "# Run Any Kind of OLS Regression (ANOVA, GLM, etc.)\n",
    "\n",
    "### Authors: Calvin Howard.\n",
    "\n",
    "#### Last updated: July 6, 2023\n",
    "\n",
    "Use this to run/test a statistical model (e.g., regression or T-tests) on a spreadsheet.\n",
    "\n",
    "Notes:\n",
    "- To best use this notebook, you should be familar with GLM design and Contrast Matrix design. See this webpage to get started:\n",
    "[FSL's GLM page](https://fsl.fmrib.ox.ac.uk/fsl/fslwiki/GLM)"
   ]
  },
  {
   "cell_type": "markdown",
   "metadata": {},
   "source": []
  },
  {
   "cell_type": "markdown",
   "metadata": {},
   "source": [
    "# 00 - Import CSV with All Data\n",
    "**The CSV is expected to be in this format**\n",
    "- ID and absolute paths to niftis are critical\n",
    "```\n",
    "+-----+----------------------------+--------------+--------------+--------------+\n",
    "| ID  | Nifti_File_Path            | Covariate_1  | Covariate_2  | Covariate_3  |\n",
    "+-----+----------------------------+--------------+--------------+--------------+\n",
    "| 1   | /path/to/file1.nii.gz      | 0.5          | 1.2          | 3.4          |\n",
    "| 2   | /path/to/file2.nii.gz      | 0.7          | 1.4          | 3.1          |\n",
    "| 3   | /path/to/file3.nii.gz      | 0.6          | 1.5          | 3.5          |\n",
    "| 4   | /path/to/file4.nii.gz      | 0.9          | 1.1          | 3.2          |\n",
    "| ... | ...                        | ...          | ...          | ...          |\n",
    "+-----+----------------------------+--------------+--------------+--------------+\n",
    "```"
   ]
  },
  {
   "cell_type": "markdown",
   "metadata": {},
   "source": []
  },
  {
   "cell_type": "markdown",
   "metadata": {},
   "source": [
    "Prep Output Direction"
   ]
  },
  {
   "cell_type": "code",
   "execution_count": 1,
   "metadata": {},
   "outputs": [],
   "source": [
    "# Specify where you want to save your results to\n",
    "out_dir = '/Users/cu135/Partners HealthCare Dropbox/Calvin Howard/studies/atrophy_seeds_2023/Figures/supplement_diagnostic_figures'"
   ]
  },
  {
   "cell_type": "markdown",
   "metadata": {},
   "source": [
    "Import Data"
   ]
  },
  {
   "cell_type": "code",
   "execution_count": 2,
   "metadata": {},
   "outputs": [],
   "source": [
    "# Specify the path to your CSV file containing NIFTI paths\n",
    "input_csv_path = '/Users/cu135/Partners HealthCare Dropbox/Calvin Howard/studies/atrophy_seeds_2023/metadata/updated_with_all_adni/master.csv'\n",
    "sheet = None # 'master_list_proper_subjects'"
   ]
  },
  {
   "cell_type": "code",
   "execution_count": null,
   "metadata": {},
   "outputs": [],
   "source": [
    "from calvin_utils.permutation_analysis_utils.statsmodels_palm import CalvinStatsmodelsPalm\n",
    "# Instantiate the PalmPrepararation class\n",
    "cal_palm = CalvinStatsmodelsPalm(input_csv_path=input_csv_path, output_dir=out_dir, sheet=sheet)\n",
    "# Call the process_nifti_paths method\n",
    "data_df = cal_palm.read_and_display_data()"
   ]
  },
  {
   "cell_type": "markdown",
   "metadata": {},
   "source": [
    "# 01 - Preprocess Your Data"
   ]
  },
  {
   "cell_type": "markdown",
   "metadata": {},
   "source": [
    "**Handle NANs**\n",
    "- Set drop_nans=True is you would like to remove NaNs from data\n",
    "- Provide a column name or a list of column names to remove NaNs from"
   ]
  },
  {
   "cell_type": "code",
   "execution_count": null,
   "metadata": {},
   "outputs": [],
   "source": [
    "data_df.columns"
   ]
  },
  {
   "cell_type": "code",
   "execution_count": 7,
   "metadata": {},
   "outputs": [],
   "source": [
    "drop_list = ['DX_BASELINE', 'CSF_Cerebellum']"
   ]
  },
  {
   "cell_type": "code",
   "execution_count": null,
   "metadata": {},
   "outputs": [],
   "source": [
    "data_df = cal_palm.drop_nans_from_columns(columns_to_drop_from=drop_list)\n",
    "display(data_df)"
   ]
  },
  {
   "cell_type": "markdown",
   "metadata": {},
   "source": [
    "**Drop Row Based on Value of Column**\n",
    "\n",
    "Define the column, condition, and value for dropping rows\n",
    "- column = 'your_column_name'\n",
    "- condition = 'above'  # Options: 'equal', 'above', 'below'"
   ]
  },
  {
   "cell_type": "code",
   "execution_count": null,
   "metadata": {},
   "outputs": [],
   "source": [
    "data_df.columns"
   ]
  },
  {
   "cell_type": "markdown",
   "metadata": {},
   "source": [
    "Set the parameters for dropping rows"
   ]
  },
  {
   "cell_type": "code",
   "execution_count": 462,
   "metadata": {},
   "outputs": [],
   "source": [
    "column = 'Region'  # The column you'd like to evaluate\n",
    "condition = 'equal'  # The condition to check ('equal', 'above', 'below', 'not')\n",
    "value = 'Cerebellum' # The value to drop if found"
   ]
  },
  {
   "cell_type": "code",
   "execution_count": null,
   "metadata": {},
   "outputs": [],
   "source": [
    "data_df, other_df = cal_palm.drop_rows_based_on_value(column, condition, value)\n",
    "display(data_df)"
   ]
  },
  {
   "cell_type": "markdown",
   "metadata": {},
   "source": [
    "**Standardize Data**\n",
    "- Enter Columns you Don't want to standardize into a list"
   ]
  },
  {
   "cell_type": "code",
   "execution_count": 283,
   "metadata": {},
   "outputs": [],
   "source": [
    "# Remove anything you don't want to standardize\n",
    "cols_not_to_standardize = None # ['Z_Scored_Percent_Cognitive_Improvement_By_Origin_Group', 'Z_Scored_Subiculum_T_By_Origin_Group_'] #['Age']"
   ]
  },
  {
   "cell_type": "code",
   "execution_count": null,
   "metadata": {},
   "outputs": [],
   "source": [
    "data_df = cal_palm.standardize_columns(cols_not_to_standardize)\n",
    "data_df"
   ]
  },
  {
   "cell_type": "code",
   "execution_count": 442,
   "metadata": {},
   "outputs": [],
   "source": [
    "# For standardizing by categories encoded in columns\n",
    "def standardize_measurements(df):\n",
    "    # Standardize Measurement within groups of Region and Tissue\n",
    "    df['Standardized_Measurement'] = df.groupby(['Tissue'])['Measurement'].transform(\n",
    "        lambda x: (x - x.mean()) / x.std()\n",
    "    )\n",
    "    return df\n",
    "data_df = standardize_measurements(data_df)"
   ]
  },
  {
   "cell_type": "code",
   "execution_count": null,
   "metadata": {},
   "outputs": [],
   "source": [
    "data_df"
   ]
  },
  {
   "cell_type": "markdown",
   "metadata": {},
   "source": [
    "# 02 - Define Your Formula\n",
    "\n",
    "This is the formula relating outcome to predictors, and takes the form:\n",
    "- y = B0 + B1 + B2 + B3 + . . . BN\n",
    "\n",
    "It is defined using the columns of your dataframe instead of the variables above:\n",
    "- 'Apples_Picked ~ hours_worked + owns_apple_picking_machine'\n",
    "\n",
    "____\n",
    "**ANOVA**\n",
    "- Tests differences in means for one categorical variable.\n",
    "- formula = 'Outcome ~ C(Group1)'\n",
    "\n",
    "**2-Way ANOVA**\n",
    "- Tests differences in means for two categorical variables without interaction.\n",
    "- formula = 'Outcome ~ C(Group1) + C(Group2)'\n",
    "\n",
    "**2-Way ANOVA with Interaction**\n",
    "- Tests for interaction effects between two categorical variables.\n",
    "- formula = 'Outcome ~ C(Group1) * C(Group2)'\n",
    "\n",
    "**ANCOVA**\n",
    "- Similar to ANOVA, but includes a covariate to control for its effect.\n",
    "- formula = 'Outcome ~ C(Group1) + Covariate'\n",
    "\n",
    "**2-Way ANCOVA**\n",
    "- Extends ANCOVA with two categorical variables and their interaction, controlling for a covariate.\n",
    "- formula = 'Outcome ~ C(Group1) * C(Group2) + Covariate'\n",
    "\n",
    "**Multiple Regression**\n",
    "- Assesses the impact of multiple predictors on an outcome.\n",
    "- formula = 'Outcome ~ Predictor1 + Predictor2'\n",
    "\n",
    "**Simple Linear Regression**\n",
    "- Assesses the impact of a single predictor on an outcome.\n",
    "- formula = 'Outcome ~ Predictor'\n",
    "\n",
    "**MANOVA**\n",
    "- Assesses multiple dependent variables across groups.\n",
    "- Note: Not typically set up with a formula in statsmodels. Requires specialized functions.\n",
    "\n",
    "____\n",
    "Use the printout below to design your formula. \n",
    "- Left of the \"~\" symbol is the thing to be predicted. \n",
    "- Right of the \"~\" symbol are the predictors. \n",
    "- \":\" indicates an interaction between two things. \n",
    "- \"*\" indicates and interactions AND it accounts for the simple effects too. \n",
    "- \"+\" indicates that you want to add another predictor. "
   ]
  },
  {
   "cell_type": "code",
   "execution_count": null,
   "metadata": {},
   "outputs": [],
   "source": [
    "data_df.columns"
   ]
  },
  {
   "cell_type": "code",
   "execution_count": 464,
   "metadata": {},
   "outputs": [],
   "source": [
    "formula = \"TOTALMOD ~  Standardized_Measurement:C(Tissue):C(Region) - 1\""
   ]
  },
  {
   "cell_type": "markdown",
   "metadata": {},
   "source": []
  },
  {
   "cell_type": "markdown",
   "metadata": {},
   "source": [
    "# 02 - Visualize Your Design Matrix\n",
    "\n",
    "This is the explanatory variable half of your regression formula\n",
    "_______________________________________________________\n",
    "Create Design Matrix: Use the create_design_matrix method. You can provide a list of formula variables which correspond to column names in your dataframe.\n",
    "\n",
    "- design_matrix = palm.create_design_matrix(formula_vars=[\"var1\", \"var2\", \"var1*var2\"])\n",
    "- To include interaction terms, use * between variables, like \"var1*var2\".\n",
    "- By default, an intercept will be added unless you set intercept=False\n",
    "- **don't explicitly add the 'intercept' column. I'll do it for you.**"
   ]
  },
  {
   "cell_type": "code",
   "execution_count": null,
   "metadata": {},
   "outputs": [],
   "source": [
    "# Define the design matrix\n",
    "outcome_matrix, design_matrix = cal_palm.define_design_matrix(formula, data_df)\n",
    "design_matrix"
   ]
  },
  {
   "cell_type": "markdown",
   "metadata": {},
   "source": [
    "# 03 - Visualize Your Dependent Variable\n",
    "\n",
    "I have generated this for you based on the formula you provided"
   ]
  },
  {
   "cell_type": "code",
   "execution_count": null,
   "metadata": {},
   "outputs": [],
   "source": [
    "outcome_matrix"
   ]
  },
  {
   "cell_type": "markdown",
   "metadata": {},
   "source": [
    "# 04 - Generate Contrasts"
   ]
  },
  {
   "cell_type": "markdown",
   "metadata": {},
   "source": [
    "Generate a Contrast Matrix\n",
    "- This is different from the contrast matrices used in cell-means regressions such as in PALM, but it is much more powerful. \n",
    "\n",
    "\n",
    "\n",
    "For more information on contrast matrices, please refer to this: https://cran.r-project.org/web/packages/codingMatrices/vignettes/codingMatrices.pdf\n",
    "\n",
    "Generally, these drastically effect the results of ANOVA. However, they are mereley a nuisance for a regression.\n",
    "In essence, they assess if coefficients are significantly different\n",
    "\n",
    "________________________________________________________________\n",
    "A coding matrix (a contrast matrix if it sums to zero) is simply a way of defining what coefficients to evaluate and how to evaluate them. \n",
    "If a coefficient is set to 1 and everything else is set to zero, we are taking the mean of the coefficient's means and assessing if they significantly\n",
    "deviate from zero--IE we are checking if it had a significant impact on the ability to predict the depdendent variable.\n",
    "If a coefficient is set to 1, another is -1, and others are 0, we are assessing how the means of the two coefficients deviate from eachother. \n",
    "If several coefficients are 1 and several others are -1, we are assessing how the group-level means of the two coefficients deviate from eachother.\n",
    "If a group of coefficients are 1, a group is -1, and a group is 0, we are only assessing how the groups +1 and -1 have differing means. \n",
    "\n",
    "1: This value indicates that the corresponding variable's coefficient in the model is included in the contrast. It means you are interested in estimating the effect of that variable.\n",
    "\n",
    "0: This value indicates that the corresponding variable's coefficient in the model is not included in the contrast. It means you are not interested in estimating the effect of that variable.\n",
    "\n",
    "-1: This value indicates that the corresponding variable's coefficient in the model is included in the contrast, but with an opposite sign. It means you are interested in estimating the negative effect of that variable.\n",
    "\n",
    "----------------------------------------------------------------\n",
    "The contrast matrix is typically a matrix with dimensions (number of contrasts) x (number of regression coefficients). Each row of the contrast matrix represents a contrast or comparison you want to test.\n",
    "\n",
    "For example, let's say you have the following regression coefficients in your model:\n",
    "\n",
    "Intercept, Age, connectivity, Age_interaction_connectivity\n",
    "A contrast matric has dimensions of [n_predictors, n_experiments] where each experiment is a contrast\n",
    "\n",
    "If you want to test the hypothesis that the effect of Age is significant, you can set up a contrast matrix with a row that specifies this contrast (actually an averaging vector):\n",
    "```\n",
    "[0,1,0,0]. This is an averaging vector because it sums to 1\n",
    "```\n",
    "This contrast will test the coefficient corresponding to the Age variable against zero.\n",
    "\n",
    "\n",
    "If you want to test the hypothesis that the effect of Age is different from the effect of connectivity, you can set up a contrast matrix with two rows:\n",
    "```\n",
    "[0,1,−1,0]. This is a contrast because it sums to 0\n",
    "```\n",
    "\n",
    "Thus, if you want to see if any given effect is significant compared to the intercept (average), you can use the following contrast matrix:\n",
    "```\n",
    "[1,0,0,0]\n",
    "[-1,1,0,0]\n",
    "[-1,0,1,0]\n",
    "[-1,0,0,1] actually a coding matrix of averaging vectors\n",
    "```\n",
    "\n",
    "The first row tests the coefficient for Age against zero, and the second row tests the coefficient for connectivity against zero. The difference between the two coefficients can then be assessed.\n",
    "_____\n",
    "You can define any number of contrasts in the contrast matrix to test different hypotheses or comparisons of interest in your regression analysis.\n",
    "\n",
    "It's important to note that the specific contrasts you choose depend on your research questions and hypotheses. You should carefully consider the comparisons you want to make and design the contrast matrix accordingly.\n",
    "\n",
    "- Examples:\n",
    "    - [Two Sample T-Test](https://fsl.fmrib.ox.ac.uk/fsl/fslwiki/GLM#Two-Group_Difference_.28Two-Sample_Unpaired_T-Test.29)\n",
    "    - [One Sample with Covariate](https://fsl.fmrib.ox.ac.uk/fsl/fslwiki/GLM#Single-Group_Average_with_Additional_Covariate)"
   ]
  },
  {
   "cell_type": "code",
   "execution_count": null,
   "metadata": {},
   "outputs": [],
   "source": [
    "contrast_matrix = cal_palm.generate_basic_contrast_matrix(design_matrix)"
   ]
  },
  {
   "cell_type": "markdown",
   "metadata": {},
   "source": [
    "Edit Contrast Matrix Here\n",
    "- The generic contrast matrix will simply check if your Betas are significantly different from the intercept (average)"
   ]
  },
  {
   "cell_type": "code",
   "execution_count": 470,
   "metadata": {},
   "outputs": [],
   "source": [
    "contrast_matrix = [\n",
    "    [1, -1, 0, 0, 1, -1, 0, 0, 1, -1, 0, 0, 1, -1, 0, 0],\n",
    "    [1, 0, -1, 0, 1, 0, -1, 0, 1, 0, -1, 0, 1, 0, -1, 0],\n",
    "    [1, 0, 0, -1, 1, 0, 0, -1, 1, 0, 0, -1, 1, 0, 0, -1],\n",
    "    [1, -1/3, -1/3, -1/3, 1, -1/3, -1/3, -1/3, 1, -1/3, -1/3, -1/3, 1, -1/3, -1/3, -1/3]\n",
    "    ]"
   ]
  },
  {
   "cell_type": "markdown",
   "metadata": {},
   "source": [
    "Finalize Contrast Matrix"
   ]
  },
  {
   "cell_type": "code",
   "execution_count": null,
   "metadata": {},
   "outputs": [],
   "source": [
    "contrast_matrix_df = cal_palm.finalize_contrast_matrix(design_matrix=design_matrix, \n",
    "                                                    contrast_matrix=contrast_matrix) \n",
    "contrast_matrix_df"
   ]
  },
  {
   "cell_type": "markdown",
   "metadata": {},
   "source": [
    "# 05 - Define Exchangeability Blocks (Optional)"
   ]
  },
  {
   "cell_type": "markdown",
   "metadata": {},
   "source": [
    "Optional - Exchangability Blocks\n",
    "- This is optional and for when you are doing a meta-analysis\n",
    "- Not yet implemented"
   ]
  },
  {
   "cell_type": "code",
   "execution_count": 472,
   "metadata": {},
   "outputs": [],
   "source": [
    "### This is just an example, you will have to edit to adapt to your data, \n",
    "### but it should be integers, starting with 1,2,3....\n",
    "\n",
    "# coding_key = {\"Prosopagnosia_w_Yeo1000\": 1,\n",
    "#              \"Corbetta_Lesions\": 1,\n",
    "#              \"DBS_dataset\": 2\n",
    "#              }\n",
    "\n",
    "# eb_matrix = pd.DataFrame()\n",
    "# eb_matrix = clean_df['dataset'].replace(coding_key)\n",
    "# display(eb_matrix)"
   ]
  },
  {
   "cell_type": "markdown",
   "metadata": {},
   "source": [
    "# 06 - Run the Regression"
   ]
  },
  {
   "cell_type": "markdown",
   "metadata": {},
   "source": [
    "Regression Results Are Displayed Below"
   ]
  },
  {
   "cell_type": "code",
   "execution_count": null,
   "metadata": {},
   "outputs": [],
   "source": [
    "import statsmodels.api as sm\n",
    "# Fit the regression model\n",
    "model = sm.OLS(outcome_matrix, design_matrix)\n",
    "results = model.fit()\n",
    "print(results.summary2())"
   ]
  },
  {
   "cell_type": "markdown",
   "metadata": {},
   "source": [
    "Visualize the Regression as a Forest Plot\n",
    "- This will probably look poor if you ran a regression without standardizing your data. "
   ]
  },
  {
   "cell_type": "code",
   "execution_count": null,
   "metadata": {},
   "outputs": [],
   "source": [
    "from calvin_utils.statistical_utils.statistical_measurements import ForestPlot\n",
    "forest = ForestPlot(model=results, sig_digits=2, out_dir=out_dir, table=False)\n",
    "forest.run()"
   ]
  },
  {
   "cell_type": "markdown",
   "metadata": {},
   "source": [
    "Visualize The Model's Fit"
   ]
  },
  {
   "cell_type": "code",
   "execution_count": null,
   "metadata": {},
   "outputs": [],
   "source": [
    "from calvin_utils.statistical_utils.statistical_measurements import model_diagnostics\n",
    "model_diagnostics(results)"
   ]
  },
  {
   "cell_type": "markdown",
   "metadata": {},
   "source": [
    "Visualize the Partial Regression Plots"
   ]
  },
  {
   "cell_type": "code",
   "execution_count": null,
   "metadata": {},
   "outputs": [],
   "source": [
    "from calvin_utils.statistical_utils.statistical_measurements import PartialRegressionPlot\n",
    "partial_plot = PartialRegressionPlot(model=results, design_matrix=design_matrix, out_dir=out_dir, palette='Reds')\n",
    "partial_plot = partial_plot.run()"
   ]
  },
  {
   "cell_type": "markdown",
   "metadata": {},
   "source": [
    "# 07 - Run the Contrasts"
   ]
  },
  {
   "cell_type": "markdown",
   "metadata": {},
   "source": [
    "Contrast Results Are Displayed Below"
   ]
  },
  {
   "cell_type": "code",
   "execution_count": null,
   "metadata": {},
   "outputs": [],
   "source": [
    "contrast_matrix_df"
   ]
  },
  {
   "cell_type": "markdown",
   "metadata": {},
   "source": [
    "This specifies the contrast of the coefficients. This follows the math of the contrast matrix, but typical ANOVA contrasts are of group means, not group coefficients. \n",
    "- If you want to contrast group-level means, you will have to code it. \n"
   ]
  },
  {
   "cell_type": "code",
   "execution_count": null,
   "metadata": {},
   "outputs": [],
   "source": [
    "contrast_results = results.t_test(contrast_matrix_df)\n",
    "print(contrast_results.summary())"
   ]
  },
  {
   "cell_type": "code",
   "execution_count": null,
   "metadata": {},
   "outputs": [],
   "source": [
    "# Example: Let's say results.params contains the estimated coefficients\n",
    "coefficients = results.params\n",
    "\n",
    "# Manually compute comparisons for each row in the contrast matrix\n",
    "for i, row in enumerate(contrast_matrix_df.values):\n",
    "    positive_sum = sum(coefficients[row > 0])\n",
    "    negative_sum = sum(coefficients[row < 0])\n",
    "    \n",
    "    print(f\"Row {i + 1}: Positive = {positive_sum}, Negative = {negative_sum}\")\n"
   ]
  },
  {
   "cell_type": "markdown",
   "metadata": {},
   "source": [
    "Contrast T-values"
   ]
  },
  {
   "cell_type": "markdown",
   "metadata": {},
   "source": [
    "# 08 - Compare the Coefficient Between 2 Groups"
   ]
  },
  {
   "cell_type": "code",
   "execution_count": null,
   "metadata": {},
   "outputs": [],
   "source": [
    "groups_column = 'Age_Group'"
   ]
  },
  {
   "cell_type": "code",
   "execution_count": null,
   "metadata": {},
   "outputs": [],
   "source": [
    "from calvin_utils.permutation_analysis_utils.statsmodels_palm import RegressionAnalysis\n",
    "regression_test = RegressionAnalysis(outcome_df=outcome_matrix, design_df=design_matrix, groups_df=data_df[[groups_column]], N=10000, metric='similarity', two_tail=False, out_dir=out_dir)\n",
    "regression_test.run()"
   ]
  },
  {
   "cell_type": "markdown",
   "metadata": {},
   "source": [
    "# 09 - Compare Distribution of T Values Between Groups"
   ]
  },
  {
   "cell_type": "code",
   "execution_count": null,
   "metadata": {},
   "outputs": [],
   "source": [
    "data_df.columns"
   ]
  },
  {
   "cell_type": "code",
   "execution_count": null,
   "metadata": {},
   "outputs": [],
   "source": [
    "plot_together=False\n",
    "groups_column = 'Age_Group'"
   ]
  },
  {
   "cell_type": "code",
   "execution_count": null,
   "metadata": {},
   "outputs": [],
   "source": [
    "from calvin_utils.permutation_analysis_utils.statsmodels_palm import BootstrappedRegressionAnalysis\n",
    "\n",
    "# Create an instance of BootstrappedRegressionAnalysis\n",
    "bootstrapped_regression_test = BootstrappedRegressionAnalysis(outcome_df=outcome_matrix, design_df=design_matrix, groups_df=data_df[[groups_column]], N=10000, out_dir=out_dir, plot_together=plot_together)\n",
    "\n",
    "# Run the bootstrapped regression analysis\n",
    "df1 = bootstrapped_regression_test.run()"
   ]
  },
  {
   "cell_type": "markdown",
   "metadata": {},
   "source": [
    "# 10 - Predict Another Dataframe\n",
    "- Can use this to predict data from a second group, such as the 'other_df' defined in \"Step 01, Drop Rows Based on Value of a Column\""
   ]
  },
  {
   "cell_type": "code",
   "execution_count": 142,
   "metadata": {},
   "outputs": [],
   "source": [
    "import numpy as np\n",
    "from scipy.stats import f\n",
    "\n",
    "def calculate_ssr(observations, predictions):\n",
    "    \"\"\"\n",
    "    Calculate the regression sum of squares.\n",
    "    This is the sum of squared deviations, with deviation being Y_hat_i - Y_bar\n",
    "    \n",
    "    SSR is a measure used to quantify the variance in the observed data that is not explained by the model. \n",
    "    It is calculated as the sum of the squares of the differences between the observed values and the model's predictions. \n",
    "    The more the 'mean' predicts \n",
    "    A lower SSR indicates a better model fit, meaning the model's predictions are closer to the actual observations.\n",
    "    \n",
    "    SSR = Σ(y_hat - y_bar)^2 \n",
    "    \n",
    "    Parameters:\n",
    "    - observations (array-like): The actual observed outcomes.\n",
    "    - predictions (array-like): The outcomes predicted by the model.\n",
    "    \n",
    "    Returns:\n",
    "    - float: The calculated SSR.\n",
    "    \"\"\"\n",
    "    y_hat = observations\n",
    "    y_bar = np.mean(predictions)\n",
    "    ssr = np.sum((y_hat - y_bar) ** 2)\n",
    "    return ssr\n",
    "\n",
    "def calculate_sse(observations, predictions):\n",
    "    \"\"\"\n",
    "    Calculate the sum of squares due to error (SSE).\n",
    "    \n",
    "    SSE is a measure of the total deviation of the response values from the fit to the response values. \n",
    "    It is calculated as the sum of the squares of the differences between the predicted values and the observed values. \n",
    "    A lower SSE indicates a model that more accurately fits the data.\n",
    "    \n",
    "    SSE = Σ(y - y_hat)^2\n",
    "    \n",
    "    Parameters:\n",
    "    - observations (array-like): The actual observed outcomes.\n",
    "    - predictions (array-like): The outcomes predicted by the model.\n",
    "    \n",
    "    Returns:\n",
    "    - float: The calculated SSE.\n",
    "    \"\"\"\n",
    "    y = observations\n",
    "    y_hat = predictions\n",
    "    sse = np.sum((y - y_hat) ** 2)\n",
    "    return sse\n",
    "\n",
    "def calculate_ssto(observations):\n",
    "    \"\"\"\n",
    "    Calculate the total sum of squares (SSTO).\n",
    "    \n",
    "    SSTO is a measure of the total variance in the observed data and is used as a comparative tool for model evaluation. \n",
    "    It is calculated as the sum of the squares of the differences between the observed values and their overall mean. \n",
    "    SSTO is used in the denominator of the coefficient of determination, R^2, which assesses the fit of the model.\n",
    "    \n",
    "    SSTO = Σ(y - y_bar)^2\n",
    "    \n",
    "    Parameters:\n",
    "    - observations (array-like): The actual observed outcomes.\n",
    "    \n",
    "    Returns:\n",
    "    - float: The calculated SSTO.\n",
    "    \"\"\"\n",
    "    y = observations\n",
    "    y_bar = np.mean(y)\n",
    "    ssto = np.sum((y - y_bar) ** 2)\n",
    "    return ssto\n",
    "\n",
    "\n",
    "def calculate_msr(ssr, num_regressors):\n",
    "    \"\"\"\n",
    "    Calculate the mean square due to regression (MSR).\n",
    "    \n",
    "    MSR is a measure of the variation explained by the independent variables in the model. It is calculated as the \n",
    "    sum of squared residuals (SSR) divided by the degrees of freedom, which is the number of independent variables (regressors) minus one.\n",
    "    A higher MSR indicates that the model explains a greater amount of variation in the outcome variable.\n",
    "    \n",
    "    MSR = SSR / (number of regressors - 1)\n",
    "    \n",
    "    Parameters:\n",
    "    - ssr (float): The sum of squared residuals from the regression model.\n",
    "    - num_regressors (int): The number of independent variables in the model.\n",
    "    \n",
    "    Returns:\n",
    "    - float: The calculated MSR.\n",
    "    \"\"\"\n",
    "    return ssr / (num_regressors - 1)\n",
    "\n",
    "def calculate_mse(sse, num_regressors, num_observations):\n",
    "    \"\"\"\n",
    "    Calculate the mean square error (MSE).\n",
    "    \n",
    "    MSE is a measure of the average of the squares of the errors, that is, the average squared difference between the observed actual outcomes and the outcomes predicted by the model. It is calculated as the sum of squared errors (SSE) divided by the degrees of freedom, which is the number of observations minus the number of regressors.\n",
    "    A lower MSE indicates a better fit of the model to the data.\n",
    "    \n",
    "    MSE = SSE / (number of observations - number of regressors)\n",
    "    \n",
    "    Parameters:\n",
    "    - sse (float): The sum of squared errors from the regression model.\n",
    "    - num_regressors (int): The number of independent variables in the model.\n",
    "    - num_observations (int): The number of observations in the data set.\n",
    "    \n",
    "    Returns:\n",
    "    - float: The calculated MSE.\n",
    "    \"\"\"\n",
    "    return sse / (num_observations - num_regressors)\n",
    "\n",
    "def calculate_f_stat(msr, mse, num_regressors, num_observations):\n",
    "    \"\"\"\n",
    "    Calculate the F-statistic.\n",
    "    \n",
    "    The F-statistic is used to compare statistical models that have been fitted to a data set in order to identify the model that best fits the population from which the data were sampled. It is the ratio of the mean square due to regression (MSR) to the mean square error (MSE).\n",
    "    \n",
    "    The F-statistic follows the F-distribution under the null hypothesis that the model with no independent variables fits the data as well as your model. A higher F-statistic implies that the null hypothesis is false, and your model adds value in explaining the variation in the data.\n",
    "    \n",
    "    F = MSR / MSE\n",
    "    \n",
    "    Parameters:\n",
    "    - msr (float): The mean square due to regression.\n",
    "    - mse (float): The mean square error.\n",
    "    \n",
    "    Returns:\n",
    "    - float: The calculated F-statistic.\n",
    "    - float: The p-value from the F-distribution.\n",
    "    \"\"\"\n",
    "    f_stat = msr / mse\n",
    "    # The degrees of freedom for the numerator (dfn) is the number of independent variables (regressors).\n",
    "    # The degrees of freedom for the denominator (dfd) is the total number of observations minus the number of independent variables minus 1.\n",
    "    # These values need to be defined or calculated outside of this function.\n",
    "    dfn = num_regressors - 1\n",
    "    dfd = num_observations - num_regressors \n",
    "    p_value = f.sf(f_stat, dfn, dfd)\n",
    "    return f_stat, p_value\n",
    "\n",
    "def run_goodness_of_fit(target_outcome_matrix, predictions, target_design_matrix):\n",
    "    \"\"\"\n",
    "    Calculate the F-statistic and p-value for a linear regression model.\n",
    "\n",
    "    Parameters:\n",
    "    - target_outcome_matrix (array-like): The actual observed outcomes (Y_actual).\n",
    "    - predictions (array-like): The outcomes predicted by the model (Y_hat).\n",
    "\n",
    "    Returns:\n",
    "    - float: The calculated F-statistic.\n",
    "    - float: The p-value from the F-distribution.\n",
    "    \"\"\"\n",
    "    # Calculate the regression sum of squares (SSR).\n",
    "    ssr = calculate_ssr(target_outcome_matrix, predictions)\n",
    "\n",
    "    # Calculate the sum of squares due to error (SSE).\n",
    "    sse = calculate_sse(target_outcome_matrix, predictions)\n",
    "\n",
    "    # Calculate the number of regressors and observations.\n",
    "    num_regressors = target_design_matrix.shape[1]\n",
    "    num_observations = len(target_outcome_matrix)\n",
    "\n",
    "    # Calculate the mean square due to regression (MSR).\n",
    "    msr = calculate_msr(ssr, num_regressors)\n",
    "\n",
    "    # Calculate the mean square error (MSE).\n",
    "    mse = calculate_mse(sse, num_regressors, num_observations)\n",
    "\n",
    "    # Calculate the F-statistic and p-value.\n",
    "    f_stat, p_value = calculate_f_stat(msr, mse, num_regressors, num_observations)\n",
    "\n",
    "    return f_stat, p_value\n",
    "\n",
    "def calculate_r_squared(observations, predictions):\n",
    "    \"\"\"\n",
    "    Calculate the R-squared (coefficient of determination) value.\n",
    "\n",
    "    R-squared measures the proportion of the variance in the observed outcomes that is explained by the predictions.\n",
    "\n",
    "    R-squared = 1 - (SSE / SSTO)\n",
    "\n",
    "    Parameters:\n",
    "    - observations (array-like): The actual observed outcomes.\n",
    "    - predictions (array-like): The outcomes predicted by the model.\n",
    "\n",
    "    Returns:\n",
    "    - float: The calculated R-squared value.\n",
    "    \"\"\"\n",
    "    # Calculate SSE (Sum of Squares of Errors)\n",
    "    sse = np.sum((observations - predictions) ** 2)\n",
    "\n",
    "    # Calculate SSTO (Total Sum of Squares)\n",
    "    y_mean = np.mean(observations)\n",
    "    ssto = np.sum((observations - y_mean) ** 2)\n",
    "\n",
    "    # Calculate R-squared\n",
    "    r_squared = 1 - (sse / ssto)\n",
    "    \n",
    "    return r_squared"
   ]
  },
  {
   "cell_type": "code",
   "execution_count": 143,
   "metadata": {},
   "outputs": [],
   "source": [
    "# Define the design matrix\n",
    "target_outcome_matrix, target_design_matrix = cal_palm.define_design_matrix(formula, data_df)\n",
    "predictions = results.predict(target_design_matrix)\n"
   ]
  },
  {
   "cell_type": "markdown",
   "metadata": {},
   "source": [
    "Extract F-Test for Goodness of Fit"
   ]
  },
  {
   "cell_type": "code",
   "execution_count": 144,
   "metadata": {},
   "outputs": [],
   "source": [
    "f_stat, p_value = run_goodness_of_fit(target_outcome_matrix=target_outcome_matrix.to_numpy().flatten(), \n",
    "                    predictions=predictions.to_numpy().flatten(), \n",
    "                    target_design_matrix=target_design_matrix)"
   ]
  },
  {
   "cell_type": "markdown",
   "metadata": {},
   "source": [
    "Extract R-Squared"
   ]
  },
  {
   "cell_type": "code",
   "execution_count": null,
   "metadata": {},
   "outputs": [],
   "source": [
    "r_squared = calculate_r_squared(target_outcome_matrix.to_numpy().flatten(), predictions.to_numpy().flatten())\n",
    "print(f\"R-squared: {r_squared:.4f}\")"
   ]
  },
  {
   "cell_type": "code",
   "execution_count": null,
   "metadata": {},
   "outputs": [],
   "source": [
    "import numpy as np\n",
    "from sklearn.metrics import mean_squared_error, mean_absolute_error\n",
    "\n",
    "# Calculate Mean Squared Error (MSE)\n",
    "mse = mean_squared_error(target_outcome_matrix, predictions)\n",
    "\n",
    "# Calculate Root Mean Squared Error (RMSE)\n",
    "rmse = np.sqrt(mse)\n",
    "\n",
    "# Calculate Mean Absolute Error (MAE)\n",
    "mae = mean_absolute_error(target_outcome_matrix, predictions)\n",
    "\n",
    "# Print the results\n",
    "print(\"Mean Squared Error (MSE):\", mse)\n",
    "print(\"Root Mean Squared Error (RMSE):\", rmse)\n",
    "print(\"Mean Absolute Error (MAE):\", mae)"
   ]
  },
  {
   "cell_type": "markdown",
   "metadata": {},
   "source": [
    "Plot The Fit"
   ]
  },
  {
   "cell_type": "code",
   "execution_count": 122,
   "metadata": {},
   "outputs": [],
   "source": [
    "import seaborn as sns\n",
    "import matplotlib.pyplot as plt\n",
    "import numpy as np\n",
    "\n",
    "def plot_scatter_with_f_stat_in_title(target_outcome_matrix, predictions, f_stat, p_value, out_dir=None):\n",
    "    \"\"\"\n",
    "    Create a scatterplot of predicted vs. observed values with F-statistic and p-value in the title.\n",
    "\n",
    "    Parameters:\n",
    "    - target_outcome_matrix (array-like): The actual observed outcomes.\n",
    "    - predictions (array-like): The outcomes predicted by the model.\n",
    "    - f_stat (float): The F-statistic value.\n",
    "    - p_value (float): The p-value.\n",
    "\n",
    "    Returns:\n",
    "    - None (displays the plot)\n",
    "    \"\"\"\n",
    "    # Create a scatterplot using Seaborn\n",
    "    plt.figure(figsize=(8, 6))\n",
    "    sns.scatterplot(x=predictions,\n",
    "                    y=target_outcome_matrix,\n",
    "                    label='Predicted vs. Observed')\n",
    "\n",
    "    # Add a diagonal line\n",
    "    xlim = plt.xlim()  # Get current X-axis limits\n",
    "    ylim = plt.ylim()  # Get current Y-axis limits\n",
    "    min_limit = min(xlim[0], ylim[0])\n",
    "    max_limit = max(xlim[1], ylim[1])\n",
    "    plt.plot([min_limit, max_limit], [min_limit, max_limit], linestyle='--', color='gray', label='Perfect Fit')\n",
    "\n",
    "    # Add labels and title with F-statistic and p-value\n",
    "    plt.xlabel('Predicted Values')\n",
    "    plt.ylabel('Observed Values')\n",
    "    plt.title(f'Scatterplot of Predicted vs. Observed Values\\nF-statistic: {f_stat:.2f}, p-value: {p_value:.4f}')\n",
    "\n",
    "    # Set axis limits\n",
    "    plt.xlim(min_limit, max_limit)\n",
    "    plt.ylim(min_limit, max_limit)\n",
    "\n",
    "    # Show legend\n",
    "    plt.legend()\n",
    "    \n",
    "    if out_dir:\n",
    "        # Save the figure\n",
    "        plt.savefig(f\"{out_dir}/predicted_plot.png\", bbox_inches='tight')\n",
    "        plt.savefig(f\"{out_dir}/predicted_plot.svg\", bbox_inches='tight')\n",
    "        print(f'Saved to {out_dir}/predicted_plot.svg')\n",
    "\n",
    "    # Display the plot\n",
    "    plt.grid()\n",
    "    plt.show()\n",
    "\n",
    "def plot_residuals(target_outcome_matrix, predictions, f_stat, p_value, out_dir=None):\n",
    "    \"\"\"\n",
    "    Create a scatterplot of residuals with F-statistic and p-value in the title and save it.\n",
    "\n",
    "    Parameters:\n",
    "    - target_outcome_matrix (array-like): The actual observed outcomes.\n",
    "    - predictions (array-like): The outcomes predicted by the model.\n",
    "    - f_stat (float): The F-statistic value.\n",
    "    - p_value (float): The p-value.\n",
    "    - out_dir (str, optional): The directory to save the plot. If None, the plot won't be saved.\n",
    "\n",
    "    Returns:\n",
    "    - None (displays the plot)\n",
    "    \"\"\"\n",
    "    # Calculate residuals\n",
    "    residuals = target_outcome_matrix - predictions\n",
    "\n",
    "    # Create a scatterplot of residuals\n",
    "    plt.figure(figsize=(8, 6))\n",
    "    sns.scatterplot(x=predictions,\n",
    "                    y=residuals,\n",
    "                    label='Residuals vs. Predicted')\n",
    "\n",
    "    # Calculate y-axis limits\n",
    "    y_lim_min = min(-3, np.min(residuals) - 0.5)\n",
    "    y_lim_max = max(3, np.max(residuals) + 0.5)\n",
    "\n",
    "    # Set y-axis limits\n",
    "    plt.ylim(y_lim_min, y_lim_max)\n",
    "\n",
    "    # Add a horizontal line at y=0\n",
    "    plt.axhline(0, color='gray', linestyle='--', label='Zero Residual')\n",
    "\n",
    "    # Add labels and title with F-statistic and p-value\n",
    "    plt.xlabel('Predicted Values')\n",
    "    plt.ylabel('Residuals')\n",
    "    plt.title(f'Scatterplot of Residuals vs. Predicted Values\\nF-statistic: {f_stat:.2f}, p-value: {p_value:.4f}')\n",
    "\n",
    "    # Show legend\n",
    "    plt.legend()\n",
    "\n",
    "    if out_dir:\n",
    "        # Save the figure\n",
    "        plt.savefig(f\"{out_dir}/residuals_plot.png\", bbox_inches='tight')\n",
    "        plt.savefig(f\"{out_dir}/residuals_plot.svg\", bbox_inches='tight')\n",
    "        print(f'Saved to {out_dir}/residuals_plot.svg')\n",
    "\n",
    "    # Display the plot\n",
    "    plt.grid()\n",
    "    plt.show()\n",
    "\n",
    "# Example usage with saving:\n",
    "# plot_residuals(target_outcome_matrix.to_numpy().flatten(), predictions.to_numpy().flatten(), f_stat, p_value, out_dir=\"your_output_directory\")\n",
    "\n"
   ]
  },
  {
   "cell_type": "markdown",
   "metadata": {},
   "source": [
    "Residuals Plot"
   ]
  },
  {
   "cell_type": "code",
   "execution_count": null,
   "metadata": {},
   "outputs": [],
   "source": [
    "plot_residuals(target_outcome_matrix.to_numpy().flatten(), predictions.to_numpy().flatten(), f_stat, p_value, out_dir)"
   ]
  },
  {
   "cell_type": "code",
   "execution_count": null,
   "metadata": {},
   "outputs": [],
   "source": [
    "plot_scatter_with_f_stat_in_title(target_outcome_matrix.to_numpy().flatten(), predictions.to_numpy().flatten(), f_stat, p_value, out_dir)\n"
   ]
  },
  {
   "cell_type": "markdown",
   "metadata": {},
   "source": [
    "# 11 - Visualize an ANCOVA"
   ]
  },
  {
   "cell_type": "code",
   "execution_count": null,
   "metadata": {},
   "outputs": [],
   "source": [
    "import pandas as pd\n",
    "import seaborn as sns\n",
    "import matplotlib.pyplot as plt\n",
    "\n",
    "def predict_outcomes(model, data_df=design_matrix):\n",
    "    \"\"\"\n",
    "    Predicts the outcomes for each row in the data DataFrame based on the given model and formula.\n",
    "\n",
    "    Parameters:\n",
    "    - model: The fitted OLS model.\n",
    "    - data_df: DataFrame containing the data for prediction.\n",
    "\n",
    "    Returns:\n",
    "    - predictions: A DataFrame with predicted values for each row in the data_df.\n",
    "    \"\"\"\n",
    "    # Add a column for predictions to the data_df\n",
    "    \n",
    "    return model.predict(data_df)\n",
    "\n",
    "def calculate_average_predictions(data_df, predictions, group1_column, group2_column):\n",
    "    \"\"\"\n",
    "    Calculates average predictions for each combination of unique values in Group 1 and Group 2.\n",
    "\n",
    "    Parameters:\n",
    "    - data_df: DataFrame containing the 'Group 1' and 'Group 2' columns.\n",
    "    - predictions: Series containing the predicted values.\n",
    "    - group1_column: Name of the Group 1 column in data_df.\n",
    "    - group2_column: Name of the Group 2 column in data_df.\n",
    "\n",
    "    Returns:\n",
    "    - average_predictions_df: DataFrame with 'Group 1', 'Group 2', and 'Average Prediction' columns.\n",
    "    \"\"\"\n",
    "    # Create an empty DataFrame to store the results\n",
    "    average_predictions_df = pd.DataFrame(columns=['Group 1', 'Group 2', 'Average Prediction'])\n",
    "\n",
    "    # Get unique values in Group 1 and Group 2\n",
    "    unique_group1_values = data_df[group1_column].unique()\n",
    "    unique_group2_values = data_df[group2_column].unique()\n",
    "\n",
    "    # Loop through unique values of Group 1 and Group 2\n",
    "    for group1_value in unique_group1_values:\n",
    "        for group2_value in unique_group2_values:\n",
    "            # Filter predictions based on the indices where Group 1 and Group 2 match\n",
    "            filtered_predictions = predictions[(data_df[group1_column] == group1_value) & (data_df[group2_column] == group2_value)]\n",
    "\n",
    "            # Calculate the average prediction for this combination\n",
    "            average_prediction = filtered_predictions.mean()\n",
    "\n",
    "            # Add the result to the DataFrame\n",
    "            average_predictions_df = average_predictions_df.append({'Group 1': group1_value, 'Group 2': group2_value, 'Average Prediction': average_prediction}, ignore_index=True)\n",
    "\n",
    "    return average_predictions_df\n",
    "\n",
    "def plot_grouped_barplot(data_df, out_dir=out_dir):\n",
    "    \"\"\"\n",
    "    Plots a grouped barplot with 'Group 2' on the x-axis and 'Group 1' bars side-by-side.\n",
    "\n",
    "    Parameters:\n",
    "    - data_df: DataFrame containing the data for plotting.\n",
    "    \"\"\"\n",
    "    # Set the style for the plot\n",
    "    sns.set(style=\"whitegrid\")\n",
    "\n",
    "    # Create the barplot\n",
    "    plt.figure(figsize=(10, 6))\n",
    "    sns.barplot(x='Group 2', y='Average Prediction', hue='Group 1', data=data_df)\n",
    "\n",
    "    # Add labels and title\n",
    "    plt.xlabel('Group 2')\n",
    "    plt.ylabel('Average Prediction')\n",
    "    plt.title('Grouped Barplot of Average Predictions')\n",
    "\n",
    "    # Show the legend\n",
    "    plt.legend(title='Group 1', loc='upper right')\n",
    "    \n",
    "    # Save the figure\n",
    "    plt.savefig(f\"{out_dir}/estimated_marginal_mean.png\", bbox_inches='tight')\n",
    "    plt.savefig(f\"{out_dir}/estimated_marginal_mean.svg\", bbox_inches='tight')\n",
    "    print(f'Saved to {out_dir}/estimated_marginal_mean.svg')\n",
    "\n",
    "    # Show the plot\n",
    "    plt.show()\n",
    "    \n",
    "def calculate_average_actual(data_df, group1_column, group2_column, outcome_column):\n",
    "    \"\"\"\n",
    "    Calculates average actual outcomes for each combination of unique values in Group 1 and Group 2.\n",
    "\n",
    "    Parameters:\n",
    "    - data_df: DataFrame containing the data.\n",
    "    - group1_column: Name of the Group 1 column in data_df.\n",
    "    - group2_column: Name of the Group 2 column in data_df.\n",
    "    - outcome_column: Name of the column containing the actual outcomes.\n",
    "\n",
    "    Returns:\n",
    "    - average_actual_df: DataFrame with 'Group 1', 'Group 2', and 'Average Actual' columns.\n",
    "    \"\"\"\n",
    "    # Create an empty DataFrame to store the results\n",
    "    average_actual_df = pd.DataFrame(columns=['Group 1', 'Group 2', 'Average Actual'])\n",
    "\n",
    "    # Get unique values in Group 1 and Group 2\n",
    "    unique_group1_values = data_df[group1_column].unique()\n",
    "    unique_group2_values = data_df[group2_column].unique()\n",
    "\n",
    "    # Loop through unique values of Group 1 and Group 2\n",
    "    for group1_value in unique_group1_values:\n",
    "        for group2_value in unique_group2_values:\n",
    "            # Filter data based on the indices where Group 1 and Group 2 match\n",
    "            filtered_data = data_df[(data_df[group1_column] == group1_value) & (data_df[group2_column] == group2_value)]\n",
    "\n",
    "            # Calculate the average actual outcome for this combination\n",
    "            average_actual = filtered_data[outcome_column].mean()\n",
    "\n",
    "            # Add the result to the DataFrame\n",
    "            average_actual_df = average_actual_df.append({'Group 1': group1_value, 'Group 2': group2_value, 'Average Actual': average_actual}, ignore_index=True)\n",
    "\n",
    "    return average_actual_df\n",
    "\n",
    "\n",
    "def plot_grouped_barplot_actual(data_df, out_dir=out_dir):\n",
    "    \"\"\"\n",
    "    Plots a grouped barplot with 'Group 2' on the x-axis and 'Group 1' bars side-by-side for average actual outcomes.\n",
    "\n",
    "    Parameters:\n",
    "    - data_df: DataFrame containing the data for plotting.\n",
    "    \"\"\"\n",
    "    # Set the style for the plot\n",
    "    sns.set(style=\"whitegrid\")\n",
    "\n",
    "    # Create the barplot\n",
    "    plt.figure(figsize=(10, 6))\n",
    "    sns.barplot(x='Group 2', y='Average Actual', hue='Group 1', data=data_df)\n",
    "\n",
    "    # Add labels and title\n",
    "    plt.xlabel('Group 2')\n",
    "    plt.ylabel('Average Actual Outcome')\n",
    "    plt.title('Grouped Barplot of Average Actual Outcomes')\n",
    "\n",
    "    # Show the legend\n",
    "    plt.legend(title='Group 1', loc='upper right')\n",
    "\n",
    "    # Show the plot\n",
    "    plt.show()\n",
    "    \n",
    "    # Save the figure\n",
    "    out_dir = out_dir # Replace with your output directory\n",
    "    plt.savefig(f\"{out_dir}/actual_marginal_mean.png\", bbox_inches='tight')\n",
    "    plt.savefig(f\"{out_dir}/actual_marginal_mean.svg\", bbox_inches='tight')\n",
    "    print(f'Saved to {out_dir}/actual_marginal_mean.svg')"
   ]
  },
  {
   "cell_type": "code",
   "execution_count": null,
   "metadata": {},
   "outputs": [],
   "source": [
    "formula"
   ]
  },
  {
   "cell_type": "code",
   "execution_count": null,
   "metadata": {},
   "outputs": [],
   "source": [
    "group_1 = 'Subiculum_Group_By_Inflection_Point'\n",
    "group_2  ='Age_Disease_and_Cohort'"
   ]
  },
  {
   "cell_type": "code",
   "execution_count": null,
   "metadata": {},
   "outputs": [],
   "source": [
    "predictions = predict_outcomes(model=results, data_df=design_matrix)\n",
    "average_predictions_df = calculate_average_predictions(data_df, predictions, group_1, group_2)\n",
    "plot_grouped_barplot(average_predictions_df, out_dir=out_dir)"
   ]
  },
  {
   "cell_type": "markdown",
   "metadata": {},
   "source": [
    "Visualize the Actual Data"
   ]
  },
  {
   "cell_type": "code",
   "execution_count": null,
   "metadata": {},
   "outputs": [],
   "source": [
    "plot_grouped_barplot_actual(calculate_average_actual(data_df, group_1, group_2, outcome_matrix.columns[-1]),out_dir=out_dir)"
   ]
  },
  {
   "cell_type": "markdown",
   "metadata": {},
   "source": [
    "**Generalizable EMM Plot**\n",
    "- Set Labels below"
   ]
  },
  {
   "cell_type": "code",
   "execution_count": null,
   "metadata": {},
   "outputs": [],
   "source": [
    "x_label = 'X-axis Label'\n",
    "y_label = 'Y-axis Label'\n",
    "plus_2_stdev=False\n",
    "minus_2_stdev=False"
   ]
  },
  {
   "cell_type": "code",
   "execution_count": null,
   "metadata": {},
   "outputs": [],
   "source": [
    "from calvin_utils.statistical_utils.statistical_measurements import EMMPlot\n",
    "\n",
    "emm_plot = EMMPlot(formula, data_df, model=results)\n",
    "emm_plot.extract_unique_variables()\n",
    "emm_plot.create_emm_df(plus_2_stdev=plus_2_stdev, minus_2_stdev=minus_2_stdev)\n",
    "emm_plot.define_design_matrix()\n",
    "emm_plot.predict_emm_design_df()\n",
    "emm_plot.plot_predictions()#x_label, y_label)"
   ]
  },
  {
   "cell_type": "markdown",
   "metadata": {},
   "source": [
    "Profile Plot"
   ]
  },
  {
   "cell_type": "code",
   "execution_count": null,
   "metadata": {},
   "outputs": [],
   "source": [
    "from calvin_utils.statistical_utils.statistical_measurements import FactorialPlot\n",
    "factor_plot = FactorialPlot(formula, data_df, model=results)\n",
    "factor_plot.extract_unique_variables()\n",
    "factor_plot.create_emm_df()\n",
    "factor_plot.define_design_matrix()\n",
    "factor_plot.predict_emm_design_df()\n",
    "factor_plot.create_interaction_plot(factor_plot.emm_df.columns.to_list()[:-1])"
   ]
  },
  {
   "cell_type": "markdown",
   "metadata": {},
   "source": [
    "Interaction Plot"
   ]
  },
  {
   "cell_type": "markdown",
   "metadata": {},
   "source": [
    "Identify the column names used to generate the original formula. The order of the list determines how variables are categorized in the following interaction plot. \n",
    "\n",
    "- list_of_categories = ['Subiculum_Group_By_Inflection', 'City', 'Age_Group']"
   ]
  },
  {
   "cell_type": "code",
   "execution_count": null,
   "metadata": {},
   "outputs": [],
   "source": [
    "formula"
   ]
  },
  {
   "cell_type": "code",
   "execution_count": null,
   "metadata": {},
   "outputs": [],
   "source": [
    "list_of_categories = ['Subiculum_Group_By_Inflection_Point', 'City', 'Age_Group']"
   ]
  },
  {
   "cell_type": "code",
   "execution_count": null,
   "metadata": {},
   "outputs": [],
   "source": [
    "from calvin_utils.statistical_utils.statistical_measurements import FlexibleInteractionPlot\n",
    "\n",
    "interaction_plot = FlexibleInteractionPlot(formula, data_df, model=results)\n",
    "interaction_plot.extract_unique_variables()\n",
    "interaction_plot.create_emm_df()\n",
    "interaction_plot.define_design_matrix()\n",
    "interaction_plot.predict_emm_design_df()\n",
    "interaction_plot.create_interaction_plot_dynamic(interaction_plot.emm_df.dropna(), list_of_categories, out_dir=out_dir)"
   ]
  },
  {
   "cell_type": "markdown",
   "metadata": {},
   "source": [
    "Edit DataFrame Contents for Plotting Purposes\n",
    "- After changing the contents of a category, you can create the above plot again. "
   ]
  },
  {
   "cell_type": "code",
   "execution_count": null,
   "metadata": {},
   "outputs": [],
   "source": [
    "import numpy as np\n",
    "\n",
    "data_df['City'] = np.where(data_df['City'] == 'Toronto', 'Alzheimer Toronto (N=46)', data_df['City'])\n",
    "data_df['City'] = np.where(data_df['City'] == 'Wurzburg', 'Parkinson Wurzburg (N=26)', data_df['City'])\n",
    "data_df['City'] = np.where(data_df['City'] == 'Parkinson Wurzburg (N=17)', 'Parkinson Boston (N=17)', data_df['City'])\n",
    "data_df['City'] = np.where(data_df['City'] == 'Queensland', 'Parkinson Queensland (N=59)', data_df['City'])"
   ]
  },
  {
   "cell_type": "markdown",
   "metadata": {},
   "source": [
    "# 12 - Get Zero Points of Each Coefficient"
   ]
  },
  {
   "cell_type": "markdown",
   "metadata": {},
   "source": [
    "The zero point is the point where the coefficient cross zero.\n",
    "When the response topology has a saddle point, the zero point indicates where the saddle is. \n",
    "Technically, the linear regression's formula does not have a saddle point. \n",
    "However, if you rotate the response topology which exhibits a saddle point by 45 degrees, you will observe a saddle point in orientation with the Cartesian plane. "
   ]
  },
  {
   "cell_type": "code",
   "execution_count": null,
   "metadata": {},
   "outputs": [],
   "source": [
    "from calvin_utils.statistical_utils.calculus_utils import find_zero_point_of_coefficients\n",
    "find_zero_point_of_coefficients(results)"
   ]
  },
  {
   "cell_type": "markdown",
   "metadata": {},
   "source": [
    "# 13 - Compare 2 Different Sets of Regressors"
   ]
  },
  {
   "cell_type": "code",
   "execution_count": null,
   "metadata": {},
   "outputs": [],
   "source": [
    "data_df.columns"
   ]
  },
  {
   "cell_type": "code",
   "execution_count": null,
   "metadata": {},
   "outputs": [],
   "source": [
    "formula"
   ]
  },
  {
   "cell_type": "markdown",
   "metadata": {},
   "source": [
    "For Nested Models"
   ]
  },
  {
   "cell_type": "code",
   "execution_count": null,
   "metadata": {},
   "outputs": [],
   "source": [
    "from statsmodels.stats.api import anova_lm\n",
    "import statsmodels.formula.api as smf\n",
    "\n",
    "smaller_formula = 'TOTALMOD ~ Frontal_CSFCT + Parietal_CSFCT + Temp_Ins_CSFCT + Occipital_CSF_CT'\n",
    "\n",
    "larger_formula = 'TOTALMOD ~  FrontalCSF + OccipitalCSF + ParietalCSF + temp_ins_csf'\n",
    "\n",
    "#----------------------------------------------------------------DO NOT TOUCH!----------------------------------------------------------------\n",
    "table1 = anova_lm(smf.ols(smaller_formula, data=data_df).fit(), smf.ols(larger_formula, data=data_df).fit())\n",
    "print(table1)"
   ]
  },
  {
   "cell_type": "markdown",
   "metadata": {},
   "source": [
    "For Un-nested Models\n",
    "- Need to employ permutation because there is no existing method. "
   ]
  },
  {
   "cell_type": "code",
   "execution_count": 50,
   "metadata": {},
   "outputs": [],
   "source": [
    "formula1 = 'TOTALMOD ~  OccipitalComp + FrontalComp + ParietalComp + ins_temp_comp'\n",
    "\n",
    "formula2 = 'TOTALMOD ~  Frontal_CSFWM + Occipital_CSFWM + Parietal_CSFWM + temp_ins_CSFWM'\n"
   ]
  },
  {
   "cell_type": "code",
   "execution_count": null,
   "metadata": {},
   "outputs": [],
   "source": [
    "import numpy as np\n",
    "from tqdm import tqdm\n",
    "import statsmodels.formula.api as smf\n",
    "\n",
    "# Original R^2 values from the models\n",
    "r2_model1 = smf.ols(formula1, data=data_df).fit().rsquared\n",
    "r2_model2 = smf.ols(formula2, data=data_df).fit().rsquared\n",
    "\n",
    "# Difference in R^2 of original models\n",
    "original_diff = r2_model1 - r2_model2\n",
    "\n",
    "# Number of permutations\n",
    "n_permutations = 1000\n",
    "\n",
    "# Store differences from permutations\n",
    "perm_diffs = []\n",
    "\n",
    "for i in tqdm(range(n_permutations)):\n",
    "    # Permute the outcome variable\n",
    "    data_df_permuted = data_df.copy()\n",
    "    data_df_permuted['TOTALMOD'] = np.random.permutation(data_df_permuted['TOTALMOD'].values)\n",
    "    \n",
    "    # Fit the models to the permuted dataset and calculate R^2\n",
    "    perm_model1 = smf.ols(formula1, data=data_df_permuted).fit()\n",
    "    perm_model2 = smf.ols(formula2, data=data_df_permuted).fit()\n",
    "    \n",
    "    # Difference in R^2 for the permuted models\n",
    "    perm_diff = perm_model1.rsquared - perm_model2.rsquared\n",
    "    \n",
    "    # Store the difference\n",
    "    perm_diffs.append(perm_diff)\n",
    "\n",
    "# Calculate the p-value as the proportion of permuted differences\n",
    "# that are greater than or equal to the observed difference\n",
    "p_value = np.mean([abs(diff) >= abs(original_diff) for diff in perm_diffs])\n",
    "\n",
    "print(f\"Original R^2 Difference: {original_diff}\")\n",
    "print(f\"P-value from permutation test: {p_value}\")\n"
   ]
  },
  {
   "cell_type": "markdown",
   "metadata": {},
   "source": [
    "\n",
    "# Generate Comparison of Regressions"
   ]
  },
  {
   "cell_type": "markdown",
   "metadata": {},
   "source": [
    "Create Barplot"
   ]
  },
  {
   "cell_type": "code",
   "execution_count": null,
   "metadata": {},
   "outputs": [],
   "source": [
    "import pandas as pd\n",
    "import seaborn as sns\n",
    "import matplotlib.pyplot as plt\n",
    "\n",
    "# Create a DataFrame with the data\n",
    "data = {\n",
    "    'Imaging Method': ['1', '2', '3', '4', '5', '6', '7', '8', '9', '10', '11', '12', '14'],\n",
    "    'R-squared': [0.187, 0.535, 0.097, 0.163, 0.058, .039, .475, .627, 0.108, 0.146,  0.391, 0.156, 0.148]\n",
    "}\n",
    "df = pd.DataFrame(data)\n",
    "\n",
    "# Create the bar plot\n",
    "plt.figure(figsize=(10, 6))\n",
    "sns.set_palette(\"tab10\")\n",
    "sns.barplot(x='R-squared', y='Imaging Method', data=df)\n",
    "\n",
    "# Customizing the plot\n",
    "plt.xlim(0, 1)\n",
    "plt.title('R-squared Values of Questio by Surface Method')\n",
    "plt.xlabel('R-squared')\n",
    "plt.ylabel('ADAS-Cog Question')\n",
    "\n",
    "# Show the plot\n",
    "plt.show()\n"
   ]
  },
  {
   "cell_type": "markdown",
   "metadata": {},
   "source": [
    "Create Barplot Of Methods Within Groups\n",
    "- The groups to compare within are the top level keys of the dictionary. \n",
    "- The groups to compare across are the second-level keys"
   ]
  },
  {
   "cell_type": "markdown",
   "metadata": {},
   "source": [
    "Create Barplot Of Methods Within Groups\n",
    "- The groups to compare within are the top level keys of the dictionary. \n",
    "- The groups to compare across are the second-level keys"
   ]
  },
  {
   "cell_type": "code",
   "execution_count": null,
   "metadata": {},
   "outputs": [],
   "source": [
    "data = {\n",
    "    'Question 1': {'CSF': 0.126, 'Surface': 0.187, 'GM': 0.161},\n",
    "    'Question 2': {'CSF': 0.547, 'Surface': 0.535, 'GM': 0.075},\n",
    "    'Question 3': {'CSF': 0.297, 'Surface': 0.097, 'GM': 0.451},\n",
    "    'Question 4': {'CSF': 0.268, 'Surface': 0.163, 'GM': 0.260},\n",
    "    'Question 5': {'CSF': 0.120, 'Surface': 0.058, 'GM': 0.351},\n",
    "    'Question 6': {'CSF': 0.433, 'Surface': 0.039, 'GM': 0.140},\n",
    "    'Question 7': {'CSF': 0.840, 'Surface': 0.475, 'GM': 0.383},\n",
    "    'Question 8': {'CSF': 0.540, 'Surface': 0.627, 'GM': 0.349},\n",
    "    'Question 9': {'CSF': 0.190, 'Surface': 0.108, 'GM': 0.377},\n",
    "    'Question 10': {'CSF': 0.151, 'Surface': 0.146, 'GM': 0.475},\n",
    "    'Question 11': {'CSF': 0.596, 'Surface': 0.391, 'GM': 0.407},\n",
    "    'Question 12': {'CSF': 0.151, 'Surface': 0.156, 'GM': 0.475},\n",
    "    'Question 14': {'CSF': 0.479, 'Surface': 0.148, 'GM': 0.191},\n",
    "}"
   ]
  },
  {
   "cell_type": "code",
   "execution_count": null,
   "metadata": {},
   "outputs": [],
   "source": [
    "import pandas as pd\n",
    "import seaborn as sns\n",
    "import matplotlib.pyplot as plt\n",
    "\n",
    "# # Flattening the nested dictionary and creating a DataFrame\n",
    "# flat_data = [(question, method, score) for question, methods in data.items() for method, score in methods.items()]\n",
    "# df = pd.DataFrame(flat_data, columns=['Question', 'Imaging Method', 'R-squared'])\n",
    "\n",
    "# # Create the bar plot\n",
    "# plt.figure(figsize=(12, 6))\n",
    "# sns.set_palette(\"tab10\")\n",
    "# sns.barplot(x='Question', y='R-squared', hue='Imaging Method', data=df)\n",
    "\n",
    "# # Customizing the plot\n",
    "# plt.ylim(0, 1)\n",
    "# plt.title('R-squared Values by Question and Imaging Method')\n",
    "# plt.xlabel('Question')\n",
    "# plt.ylabel('R-squared')\n",
    "\n",
    "# # Show the plot\n",
    "# plt.show()\n",
    "\n",
    "# Flattening the nested dictionary and creating a DataFrame\n",
    "flat_data = [(question, method, score) for question, methods in data.items() for method, score in methods.items()]\n",
    "df = pd.DataFrame(flat_data, columns=['Question', 'Imaging Method', 'R-squared'])\n",
    "\n",
    "# Create the bar plot\n",
    "plt.figure(figsize=(12, 6))\n",
    "sns.set_palette(\"tab10\")\n",
    "sns.barplot(x='R-squared', y='Question', hue='Imaging Method', data=df)\n",
    "\n",
    "# Customizing the plot\n",
    "plt.xlim(0, 1)\n",
    "plt.title('R-squared Values by Question and Imaging Method')\n",
    "plt.ylabel('Question')\n",
    "plt.xlabel('R-squared')\n",
    "\n",
    "# Show the plot\n",
    "plt.show()"
   ]
  },
  {
   "cell_type": "code",
   "execution_count": null,
   "metadata": {},
   "outputs": [],
   "source": [
    "print(data.values())"
   ]
  },
  {
   "cell_type": "code",
   "execution_count": null,
   "metadata": {},
   "outputs": [],
   "source": [
    "df_2=pd.DataFrame(data)\n",
    "df_2"
   ]
  },
  {
   "cell_type": "code",
   "execution_count": null,
   "metadata": {},
   "outputs": [],
   "source": [
    "import numpy as np\n",
    "print(np.average(df_2.iloc[0, :]), \n",
    "np.std(df_2.iloc[0, :]),\n",
    "\n",
    "\n",
    "np.average(df_2.iloc[1, :]),\n",
    "np.std(df_2.iloc[1, :]),\n",
    "\n",
    "np.average(df_2.iloc[2, :]),\n",
    "np.std(df_2.iloc[2, :]))"
   ]
  },
  {
   "cell_type": "markdown",
   "metadata": {},
   "source": [
    "Manual"
   ]
  },
  {
   "cell_type": "code",
   "execution_count": 46,
   "metadata": {},
   "outputs": [],
   "source": [
    "formula\n",
    "data_df['Cognitive_Baseline'] = data_df['Cognitive_Baseline'].astype(float)\n"
   ]
  },
  {
   "cell_type": "code",
   "execution_count": null,
   "metadata": {},
   "outputs": [],
   "source": [
    "import statsmodels.formula.api as smf\n",
    "\n",
    "# Assuming 'formula' is a string like 'y ~ x1 + x2' and data_df is your DataFrame\n",
    "result = smf.ols(formula=formula, data=data_df).fit()\n",
    "\n",
    "# To view the regression results summary\n",
    "print(result.summary2())\n"
   ]
  },
  {
   "cell_type": "markdown",
   "metadata": {},
   "source": [
    "Enjoy.\n",
    "\n",
    "-- Calvin"
   ]
  },
  {
   "cell_type": "markdown",
   "metadata": {},
   "source": []
  }
 ],
 "metadata": {
  "kernelspec": {
   "display_name": "nimlab_py310",
   "language": "python",
   "name": "python3"
  },
  "language_info": {
   "codemirror_mode": {
    "name": "ipython",
    "version": 3
   },
   "file_extension": ".py",
   "mimetype": "text/x-python",
   "name": "python",
   "nbconvert_exporter": "python",
   "pygments_lexer": "ipython3",
   "version": "3.10.8"
  }
 },
 "nbformat": 4,
 "nbformat_minor": 4
}
