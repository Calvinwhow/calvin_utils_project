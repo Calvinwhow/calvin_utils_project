{
 "cells": [
  {
   "cell_type": "markdown",
   "id": "dd90740f",
   "metadata": {},
   "source": [
    "# Make Dynamite Plot"
   ]
  },
  {
   "cell_type": "code",
   "execution_count": null,
   "id": "5e6e45d8",
   "metadata": {},
   "outputs": [],
   "source": [
    "# Specify the path to your CSV file containing NIFTI paths\n",
    "input_csv_path = '/Users/cu135/Partners HealthCare Dropbox/Calvin Howard/resources/datasets/TMS-DBS_studies_alzheimers/metadata/secondary_list.csv'\n",
    "sheet = None #'master_list_proper_subjects' ?"
   ]
  },
  {
   "cell_type": "code",
   "execution_count": null,
   "id": "bf5bb6ff",
   "metadata": {},
   "outputs": [],
   "source": [
    "from calvin_utils.permutation_analysis_utils.statsmodels_palm import CalvinStatsmodelsPalm\n",
    "# Instantiate the PalmPrepararation class\n",
    "cal_palm = CalvinStatsmodelsPalm(input_csv_path=input_csv_path, output_dir=None, sheet=sheet)\n",
    "# Call the process_nifti_paths method\n",
    "data_df = cal_palm.read_and_display_data()\n",
    "data_df"
   ]
  },
  {
   "cell_type": "markdown",
   "id": "0ccebbff",
   "metadata": {},
   "source": [
    "\n",
    "# 01 - Preprocess Your Data"
   ]
  },
  {
   "cell_type": "markdown",
   "id": "477ade9e",
   "metadata": {},
   "source": [
    "**Handle NANs**\n",
    "- Set drop_nans=True is you would like to remove NaNs from data\n",
    "- Provide a column name or a list of column names to remove NaNs from"
   ]
  },
  {
   "cell_type": "code",
   "execution_count": null,
   "id": "bfb7c36c",
   "metadata": {},
   "outputs": [],
   "source": [
    "len(data_df['study'].unique())"
   ]
  },
  {
   "cell_type": "code",
   "execution_count": null,
   "id": "7b65e177",
   "metadata": {},
   "outputs": [],
   "source": [
    "data_df.columns"
   ]
  },
  {
   "cell_type": "code",
   "execution_count": null,
   "id": "e8614b62",
   "metadata": {},
   "outputs": [],
   "source": [
    "drop_list = ['all_flipped_all_datasets_weighted_r_map_pcc_inverse_r_map_average_target_in_subject', 'Overall_Cognition_Cohen_s_D']"
   ]
  },
  {
   "cell_type": "code",
   "execution_count": null,
   "id": "f26d2eb5",
   "metadata": {},
   "outputs": [],
   "source": [
    "data_df = cal_palm.drop_nans_from_columns(columns_to_drop_from=drop_list)\n",
    "data_df"
   ]
  },
  {
   "cell_type": "markdown",
   "id": "caa0b461",
   "metadata": {},
   "source": [
    "**Drop Row Based on Value of Column**\n",
    "\n",
    "Define the column, condition, and value for dropping rows\n",
    "- column = 'your_column_name'\n",
    "- condition = 'above'  # Options: 'equal', 'above', 'below'"
   ]
  },
  {
   "cell_type": "markdown",
   "id": "a7835fa3",
   "metadata": {},
   "source": [
    "Set the parameters for dropping rows"
   ]
  },
  {
   "cell_type": "code",
   "execution_count": null,
   "id": "d3d9f0fa",
   "metadata": {},
   "outputs": [],
   "source": [
    "data_df.columns"
   ]
  },
  {
   "cell_type": "code",
   "execution_count": null,
   "id": "8b5e218a",
   "metadata": {},
   "outputs": [],
   "source": [
    "data_df.Disease.unique()"
   ]
  },
  {
   "cell_type": "code",
   "execution_count": null,
   "id": "4e064e1b",
   "metadata": {},
   "outputs": [],
   "source": [
    "column = 'Memory_Specific'  # The column you'd like to evaluate\n",
    "condition = 'equal'  # Thecondition to check ('equal', 'above', 'below', 'not')\n",
    "value = 0 # The value to compare against"
   ]
  },
  {
   "cell_type": "code",
   "execution_count": null,
   "id": "495ea246",
   "metadata": {},
   "outputs": [],
   "source": [
    "data_df, other_df = cal_palm.drop_rows_based_on_value(column, condition, value)\n",
    "data_df"
   ]
  },
  {
   "cell_type": "code",
   "execution_count": null,
   "id": "a19d6ce0",
   "metadata": {},
   "outputs": [],
   "source": [
    "data_df_sorted = data_df.sort_values(by='Location')\n",
    "data_df_sorted"
   ]
  },
  {
   "cell_type": "markdown",
   "id": "3bf3b36a",
   "metadata": {},
   "source": [
    "Regress out Covariates"
   ]
  },
  {
   "cell_type": "code",
   "execution_count": null,
   "id": "6c6ae249",
   "metadata": {},
   "outputs": [],
   "source": [
    "data_df.columns"
   ]
  },
  {
   "cell_type": "code",
   "execution_count": null,
   "id": "df4123e7",
   "metadata": {},
   "outputs": [],
   "source": [
    "dependent_variable_list = ['Pre_Post_Memory_Effect_Size__Cohen_s_D_']\n",
    "regressors = ['Disease', 'Years_Between_Measurements', 'Mean_Age', 'Closed_Loop']"
   ]
  },
  {
   "cell_type": "code",
   "execution_count": null,
   "id": "5a58e6f6",
   "metadata": {},
   "outputs": [],
   "source": [
    "#Impute covariates in if desired\n",
    "for col in regressors:\n",
    "    if data_df[col].dtype == 'O':  # object/categorical\n",
    "        data_df[col] = data_df[col].fillna(data_df[col].mode()[0])\n",
    "    else:  # numeric\n",
    "        data_df[col] = data_df[col].fillna(data_df[col].mean())\n",
    "data_df[regressors].isna().sum()"
   ]
  },
  {
   "cell_type": "code",
   "execution_count": null,
   "id": "000c4be5",
   "metadata": {},
   "outputs": [],
   "source": [
    "from calvin_utils.statistical_utils.regression_utils import RegressOutCovariates\n",
    "data_df, adjusted_dep_vars_list = RegressOutCovariates.run(df=data_df, dependent_variable_list=dependent_variable_list, covariates_list=regressors)\n",
    "print(adjusted_dep_vars_list)"
   ]
  },
  {
   "cell_type": "markdown",
   "id": "17019cd2",
   "metadata": {},
   "source": [
    "**Standardize Data**\n",
    "- Enter Columns you Don't want to standardize into a list"
   ]
  },
  {
   "cell_type": "code",
   "execution_count": null,
   "id": "a29cb413",
   "metadata": {},
   "outputs": [],
   "source": [
    "data_df.columns"
   ]
  },
  {
   "cell_type": "code",
   "execution_count": null,
   "id": "23739a88",
   "metadata": {},
   "outputs": [],
   "source": [
    "# Remove anything you don't want to standardize\n",
    "cols_not_to_standardize = ['TOTAL11']"
   ]
  },
  {
   "cell_type": "code",
   "execution_count": null,
   "id": "70b33011",
   "metadata": {},
   "outputs": [],
   "source": [
    "# data_df = cal_palm.standardize_columns(cols_not_to_standardize)"
   ]
  },
  {
   "cell_type": "markdown",
   "id": "eb116009",
   "metadata": {},
   "source": [
    "Do Miscellaneous Data Cleaning"
   ]
  },
  {
   "cell_type": "code",
   "execution_count": null,
   "id": "ffc7ad7b",
   "metadata": {},
   "outputs": [],
   "source": [
    "# data_df = data_df[(data_df['Pre_Post_Memory_Effect_Size__Cohen_s_D_'] >= -1) & (data_df['Pre_Post_Memory_Effect_Size__Cohen_s_D_'] <= 1)]"
   ]
  },
  {
   "cell_type": "code",
   "execution_count": null,
   "id": "af343b1c",
   "metadata": {},
   "outputs": [],
   "source": [
    "data_df.columns"
   ]
  },
  {
   "cell_type": "code",
   "execution_count": 4,
   "id": "9d7ec5e9",
   "metadata": {},
   "outputs": [
    {
     "data": {
      "text/plain": [
       "0     0\n",
       "1     1\n",
       "2     1\n",
       "3     1\n",
       "4     1\n",
       "5     1\n",
       "6     0\n",
       "7     1\n",
       "8     1\n",
       "9     0\n",
       "10    1\n",
       "11    1\n",
       "12    1\n",
       "13    1\n",
       "14    1\n",
       "15    0\n",
       "16    1\n",
       "17    1\n",
       "Name: spcorr_sign, dtype: int64"
      ]
     },
     "execution_count": 4,
     "metadata": {},
     "output_type": "execute_result"
    }
   ],
   "source": [
    "import numpy as np\n",
    "data_df['spcorr_sign'] = np.where(data_df['all_flipped_all_datasets_weighted_r_map_pcc_inverse_r_map_average_target_in_subject'] > 0, 1, 0)\n",
    "data_df['spcorr_sign']"
   ]
  },
  {
   "cell_type": "markdown",
   "id": "74aa3870",
   "metadata": {},
   "source": [
    "# Generate the Plot"
   ]
  },
  {
   "cell_type": "code",
   "execution_count": 5,
   "id": "c8ce6868",
   "metadata": {},
   "outputs": [
    {
     "data": {
      "text/plain": [
       "Index(['Study', 'DOI', 'RCT_Design', 'Age_range', 'CDR', 'Active_N', 'Sham_N',\n",
       "       'Mean_Age', 'Active_Age', 'Shame_Age', 'Active_M_F', 'Sham_M_F',\n",
       "       'Active_Education__Yrs_', 'Sham_Education__Yrs_', 'Active_AD_Treatment',\n",
       "       'Diagnosis', 'Diagnostic_Criteria', 'Stim_Type', 'Frequency',\n",
       "       'Intensity', 'Navigation', 'Total_Pulses_session', 'session',\n",
       "       'Total_pulses', 'Overall_Cognition_Test', 'Overall_Cognition_Cohen_s_D',\n",
       "       'Verbal_Memory_Test', 'Verbal_Memory_Cohen_s_D', 'Stimulation_site',\n",
       "       'Stim_Coordinate', 'Included', 'Exclusion_Reason', 'Subject',\n",
       "       'roi_path',\n",
       "       'all_flipped_all_datasets_weighted_r_map_pcc_inverse_r_map_spatial_corr',\n",
       "       'all_flipped_all_datasets_weighted_r_map_pcc_inverse_r_map_cosine',\n",
       "       'all_flipped_all_datasets_weighted_r_map_pcc_inverse_r_map_sum',\n",
       "       'all_flipped_all_datasets_weighted_r_map_pcc_inverse_r_map_average_subject_in_target',\n",
       "       'all_flipped_all_datasets_weighted_r_map_pcc_inverse_r_map_average_target_in_subject',\n",
       "       'all_flipped_all_datasets_weighted_r_map_pcc_inverse_r_map_num_in_roi',\n",
       "       'spcorr_sign'],\n",
       "      dtype='object')"
      ]
     },
     "execution_count": 5,
     "metadata": {},
     "output_type": "execute_result"
    }
   ],
   "source": [
    "data_df.columns"
   ]
  },
  {
   "cell_type": "code",
   "execution_count": 6,
   "id": "59ccfe1b",
   "metadata": {},
   "outputs": [],
   "source": [
    "x_col = 'spcorr_sign'\n",
    "y_col = 'Overall_Cognition_Cohen_s_D'"
   ]
  },
  {
   "cell_type": "code",
   "execution_count": 7,
   "id": "14ca0f2f",
   "metadata": {},
   "outputs": [],
   "source": [
    "out_dir = '/Users/cu135/Library/CloudStorage/OneDrive-Personal/OneDrive_Documents/Academia/Research/2023/ccm_memory/Figures/explaining_prior_targets_alzheimer'"
   ]
  },
  {
   "cell_type": "code",
   "execution_count": 8,
   "id": "abac617d",
   "metadata": {},
   "outputs": [
    {
     "data": {
      "image/png": "[encoded data removed]",
      "text/plain": [
       "<Figure size 432x432 with 1 Axes>"
      ]
     },
     "metadata": {
      "needs_background": "light"
     },
     "output_type": "display_data"
    }
   ],
   "source": [
    "from calvin_utils.statistical_utils.dynamite_plot import DynamitePlotter\n",
    "plotter = DynamitePlotter()\n",
    "plotter.plot(\n",
    "    df=data_df,\n",
    "    xlabel=\"Spatial Correlation Sign\",\n",
    "    ylabel=\"Cohen's D\",\n",
    "    group_col=x_col,\n",
    "    y_col=y_col,\n",
    "    dataset_name='Mean Spatial Correlation by Memory Effect',\n",
    "    out_dir=out_dir\n",
    ")"
   ]
  }
 ],
 "metadata": {
  "kernelspec": {
   "display_name": "Python_3.7.7_nimlab",
   "language": "python",
   "name": "python3"
  },
  "language_info": {
   "codemirror_mode": {
    "name": "ipython",
    "version": 3
   },
   "file_extension": ".py",
   "mimetype": "text/x-python",
   "name": "python",
   "nbconvert_exporter": "python",
   "pygments_lexer": "ipython3",
   "version": "3.11.12"
  }
 },
 "nbformat": 4,
 "nbformat_minor": 5
}
