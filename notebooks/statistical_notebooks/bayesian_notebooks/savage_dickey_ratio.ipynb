{
 "cells": [
  {
   "cell_type": "markdown",
   "metadata": {},
   "source": [
    "Savage Dickey Density Ratio (Bayes Factor)"
   ]
  },
  {
   "cell_type": "code",
   "execution_count": null,
   "metadata": {},
   "outputs": [],
   "source": [
    "import numpy as np\n",
    "import pymc as pm\n",
    "import arviz as az\n",
    "\n",
    "# Assuming 'data' is your observed distribution of differences between bootstrapped correlations\n",
    "data = np.array([...])  # Replace with your actual data\n",
    "\n",
    "# Define the Bayesian model\n",
    "with pm.Model() as model:\n",
    "    # Prior for the mean difference (mu)\n",
    "    mu = pm.Uniform('mu', lower=-1, upper=1)  # Flat prior over a reasonable range\n",
    "\n",
    "    # Prior for the standard deviation (sigma)\n",
    "    sigma = pm.HalfNormal('sigma', sigma=1)  # Half-normal prior for sigma\n",
    "\n",
    "    # Likelihood (observed data)\n",
    "    y = pm.Normal('y', mu=mu, sigma=sigma, observed=data)\n",
    "    \n",
    "    # Sample from the posterior\n",
    "    idata = pm.sample(1000, return_inferencedata=True)\n",
    "\n",
    "# Compute and plot the Bayes Factor\n",
    "prior_samples = np.random.uniform(-1, 1, 10000)\n",
    "az.plot_bf(idata, var_names=['mu'], prior=prior_samples, ref_val=0.0)\n"
   ]
  },
  {
   "cell_type": "code",
   "execution_count": null,
   "metadata": {},
   "outputs": [],
   "source": []
  }
 ],
 "metadata": {
  "kernelspec": {
   "display_name": "bayesian_stats_env",
   "language": "python",
   "name": "python3"
  },
  "language_info": {
   "codemirror_mode": {
    "name": "ipython",
    "version": 3
   },
   "file_extension": ".py",
   "mimetype": "text/x-python",
   "name": "python",
   "nbconvert_exporter": "python",
   "pygments_lexer": "ipython3",
   "version": "3.12.3"
  }
 },
 "nbformat": 4,
 "nbformat_minor": 2
}
