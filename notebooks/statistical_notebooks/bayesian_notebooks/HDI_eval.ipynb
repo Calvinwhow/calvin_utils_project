{
 "cells": [
  {
   "cell_type": "markdown",
   "metadata": {},
   "source": [
    "F2 test of similarity of correlation coefficients"
   ]
  },
  {
   "cell_type": "code",
   "execution_count": 1,
   "metadata": {},
   "outputs": [
    {
     "name": "stderr",
     "output_type": "stream",
     "text": [
      "WARNING (pytensor.tensor.blas): Using NumPy C-API based implementation for BLAS functions.\n",
      "Matplotlib is building the font cache; this may take a moment.\n"
     ]
    }
   ],
   "source": [
    "import numpy as np\n",
    "import pymc as pm\n",
    "import arviz as az\n",
    "\n",
    "def bayesian_f2_test(r1, n1, r2, n2, num_samples=1000):\n",
    "    \"\"\"\n",
    "    Perform a Bayesian f^2 test to determine if two correlations are more similar than expected by chance.\n",
    "\n",
    "    Parameters:\n",
    "    r1 (float): Correlation coefficient of the first sample.\n",
    "    n1 (int): Sample size of the first sample.\n",
    "    r2 (float): Correlation coefficient of the second sample.\n",
    "    n2 (int): Sample size of the second sample.\n",
    "    num_samples (int): Number of posterior samples to draw.\n",
    "\n",
    "    Returns:\n",
    "    az.InferenceData: The posterior inference data.\n",
    "    \"\"\"\n",
    "    \n",
    "    # Fisher Z-transform\n",
    "    Z1 = 0.5 * np.log((1 + r1) / (1 - r1))\n",
    "    Z2 = 0.5 * np.log((1 + r2) / (1 - r2))\n",
    "\n",
    "    # Calculate the variances of the Fisher Z-transformed correlations\n",
    "    var_z1 = 1 / (n1 - 3)\n",
    "    var_z2 = 1 / (n2 - 3)\n",
    "\n",
    "    # Combined variance of the difference\n",
    "    var_diff = var_z1 + var_z2\n",
    "    sigma_diff = np.sqrt(var_diff)\n",
    "    \n",
    "    # Observed difference in Z-scores\n",
    "    Z_diff = Z1 - Z2\n",
    "\n",
    "    # Bayesian Model\n",
    "    with pm.Model() as model:\n",
    "        # Prior for delta (the difference in Z-scores)\n",
    "        delta = pm.Normal('delta', mu=0, sigma=1)\n",
    "        \n",
    "        # Likelihood\n",
    "        likelihood = pm.Normal('likelihood', mu=delta, sigma=sigma_diff, observed=Z_diff)\n",
    "        \n",
    "        # Posterior Inference\n",
    "        trace = pm.sample(num_samples, return_inferencedata=True)\n",
    "\n",
    "    return trace"
   ]
  },
  {
   "cell_type": "code",
   "execution_count": 8,
   "metadata": {},
   "outputs": [
    {
     "name": "stderr",
     "output_type": "stream",
     "text": [
      "Auto-assigning NUTS sampler...\n",
      "Initializing NUTS using jitter+adapt_diag...\n",
      "Multiprocess sampling (4 chains in 4 jobs)\n",
      "NUTS: [delta]\n"
     ]
    },
    {
     "data": {
      "text/html": [
       "<pre style=\"white-space:pre;overflow-x:auto;line-height:normal;font-family:Menlo,'DejaVu Sans Mono',consolas,'Courier New',monospace\">/Users/cu135/bayesian_stats_env/lib/python3.12/site-packages/rich/live.py:231: UserWarning: install \"ipywidgets\" \n",
       "for Jupyter support\n",
       "  warnings.warn('install \"ipywidgets\" for Jupyter support')\n",
       "</pre>\n"
      ],
      "text/plain": [
       "/Users/cu135/bayesian_stats_env/lib/python3.12/site-packages/rich/live.py:231: UserWarning: install \"ipywidgets\" \n",
       "for Jupyter support\n",
       "  warnings.warn('install \"ipywidgets\" for Jupyter support')\n"
      ]
     },
     "metadata": {},
     "output_type": "display_data"
    },
    {
     "data": {
      "text/html": [
       "<pre style=\"white-space:pre;overflow-x:auto;line-height:normal;font-family:Menlo,'DejaVu Sans Mono',consolas,'Courier New',monospace\"></pre>\n"
      ],
      "text/plain": []
     },
     "metadata": {},
     "output_type": "display_data"
    },
    {
     "data": {
      "text/html": [
       "<pre style=\"white-space:pre;overflow-x:auto;line-height:normal;font-family:Menlo,'DejaVu Sans Mono',consolas,'Courier New',monospace\">\n",
       "</pre>\n"
      ],
      "text/plain": [
       "\n"
      ]
     },
     "metadata": {},
     "output_type": "display_data"
    },
    {
     "name": "stderr",
     "output_type": "stream",
     "text": [
      "Sampling 4 chains for 1_000 tune and 1_000 draw iterations (4_000 + 4_000 draws total) took 1 seconds.\n"
     ]
    },
    {
     "data": {
      "text/plain": [
       "<Axes: title={'center': 'delta'}>"
      ]
     },
     "execution_count": 8,
     "metadata": {},
     "output_type": "execute_result"
    },
    {
     "data": {
      "image/png": "[encoded data removed]",
      "text/plain": [
       "<Figure size 640x480 with 1 Axes>"
      ]
     },
     "metadata": {},
     "output_type": "display_data"
    }
   ],
   "source": [
    "\n",
    "# Example usage\n",
    "r1, n1 = 0.90, 100  # Correlation and sample size for the first sample\n",
    "r2, n2 = 0.92, 100  # Correlation and sample size for the second sample\n",
    "trace = bayesian_f2_test(r1, n1, r2, n2)\n",
    "\n",
    "# Plotting posterior distribution of delta\n",
    "az.plot_posterior(trace, var_names=['delta'])\n"
   ]
  },
  {
   "cell_type": "code",
   "execution_count": 9,
   "metadata": {},
   "outputs": [
    {
     "data": {
      "text/html": [
       "<div>\n",
       "<style scoped>\n",
       "    .dataframe tbody tr th:only-of-type {\n",
       "        vertical-align: middle;\n",
       "    }\n",
       "\n",
       "    .dataframe tbody tr th {\n",
       "        vertical-align: top;\n",
       "    }\n",
       "\n",
       "    .dataframe thead th {\n",
       "        text-align: right;\n",
       "    }\n",
       "</style>\n",
       "<table border=\"1\" class=\"dataframe\">\n",
       "  <thead>\n",
       "    <tr style=\"text-align: right;\">\n",
       "      <th></th>\n",
       "      <th>mean</th>\n",
       "      <th>sd</th>\n",
       "      <th>hdi_2.5%</th>\n",
       "      <th>hdi_97.5%</th>\n",
       "      <th>mcse_mean</th>\n",
       "      <th>mcse_sd</th>\n",
       "      <th>ess_bulk</th>\n",
       "      <th>ess_tail</th>\n",
       "      <th>r_hat</th>\n",
       "    </tr>\n",
       "  </thead>\n",
       "  <tbody>\n",
       "    <tr>\n",
       "      <th>delta</th>\n",
       "      <td>-0.116</td>\n",
       "      <td>0.142</td>\n",
       "      <td>-0.378</td>\n",
       "      <td>0.183</td>\n",
       "      <td>0.003</td>\n",
       "      <td>0.002</td>\n",
       "      <td>1715.0</td>\n",
       "      <td>2657.0</td>\n",
       "      <td>1.0</td>\n",
       "    </tr>\n",
       "  </tbody>\n",
       "</table>\n",
       "</div>"
      ],
      "text/plain": [
       "        mean     sd  hdi_2.5%  hdi_97.5%  mcse_mean  mcse_sd  ess_bulk  \\\n",
       "delta -0.116  0.142    -0.378      0.183      0.003    0.002    1715.0   \n",
       "\n",
       "       ess_tail  r_hat  \n",
       "delta    2657.0    1.0  "
      ]
     },
     "metadata": {},
     "output_type": "display_data"
    }
   ],
   "source": [
    "\n",
    "# Print the summary\n",
    "summary = az.summary(trace, hdi_prob=0.95)\n",
    "display(summary)"
   ]
  },
  {
   "cell_type": "code",
   "execution_count": null,
   "metadata": {},
   "outputs": [],
   "source": []
  }
 ],
 "metadata": {
  "kernelspec": {
   "display_name": "base",
   "language": "python",
   "name": "python3"
  },
  "language_info": {
   "codemirror_mode": {
    "name": "ipython",
    "version": 3
   },
   "file_extension": ".py",
   "mimetype": "text/x-python",
   "name": "python",
   "nbconvert_exporter": "python",
   "pygments_lexer": "ipython3",
   "version": "3.12.3"
  }
 },
 "nbformat": 4,
 "nbformat_minor": 2
}
