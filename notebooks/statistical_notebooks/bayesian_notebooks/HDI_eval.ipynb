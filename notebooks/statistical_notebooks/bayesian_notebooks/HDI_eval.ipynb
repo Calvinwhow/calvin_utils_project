{
 "cells": [
  {
   "cell_type": "markdown",
   "metadata": {},
   "source": [
    "F2 test of similarity of correlation coefficients"
   ]
  },
  {
   "cell_type": "code",
   "execution_count": 1,
   "metadata": {},
   "outputs": [
    {
     "name": "stdout",
     "output_type": "stream",
     "text": [
      "-------- freesurfer-darwin-macOS-dev-20221215-995cb7d --------\n",
      "Setting up environment for FreeSurfer/FS-FAST (and FSL)\n",
      "FREESURFER_HOME   /Applications/freesurfer\n",
      "FSFAST_HOME       /Applications/freesurfer/fsfast\n",
      "FSF_OUTPUT_FORMAT nii.gz\n",
      "SUBJECTS_DIR      /Applications/freesurfer/subjects\n",
      "MNI_DIR           /Applications/freesurfer/mni\n",
      "FSL_DIR           /Users/cu135/fsl\n",
      "Defaulting to user installation because normal site-packages is not writeable\n",
      "Requirement already satisfied: xarray in /Users/cu135/fsl/lib/python3.10/site-packages (2022.12.0)\n",
      "Requirement already satisfied: packaging>=21.3 in /Users/cu135/fsl/lib/python3.10/site-packages (from xarray) (22.0)\n",
      "Requirement already satisfied: numpy>=1.20 in /Users/cu135/.local/lib/python3.10/site-packages (from xarray) (1.25.2)\n",
      "Requirement already satisfied: pandas>=1.3 in /Users/cu135/fsl/lib/python3.10/site-packages (from xarray) (1.5.2)\n",
      "Requirement already satisfied: python-dateutil>=2.8.1 in /Users/cu135/fsl/lib/python3.10/site-packages (from pandas>=1.3->xarray) (2.8.2)\n",
      "Requirement already satisfied: pytz>=2020.1 in /Users/cu135/fsl/lib/python3.10/site-packages (from pandas>=1.3->xarray) (2022.6)\n",
      "Requirement already satisfied: six>=1.5 in /Users/cu135/.local/lib/python3.10/site-packages (from python-dateutil>=2.8.1->pandas>=1.3->xarray) (1.12.0)\n"
     ]
    }
   ],
   "source": [
    "!pip install xarray"
   ]
  },
  {
   "cell_type": "code",
   "execution_count": null,
   "metadata": {},
   "outputs": [
    {
     "name": "stdout",
     "output_type": "stream",
     "text": [
      "-------- freesurfer-darwin-macOS-dev-20221215-995cb7d --------\n",
      "Setting up environment for FreeSurfer/FS-FAST (and FSL)\n",
      "FREESURFER_HOME   /Applications/freesurfer\n",
      "FSFAST_HOME       /Applications/freesurfer/fsfast\n",
      "FSF_OUTPUT_FORMAT nii.gz\n",
      "SUBJECTS_DIR      /Applications/freesurfer/subjects\n",
      "MNI_DIR           /Applications/freesurfer/mni\n",
      "FSL_DIR           /Users/cu135/fsl\n",
      "Defaulting to user installation because normal site-packages is not writeable\n",
      "Requirement already satisfied: xarray in /Users/cu135/fsl/lib/python3.10/site-packages (2022.12.0)\n",
      "Requirement already satisfied: packaging>=21.3 in /Users/cu135/fsl/lib/python3.10/site-packages (from xarray) (22.0)\n",
      "Requirement already satisfied: numpy>=1.20 in /Users/cu135/.local/lib/python3.10/site-packages (from xarray) (1.25.2)\n",
      "Requirement already satisfied: pandas>=1.3 in /Users/cu135/fsl/lib/python3.10/site-packages (from xarray) (1.5.2)\n",
      "Requirement already satisfied: python-dateutil>=2.8.1 in /Users/cu135/fsl/lib/python3.10/site-packages (from pandas>=1.3->xarray) (2.8.2)\n",
      "Requirement already satisfied: pytz>=2020.1 in /Users/cu135/fsl/lib/python3.10/site-packages (from pandas>=1.3->xarray) (2022.6)\n",
      "Requirement already satisfied: six>=1.5 in /Users/cu135/.local/lib/python3.10/site-packages (from python-dateutil>=2.8.1->pandas>=1.3->xarray) (1.12.0)\n"
     ]
    }
   ],
   "source": [
    "!pip install xarray"
   ]
  },
  {
   "cell_type": "code",
   "execution_count": 1,
   "metadata": {},
   "outputs": [
    {
     "ename": "ModuleNotFoundError",
     "evalue": "No module named 'xarray'",
     "output_type": "error",
     "traceback": [
      "\u001b[0;31m---------------------------------------------------------------------------\u001b[0m",
      "\u001b[0;31mModuleNotFoundError\u001b[0m                       Traceback (most recent call last)",
      "Cell \u001b[0;32mIn[1], line 2\u001b[0m\n\u001b[1;32m      1\u001b[0m \u001b[38;5;28;01mimport\u001b[39;00m \u001b[38;5;21;01mnumpy\u001b[39;00m \u001b[38;5;28;01mas\u001b[39;00m \u001b[38;5;21;01mnp\u001b[39;00m\n\u001b[0;32m----> 2\u001b[0m \u001b[38;5;28;01mimport\u001b[39;00m \u001b[38;5;21;01mpymc\u001b[39;00m \u001b[38;5;28;01mas\u001b[39;00m \u001b[38;5;21;01mpm\u001b[39;00m\n\u001b[1;32m      3\u001b[0m \u001b[38;5;28;01mimport\u001b[39;00m \u001b[38;5;21;01marviz\u001b[39;00m \u001b[38;5;28;01mas\u001b[39;00m \u001b[38;5;21;01maz\u001b[39;00m\n\u001b[1;32m      5\u001b[0m \u001b[38;5;28;01mdef\u001b[39;00m \u001b[38;5;21mbayesian_f2_test\u001b[39m(r1, n1, r2, n2, num_samples\u001b[38;5;241m=\u001b[39m\u001b[38;5;241m1000\u001b[39m):\n",
      "File \u001b[0;32m~/.local/lib/python3.10/site-packages/pymc/__init__.py:48\u001b[0m\n\u001b[1;32m     43\u001b[0m     pytensor\u001b[38;5;241m.\u001b[39mconfig\u001b[38;5;241m.\u001b[39mgcc__cxxflags \u001b[38;5;241m=\u001b[39m augmented\n\u001b[1;32m     46\u001b[0m __set_compiler_flags()\n\u001b[0;32m---> 48\u001b[0m \u001b[38;5;28;01mfrom\u001b[39;00m \u001b[38;5;21;01mpymc\u001b[39;00m \u001b[38;5;28;01mimport\u001b[39;00m _version, gp, ode, sampling\n\u001b[1;32m     49\u001b[0m \u001b[38;5;28;01mfrom\u001b[39;00m \u001b[38;5;21;01mpymc\u001b[39;00m\u001b[38;5;21;01m.\u001b[39;00m\u001b[38;5;21;01mbackends\u001b[39;00m \u001b[38;5;28;01mimport\u001b[39;00m \u001b[38;5;241m*\u001b[39m\n\u001b[1;32m     50\u001b[0m \u001b[38;5;28;01mfrom\u001b[39;00m \u001b[38;5;21;01mpymc\u001b[39;00m\u001b[38;5;21;01m.\u001b[39;00m\u001b[38;5;21;01mblocking\u001b[39;00m \u001b[38;5;28;01mimport\u001b[39;00m \u001b[38;5;241m*\u001b[39m\n",
      "File \u001b[0;32m~/.local/lib/python3.10/site-packages/pymc/gp/__init__.py:15\u001b[0m\n\u001b[1;32m      1\u001b[0m \u001b[38;5;66;03m#   Copyright 2024 The PyMC Developers\u001b[39;00m\n\u001b[1;32m      2\u001b[0m \u001b[38;5;66;03m#\u001b[39;00m\n\u001b[1;32m      3\u001b[0m \u001b[38;5;66;03m#   Licensed under the Apache License, Version 2.0 (the \"License\");\u001b[39;00m\n\u001b[0;32m   (...)\u001b[0m\n\u001b[1;32m     12\u001b[0m \u001b[38;5;66;03m#   See the License for the specific language governing permissions and\u001b[39;00m\n\u001b[1;32m     13\u001b[0m \u001b[38;5;66;03m#   limitations under the License.\u001b[39;00m\n\u001b[0;32m---> 15\u001b[0m \u001b[38;5;28;01mfrom\u001b[39;00m \u001b[38;5;21;01mpymc\u001b[39;00m\u001b[38;5;21;01m.\u001b[39;00m\u001b[38;5;21;01mgp\u001b[39;00m \u001b[38;5;28;01mimport\u001b[39;00m cov, mean, util\n\u001b[1;32m     16\u001b[0m \u001b[38;5;28;01mfrom\u001b[39;00m \u001b[38;5;21;01mpymc\u001b[39;00m\u001b[38;5;21;01m.\u001b[39;00m\u001b[38;5;21;01mgp\u001b[39;00m\u001b[38;5;21;01m.\u001b[39;00m\u001b[38;5;21;01mgp\u001b[39;00m \u001b[38;5;28;01mimport\u001b[39;00m (\n\u001b[1;32m     17\u001b[0m     TP,\n\u001b[1;32m     18\u001b[0m     Latent,\n\u001b[0;32m   (...)\u001b[0m\n\u001b[1;32m     23\u001b[0m     MarginalSparse,\n\u001b[1;32m     24\u001b[0m )\n\u001b[1;32m     25\u001b[0m \u001b[38;5;28;01mfrom\u001b[39;00m \u001b[38;5;21;01mpymc\u001b[39;00m\u001b[38;5;21;01m.\u001b[39;00m\u001b[38;5;21;01mgp\u001b[39;00m\u001b[38;5;21;01m.\u001b[39;00m\u001b[38;5;21;01mhsgp_approx\u001b[39;00m \u001b[38;5;28;01mimport\u001b[39;00m HSGP, HSGPPeriodic\n",
      "File \u001b[0;32m~/.local/lib/python3.10/site-packages/pymc/gp/cov.py:52\u001b[0m\n\u001b[1;32m     29\u001b[0m \u001b[38;5;28;01mfrom\u001b[39;00m \u001b[38;5;21;01mpytensor\u001b[39;00m\u001b[38;5;21;01m.\u001b[39;00m\u001b[38;5;21;01mtensor\u001b[39;00m\u001b[38;5;21;01m.\u001b[39;00m\u001b[38;5;21;01mvariable\u001b[39;00m \u001b[38;5;28;01mimport\u001b[39;00m TensorConstant, TensorVariable\n\u001b[1;32m     31\u001b[0m __all__ \u001b[38;5;241m=\u001b[39m [\n\u001b[1;32m     32\u001b[0m     \u001b[38;5;124m\"\u001b[39m\u001b[38;5;124mConstant\u001b[39m\u001b[38;5;124m\"\u001b[39m,\n\u001b[1;32m     33\u001b[0m     \u001b[38;5;124m\"\u001b[39m\u001b[38;5;124mWhiteNoise\u001b[39m\u001b[38;5;124m\"\u001b[39m,\n\u001b[0;32m   (...)\u001b[0m\n\u001b[1;32m     49\u001b[0m     \u001b[38;5;124m\"\u001b[39m\u001b[38;5;124mKron\u001b[39m\u001b[38;5;124m\"\u001b[39m,\n\u001b[1;32m     50\u001b[0m ]\n\u001b[0;32m---> 52\u001b[0m \u001b[38;5;28;01mfrom\u001b[39;00m \u001b[38;5;21;01mpymc\u001b[39;00m\u001b[38;5;21;01m.\u001b[39;00m\u001b[38;5;21;01mpytensorf\u001b[39;00m \u001b[38;5;28;01mimport\u001b[39;00m constant_fold\n\u001b[1;32m     54\u001b[0m TensorLike \u001b[38;5;241m=\u001b[39m np\u001b[38;5;241m.\u001b[39mndarray \u001b[38;5;241m|\u001b[39m TensorVariable\n\u001b[1;32m     55\u001b[0m IntSequence \u001b[38;5;241m=\u001b[39m np\u001b[38;5;241m.\u001b[39mndarray \u001b[38;5;241m|\u001b[39m Sequence[\u001b[38;5;28mint\u001b[39m]\n",
      "File \u001b[0;32m~/.local/lib/python3.10/site-packages/pymc/pytensorf.py:54\u001b[0m\n\u001b[1;32m     51\u001b[0m \u001b[38;5;28;01mfrom\u001b[39;00m \u001b[38;5;21;01mpytensor\u001b[39;00m\u001b[38;5;21;01m.\u001b[39;00m\u001b[38;5;21;01mtensor\u001b[39;00m\u001b[38;5;21;01m.\u001b[39;00m\u001b[38;5;21;01mvariable\u001b[39;00m \u001b[38;5;28;01mimport\u001b[39;00m TensorVariable\n\u001b[1;32m     53\u001b[0m \u001b[38;5;28;01mfrom\u001b[39;00m \u001b[38;5;21;01mpymc\u001b[39;00m\u001b[38;5;21;01m.\u001b[39;00m\u001b[38;5;21;01mexceptions\u001b[39;00m \u001b[38;5;28;01mimport\u001b[39;00m NotConstantValueError\n\u001b[0;32m---> 54\u001b[0m \u001b[38;5;28;01mfrom\u001b[39;00m \u001b[38;5;21;01mpymc\u001b[39;00m\u001b[38;5;21;01m.\u001b[39;00m\u001b[38;5;21;01mutil\u001b[39;00m \u001b[38;5;28;01mimport\u001b[39;00m makeiter\n\u001b[1;32m     55\u001b[0m \u001b[38;5;28;01mfrom\u001b[39;00m \u001b[38;5;21;01mpymc\u001b[39;00m\u001b[38;5;21;01m.\u001b[39;00m\u001b[38;5;21;01mvartypes\u001b[39;00m \u001b[38;5;28;01mimport\u001b[39;00m continuous_types, isgenerator, typefilter\n\u001b[1;32m     57\u001b[0m PotentialShapeType \u001b[38;5;241m=\u001b[39m \u001b[38;5;28mint\u001b[39m \u001b[38;5;241m|\u001b[39m np\u001b[38;5;241m.\u001b[39mndarray \u001b[38;5;241m|\u001b[39m Sequence[\u001b[38;5;28mint\u001b[39m \u001b[38;5;241m|\u001b[39m Variable] \u001b[38;5;241m|\u001b[39m TensorVariable\n",
      "File \u001b[0;32m~/.local/lib/python3.10/site-packages/pymc/util.py:21\u001b[0m\n\u001b[1;32m     18\u001b[0m \u001b[38;5;28;01mfrom\u001b[39;00m \u001b[38;5;21;01mcollections\u001b[39;00m\u001b[38;5;21;01m.\u001b[39;00m\u001b[38;5;21;01mabc\u001b[39;00m \u001b[38;5;28;01mimport\u001b[39;00m Sequence\n\u001b[1;32m     19\u001b[0m \u001b[38;5;28;01mfrom\u001b[39;00m \u001b[38;5;21;01mtyping\u001b[39;00m \u001b[38;5;28;01mimport\u001b[39;00m NewType, cast\n\u001b[0;32m---> 21\u001b[0m \u001b[38;5;28;01mimport\u001b[39;00m \u001b[38;5;21;01marviz\u001b[39;00m\n\u001b[1;32m     22\u001b[0m \u001b[38;5;28;01mimport\u001b[39;00m \u001b[38;5;21;01mcloudpickle\u001b[39;00m\n\u001b[1;32m     23\u001b[0m \u001b[38;5;28;01mimport\u001b[39;00m \u001b[38;5;21;01mnumpy\u001b[39;00m \u001b[38;5;28;01mas\u001b[39;00m \u001b[38;5;21;01mnp\u001b[39;00m\n",
      "File \u001b[0;32m~/.local/lib/python3.10/site-packages/arviz/__init__.py:33\u001b[0m\n\u001b[1;32m     27\u001b[0m         \u001b[38;5;28msuper\u001b[39m()\u001b[38;5;241m.\u001b[39m_log(level, msg, \u001b[38;5;241m*\u001b[39margs, \u001b[38;5;241m*\u001b[39m\u001b[38;5;241m*\u001b[39mkwargs)\n\u001b[1;32m     30\u001b[0m _log \u001b[38;5;241m=\u001b[39m Logger(\u001b[38;5;124m\"\u001b[39m\u001b[38;5;124marviz\u001b[39m\u001b[38;5;124m\"\u001b[39m)\n\u001b[0;32m---> 33\u001b[0m \u001b[38;5;28;01mfrom\u001b[39;00m \u001b[38;5;21;01m.\u001b[39;00m\u001b[38;5;21;01mdata\u001b[39;00m \u001b[38;5;28;01mimport\u001b[39;00m \u001b[38;5;241m*\u001b[39m\n\u001b[1;32m     34\u001b[0m \u001b[38;5;28;01mfrom\u001b[39;00m \u001b[38;5;21;01m.\u001b[39;00m\u001b[38;5;21;01mplots\u001b[39;00m \u001b[38;5;28;01mimport\u001b[39;00m \u001b[38;5;241m*\u001b[39m\n\u001b[1;32m     35\u001b[0m \u001b[38;5;28;01mfrom\u001b[39;00m \u001b[38;5;21;01m.\u001b[39;00m\u001b[38;5;21;01mplots\u001b[39;00m\u001b[38;5;21;01m.\u001b[39;00m\u001b[38;5;21;01mbackends\u001b[39;00m \u001b[38;5;28;01mimport\u001b[39;00m \u001b[38;5;241m*\u001b[39m\n",
      "File \u001b[0;32m~/.local/lib/python3.10/site-packages/arviz/data/__init__.py:3\u001b[0m\n\u001b[1;32m      1\u001b[0m \u001b[38;5;124;03m\"\"\"Code for loading and manipulating data structures.\"\"\"\u001b[39;00m\n\u001b[0;32m----> 3\u001b[0m \u001b[38;5;28;01mfrom\u001b[39;00m \u001b[38;5;21;01m.\u001b[39;00m\u001b[38;5;21;01mbase\u001b[39;00m \u001b[38;5;28;01mimport\u001b[39;00m CoordSpec, DimSpec, dict_to_dataset, numpy_to_data_array, pytree_to_dataset\n\u001b[1;32m      4\u001b[0m \u001b[38;5;28;01mfrom\u001b[39;00m \u001b[38;5;21;01m.\u001b[39;00m\u001b[38;5;21;01mconverters\u001b[39;00m \u001b[38;5;28;01mimport\u001b[39;00m convert_to_dataset, convert_to_inference_data\n\u001b[1;32m      5\u001b[0m \u001b[38;5;28;01mfrom\u001b[39;00m \u001b[38;5;21;01m.\u001b[39;00m\u001b[38;5;21;01mdatasets\u001b[39;00m \u001b[38;5;28;01mimport\u001b[39;00m clear_data_home, list_datasets, load_arviz_data\n",
      "File \u001b[0;32m~/.local/lib/python3.10/site-packages/arviz/data/base.py:13\u001b[0m\n\u001b[1;32m     11\u001b[0m \u001b[38;5;28;01mimport\u001b[39;00m \u001b[38;5;21;01mnumpy\u001b[39;00m \u001b[38;5;28;01mas\u001b[39;00m \u001b[38;5;21;01mnp\u001b[39;00m\n\u001b[1;32m     12\u001b[0m \u001b[38;5;28;01mimport\u001b[39;00m \u001b[38;5;21;01mtree\u001b[39;00m\n\u001b[0;32m---> 13\u001b[0m \u001b[38;5;28;01mimport\u001b[39;00m \u001b[38;5;21;01mxarray\u001b[39;00m \u001b[38;5;28;01mas\u001b[39;00m \u001b[38;5;21;01mxr\u001b[39;00m\n\u001b[1;32m     15\u001b[0m \u001b[38;5;28;01mtry\u001b[39;00m:\n\u001b[1;32m     16\u001b[0m     \u001b[38;5;28;01mimport\u001b[39;00m \u001b[38;5;21;01mujson\u001b[39;00m \u001b[38;5;28;01mas\u001b[39;00m \u001b[38;5;21;01mjson\u001b[39;00m\n",
      "\u001b[0;31mModuleNotFoundError\u001b[0m: No module named 'xarray'"
     ]
    }
   ],
   "source": [
    "import numpy as np\n",
    "import pymc as pm\n",
    "import arviz as az\n",
    "\n",
    "def bayesian_f2_test(r1, n1, r2, n2, num_samples=1000):\n",
    "    \"\"\"\n",
    "    Perform a Bayesian f^2 test to determine if two correlations are more similar than expected by chance.\n",
    "\n",
    "    Parameters:\n",
    "    r1 (float): Correlation coefficient of the first sample.\n",
    "    n1 (int): Sample size of the first sample.\n",
    "    r2 (float): Correlation coefficient of the second sample.\n",
    "    n2 (int): Sample size of the second sample.\n",
    "    num_samples (int): Number of posterior samples to draw.\n",
    "\n",
    "    Returns:\n",
    "    az.InferenceData: The posterior inference data.\n",
    "    \"\"\"\n",
    "    \n",
    "    # Fisher Z-transform\n",
    "    Z1 = 0.5 * np.log((1 + r1) / (1 - r1))\n",
    "    Z2 = 0.5 * np.log((1 + r2) / (1 - r2))\n",
    "\n",
    "    # Calculate the variances of the Fisher Z-transformed correlations\n",
    "    var_z1 = 1 / (n1 - 3)\n",
    "    var_z2 = 1 / (n2 - 3)\n",
    "\n",
    "    # Combined variance of the difference\n",
    "    var_diff = var_z1 + var_z2\n",
    "    sigma_diff = np.sqrt(var_diff)\n",
    "    \n",
    "    # Observed difference in Z-scores\n",
    "    Z_diff = Z1 - Z2\n",
    "\n",
    "    # Bayesian Model\n",
    "    with pm.Model() as model:\n",
    "        # Prior for delta (the difference in Z-scores)\n",
    "        delta = pm.Normal('delta', mu=0, sigma=1)\n",
    "        \n",
    "        # Likelihood\n",
    "        likelihood = pm.Normal('likelihood', mu=delta, sigma=sigma_diff, observed=Z_diff)\n",
    "        \n",
    "        # Posterior Inference\n",
    "        trace = pm.sample(num_samples, return_inferencedata=True)\n",
    "\n",
    "    return trace\n"
   ]
  },
  {
   "cell_type": "code",
   "execution_count": null,
   "metadata": {},
   "outputs": [],
   "source": [
    "\n",
    "# Example usage\n",
    "r1, n1 = 0.6, 100  # Correlation and sample size for the first sample\n",
    "r2, n2 = 0.65, 120  # Correlation and sample size for the second sample\n",
    "trace = bayesian_f2_test(r1, n1, r2, n2)\n",
    "\n",
    "# Plotting posterior distribution of delta\n",
    "az.plot_posterior(trace, var_names=['delta'])\n"
   ]
  },
  {
   "cell_type": "code",
   "execution_count": null,
   "metadata": {},
   "outputs": [],
   "source": []
  }
 ],
 "metadata": {
  "kernelspec": {
   "display_name": "base",
   "language": "python",
   "name": "python3"
  },
  "language_info": {
   "codemirror_mode": {
    "name": "ipython",
    "version": 3
   },
   "file_extension": ".py",
   "mimetype": "text/x-python",
   "name": "python",
   "nbconvert_exporter": "python",
   "pygments_lexer": "ipython3",
   "version": "3.10.14"
  }
 },
 "nbformat": 4,
 "nbformat_minor": 2
}
