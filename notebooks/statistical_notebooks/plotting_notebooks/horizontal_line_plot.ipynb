{
 "cells": [
  {
   "cell_type": "code",
   "execution_count": 8,
   "metadata": {},
   "outputs": [],
   "source": [
    "import matplotlib.pyplot as plt\n",
    "import numpy as np\n",
    "\n",
    "def plot_ci_bars(data, xlabel=\"AUC\", ylabel=\"Measures\", title=\"Confidence Intervals\"):\n",
    "    \"\"\"\n",
    "    Plots error bars for the means and 95% confidence intervals provided in the data.\n",
    "    \n",
    "    Args:\n",
    "    - data (dict): A dictionary where each key is a label and the value is a sub-dict with keys \"mean\" and \"CI\" (confidence interval).\n",
    "                  Example:\n",
    "                  {\n",
    "                      \"Label1\": {\"mean\": 0.7, \"CI\": (0.65, 0.75)},\n",
    "                      \"Label2\": {\"mean\": 0.55, \"CI\": (0.5, 0.6)},\n",
    "                  }\n",
    "    - xlabel (str): Label for the x-axis.\n",
    "    - ylabel (str): Label for the y-axis.\n",
    "    - title (str): Title for the plot.\n",
    "    \"\"\"\n",
    "    \n",
    "    # Extract labels, means, and CIs from the data\n",
    "    labels = list(data.keys())\n",
    "    means = [data[label]['mean'] for label in labels]\n",
    "    lower_ci = [data[label]['CI'][0] for label in labels]\n",
    "    upper_ci = [data[label]['CI'][1] for label in labels]\n",
    "    \n",
    "    # Convert to arrays for easier manipulation\n",
    "    means = np.array(means)\n",
    "    lower_ci = np.array(lower_ci)\n",
    "    upper_ci = np.array(upper_ci)\n",
    "    \n",
    "    # Calculate error bars (distance from mean to the CI limit)\n",
    "    lower_err = means - lower_ci\n",
    "    upper_err = upper_ci - means\n",
    "    errors = [lower_err, upper_err]\n",
    "\n",
    "    # Create the figure and axis\n",
    "    fig, ax = plt.subplots(figsize=(6, 6))\n",
    "\n",
    "    # Plot the error bars\n",
    "    ax.errorbar(means, np.arange(len(labels)), xerr=errors, fmt='o', color='black', ecolor='gray',\n",
    "                elinewidth=2, capsize=4)\n",
    "\n",
    "    # Add dashed vertical line at 0.5 (like in your image)\n",
    "    ax.axvline(x=0.5, color='gray', linestyle='--')\n",
    "\n",
    "    # Set labels and title\n",
    "    ax.set_xlabel(xlabel)\n",
    "    ax.set_ylabel(ylabel)\n",
    "    ax.set_yticks(np.arange(len(labels)))\n",
    "    ax.set_yticklabels(labels)\n",
    "    ax.set_title(title)\n",
    "\n",
    "    # Reverse the y-axis to match your example plot\n",
    "    ax.invert_yaxis()\n",
    "\n",
    "    # Show the plot\n",
    "    plt.tight_layout()\n",
    "    plt.show()\n",
    "    return fig\n"
   ]
  },
  {
   "cell_type": "code",
   "execution_count": 9,
   "metadata": {},
   "outputs": [
    {
     "data": {
      "image/png": "[encoded data removed]",
      "text/plain": [
       "<Figure size 432x432 with 1 Axes>"
      ]
     },
     "metadata": {
      "needs_background": "light"
     },
     "output_type": "display_data"
    }
   ],
   "source": [
    "# Example usage:\n",
    "data = {\n",
    "    \"CSF\": {\"mean\": 0.70, \"CI\": (0.59, 0.8)},\n",
    "    \"CTh\": {\"mean\": 0.73, \"CI\": (0.62, 0.84)},\n",
    "    \"GM\": {\"mean\": 0.71, \"CI\": (0.59, 0.81)},\n",
    "    \"WM\": {\"mean\": 0.72, \"CI\": (0.61, 0.82)}\n",
    "}\n",
    "\n",
    "ci_fig = plot_ci_bars(data)"
   ]
  },
  {
   "cell_type": "code",
   "execution_count": 10,
   "metadata": {},
   "outputs": [],
   "source": [
    "ci_fig.savefig('/Users/cu135/Partners HealthCare Dropbox/Calvin Howard/studies/atrophy_seeds_2023/Figures/diagnostic_ability_ad-cn/ci95fig.svg')"
   ]
  },
  {
   "cell_type": "code",
   "execution_count": null,
   "metadata": {},
   "outputs": [],
   "source": []
  }
 ],
 "metadata": {
  "kernelspec": {
   "display_name": "nimlab_py310",
   "language": "python",
   "name": "python3"
  },
  "language_info": {
   "codemirror_mode": {
    "name": "ipython",
    "version": 3
   },
   "file_extension": ".py",
   "mimetype": "text/x-python",
   "name": "python",
   "nbconvert_exporter": "python",
   "pygments_lexer": "ipython3",
   "version": "3.10.8"
  }
 },
 "nbformat": 4,
 "nbformat_minor": 2
}
