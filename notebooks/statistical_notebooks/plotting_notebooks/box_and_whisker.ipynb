{
 "cells": [
  {
   "cell_type": "code",
   "execution_count": null,
   "metadata": {},
   "outputs": [],
   "source": [
    "def calculate_whiskers(vmin, q1, q3, vmax):\n",
    "    # Calculate the interquartile range\n",
    "    iqr = q3 - q1\n",
    "    \n",
    "    # Calculate the lower and upper whiskers\n",
    "    lower_whisker = max(vmin, q1 - 1.5 * iqr)\n",
    "    upper_whisker = min(vmax, q3 + 1.5 * iqr)\n",
    "    \n",
    "    return lower_whisker, upper_whisker\n",
    "\n",
    "# Example usage:\n",
    "lower_whisker, upper_whisker = calculate_whiskers(-1, -.7, -.31, .95)\n",
    "print(f\"Lower Whisker: {lower_whisker}, Upper Whisker: {upper_whisker}\")"
   ]
  },
  {
   "cell_type": "code",
   "execution_count": 3,
   "metadata": {},
   "outputs": [],
   "source": [
    "out_dir = '/Users/cu135/Library/CloudStorage/OneDrive-Personal/OneDrive_Documents/Research/2023/subiculum_cognition_and_age/figures/Figures/3_cohort_delta_r/split_by_age_grou/box_and_whisker'"
   ]
  },
  {
   "cell_type": "code",
   "execution_count": 39,
   "metadata": {},
   "outputs": [
    {
     "data": {
      "image/png": "[encoded data removed]",
      "text/plain": [
       "<Figure size 720x144 with 1 Axes>"
      ]
     },
     "metadata": {
      "needs_background": "light"
     },
     "output_type": "display_data"
    }
   ],
   "source": [
    "import matplotlib.pyplot as plt\n",
    "\n",
    "def create_manual_boxplot(lower_whisker, q1, median, q3, upper_whisker, outliers, xlim, out_dir, file_name='boxplot.svg'):\n",
    "    \"\"\"\n",
    "    Creates a horizontally-facing box-and-whisker plot with manually provided values.\n",
    "\n",
    "    Parameters:\n",
    "    - lower_whisker: Lower whisker value.\n",
    "    - q1: Lower quartile (25th percentile).\n",
    "    - median: Median value (50th percentile).\n",
    "    - q3: Upper quartile (75th percentile).\n",
    "    - upper_whisker: Upper whisker value.\n",
    "    - outliers: List of outliers beyond the whiskers.\n",
    "    - xlim: Tuple specifying the x-axis limits (min, max).\n",
    "    - out_dir: Directory to save the plot.\n",
    "    - file_name: Name of the file to save the plot as, default is 'boxplot.svg'.\n",
    "    \"\"\"\n",
    "    \n",
    "    # Prepare the boxplot data structure\n",
    "    boxplot_data = {\n",
    "        'whislo': lower_whisker,   # Lower whisker\n",
    "        'q1': q1,                  # Lower quartile\n",
    "        'med': median,             # Median\n",
    "        'q3': q3,                  # Upper quartile\n",
    "        'whishi': upper_whisker,   # Upper whisker\n",
    "        'fliers': outliers         # Outliers\n",
    "    }\n",
    "    \n",
    "    # Create the figure and the axes\n",
    "    fig, ax = plt.subplots(figsize=(10, 2))\n",
    "    \n",
    "    # Plotting the boxplot using the provided data\n",
    "    ax.bxp([boxplot_data], vert=False, showfliers=True)\n",
    "    \n",
    "    # Set the x-axis limits\n",
    "    ax.set_xlim(xlim)\n",
    "    \n",
    "    # Set the title and labels\n",
    "    ax.set_title('Manually Created Horizontally-facing Box-and-Whisker Plot')\n",
    "    ax.set_xlabel('Value')\n",
    "    \n",
    "    # Save the plot as an SVG file\n",
    "    plt.savefig(f'{out_dir}/{file_name}', format='svg')\n",
    "    plt.show()\n",
    "    plt.close()\n",
    "\n",
    "# Example usage\n",
    "lower_whisker = -.8\n",
    "q1 = -.7\n",
    "median = -.56\n",
    "q3 = -.31\n",
    "upper_whisker = .27\n",
    "outliers = []\n",
    "xlim = (-0.85, 0.85)\n",
    "\n",
    "create_manual_boxplot(lower_whisker, q1, median, q3, upper_whisker, outliers, xlim, out_dir, file_name='pd_old_boxplot.svg')\n"
   ]
  },
  {
   "cell_type": "code",
   "execution_count": 20,
   "metadata": {},
   "outputs": [],
   "source": [
    "# Example usage\n",
    "negative_outliers = [-.08, -0.07]\n",
    "lower_iqr = 0.22\n",
    "median = 0.32\n",
    "upper_iqr = 0.41\n",
    "positive_outliers = [0.73]\n",
    "xlim = (-0.7, 0.7)\n"
   ]
  },
  {
   "cell_type": "code",
   "execution_count": 21,
   "metadata": {},
   "outputs": [
    {
     "ename": "TypeError",
     "evalue": "create_manual_boxplot() missing 1 required positional argument: 'out_dir'",
     "output_type": "error",
     "traceback": [
      "\u001b[0;31m---------------------------------------------------------------------------\u001b[0m",
      "\u001b[0;31mTypeError\u001b[0m                                 Traceback (most recent call last)",
      "Cell \u001b[0;32mIn[21], line 1\u001b[0m\n\u001b[0;32m----> 1\u001b[0m \u001b[43mcreate_manual_boxplot\u001b[49m\u001b[43m(\u001b[49m\u001b[43mnegative_outliers\u001b[49m\u001b[43m,\u001b[49m\u001b[43m \u001b[49m\u001b[43mlower_iqr\u001b[49m\u001b[43m,\u001b[49m\u001b[43m \u001b[49m\u001b[43mmedian\u001b[49m\u001b[43m,\u001b[49m\u001b[43m \u001b[49m\u001b[43mupper_iqr\u001b[49m\u001b[43m,\u001b[49m\u001b[43m \u001b[49m\u001b[43mpositive_outliers\u001b[49m\u001b[43m,\u001b[49m\u001b[43m \u001b[49m\u001b[43mxlim\u001b[49m\u001b[43m,\u001b[49m\u001b[43m \u001b[49m\u001b[43mout_dir\u001b[49m\u001b[43m,\u001b[49m\u001b[43m \u001b[49m\u001b[43mfile_name\u001b[49m\u001b[38;5;241;43m=\u001b[39;49m\u001b[38;5;124;43m'\u001b[39;49m\u001b[38;5;124;43mmanual_boxplot.svg\u001b[39;49m\u001b[38;5;124;43m'\u001b[39;49m\u001b[43m)\u001b[49m\n",
      "\u001b[0;31mTypeError\u001b[0m: create_manual_boxplot() missing 1 required positional argument: 'out_dir'"
     ]
    }
   ],
   "source": [
    "create_manual_boxplot(negative_outliers, lower_iqr, median, upper_iqr, positive_outliers, xlim, out_dir, file_name='manual_boxplot.svg')\n"
   ]
  },
  {
   "cell_type": "code",
   "execution_count": null,
   "metadata": {},
   "outputs": [],
   "source": []
  }
 ],
 "metadata": {
  "kernelspec": {
   "display_name": "nimlab_py310",
   "language": "python",
   "name": "python3"
  },
  "language_info": {
   "codemirror_mode": {
    "name": "ipython",
    "version": 3
   },
   "file_extension": ".py",
   "mimetype": "text/x-python",
   "name": "python",
   "nbconvert_exporter": "python",
   "pygments_lexer": "ipython3",
   "version": "3.10.8"
  }
 },
 "nbformat": 4,
 "nbformat_minor": 2
}
