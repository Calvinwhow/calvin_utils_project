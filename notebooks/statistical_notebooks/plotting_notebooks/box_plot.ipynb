{
 "cells": [
  {
   "cell_type": "markdown",
   "metadata": {},
   "source": [
    "Load in Data"
   ]
  },
  {
   "cell_type": "code",
   "execution_count": 1,
   "metadata": {},
   "outputs": [],
   "source": [
    "data_path = '/Users/cu135/Partners HealthCare Dropbox/Calvin Howard/studies/ccm_memory/results/point measurements from convergent maps.csv'"
   ]
  },
  {
   "cell_type": "code",
   "execution_count": 2,
   "metadata": {},
   "outputs": [],
   "source": [
    "import pandas as pd\n",
    "df = pd.read_csv(data_path)\n"
   ]
  },
  {
   "cell_type": "code",
   "execution_count": null,
   "metadata": {},
   "outputs": [],
   "source": [
    "from scipy.stats import kruskal, wilcoxon\n",
    "import seaborn as sns\n",
    "import matplotlib.pyplot as plt\n",
    "import pandas as pd\n",
    "import os\n",
    "\n",
    "def hex_to_rgb(hex_color):\n",
    "    hex_color = hex_color.lstrip('#')\n",
    "    return tuple(int(hex_color[i:i + 2], 16) for i in (0, 2, 4))\n",
    "\n",
    "def rgb_to_hex(rgb_color):\n",
    "    return '#%02x%02x%02x' % rgb_color\n",
    "\n",
    "def lighten_color(rgb, factor):\n",
    "    return tuple(min(int(c + (255 - c) * factor), 255) for c in rgb)\n",
    "\n",
    "def generate_grey_shades(primary_hex, n):\n",
    "    base_rgb = hex_to_rgb(primary_hex)\n",
    "    return [rgb_to_hex(lighten_color(base_rgb, i / (n * 1.8))) for i in range(n)]\n",
    "\n",
    "def plot_horizontal_boxplot_with_stats(\n",
    "    df,\n",
    "    xlabel=\"Value\",\n",
    "    out_dir=None,\n",
    "    primary_color=\"#8E8E8E\",\n",
    "    secondary_color=\"#211D1E\"\n",
    "):\n",
    "    df = df.copy()\n",
    "    label_col = df.columns[0]\n",
    "    df = df.set_index(label_col)\n",
    "    df.index.name = 'Category'\n",
    "\n",
    "    # Sort categories by median\n",
    "    medians = df.median(axis=1).sort_values(ascending=False)\n",
    "    df = df.loc[medians.index]\n",
    "\n",
    "    # Stats\n",
    "    print(\"Wilcoxon Signed-Rank Test (median ≠ 0):\")\n",
    "    for row_name, row in df.iterrows():\n",
    "        values = row.dropna().values\n",
    "        if len(values) > 0:\n",
    "            try:\n",
    "                stat, p = wilcoxon(values)\n",
    "                print(f\"  {row_name}: stat={stat:.3f}, p={p:.4f}\")\n",
    "            except ValueError:\n",
    "                print(f\"  {row_name}: Invalid (likely all zeros or constant values)\")\n",
    "        else:\n",
    "            print(f\"  {row_name}: No valid data\")\n",
    "\n",
    "    groups = [row.dropna().values for _, row in df.iterrows()]\n",
    "    if len(groups) > 1:\n",
    "        kw_stat, kw_p = kruskal(*groups)\n",
    "        print(f\"\\nKruskal-Wallis Test across categories: stat={kw_stat:.3f}, p={kw_p:.4f}\")\n",
    "\n",
    "    # Reshape for plotting\n",
    "    df_long = df.reset_index().melt(id_vars='Category', var_name='Observation', value_name='Value')\n",
    "\n",
    "    # Create shade palette from primary color\n",
    "    n_categories = df.shape[0]\n",
    "    shade_palette = generate_grey_shades(primary_color, n_categories)\n",
    "    palette_map = dict(zip(df.index.tolist(), shade_palette))\n",
    "\n",
    "    # Plot\n",
    "    plt.figure(figsize=(10, 6))\n",
    "    sns.set(style='white', font_scale=1.5)\n",
    "    ax = sns.boxplot(\n",
    "        data=df_long,\n",
    "        y='Category',\n",
    "        x='Value',\n",
    "        orient='h',\n",
    "        palette=palette_map\n",
    "    )\n",
    "\n",
    "    # Dashed line at zero\n",
    "    ax.axvline(0, linestyle='--', color='#B0B0B0', linewidth=2)\n",
    "\n",
    "    # Style\n",
    "    sns.despine()\n",
    "    plt.tick_params(labelsize=20)\n",
    "    for spine in ax.spines.values():\n",
    "        spine.set_linewidth(2)\n",
    "\n",
    "    plt.xlabel(xlabel, fontsize=20)\n",
    "    plt.ylabel('', fontsize=20)\n",
    "    plt.title('', fontsize=20)\n",
    "    plt.tight_layout()\n",
    "\n",
    "    # Save if requested\n",
    "    if out_dir:\n",
    "        os.makedirs(out_dir, exist_ok=True)\n",
    "        out_path = os.path.join(out_dir, \"horizontal_boxplot.svg\")\n",
    "        plt.savefig(out_path, format=\"svg\")\n",
    "        print(f\"Saved SVG to: {out_path}\")\n",
    "\n",
    "    plt.show()"
   ]
  },
  {
   "cell_type": "code",
   "execution_count": 22,
   "metadata": {},
   "outputs": [
    {
     "name": "stdout",
     "output_type": "stream",
     "text": [
      "Wilcoxon Signed-Rank Test (median ≠ 0):\n",
      "  Convergent: stat=0.000, p=0.0005\n",
      "  DBS: stat=0.000, p=0.0078\n",
      "  TMS: stat=1.000, p=0.0156\n",
      "  Default: stat=0.000, p=0.0005\n",
      "  Lesion: stat=5.000, p=0.0703\n",
      "  Amnesia Network: stat=7.500, p=0.0103\n",
      "  Neurosynth Memory: stat=12.500, p=0.0366\n",
      "\n",
      "Kruskal-Wallis Test across categories: stat=14.423, p=0.0252\n",
      "Saved SVG to: /Users/cu135/Library/CloudStorage/OneDrive-Personal/OneDrive_Documents/Research/2023/memory_ccm/Figures/convergent_causal_map/boxplots/horizontal_boxplot.svg\n"
     ]
    },
    {
     "name": "stderr",
     "output_type": "stream",
     "text": [
      "/var/folders/82/946tskyj68b6htgvndtppmz80000gp/T/ipykernel_3221/2922389290.py:73: FutureWarning: \n",
      "\n",
      "Passing `palette` without assigning `hue` is deprecated and will be removed in v0.14.0. Assign the `y` variable to `hue` and set `legend=False` for the same effect.\n",
      "\n",
      "  ax = sns.boxplot(\n"
     ]
    },
    {
     "data": {
      "image/png": "[encoded data removed]",
      "text/plain": [
       "<Figure size 720x432 with 1 Axes>"
      ]
     },
     "metadata": {},
     "output_type": "display_data"
    }
   ],
   "source": [
    "# Run updated version\n",
    "# Rerun with the current CSV-based dataframe\n",
    "plot_horizontal_boxplot_with_stats(\n",
    "    df,\n",
    "    xlabel=\"Rho\",\n",
    "    out_dir='/Users/cu135/Library/CloudStorage/OneDrive-Personal/OneDrive_Documents/Research/2023/memory_ccm/Figures/convergent_causal_map/boxplots'\n",
    ")\n"
   ]
  },
  {
   "cell_type": "code",
   "execution_count": null,
   "metadata": {},
   "outputs": [],
   "source": []
  },
  {
   "cell_type": "code",
   "execution_count": null,
   "metadata": {},
   "outputs": [],
   "source": []
  },
  {
   "cell_type": "code",
   "execution_count": null,
   "metadata": {},
   "outputs": [],
   "source": []
  },
  {
   "cell_type": "code",
   "execution_count": null,
   "metadata": {},
   "outputs": [],
   "source": []
  }
 ],
 "metadata": {
  "kernelspec": {
   "display_name": "Python_3.7.7_nimlab",
   "language": "python",
   "name": "python3"
  },
  "language_info": {
   "codemirror_mode": {
    "name": "ipython",
    "version": 3
   },
   "file_extension": ".py",
   "mimetype": "text/x-python",
   "name": "python",
   "nbconvert_exporter": "python",
   "pygments_lexer": "ipython3",
   "version": "3.11.10"
  }
 },
 "nbformat": 4,
 "nbformat_minor": 2
}
