{
 "cells": [
  {
   "cell_type": "code",
   "execution_count": 14,
   "metadata": {},
   "outputs": [],
   "source": [
    "out_dir = '/Users/cu135/Partners HealthCare Dropbox/Calvin Howard/studies/atrophy_seeds_2023/Figures/diagnostic_ability'"
   ]
  },
  {
   "cell_type": "code",
   "execution_count": 7,
   "metadata": {},
   "outputs": [],
   "source": [
    "csv_path = '/Users/cu135/Partners HealthCare Dropbox/Calvin Howard/studies/atrophy_seeds_2023/Figures/diagnostic_ability/auc_comparison.csv'"
   ]
  },
  {
   "cell_type": "markdown",
   "metadata": {},
   "source": [
    "Create Your Own Data PRN"
   ]
  },
  {
   "cell_type": "code",
   "execution_count": null,
   "metadata": {},
   "outputs": [],
   "source": [
    "data = {\n",
    "    'Frontal Lobe': {'CSF': 0.49, 'Surface': -0.03, 'GM': -0.14, 'WM': -0.07},\n",
    "    'Parietal Lobe': {'CSF': 0.39, 'Surface': -0.06, 'GM': -0.19, 'WM': -0.16},\n",
    "    'Occipital Lobe': {'CSF': 0.28, 'Surface': 0.03, 'GM': 0.21, 'WM': 0.27 },\n",
    "    'Temporal Lobe': {'CSF': 0.56, 'Surface': 0.57, 'GM': 0.25, 'WM': 0.07},\n",
    "    'Mesial Temporal Lobe': {'CSF': 0.66, 'Surface': 0.42, 'GM': 0.25, 'WM': 0.27},\n",
    "    'Cerebellum': {'CSF': 0.40, 'Surface': 0.01, 'GM': -.23, 'WM': -.16 },\n",
    "    'Ventriculomegaly': {'CSF': 0.78, 'Surface': 0.01, 'GM': -0.09, 'WM': 0.04 },\n",
    "}"
   ]
  },
  {
   "cell_type": "code",
   "execution_count": 11,
   "metadata": {},
   "outputs": [
    {
     "data": {
      "text/html": [
       "<div>\n",
       "<style scoped>\n",
       "    .dataframe tbody tr th:only-of-type {\n",
       "        vertical-align: middle;\n",
       "    }\n",
       "\n",
       "    .dataframe tbody tr th {\n",
       "        vertical-align: top;\n",
       "    }\n",
       "\n",
       "    .dataframe thead th {\n",
       "        text-align: right;\n",
       "    }\n",
       "</style>\n",
       "<table border=\"1\" class=\"dataframe\">\n",
       "  <thead>\n",
       "    <tr style=\"text-align: right;\">\n",
       "      <th></th>\n",
       "      <th>Segment</th>\n",
       "      <th>Leave All  In</th>\n",
       "      <th>Leave One Out</th>\n",
       "      <th>Validation</th>\n",
       "    </tr>\n",
       "  </thead>\n",
       "  <tbody>\n",
       "    <tr>\n",
       "      <th>0</th>\n",
       "      <td>CSF</td>\n",
       "      <td>0.80</td>\n",
       "      <td>0.91</td>\n",
       "      <td>0.90</td>\n",
       "    </tr>\n",
       "    <tr>\n",
       "      <th>1</th>\n",
       "      <td>GM</td>\n",
       "      <td>0.74</td>\n",
       "      <td>0.66</td>\n",
       "      <td>0.51</td>\n",
       "    </tr>\n",
       "    <tr>\n",
       "      <th>2</th>\n",
       "      <td>WM</td>\n",
       "      <td>0.71</td>\n",
       "      <td>0.70</td>\n",
       "      <td>0.52</td>\n",
       "    </tr>\n",
       "    <tr>\n",
       "      <th>3</th>\n",
       "      <td>CT</td>\n",
       "      <td>0.66</td>\n",
       "      <td>0.80</td>\n",
       "      <td>0.83</td>\n",
       "    </tr>\n",
       "    <tr>\n",
       "      <th>4</th>\n",
       "      <td>Clinician</td>\n",
       "      <td>0.76</td>\n",
       "      <td>0.48</td>\n",
       "      <td>0.56</td>\n",
       "    </tr>\n",
       "  </tbody>\n",
       "</table>\n",
       "</div>"
      ],
      "text/plain": [
       "     Segment  Leave All  In  Leave One Out  Validation\n",
       "0        CSF           0.80           0.91        0.90\n",
       "1         GM           0.74           0.66        0.51\n",
       "2         WM           0.71           0.70        0.52\n",
       "3         CT           0.66           0.80        0.83\n",
       "4  Clinician           0.76           0.48        0.56"
      ]
     },
     "execution_count": 11,
     "metadata": {},
     "output_type": "execute_result"
    }
   ],
   "source": [
    "import pandas as pd\n",
    "df = pd.read_csv(csv_path)\n",
    "df"
   ]
  },
  {
   "cell_type": "code",
   "execution_count": 12,
   "metadata": {},
   "outputs": [
    {
     "data": {
      "text/html": [
       "<div>\n",
       "<style scoped>\n",
       "    .dataframe tbody tr th:only-of-type {\n",
       "        vertical-align: middle;\n",
       "    }\n",
       "\n",
       "    .dataframe tbody tr th {\n",
       "        vertical-align: top;\n",
       "    }\n",
       "\n",
       "    .dataframe thead th {\n",
       "        text-align: right;\n",
       "    }\n",
       "</style>\n",
       "<table border=\"1\" class=\"dataframe\">\n",
       "  <thead>\n",
       "    <tr style=\"text-align: right;\">\n",
       "      <th></th>\n",
       "      <th>Segment</th>\n",
       "      <th>variable</th>\n",
       "      <th>value</th>\n",
       "    </tr>\n",
       "  </thead>\n",
       "  <tbody>\n",
       "    <tr>\n",
       "      <th>0</th>\n",
       "      <td>CSF</td>\n",
       "      <td>Leave All  In</td>\n",
       "      <td>0.80</td>\n",
       "    </tr>\n",
       "    <tr>\n",
       "      <th>1</th>\n",
       "      <td>GM</td>\n",
       "      <td>Leave All  In</td>\n",
       "      <td>0.74</td>\n",
       "    </tr>\n",
       "    <tr>\n",
       "      <th>2</th>\n",
       "      <td>WM</td>\n",
       "      <td>Leave All  In</td>\n",
       "      <td>0.71</td>\n",
       "    </tr>\n",
       "    <tr>\n",
       "      <th>3</th>\n",
       "      <td>CT</td>\n",
       "      <td>Leave All  In</td>\n",
       "      <td>0.66</td>\n",
       "    </tr>\n",
       "    <tr>\n",
       "      <th>4</th>\n",
       "      <td>Clinician</td>\n",
       "      <td>Leave All  In</td>\n",
       "      <td>0.76</td>\n",
       "    </tr>\n",
       "    <tr>\n",
       "      <th>5</th>\n",
       "      <td>CSF</td>\n",
       "      <td>Leave One Out</td>\n",
       "      <td>0.91</td>\n",
       "    </tr>\n",
       "    <tr>\n",
       "      <th>6</th>\n",
       "      <td>GM</td>\n",
       "      <td>Leave One Out</td>\n",
       "      <td>0.66</td>\n",
       "    </tr>\n",
       "    <tr>\n",
       "      <th>7</th>\n",
       "      <td>WM</td>\n",
       "      <td>Leave One Out</td>\n",
       "      <td>0.70</td>\n",
       "    </tr>\n",
       "    <tr>\n",
       "      <th>8</th>\n",
       "      <td>CT</td>\n",
       "      <td>Leave One Out</td>\n",
       "      <td>0.80</td>\n",
       "    </tr>\n",
       "    <tr>\n",
       "      <th>9</th>\n",
       "      <td>Clinician</td>\n",
       "      <td>Leave One Out</td>\n",
       "      <td>0.48</td>\n",
       "    </tr>\n",
       "    <tr>\n",
       "      <th>10</th>\n",
       "      <td>CSF</td>\n",
       "      <td>Validation</td>\n",
       "      <td>0.90</td>\n",
       "    </tr>\n",
       "    <tr>\n",
       "      <th>11</th>\n",
       "      <td>GM</td>\n",
       "      <td>Validation</td>\n",
       "      <td>0.51</td>\n",
       "    </tr>\n",
       "    <tr>\n",
       "      <th>12</th>\n",
       "      <td>WM</td>\n",
       "      <td>Validation</td>\n",
       "      <td>0.52</td>\n",
       "    </tr>\n",
       "    <tr>\n",
       "      <th>13</th>\n",
       "      <td>CT</td>\n",
       "      <td>Validation</td>\n",
       "      <td>0.83</td>\n",
       "    </tr>\n",
       "    <tr>\n",
       "      <th>14</th>\n",
       "      <td>Clinician</td>\n",
       "      <td>Validation</td>\n",
       "      <td>0.56</td>\n",
       "    </tr>\n",
       "  </tbody>\n",
       "</table>\n",
       "</div>"
      ],
      "text/plain": [
       "      Segment       variable  value\n",
       "0         CSF  Leave All  In   0.80\n",
       "1          GM  Leave All  In   0.74\n",
       "2          WM  Leave All  In   0.71\n",
       "3          CT  Leave All  In   0.66\n",
       "4   Clinician  Leave All  In   0.76\n",
       "5         CSF  Leave One Out   0.91\n",
       "6          GM  Leave One Out   0.66\n",
       "7          WM  Leave One Out   0.70\n",
       "8          CT  Leave One Out   0.80\n",
       "9   Clinician  Leave One Out   0.48\n",
       "10        CSF     Validation   0.90\n",
       "11         GM     Validation   0.51\n",
       "12         WM     Validation   0.52\n",
       "13         CT     Validation   0.83\n",
       "14  Clinician     Validation   0.56"
      ]
     },
     "execution_count": 12,
     "metadata": {},
     "output_type": "execute_result"
    }
   ],
   "source": [
    "# Melt the DataFrame to reshape it for plotting\n",
    "melted = pd.melt(df, id_vars=['Segment'])\n",
    "melted"
   ]
  },
  {
   "cell_type": "code",
   "execution_count": 16,
   "metadata": {},
   "outputs": [
    {
     "name": "stderr",
     "output_type": "stream",
     "text": [
      "/var/folders/82/946tskyj68b6htgvndtppmz80000gp/T/ipykernel_48198/2007920963.py:18: FutureWarning: \n",
      "\n",
      "The `ci` parameter is deprecated. Use `errorbar=None` for the same effect.\n",
      "\n",
      "  sns.lineplot(data=df, x='variable', y='value', hue='Segment', style='Segment',\n",
      "/var/folders/82/946tskyj68b6htgvndtppmz80000gp/T/ipykernel_48198/2007920963.py:18: UserWarning: The palette list has more values (10) than needed (5), which may not be intended.\n",
      "  sns.lineplot(data=df, x='variable', y='value', hue='Segment', style='Segment',\n",
      "/var/folders/82/946tskyj68b6htgvndtppmz80000gp/T/ipykernel_48198/2007920963.py:18: UserWarning: \n",
      "The markers list has fewer values (1) than needed (5) and will cycle, which may produce an uninterpretable plot.\n",
      "  sns.lineplot(data=df, x='variable', y='value', hue='Segment', style='Segment',\n"
     ]
    },
    {
     "data": {
      "image/png": "[encoded data removed]",
      "text/plain": [
       "<Figure size 720x432 with 1 Axes>"
      ]
     },
     "metadata": {
      "needs_background": "light"
     },
     "output_type": "display_data"
    }
   ],
   "source": [
    "import seaborn as sns\n",
    "import matplotlib.pyplot as plt\n",
    "import os\n",
    "\n",
    "# Assuming your dataframe is named 'df'\n",
    "df=melted\n",
    "\n",
    "# Calculate the median and quartiles for each group\n",
    "grouped = df.groupby(['Segment'])['variable']\n",
    "\n",
    "# Define color palette\n",
    "palette = sns.color_palette('tab10')\n",
    "X_ORDER = ['Leave All In', 'Leave One Out', 'Validation']\n",
    "\n",
    "\n",
    "# Plotting\n",
    "plt.figure(figsize=(10, 6))\n",
    "sns.lineplot(data=df, x='variable', y='value', hue='Segment', style='Segment', \n",
    "             markers='o', dashes=False, palette=palette, hue_order=None, style_order=None, \n",
    "             units=None, estimator='mean', ci=None, sort=True, err_style=None, err_kws=None, legend='full', ax=None)\n",
    "\n",
    "plt.legend(title='Atrophy Method', loc='upper right')\n",
    "plt.title('Line Plot of Atrophy Method across Smooth Levels with IQR Error Bars')\n",
    "plt.xlabel('Smooth')\n",
    "plt.ylabel('Value')\n",
    "plt.tight_layout()\n",
    "sns.despine()\n",
    "plt.grid(False)\n",
    "plt.savefig(os.path.join(out_dir, 'error_plot.svg'))\n",
    "plt.show()\n"
   ]
  },
  {
   "cell_type": "markdown",
   "metadata": {},
   "source": [
    "Exptl"
   ]
  }
 ],
 "metadata": {
  "kernelspec": {
   "display_name": "nimlab_py310",
   "language": "python",
   "name": "python3"
  },
  "language_info": {
   "codemirror_mode": {
    "name": "ipython",
    "version": 3
   },
   "file_extension": ".py",
   "mimetype": "text/x-python",
   "name": "python",
   "nbconvert_exporter": "python",
   "pygments_lexer": "ipython3",
   "version": "3.10.8"
  }
 },
 "nbformat": 4,
 "nbformat_minor": 2
}
